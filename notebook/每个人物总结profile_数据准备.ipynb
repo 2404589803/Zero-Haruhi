{
  "nbformat": 4,
  "nbformat_minor": 0,
  "metadata": {
    "colab": {
      "provenance": [],
      "authorship_tag": "ABX9TyPgYdL+e1zyFbckHQ4ebTe3",
      "include_colab_link": true
    },
    "kernelspec": {
      "name": "python3",
      "display_name": "Python 3"
    },
    "language_info": {
      "name": "python"
    },
    "widgets": {
      "application/vnd.jupyter.widget-state+json": {
        "23b8bce23d0343bd964dde026e64ee3c": {
          "model_module": "@jupyter-widgets/controls",
          "model_name": "HBoxModel",
          "model_module_version": "1.5.0",
          "state": {
            "_dom_classes": [],
            "_model_module": "@jupyter-widgets/controls",
            "_model_module_version": "1.5.0",
            "_model_name": "HBoxModel",
            "_view_count": null,
            "_view_module": "@jupyter-widgets/controls",
            "_view_module_version": "1.5.0",
            "_view_name": "HBoxView",
            "box_style": "",
            "children": [
              "IPY_MODEL_8ece3c0d3dae4b22a7998fd2d370e1c5",
              "IPY_MODEL_b5762ddf35f84199a07947440ef717c0",
              "IPY_MODEL_cdc2343b4a2742b693e965e82818c922"
            ],
            "layout": "IPY_MODEL_7badf4988d53467dbc91a296ea978d27"
          }
        },
        "8ece3c0d3dae4b22a7998fd2d370e1c5": {
          "model_module": "@jupyter-widgets/controls",
          "model_name": "HTMLModel",
          "model_module_version": "1.5.0",
          "state": {
            "_dom_classes": [],
            "_model_module": "@jupyter-widgets/controls",
            "_model_module_version": "1.5.0",
            "_model_name": "HTMLModel",
            "_view_count": null,
            "_view_module": "@jupyter-widgets/controls",
            "_view_module_version": "1.5.0",
            "_view_name": "HTMLView",
            "description": "",
            "description_tooltip": null,
            "layout": "IPY_MODEL_946ab2eaa59449238942606c5af9cfed",
            "placeholder": "​",
            "style": "IPY_MODEL_56a256aa7f524e28a63bed85ce160407",
            "value": "Downloading data: 100%"
          }
        },
        "b5762ddf35f84199a07947440ef717c0": {
          "model_module": "@jupyter-widgets/controls",
          "model_name": "FloatProgressModel",
          "model_module_version": "1.5.0",
          "state": {
            "_dom_classes": [],
            "_model_module": "@jupyter-widgets/controls",
            "_model_module_version": "1.5.0",
            "_model_name": "FloatProgressModel",
            "_view_count": null,
            "_view_module": "@jupyter-widgets/controls",
            "_view_module_version": "1.5.0",
            "_view_name": "ProgressView",
            "bar_style": "success",
            "description": "",
            "description_tooltip": null,
            "layout": "IPY_MODEL_fcb90eec39654c24ab39c6c80db109ac",
            "max": 581308517,
            "min": 0,
            "orientation": "horizontal",
            "style": "IPY_MODEL_b5b19ab415644ed4bd878b3f5d529da6",
            "value": 581308517
          }
        },
        "cdc2343b4a2742b693e965e82818c922": {
          "model_module": "@jupyter-widgets/controls",
          "model_name": "HTMLModel",
          "model_module_version": "1.5.0",
          "state": {
            "_dom_classes": [],
            "_model_module": "@jupyter-widgets/controls",
            "_model_module_version": "1.5.0",
            "_model_name": "HTMLModel",
            "_view_count": null,
            "_view_module": "@jupyter-widgets/controls",
            "_view_module_version": "1.5.0",
            "_view_name": "HTMLView",
            "description": "",
            "description_tooltip": null,
            "layout": "IPY_MODEL_e9115d6f0c1e4f3aad6e35f0a1010eb3",
            "placeholder": "​",
            "style": "IPY_MODEL_06528397e43941f68bfde55cee6694d9",
            "value": " 581M/581M [00:14&lt;00:00, 50.7MB/s]"
          }
        },
        "7badf4988d53467dbc91a296ea978d27": {
          "model_module": "@jupyter-widgets/base",
          "model_name": "LayoutModel",
          "model_module_version": "1.2.0",
          "state": {
            "_model_module": "@jupyter-widgets/base",
            "_model_module_version": "1.2.0",
            "_model_name": "LayoutModel",
            "_view_count": null,
            "_view_module": "@jupyter-widgets/base",
            "_view_module_version": "1.2.0",
            "_view_name": "LayoutView",
            "align_content": null,
            "align_items": null,
            "align_self": null,
            "border": null,
            "bottom": null,
            "display": null,
            "flex": null,
            "flex_flow": null,
            "grid_area": null,
            "grid_auto_columns": null,
            "grid_auto_flow": null,
            "grid_auto_rows": null,
            "grid_column": null,
            "grid_gap": null,
            "grid_row": null,
            "grid_template_areas": null,
            "grid_template_columns": null,
            "grid_template_rows": null,
            "height": null,
            "justify_content": null,
            "justify_items": null,
            "left": null,
            "margin": null,
            "max_height": null,
            "max_width": null,
            "min_height": null,
            "min_width": null,
            "object_fit": null,
            "object_position": null,
            "order": null,
            "overflow": null,
            "overflow_x": null,
            "overflow_y": null,
            "padding": null,
            "right": null,
            "top": null,
            "visibility": null,
            "width": null
          }
        },
        "946ab2eaa59449238942606c5af9cfed": {
          "model_module": "@jupyter-widgets/base",
          "model_name": "LayoutModel",
          "model_module_version": "1.2.0",
          "state": {
            "_model_module": "@jupyter-widgets/base",
            "_model_module_version": "1.2.0",
            "_model_name": "LayoutModel",
            "_view_count": null,
            "_view_module": "@jupyter-widgets/base",
            "_view_module_version": "1.2.0",
            "_view_name": "LayoutView",
            "align_content": null,
            "align_items": null,
            "align_self": null,
            "border": null,
            "bottom": null,
            "display": null,
            "flex": null,
            "flex_flow": null,
            "grid_area": null,
            "grid_auto_columns": null,
            "grid_auto_flow": null,
            "grid_auto_rows": null,
            "grid_column": null,
            "grid_gap": null,
            "grid_row": null,
            "grid_template_areas": null,
            "grid_template_columns": null,
            "grid_template_rows": null,
            "height": null,
            "justify_content": null,
            "justify_items": null,
            "left": null,
            "margin": null,
            "max_height": null,
            "max_width": null,
            "min_height": null,
            "min_width": null,
            "object_fit": null,
            "object_position": null,
            "order": null,
            "overflow": null,
            "overflow_x": null,
            "overflow_y": null,
            "padding": null,
            "right": null,
            "top": null,
            "visibility": null,
            "width": null
          }
        },
        "56a256aa7f524e28a63bed85ce160407": {
          "model_module": "@jupyter-widgets/controls",
          "model_name": "DescriptionStyleModel",
          "model_module_version": "1.5.0",
          "state": {
            "_model_module": "@jupyter-widgets/controls",
            "_model_module_version": "1.5.0",
            "_model_name": "DescriptionStyleModel",
            "_view_count": null,
            "_view_module": "@jupyter-widgets/base",
            "_view_module_version": "1.2.0",
            "_view_name": "StyleView",
            "description_width": ""
          }
        },
        "fcb90eec39654c24ab39c6c80db109ac": {
          "model_module": "@jupyter-widgets/base",
          "model_name": "LayoutModel",
          "model_module_version": "1.2.0",
          "state": {
            "_model_module": "@jupyter-widgets/base",
            "_model_module_version": "1.2.0",
            "_model_name": "LayoutModel",
            "_view_count": null,
            "_view_module": "@jupyter-widgets/base",
            "_view_module_version": "1.2.0",
            "_view_name": "LayoutView",
            "align_content": null,
            "align_items": null,
            "align_self": null,
            "border": null,
            "bottom": null,
            "display": null,
            "flex": null,
            "flex_flow": null,
            "grid_area": null,
            "grid_auto_columns": null,
            "grid_auto_flow": null,
            "grid_auto_rows": null,
            "grid_column": null,
            "grid_gap": null,
            "grid_row": null,
            "grid_template_areas": null,
            "grid_template_columns": null,
            "grid_template_rows": null,
            "height": null,
            "justify_content": null,
            "justify_items": null,
            "left": null,
            "margin": null,
            "max_height": null,
            "max_width": null,
            "min_height": null,
            "min_width": null,
            "object_fit": null,
            "object_position": null,
            "order": null,
            "overflow": null,
            "overflow_x": null,
            "overflow_y": null,
            "padding": null,
            "right": null,
            "top": null,
            "visibility": null,
            "width": null
          }
        },
        "b5b19ab415644ed4bd878b3f5d529da6": {
          "model_module": "@jupyter-widgets/controls",
          "model_name": "ProgressStyleModel",
          "model_module_version": "1.5.0",
          "state": {
            "_model_module": "@jupyter-widgets/controls",
            "_model_module_version": "1.5.0",
            "_model_name": "ProgressStyleModel",
            "_view_count": null,
            "_view_module": "@jupyter-widgets/base",
            "_view_module_version": "1.2.0",
            "_view_name": "StyleView",
            "bar_color": null,
            "description_width": ""
          }
        },
        "e9115d6f0c1e4f3aad6e35f0a1010eb3": {
          "model_module": "@jupyter-widgets/base",
          "model_name": "LayoutModel",
          "model_module_version": "1.2.0",
          "state": {
            "_model_module": "@jupyter-widgets/base",
            "_model_module_version": "1.2.0",
            "_model_name": "LayoutModel",
            "_view_count": null,
            "_view_module": "@jupyter-widgets/base",
            "_view_module_version": "1.2.0",
            "_view_name": "LayoutView",
            "align_content": null,
            "align_items": null,
            "align_self": null,
            "border": null,
            "bottom": null,
            "display": null,
            "flex": null,
            "flex_flow": null,
            "grid_area": null,
            "grid_auto_columns": null,
            "grid_auto_flow": null,
            "grid_auto_rows": null,
            "grid_column": null,
            "grid_gap": null,
            "grid_row": null,
            "grid_template_areas": null,
            "grid_template_columns": null,
            "grid_template_rows": null,
            "height": null,
            "justify_content": null,
            "justify_items": null,
            "left": null,
            "margin": null,
            "max_height": null,
            "max_width": null,
            "min_height": null,
            "min_width": null,
            "object_fit": null,
            "object_position": null,
            "order": null,
            "overflow": null,
            "overflow_x": null,
            "overflow_y": null,
            "padding": null,
            "right": null,
            "top": null,
            "visibility": null,
            "width": null
          }
        },
        "06528397e43941f68bfde55cee6694d9": {
          "model_module": "@jupyter-widgets/controls",
          "model_name": "DescriptionStyleModel",
          "model_module_version": "1.5.0",
          "state": {
            "_model_module": "@jupyter-widgets/controls",
            "_model_module_version": "1.5.0",
            "_model_name": "DescriptionStyleModel",
            "_view_count": null,
            "_view_module": "@jupyter-widgets/base",
            "_view_module_version": "1.2.0",
            "_view_name": "StyleView",
            "description_width": ""
          }
        },
        "4e1b70fc4b2942f5ae109a67d0ff03a6": {
          "model_module": "@jupyter-widgets/controls",
          "model_name": "HBoxModel",
          "model_module_version": "1.5.0",
          "state": {
            "_dom_classes": [],
            "_model_module": "@jupyter-widgets/controls",
            "_model_module_version": "1.5.0",
            "_model_name": "HBoxModel",
            "_view_count": null,
            "_view_module": "@jupyter-widgets/controls",
            "_view_module_version": "1.5.0",
            "_view_name": "HBoxView",
            "box_style": "",
            "children": [
              "IPY_MODEL_853c57c859444a8cbed3f750861cef7b",
              "IPY_MODEL_0d4394b4a9a44e279a7abe5fdf7f7dca",
              "IPY_MODEL_8650a298d31f4262bd85e898b4ac8caa"
            ],
            "layout": "IPY_MODEL_45d36d3da0af4b2a8482d4fc045d71a8"
          }
        },
        "853c57c859444a8cbed3f750861cef7b": {
          "model_module": "@jupyter-widgets/controls",
          "model_name": "HTMLModel",
          "model_module_version": "1.5.0",
          "state": {
            "_dom_classes": [],
            "_model_module": "@jupyter-widgets/controls",
            "_model_module_version": "1.5.0",
            "_model_name": "HTMLModel",
            "_view_count": null,
            "_view_module": "@jupyter-widgets/controls",
            "_view_module_version": "1.5.0",
            "_view_name": "HTMLView",
            "description": "",
            "description_tooltip": null,
            "layout": "IPY_MODEL_e246c8a658be4a62929295886a3ed16e",
            "placeholder": "​",
            "style": "IPY_MODEL_718f7d6036e54801878af141862200ed",
            "value": "Generating train split: "
          }
        },
        "0d4394b4a9a44e279a7abe5fdf7f7dca": {
          "model_module": "@jupyter-widgets/controls",
          "model_name": "FloatProgressModel",
          "model_module_version": "1.5.0",
          "state": {
            "_dom_classes": [],
            "_model_module": "@jupyter-widgets/controls",
            "_model_module_version": "1.5.0",
            "_model_name": "FloatProgressModel",
            "_view_count": null,
            "_view_module": "@jupyter-widgets/controls",
            "_view_module_version": "1.5.0",
            "_view_name": "ProgressView",
            "bar_style": "success",
            "description": "",
            "description_tooltip": null,
            "layout": "IPY_MODEL_24fc5184ef4e4287905a0d1f38cae2a6",
            "max": 1,
            "min": 0,
            "orientation": "horizontal",
            "style": "IPY_MODEL_256cd75ba63140a2b9700ee91222bf18",
            "value": 1
          }
        },
        "8650a298d31f4262bd85e898b4ac8caa": {
          "model_module": "@jupyter-widgets/controls",
          "model_name": "HTMLModel",
          "model_module_version": "1.5.0",
          "state": {
            "_dom_classes": [],
            "_model_module": "@jupyter-widgets/controls",
            "_model_module_version": "1.5.0",
            "_model_name": "HTMLModel",
            "_view_count": null,
            "_view_module": "@jupyter-widgets/controls",
            "_view_module_version": "1.5.0",
            "_view_name": "HTMLView",
            "description": "",
            "description_tooltip": null,
            "layout": "IPY_MODEL_5af0984ac2be4cf7a660eb523d04f695",
            "placeholder": "​",
            "style": "IPY_MODEL_614390b9f65f4984a76268a6cb869f75",
            "value": " 141985/0 [00:05&lt;00:00, 20354.46 examples/s]"
          }
        },
        "45d36d3da0af4b2a8482d4fc045d71a8": {
          "model_module": "@jupyter-widgets/base",
          "model_name": "LayoutModel",
          "model_module_version": "1.2.0",
          "state": {
            "_model_module": "@jupyter-widgets/base",
            "_model_module_version": "1.2.0",
            "_model_name": "LayoutModel",
            "_view_count": null,
            "_view_module": "@jupyter-widgets/base",
            "_view_module_version": "1.2.0",
            "_view_name": "LayoutView",
            "align_content": null,
            "align_items": null,
            "align_self": null,
            "border": null,
            "bottom": null,
            "display": null,
            "flex": null,
            "flex_flow": null,
            "grid_area": null,
            "grid_auto_columns": null,
            "grid_auto_flow": null,
            "grid_auto_rows": null,
            "grid_column": null,
            "grid_gap": null,
            "grid_row": null,
            "grid_template_areas": null,
            "grid_template_columns": null,
            "grid_template_rows": null,
            "height": null,
            "justify_content": null,
            "justify_items": null,
            "left": null,
            "margin": null,
            "max_height": null,
            "max_width": null,
            "min_height": null,
            "min_width": null,
            "object_fit": null,
            "object_position": null,
            "order": null,
            "overflow": null,
            "overflow_x": null,
            "overflow_y": null,
            "padding": null,
            "right": null,
            "top": null,
            "visibility": null,
            "width": null
          }
        },
        "e246c8a658be4a62929295886a3ed16e": {
          "model_module": "@jupyter-widgets/base",
          "model_name": "LayoutModel",
          "model_module_version": "1.2.0",
          "state": {
            "_model_module": "@jupyter-widgets/base",
            "_model_module_version": "1.2.0",
            "_model_name": "LayoutModel",
            "_view_count": null,
            "_view_module": "@jupyter-widgets/base",
            "_view_module_version": "1.2.0",
            "_view_name": "LayoutView",
            "align_content": null,
            "align_items": null,
            "align_self": null,
            "border": null,
            "bottom": null,
            "display": null,
            "flex": null,
            "flex_flow": null,
            "grid_area": null,
            "grid_auto_columns": null,
            "grid_auto_flow": null,
            "grid_auto_rows": null,
            "grid_column": null,
            "grid_gap": null,
            "grid_row": null,
            "grid_template_areas": null,
            "grid_template_columns": null,
            "grid_template_rows": null,
            "height": null,
            "justify_content": null,
            "justify_items": null,
            "left": null,
            "margin": null,
            "max_height": null,
            "max_width": null,
            "min_height": null,
            "min_width": null,
            "object_fit": null,
            "object_position": null,
            "order": null,
            "overflow": null,
            "overflow_x": null,
            "overflow_y": null,
            "padding": null,
            "right": null,
            "top": null,
            "visibility": null,
            "width": null
          }
        },
        "718f7d6036e54801878af141862200ed": {
          "model_module": "@jupyter-widgets/controls",
          "model_name": "DescriptionStyleModel",
          "model_module_version": "1.5.0",
          "state": {
            "_model_module": "@jupyter-widgets/controls",
            "_model_module_version": "1.5.0",
            "_model_name": "DescriptionStyleModel",
            "_view_count": null,
            "_view_module": "@jupyter-widgets/base",
            "_view_module_version": "1.2.0",
            "_view_name": "StyleView",
            "description_width": ""
          }
        },
        "24fc5184ef4e4287905a0d1f38cae2a6": {
          "model_module": "@jupyter-widgets/base",
          "model_name": "LayoutModel",
          "model_module_version": "1.2.0",
          "state": {
            "_model_module": "@jupyter-widgets/base",
            "_model_module_version": "1.2.0",
            "_model_name": "LayoutModel",
            "_view_count": null,
            "_view_module": "@jupyter-widgets/base",
            "_view_module_version": "1.2.0",
            "_view_name": "LayoutView",
            "align_content": null,
            "align_items": null,
            "align_self": null,
            "border": null,
            "bottom": null,
            "display": null,
            "flex": null,
            "flex_flow": null,
            "grid_area": null,
            "grid_auto_columns": null,
            "grid_auto_flow": null,
            "grid_auto_rows": null,
            "grid_column": null,
            "grid_gap": null,
            "grid_row": null,
            "grid_template_areas": null,
            "grid_template_columns": null,
            "grid_template_rows": null,
            "height": null,
            "justify_content": null,
            "justify_items": null,
            "left": null,
            "margin": null,
            "max_height": null,
            "max_width": null,
            "min_height": null,
            "min_width": null,
            "object_fit": null,
            "object_position": null,
            "order": null,
            "overflow": null,
            "overflow_x": null,
            "overflow_y": null,
            "padding": null,
            "right": null,
            "top": null,
            "visibility": null,
            "width": "20px"
          }
        },
        "256cd75ba63140a2b9700ee91222bf18": {
          "model_module": "@jupyter-widgets/controls",
          "model_name": "ProgressStyleModel",
          "model_module_version": "1.5.0",
          "state": {
            "_model_module": "@jupyter-widgets/controls",
            "_model_module_version": "1.5.0",
            "_model_name": "ProgressStyleModel",
            "_view_count": null,
            "_view_module": "@jupyter-widgets/base",
            "_view_module_version": "1.2.0",
            "_view_name": "StyleView",
            "bar_color": null,
            "description_width": ""
          }
        },
        "5af0984ac2be4cf7a660eb523d04f695": {
          "model_module": "@jupyter-widgets/base",
          "model_name": "LayoutModel",
          "model_module_version": "1.2.0",
          "state": {
            "_model_module": "@jupyter-widgets/base",
            "_model_module_version": "1.2.0",
            "_model_name": "LayoutModel",
            "_view_count": null,
            "_view_module": "@jupyter-widgets/base",
            "_view_module_version": "1.2.0",
            "_view_name": "LayoutView",
            "align_content": null,
            "align_items": null,
            "align_self": null,
            "border": null,
            "bottom": null,
            "display": null,
            "flex": null,
            "flex_flow": null,
            "grid_area": null,
            "grid_auto_columns": null,
            "grid_auto_flow": null,
            "grid_auto_rows": null,
            "grid_column": null,
            "grid_gap": null,
            "grid_row": null,
            "grid_template_areas": null,
            "grid_template_columns": null,
            "grid_template_rows": null,
            "height": null,
            "justify_content": null,
            "justify_items": null,
            "left": null,
            "margin": null,
            "max_height": null,
            "max_width": null,
            "min_height": null,
            "min_width": null,
            "object_fit": null,
            "object_position": null,
            "order": null,
            "overflow": null,
            "overflow_x": null,
            "overflow_y": null,
            "padding": null,
            "right": null,
            "top": null,
            "visibility": null,
            "width": null
          }
        },
        "614390b9f65f4984a76268a6cb869f75": {
          "model_module": "@jupyter-widgets/controls",
          "model_name": "DescriptionStyleModel",
          "model_module_version": "1.5.0",
          "state": {
            "_model_module": "@jupyter-widgets/controls",
            "_model_module_version": "1.5.0",
            "_model_name": "DescriptionStyleModel",
            "_view_count": null,
            "_view_module": "@jupyter-widgets/base",
            "_view_module_version": "1.2.0",
            "_view_name": "StyleView",
            "description_width": ""
          }
        }
      }
    }
  },
  "cells": [
    {
      "cell_type": "markdown",
      "metadata": {
        "id": "view-in-github",
        "colab_type": "text"
      },
      "source": [
        "<a href=\"https://colab.research.google.com/github/LC1332/Zero-Haruhi/blob/main/notebook/%E6%AF%8F%E4%B8%AA%E4%BA%BA%E7%89%A9%E6%80%BB%E7%BB%93profile_%E6%95%B0%E6%8D%AE%E5%87%86%E5%A4%87.ipynb\" target=\"_parent\"><img src=\"https://colab.research.google.com/assets/colab-badge.svg\" alt=\"Open In Colab\"/></a>"
      ]
    },
    {
      "cell_type": "markdown",
      "source": [
        "- [ ] 每个人获取前中后期的profile并抽取2000个token\n",
        "- [ ] 连接task message 形成一次性的prompt"
      ],
      "metadata": {
        "id": "obWYLiOUx94l"
      }
    },
    {
      "cell_type": "code",
      "execution_count": null,
      "metadata": {
        "id": "7Scyhawtx39B"
      },
      "outputs": [],
      "source": [
        "def package_prefix_prompt( role_name, novel_name ):\n",
        "    prefix_prompt = f\"\"\"请帮助我为小说{novel_name}中的 {role_name} 角色总结他的人物设定\n",
        "\n",
        "给定人物{role_name}的对话数据，请为我总结{role_name}的人物设定、人物特点以及语言风格，并输出成json格式\"\"\"\n",
        "\n",
        "    return prefix_prompt\n",
        "\n",
        "def package_suffix_prompt( role_name , novel_name ):\n",
        "    suffix_prompt = f\"\"\"现在让我们开始总结小说{novel_name} 中 {role_name} 的角色信息\n",
        "\n",
        "Let's think it step-by-step\n",
        "\n",
        "- 在analysis字段中，先对人物设定、人物特定以及语言风格进行分析\n",
        "- 在'经历', '身份', '性格特点', '经典台词', '恋爱状态', '世界设定', '爱好', '不喜欢的事情',  '语言风格',  '口头禅', '技能和能力', '武器', '人物关系' 中选取最相关的5项，输出到most_related_items字段中\n",
        "- 在claim字段中输出 \"我将从dialogue中总结角色的a,b,c,d,e信息\", a-e为most_related_items字段中的item\n",
        "- 输出一个attributes字段，在这个字段下，将a,b,c,d,e的信息用json格式进行输出\n",
        "\n",
        "\"\"\"\n",
        "\n",
        "    return suffix_prompt"
      ]
    },
    {
      "cell_type": "code",
      "source": [
        "attribute_detail = \"\"\"### possible-items\n",
        "- 经历，从对话中总结角色的经历\n",
        "如\"张东升是一个小城市少年宫的代课数学老师，因爱情来到妻子所在地工作。妻子执意离婚，张东升为逼迫妻子放弃离婚念头，将岳父母推下景区山崖，此行为被三个少年无意中拍摄到。\"\n",
        "- 身份\n",
        "如\"永安当的小伙计，后成为新安当的大老板，成为渝州巨贾\"\n",
        "- 恋爱状态\n",
        "如\"已婚，但妻子执意离婚\", \"对萧炎有特殊好感\"\n",
        "- 性格特点 :\n",
        "如\"智慧与信仰坚定，虽有时显得懦弱，但内心坚韧不拔；对弟子慈爱，尤其对孙悟空有时严厉，但出于对其成长的期望；对妖怪能施以慈悲，但也会坚持正义\"\n",
        "- 经典台词, 提取对话中能够显著反应人物个性的台词\n",
        "如\"['为了蜀山，我可以放弃一切。', '紫萱，我会守护你一生一世。', '剑出如龙，斩尽妖邪！']\"\n",
        "- 世界设定\n",
        "如\"故事在提瓦特大陆上展开，该世界分成七个国家，每个国家分别以一种元素为主题，并由对应元素的神明所分管。\"\n",
        "- 技能和能力\n",
        "如\"葵花点穴手、葵花解穴手、轻功（白三娘传授，天下第二）、隔空打穴、九九还阳掌（对佟湘玉使过）\",\"血液具有特殊力量，能驱赶食人花\",\"孤傲冷漠，有王者之霸气，好独来独往，对紫萱有柔情似水的一面，对景天有师父般的关怀\"\n",
        "- 爱好\n",
        "如\"古董，自由自在的生活，剑仙的传说\"\n",
        "\"\"\""
      ],
      "metadata": {
        "id": "d1UArGhv0biG"
      },
      "execution_count": null,
      "outputs": []
    },
    {
      "cell_type": "markdown",
      "source": [
        "# 把角色打包成 list of str"
      ],
      "metadata": {
        "id": "GFPrhUn82f4I"
      }
    },
    {
      "cell_type": "code",
      "source": [
        "!pip install -q tiktoken datasets"
      ],
      "metadata": {
        "colab": {
          "base_uri": "https://localhost:8080/"
        },
        "id": "iV65xAMq2q-q",
        "outputId": "3a9fc6d3-3bf9-47a0-9053-9bb63006b7b4"
      },
      "execution_count": null,
      "outputs": [
        {
          "output_type": "stream",
          "name": "stdout",
          "text": [
            "\u001b[2K     \u001b[90m━━━━━━━━━━━━━━━━━━━━━━━━━━━━━━━━━━━━━━━━\u001b[0m \u001b[32m1.8/1.8 MB\u001b[0m \u001b[31m7.9 MB/s\u001b[0m eta \u001b[36m0:00:00\u001b[0m\n",
            "\u001b[2K     \u001b[90m━━━━━━━━━━━━━━━━━━━━━━━━━━━━━━━━━━━━━━━━\u001b[0m \u001b[32m536.6/536.6 kB\u001b[0m \u001b[31m37.0 MB/s\u001b[0m eta \u001b[36m0:00:00\u001b[0m\n",
            "\u001b[2K     \u001b[90m━━━━━━━━━━━━━━━━━━━━━━━━━━━━━━━━━━━━━━━━\u001b[0m \u001b[32m38.3/38.3 MB\u001b[0m \u001b[31m21.8 MB/s\u001b[0m eta \u001b[36m0:00:00\u001b[0m\n",
            "\u001b[2K     \u001b[90m━━━━━━━━━━━━━━━━━━━━━━━━━━━━━━━━━━━━━━━━\u001b[0m \u001b[32m116.3/116.3 kB\u001b[0m \u001b[31m12.2 MB/s\u001b[0m eta \u001b[36m0:00:00\u001b[0m\n",
            "\u001b[2K     \u001b[90m━━━━━━━━━━━━━━━━━━━━━━━━━━━━━━━━━━━━━━━━\u001b[0m \u001b[32m134.8/134.8 kB\u001b[0m \u001b[31m14.0 MB/s\u001b[0m eta \u001b[36m0:00:00\u001b[0m\n",
            "\u001b[?25h\u001b[31mERROR: pip's dependency resolver does not currently take into account all the packages that are installed. This behaviour is the source of the following dependency conflicts.\n",
            "llmx 0.0.15a0 requires cohere, which is not installed.\n",
            "llmx 0.0.15a0 requires openai, which is not installed.\n",
            "ibis-framework 7.1.0 requires pyarrow<15,>=2, but you have pyarrow 15.0.0 which is incompatible.\u001b[0m\u001b[31m\n",
            "\u001b[0m"
          ]
        }
      ]
    },
    {
      "cell_type": "code",
      "source": [
        "from datasets import load_dataset\n",
        "\n",
        "dataset = load_dataset(\"silk-road/50-Chinese-Novel-Characters\")"
      ],
      "metadata": {
        "colab": {
          "base_uri": "https://localhost:8080/",
          "height": 168,
          "referenced_widgets": [
            "23b8bce23d0343bd964dde026e64ee3c",
            "8ece3c0d3dae4b22a7998fd2d370e1c5",
            "b5762ddf35f84199a07947440ef717c0",
            "cdc2343b4a2742b693e965e82818c922",
            "7badf4988d53467dbc91a296ea978d27",
            "946ab2eaa59449238942606c5af9cfed",
            "56a256aa7f524e28a63bed85ce160407",
            "fcb90eec39654c24ab39c6c80db109ac",
            "b5b19ab415644ed4bd878b3f5d529da6",
            "e9115d6f0c1e4f3aad6e35f0a1010eb3",
            "06528397e43941f68bfde55cee6694d9",
            "4e1b70fc4b2942f5ae109a67d0ff03a6",
            "853c57c859444a8cbed3f750861cef7b",
            "0d4394b4a9a44e279a7abe5fdf7f7dca",
            "8650a298d31f4262bd85e898b4ac8caa",
            "45d36d3da0af4b2a8482d4fc045d71a8",
            "e246c8a658be4a62929295886a3ed16e",
            "718f7d6036e54801878af141862200ed",
            "24fc5184ef4e4287905a0d1f38cae2a6",
            "256cd75ba63140a2b9700ee91222bf18",
            "5af0984ac2be4cf7a660eb523d04f695",
            "614390b9f65f4984a76268a6cb869f75"
          ]
        },
        "id": "0Xq-D8Xl2lYv",
        "outputId": "f3d6ea19-090f-4b30-e9fb-063ced8ff538"
      },
      "execution_count": null,
      "outputs": [
        {
          "output_type": "stream",
          "name": "stderr",
          "text": [
            "/usr/local/lib/python3.10/dist-packages/huggingface_hub/utils/_token.py:80: UserWarning: \n",
            "Access to the secret `HF_TOKEN` has not been granted on this notebook.\n",
            "You will not be requested again.\n",
            "Please restart the session if you want to be prompted again.\n",
            "  warnings.warn(\n"
          ]
        },
        {
          "output_type": "display_data",
          "data": {
            "text/plain": [
              "Downloading data:   0%|          | 0.00/581M [00:00<?, ?B/s]"
            ],
            "application/vnd.jupyter.widget-view+json": {
              "version_major": 2,
              "version_minor": 0,
              "model_id": "23b8bce23d0343bd964dde026e64ee3c"
            }
          },
          "metadata": {}
        },
        {
          "output_type": "display_data",
          "data": {
            "text/plain": [
              "Generating train split: 0 examples [00:00, ? examples/s]"
            ],
            "application/vnd.jupyter.widget-view+json": {
              "version_major": 2,
              "version_minor": 0,
              "model_id": "4e1b70fc4b2942f5ae109a67d0ff03a6"
            }
          },
          "metadata": {}
        }
      ]
    },
    {
      "cell_type": "code",
      "source": [
        "novel_list = []\n",
        "\n",
        "novel2roles = {}\n",
        "\n",
        "role2datas = {}\n",
        "\n",
        "from tqdm import tqdm\n",
        "for data in tqdm(dataset['train']):\n",
        "    novel = data['book']\n",
        "    role = data['role']\n",
        "    if novel not in novel_list:\n",
        "        novel_list.append(novel)\n",
        "\n",
        "    if novel not in novel2roles:\n",
        "        novel2roles[novel] = []\n",
        "\n",
        "    if role not in novel2roles[novel]:\n",
        "        novel2roles[novel].append(role)\n",
        "\n",
        "    role_tuple = (novel, role)\n",
        "\n",
        "    if role_tuple not in role2datas:\n",
        "        role2datas[role_tuple] = []\n",
        "\n",
        "    role2datas[role_tuple].append(data)"
      ],
      "metadata": {
        "colab": {
          "base_uri": "https://localhost:8080/"
        },
        "id": "4lwbb2mB2qFU",
        "outputId": "cc8ad291-b396-47de-b24e-3a704a60e7cf"
      },
      "execution_count": null,
      "outputs": [
        {
          "output_type": "stream",
          "name": "stderr",
          "text": [
            "100%|██████████| 141985/141985 [00:26<00:00, 5294.85it/s]\n"
          ]
        }
      ]
    },
    {
      "cell_type": "code",
      "source": [
        "def conv2story( role, conversations ):\n",
        "    for conv in conversations:\n",
        "        conv[\"value\"] = conv[\"value\"].replace(\"\\n\", \"  \")\n",
        "    lines = [conv[\"value\"] if conv[\"from\"] == \"human\" else role + \": \" + conv[\"value\"] for conv in conversations]\n",
        "    return \"\\n\".join(lines)"
      ],
      "metadata": {
        "id": "r3V5a5yT26AO"
      },
      "execution_count": null,
      "outputs": []
    },
    {
      "cell_type": "code",
      "source": [
        "for novel, role in role2datas.keys():\n",
        "    print(novel, role)\n",
        "    datas = role2datas[(novel, role)]\n",
        "    paired_story_index = [(conv2story(role, data[\"conversations\"]), data[\"index\"]) for data in datas]\n",
        "    # Sort the pairs based on indexs (the second element of each pair)\n",
        "    paired_story_index = sorted(paired_story_index, key=lambda x: x[1])\n",
        "\n",
        "    sorted_stories = [pair[0] for pair in paired_story_index]\n",
        "    break"
      ],
      "metadata": {
        "colab": {
          "base_uri": "https://localhost:8080/"
        },
        "id": "4LldvtXW3kz0",
        "outputId": "4692c071-a63f-4860-df6f-9c85b4499c4c"
      },
      "execution_count": null,
      "outputs": [
        {
          "output_type": "stream",
          "name": "stdout",
          "text": [
            "超级兵王 郭璞\n"
          ]
        }
      ]
    },
    {
      "cell_type": "code",
      "source": [
        "import tiktoken\n",
        "\n",
        "enc = tiktoken.get_encoding(\"cl100k_base\")\n",
        "\n",
        "def get_num_tokens(text):\n",
        "    return len(enc.encode(text))"
      ],
      "metadata": {
        "id": "JX4WNd2c4zcE"
      },
      "execution_count": null,
      "outputs": []
    },
    {
      "cell_type": "code",
      "source": [
        "import random\n",
        "\n",
        "def sample_text_with_token( stoires , num_tokens = 3000 ):\n",
        "    # token_per_story = [get_num_tokens(s) for s in stoires]\n",
        "    n = len(stoires)\n",
        "\n",
        "    process_indexes = []\n",
        "\n",
        "    index = [i for i in range(n)]\n",
        "    random.shuffle(index)\n",
        "\n",
        "    current_tokens = 0\n",
        "\n",
        "    ans = \"\"\n",
        "\n",
        "    for i in index:\n",
        "        current_story_token = get_num_tokens( stoires[i] )\n",
        "        if current_tokens + current_story_token <= num_tokens:\n",
        "            process_indexes.append(i)\n",
        "            current_tokens += current_story_token\n",
        "            ans += stoires[i] + \"\\n\\n\"\n",
        "        else:\n",
        "            break\n",
        "\n",
        "    return ans.strip()\n",
        "\n",
        "\n",
        "\n",
        "\n",
        "\n"
      ],
      "metadata": {
        "id": "vd1841kM3y14"
      },
      "execution_count": null,
      "outputs": []
    },
    {
      "cell_type": "code",
      "source": [
        "save_datas = []\n",
        "\n",
        "story_token = 4000\n",
        "\n",
        "from tqdm import tqdm\n",
        "\n",
        "narrators = [\"叙述者\", \"旁白\",\"文章作者\",\"作者\",\"Narrator\",\"narrator\"]\n",
        "\n",
        "for novel, role in tqdm(role2datas.keys()):\n",
        "    if role in narrators:\n",
        "        continue\n",
        "    # print(novel, role)\n",
        "    datas = role2datas[(novel, role)]\n",
        "    paired_story_index = [(conv2story(role, data[\"conversations\"]), data[\"index\"]) for data in datas]\n",
        "    # Sort the pairs based on indexs (the second element of each pair)\n",
        "    paired_story_index = sorted(paired_story_index, key=lambda x: x[1])\n",
        "\n",
        "    sorted_stories = [pair[0] for pair in paired_story_index]\n",
        "\n",
        "    n = len(sorted_stories)\n",
        "\n",
        "    ranges = []\n",
        "\n",
        "    if n < 10:\n",
        "        ranges = [(0,n)]\n",
        "    else:\n",
        "        steps = n // 3\n",
        "        ranges = [(i*steps, (i+1)*steps) for i in range(2)]\n",
        "        ranges.append((2*steps, n))\n",
        "\n",
        "    id_count = 0\n",
        "\n",
        "    for left, right in ranges:\n",
        "        whole_prompt = package_prefix_prompt(role, novel)\n",
        "\n",
        "        whole_prompt += \"\\n\" + attribute_detail + \"\\n\"\n",
        "\n",
        "        whole_prompt += \"\\n# dialogue\\n\" + sample_text_with_token(sorted_stories, story_token) + \"\\n\"\n",
        "\n",
        "        whole_prompt += package_suffix_prompt(role, novel)\n",
        "\n",
        "        id_str = novel + \"_\" + role + \"_\" + str(id_count)\n",
        "\n",
        "        save_data = {\n",
        "            \"id\":id_str,\n",
        "            \"input\":whole_prompt\n",
        "        }\n",
        "\n",
        "        save_datas.append(save_data)\n",
        "\n",
        "        id_count = id_count + 1"
      ],
      "metadata": {
        "colab": {
          "base_uri": "https://localhost:8080/"
        },
        "id": "HfUjP2Ky38ru",
        "outputId": "f10486fb-5c7e-429e-faec-f1bf7e967db6"
      },
      "execution_count": null,
      "outputs": [
        {
          "output_type": "stream",
          "name": "stderr",
          "text": [
            "100%|██████████| 510/510 [00:04<00:00, 114.63it/s]\n"
          ]
        }
      ]
    },
    {
      "cell_type": "code",
      "source": [
        "print(save_datas[12][\"input\"])"
      ],
      "metadata": {
        "colab": {
          "base_uri": "https://localhost:8080/"
        },
        "id": "V68ha9FF3-2H",
        "outputId": "aad5d2c4-4985-4075-a2a3-1c4a8b3115c5"
      },
      "execution_count": null,
      "outputs": [
        {
          "output_type": "stream",
          "name": "stdout",
          "text": [
            "请帮助我为小说将夜中的 宁缺 角色总结他的人物设定\n",
            "\n",
            "给定人物宁缺的对话数据，请为我总结宁缺的人物设定、人物特点以及语言风格，并输出成json格式\n",
            "### possible-items\n",
            "- 经历，从对话中总结角色的经历\n",
            "如\"张东升是一个小城市少年宫的代课数学老师，因爱情来到妻子所在地工作。妻子执意离婚，张东升为逼迫妻子放弃离婚念头，将岳父母推下景区山崖，此行为被三个少年无意中拍摄到。\"\n",
            "- 身份\n",
            "如\"永安当的小伙计，后成为新安当的大老板，成为渝州巨贾\"\n",
            "- 恋爱状态\n",
            "如\"已婚，但妻子执意离婚\", \"对萧炎有特殊好感\"\n",
            "- 性格特点 :\n",
            "如\"智慧与信仰坚定，虽有时显得懦弱，但内心坚韧不拔；对弟子慈爱，尤其对孙悟空有时严厉，但出于对其成长的期望；对妖怪能施以慈悲，但也会坚持正义\"\n",
            "- 经典台词, 提取对话中能够显著反应人物个性的台词\n",
            "如\"['为了蜀山，我可以放弃一切。', '紫萱，我会守护你一生一世。', '剑出如龙，斩尽妖邪！']\"\n",
            "- 世界设定\n",
            "如\"故事在提瓦特大陆上展开，该世界分成七个国家，每个国家分别以一种元素为主题，并由对应元素的神明所分管。\"\n",
            "- 技能和能力\n",
            "如\"葵花点穴手、葵花解穴手、轻功（白三娘传授，天下第二）、隔空打穴、九九还阳掌（对佟湘玉使过）\",\"血液具有特殊力量，能驱赶食人花\",\"孤傲冷漠，有王者之霸气，好独来独往，对紫萱有柔情似水的一面，对景天有师父般的关怀\"\n",
            "- 爱好\n",
            "如\"古董，自由自在的生活，剑仙的传说\"\n",
            "\n",
            "\n",
            "# dialogue\n",
            "简大家: 我和你这孩子非亲非故，若不是心头一热，也懒得与你说这些话，所以你不要有什么抵触情绪，让你珍惜在书院里学习的机会，自不是害你。  *看着他严肃说道* 上次便与你说过，褚由贤这等富家公子可以玩，你一个穷酸少年却没有资格玩，今日更是如此，司徒小姐和金家小姐这些长安贵女可以玩，你还是没有资格玩。她们与你亲近，只是瞧着你好玩，对你暂时存着些好奇，这种意趣并不见得是恶意，但毕竟不是真的尊重。  如果你想成为她们真正的朋友，那么你就必须拥有一些值得她们尊重的能力与气度，如果你能走进书院二层楼，我相信世上所有的人都愿意做你的朋友。  *端起桌上那盏金线兰花露，轻啜一口润了润嗓子，然后抬起头来看着他继续平静说道* 以后来楼子里散心可以，但次数不要过频，酒更不能多喝。我本是风月行里一嬷嬷，自不会以为流连勾栏青楼是如何低贱的行为，但也不认为这是什么能令人进益的风雅事。三十年前那位大诗家草村先生，前半辈子一直眠宿花柳巷中，可谁敢不敬他？他甚至最后娶了宰相的女儿，但这不是因为他流连青楼折腾出了多大名气，终究还是因为他的诗天下无双，腹中高才过人！  大唐重才，只要你有才，你是人才，那么无论你是在楼上还是楼下，楼内还是楼外，是边城少年还是长安贵族，帝国都不会埋没你。\n",
            "宁缺: *捂着额头下得楼来* 一番教诲结束，宁缺捂着额头下得楼来，发现堂间的聚会也已经结束。\n",
            "\n",
            "谷溪: *头颅瞬间爆裂*  *一具无头的尸身跌落薄雪之中*   : *……*  ……   : *符意渐渐淡去，那些细碎的元气湍流同时消失无踪*\n",
            "宁缺: *飘落在谷溪的尸体上，沉默看着渐渐燃起来的火焰*  *在战斗中情报很重要，但不能太过依赖情报，因为活在这个世界上的人，都有自己的秘密，那个秘密往往藏在心内最深处，从来没有人知道。*\n",
            "“我最大的秘密不是那个铁匣子，而是别的事情。”  第一百三十五章 初一，巷有雪  无: *军师谷溪的尸体渐渐被烧成灰烬*\n",
            "宁缺: *宁缺站在旁边沉默观看*  *他并不知道大师兄在将军府冬园里会因为自己的表现而满意*  *他只是为自己先前的表现而感到满意*  *军师谷溪居然是如此强大的一名符师*  *他选择了最简单直接的应对方式*  *他非常满意自己先前的应对*\n",
            "无: *当那个拳头轰开谷溪头颅后*  *他胸腹间那些悲伤涩滞似乎也被同时轰开*\n",
            "宁缺: *他明白了很多事情*  *在冬树荫影下，他心中生出很多不甘*\n",
            "“我自山川河流草原来，我自村庄将军府里来，所来只为取你的性命。”\n",
            "宁缺: *宁缺轻声说道这首经过简化后的桑桑写的复仇小诗*  *他不担心自己会被夏侯抓住什么把柄证据*  *他轻轻跃出那道灰白色的府墙*\n",
            "无: *远处不知哪个民宅里再次传来清晰的葱香*\n",
            "宁缺: *他怔了怔后向巷口外走去*  *面容平静神态安详*\n",
            "无: *……*  *……*  宁缺: *回到将军府时*  夏侯大将军: *正在和大师兄告别*  夏侯: *回头望向宁缺*\n",
            "宁缺: *神情平静回望着他*  *没有任何警惕之意*  *看着石阶上中年男人微微挑起的霸眉*  *想起呼兰海畔那个无法停下的拳头*  *想起自己先前击出的那一拳*  *安静把沉重的行囊背起*\n",
            "“其实做人呢，最重要的就是开心。”  大师兄: *看着窗外土阳城的街景*  *忽然开口说道*  *神情温和说道*\n",
            "宁缺: *听着大师兄的教诲*  *沉默思忖片刻点了点头*\n",
            "\n",
            "看着随湖波起伏的薄冰，宁缺想起传说中那些站在冰下的人，又想起前些日子和司徒依兰在湖畔漫步时说到的那些事情，脸上不禁流露出自嘲的情绪。\n",
            "宁缺: 世间人到了一定年龄之后总要考虑男女婚嫁之事  *看着随湖波起伏的薄冰* 忘了听谁说过，世界上只有两种女人，自己的以及别人的，男人是不是都这样？  盛起一瓢湖水，将石灶里残存的火苗浇熄  任何谈感情尤其是爱情的人都是白痴  来到燕北荒原已经月余，未曾见到夏侯  作为一个很艰难才活下来并且活得越来越好的年轻人，宁缺很清楚要做到这些依靠的是什么\n",
            "无: *微寒的风从湖面上吹了过来*  *刀上刻着的那些简洁符文线条仿佛感应到了什么*  *一片不知被湖风从何处卷来的枯草叶*  *他膝上横着的朴刀在微微震动*  *被粗布裹得紧紧的大黑伞，沉默地躺在他的身旁*\n",
            "宁缺: *宁缺结束了冥想*  *当初他在朱雀大道上悟道*  *他有些惘然想道*  *他忽然注意到身前的薄冰堆得越来越多*  *在岷山荒原生活了这么多年，他对野地湖泊非常熟悉*  *站起身来，背上沉重的行囊，顺着那些像小镜子般的薄冰逆流而上*  *逆流而上，有没有一位佳人在水那方？*\n",
            "\n",
            "小白狗: *听着这句话，才知道这个家伙居然是个连狼肉都敢吃的嗜血变态*\n",
            "宁缺: *不会理会小白狗柔顺得像只猫还是僵硬得像块石头* 他这辈子什么东西都吃过，更不会相信猎物死之前过于恐惧会分泌什么毒素让肉变得难吃的白痴说法，提着刀便开始在小白狗的头上比划着从哪里剥皮，毕竟当年杀死老猎户之后桑桑便一直不怎么喜欢他杀幼兽，所以有些手生需要熟悉一下对方的生理构造。\n",
            "\n",
            "地藏王菩萨: *慈悲说道* 只要他们诚心皈依我佛，以善意善念善行修得善果，最终便能得解脱。  万鬼: *再拜，万鬼同哭*\n",
            "宁缺: *说道* 你和别的佛差不多，都爱扯蛋。\n",
            "万鬼: *同起，万鬼同怒*  地藏王菩萨: *不怒，合什请教道* 请赐教。\n",
            "宁缺: *指着河水里的那些游魂骷髅，说道* 善意善念倒好说，这世界里尽是佛爷，它们到哪里去施善行？而且如果它们生前真是罪孽深重之辈，便该被镇压在地狱里永世不得翻身，念几句佛便解脱，被它们害的那些人会怎么想？\n",
            "地藏王菩萨: *说道* 你这话错了……\n",
            "宁缺: *哪里愿意讲道理，说佛法，举起铁刀，阻止菩萨继续说话，看着对方，双眼变得异常明亮，若有金辉溢出*  *喝道* 或许我错，但我不会看错，你哪里是什么地藏王菩萨？休想逃得过俺的火眼金睛！快快显出真身来，不然吃俺一棍！  *自觉这话得意又得趣，却只有心里的桑桑听得懂，地藏王菩萨哪里能听明白，神情微惘，而无数鬼魂则开始愤怒地咆哮*\n",
            "旁白: *说道* 当着菩萨的面说他是尊假菩萨，何等大不敬！  地藏王菩萨: *微笑说道* 你说是便是，你说不是便不是，是不是菩萨不重要，所做的事情才重要。  河底万鬼: *聆得妙义，喜不自禁，纷纷再拜*\n",
            "宁缺: *不为所动，喝道* 安忍不动如大地，静虑深密如秘藏！你生前不知是悬空寺哪代首座，修得金刚不坏，圆寂后便来到此间镇守鬼河，佛祖倒是给你安排了个肥差，但要说起慈悲，却是不嫌羞臊！\n",
            "\n",
            "桑桑: *不知道长安城是一个比岷山比草原更要凶险万分的狩猎场* 所以她并不担心少爷的安危，反而很操心一些别的事情。她用双手攥着被沿，用力低头望向床的那头，认真说道：少爷，既然明天那位御史大人就要死了，死之前你总得告诉他这是为什么吧？\n",
            "宁缺: *望着天花板，蹙眉说道* 报仇这种事……对方死都不知道我报的是什么仇，确实有些不得劲儿。\n",
            "现在让我们开始总结小说将夜 中 宁缺 的角色信息\n",
            "    \n",
            "Let's think it step-by-step\n",
            "\n",
            "- 在analysis字段中，先对人物设定、人物特定以及语言风格进行分析\n",
            "- 在'经历', '身份', '性格特点', '经典台词', '恋爱状态', '世界设定', '爱好', '不喜欢的事情',  '语言风格',  '口头禅', '技能和能力', '武器', '人物关系' 中选取最相关的5项，输出到most_related_items字段中\n",
            "- 在claim字段中输出 \"我将从dialogue中总结角色的a,b,c,d,e信息\", a-e为most_related_items字段中的item\n",
            "- 输出一个attributes字段，在这个字段下，将a,b,c,d,e的信息用json格式进行输出\n",
            "\n",
            "\n"
          ]
        }
      ]
    },
    {
      "cell_type": "code",
      "source": [
        "print(len(save_datas))"
      ],
      "metadata": {
        "colab": {
          "base_uri": "https://localhost:8080/"
        },
        "id": "aMy4GVdp99UC",
        "outputId": "e95781b5-69b3-402a-a5f2-063522d3c859"
      },
      "execution_count": null,
      "outputs": [
        {
          "output_type": "stream",
          "name": "stdout",
          "text": [
            "1344\n"
          ]
        }
      ]
    },
    {
      "cell_type": "code",
      "source": [
        "from google.colab import drive\n",
        "drive.mount('/content/drive')"
      ],
      "metadata": {
        "colab": {
          "base_uri": "https://localhost:8080/"
        },
        "id": "4TIxKbR_94Ir",
        "outputId": "1b827d76-52dc-40f5-e9f4-49d47160aaba"
      },
      "execution_count": null,
      "outputs": [
        {
          "output_type": "stream",
          "name": "stdout",
          "text": [
            "Mounted at /content/drive\n"
          ]
        }
      ]
    },
    {
      "cell_type": "code",
      "source": [
        "save_name = \"/content/drive/MyDrive/CardBuild/exp0212/card2extract.pkl\""
      ],
      "metadata": {
        "id": "0r3U_Ji6-Fyc"
      },
      "execution_count": null,
      "outputs": []
    },
    {
      "cell_type": "code",
      "source": [
        "import pickle\n",
        "\n",
        "with open(save_name, \"wb\") as f:\n",
        "    pickle.dump(save_datas, f)"
      ],
      "metadata": {
        "id": "2TgTQeHs5_QQ"
      },
      "execution_count": null,
      "outputs": []
    },
    {
      "cell_type": "code",
      "source": [],
      "metadata": {
        "id": "eE9vFOOu-OfZ"
      },
      "execution_count": null,
      "outputs": []
    }
  ]
}