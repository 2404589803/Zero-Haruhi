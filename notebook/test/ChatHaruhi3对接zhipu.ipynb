{
  "cells": [
    {
      "cell_type": "markdown",
      "metadata": {
        "id": "azSJM_MhzmGH"
      },
      "source": [
        "- [x] 载入一个中文角色\n",
        "- [x] 实现zhupu的message到response"
      ]
    },
    {
      "cell_type": "code",
      "execution_count": 16,
      "metadata": {
        "id": "6911bv9PzmGK"
      },
      "outputs": [],
      "source": [
        "!pip install -q zhipuai\n",
        "!pip install -q datasets tiktoken"
      ]
    },
    {
      "cell_type": "markdown",
      "metadata": {
        "id": "rUPVbOyRzmGM"
      },
      "source": [
        "如果你在使用Colab，最好在最开始的时候就导入zhipuai"
      ]
    },
    {
      "cell_type": "code",
      "execution_count": 17,
      "metadata": {
        "id": "miB3QK2uzmGM"
      },
      "outputs": [],
      "source": [
        "import os\n",
        "import time\n",
        "import httpx\n",
        "import zhipuai\n",
        "from zhipuai import ZhipuAI\n",
        "os.environ[\"ZHIPUAI_API_KEY\"]  = \"ZHIPUAI_API_KEY\""
      ]
    },
    {
      "cell_type": "markdown",
      "metadata": {
        "id": "Ba1PNJMxzmGM"
      },
      "source": [
        "如果你使用colab，运行以下代码(暂时无法使用)\n",
        "\n",
        "\n",
        "\n"
      ]
    },
    {
      "cell_type": "code",
      "execution_count": null,
      "metadata": {
        "colab": {
          "base_uri": "https://localhost:8080/",
          "height": 297
        },
        "id": "ok75pmHz05fA",
        "outputId": "41f7ac7b-3592-4206-c099-95002d6178ec"
      },
      "outputs": [
        {
          "ename": "SecretNotFoundError",
          "evalue": "Secret ZHIPUAI_API_KEY does not exist.",
          "output_type": "error",
          "traceback": [
            "\u001b[0;31m---------------------------------------------------------------------------\u001b[0m",
            "\u001b[0;31mSecretNotFoundError\u001b[0m                       Traceback (most recent call last)",
            "\u001b[0;32m<ipython-input-6-64d09cb57fd7>\u001b[0m in \u001b[0;36m<cell line: 5>\u001b[0;34m()\u001b[0m\n\u001b[1;32m      3\u001b[0m \u001b[0;34m\u001b[0m\u001b[0m\n\u001b[1;32m      4\u001b[0m \u001b[0;32mfrom\u001b[0m \u001b[0mgoogle\u001b[0m\u001b[0;34m.\u001b[0m\u001b[0mcolab\u001b[0m \u001b[0;32mimport\u001b[0m \u001b[0muserdata\u001b[0m\u001b[0;34m\u001b[0m\u001b[0;34m\u001b[0m\u001b[0m\n\u001b[0;32m----> 5\u001b[0;31m \u001b[0mos\u001b[0m\u001b[0;34m.\u001b[0m\u001b[0menviron\u001b[0m\u001b[0;34m[\u001b[0m\u001b[0;34m\"ZHIPUAI_API_KEY\"\u001b[0m\u001b[0;34m]\u001b[0m \u001b[0;34m=\u001b[0m \u001b[0muserdata\u001b[0m\u001b[0;34m.\u001b[0m\u001b[0mget\u001b[0m\u001b[0;34m(\u001b[0m\u001b[0;34m\"ZHIPUAI_API_KEY\"\u001b[0m\u001b[0;34m)\u001b[0m\u001b[0;34m\u001b[0m\u001b[0;34m\u001b[0m\u001b[0m\n\u001b[0m",
            "\u001b[0;32m/usr/local/lib/python3.10/dist-packages/google/colab/userdata.py\u001b[0m in \u001b[0;36mget\u001b[0;34m(key)\u001b[0m\n\u001b[1;32m     46\u001b[0m     )\n\u001b[1;32m     47\u001b[0m   \u001b[0;32mif\u001b[0m \u001b[0;32mnot\u001b[0m \u001b[0mresp\u001b[0m\u001b[0;34m.\u001b[0m\u001b[0mget\u001b[0m\u001b[0;34m(\u001b[0m\u001b[0;34m'exists'\u001b[0m\u001b[0;34m,\u001b[0m \u001b[0;32mFalse\u001b[0m\u001b[0;34m)\u001b[0m\u001b[0;34m:\u001b[0m\u001b[0;34m\u001b[0m\u001b[0;34m\u001b[0m\u001b[0m\n\u001b[0;32m---> 48\u001b[0;31m     \u001b[0;32mraise\u001b[0m \u001b[0mSecretNotFoundError\u001b[0m\u001b[0;34m(\u001b[0m\u001b[0mkey\u001b[0m\u001b[0;34m)\u001b[0m\u001b[0;34m\u001b[0m\u001b[0;34m\u001b[0m\u001b[0m\n\u001b[0m\u001b[1;32m     49\u001b[0m   \u001b[0;32mif\u001b[0m \u001b[0;32mnot\u001b[0m \u001b[0mresp\u001b[0m\u001b[0;34m.\u001b[0m\u001b[0mget\u001b[0m\u001b[0;34m(\u001b[0m\u001b[0;34m'access'\u001b[0m\u001b[0;34m,\u001b[0m \u001b[0;32mFalse\u001b[0m\u001b[0;34m)\u001b[0m\u001b[0;34m:\u001b[0m\u001b[0;34m\u001b[0m\u001b[0;34m\u001b[0m\u001b[0m\n\u001b[1;32m     50\u001b[0m     \u001b[0;32mraise\u001b[0m \u001b[0mNotebookAccessError\u001b[0m\u001b[0;34m(\u001b[0m\u001b[0mkey\u001b[0m\u001b[0;34m)\u001b[0m\u001b[0;34m\u001b[0m\u001b[0;34m\u001b[0m\u001b[0m\n",
            "\u001b[0;31mSecretNotFoundError\u001b[0m: Secret ZHIPUAI_API_KEY does not exist."
          ]
        }
      ],
      "source": [
        "from google.colab import userdata\n",
        "os.environ[\"ZHIPUAI_API_KEY\"] = userdata.get(\"ZHIPUAI_API_KEY\")"
      ]
    },
    {
      "cell_type": "markdown",
      "metadata": {
        "id": "cSWErN5wzmGN"
      },
      "source": [
        "定义zhupuai的response"
      ]
    },
    {
      "cell_type": "code",
      "execution_count": 18,
      "metadata": {
        "id": "k-kvL5ymzmGN"
      },
      "outputs": [],
      "source": [
        "from zhipuai import ZhipuAI\n",
        "\n",
        "client = ZhipuAI(api_key=os.getenv(\"ZHIPUAI_API_KEY\"))\n",
        "\n",
        "def get_response( message ):\n",
        "    response = client.chat.completions.create(\\\n",
        "        model=\"glm-4\",\\\n",
        "        messages = message, \\\n",
        "        max_tokens = 300, \\\n",
        "        temperature = 0.1 )\n",
        "    return response.choices[0].message.content"
      ]
    },
    {
      "cell_type": "markdown",
      "metadata": {
        "id": "1oGX_qerzmGN"
      },
      "source": [
        "载入ChatHaruhi"
      ]
    },
    {
      "cell_type": "code",
      "execution_count": 19,
      "metadata": {
        "colab": {
          "base_uri": "https://localhost:8080/"
        },
        "id": "BP__SdrMzmGN",
        "outputId": "c25607be-604a-4885-dce6-3a945e0f371b"
      },
      "outputs": [
        {
          "name": "stdout",
          "output_type": "stream",
          "text": [
            "/content\n",
            "Cloning into 'Zero-Haruhi'...\n",
            "remote: Enumerating objects: 440, done.\u001b[K\n",
            "remote: Counting objects: 100% (38/38), done.\u001b[K\n",
            "remote: Compressing objects: 100% (27/27), done.\u001b[K\n",
            "remote: Total 440 (delta 22), reused 18 (delta 11), pack-reused 402\u001b[K\n",
            "Receiving objects: 100% (440/440), 2.97 MiB | 16.08 MiB/s, done.\n",
            "Resolving deltas: 100% (294/294), done.\n",
            "/content/Zero-Haruhi\n"
          ]
        }
      ],
      "source": [
        "%cd /content\n",
        "!rm -rf /content/Zero-Haruhi\n",
        "!git clone https://github.com/LC1332/Zero-Haruhi\n",
        "%cd /content/Zero-Haruhi"
      ]
    },
    {
      "cell_type": "code",
      "execution_count": 20,
      "metadata": {
        "colab": {
          "base_uri": "https://localhost:8080/"
        },
        "id": "jTR1PM4hzmGO",
        "outputId": "f5d41f97-e416-40e8-f577-97117b71bd30"
      },
      "outputs": [
        {
          "name": "stdout",
          "output_type": "stream",
          "text": [
            "query_rags: [{'n': 5, 'max_token': 1000, 'query': '老师: 同学请自我介绍一下', 'lid': 8}] rest_limit = 1505\n",
            "凉宫春日:\n",
            "我？我是凉宫春日，东中毕业的。我对这个世界上的普通人一点兴趣都没有，如果在座的各位中有外星人、未来人、异世界的人或者超能力者，那就不要犹豫，立刻来找我吧！就这样，以上。\n"
          ]
        }
      ],
      "source": [
        "from ChatHaruhi import ChatHaruhi\n",
        "\n",
        "chatbot = ChatHaruhi( role_name = \"凉宫春日\", llm = get_response )\n",
        "\n",
        "response = chatbot.chat( user = \"\", text = \"老师: 同学请自我介绍一下\" )\n",
        "print( response )"
      ]
    },
    {
      "cell_type": "code",
      "execution_count": 21,
      "metadata": {
        "colab": {
          "base_uri": "https://localhost:8080/"
        },
        "id": "KiBTGsONzmGO",
        "outputId": "3719260a-1294-4fe9-80b1-d0648878ac1b"
      },
      "outputs": [
        {
          "name": "stdout",
          "output_type": "stream",
          "text": [
            "query_rags: [{'n': 5, 'max_token': 1000, 'query': '听说你初中时候谈了很多男朋友', 'lid': 8}] rest_limit = 1502\n",
            "凉宫春日:\n",
            "哼，那都是过去的事了。你听谁说的？不过也没关系，反正都是些无聊的事情。那些所谓的男朋友，没有一个是我认真看待的。他们都是些无趣的人，总是做些普通的事情，一点创意都没有。我对那种平淡无奇的生活没有兴趣，我追求的是与众不同、刺激的事物。所以，那些交往，根本不算什么。\n"
          ]
        }
      ],
      "source": [
        "response = chatbot.chat( user = \"\", text = \"听说你初中时候谈了很多男朋友\")\n",
        "print(response)"
      ]
    }
  ],
  "metadata": {
    "accelerator": "GPU",
    "colab": {
      "gpuType": "T4",
      "provenance": []
    },
    "kernelspec": {
      "display_name": "Python 3 (ipykernel)",
      "language": "python",
      "name": "python3"
    },
    "orig_nbformat": 4
  },
  "nbformat": 4,
  "nbformat_minor": 0
}
