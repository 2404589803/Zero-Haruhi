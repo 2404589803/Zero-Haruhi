{
 "cells": [
  {
   "cell_type": "code",
   "outputs": [],
   "source": [
    "# !pip install hf-transfer huggingface_hub"
   ],
   "metadata": {
    "collapsed": false,
    "ExecuteTime": {
     "end_time": "2024-02-15T09:12:02.917388Z",
     "start_time": "2024-02-15T09:12:02.908587Z"
    }
   },
   "execution_count": 1
  },
  {
   "cell_type": "code",
   "execution_count": 2,
   "metadata": {
    "id": "6911bv9PzmGK",
    "ExecuteTime": {
     "end_time": "2024-02-15T09:12:02.917682Z",
     "start_time": "2024-02-15T09:12:02.914983Z"
    }
   },
   "outputs": [],
   "source": [
    "# !pip install -q transformers torch sentencepiece"
   ]
  },
  {
   "cell_type": "markdown",
   "metadata": {
    "id": "1oGX_qerzmGN"
   },
   "source": [
    "载入ChatHaruhi"
   ]
  },
  {
   "cell_type": "code",
   "execution_count": 3,
   "metadata": {
    "colab": {
     "base_uri": "https://localhost:8080/"
    },
    "id": "BP__SdrMzmGN",
    "outputId": "c25607be-604a-4885-dce6-3a945e0f371b",
    "ExecuteTime": {
     "end_time": "2024-02-15T09:12:02.922036Z",
     "start_time": "2024-02-15T09:12:02.917341Z"
    }
   },
   "outputs": [],
   "source": [
    "# %cd /content\n",
    "# !rm -rf /content/Zero-Haruhi\n",
    "# !git clone https://github.com/LC1332/Zero-Haruhi\n",
    "# %cd /content/Zero-Haruhi"
   ]
  },
  {
   "cell_type": "code",
   "execution_count": 2,
   "metadata": {
    "colab": {
     "base_uri": "https://localhost:8080/"
    },
    "id": "jTR1PM4hzmGO",
    "outputId": "f5d41f97-e416-40e8-f577-97117b71bd30",
    "ExecuteTime": {
     "end_time": "2024-02-15T09:47:58.160961Z",
     "start_time": "2024-02-15T09:47:48.041549Z"
    }
   },
   "outputs": [],
   "source": [
    "from ChatHaruhi import ChatHaruhi\n",
    "from ChatHaruhi.responese_GLM_local import get_response\n",
    "\n",
    "chatbot = ChatHaruhi(role_name=\"凉宫春日\", llm=get_response, verbose=True)"
   ]
  },
  {
   "cell_type": "code",
   "outputs": [
    {
     "name": "stdout",
     "output_type": "stream",
     "text": [
      "query_rags: [{'n': 5, 'max_token': 1000, 'query': '老师: 同学请自我介绍一下', 'lid': 8}] rest_limit = 1505\n",
      "downloading THUDM/chatglm3-6b\n"
     ]
    },
    {
     "data": {
      "text/plain": "Fetching 26 files:   0%|          | 0/26 [00:00<?, ?it/s]",
      "application/vnd.jupyter.widget-view+json": {
       "version_major": 2,
       "version_minor": 0,
       "model_id": "187012adf1cd4eb7b29b33dde17e0b65"
      }
     },
     "metadata": {},
     "output_type": "display_data"
    },
    {
     "data": {
      "text/plain": "pytorch_model-00005-of-00007.bin:   0%|          | 0.00/1.97G [00:00<?, ?B/s]",
      "application/vnd.jupyter.widget-view+json": {
       "version_major": 2,
       "version_minor": 0,
       "model_id": "f1bf9c2c59cd4873bf032d97407653ef"
      }
     },
     "metadata": {},
     "output_type": "display_data"
    },
    {
     "data": {
      "text/plain": "pytorch_model-00004-of-00007.bin:   0%|          | 0.00/1.82G [00:00<?, ?B/s]",
      "application/vnd.jupyter.widget-view+json": {
       "version_major": 2,
       "version_minor": 0,
       "model_id": "dfabcd99cafc40e68d557c1c5b26d4c0"
      }
     },
     "metadata": {},
     "output_type": "display_data"
    },
    {
     "data": {
      "text/plain": "model-00006-of-00007.safetensors:   0%|          | 0.00/1.93G [00:00<?, ?B/s]",
      "application/vnd.jupyter.widget-view+json": {
       "version_major": 2,
       "version_minor": 0,
       "model_id": "d9eb2a5a0ba84d998d17e603b6e9815f"
      }
     },
     "metadata": {},
     "output_type": "display_data"
    },
    {
     "data": {
      "text/plain": "pytorch_model-00003-of-00007.bin:   0%|          | 0.00/1.93G [00:00<?, ?B/s]",
      "application/vnd.jupyter.widget-view+json": {
       "version_major": 2,
       "version_minor": 0,
       "model_id": "f257e9e7b8064bdc8c6482ee55f4fd4c"
      }
     },
     "metadata": {},
     "output_type": "display_data"
    },
    {
     "data": {
      "text/plain": "pytorch_model-00006-of-00007.bin:   0%|          | 0.00/1.93G [00:00<?, ?B/s]",
      "application/vnd.jupyter.widget-view+json": {
       "version_major": 2,
       "version_minor": 0,
       "model_id": "791a2237e1554852863065d8bf6761f2"
      }
     },
     "metadata": {},
     "output_type": "display_data"
    }
   ],
   "source": [
    "response = chatbot.chat(user=\"\", text=\"老师: 同学请自我介绍一下\")\n",
    "print(response)"
   ],
   "metadata": {
    "collapsed": false,
    "is_executing": true,
    "ExecuteTime": {
     "start_time": "2024-02-15T09:48:01.778658Z"
    }
   },
   "execution_count": null
  },
  {
   "cell_type": "code",
   "execution_count": null,
   "metadata": {
    "colab": {
     "base_uri": "https://localhost:8080/"
    },
    "id": "KiBTGsONzmGO",
    "outputId": "3719260a-1294-4fe9-80b1-d0648878ac1b",
    "ExecuteTime": {
     "start_time": "2024-02-15T09:12:06.218455Z"
    }
   },
   "outputs": [],
   "source": [
    "response = chatbot.chat(user=\"\", text=\"听说你初中时候谈了很多男朋友\")\n",
    "print(response)"
   ]
  },
  {
   "cell_type": "code",
   "outputs": [],
   "source": [],
   "metadata": {
    "collapsed": false,
    "ExecuteTime": {
     "end_time": "2024-02-15T09:12:06.220085Z",
     "start_time": "2024-02-15T09:12:06.219592Z"
    }
   }
  }
 ],
 "metadata": {
  "accelerator": "GPU",
  "colab": {
   "gpuType": "T4",
   "provenance": []
  },
  "kernelspec": {
   "display_name": "Python 3 (ipykernel)",
   "language": "python",
   "name": "python3"
  },
  "orig_nbformat": 4
 },
 "nbformat": 4,
 "nbformat_minor": 0
}
