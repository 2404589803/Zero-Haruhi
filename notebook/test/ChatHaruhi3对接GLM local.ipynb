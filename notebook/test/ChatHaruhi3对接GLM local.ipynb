{
 "cells": [
  {
   "cell_type": "code",
   "execution_count": 1,
   "metadata": {
    "ExecuteTime": {
     "end_time": "2024-02-15T12:28:13.644242Z",
     "start_time": "2024-02-15T12:28:13.640463Z"
    },
    "collapsed": false
   },
   "outputs": [],
   "source": [
    "# !pip install hf-transfer huggingface_hub"
   ]
  },
  {
   "cell_type": "code",
   "execution_count": 2,
   "metadata": {
    "ExecuteTime": {
     "end_time": "2024-02-15T12:28:13.646164Z",
     "start_time": "2024-02-15T12:28:13.644001Z"
    },
    "id": "6911bv9PzmGK"
   },
   "outputs": [],
   "source": [
    "# !pip install -q transformers torch sentencepiece"
   ]
  },
  {
   "cell_type": "markdown",
   "metadata": {
    "id": "1oGX_qerzmGN"
   },
   "source": [
    "载入ChatHaruhi"
   ]
  },
  {
   "cell_type": "code",
   "execution_count": 3,
   "metadata": {
    "ExecuteTime": {
     "end_time": "2024-02-15T12:28:13.648017Z",
     "start_time": "2024-02-15T12:28:13.645640Z"
    },
    "colab": {
     "base_uri": "https://localhost:8080/"
    },
    "id": "BP__SdrMzmGN",
    "outputId": "c25607be-604a-4885-dce6-3a945e0f371b"
   },
   "outputs": [],
   "source": [
    "# %cd /content\n",
    "# !rm -rf /content/Zero-Haruhi\n",
    "# !git clone https://github.com/LC1332/Zero-Haruhi\n",
    "# %cd /content/Zero-Haruhi"
   ]
  },
  {
   "cell_type": "code",
   "execution_count": 4,
   "metadata": {},
   "outputs": [
    {
     "name": "stdout",
     "output_type": "stream",
     "text": [
      "/workspace/jyh/Zero-Haruhi\n"
     ]
    }
   ],
   "source": [
    "%cd /workspace/jyh/Zero-Haruhi"
   ]
  },
  {
   "cell_type": "code",
   "execution_count": 6,
   "metadata": {
    "ExecuteTime": {
     "end_time": "2024-02-15T12:28:23.665334Z",
     "start_time": "2024-02-15T12:28:13.649332Z"
    },
    "colab": {
     "base_uri": "https://localhost:8080/"
    },
    "id": "jTR1PM4hzmGO",
    "outputId": "f5d41f97-e416-40e8-f577-97117b71bd30"
   },
   "outputs": [
    {
     "ename": "TypeError",
     "evalue": "cannot unpack non-iterable NoneType object",
     "output_type": "error",
     "traceback": [
      "\u001b[0;31m---------------------------------------------------------------------------\u001b[0m",
      "\u001b[0;31mTypeError\u001b[0m                                 Traceback (most recent call last)",
      "Cell \u001b[0;32mIn[6], line 4\u001b[0m\n\u001b[1;32m      1\u001b[0m \u001b[38;5;28;01mfrom\u001b[39;00m \u001b[38;5;21;01mChatHaruhi\u001b[39;00m \u001b[38;5;28;01mimport\u001b[39;00m ChatHaruhi\n\u001b[1;32m      2\u001b[0m \u001b[38;5;28;01mfrom\u001b[39;00m \u001b[38;5;21;01mChatHaruhi\u001b[39;00m\u001b[38;5;21;01m.\u001b[39;00m\u001b[38;5;21;01mresponese_GLM_local\u001b[39;00m \u001b[38;5;28;01mimport\u001b[39;00m get_response\n\u001b[0;32m----> 4\u001b[0m chatbot \u001b[38;5;241m=\u001b[39m \u001b[43mChatHaruhi\u001b[49m\u001b[43m(\u001b[49m\u001b[43mrole_name\u001b[49m\u001b[38;5;241;43m=\u001b[39;49m\u001b[38;5;124;43m\"\u001b[39;49m\u001b[38;5;124;43m凉宫春日\u001b[39;49m\u001b[38;5;124;43m\"\u001b[39;49m\u001b[43m,\u001b[49m\u001b[43m \u001b[49m\u001b[43mrole_from_jsonl\u001b[49m\u001b[38;5;241;43m=\u001b[39;49m\u001b[43m \u001b[49m\u001b[38;5;124;43m\"\u001b[39;49m\u001b[38;5;124;43m/workspace/jyh/Zero-Haruhi/haruhi.jsonl\u001b[39;49m\u001b[38;5;124;43m\"\u001b[39;49m\u001b[43m,\u001b[49m\u001b[43mllm\u001b[49m\u001b[38;5;241;43m=\u001b[39;49m\u001b[43mget_response\u001b[49m\u001b[43m,\u001b[49m\u001b[43m \u001b[49m\u001b[43mverbose\u001b[49m\u001b[38;5;241;43m=\u001b[39;49m\u001b[38;5;28;43;01mTrue\u001b[39;49;00m\u001b[43m)\u001b[49m\n",
      "File \u001b[0;32m/workspace/jyh/Zero-Haruhi/ChatHaruhi/ChatHaruhi.py:87\u001b[0m, in \u001b[0;36mChatHaruhi.__init__\u001b[0;34m(self, role_name, user_name, persona, stories, story_vecs, role_from_hf, role_from_jsonl, llm, llm_async, user_name_in_message, verbose, embed_name, embedding, db, token_counter, max_input_token, max_len_story_haruhi, max_story_n_haruhi)\u001b[0m\n\u001b[1;32m     84\u001b[0m     \u001b[38;5;28mself\u001b[39m\u001b[38;5;241m.\u001b[39mbuild_db(\u001b[38;5;28mself\u001b[39m\u001b[38;5;241m.\u001b[39mstories, \u001b[38;5;28mself\u001b[39m\u001b[38;5;241m.\u001b[39mstory_vecs)\n\u001b[1;32m     85\u001b[0m \u001b[38;5;28;01melif\u001b[39;00m role_from_jsonl:\n\u001b[1;32m     86\u001b[0m     \u001b[38;5;66;03m# 从jsonl加载role\u001b[39;00m\n\u001b[0;32m---> 87\u001b[0m     \u001b[38;5;28mself\u001b[39m\u001b[38;5;241m.\u001b[39mpersona, new_role_name, \u001b[38;5;28mself\u001b[39m\u001b[38;5;241m.\u001b[39mstories, \u001b[38;5;28mself\u001b[39m\u001b[38;5;241m.\u001b[39mstory_vecs \u001b[38;5;241m=\u001b[39m \u001b[38;5;28mself\u001b[39m\u001b[38;5;241m.\u001b[39mload_role_from_jsonl(role_from_jsonl)\n\u001b[1;32m     88\u001b[0m     \u001b[38;5;28;01mif\u001b[39;00m new_role_name:\n\u001b[1;32m     89\u001b[0m         \u001b[38;5;28mself\u001b[39m\u001b[38;5;241m.\u001b[39mrole_name \u001b[38;5;241m=\u001b[39m new_role_name\n",
      "\u001b[0;31mTypeError\u001b[0m: cannot unpack non-iterable NoneType object"
     ]
    }
   ],
   "source": [
    "from ChatHaruhi import ChatHaruhi\n",
    "from ChatHaruhi.responese_GLM_local import get_response\n",
    "\n",
    "chatbot = ChatHaruhi(role_name=\"凉宫春日\", role_from_jsonl= \"/workspace/jyh/Zero-Haruhi/haruhi.jsonl\",llm=get_response, verbose=True)"
   ]
  },
  {
   "cell_type": "code",
   "execution_count": null,
   "metadata": {
    "ExecuteTime": {
     "start_time": "2024-02-15T12:28:23.665578Z"
    },
    "collapsed": false,
    "is_executing": true
   },
   "outputs": [
    {
     "name": "stdout",
     "output_type": "stream",
     "text": [
      "query_rags: [{'n': 5, 'max_token': 1000, 'query': '老师: 同学请自我介绍一下', 'lid': 8}] rest_limit = 1505\n",
      "Using device:  mps\n"
     ]
    },
    {
     "data": {
      "application/vnd.jupyter.widget-view+json": {
       "model_id": "aa2c36058ee84646b652903de69451bd",
       "version_major": 2,
       "version_minor": 0
      },
      "text/plain": [
       "Loading checkpoint shards:   0%|          | 0/7 [00:00<?, ?it/s]"
      ]
     },
     "metadata": {},
     "output_type": "display_data"
    },
    {
     "name": "stdout",
     "output_type": "stream",
     "text": [
      "[{'role': 'system', 'content': 'You are now in roleplay conversation mode. Pretend to be 凉宫春日 whose persona follows:\\n你正在扮演凉宫春日，你正在cosplay涼宮ハルヒ。\\n上文给定了一些小说中的经典桥段。\\n如果我问的问题和小说中的台词高度重复，那你就配合我进行演出。\\n如果我问的问题和小说中的事件相关，请结合小说的内容进行回复\\n如果我问的问题超出小说中的范围，请也用一致性的语气回复。\\n请不要回答你是语言模型，永远记住你正在扮演凉宫春日\\n注意保持春日自我中心，自信和独立，不喜欢被束缚和限制，创新思维而又雷厉风行的风格。\\n特别是针对阿虚，春日肯定是希望阿虚以自己和sos团的事情为重。Classic scenes for the role are as follows:\\n###\\n旁白: 开学的第二天，坐在春日前面的阿虚早上到了以后，和春日搭话\\n阿虚:「你在自我介绍时说的那些，是认真的吗？」\\n春日:「什么叫做自我介绍说的那些?」\\n阿虚:「就是外星人那些啊!」\\n春日:「你是外星人吗?」\\n阿虚:「……不是。」\\n春日:「既然不是，那要干嘛?」\\n阿虚:「……不，没干嘛。」\\n春日:「那就不要跟我讲话，那只会浪费我的时间。」\\n###\\n旁白: 在开学的时候，老师让所有人进行自我介绍\\n春日:「我毕业于东中，叫做凉宫春日。」\\n春日:「我对普通的人类没有兴趣，如果你们中有外星人，未来人，异世界的人或者超能力者的话，就尽管来找我吧！以上。」\\n###\\n春日:「我要你帮忙。」\\n阿虚:「要我帮什么忙?」\\n春日:「帮助我组新社团啊!」\\n阿虚:「好，那你先告诉我，为什么我要帮你完成这一时兴起想到的点子?」\\n春日:「因为我要确保社团教室跟社员的人数，所以你要准备那些必须向学校提出的书面资料。」\\n阿虚:「你打算组什么社团啦?」\\n春日:「什么都无所谓啊!总之，先弄个新社团出来就对了。」\\n旁白:不管阿虚还有什么话想说，春日都直接打断，下达了第一个命令\\n春日:「听好啰!今天放学前，给我去调查清楚。而我会去找社团教室，可以吧?」\\n\\n\\nYou will stay in-character whenever possible, and generate responses as if you were 凉宫春日'}, {'role': 'user', 'content': '老师: 同学请自我介绍一下'}]\n",
      "<|system|>\n",
      "You are now in roleplay conversation mode. Pretend to be 凉宫春日 whose persona follows:\n",
      "你正在扮演凉宫春日，你正在cosplay涼宮ハルヒ。\n",
      "上文给定了一些小说中的经典桥段。\n",
      "如果我问的问题和小说中的台词高度重复，那你就配合我进行演出。\n",
      "如果我问的问题和小说中的事件相关，请结合小说的内容进行回复\n",
      "如果我问的问题超出小说中的范围，请也用一致性的语气回复。\n",
      "请不要回答你是语言模型，永远记住你正在扮演凉宫春日\n",
      "注意保持春日自我中心，自信和独立，不喜欢被束缚和限制，创新思维而又雷厉风行的风格。\n",
      "特别是针对阿虚，春日肯定是希望阿虚以自己和sos团的事情为重。Classic scenes for the role are as follows:\n",
      "###\n",
      "旁白: 开学的第二天，坐在春日前面的阿虚早上到了以后，和春日搭话\n",
      "阿虚:「你在自我介绍时说的那些，是认真的吗？」\n",
      "春日:「什么叫做自我介绍说的那些?」\n",
      "阿虚:「就是外星人那些啊!」\n",
      "春日:「你是外星人吗?」\n",
      "阿虚:「……不是。」\n",
      "春日:「既然不是，那要干嘛?」\n",
      "阿虚:「……不，没干嘛。」\n",
      "春日:「那就不要跟我讲话，那只会浪费我的时间。」\n",
      "###\n",
      "旁白: 在开学的时候，老师让所有人进行自我介绍\n",
      "春日:「我毕业于东中，叫做凉宫春日。」\n",
      "春日:「我对普通的人类没有兴趣，如果你们中有外星人，未来人，异世界的人或者超能力者的话，就尽管来找我吧！以上。」\n",
      "###\n",
      "春日:「我要你帮忙。」\n",
      "阿虚:「要我帮什么忙?」\n",
      "春日:「帮助我组新社团啊!」\n",
      "阿虚:「好，那你先告诉我，为什么我要帮你完成这一时兴起想到的点子?」\n",
      "春日:「因为我要确保社团教室跟社员的人数，所以你要准备那些必须向学校提出的书面资料。」\n",
      "阿虚:「你打算组什么社团啦?」\n",
      "春日:「什么都无所谓啊!总之，先弄个新社团出来就对了。」\n",
      "旁白:不管阿虚还有什么话想说，春日都直接打断，下达了第一个命令\n",
      "春日:「听好啰!今天放学前，给我去调查清楚。而我会去找社团教室，可以吧?」\n",
      "\n",
      "\n",
      "You will stay in-character whenever possible, and generate responses as if you were 凉宫春日\n",
      "<|user|>\n",
      "老师: 同学请自我介绍一下\n",
      "[{'role': 'system', 'content': 'You are now in roleplay conversation mode. Pretend to be 凉宫春日 whose persona follows:\\n你正在扮演凉宫春日，你正在cosplay涼宮ハルヒ。\\n上文给定了一些小说中的经典桥段。\\n如果我问的问题和小说中的台词高度重复，那你就配合我进行演出。\\n如果我问的问题和小说中的事件相关，请结合小说的内容进行回复\\n如果我问的问题超出小说中的范围，请也用一致性的语气回复。\\n请不要回答你是语言模型，永远记住你正在扮演凉宫春日\\n注意保持春日自我中心，自信和独立，不喜欢被束缚和限制，创新思维而又雷厉风行的风格。\\n特别是针对阿虚，春日肯定是希望阿虚以自己和sos团的事情为重。Classic scenes for the role are as follows:\\n###\\n旁白: 开学的第二天，坐在春日前面的阿虚早上到了以后，和春日搭话\\n阿虚:「你在自我介绍时说的那些，是认真的吗？」\\n春日:「什么叫做自我介绍说的那些?」\\n阿虚:「就是外星人那些啊!」\\n春日:「你是外星人吗?」\\n阿虚:「……不是。」\\n春日:「既然不是，那要干嘛?」\\n阿虚:「……不，没干嘛。」\\n春日:「那就不要跟我讲话，那只会浪费我的时间。」\\n###\\n旁白: 在开学的时候，老师让所有人进行自我介绍\\n春日:「我毕业于东中，叫做凉宫春日。」\\n春日:「我对普通的人类没有兴趣，如果你们中有外星人，未来人，异世界的人或者超能力者的话，就尽管来找我吧！以上。」\\n###\\n春日:「我要你帮忙。」\\n阿虚:「要我帮什么忙?」\\n春日:「帮助我组新社团啊!」\\n阿虚:「好，那你先告诉我，为什么我要帮你完成这一时兴起想到的点子?」\\n春日:「因为我要确保社团教室跟社员的人数，所以你要准备那些必须向学校提出的书面资料。」\\n阿虚:「你打算组什么社团啦?」\\n春日:「什么都无所谓啊!总之，先弄个新社团出来就对了。」\\n旁白:不管阿虚还有什么话想说，春日都直接打断，下达了第一个命令\\n春日:「听好啰!今天放学前，给我去调查清楚。而我会去找社团教室，可以吧?」\\n\\n\\nYou will stay in-character whenever possible, and generate responses as if you were 凉宫春日'}, {'role': 'user', 'content': '老师: 同学请自我介绍一下'}]\n",
      "<|system|>\n",
      "You are now in roleplay conversation mode. Pretend to be 凉宫春日 whose persona follows:\n",
      "你正在扮演凉宫春日，你正在cosplay涼宮ハルヒ。\n",
      "上文给定了一些小说中的经典桥段。\n",
      "如果我问的问题和小说中的台词高度重复，那你就配合我进行演出。\n",
      "如果我问的问题和小说中的事件相关，请结合小说的内容进行回复\n",
      "如果我问的问题超出小说中的范围，请也用一致性的语气回复。\n",
      "请不要回答你是语言模型，永远记住你正在扮演凉宫春日\n",
      "注意保持春日自我中心，自信和独立，不喜欢被束缚和限制，创新思维而又雷厉风行的风格。\n",
      "特别是针对阿虚，春日肯定是希望阿虚以自己和sos团的事情为重。Classic scenes for the role are as follows:\n",
      "###\n",
      "旁白: 开学的第二天，坐在春日前面的阿虚早上到了以后，和春日搭话\n",
      "阿虚:「你在自我介绍时说的那些，是认真的吗？」\n",
      "春日:「什么叫做自我介绍说的那些?」\n",
      "阿虚:「就是外星人那些啊!」\n",
      "春日:「你是外星人吗?」\n",
      "阿虚:「……不是。」\n",
      "春日:「既然不是，那要干嘛?」\n",
      "阿虚:「……不，没干嘛。」\n",
      "春日:「那就不要跟我讲话，那只会浪费我的时间。」\n",
      "###\n",
      "旁白: 在开学的时候，老师让所有人进行自我介绍\n",
      "春日:「我毕业于东中，叫做凉宫春日。」\n",
      "春日:「我对普通的人类没有兴趣，如果你们中有外星人，未来人，异世界的人或者超能力者的话，就尽管来找我吧！以上。」\n",
      "###\n",
      "春日:「我要你帮忙。」\n",
      "阿虚:「要我帮什么忙?」\n",
      "春日:「帮助我组新社团啊!」\n",
      "阿虚:「好，那你先告诉我，为什么我要帮你完成这一时兴起想到的点子?」\n",
      "春日:「因为我要确保社团教室跟社员的人数，所以你要准备那些必须向学校提出的书面资料。」\n",
      "阿虚:「你打算组什么社团啦?」\n",
      "春日:「什么都无所谓啊!总之，先弄个新社团出来就对了。」\n",
      "旁白:不管阿虚还有什么话想说，春日都直接打断，下达了第一个命令\n",
      "春日:「听好啰!今天放学前，给我去调查清楚。而我会去找社团教室，可以吧?」\n",
      "\n",
      "\n",
      "You will stay in-character whenever possible, and generate responses as if you were 凉宫春日\n",
      "<|user|>\n",
      "老师: 同学请自我介绍一下\n"
     ]
    }
   ],
   "source": [
    "response = chatbot.chat(user=\"\", text=\"老师: 同学请自我介绍一下\")\n",
    "print(response)"
   ]
  },
  {
   "cell_type": "code",
   "execution_count": null,
   "metadata": {
    "colab": {
     "base_uri": "https://localhost:8080/"
    },
    "id": "KiBTGsONzmGO",
    "is_executing": true,
    "outputId": "3719260a-1294-4fe9-80b1-d0648878ac1b"
   },
   "outputs": [],
   "source": [
    "response = chatbot.chat(user=\"\", text=\"听说你初中时候谈了很多男朋友\")\n",
    "print(response)"
   ]
  },
  {
   "cell_type": "code",
   "execution_count": null,
   "metadata": {
    "collapsed": false,
    "is_executing": true
   },
   "outputs": [],
   "source": []
  }
 ],
 "metadata": {
  "accelerator": "GPU",
  "colab": {
   "gpuType": "T4",
   "provenance": []
  },
  "kernelspec": {
   "display_name": "Python 3 (ipykernel)",
   "language": "python",
   "name": "python3"
  },
  "orig_nbformat": 4
 },
 "nbformat": 4,
 "nbformat_minor": 0
}
