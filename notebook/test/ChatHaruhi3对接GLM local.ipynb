{
 "cells": [
  {
   "cell_type": "code",
   "execution_count": 10,
   "metadata": {
    "ExecuteTime": {
     "end_time": "2024-02-15T12:28:13.644242Z",
     "start_time": "2024-02-15T12:28:13.640463Z"
    },
    "collapsed": false
   },
   "outputs": [],
   "source": [
    "# !pip install hf-transfer huggingface_hub"
   ]
  },
  {
   "cell_type": "code",
   "execution_count": 11,
   "metadata": {
    "ExecuteTime": {
     "end_time": "2024-02-15T12:28:13.646164Z",
     "start_time": "2024-02-15T12:28:13.644001Z"
    },
    "id": "6911bv9PzmGK"
   },
   "outputs": [],
   "source": [
    "# !pip install -q transformers torch sentencepiece"
   ]
  },
  {
   "cell_type": "markdown",
   "metadata": {
    "id": "1oGX_qerzmGN"
   },
   "source": [
    "载入ChatHaruhi"
   ]
  },
  {
   "cell_type": "code",
   "execution_count": 12,
   "metadata": {
    "ExecuteTime": {
     "end_time": "2024-02-15T12:28:13.648017Z",
     "start_time": "2024-02-15T12:28:13.645640Z"
    },
    "colab": {
     "base_uri": "https://localhost:8080/"
    },
    "id": "BP__SdrMzmGN",
    "outputId": "c25607be-604a-4885-dce6-3a945e0f371b"
   },
   "outputs": [],
   "source": [
    "# %cd /content\n",
    "# !rm -rf /content/Zero-Haruhi\n",
    "# !git clone https://github.com/LC1332/Zero-Haruhi\n",
    "# %cd /content/Zero-Haruhi"
   ]
  },
  {
   "cell_type": "code",
   "execution_count": 13,
   "metadata": {},
   "outputs": [
    {
     "name": "stdout",
     "output_type": "stream",
     "text": [
      "/workspace/jyh/Zero-Haruhi\n"
     ]
    }
   ],
   "source": [
    "%cd /workspace/jyh/Zero-Haruhi"
   ]
  },
  {
   "cell_type": "code",
   "execution_count": 19,
   "metadata": {
    "ExecuteTime": {
     "end_time": "2024-02-15T12:28:23.665334Z",
     "start_time": "2024-02-15T12:28:13.649332Z"
    },
    "colab": {
     "base_uri": "https://localhost:8080/"
    },
    "id": "jTR1PM4hzmGO",
    "outputId": "f5d41f97-e416-40e8-f577-97117b71bd30"
   },
   "outputs": [
    {
     "ename": "UnicodeDecodeError",
     "evalue": "'ascii' codec can't decode byte 0xe4 in position 10: ordinal not in range(128)",
     "output_type": "error",
     "traceback": [
      "\u001b[0;31m---------------------------------------------------------------------------\u001b[0m",
      "\u001b[0;31mUnicodeDecodeError\u001b[0m                        Traceback (most recent call last)",
      "Cell \u001b[0;32mIn[19], line 4\u001b[0m\n\u001b[1;32m      1\u001b[0m \u001b[38;5;28;01mfrom\u001b[39;00m \u001b[38;5;21;01mChatHaruhi\u001b[39;00m \u001b[38;5;28;01mimport\u001b[39;00m ChatHaruhi\n\u001b[1;32m      2\u001b[0m \u001b[38;5;28;01mfrom\u001b[39;00m \u001b[38;5;21;01mChatHaruhi\u001b[39;00m\u001b[38;5;21;01m.\u001b[39;00m\u001b[38;5;21;01mresponse_GLM_local\u001b[39;00m \u001b[38;5;28;01mimport\u001b[39;00m get_response\n\u001b[0;32m----> 4\u001b[0m chatbot \u001b[38;5;241m=\u001b[39m \u001b[43mChatHaruhi\u001b[49m\u001b[43m(\u001b[49m\u001b[43mrole_name\u001b[49m\u001b[38;5;241;43m=\u001b[39;49m\u001b[38;5;124;43m\"\u001b[39;49m\u001b[38;5;124;43m凉宫春日\u001b[39;49m\u001b[38;5;124;43m\"\u001b[39;49m\u001b[43m,\u001b[49m\u001b[43mrole_from_jsonl\u001b[49m\u001b[38;5;241;43m=\u001b[39;49m\u001b[38;5;124;43m\"\u001b[39;49m\u001b[38;5;124;43m/workspace/jyh/Zero-Haruhi/haruhi.jsonl\u001b[39;49m\u001b[38;5;124;43m\"\u001b[39;49m\u001b[43m,\u001b[49m\u001b[43m \u001b[49m\u001b[43mllm\u001b[49m\u001b[38;5;241;43m=\u001b[39;49m\u001b[43mget_response\u001b[49m\u001b[43m,\u001b[49m\u001b[43m \u001b[49m\u001b[43mverbose\u001b[49m\u001b[38;5;241;43m=\u001b[39;49m\u001b[38;5;28;43;01mTrue\u001b[39;49;00m\u001b[43m)\u001b[49m\n",
      "File \u001b[0;32m/workspace/jyh/Zero-Haruhi/ChatHaruhi/ChatHaruhi.py:87\u001b[0m, in \u001b[0;36mChatHaruhi.__init__\u001b[0;34m(self, role_name, user_name, persona, stories, story_vecs, role_from_hf, role_from_jsonl, llm, llm_async, user_name_in_message, verbose, embed_name, embedding, db, token_counter, max_input_token, max_len_story_haruhi, max_story_n_haruhi)\u001b[0m\n\u001b[1;32m     84\u001b[0m     \u001b[38;5;28mself\u001b[39m\u001b[38;5;241m.\u001b[39mbuild_db(\u001b[38;5;28mself\u001b[39m\u001b[38;5;241m.\u001b[39mstories, \u001b[38;5;28mself\u001b[39m\u001b[38;5;241m.\u001b[39mstory_vecs)\n\u001b[1;32m     85\u001b[0m \u001b[38;5;28;01melif\u001b[39;00m role_from_jsonl:\n\u001b[1;32m     86\u001b[0m     \u001b[38;5;66;03m# 从jsonl加载role\u001b[39;00m\n\u001b[0;32m---> 87\u001b[0m     \u001b[38;5;28mself\u001b[39m\u001b[38;5;241m.\u001b[39mpersona, new_role_name, \u001b[38;5;28mself\u001b[39m\u001b[38;5;241m.\u001b[39mstories, \u001b[38;5;28mself\u001b[39m\u001b[38;5;241m.\u001b[39mstory_vecs \u001b[38;5;241m=\u001b[39m \u001b[38;5;28;43mself\u001b[39;49m\u001b[38;5;241;43m.\u001b[39;49m\u001b[43mload_role_from_jsonl\u001b[49m\u001b[43m(\u001b[49m\u001b[43mrole_from_jsonl\u001b[49m\u001b[43m)\u001b[49m\n\u001b[1;32m     88\u001b[0m     \u001b[38;5;28;01mif\u001b[39;00m new_role_name:\n\u001b[1;32m     89\u001b[0m         \u001b[38;5;28mself\u001b[39m\u001b[38;5;241m.\u001b[39mrole_name \u001b[38;5;241m=\u001b[39m new_role_name\n",
      "File \u001b[0;32m/workspace/jyh/Zero-Haruhi/ChatHaruhi/ChatHaruhi.py:365\u001b[0m, in \u001b[0;36mChatHaruhi.load_role_from_jsonl\u001b[0;34m(self, role_from_jsonl)\u001b[0m\n\u001b[1;32m    363\u001b[0m datas \u001b[38;5;241m=\u001b[39m []\n\u001b[1;32m    364\u001b[0m \u001b[38;5;28;01mwith\u001b[39;00m \u001b[38;5;28mopen\u001b[39m(role_from_jsonl, \u001b[38;5;124m'\u001b[39m\u001b[38;5;124mr\u001b[39m\u001b[38;5;124m'\u001b[39m) \u001b[38;5;28;01mas\u001b[39;00m f:\n\u001b[0;32m--> 365\u001b[0m     \u001b[38;5;28;01mfor\u001b[39;00m line \u001b[38;5;129;01min\u001b[39;00m f:\n\u001b[1;32m    366\u001b[0m         \u001b[38;5;28;01mtry\u001b[39;00m:\n\u001b[1;32m    367\u001b[0m             datas\u001b[38;5;241m.\u001b[39mappend(json\u001b[38;5;241m.\u001b[39mloads(line))\n",
      "File \u001b[0;32m/workspace/jyh/miniconda3/envs/ChatWorld/lib/python3.9/encodings/ascii.py:26\u001b[0m, in \u001b[0;36mIncrementalDecoder.decode\u001b[0;34m(self, input, final)\u001b[0m\n\u001b[1;32m     25\u001b[0m \u001b[38;5;28;01mdef\u001b[39;00m \u001b[38;5;21mdecode\u001b[39m(\u001b[38;5;28mself\u001b[39m, \u001b[38;5;28minput\u001b[39m, final\u001b[38;5;241m=\u001b[39m\u001b[38;5;28;01mFalse\u001b[39;00m):\n\u001b[0;32m---> 26\u001b[0m     \u001b[38;5;28;01mreturn\u001b[39;00m \u001b[43mcodecs\u001b[49m\u001b[38;5;241;43m.\u001b[39;49m\u001b[43mascii_decode\u001b[49m\u001b[43m(\u001b[49m\u001b[38;5;28;43minput\u001b[39;49m\u001b[43m,\u001b[49m\u001b[43m \u001b[49m\u001b[38;5;28;43mself\u001b[39;49m\u001b[38;5;241;43m.\u001b[39;49m\u001b[43merrors\u001b[49m\u001b[43m)\u001b[49m[\u001b[38;5;241m0\u001b[39m]\n",
      "\u001b[0;31mUnicodeDecodeError\u001b[0m: 'ascii' codec can't decode byte 0xe4 in position 10: ordinal not in range(128)"
     ]
    }
   ],
   "source": [
    "from ChatHaruhi import ChatHaruhi\n",
    "from ChatHaruhi.response_GLM_local import get_response\n",
    "\n",
    "chatbot = ChatHaruhi(role_name=\"凉宫春日\",role_from_jsonl=\"/workspace/jyh/Zero-Haruhi/haruhi.jsonl\", llm=get_response, verbose=True)\n",
    "chatbot.add_rag_prompt_after_persona()"
   ]
  },
  {
   "cell_type": "code",
   "execution_count": 15,
   "metadata": {},
   "outputs": [
    {
     "name": "stdout",
     "output_type": "stream",
     "text": [
      "query_rags: [] rest_limit = 1540\n"
     ]
    },
    {
     "data": {
      "application/vnd.jupyter.widget-view+json": {
       "model_id": "5c96a7618c354ad2ad5b17bc4922ef37",
       "version_major": 2,
       "version_minor": 0
      },
      "text/plain": [
       "Loading checkpoint shards:   0%|          | 0/7 [00:00<?, ?it/s]"
      ]
     },
     "metadata": {},
     "output_type": "display_data"
    },
    {
     "name": "stdout",
     "output_type": "stream",
     "text": [
      "<|凉宫春日|> 我是凉宫春日，凉宫春日是一个在SOS团中担任团队领导的角色。我是一个热爱cosplay的人，同时也是一个具有创新思维和独立精神的人。我总是以自己和SOS团的事情为重，对于阿虚这样的问题，我会希望他也能把注意力放在我们的事情上。\n"
     ]
    }
   ],
   "source": [
    "response = chatbot.chat(user=\"\", text=\"你是谁？\")\n",
    "print(response)"
   ]
  },
  {
   "cell_type": "code",
   "execution_count": 16,
   "metadata": {
    "ExecuteTime": {
     "start_time": "2024-02-15T12:28:23.665578Z"
    },
    "collapsed": false,
    "is_executing": true
   },
   "outputs": [
    {
     "name": "stdout",
     "output_type": "stream",
     "text": [
      "new user 老师 included in conversation\n",
      "query_rags: [] rest_limit = 1535\n",
      "<|凉宫春日|> 当然可以。我是凉宫春日，SOS团的团队领导。我是一个热爱cosplay的人，同时也是一个具有创新思维和独立精神的人。我总是以自己和SOS团的事情为重，对于阿虚这样的问题，我会希望他也能把注意力放在我们的事情上。很高兴认识你，希望我们能够成为好朋友。\n"
     ]
    }
   ],
   "source": [
    "response = chatbot.chat(user=\"老师\", text=\"同学请自我介绍一下\")\n",
    "print(response)"
   ]
  },
  {
   "cell_type": "code",
   "execution_count": 17,
   "metadata": {
    "colab": {
     "base_uri": "https://localhost:8080/"
    },
    "id": "KiBTGsONzmGO",
    "is_executing": true,
    "outputId": "3719260a-1294-4fe9-80b1-d0648878ac1b"
   },
   "outputs": [
    {
     "name": "stdout",
     "output_type": "stream",
     "text": [
      "query_rags: [] rest_limit = 1527\n"
     ]
    },
    {
     "name": "stdout",
     "output_type": "stream",
     "text": [
      "<|凉宫春日|> 是的，我在初中时期确实谈过很多男朋友。但是，那些恋情都很短暂，并且没有对我的生活产生太大的影响。我更注重自己的事业和学业，而不是感情。当然，如果遇到合适的人，我也会考虑恋爱。但是，对于阿虚这样的问题，我会希望他能够把注意力放在我们的事情上，而不是我的私人生活。\n"
     ]
    }
   ],
   "source": [
    "response = chatbot.chat(user=\"\", text=\"听说你初中时候谈了很多男朋友\")\n",
    "print(response)"
   ]
  },
  {
   "cell_type": "code",
   "execution_count": 18,
   "metadata": {},
   "outputs": [
    {
     "data": {
      "text/plain": [
       "[{'speaker': '', 'content': '你是谁？'},\n",
       " {'speaker': '{{role}}',\n",
       "  'content': '<|凉宫春日|> 我是凉宫春日，凉宫春日是一个在SOS团中担任团队领导的角色。我是一个热爱cosplay的人，同时也是一个具有创新思维和独立精神的人。我总是以自己和SOS团的事情为重，对于阿虚这样的问题，我会希望他也能把注意力放在我们的事情上。'},\n",
       " {'speaker': '老师', 'content': '同学请自我介绍一下'},\n",
       " {'speaker': '{{role}}',\n",
       "  'content': '<|凉宫春日|> 当然可以。我是凉宫春日，SOS团的团队领导。我是一个热爱cosplay的人，同时也是一个具有创新思维和独立精神的人。我总是以自己和SOS团的事情为重，对于阿虚这样的问题，我会希望他也能把注意力放在我们的事情上。很高兴认识你，希望我们能够成为好朋友。'},\n",
       " {'speaker': '', 'content': '听说你初中时候谈了很多男朋友'},\n",
       " {'speaker': '{{role}}',\n",
       "  'content': '<|凉宫春日|> 是的，我在初中时期确实谈过很多男朋友。但是，那些恋情都很短暂，并且没有对我的生活产生太大的影响。我更注重自己的事业和学业，而不是感情。当然，如果遇到合适的人，我也会考虑恋爱。但是，对于阿虚这样的问题，我会希望他能够把注意力放在我们的事情上，而不是我的私人生活。'}]"
      ]
     },
     "execution_count": 18,
     "metadata": {},
     "output_type": "execute_result"
    }
   ],
   "source": [
    "chatbot.history"
   ]
  },
  {
   "cell_type": "code",
   "execution_count": null,
   "metadata": {},
   "outputs": [],
   "source": []
  }
 ],
 "metadata": {
  "accelerator": "GPU",
  "colab": {
   "gpuType": "T4",
   "provenance": []
  },
  "kernelspec": {
   "display_name": "Python 3 (ipykernel)",
   "language": "python",
   "name": "python3"
  },
  "language_info": {
   "codemirror_mode": {
    "name": "ipython",
    "version": 3
   },
   "file_extension": ".py",
   "mimetype": "text/x-python",
   "name": "python",
   "nbconvert_exporter": "python",
   "pygments_lexer": "ipython3",
   "version": "3.9.18"
  },
  "orig_nbformat": 4
 },
 "nbformat": 4,
 "nbformat_minor": 0
}
