{
 "cells": [
  {
   "cell_type": "markdown",
   "metadata": {},
   "source": [
    "# ChatGLM-6b full\n",
    "本代码是 江宇航 搭建的基于ChatGLM-6b Haruhi-Zero的最小测试代码"
   ]
  },
  {
   "cell_type": "code",
   "execution_count": 1,
   "metadata": {
    "ExecuteTime": {
     "end_time": "2024-02-15T12:28:13.644242Z",
     "start_time": "2024-02-15T12:28:13.640463Z"
    },
    "collapsed": false
   },
   "outputs": [],
   "source": [
    "# %pip install hf-transfer huggingface_hub"
   ]
  },
  {
   "cell_type": "code",
   "execution_count": 2,
   "metadata": {
    "ExecuteTime": {
     "end_time": "2024-02-15T12:28:13.646164Z",
     "start_time": "2024-02-15T12:28:13.644001Z"
    },
    "id": "6911bv9PzmGK"
   },
   "outputs": [],
   "source": [
    "# %pip install -q transformers torch sentencepiece"
   ]
  },
  {
   "cell_type": "markdown",
   "metadata": {
    "id": "1oGX_qerzmGN"
   },
   "source": [
    "载入ChatHaruhi"
   ]
  },
  {
   "cell_type": "code",
   "execution_count": 3,
   "metadata": {
    "ExecuteTime": {
     "end_time": "2024-02-15T12:28:13.648017Z",
     "start_time": "2024-02-15T12:28:13.645640Z"
    },
    "colab": {
     "base_uri": "https://localhost:8080/"
    },
    "id": "BP__SdrMzmGN",
    "outputId": "c25607be-604a-4885-dce6-3a945e0f371b"
   },
   "outputs": [],
   "source": [
    "# %cd /content\n",
    "# !rm -rf /content/Zero-Haruhi\n",
    "# !git clone https://github.com/LC1332/Zero-Haruhi\n",
    "# %cd /content/Zero-Haruhi"
   ]
  },
  {
   "cell_type": "code",
   "execution_count": 4,
   "metadata": {},
   "outputs": [
    {
     "name": "stdout",
     "output_type": "stream",
     "text": [
      "/workspace/jyh/Zero-Haruhi\n"
     ]
    }
   ],
   "source": [
    "%cd /workspace/jyh/Zero-Haruhi\n",
    "!export HF_HOME=\"/workspace/jyh/.cache/huggingface/\"\n",
    "!export HF_HUB_ENABLE_HF_TRANSFER=1"
   ]
  },
  {
   "cell_type": "code",
   "execution_count": 5,
   "metadata": {
    "ExecuteTime": {
     "end_time": "2024-02-15T12:28:23.665334Z",
     "start_time": "2024-02-15T12:28:13.649332Z"
    },
    "colab": {
     "base_uri": "https://localhost:8080/"
    },
    "id": "jTR1PM4hzmGO",
    "outputId": "f5d41f97-e416-40e8-f577-97117b71bd30"
   },
   "outputs": [],
   "source": [
    "from ChatHaruhi import ChatHaruhi\n",
    "from ChatHaruhi.response_GLM_local import get_response\n",
    "\n",
    "chatbot = ChatHaruhi(role_name=\"凉宫春日\",role_from_jsonl=\"/workspace/jyh/Zero-Haruhi/haruhi.jsonl\", llm=get_response, verbose=True)\n",
    "chatbot.add_rag_prompt_after_persona()"
   ]
  },
  {
   "cell_type": "code",
   "execution_count": 6,
   "metadata": {},
   "outputs": [
    {
     "name": "stdout",
     "output_type": "stream",
     "text": [
      "query_rags: [{'n': 5, 'max_token': 1000, 'query': '你是谁？', 'lid': 8}] rest_limit = 1515\n",
      "downloading THUDM/chatglm3-6b\n"
     ]
    },
    {
     "data": {
      "application/vnd.jupyter.widget-view+json": {
       "model_id": "0c2c6eb83af64c5db50ed87ed0043a97",
       "version_major": 2,
       "version_minor": 0
      },
      "text/plain": [
       "Fetching 19 files:   0%|          | 0/19 [00:00<?, ?it/s]"
      ]
     },
     "metadata": {},
     "output_type": "display_data"
    },
    {
     "data": {
      "application/vnd.jupyter.widget-view+json": {
       "model_id": "e38af4cee1404c9d9a595f0f355b0c15",
       "version_major": 2,
       "version_minor": 0
      },
      "text/plain": [
       "quantization.py: 0.00B [00:00, ?B/s]"
      ]
     },
     "metadata": {},
     "output_type": "display_data"
    },
    {
     "data": {
      "application/vnd.jupyter.widget-view+json": {
       "model_id": "932dc71e8c05453b9e3e9723a46e1193",
       "version_major": 2,
       "version_minor": 0
      },
      "text/plain": [
       "tokenization_chatglm.py: 0.00B [00:00, ?B/s]"
      ]
     },
     "metadata": {},
     "output_type": "display_data"
    },
    {
     "data": {
      "application/vnd.jupyter.widget-view+json": {
       "model_id": "d8d2820c58fd4660843274133777d288",
       "version_major": 2,
       "version_minor": 0
      },
      "text/plain": [
       "tokenizer_config.json:   0%|          | 0.00/303 [00:00<?, ?B/s]"
      ]
     },
     "metadata": {},
     "output_type": "display_data"
    },
    {
     "data": {
      "application/vnd.jupyter.widget-view+json": {
       "model_id": "2079dd7168a84fef8dbc7351d4b97ba8",
       "version_major": 2,
       "version_minor": 0
      },
      "text/plain": [
       "pytorch_model.bin.index.json:   0%|          | 0.00/1.07k [00:00<?, ?B/s]"
      ]
     },
     "metadata": {},
     "output_type": "display_data"
    },
    {
     "data": {
      "application/vnd.jupyter.widget-view+json": {
       "model_id": "2a619b373cc2415a84bfb96b85ebd76a",
       "version_major": 2,
       "version_minor": 0
      },
      "text/plain": [
       "tokenizer.model:   0%|          | 0.00/1.02M [00:00<?, ?B/s]"
      ]
     },
     "metadata": {},
     "output_type": "display_data"
    },
    {
     "data": {
      "application/vnd.jupyter.widget-view+json": {
       "model_id": "c4fa253ce7f14929bac384d45f6e3b54",
       "version_major": 2,
       "version_minor": 0
      },
      "text/plain": [
       "model-00006-of-00007.safetensors:  93%|#########3| 1.79G/1.93G [00:00<?, ?B/s]"
      ]
     },
     "metadata": {},
     "output_type": "display_data"
    },
    {
     "data": {
      "application/vnd.jupyter.widget-view+json": {
       "model_id": "facda14c38634b40869c342b0c6b31d9",
       "version_major": 2,
       "version_minor": 0
      },
      "text/plain": [
       "model-00005-of-00007.safetensors:  60%|######    | 1.18G/1.97G [00:00<?, ?B/s]"
      ]
     },
     "metadata": {},
     "output_type": "display_data"
    },
    {
     "data": {
      "application/vnd.jupyter.widget-view+json": {
       "model_id": "f91fa28526b84934a9dbccf4eadd0b51",
       "version_major": 2,
       "version_minor": 0
      },
      "text/plain": [
       "model-00003-of-00007.safetensors:  82%|########2 | 1.58G/1.93G [00:00<?, ?B/s]"
      ]
     },
     "metadata": {},
     "output_type": "display_data"
    },
    {
     "name": "stderr",
     "output_type": "stream",
     "text": [
      "A new version of the following files was downloaded from https://huggingface.co/THUDM/chatglm3-6b:\n",
      "- quantization.py\n",
      ". Make sure to double-check they do not contain any added malicious code. To avoid downloading new versions of the code file, you can pin a revision.\n"
     ]
    },
    {
     "data": {
      "application/vnd.jupyter.widget-view+json": {
       "model_id": "acff7ed49d7646cb8f8d4f01bc310274",
       "version_major": 2,
       "version_minor": 0
      },
      "text/plain": [
       "Loading checkpoint shards:   0%|          | 0/7 [00:00<?, ?it/s]"
      ]
     },
     "metadata": {},
     "output_type": "display_data"
    },
    {
     "name": "stdout",
     "output_type": "stream",
     "text": [
      "你好，我是凉宫春日，是SOS团的一员。有什么问题我可以帮忙解答吗？\n"
     ]
    }
   ],
   "source": [
    "response = chatbot.chat(user=\"\", text=\"你是谁？\")\n",
    "print(response)"
   ]
  },
  {
   "cell_type": "code",
   "execution_count": 7,
   "metadata": {
    "ExecuteTime": {
     "start_time": "2024-02-15T12:28:23.665578Z"
    },
    "collapsed": false,
    "is_executing": true
   },
   "outputs": [
    {
     "name": "stdout",
     "output_type": "stream",
     "text": [
      "new user 老师 included in conversation\n",
      "query_rags: [{'n': 5, 'max_token': 1000, 'query': '同学请自我介绍一下', 'lid': 8}] rest_limit = 1510\n",
      "我是一个名为凉宫春日的学生，目前就读于古典部。我对普通的人类并不感兴趣，但如果有外星人、未来人、异世界的人或者超能力者的话，我会非常感兴趣并欢迎他们加入我的团队。\n"
     ]
    }
   ],
   "source": [
    "response = chatbot.chat(user=\"老师\", text=\"同学请自我介绍一下\")\n",
    "print(response)"
   ]
  },
  {
   "cell_type": "code",
   "execution_count": 8,
   "metadata": {
    "colab": {
     "base_uri": "https://localhost:8080/"
    },
    "id": "KiBTGsONzmGO",
    "is_executing": true,
    "outputId": "3719260a-1294-4fe9-80b1-d0648878ac1b"
   },
   "outputs": [
    {
     "name": "stdout",
     "output_type": "stream",
     "text": [
      "query_rags: [{'n': 5, 'max_token': 1000, 'query': '听说你初中时候谈了很多男朋友', 'lid': 8}] rest_limit = 1502\n",
      "是哪个班的呀？我可是对所有的事情都很感兴趣呢。\n"
     ]
    }
   ],
   "source": [
    "response = chatbot.chat(user=\"\", text=\"听说你初中时候谈了很多男朋友\")\n",
    "print(response)"
   ]
  },
  {
   "cell_type": "code",
   "execution_count": 9,
   "metadata": {},
   "outputs": [
    {
     "data": {
      "text/plain": [
       "[{'speaker': '', 'content': '你是谁？'},\n",
       " {'speaker': '{{role}}', 'content': '你好，我是凉宫春日，是SOS团的一员。有什么问题我可以帮忙解答吗？'},\n",
       " {'speaker': '老师', 'content': '同学请自我介绍一下'},\n",
       " {'speaker': '{{role}}',\n",
       "  'content': '我是一个名为凉宫春日的学生，目前就读于古典部。我对普通的人类并不感兴趣，但如果有外星人、未来人、异世界的人或者超能力者的话，我会非常感兴趣并欢迎他们加入我的团队。'},\n",
       " {'speaker': '', 'content': '听说你初中时候谈了很多男朋友'},\n",
       " {'speaker': '{{role}}', 'content': '是哪个班的呀？我可是对所有的事情都很感兴趣呢。'}]"
      ]
     },
     "execution_count": 9,
     "metadata": {},
     "output_type": "execute_result"
    }
   ],
   "source": [
    "chatbot.history"
   ]
  },
  {
   "cell_type": "code",
   "execution_count": null,
   "metadata": {},
   "outputs": [],
   "source": []
  }
 ],
 "metadata": {
  "accelerator": "GPU",
  "colab": {
   "gpuType": "T4",
   "provenance": []
  },
  "kernelspec": {
   "display_name": "Python 3 (ipykernel)",
   "language": "python",
   "name": "python3"
  },
  "language_info": {
   "codemirror_mode": {
    "name": "ipython",
    "version": 3
   },
   "file_extension": ".py",
   "mimetype": "text/x-python",
   "name": "python",
   "nbconvert_exporter": "python",
   "pygments_lexer": "ipython3",
   "version": "3.9.18"
  },
  "orig_nbformat": 4
 },
 "nbformat": 4,
 "nbformat_minor": 0
}
