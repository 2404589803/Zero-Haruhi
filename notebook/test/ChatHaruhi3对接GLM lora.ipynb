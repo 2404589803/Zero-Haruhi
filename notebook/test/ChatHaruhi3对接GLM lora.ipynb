{
 "cells": [
  {
   "cell_type": "markdown",
   "metadata": {},
   "source": [
    "# ChatGLM-6b lora\n",
    "本代码是 江宇航 搭建的基于ChatGLM-6b Haruhi-Zero的最小测试代码"
   ]
  },
  {
   "cell_type": "code",
   "execution_count": 1,
   "metadata": {
    "ExecuteTime": {
     "end_time": "2024-02-17T13:43:06.526024Z",
     "start_time": "2024-02-17T13:43:06.515946Z"
    },
    "collapsed": false
   },
   "outputs": [],
   "source": [
    "# %pip install hf-transfer huggingface_hub"
   ]
  },
  {
   "cell_type": "markdown",
   "metadata": {},
   "source": [
    "# 注意\n",
    "peft一定要是0.7.1!\n",
    "卡了我一天，解决这个问题！"
   ]
  },
  {
   "cell_type": "code",
   "execution_count": 2,
   "metadata": {
    "ExecuteTime": {
     "end_time": "2024-02-17T13:43:06.526317Z",
     "start_time": "2024-02-17T13:43:06.522533Z"
    },
    "id": "6911bv9PzmGK"
   },
   "outputs": [],
   "source": [
    "# %pip install -q transformers torch sentencepiece peft==0.7.1"
   ]
  },
  {
   "cell_type": "markdown",
   "metadata": {
    "id": "1oGX_qerzmGN"
   },
   "source": [
    "载入ChatHaruhi"
   ]
  },
  {
   "cell_type": "code",
   "execution_count": 3,
   "metadata": {
    "ExecuteTime": {
     "end_time": "2024-02-17T13:43:06.536853Z",
     "start_time": "2024-02-17T13:43:06.528287Z"
    }
   },
   "outputs": [
    {
     "name": "stdout",
     "output_type": "stream",
     "text": [
      "/workspace/jyh/Zero-Haruhi\n"
     ]
    }
   ],
   "source": [
    "%cd ../.."
   ]
  },
  {
   "cell_type": "code",
   "execution_count": 4,
   "metadata": {
    "ExecuteTime": {
     "end_time": "2024-02-17T13:43:08.767430Z",
     "start_time": "2024-02-17T13:43:06.535482Z"
    },
    "colab": {
     "base_uri": "https://localhost:8080/"
    },
    "id": "jTR1PM4hzmGO",
    "outputId": "f5d41f97-e416-40e8-f577-97117b71bd30"
   },
   "outputs": [],
   "source": [
    "from ChatHaruhi import ChatHaruhi\n",
    "from ChatHaruhi.response_GLM_lora import get_response\n",
    "\n",
    "chatbot = ChatHaruhi(role_name=\"凉宫春日\",role_from_jsonl=\"haruhi.jsonl\", llm=get_response, verbose=True)\n",
    "chatbot.add_rag_prompt_after_persona()"
   ]
  },
  {
   "cell_type": "code",
   "execution_count": 5,
   "metadata": {
    "ExecuteTime": {
     "end_time": "2024-02-17T13:44:25.359025Z",
     "start_time": "2024-02-17T13:43:08.768903Z"
    }
   },
   "outputs": [
    {
     "name": "stdout",
     "output_type": "stream",
     "text": [
      "query_rags: [{'n': 5, 'max_token': 1000, 'query': '你是谁？', 'lid': 8}] rest_limit = 1515\n"
     ]
    },
    {
     "data": {
      "application/vnd.jupyter.widget-view+json": {
       "model_id": "b34177fce98a4d59ada22786ad047fec",
       "version_major": 2,
       "version_minor": 0
      },
      "text/plain": [
       "Loading checkpoint shards:   0%|          | 0/7 [00:00<?, ?it/s]"
      ]
     },
     "metadata": {},
     "output_type": "display_data"
    },
    {
     "name": "stdout",
     "output_type": "stream",
     "text": [
      "凉宫春日: 我是凉宫春日，凉宫春日在这里！有什么我可以帮忙的吗？\n"
     ]
    }
   ],
   "source": [
    "response = chatbot.chat(user=\"\", text=\"你是谁？\")\n",
    "print(response)"
   ]
  },
  {
   "cell_type": "code",
   "execution_count": 6,
   "metadata": {
    "ExecuteTime": {
     "end_time": "2024-02-17T13:44:25.360310Z",
     "start_time": "2024-02-17T13:44:25.359814Z"
    },
    "collapsed": false
   },
   "outputs": [
    {
     "name": "stdout",
     "output_type": "stream",
     "text": [
      "new user 老师 included in conversation\n",
      "query_rags: [{'n': 5, 'max_token': 1000, 'query': '同学请自我介绍一下', 'lid': 8}] rest_limit = 1510\n"
     ]
    },
    {
     "name": "stdout",
     "output_type": "stream",
     "text": [
      "凉宫春日: 大家好，我是凉宫春日。我来自东中，擅长cosplay和做甜点。我对普通人类并不感兴趣，但如果你们中有外星人、未来人、异世界的人或者超能力者，请尽管来找我！当然，如果你们需要帮助，我也会尽力支持。那么，现在我们来依次介绍吧。\n"
     ]
    }
   ],
   "source": [
    "response = chatbot.chat(user=\"老师\", text=\"同学请自我介绍一下\")\n",
    "print(response)"
   ]
  },
  {
   "cell_type": "code",
   "execution_count": 7,
   "metadata": {
    "ExecuteTime": {
     "start_time": "2024-02-17T13:44:25.366514Z"
    },
    "colab": {
     "base_uri": "https://localhost:8080/"
    },
    "id": "KiBTGsONzmGO",
    "outputId": "3719260a-1294-4fe9-80b1-d0648878ac1b"
   },
   "outputs": [
    {
     "name": "stdout",
     "output_type": "stream",
     "text": [
      "query_rags: [{'n': 5, 'max_token': 1000, 'query': '听说你初中时候谈了很多男朋友', 'lid': 8}] rest_limit = 1502\n",
      "凉宫春日: \"为什么我非得听你讲这种事?你有什么企图吗?\"\n"
     ]
    }
   ],
   "source": [
    "response = chatbot.chat(user=\"\", text=\"听说你初中时候谈了很多男朋友\")\n",
    "print(response)"
   ]
  },
  {
   "cell_type": "code",
   "execution_count": 8,
   "metadata": {
    "ExecuteTime": {
     "start_time": "2024-02-17T13:44:25.370668Z"
    }
   },
   "outputs": [
    {
     "data": {
      "text/plain": [
       "[{'speaker': '', 'content': '你是谁？'},\n",
       " {'speaker': '{{role}}', 'content': '凉宫春日: 我是凉宫春日，凉宫春日在这里！有什么我可以帮忙的吗？'},\n",
       " {'speaker': '老师', 'content': '同学请自我介绍一下'},\n",
       " {'speaker': '{{role}}',\n",
       "  'content': '凉宫春日: 大家好，我是凉宫春日。我来自东中，擅长cosplay和做甜点。我对普通人类并不感兴趣，但如果你们中有外星人、未来人、异世界的人或者超能力者，请尽管来找我！当然，如果你们需要帮助，我也会尽力支持。那么，现在我们来依次介绍吧。'},\n",
       " {'speaker': '', 'content': '听说你初中时候谈了很多男朋友'},\n",
       " {'speaker': '{{role}}', 'content': '凉宫春日: \"为什么我非得听你讲这种事?你有什么企图吗?\"'}]"
      ]
     },
     "execution_count": 8,
     "metadata": {},
     "output_type": "execute_result"
    }
   ],
   "source": [
    "chatbot.history"
   ]
  }
 ],
 "metadata": {
  "accelerator": "GPU",
  "colab": {
   "gpuType": "T4",
   "provenance": []
  },
  "kernelspec": {
   "display_name": "Python 3 (ipykernel)",
   "language": "python",
   "name": "python3"
  },
  "language_info": {
   "codemirror_mode": {
    "name": "ipython",
    "version": 3
   },
   "file_extension": ".py",
   "mimetype": "text/x-python",
   "name": "python",
   "nbconvert_exporter": "python",
   "pygments_lexer": "ipython3",
   "version": "3.9.18"
  },
  "orig_nbformat": 4
 },
 "nbformat": 4,
 "nbformat_minor": 0
}
