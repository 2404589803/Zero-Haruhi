{
  "nbformat": 4,
  "nbformat_minor": 0,
  "metadata": {
    "colab": {
      "provenance": [],
      "authorship_tag": "ABX9TyMAtBq5+gOMyMdq8m6bnrzQ",
      "include_colab_link": true
    },
    "kernelspec": {
      "name": "python3",
      "display_name": "Python 3"
    },
    "language_info": {
      "name": "python"
    },
    "widgets": {
      "application/vnd.jupyter.widget-state+json": {
        "e0c9fa4ab8854e339d6fed4eeab99c04": {
          "model_module": "@jupyter-widgets/controls",
          "model_name": "HBoxModel",
          "model_module_version": "1.5.0",
          "state": {
            "_dom_classes": [],
            "_model_module": "@jupyter-widgets/controls",
            "_model_module_version": "1.5.0",
            "_model_name": "HBoxModel",
            "_view_count": null,
            "_view_module": "@jupyter-widgets/controls",
            "_view_module_version": "1.5.0",
            "_view_name": "HBoxView",
            "box_style": "",
            "children": [
              "IPY_MODEL_ce4b542f8e41470da3dc396c627e25be",
              "IPY_MODEL_e81f23f1db584e99bc653fc9eb043cfd",
              "IPY_MODEL_cd3cd95c362a4b5392e36d52496ee76b"
            ],
            "layout": "IPY_MODEL_368f2a0b1d0648669a406086e94762fa"
          }
        },
        "ce4b542f8e41470da3dc396c627e25be": {
          "model_module": "@jupyter-widgets/controls",
          "model_name": "HTMLModel",
          "model_module_version": "1.5.0",
          "state": {
            "_dom_classes": [],
            "_model_module": "@jupyter-widgets/controls",
            "_model_module_version": "1.5.0",
            "_model_name": "HTMLModel",
            "_view_count": null,
            "_view_module": "@jupyter-widgets/controls",
            "_view_module_version": "1.5.0",
            "_view_name": "HTMLView",
            "description": "",
            "description_tooltip": null,
            "layout": "IPY_MODEL_be297a76dd2343f3aa20e7f2457d380a",
            "placeholder": "​",
            "style": "IPY_MODEL_c82896d6382445aeb01250ddc9f0fdc6",
            "value": "Downloading readme: 100%"
          }
        },
        "e81f23f1db584e99bc653fc9eb043cfd": {
          "model_module": "@jupyter-widgets/controls",
          "model_name": "FloatProgressModel",
          "model_module_version": "1.5.0",
          "state": {
            "_dom_classes": [],
            "_model_module": "@jupyter-widgets/controls",
            "_model_module_version": "1.5.0",
            "_model_name": "FloatProgressModel",
            "_view_count": null,
            "_view_module": "@jupyter-widgets/controls",
            "_view_module_version": "1.5.0",
            "_view_name": "ProgressView",
            "bar_style": "success",
            "description": "",
            "description_tooltip": null,
            "layout": "IPY_MODEL_0d3f9002f9014dd58669b4340ac59fec",
            "max": 1231,
            "min": 0,
            "orientation": "horizontal",
            "style": "IPY_MODEL_433e66a044b441fb87ad65428e1dac4d",
            "value": 1231
          }
        },
        "cd3cd95c362a4b5392e36d52496ee76b": {
          "model_module": "@jupyter-widgets/controls",
          "model_name": "HTMLModel",
          "model_module_version": "1.5.0",
          "state": {
            "_dom_classes": [],
            "_model_module": "@jupyter-widgets/controls",
            "_model_module_version": "1.5.0",
            "_model_name": "HTMLModel",
            "_view_count": null,
            "_view_module": "@jupyter-widgets/controls",
            "_view_module_version": "1.5.0",
            "_view_name": "HTMLView",
            "description": "",
            "description_tooltip": null,
            "layout": "IPY_MODEL_d9feaa727ebf4e8ba4564e9e001f10d3",
            "placeholder": "​",
            "style": "IPY_MODEL_ee0b4576c5f94bb9a70d5ebd8f167571",
            "value": " 1.23k/1.23k [00:00&lt;00:00, 44.0kB/s]"
          }
        },
        "368f2a0b1d0648669a406086e94762fa": {
          "model_module": "@jupyter-widgets/base",
          "model_name": "LayoutModel",
          "model_module_version": "1.2.0",
          "state": {
            "_model_module": "@jupyter-widgets/base",
            "_model_module_version": "1.2.0",
            "_model_name": "LayoutModel",
            "_view_count": null,
            "_view_module": "@jupyter-widgets/base",
            "_view_module_version": "1.2.0",
            "_view_name": "LayoutView",
            "align_content": null,
            "align_items": null,
            "align_self": null,
            "border": null,
            "bottom": null,
            "display": null,
            "flex": null,
            "flex_flow": null,
            "grid_area": null,
            "grid_auto_columns": null,
            "grid_auto_flow": null,
            "grid_auto_rows": null,
            "grid_column": null,
            "grid_gap": null,
            "grid_row": null,
            "grid_template_areas": null,
            "grid_template_columns": null,
            "grid_template_rows": null,
            "height": null,
            "justify_content": null,
            "justify_items": null,
            "left": null,
            "margin": null,
            "max_height": null,
            "max_width": null,
            "min_height": null,
            "min_width": null,
            "object_fit": null,
            "object_position": null,
            "order": null,
            "overflow": null,
            "overflow_x": null,
            "overflow_y": null,
            "padding": null,
            "right": null,
            "top": null,
            "visibility": null,
            "width": null
          }
        },
        "be297a76dd2343f3aa20e7f2457d380a": {
          "model_module": "@jupyter-widgets/base",
          "model_name": "LayoutModel",
          "model_module_version": "1.2.0",
          "state": {
            "_model_module": "@jupyter-widgets/base",
            "_model_module_version": "1.2.0",
            "_model_name": "LayoutModel",
            "_view_count": null,
            "_view_module": "@jupyter-widgets/base",
            "_view_module_version": "1.2.0",
            "_view_name": "LayoutView",
            "align_content": null,
            "align_items": null,
            "align_self": null,
            "border": null,
            "bottom": null,
            "display": null,
            "flex": null,
            "flex_flow": null,
            "grid_area": null,
            "grid_auto_columns": null,
            "grid_auto_flow": null,
            "grid_auto_rows": null,
            "grid_column": null,
            "grid_gap": null,
            "grid_row": null,
            "grid_template_areas": null,
            "grid_template_columns": null,
            "grid_template_rows": null,
            "height": null,
            "justify_content": null,
            "justify_items": null,
            "left": null,
            "margin": null,
            "max_height": null,
            "max_width": null,
            "min_height": null,
            "min_width": null,
            "object_fit": null,
            "object_position": null,
            "order": null,
            "overflow": null,
            "overflow_x": null,
            "overflow_y": null,
            "padding": null,
            "right": null,
            "top": null,
            "visibility": null,
            "width": null
          }
        },
        "c82896d6382445aeb01250ddc9f0fdc6": {
          "model_module": "@jupyter-widgets/controls",
          "model_name": "DescriptionStyleModel",
          "model_module_version": "1.5.0",
          "state": {
            "_model_module": "@jupyter-widgets/controls",
            "_model_module_version": "1.5.0",
            "_model_name": "DescriptionStyleModel",
            "_view_count": null,
            "_view_module": "@jupyter-widgets/base",
            "_view_module_version": "1.2.0",
            "_view_name": "StyleView",
            "description_width": ""
          }
        },
        "0d3f9002f9014dd58669b4340ac59fec": {
          "model_module": "@jupyter-widgets/base",
          "model_name": "LayoutModel",
          "model_module_version": "1.2.0",
          "state": {
            "_model_module": "@jupyter-widgets/base",
            "_model_module_version": "1.2.0",
            "_model_name": "LayoutModel",
            "_view_count": null,
            "_view_module": "@jupyter-widgets/base",
            "_view_module_version": "1.2.0",
            "_view_name": "LayoutView",
            "align_content": null,
            "align_items": null,
            "align_self": null,
            "border": null,
            "bottom": null,
            "display": null,
            "flex": null,
            "flex_flow": null,
            "grid_area": null,
            "grid_auto_columns": null,
            "grid_auto_flow": null,
            "grid_auto_rows": null,
            "grid_column": null,
            "grid_gap": null,
            "grid_row": null,
            "grid_template_areas": null,
            "grid_template_columns": null,
            "grid_template_rows": null,
            "height": null,
            "justify_content": null,
            "justify_items": null,
            "left": null,
            "margin": null,
            "max_height": null,
            "max_width": null,
            "min_height": null,
            "min_width": null,
            "object_fit": null,
            "object_position": null,
            "order": null,
            "overflow": null,
            "overflow_x": null,
            "overflow_y": null,
            "padding": null,
            "right": null,
            "top": null,
            "visibility": null,
            "width": null
          }
        },
        "433e66a044b441fb87ad65428e1dac4d": {
          "model_module": "@jupyter-widgets/controls",
          "model_name": "ProgressStyleModel",
          "model_module_version": "1.5.0",
          "state": {
            "_model_module": "@jupyter-widgets/controls",
            "_model_module_version": "1.5.0",
            "_model_name": "ProgressStyleModel",
            "_view_count": null,
            "_view_module": "@jupyter-widgets/base",
            "_view_module_version": "1.2.0",
            "_view_name": "StyleView",
            "bar_color": null,
            "description_width": ""
          }
        },
        "d9feaa727ebf4e8ba4564e9e001f10d3": {
          "model_module": "@jupyter-widgets/base",
          "model_name": "LayoutModel",
          "model_module_version": "1.2.0",
          "state": {
            "_model_module": "@jupyter-widgets/base",
            "_model_module_version": "1.2.0",
            "_model_name": "LayoutModel",
            "_view_count": null,
            "_view_module": "@jupyter-widgets/base",
            "_view_module_version": "1.2.0",
            "_view_name": "LayoutView",
            "align_content": null,
            "align_items": null,
            "align_self": null,
            "border": null,
            "bottom": null,
            "display": null,
            "flex": null,
            "flex_flow": null,
            "grid_area": null,
            "grid_auto_columns": null,
            "grid_auto_flow": null,
            "grid_auto_rows": null,
            "grid_column": null,
            "grid_gap": null,
            "grid_row": null,
            "grid_template_areas": null,
            "grid_template_columns": null,
            "grid_template_rows": null,
            "height": null,
            "justify_content": null,
            "justify_items": null,
            "left": null,
            "margin": null,
            "max_height": null,
            "max_width": null,
            "min_height": null,
            "min_width": null,
            "object_fit": null,
            "object_position": null,
            "order": null,
            "overflow": null,
            "overflow_x": null,
            "overflow_y": null,
            "padding": null,
            "right": null,
            "top": null,
            "visibility": null,
            "width": null
          }
        },
        "ee0b4576c5f94bb9a70d5ebd8f167571": {
          "model_module": "@jupyter-widgets/controls",
          "model_name": "DescriptionStyleModel",
          "model_module_version": "1.5.0",
          "state": {
            "_model_module": "@jupyter-widgets/controls",
            "_model_module_version": "1.5.0",
            "_model_name": "DescriptionStyleModel",
            "_view_count": null,
            "_view_module": "@jupyter-widgets/base",
            "_view_module_version": "1.2.0",
            "_view_name": "StyleView",
            "description_width": ""
          }
        },
        "16253348c6cb4653bae8a411b4fda0bb": {
          "model_module": "@jupyter-widgets/controls",
          "model_name": "HBoxModel",
          "model_module_version": "1.5.0",
          "state": {
            "_dom_classes": [],
            "_model_module": "@jupyter-widgets/controls",
            "_model_module_version": "1.5.0",
            "_model_name": "HBoxModel",
            "_view_count": null,
            "_view_module": "@jupyter-widgets/controls",
            "_view_module_version": "1.5.0",
            "_view_name": "HBoxView",
            "box_style": "",
            "children": [
              "IPY_MODEL_d0176169fb9d4479a388c1024d2e0b18",
              "IPY_MODEL_1ff8b09fa6424675ac97bfb6930e9728",
              "IPY_MODEL_01518f42720743d2914816c703316c77"
            ],
            "layout": "IPY_MODEL_b366f2f984a749419174dc8012a553d0"
          }
        },
        "d0176169fb9d4479a388c1024d2e0b18": {
          "model_module": "@jupyter-widgets/controls",
          "model_name": "HTMLModel",
          "model_module_version": "1.5.0",
          "state": {
            "_dom_classes": [],
            "_model_module": "@jupyter-widgets/controls",
            "_model_module_version": "1.5.0",
            "_model_name": "HTMLModel",
            "_view_count": null,
            "_view_module": "@jupyter-widgets/controls",
            "_view_module_version": "1.5.0",
            "_view_name": "HTMLView",
            "description": "",
            "description_tooltip": null,
            "layout": "IPY_MODEL_116bd4607bff4ccca8f77771d7aeb56e",
            "placeholder": "​",
            "style": "IPY_MODEL_c62d596e1d9d479cbda4995f421c02bc",
            "value": "Downloading data: 100%"
          }
        },
        "1ff8b09fa6424675ac97bfb6930e9728": {
          "model_module": "@jupyter-widgets/controls",
          "model_name": "FloatProgressModel",
          "model_module_version": "1.5.0",
          "state": {
            "_dom_classes": [],
            "_model_module": "@jupyter-widgets/controls",
            "_model_module_version": "1.5.0",
            "_model_name": "FloatProgressModel",
            "_view_count": null,
            "_view_module": "@jupyter-widgets/controls",
            "_view_module_version": "1.5.0",
            "_view_name": "ProgressView",
            "bar_style": "success",
            "description": "",
            "description_tooltip": null,
            "layout": "IPY_MODEL_bc475beaf56f4e49993693c481d50933",
            "max": 1132254,
            "min": 0,
            "orientation": "horizontal",
            "style": "IPY_MODEL_2999df722caf41bba6b342be354ad289",
            "value": 1132254
          }
        },
        "01518f42720743d2914816c703316c77": {
          "model_module": "@jupyter-widgets/controls",
          "model_name": "HTMLModel",
          "model_module_version": "1.5.0",
          "state": {
            "_dom_classes": [],
            "_model_module": "@jupyter-widgets/controls",
            "_model_module_version": "1.5.0",
            "_model_name": "HTMLModel",
            "_view_count": null,
            "_view_module": "@jupyter-widgets/controls",
            "_view_module_version": "1.5.0",
            "_view_name": "HTMLView",
            "description": "",
            "description_tooltip": null,
            "layout": "IPY_MODEL_892d4a70b01a459fbcb74fa524a7b2a4",
            "placeholder": "​",
            "style": "IPY_MODEL_2d5de57332c342e28945b51ab8ab1f9b",
            "value": " 1.13M/1.13M [00:00&lt;00:00, 3.87MB/s]"
          }
        },
        "b366f2f984a749419174dc8012a553d0": {
          "model_module": "@jupyter-widgets/base",
          "model_name": "LayoutModel",
          "model_module_version": "1.2.0",
          "state": {
            "_model_module": "@jupyter-widgets/base",
            "_model_module_version": "1.2.0",
            "_model_name": "LayoutModel",
            "_view_count": null,
            "_view_module": "@jupyter-widgets/base",
            "_view_module_version": "1.2.0",
            "_view_name": "LayoutView",
            "align_content": null,
            "align_items": null,
            "align_self": null,
            "border": null,
            "bottom": null,
            "display": null,
            "flex": null,
            "flex_flow": null,
            "grid_area": null,
            "grid_auto_columns": null,
            "grid_auto_flow": null,
            "grid_auto_rows": null,
            "grid_column": null,
            "grid_gap": null,
            "grid_row": null,
            "grid_template_areas": null,
            "grid_template_columns": null,
            "grid_template_rows": null,
            "height": null,
            "justify_content": null,
            "justify_items": null,
            "left": null,
            "margin": null,
            "max_height": null,
            "max_width": null,
            "min_height": null,
            "min_width": null,
            "object_fit": null,
            "object_position": null,
            "order": null,
            "overflow": null,
            "overflow_x": null,
            "overflow_y": null,
            "padding": null,
            "right": null,
            "top": null,
            "visibility": null,
            "width": null
          }
        },
        "116bd4607bff4ccca8f77771d7aeb56e": {
          "model_module": "@jupyter-widgets/base",
          "model_name": "LayoutModel",
          "model_module_version": "1.2.0",
          "state": {
            "_model_module": "@jupyter-widgets/base",
            "_model_module_version": "1.2.0",
            "_model_name": "LayoutModel",
            "_view_count": null,
            "_view_module": "@jupyter-widgets/base",
            "_view_module_version": "1.2.0",
            "_view_name": "LayoutView",
            "align_content": null,
            "align_items": null,
            "align_self": null,
            "border": null,
            "bottom": null,
            "display": null,
            "flex": null,
            "flex_flow": null,
            "grid_area": null,
            "grid_auto_columns": null,
            "grid_auto_flow": null,
            "grid_auto_rows": null,
            "grid_column": null,
            "grid_gap": null,
            "grid_row": null,
            "grid_template_areas": null,
            "grid_template_columns": null,
            "grid_template_rows": null,
            "height": null,
            "justify_content": null,
            "justify_items": null,
            "left": null,
            "margin": null,
            "max_height": null,
            "max_width": null,
            "min_height": null,
            "min_width": null,
            "object_fit": null,
            "object_position": null,
            "order": null,
            "overflow": null,
            "overflow_x": null,
            "overflow_y": null,
            "padding": null,
            "right": null,
            "top": null,
            "visibility": null,
            "width": null
          }
        },
        "c62d596e1d9d479cbda4995f421c02bc": {
          "model_module": "@jupyter-widgets/controls",
          "model_name": "DescriptionStyleModel",
          "model_module_version": "1.5.0",
          "state": {
            "_model_module": "@jupyter-widgets/controls",
            "_model_module_version": "1.5.0",
            "_model_name": "DescriptionStyleModel",
            "_view_count": null,
            "_view_module": "@jupyter-widgets/base",
            "_view_module_version": "1.2.0",
            "_view_name": "StyleView",
            "description_width": ""
          }
        },
        "bc475beaf56f4e49993693c481d50933": {
          "model_module": "@jupyter-widgets/base",
          "model_name": "LayoutModel",
          "model_module_version": "1.2.0",
          "state": {
            "_model_module": "@jupyter-widgets/base",
            "_model_module_version": "1.2.0",
            "_model_name": "LayoutModel",
            "_view_count": null,
            "_view_module": "@jupyter-widgets/base",
            "_view_module_version": "1.2.0",
            "_view_name": "LayoutView",
            "align_content": null,
            "align_items": null,
            "align_self": null,
            "border": null,
            "bottom": null,
            "display": null,
            "flex": null,
            "flex_flow": null,
            "grid_area": null,
            "grid_auto_columns": null,
            "grid_auto_flow": null,
            "grid_auto_rows": null,
            "grid_column": null,
            "grid_gap": null,
            "grid_row": null,
            "grid_template_areas": null,
            "grid_template_columns": null,
            "grid_template_rows": null,
            "height": null,
            "justify_content": null,
            "justify_items": null,
            "left": null,
            "margin": null,
            "max_height": null,
            "max_width": null,
            "min_height": null,
            "min_width": null,
            "object_fit": null,
            "object_position": null,
            "order": null,
            "overflow": null,
            "overflow_x": null,
            "overflow_y": null,
            "padding": null,
            "right": null,
            "top": null,
            "visibility": null,
            "width": null
          }
        },
        "2999df722caf41bba6b342be354ad289": {
          "model_module": "@jupyter-widgets/controls",
          "model_name": "ProgressStyleModel",
          "model_module_version": "1.5.0",
          "state": {
            "_model_module": "@jupyter-widgets/controls",
            "_model_module_version": "1.5.0",
            "_model_name": "ProgressStyleModel",
            "_view_count": null,
            "_view_module": "@jupyter-widgets/base",
            "_view_module_version": "1.2.0",
            "_view_name": "StyleView",
            "bar_color": null,
            "description_width": ""
          }
        },
        "892d4a70b01a459fbcb74fa524a7b2a4": {
          "model_module": "@jupyter-widgets/base",
          "model_name": "LayoutModel",
          "model_module_version": "1.2.0",
          "state": {
            "_model_module": "@jupyter-widgets/base",
            "_model_module_version": "1.2.0",
            "_model_name": "LayoutModel",
            "_view_count": null,
            "_view_module": "@jupyter-widgets/base",
            "_view_module_version": "1.2.0",
            "_view_name": "LayoutView",
            "align_content": null,
            "align_items": null,
            "align_self": null,
            "border": null,
            "bottom": null,
            "display": null,
            "flex": null,
            "flex_flow": null,
            "grid_area": null,
            "grid_auto_columns": null,
            "grid_auto_flow": null,
            "grid_auto_rows": null,
            "grid_column": null,
            "grid_gap": null,
            "grid_row": null,
            "grid_template_areas": null,
            "grid_template_columns": null,
            "grid_template_rows": null,
            "height": null,
            "justify_content": null,
            "justify_items": null,
            "left": null,
            "margin": null,
            "max_height": null,
            "max_width": null,
            "min_height": null,
            "min_width": null,
            "object_fit": null,
            "object_position": null,
            "order": null,
            "overflow": null,
            "overflow_x": null,
            "overflow_y": null,
            "padding": null,
            "right": null,
            "top": null,
            "visibility": null,
            "width": null
          }
        },
        "2d5de57332c342e28945b51ab8ab1f9b": {
          "model_module": "@jupyter-widgets/controls",
          "model_name": "DescriptionStyleModel",
          "model_module_version": "1.5.0",
          "state": {
            "_model_module": "@jupyter-widgets/controls",
            "_model_module_version": "1.5.0",
            "_model_name": "DescriptionStyleModel",
            "_view_count": null,
            "_view_module": "@jupyter-widgets/base",
            "_view_module_version": "1.2.0",
            "_view_name": "StyleView",
            "description_width": ""
          }
        },
        "3d037d9b6ee245fa98819cf003fec125": {
          "model_module": "@jupyter-widgets/controls",
          "model_name": "HBoxModel",
          "model_module_version": "1.5.0",
          "state": {
            "_dom_classes": [],
            "_model_module": "@jupyter-widgets/controls",
            "_model_module_version": "1.5.0",
            "_model_name": "HBoxModel",
            "_view_count": null,
            "_view_module": "@jupyter-widgets/controls",
            "_view_module_version": "1.5.0",
            "_view_name": "HBoxView",
            "box_style": "",
            "children": [
              "IPY_MODEL_92bbb451065343f9962e78ee28b8725a",
              "IPY_MODEL_66387a93c76f4490ae62860f4cd459fb",
              "IPY_MODEL_ddc472256ab14262a610fa32dacf8b30"
            ],
            "layout": "IPY_MODEL_c0c66263acdb491f896a01e81e7e76a3"
          }
        },
        "92bbb451065343f9962e78ee28b8725a": {
          "model_module": "@jupyter-widgets/controls",
          "model_name": "HTMLModel",
          "model_module_version": "1.5.0",
          "state": {
            "_dom_classes": [],
            "_model_module": "@jupyter-widgets/controls",
            "_model_module_version": "1.5.0",
            "_model_name": "HTMLModel",
            "_view_count": null,
            "_view_module": "@jupyter-widgets/controls",
            "_view_module_version": "1.5.0",
            "_view_name": "HTMLView",
            "description": "",
            "description_tooltip": null,
            "layout": "IPY_MODEL_408283f4ab314aeca89ff464a8591b0a",
            "placeholder": "​",
            "style": "IPY_MODEL_dd10f7bfafa5461bafec23a8e16cb89a",
            "value": "Generating train split: "
          }
        },
        "66387a93c76f4490ae62860f4cd459fb": {
          "model_module": "@jupyter-widgets/controls",
          "model_name": "FloatProgressModel",
          "model_module_version": "1.5.0",
          "state": {
            "_dom_classes": [],
            "_model_module": "@jupyter-widgets/controls",
            "_model_module_version": "1.5.0",
            "_model_name": "FloatProgressModel",
            "_view_count": null,
            "_view_module": "@jupyter-widgets/controls",
            "_view_module_version": "1.5.0",
            "_view_name": "ProgressView",
            "bar_style": "success",
            "description": "",
            "description_tooltip": null,
            "layout": "IPY_MODEL_c42018a0d47849138a8d11d03200790e",
            "max": 1,
            "min": 0,
            "orientation": "horizontal",
            "style": "IPY_MODEL_9df52e09a9e04d47ac8d59f7fef66e83",
            "value": 1
          }
        },
        "ddc472256ab14262a610fa32dacf8b30": {
          "model_module": "@jupyter-widgets/controls",
          "model_name": "HTMLModel",
          "model_module_version": "1.5.0",
          "state": {
            "_dom_classes": [],
            "_model_module": "@jupyter-widgets/controls",
            "_model_module_version": "1.5.0",
            "_model_name": "HTMLModel",
            "_view_count": null,
            "_view_module": "@jupyter-widgets/controls",
            "_view_module_version": "1.5.0",
            "_view_name": "HTMLView",
            "description": "",
            "description_tooltip": null,
            "layout": "IPY_MODEL_cadb4913054e4b56b867217540a681f8",
            "placeholder": "​",
            "style": "IPY_MODEL_fcebb9022dd2412ea1c12da7cbf36283",
            "value": " 101/0 [00:00&lt;00:00, 1039.06 examples/s]"
          }
        },
        "c0c66263acdb491f896a01e81e7e76a3": {
          "model_module": "@jupyter-widgets/base",
          "model_name": "LayoutModel",
          "model_module_version": "1.2.0",
          "state": {
            "_model_module": "@jupyter-widgets/base",
            "_model_module_version": "1.2.0",
            "_model_name": "LayoutModel",
            "_view_count": null,
            "_view_module": "@jupyter-widgets/base",
            "_view_module_version": "1.2.0",
            "_view_name": "LayoutView",
            "align_content": null,
            "align_items": null,
            "align_self": null,
            "border": null,
            "bottom": null,
            "display": null,
            "flex": null,
            "flex_flow": null,
            "grid_area": null,
            "grid_auto_columns": null,
            "grid_auto_flow": null,
            "grid_auto_rows": null,
            "grid_column": null,
            "grid_gap": null,
            "grid_row": null,
            "grid_template_areas": null,
            "grid_template_columns": null,
            "grid_template_rows": null,
            "height": null,
            "justify_content": null,
            "justify_items": null,
            "left": null,
            "margin": null,
            "max_height": null,
            "max_width": null,
            "min_height": null,
            "min_width": null,
            "object_fit": null,
            "object_position": null,
            "order": null,
            "overflow": null,
            "overflow_x": null,
            "overflow_y": null,
            "padding": null,
            "right": null,
            "top": null,
            "visibility": null,
            "width": null
          }
        },
        "408283f4ab314aeca89ff464a8591b0a": {
          "model_module": "@jupyter-widgets/base",
          "model_name": "LayoutModel",
          "model_module_version": "1.2.0",
          "state": {
            "_model_module": "@jupyter-widgets/base",
            "_model_module_version": "1.2.0",
            "_model_name": "LayoutModel",
            "_view_count": null,
            "_view_module": "@jupyter-widgets/base",
            "_view_module_version": "1.2.0",
            "_view_name": "LayoutView",
            "align_content": null,
            "align_items": null,
            "align_self": null,
            "border": null,
            "bottom": null,
            "display": null,
            "flex": null,
            "flex_flow": null,
            "grid_area": null,
            "grid_auto_columns": null,
            "grid_auto_flow": null,
            "grid_auto_rows": null,
            "grid_column": null,
            "grid_gap": null,
            "grid_row": null,
            "grid_template_areas": null,
            "grid_template_columns": null,
            "grid_template_rows": null,
            "height": null,
            "justify_content": null,
            "justify_items": null,
            "left": null,
            "margin": null,
            "max_height": null,
            "max_width": null,
            "min_height": null,
            "min_width": null,
            "object_fit": null,
            "object_position": null,
            "order": null,
            "overflow": null,
            "overflow_x": null,
            "overflow_y": null,
            "padding": null,
            "right": null,
            "top": null,
            "visibility": null,
            "width": null
          }
        },
        "dd10f7bfafa5461bafec23a8e16cb89a": {
          "model_module": "@jupyter-widgets/controls",
          "model_name": "DescriptionStyleModel",
          "model_module_version": "1.5.0",
          "state": {
            "_model_module": "@jupyter-widgets/controls",
            "_model_module_version": "1.5.0",
            "_model_name": "DescriptionStyleModel",
            "_view_count": null,
            "_view_module": "@jupyter-widgets/base",
            "_view_module_version": "1.2.0",
            "_view_name": "StyleView",
            "description_width": ""
          }
        },
        "c42018a0d47849138a8d11d03200790e": {
          "model_module": "@jupyter-widgets/base",
          "model_name": "LayoutModel",
          "model_module_version": "1.2.0",
          "state": {
            "_model_module": "@jupyter-widgets/base",
            "_model_module_version": "1.2.0",
            "_model_name": "LayoutModel",
            "_view_count": null,
            "_view_module": "@jupyter-widgets/base",
            "_view_module_version": "1.2.0",
            "_view_name": "LayoutView",
            "align_content": null,
            "align_items": null,
            "align_self": null,
            "border": null,
            "bottom": null,
            "display": null,
            "flex": null,
            "flex_flow": null,
            "grid_area": null,
            "grid_auto_columns": null,
            "grid_auto_flow": null,
            "grid_auto_rows": null,
            "grid_column": null,
            "grid_gap": null,
            "grid_row": null,
            "grid_template_areas": null,
            "grid_template_columns": null,
            "grid_template_rows": null,
            "height": null,
            "justify_content": null,
            "justify_items": null,
            "left": null,
            "margin": null,
            "max_height": null,
            "max_width": null,
            "min_height": null,
            "min_width": null,
            "object_fit": null,
            "object_position": null,
            "order": null,
            "overflow": null,
            "overflow_x": null,
            "overflow_y": null,
            "padding": null,
            "right": null,
            "top": null,
            "visibility": null,
            "width": "20px"
          }
        },
        "9df52e09a9e04d47ac8d59f7fef66e83": {
          "model_module": "@jupyter-widgets/controls",
          "model_name": "ProgressStyleModel",
          "model_module_version": "1.5.0",
          "state": {
            "_model_module": "@jupyter-widgets/controls",
            "_model_module_version": "1.5.0",
            "_model_name": "ProgressStyleModel",
            "_view_count": null,
            "_view_module": "@jupyter-widgets/base",
            "_view_module_version": "1.2.0",
            "_view_name": "StyleView",
            "bar_color": null,
            "description_width": ""
          }
        },
        "cadb4913054e4b56b867217540a681f8": {
          "model_module": "@jupyter-widgets/base",
          "model_name": "LayoutModel",
          "model_module_version": "1.2.0",
          "state": {
            "_model_module": "@jupyter-widgets/base",
            "_model_module_version": "1.2.0",
            "_model_name": "LayoutModel",
            "_view_count": null,
            "_view_module": "@jupyter-widgets/base",
            "_view_module_version": "1.2.0",
            "_view_name": "LayoutView",
            "align_content": null,
            "align_items": null,
            "align_self": null,
            "border": null,
            "bottom": null,
            "display": null,
            "flex": null,
            "flex_flow": null,
            "grid_area": null,
            "grid_auto_columns": null,
            "grid_auto_flow": null,
            "grid_auto_rows": null,
            "grid_column": null,
            "grid_gap": null,
            "grid_row": null,
            "grid_template_areas": null,
            "grid_template_columns": null,
            "grid_template_rows": null,
            "height": null,
            "justify_content": null,
            "justify_items": null,
            "left": null,
            "margin": null,
            "max_height": null,
            "max_width": null,
            "min_height": null,
            "min_width": null,
            "object_fit": null,
            "object_position": null,
            "order": null,
            "overflow": null,
            "overflow_x": null,
            "overflow_y": null,
            "padding": null,
            "right": null,
            "top": null,
            "visibility": null,
            "width": null
          }
        },
        "fcebb9022dd2412ea1c12da7cbf36283": {
          "model_module": "@jupyter-widgets/controls",
          "model_name": "DescriptionStyleModel",
          "model_module_version": "1.5.0",
          "state": {
            "_model_module": "@jupyter-widgets/controls",
            "_model_module_version": "1.5.0",
            "_model_name": "DescriptionStyleModel",
            "_view_count": null,
            "_view_module": "@jupyter-widgets/base",
            "_view_module_version": "1.2.0",
            "_view_name": "StyleView",
            "description_width": ""
          }
        }
      }
    }
  },
  "cells": [
    {
      "cell_type": "markdown",
      "metadata": {
        "id": "view-in-github",
        "colab_type": "text"
      },
      "source": [
        "<a href=\"https://colab.research.google.com/github/LC1332/Zero-Haruhi/blob/main/notebook/test/ChatHaruhi3_%E8%A7%92%E8%89%B2%E8%BD%BD%E5%85%A5.ipynb\" target=\"_parent\"><img src=\"https://colab.research.google.com/assets/colab-badge.svg\" alt=\"Open In Colab\"/></a>"
      ]
    },
    {
      "cell_type": "markdown",
      "source": [
        "02/10\n",
        "\n",
        "- [x] 做一下init\n",
        "- [x] 跑一下各种测试\n",
        "- [x] 把db类放到单一文件\n",
        "\n",
        "02/11\n",
        "\n",
        "- [ ] 直接替换为一次性载入ChatHaruhi"
      ],
      "metadata": {
        "id": "Zvf72DZRhCzl"
      }
    },
    {
      "cell_type": "code",
      "source": [
        "!pip install -q datasets tiktoken"
      ],
      "metadata": {
        "id": "h7UatXQhtEHw",
        "colab": {
          "base_uri": "https://localhost:8080/"
        },
        "outputId": "836bfc78-37f6-4019-8ef8-ef115fd84c61"
      },
      "execution_count": 1,
      "outputs": [
        {
          "output_type": "stream",
          "name": "stdout",
          "text": [
            "\u001b[2K     \u001b[90m━━━━━━━━━━━━━━━━━━━━━━━━━━━━━━━━━━━━━━━━\u001b[0m \u001b[32m536.6/536.6 kB\u001b[0m \u001b[31m6.5 MB/s\u001b[0m eta \u001b[36m0:00:00\u001b[0m\n",
            "\u001b[2K     \u001b[90m━━━━━━━━━━━━━━━━━━━━━━━━━━━━━━━━━━━━━━━━\u001b[0m \u001b[32m1.8/1.8 MB\u001b[0m \u001b[31m13.1 MB/s\u001b[0m eta \u001b[36m0:00:00\u001b[0m\n",
            "\u001b[2K     \u001b[90m━━━━━━━━━━━━━━━━━━━━━━━━━━━━━━━━━━━━━━━━\u001b[0m \u001b[32m38.3/38.3 MB\u001b[0m \u001b[31m35.4 MB/s\u001b[0m eta \u001b[36m0:00:00\u001b[0m\n",
            "\u001b[2K     \u001b[90m━━━━━━━━━━━━━━━━━━━━━━━━━━━━━━━━━━━━━━━━\u001b[0m \u001b[32m116.3/116.3 kB\u001b[0m \u001b[31m13.7 MB/s\u001b[0m eta \u001b[36m0:00:00\u001b[0m\n",
            "\u001b[2K     \u001b[90m━━━━━━━━━━━━━━━━━━━━━━━━━━━━━━━━━━━━━━━━\u001b[0m \u001b[32m134.8/134.8 kB\u001b[0m \u001b[31m14.1 MB/s\u001b[0m eta \u001b[36m0:00:00\u001b[0m\n",
            "\u001b[?25h\u001b[31mERROR: pip's dependency resolver does not currently take into account all the packages that are installed. This behaviour is the source of the following dependency conflicts.\n",
            "llmx 0.0.15a0 requires cohere, which is not installed.\n",
            "llmx 0.0.15a0 requires openai, which is not installed.\n",
            "ibis-framework 7.1.0 requires pyarrow<15,>=2, but you have pyarrow 15.0.0 which is incompatible.\u001b[0m\u001b[31m\n",
            "\u001b[0m"
          ]
        }
      ]
    },
    {
      "cell_type": "code",
      "source": [
        "%cd /content\n",
        "!rm -rf /content/Zero-Haruhi\n",
        "!git clone https://github.com/LC1332/Zero-Haruhi\n",
        "%cd /content/Zero-Haruhi"
      ],
      "metadata": {
        "id": "848R2Fqehjqi",
        "colab": {
          "base_uri": "https://localhost:8080/"
        },
        "outputId": "03899cd6-fd2d-469d-ac34-f5c35b8c62b4"
      },
      "execution_count": 2,
      "outputs": [
        {
          "output_type": "stream",
          "name": "stdout",
          "text": [
            "/content\n",
            "Cloning into 'Zero-Haruhi'...\n",
            "remote: Enumerating objects: 391, done.\u001b[K\n",
            "remote: Counting objects: 100% (388/388), done.\u001b[K\n",
            "remote: Compressing objects: 100% (218/218), done.\u001b[K\n",
            "remote: Total 391 (delta 255), reused 270 (delta 164), pack-reused 3\u001b[K\n",
            "Receiving objects: 100% (391/391), 2.91 MiB | 21.16 MiB/s, done.\n",
            "Resolving deltas: 100% (255/255), done.\n",
            "/content/Zero-Haruhi\n"
          ]
        }
      ]
    },
    {
      "cell_type": "code",
      "source": [
        "from ChatHaruhi import ChatHaruhi"
      ],
      "metadata": {
        "id": "JOOtcb2yt-AL"
      },
      "execution_count": 3,
      "outputs": []
    },
    {
      "cell_type": "code",
      "source": [
        "def get_response( message ):\n",
        "    return \"语言模型输出了角色扮演的结果\"\n",
        "\n",
        "chatbot = ChatHaruhi( role_name = '小猫咪', persona = \"你扮演一只小猫咪\", llm = get_response )"
      ],
      "metadata": {
        "id": "jdblsE-EuLV8"
      },
      "execution_count": 4,
      "outputs": []
    },
    {
      "cell_type": "code",
      "source": [
        "chatbot.chat(user = \"用户\", text = \"你好1\")"
      ],
      "metadata": {
        "colab": {
          "base_uri": "https://localhost:8080/",
          "height": 53
        },
        "id": "8OEOOAGeKOdl",
        "outputId": "c8a5746d-8e92-41f5-cd1b-5533ecb2cae5"
      },
      "execution_count": 5,
      "outputs": [
        {
          "output_type": "stream",
          "name": "stdout",
          "text": [
            "query_rags: [] rest_limit = 1783\n"
          ]
        },
        {
          "output_type": "execute_result",
          "data": {
            "text/plain": [
              "'语言模型输出了角色扮演的结果'"
            ],
            "application/vnd.google.colaboratory.intrinsic+json": {
              "type": "string"
            }
          },
          "metadata": {},
          "execution_count": 5
        }
      ]
    },
    {
      "cell_type": "code",
      "source": [
        "chatbot.chat(user = \"用户2\", text = \"你好2\")"
      ],
      "metadata": {
        "colab": {
          "base_uri": "https://localhost:8080/",
          "height": 70
        },
        "id": "B1trrXMUKU3s",
        "outputId": "31158ac2-ef69-4011-d9fc-e41f6a802086"
      },
      "execution_count": 6,
      "outputs": [
        {
          "output_type": "stream",
          "name": "stdout",
          "text": [
            "new user 用户2 included in conversation\n",
            "query_rags: [] rest_limit = 1783\n"
          ]
        },
        {
          "output_type": "execute_result",
          "data": {
            "text/plain": [
              "'语言模型输出了角色扮演的结果'"
            ],
            "application/vnd.google.colaboratory.intrinsic+json": {
              "type": "string"
            }
          },
          "metadata": {},
          "execution_count": 6
        }
      ]
    },
    {
      "cell_type": "code",
      "source": [
        "message = chatbot.get_message(user = \"用户\", text = \"你好3\")\n",
        "\n",
        "for msg in message:\n",
        "    print(msg['role'])\n",
        "    print(msg['content'])"
      ],
      "metadata": {
        "colab": {
          "base_uri": "https://localhost:8080/"
        },
        "id": "5ahypLhFxQ75",
        "outputId": "ee30c0b8-4c71-4282-e7d8-d15d7449434b"
      },
      "execution_count": 7,
      "outputs": [
        {
          "output_type": "stream",
          "name": "stdout",
          "text": [
            "query_rags: [] rest_limit = 1783\n",
            "system\n",
            "You are now in roleplay conversation mode. Pretend to be 小猫咪 whose persona follows:\n",
            "你扮演一只小猫咪\n",
            "\n",
            "You will stay in-character whenever possible, and generate responses as if you were 小猫咪\n",
            "user\n",
            "你好1\n",
            "assistant\n",
            "语言模型输出了角色扮演的结果\n",
            "user\n",
            "你好2\n",
            "assistant\n",
            "语言模型输出了角色扮演的结果\n",
            "user\n",
            "你好3\n"
          ]
        }
      ]
    },
    {
      "cell_type": "markdown",
      "source": [
        "# 载入测试"
      ],
      "metadata": {
        "id": "Cw_1h9vilxav"
      }
    },
    {
      "cell_type": "markdown",
      "source": [
        "测试第一个分支"
      ],
      "metadata": {
        "id": "KkOAPN1dlzc6"
      }
    },
    {
      "cell_type": "code",
      "source": [
        "# if persona and role_name and stories and story_vecs and len(stories) == len(story_vecs):\n",
        "#             # 完全从外部设置，这个时候要求story_vecs和embedding的返回长度一致\n",
        "#             self.persona, self.role_name, self.user_name = persona, role_name, user_name\n",
        "#             self.db = self.build_db(stories, story_vecs)\n",
        "\n",
        "persona = \"\"\"你扮演爸爸\"\"\"\n",
        "\n",
        "role_name = \"爸爸\"\n",
        "\n",
        "stories = [\"爸爸的爸爸是爷爷\", \"爸爸的妈妈是奶奶\"]\n",
        "\n",
        "vecs = [[0.0,1.0],[1.0,0.0]]\n",
        "\n",
        "chatbot = ChatHaruhi( role_name = role_name, persona = persona, llm = get_response ,\\\n",
        "                     stories = stories, story_vecs = vecs)\n",
        "\n",
        "print(chatbot.db)"
      ],
      "metadata": {
        "id": "mVzJphirLWdL",
        "colab": {
          "base_uri": "https://localhost:8080/"
        },
        "outputId": "b1e3c089-5330-450b-bbe2-63b197fd7abf"
      },
      "execution_count": 8,
      "outputs": [
        {
          "output_type": "stream",
          "name": "stdout",
          "text": [
            "<ChatHaruhi.NaiveDB.NaiveDB object at 0x7f0eb0454070>\n"
          ]
        }
      ]
    },
    {
      "cell_type": "markdown",
      "source": [
        "测试第二个分支 （没有vecs）"
      ],
      "metadata": {
        "id": "ywuECNVQoEdj"
      }
    },
    {
      "cell_type": "code",
      "source": [
        "# if persona and role_name and stories and story_vecs and len(stories) == len(story_vecs):\n",
        "#             # 完全从外部设置，这个时候要求story_vecs和embedding的返回长度一致\n",
        "#             self.persona, self.role_name, self.user_name = persona, role_name, user_name\n",
        "#             self.db = self.build_db(stories, story_vecs)\n",
        "\n",
        "persona = \"\"\"你扮演爸爸\"\"\"\n",
        "\n",
        "role_name = \"爸爸\"\n",
        "\n",
        "stories = [\"爸爸的爸爸是爷爷\", \"爸爸的妈妈是奶奶\"]\n",
        "\n",
        "chatbot = ChatHaruhi( role_name = role_name, persona = persona, llm = get_response ,\\\n",
        "                     stories = stories, embed_name = \"foo\")\n",
        "\n",
        "print(chatbot.db)"
      ],
      "metadata": {
        "colab": {
          "base_uri": "https://localhost:8080/"
        },
        "id": "XpuNuKpfmEfB",
        "outputId": "9eff5262-9ffa-47a4-d128-d2beeec659ed"
      },
      "execution_count": 9,
      "outputs": [
        {
          "output_type": "stream",
          "name": "stdout",
          "text": [
            "re-extract vector for 2 stories\n"
          ]
        },
        {
          "output_type": "stream",
          "name": "stderr",
          "text": [
            "100%|██████████| 2/2 [00:00<00:00, 16070.13it/s]"
          ]
        },
        {
          "output_type": "stream",
          "name": "stdout",
          "text": [
            "<ChatHaruhi.NaiveDB.NaiveDB object at 0x7f0eb0457850>\n"
          ]
        },
        {
          "output_type": "stream",
          "name": "stderr",
          "text": [
            "\n"
          ]
        }
      ]
    },
    {
      "cell_type": "markdown",
      "source": [
        "测试第三个分支"
      ],
      "metadata": {
        "id": "s9Yme4p8wP0x"
      }
    },
    {
      "cell_type": "code",
      "source": [
        "hf_role_name = \"silk-road/ChatHaruhi-RolePlaying/Malfoy\"\n",
        "\n",
        "chatbot = ChatHaruhi( role_name = \"Malfoy\", \\\n",
        "                      role_from_hf = hf_role_name,\n",
        "                      llm = get_response, embed_name = \"openai\")"
      ],
      "metadata": {
        "id": "49b2wQE_sl9j",
        "colab": {
          "base_uri": "https://localhost:8080/",
          "height": 113,
          "referenced_widgets": [
            "e0c9fa4ab8854e339d6fed4eeab99c04",
            "ce4b542f8e41470da3dc396c627e25be",
            "e81f23f1db584e99bc653fc9eb043cfd",
            "cd3cd95c362a4b5392e36d52496ee76b",
            "368f2a0b1d0648669a406086e94762fa",
            "be297a76dd2343f3aa20e7f2457d380a",
            "c82896d6382445aeb01250ddc9f0fdc6",
            "0d3f9002f9014dd58669b4340ac59fec",
            "433e66a044b441fb87ad65428e1dac4d",
            "d9feaa727ebf4e8ba4564e9e001f10d3",
            "ee0b4576c5f94bb9a70d5ebd8f167571",
            "16253348c6cb4653bae8a411b4fda0bb",
            "d0176169fb9d4479a388c1024d2e0b18",
            "1ff8b09fa6424675ac97bfb6930e9728",
            "01518f42720743d2914816c703316c77",
            "b366f2f984a749419174dc8012a553d0",
            "116bd4607bff4ccca8f77771d7aeb56e",
            "c62d596e1d9d479cbda4995f421c02bc",
            "bc475beaf56f4e49993693c481d50933",
            "2999df722caf41bba6b342be354ad289",
            "892d4a70b01a459fbcb74fa524a7b2a4",
            "2d5de57332c342e28945b51ab8ab1f9b",
            "3d037d9b6ee245fa98819cf003fec125",
            "92bbb451065343f9962e78ee28b8725a",
            "66387a93c76f4490ae62860f4cd459fb",
            "ddc472256ab14262a610fa32dacf8b30",
            "c0c66263acdb491f896a01e81e7e76a3",
            "408283f4ab314aeca89ff464a8591b0a",
            "dd10f7bfafa5461bafec23a8e16cb89a",
            "c42018a0d47849138a8d11d03200790e",
            "9df52e09a9e04d47ac8d59f7fef66e83",
            "cadb4913054e4b56b867217540a681f8",
            "fcebb9022dd2412ea1c12da7cbf36283"
          ]
        },
        "outputId": "c25e3e8c-339e-4a17-c262-38fe286e390a"
      },
      "execution_count": 10,
      "outputs": [
        {
          "output_type": "display_data",
          "data": {
            "text/plain": [
              "Downloading readme:   0%|          | 0.00/1.23k [00:00<?, ?B/s]"
            ],
            "application/vnd.jupyter.widget-view+json": {
              "version_major": 2,
              "version_minor": 0,
              "model_id": "e0c9fa4ab8854e339d6fed4eeab99c04"
            }
          },
          "metadata": {}
        },
        {
          "output_type": "display_data",
          "data": {
            "text/plain": [
              "Downloading data:   0%|          | 0.00/1.13M [00:00<?, ?B/s]"
            ],
            "application/vnd.jupyter.widget-view+json": {
              "version_major": 2,
              "version_minor": 0,
              "model_id": "16253348c6cb4653bae8a411b4fda0bb"
            }
          },
          "metadata": {}
        },
        {
          "output_type": "display_data",
          "data": {
            "text/plain": [
              "Generating train split: 0 examples [00:00, ? examples/s]"
            ],
            "application/vnd.jupyter.widget-view+json": {
              "version_major": 2,
              "version_minor": 0,
              "model_id": "3d037d9b6ee245fa98819cf003fec125"
            }
          },
          "metadata": {}
        }
      ]
    },
    {
      "cell_type": "markdown",
      "source": [
        "测试第四个分支"
      ],
      "metadata": {
        "id": "ZRg4drmJxOiN"
      }
    },
    {
      "cell_type": "code",
      "source": [
        "# jsonl懒得测了，回头和save一起测"
      ],
      "metadata": {
        "id": "ZK5_1-_0ws74"
      },
      "execution_count": 11,
      "outputs": []
    },
    {
      "cell_type": "markdown",
      "source": [
        "测试第五个分支"
      ],
      "metadata": {
        "id": "ToKgVOLyyTXV"
      }
    },
    {
      "cell_type": "code",
      "source": [
        "chatbot = ChatHaruhi( role_name = '小猫咪', persona = \"你扮演一只小猫咪\", llm = get_response )\n"
      ],
      "metadata": {
        "id": "7QnlGWldyOEK"
      },
      "execution_count": 12,
      "outputs": []
    },
    {
      "cell_type": "markdown",
      "source": [
        "测试第六个分支"
      ],
      "metadata": {
        "id": "D8DFGTQn0uj0"
      }
    },
    {
      "cell_type": "code",
      "source": [
        "chatbot = ChatHaruhi( role_name = '于谦', llm = get_response, embed_name = \"bge_zh\" )\n"
      ],
      "metadata": {
        "id": "G8K4-sZpyUpw"
      },
      "execution_count": 15,
      "outputs": []
    },
    {
      "cell_type": "code",
      "source": [
        "print(chatbot.persona)"
      ],
      "metadata": {
        "id": "GrZ6EHKB1AHq",
        "colab": {
          "base_uri": "https://localhost:8080/"
        },
        "outputId": "432e3dd3-742e-4a6b-accf-5bd95d145bb8"
      },
      "execution_count": 16,
      "outputs": [
        {
          "output_type": "stream",
          "name": "stdout",
          "text": [
            "你正在扮演相声演员于谦，与其他相声演员同台对戏\n",
            "你的职责是扮演 捧哏 于谦\n",
            "上文给定了一些剧本中的经典桥段。\n",
            "如果我问的问题和剧本中的台词高度重复，那你就配合我进行演出。\n",
            "如果我问的问题和剧本中的事件相关，请结合剧本的内容进行回复\n",
            "如果我问的问题超出剧本中的范围，请也用一致性的语气回复。\n",
            "# 请模仿于谦的风格，使用简短的语句进行回答，每句回答尽量不要超过15个字\n",
            "# 如果对方的话是一个事实陈述，则像于谦一样跟随对方的对话，进行简短的重复\n",
            "# 如果对方的话有明显的事实逻辑冲突，于谦有时候会进行简短的反问\n",
            "# 于谦有时候会进行自嘲式的回应，和对方相互调侃\n",
            "Classic scenes for the role are as follows:\n",
            "{{RAG多对话|token<=1000|n<=5}}\n"
          ]
        }
      ]
    },
    {
      "cell_type": "code",
      "source": [],
      "metadata": {
        "id": "oXS4znrH1BV4"
      },
      "execution_count": null,
      "outputs": []
    },
    {
      "cell_type": "markdown",
      "source": [
        "---\n",
        "\n",
        "下面是过往的调试代码留档（别跑）"
      ],
      "metadata": {
        "id": "eqlkpEKSJ-vR"
      }
    },
    {
      "cell_type": "code",
      "source": [
        "from ChatHaruhi.NaiveDB import NaiveDB\n",
        "from ChatHaruhi.embeddings import foo_embedding, foo_bge_zh_15, foo_bce, foo_openai, embedname2columnname\n",
        "from ChatHaruhi.utils import base64_to_float_array, base64_to_string\n",
        "# from ChatHaruhi.sugar_map import sugar_role_names, enname2zhname"
      ],
      "metadata": {
        "id": "ETv2QXHvuAbl"
      },
      "execution_count": null,
      "outputs": []
    },
    {
      "cell_type": "code",
      "source": [
        "sugar_role_names = {'汤师爷': 'tangshiye', 'tangshiye': 'tangshiye', 'Tangshiye': 'tangshiye',\n",
        "                     '慕容复': 'murongfu', 'murongfu': 'murongfu', 'Murongfu': 'murongfu',\n",
        "                     '李云龙': 'liyunlong', 'liyunlong': 'liyunlong', 'Liyunlong': 'liyunlong',\n",
        "                     'Luna': 'Luna', '王多鱼': 'wangduoyu', 'wangduoyu': 'wangduoyu',\n",
        "                     'Wangduoyu': 'wangduoyu', 'Ron': 'Ron', '鸠摩智': 'jiumozhi',\n",
        "                     'jiumozhi': 'jiumozhi', 'Jiumozhi': 'jiumozhi', 'Snape': 'Snape',\n",
        "                     '凉宫春日': 'haruhi', 'haruhi': 'haruhi', 'Haruhi': 'haruhi',\n",
        "                     'Malfoy': 'Malfoy', '虚竹': 'xuzhu', 'xuzhu': 'xuzhu',\n",
        "                     'Xuzhu': 'xuzhu', '萧峰': 'xiaofeng',\n",
        "                     'xiaofeng': 'xiaofeng', 'Xiaofeng': 'xiaofeng', '段誉': 'duanyu',\n",
        "                     'duanyu': 'duanyu', 'Duanyu': 'duanyu', 'Hermione': 'Hermione',\n",
        "                     'Dumbledore': 'Dumbledore', '王语嫣': 'wangyuyan', 'wangyuyan':\n",
        "                     'wangyuyan', 'Wangyuyan': 'wangyuyan', 'Harry': 'Harry',\n",
        "                     'McGonagall': 'McGonagall', '白展堂': 'baizhantang',\n",
        "                     'baizhantang': 'baizhantang', 'Baizhantang': 'baizhantang',\n",
        "                     '佟湘玉': 'tongxiangyu', 'tongxiangyu': 'tongxiangyu',\n",
        "                     'Tongxiangyu': 'tongxiangyu', '郭芙蓉': 'guofurong',\n",
        "                     'guofurong': 'guofurong', 'Guofurong': 'guofurong', '流浪者': 'wanderer',\n",
        "                     'wanderer': 'wanderer', 'Wanderer': 'wanderer', '钟离': 'zhongli',\n",
        "                     'zhongli': 'zhongli', 'Zhongli': 'zhongli', '胡桃': 'hutao', 'hutao': 'hutao',\n",
        "                     'Hutao': 'hutao', 'Sheldon': 'Sheldon', 'Raj': 'Raj',\n",
        "                     'Penny': 'Penny', '韦小宝': 'weixiaobao', 'weixiaobao': 'weixiaobao',\n",
        "                     'Weixiaobao': 'weixiaobao', '乔峰': 'qiaofeng', 'qiaofeng': 'qiaofeng',\n",
        "                     'Qiaofeng': 'qiaofeng', '神里绫华': 'ayaka', 'ayaka': 'ayaka',\n",
        "                     'Ayaka': 'ayaka', '雷电将军': 'raidenShogun', 'raidenShogun': 'raidenShogun',\n",
        "                     'RaidenShogun': 'raidenShogun', '于谦': 'yuqian', 'yuqian': 'yuqian',\n",
        "                     'Yuqian': 'yuqian', 'Professor McGonagall': 'McGonagall',\n",
        "                     'Professor Dumbledore': 'Dumbledore'}\n",
        "\n",
        "enname2zhname = {'tangshiye': '汤师爷', 'murongfu': '慕容复', 'liyunlong': '李云龙', 'Luna': 'Luna', 'wangduoyu': '王多鱼', 'Ron': 'Ron', 'jiumozhi': '鸠摩智', 'Snape': 'Snape', 'haruhi': '凉宫春日', 'Malfoy': 'Malfoy', 'xuzhu': '虚竹', 'xiaofeng': '萧峰', 'duanyu': '段誉', 'Hermione': 'Hermione', 'Dumbledore': 'Dumbledore', 'wangyuyan': '王语嫣', 'Harry': 'Harry', 'McGonagall': 'McGonagall', 'baizhantang': '白展堂', 'tongxiangyu': '佟湘玉', 'guofurong': '郭芙蓉', 'wanderer': '流浪者', 'zhongli': '钟离', 'hutao': '胡桃', 'Sheldon': 'Sheldon', 'Raj': 'Raj', 'Penny': 'Penny', 'weixiaobao': '韦小宝', 'qiaofeng': '乔峰', 'ayaka': '神里绫华', 'raidenShogun': '雷电将军', 'yuqian': '于谦'}\n"
      ],
      "metadata": {
        "id": "wjg6EbVguDIK"
      },
      "execution_count": null,
      "outputs": []
    },
    {
      "cell_type": "code",
      "source": [
        "def tiktoken_counter( text ):\n",
        "    # TODO 把这个实现为tiktoken 然后放到util\n",
        "    return len(text)\n",
        "\n",
        "def get_text_from_data( data ):\n",
        "    if \"text\" in data:\n",
        "        return data['text']\n",
        "    elif \"enc_text\" in data:\n",
        "        # from .utils import base64_to_string\n",
        "        return base64_to_string( data['enc_text'] )\n",
        "    else:\n",
        "        print(\"warning! failed to get text from data \", data)\n",
        "        return \"\"\n",
        "\n",
        "class ChatHaruhi:\n",
        "    def __init__(self,\n",
        "                 role_name = None,\n",
        "                 user_name = None,\n",
        "                 persona = None,\n",
        "                 stories = None,\n",
        "                 story_vecs = None,\n",
        "                 role_from_hf = None,\n",
        "                 role_from_jsonl = None,\n",
        "                 llm = None, # 默认的message2response的函数\n",
        "                 llm_async = None, # 默认的message2response的async函数\n",
        "                 user_name_in_message = \"default\",\n",
        "                 verbose = None,\n",
        "                 embed_name = None,\n",
        "                 embedding = None,\n",
        "                 db = None,\n",
        "                 token_counter = \"default\",\n",
        "                 max_input_token = 1800\n",
        "                 ):\n",
        "\n",
        "        self.verbose = True if verbose is None or verbose else False\n",
        "\n",
        "        self.db = db\n",
        "\n",
        "        self.embed_name = embed_name\n",
        "\n",
        "        if embedding is None:\n",
        "            self.embedding = self.set_embedding_with_name( embed_name )\n",
        "\n",
        "        if persona and role_name and stories and story_vecs and len(stories) == len(story_vecs):\n",
        "            # 完全从外部设置，这个时候要求story_vecs和embedding的返回长度一致\n",
        "            self.persona, self.role_name, self.user_name = persona, role_name, user_name\n",
        "            self.build_db(stories, story_vecs)\n",
        "        elif persona and role_name and stories:\n",
        "            # 从stories中提取story_vecs，重新用self.embedding进行embedding\n",
        "            story_vecs = self.extract_story_vecs(stories)\n",
        "            self.persona, self.role_name, self.user_name = persona, role_name, user_name\n",
        "            self.build_db(stories, story_vecs)\n",
        "        elif role_from_hf:\n",
        "            # 从hf加载role\n",
        "            self.persona, new_role_name, self.stories, self.story_vecs = self.load_role_from_hf(role_from_hf)\n",
        "            if new_role_name:\n",
        "                self.role_name = new_role_name\n",
        "            else:\n",
        "                self.role_name = role_name\n",
        "            self.user_name = user_name\n",
        "            self.build_db(self.stories, self.story_vecs)\n",
        "        elif role_from_jsonl:\n",
        "            # 从jsonl加载role\n",
        "            self.persona, new_role_name, self.stories, self.story_vecs = self.load_role_from_jsonl(role_from_jsonl)\n",
        "            if new_role_name:\n",
        "                self.role_name = new_role_name\n",
        "            else:\n",
        "                self.role_name = role_name\n",
        "            self.user_name = user_name\n",
        "            self.build_db(self.stories, self.story_vecs)\n",
        "        elif persona and role_name:\n",
        "            # 这个时候也就是说没有任何的RAG，\n",
        "            self.persona, self.role_name, self.user_name = persona, role_name, user_name\n",
        "            self.db = None\n",
        "        elif role_name and self.check_sugar( role_name ):\n",
        "            # 这个时候是sugar的role\n",
        "            self.persona, self.role_name, self.user_name, self.db = self.load_role_from_sugar( role_name )\n",
        "        else:\n",
        "            raise ValueError(\"persona和role_name必须同时设置，或者role_name是ChatHaruhi的预设人物\")\n",
        "\n",
        "        self.llm, self.llm_async = llm, llm_async\n",
        "        if not self.llm and self.verbose:\n",
        "            print(\"warning, llm没有设置，仅get_message起作用，调用chat将回复idle message\")\n",
        "\n",
        "        self.user_name_in_message = user_name_in_message\n",
        "        self.previous_user_pool = set([user_name]) if user_name else set()\n",
        "        self.current_user_name_in_message = user_name_in_message.lower() == \"add\"\n",
        "\n",
        "        self.idle_message = \"idel message, you see this because self.llm has not been set.\"\n",
        "\n",
        "        if token_counter.lower() == \"default\":\n",
        "            # TODO change load from util\n",
        "            self.token_counter = tiktoken_counter\n",
        "        elif token_counter == None:\n",
        "            self.token_counter = lambda x: 0\n",
        "        else:\n",
        "            self.token_counter = token_counter\n",
        "            if self.verbose:\n",
        "                print(\"user set costomized token_counter\")\n",
        "\n",
        "        self.max_input_token = max_input_token\n",
        "\n",
        "        self.history = []\n",
        "\n",
        "    def check_sugar(self, role_name):\n",
        "        return role_name in sugar_role_names\n",
        "\n",
        "    def load_role_from_sugar(self, role_name):\n",
        "        en_role_name = sugar_role_names[role_name]\n",
        "        new_role_name = enname2zhname[en_role_name]\n",
        "        role_from_hf = \"silk-road/ChatHaruhi-RolePlaying/\" + en_role_name\n",
        "        persona, _, stories, story_vecs = self.load_role_from_hf(role_from_hf)\n",
        "        return persona, new_role_name, stories, story_vecs\n",
        "\n",
        "    def set_embedding_with_name(self, embed_name):\n",
        "        if embed_name is None or embed_name == \"foo\":\n",
        "            return foo_embedding\n",
        "        elif embed_name == \"bge-zh\":\n",
        "            return foo_bge_zh_15\n",
        "        elif embed_name == \"bce\":\n",
        "            return foo_bce\n",
        "        elif embed_name == \"openai\" or embed_name == \"luotuo_openai\":\n",
        "            return foo_openai\n",
        "\n",
        "    def set_new_user(self, user):\n",
        "        if len(self.previous_user_pool) > 0 and user not in self.previous_user_pool:\n",
        "            if self.user_name_in_message.lower() == \"default\":\n",
        "                if self.verbose:\n",
        "                    print(f'new user {user} included in conversation')\n",
        "                self.current_user_name_in_message = True\n",
        "        self.user_name = user\n",
        "        self.previous_user_pool.add(user)\n",
        "\n",
        "    def chat(self, user, text):\n",
        "        self.set_new_user(user)\n",
        "        message = self.get_message(user, text)\n",
        "        if self.llm:\n",
        "            response = self.llm(message)\n",
        "            self.append_message(response)\n",
        "            return self.llm(message)\n",
        "\n",
        "    async def async_chat(self, user, text):\n",
        "        self.set_new_user(user)\n",
        "        message = self.get_message(user, text)\n",
        "        if self.llm_async:\n",
        "            response = await self.llm_async(message)\n",
        "            self.append_message(response)\n",
        "            return self.llm_async(message)\n",
        "\n",
        "    def parse_rag_from_persona(self, persona):\n",
        "        #每个query_rag需要饱含\n",
        "        # \"n\" 需要几个story\n",
        "        # \"max_token\" 最多允许多少个token，如果-1则不限制\n",
        "        # \"query\" 需要查询的内容，如果等同于\"default\"则替换为text\n",
        "        # \"lid\" 需要替换的行，这里直接进行行替换，忽视行的其他内容\n",
        "\n",
        "        print(\"parse_rag_from_persona\")\n",
        "        return [], self.token_counter(persona)\n",
        "\n",
        "    def append_message( self, response , speaker = None ):\n",
        "        if speaker is None:\n",
        "            # 如果role是none，则认为是本角色{{role}}输出的句子\n",
        "            self.history.append({\"speaker\":\"{{user}}\",\"content\":response})\n",
        "            # 叫speaker是为了和role进行区分\n",
        "        else:\n",
        "            self.history.append({\"speaker\":speaker,\"content\":response})\n",
        "\n",
        "    def rag_retrieve( self, query, n, max_token, avoid_ids = [] ):\n",
        "        # 返回一个rag_id的列表\n",
        "        print(\"call rag_retrieve\")\n",
        "        return []\n",
        "\n",
        "    def rag_retrieve_all( self, query_rags, rest_limit ):\n",
        "        # 返回一个rag_ids的列表\n",
        "        retrieved_ids = []\n",
        "        rag_ids = []\n",
        "\n",
        "        for query_rag in query_rags:\n",
        "            query = query_rag['query']\n",
        "            n = query_rag['n']\n",
        "            max_token = rest_limit\n",
        "            if rest_limit > query_rag['max_token'] and query_rag['max_token'] > 0:\n",
        "                max_token = query_rag['max_token']\n",
        "\n",
        "            rag_id = self.rag_retrieve( query, n, max_token, avoid_ids = retrieved_ids )\n",
        "            rag_ids.append( rag_id )\n",
        "            retrieved_ids += rag_id\n",
        "\n",
        "        return rag_ids\n",
        "\n",
        "    def append_history_under_limit(self, message, rest_limit):\n",
        "        # 返回一个messages的列表\n",
        "        print(\"call append_history_under_limit\")\n",
        "\n",
        "        # 从后往前计算token，不超过rest_limit,\n",
        "        # 如果speaker是{{role}},则message的role是assistant\n",
        "\n",
        "        return message\n",
        "\n",
        "    def get_message(self, user, text):\n",
        "        query_token = self.token_counter(text)\n",
        "\n",
        "        # 首先获取需要多少个rag story\n",
        "        query_rags, persona_token = self.parse_rag_from_persona( self.persona )\n",
        "        #每个query_rag需要饱含\n",
        "        # \"n\" 需要几个story\n",
        "        # \"max_token\" 最多允许多少个token，如果-1则不限制\n",
        "        # \"query\" 需要查询的内容，如果等同于\"default\"则替换为text\n",
        "        # \"lid\" 需要替换的行，这里直接进行行替换，忽视行的其他内容\n",
        "\n",
        "        rest_limit = self.max_input_token - persona_token - query_token\n",
        "\n",
        "        rag_ids = self.rag_retrieve_all( query_rags, rest_limit )\n",
        "\n",
        "        # 将rag_ids对应的故事 替换到persona中\n",
        "        augmented_persona = self.augment_persona( self.persona, rag_ids, query_rags )\n",
        "\n",
        "        system_prompt = self.package_system_prompt( self.role_name, augmented_persona )\n",
        "\n",
        "        token_for_system = self.token_counter( system_prompt )\n",
        "\n",
        "        rest_limit = self.max_input_token - token_for_system - query_token\n",
        "\n",
        "        message = [{\"role\":\"system\",\"content\":system_prompt}]\n",
        "\n",
        "        message = self.append_history_under_limit( message, rest_limit )\n",
        "\n",
        "        message.append({\"role\":\"user\",\"content\":text})\n",
        "\n",
        "        return message\n",
        "\n",
        "    def package_system_prompt(self, role_name, augmented_persona):\n",
        "        bot_name = role_name\n",
        "        return f\"\"\"You are now in roleplay conversation mode. Pretend to be {bot_name} whose persona follows:\n",
        "{augmented_persona}\n",
        "\n",
        "You will stay in-character whenever possible, and generate responses as if you were {bot_name}\"\"\"\n",
        "\n",
        "\n",
        "    def augment_persona(self, persona, rag_ids, query_rags):\n",
        "        lines = persona.split(\"\\n\")\n",
        "        for rag_id, query_rag in zip(rag_ids, query_rags):\n",
        "            lid = query_rag['lid']\n",
        "            new_text = \"\"\n",
        "            for id in rag_id:\n",
        "                new_text += \"###\\n\" + self.db.get_text(id) + \"\\n\"\n",
        "            new_text = new_text.strip()\n",
        "            lines[lid] = new_text\n",
        "        return \"\\n\".join(lines)\n",
        "\n",
        "    def load_role_from_jsonl( self, role_from_jsonl ):\n",
        "        if self.verbose:\n",
        "            print(f\"因为懒得测试，jsonl的分支还没有测试，当你使用的时候如果通过了，请告诉鲁叔测试通过了\")\n",
        "        import json\n",
        "        datas = []\n",
        "        with open(role_from_jsonl, 'r') as f:\n",
        "            for line in f:\n",
        "                try:\n",
        "                    datas.append(json.loads(line))\n",
        "                except:\n",
        "                    continue\n",
        "\n",
        "        column_name = \"\"\n",
        "\n",
        "        if self.embed_name in embedname2columnname:\n",
        "            column_name = embedname2columnname[self.embed_name]\n",
        "        else:\n",
        "            print('warning! unkown embedding name ', self.embed_name ,' while loading role')\n",
        "            column_name = 'luotuo_openai'\n",
        "\n",
        "        stories, story_vecs, persona = self.extract_text_vec_from_datas(datas, column_name)\n",
        "\n",
        "        return persona, None, stories, story_vecs\n",
        "\n",
        "\n",
        "    def load_role_from_hf(self, role_from_hf):\n",
        "        # 从hf加载role\n",
        "        # self.persona, new_role_name, self.stories, self.story_vecs = self.load_role_from_hf(role_from_hf)\n",
        "\n",
        "        from datasets import load_dataset\n",
        "\n",
        "        if role_from_hf.count(\"/\") == 1:\n",
        "            dataset = load_dataset(role_from_hf)\n",
        "            datas = dataset[\"train\"]\n",
        "        elif role_from_hf.count(\"/\") >= 2:\n",
        "            split_index = role_from_hf.index('/')\n",
        "            second_split_index = role_from_hf.index('/', split_index+1)\n",
        "            dataset_name = role_from_hf[:second_split_index]\n",
        "            split_name = role_from_hf[second_split_index+1:]\n",
        "\n",
        "            fname = split_name + '.jsonl'\n",
        "            dataset = load_dataset(dataset_name,data_files={'train':fname})\n",
        "            datas = dataset[\"train\"]\n",
        "\n",
        "        column_name = \"\"\n",
        "\n",
        "        if self.embed_name in embedname2columnname:\n",
        "            column_name = embedname2columnname[self.embed_name]\n",
        "        else:\n",
        "            print('warning! unkown embedding name ', self.embed_name ,' while loading role')\n",
        "            column_name = 'luotuo_openai'\n",
        "\n",
        "        stories, story_vecs, persona = self.extract_text_vec_from_datas(datas, column_name)\n",
        "\n",
        "        return persona, None, stories, story_vecs\n",
        "\n",
        "    def extract_text_vec_from_datas(self, datas, column_name):\n",
        "        # 从datas中提取text和vec\n",
        "        # extract text and vec from huggingface dataset\n",
        "        # return texts, vecs\n",
        "        # from .utils import base64_to_float_array\n",
        "\n",
        "        texts = []\n",
        "        vecs = []\n",
        "        for data in datas:\n",
        "            if data[column_name] == 'system_prompt':\n",
        "                system_prompt = get_text_from_data( data )\n",
        "            elif data[column_name] == 'config':\n",
        "                pass\n",
        "            else:\n",
        "                vec = base64_to_float_array( data[column_name] )\n",
        "                text = get_text_from_data( data )\n",
        "                vecs.append( vec )\n",
        "                texts.append( text )\n",
        "        return texts, vecs, system_prompt\n",
        "\n",
        "    def load_role_from_jsonl(self, role_from_jsonl):\n",
        "        # 从jsonl加载role\n",
        "        return None\n",
        "\n",
        "    def extract_story_vecs(self, stories):\n",
        "        # 从stories中提取story_vecs\n",
        "\n",
        "        if self.verbose:\n",
        "            print(f\"re-extract vector for {len(stories)} stories\")\n",
        "\n",
        "        from tqdm import tqdm\n",
        "        story_vecs = []\n",
        "        for story in tqdm(stories):\n",
        "            story_vecs.append(self.embedding(story))\n",
        "\n",
        "        return story_vecs\n",
        "\n",
        "    def build_db(self, stories, story_vecs):\n",
        "        # db的构造函数\n",
        "        if self.db is None:\n",
        "            self.db = NaiveDB()\n",
        "        self.db.build_db(stories, story_vecs)\n",
        "\n",
        "\n"
      ],
      "metadata": {
        "id": "hw3zsIXbuGGy"
      },
      "execution_count": null,
      "outputs": []
    }
  ]
}