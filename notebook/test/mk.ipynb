{
 "cells": [
  {
   "cell_type": "code",
   "execution_count": 25,
   "metadata": {},
   "outputs": [],
   "source": [
    "import json\n",
    "\n",
    "\n",
    "contents = []\n",
    "\n",
    "with open(\"output.txt\") as fr:\n",
    "    lines = fr.readlines()\n",
    "    for line in lines:\n",
    "        contents.append(json.loads(line))"
   ]
  },
  {
   "cell_type": "code",
   "execution_count": 26,
   "metadata": {},
   "outputs": [],
   "source": [
    "with open(\"glm_full.md\", \"w\") as fw:\n",
    "    for c in contents:\n",
    "        fw.write(f'<ul><li>{c[\"user_text\"]}</li><li>{c[\"response\"]}</li></ul>\\n\\n---\\n\\n')"
   ]
  }
 ],
 "metadata": {
  "kernelspec": {
   "display_name": "ChatWorld",
   "language": "python",
   "name": "python3"
  },
  "language_info": {
   "codemirror_mode": {
    "name": "ipython",
    "version": 3
   },
   "file_extension": ".py",
   "mimetype": "text/x-python",
   "name": "python",
   "nbconvert_exporter": "python",
   "pygments_lexer": "ipython3",
   "version": "3.9.18"
  }
 },
 "nbformat": 4,
 "nbformat_minor": 2
}
