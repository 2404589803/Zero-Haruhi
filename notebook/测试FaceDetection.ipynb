{
  "nbformat": 4,
  "nbformat_minor": 0,
  "metadata": {
    "colab": {
      "provenance": [],
      "authorship_tag": "ABX9TyPdRJmwLkr4UpSV2ygJk82p",
      "include_colab_link": true
    },
    "kernelspec": {
      "name": "python3",
      "display_name": "Python 3"
    },
    "language_info": {
      "name": "python"
    }
  },
  "cells": [
    {
      "cell_type": "markdown",
      "metadata": {
        "id": "view-in-github",
        "colab_type": "text"
      },
      "source": [
        "<a href=\"https://colab.research.google.com/github/LC1332/Zero-Haruhi/blob/main/notebook/%E6%B5%8B%E8%AF%95FaceDetection.ipynb\" target=\"_parent\"><img src=\"https://colab.research.google.com/assets/colab-badge.svg\" alt=\"Open In Colab\"/></a>"
      ]
    },
    {
      "cell_type": "markdown",
      "source": [
        "- [ ] 导入视频\n",
        "- [ ] 选一个时间\n",
        "- [ ] 看看detection能不能跑"
      ],
      "metadata": {
        "id": "bAI78B8O2bZ7"
      }
    },
    {
      "cell_type": "code",
      "execution_count": 1,
      "metadata": {
        "colab": {
          "base_uri": "https://localhost:8080/"
        },
        "id": "OJuM6jqQ2Xy6",
        "outputId": "f7ba63c6-11ad-4c43-c3e3-196c82de2d93"
      },
      "outputs": [
        {
          "output_type": "stream",
          "name": "stdout",
          "text": [
            "Mounted at /content/drive\n"
          ]
        }
      ],
      "source": [
        "from google.colab import drive\n",
        "drive.mount('/content/drive')"
      ]
    },
    {
      "cell_type": "code",
      "source": [
        "!ls /content/drive/MyDrive/SD/exp0226"
      ],
      "metadata": {
        "colab": {
          "base_uri": "https://localhost:8080/"
        },
        "id": "B5IlIizX2z--",
        "outputId": "ee0d5d85-083b-48eb-8e9c-172d5a56875a"
      },
      "execution_count": 2,
      "outputs": [
        {
          "output_type": "stream",
          "name": "stdout",
          "text": [
            "expression_example.mp4\n"
          ]
        }
      ]
    },
    {
      "cell_type": "code",
      "source": [
        "input_video = \"/content/drive/MyDrive/SD/exp0226/expression_example.mp4\"\n",
        "target_folder = \"/content/\"\n",
        "\n",
        "import shutil\n",
        "\n",
        "shutil.copy(input_video, target_folder)"
      ],
      "metadata": {
        "colab": {
          "base_uri": "https://localhost:8080/",
          "height": 35
        },
        "id": "dYsUgo553Ahw",
        "outputId": "5c54cf82-73d1-441d-d4bd-6b162be48bca"
      },
      "execution_count": 3,
      "outputs": [
        {
          "output_type": "execute_result",
          "data": {
            "text/plain": [
              "'/content/expression_example.mp4'"
            ],
            "application/vnd.google.colaboratory.intrinsic+json": {
              "type": "string"
            }
          },
          "metadata": {},
          "execution_count": 3
        }
      ]
    },
    {
      "cell_type": "code",
      "source": [
        "%cd /content\n",
        "!rm -rf /content/smooth-face-extract\n",
        "!git clone https://github.com/LC1332/smooth-face-extract\n"
      ],
      "metadata": {
        "colab": {
          "base_uri": "https://localhost:8080/"
        },
        "id": "tb5Xen4j3Lrf",
        "outputId": "2567b22b-fb38-44ab-de65-882bda2ed4c7"
      },
      "execution_count": 4,
      "outputs": [
        {
          "output_type": "stream",
          "name": "stdout",
          "text": [
            "/content\n",
            "Cloning into 'smooth-face-extract'...\n",
            "remote: Enumerating objects: 56, done.\u001b[K\n",
            "remote: Counting objects: 100% (56/56), done.\u001b[K\n",
            "remote: Compressing objects: 100% (53/53), done.\u001b[K\n",
            "remote: Total 56 (delta 28), reused 3 (delta 1), pack-reused 0\u001b[K\n",
            "Receiving objects: 100% (56/56), 27.63 KiB | 6.91 MiB/s, done.\n",
            "Resolving deltas: 100% (28/28), done.\n"
          ]
        }
      ]
    },
    {
      "cell_type": "code",
      "source": [
        "%cd /content/smooth-face-extract/Face_detection_src\n",
        "!ls\n",
        "!mkdir face_images"
      ],
      "metadata": {
        "colab": {
          "base_uri": "https://localhost:8080/"
        },
        "id": "M6zuNEfK4HPn",
        "outputId": "d96e49ef-c69a-473f-976a-39b58ea67396"
      },
      "execution_count": 5,
      "outputs": [
        {
          "output_type": "stream",
          "name": "stdout",
          "text": [
            "/content/smooth-face-extract/Face_detection_src\n",
            "combine_img_to_video.py        FaceDetection_MAFilter.py  __init__\n",
            "FaceDetection_KalmanFilter.py  FaceDetection.py\n"
          ]
        }
      ]
    },
    {
      "cell_type": "code",
      "source": [
        "!pip install -q mediapipe"
      ],
      "metadata": {
        "colab": {
          "base_uri": "https://localhost:8080/"
        },
        "id": "rvhrLE7K4Vtd",
        "outputId": "8d45a657-9c69-4a4f-e045-c4cab0459cdc"
      },
      "execution_count": 6,
      "outputs": [
        {
          "output_type": "stream",
          "name": "stdout",
          "text": [
            "\u001b[2K     \u001b[90m━━━━━━━━━━━━━━━━━━━━━━━━━━━━━━━━━━━━━━━━\u001b[0m \u001b[32m34.8/34.8 MB\u001b[0m \u001b[31m28.3 MB/s\u001b[0m eta \u001b[36m0:00:00\u001b[0m\n",
            "\u001b[?25h"
          ]
        }
      ]
    },
    {
      "cell_type": "code",
      "source": [
        "!rm -rf face_images\n",
        "\n",
        "!rm -rf output"
      ],
      "metadata": {
        "id": "WC6Btfpz4p6O"
      },
      "execution_count": 7,
      "outputs": []
    },
    {
      "cell_type": "code",
      "source": [
        "\n",
        "!python FaceDetection_KalmanFilter.py --input_video_name /content/expression_example.mp4 \\\n",
        "    --start_time 00:43:55 \\\n",
        "    --end_time 00:44:04 \\\n",
        "    --maxcenter_speed 30\n"
      ],
      "metadata": {
        "colab": {
          "base_uri": "https://localhost:8080/"
        },
        "id": "HRPlvLhG3WnH",
        "outputId": "bb654fca-eeae-445d-ddff-e5b9abf686c9"
      },
      "execution_count": 8,
      "outputs": [
        {
          "output_type": "stream",
          "name": "stdout",
          "text": [
            "2024-02-29 11:01:53.299847: E external/local_xla/xla/stream_executor/cuda/cuda_dnn.cc:9261] Unable to register cuDNN factory: Attempting to register factory for plugin cuDNN when one has already been registered\n",
            "2024-02-29 11:01:53.299913: E external/local_xla/xla/stream_executor/cuda/cuda_fft.cc:607] Unable to register cuFFT factory: Attempting to register factory for plugin cuFFT when one has already been registered\n",
            "2024-02-29 11:01:53.301373: E external/local_xla/xla/stream_executor/cuda/cuda_blas.cc:1515] Unable to register cuBLAS factory: Attempting to register factory for plugin cuBLAS when one has already been registered\n",
            "2024-02-29 11:01:53.310062: I tensorflow/core/platform/cpu_feature_guard.cc:182] This TensorFlow binary is optimized to use available CPU instructions in performance-critical operations.\n",
            "To enable the following instructions: AVX2 FMA, in other operations, rebuild TensorFlow with the appropriate compiler flags.\n",
            "2024-02-29 11:01:54.881161: W tensorflow/compiler/tf2tensorrt/utils/py_utils.cc:38] TF-TRT Warning: Could not find TensorRT\n",
            "INFO: Created TensorFlow Lite XNNPACK delegate for CPU.\n"
          ]
        }
      ]
    },
    {
      "cell_type": "markdown",
      "source": [
        "---\n",
        "\n",
        "# 重写实验\n",
        "\n",
        "这里实验效果没有达到预期，我们直接进行重写\n",
        "\n",
        "计划是这样的\n",
        "\n",
        "- [ ] 整个video读入后，变成list of center_x, center_y, half_win_size\n",
        "- [ ] 进行可视化和滤波实验\n",
        "- [ ] 然后再切一次"
      ],
      "metadata": {
        "id": "o_1KgfXzhvRE"
      }
    },
    {
      "cell_type": "code",
      "source": [
        "input_video_name = \"/content/expression_example.mp4\"\n",
        "start_time = \"00:43:55\"\n",
        "end_time = \"00:44:04\"\n"
      ],
      "metadata": {
        "id": "ErpQtfdz4m88"
      },
      "execution_count": 12,
      "outputs": []
    },
    {
      "cell_type": "code",
      "source": [
        "!wget -q -O detector.tflite -q https://storage.googleapis.com/mediapipe-models/face_detector/blaze_face_short_range/float16/1/blaze_face_short_range.tflite"
      ],
      "metadata": {
        "id": "ODVVg8hUi3kr"
      },
      "execution_count": 13,
      "outputs": []
    },
    {
      "cell_type": "code",
      "source": [
        "def get_frame_no(time_str, fps):\n",
        "    h, m, s = map(int, time_str.split(\":\"))\n",
        "    return int((h * 3600 + m * 60 + s) * fps)\n",
        "\n",
        "import cv2\n",
        "\n",
        "import mediapipe as mp\n",
        "\n",
        "\n",
        "def get_face_detector():\n",
        "\n",
        "    mp_face_detection = mp.solutions.face_detection\n",
        "    return mp_face_detection.FaceDetection(min_detection_confidence=0.8)\n",
        "\n",
        "    ## TODO 也可以换成video\n",
        "\n",
        "    # BaseOptions = mp.tasks.BaseOptions\n",
        "    # FaceDetector = mp.tasks.vision.FaceDetector\n",
        "    # FaceDetectorOptions = mp.tasks.vision.FaceDetectorOptions\n",
        "    # VisionRunningMode = mp.tasks.vision.RunningMode\n",
        "\n",
        "    # # Create a face detector instance with the video mode:\n",
        "    # options = FaceDetectorOptions(\n",
        "    #     base_options= BaseOptions( model_asset_path='detector.tflite'),\n",
        "    #     running_mode=VisionRunningMode.VIDEO,\n",
        "    #     min_detection_confidence=0.5)\n",
        "\n",
        "    # face_detector = FaceDetector.create_from_options(options)\n",
        "    # return face_detector\n",
        "\n",
        "\n",
        "def video_to_boxes( video_name, start_time, end_time ):\n",
        "    ans = []\n",
        "    cap = cv2.VideoCapture(video_name)\n",
        "    fps = cap.get(cv2.CAP_PROP_FPS)\n",
        "    start_frame_no = get_frame_no(start_time, fps)\n",
        "    end_frame_no = get_frame_no(end_time, fps)\n",
        "\n",
        "    cap.set(cv2.CAP_PROP_POS_FRAMES, start_frame_no)\n",
        "    ret, frame = cap.read()\n",
        "\n",
        "    face_detector = get_face_detector()\n",
        "\n",
        "    while cap.isOpened():\n",
        "        success, image = cap.read()\n",
        "        frame_id = cap.get(cv2.CAP_PROP_POS_FRAMES)\n",
        "        if not success or frame_id > end_frame_no:\n",
        "            break\n",
        "        results = face_detector.process(image)\n",
        "        ans.append(results)\n",
        "\n",
        "    cap.release()\n",
        "\n",
        "    return ans\n",
        "\n",
        "def get_video_shape( video_name ):\n",
        "    cap = cv2.VideoCapture(video_name)\n",
        "\n",
        "    ret, frame = cap.read()\n",
        "\n",
        "    video_shape = frame.shape\n",
        "\n",
        "    return video_shape[0], video_shape[1]\n",
        "\n",
        "\n",
        "\n",
        "video_height, video_width = get_video_shape(input_video_name)\n",
        "\n",
        "\n",
        "detection_results = video_to_boxes(input_video_name, start_time, end_time)"
      ],
      "metadata": {
        "id": "fbviU6ZHeHq1"
      },
      "execution_count": 96,
      "outputs": []
    },
    {
      "cell_type": "code",
      "source": [
        "print(video_height)"
      ],
      "metadata": {
        "colab": {
          "base_uri": "https://localhost:8080/"
        },
        "id": "wzKl7DuG01pu",
        "outputId": "82e61bac-bab6-4ad5-bc75-7c86733d71fb"
      },
      "execution_count": 97,
      "outputs": [
        {
          "output_type": "stream",
          "name": "stdout",
          "text": [
            "720\n"
          ]
        }
      ]
    },
    {
      "cell_type": "code",
      "source": [
        "count = 0\n",
        "for i, frame_result in enumerate(detection_results):\n",
        "    if frame_result.detections:\n",
        "        count += len(frame_result.detections)\n",
        "\n",
        "print(count)"
      ],
      "metadata": {
        "colab": {
          "base_uri": "https://localhost:8080/"
        },
        "id": "i9oO_6w5ny_v",
        "outputId": "041d53df-3c8e-4854-fbfd-ece4edf06b74"
      },
      "execution_count": 98,
      "outputs": [
        {
          "output_type": "stream",
          "name": "stdout",
          "text": [
            "50\n"
          ]
        }
      ]
    },
    {
      "cell_type": "markdown",
      "source": [
        "找到全序列最大的人脸"
      ],
      "metadata": {
        "id": "EZuD2R1Pojcc"
      }
    },
    {
      "cell_type": "code",
      "source": [
        "def get_max_face_index(detection_results):\n",
        "    maximal_area = -1\n",
        "    max_frame_index = -1\n",
        "    max_result = None\n",
        "    for i, frame_result in enumerate(detection_results):\n",
        "        if frame_result.detections:\n",
        "            for result in frame_result.detections:\n",
        "                area = result.location_data.relative_bounding_box.width * result.location_data.relative_bounding_box.height\n",
        "                if area > maximal_area:\n",
        "                    maximal_area = area\n",
        "                    max_frame_index = i\n",
        "                    max_result = result\n",
        "    return max_frame_index, max_result\n",
        "\n",
        "max_frame_index, max_result = get_max_face_index(detection_results)\n",
        "print(max_result)\n"
      ],
      "metadata": {
        "colab": {
          "base_uri": "https://localhost:8080/"
        },
        "id": "imERYGgenAPR",
        "outputId": "f380e011-d9f1-428d-e901-d14077504298"
      },
      "execution_count": 99,
      "outputs": [
        {
          "output_type": "stream",
          "name": "stdout",
          "text": [
            "label_id: 0\n",
            "score: 0.5661634802818298\n",
            "location_data {\n",
            "  format: RELATIVE_BOUNDING_BOX\n",
            "  relative_bounding_box {\n",
            "    xmin: 0.5057213306427002\n",
            "    ymin: 0.11977088451385498\n",
            "    width: 0.3297649621963501\n",
            "    height: 0.5861427187919617\n",
            "  }\n",
            "  relative_keypoints {\n",
            "    x: 0.600339949131012\n",
            "    y: 0.5042380094528198\n",
            "  }\n",
            "  relative_keypoints {\n",
            "    x: 0.6772907972335815\n",
            "    y: 0.2867819666862488\n",
            "  }\n",
            "  relative_keypoints {\n",
            "    x: 0.744242787361145\n",
            "    y: 0.496986985206604\n",
            "  }\n",
            "  relative_keypoints {\n",
            "    x: 0.7983250021934509\n",
            "    y: 0.5480449199676514\n",
            "  }\n",
            "  relative_keypoints {\n",
            "    x: 0.533044159412384\n",
            "    y: 0.6292794346809387\n",
            "  }\n",
            "  relative_keypoints {\n",
            "    x: 0.6996224522590637\n",
            "    y: 0.16362953186035156\n",
            "  }\n",
            "}\n",
            "\n"
          ]
        }
      ]
    },
    {
      "cell_type": "code",
      "source": [
        "def get_winsize( data , video_height, video_width ):\n",
        "    # return relative winsize to the height\n",
        "    ans = data.location_data.relative_bounding_box.width\n",
        "    ans += (data.location_data.relative_bounding_box.height * video_height / video_width)\n",
        "    return ans / 2"
      ],
      "metadata": {
        "id": "iDBJy0dJwiT7"
      },
      "execution_count": 100,
      "outputs": []
    },
    {
      "cell_type": "markdown",
      "source": [
        "从前向后和从后向前选取track的人脸"
      ],
      "metadata": {
        "id": "g7caYb4vom1V"
      }
    },
    {
      "cell_type": "code",
      "source": [
        "def get_center_x( data ):\n",
        "    return data.location_data.relative_bounding_box.xmin + data.location_data.relative_bounding_box.width/2\n",
        "\n",
        "def get_center_y( data ):\n",
        "    return data.location_data.relative_bounding_box.ymin + data.location_data.relative_bounding_box.height/2\n",
        "\n",
        "\n",
        "def grab_one_face_from_detection( detection_results, max_frame_index, max_result ):\n",
        "    n_frame = len(detection_results)\n",
        "    maximal_location = max_result.location_data.relative_bounding_box\n",
        "\n",
        "    last_result = max_result\n",
        "    center_x = maximal_location.xmin + maximal_location.width / 2\n",
        "    center_y = maximal_location.ymin + maximal_location.height / 2\n",
        "\n",
        "    post_ans = []\n",
        "\n",
        "    # 从前向后选取track的人脸\n",
        "    for i in range( max_frame_index, n_frame ):\n",
        "        if detection_results[i].detections:\n",
        "            nearest_box = min( detection_results[i].detections, \\\n",
        "                              key=lambda x: abs( get_center_x(x) - get_center_x(last_result) ) \\\n",
        "                               + abs(get_center_y(x)  - get_center_y(last_result)) )\n",
        "            post_ans.append( nearest_box )\n",
        "            last_result = nearest_box\n",
        "        else:\n",
        "            post_ans.append( last_result )\n",
        "\n",
        "    pre_ans = []\n",
        "\n",
        "    last_result = max_result\n",
        "    center_x = maximal_location.xmin + maximal_location.width / 2\n",
        "    center_y = maximal_location.ymin + maximal_location.height / 2\n",
        "\n",
        "    for i in range( max_frame_index-1, 0-1, -1 ):\n",
        "        if detection_results[i].detections:\n",
        "            nearest_box = min( detection_results[i].detections, \\\n",
        "                               key=lambda x: abs( get_center_x(x) - get_center_x(last_result) ) \\\n",
        "                               + abs(get_center_y(x)  - get_center_y(last_result)) )\n",
        "            pre_ans.append( nearest_box )\n",
        "            last_result = nearest_box\n",
        "        else:\n",
        "            pre_ans.append( last_result )\n",
        "\n",
        "    ans = pre_ans[::-1] + post_ans\n",
        "\n",
        "    return ans\n",
        "\n",
        "\n",
        "box_per_frame = grab_one_face_from_detection(detection_results, max_frame_index, max_result)"
      ],
      "metadata": {
        "id": "eoqiLCDBomhd"
      },
      "execution_count": 101,
      "outputs": []
    },
    {
      "cell_type": "code",
      "source": [
        "print(get_winsize(box_per_frame[0], video_height, video_width))"
      ],
      "metadata": {
        "colab": {
          "base_uri": "https://localhost:8080/"
        },
        "id": "H4yp7ch1w1v-",
        "outputId": "c230254c-84ea-40ec-fae9-f4c1d0ffb1b2"
      },
      "execution_count": 102,
      "outputs": [
        {
          "output_type": "stream",
          "name": "stdout",
          "text": [
            "0.1415957510471344\n"
          ]
        }
      ]
    },
    {
      "cell_type": "code",
      "source": [
        "import matplotlib.pyplot as plt\n",
        "ns = [i for i in range(len(box_per_frame))]\n",
        "xs = [get_center_x(box) for box in box_per_frame]\n",
        "ys = [get_center_y(box) for box in box_per_frame]\n",
        "plt.plot(ns, xs, label=\"x\")\n",
        "plt.plot(ns, ys, label=\"y\")\n",
        "plt.legend()\n",
        "plt.show()"
      ],
      "metadata": {
        "colab": {
          "base_uri": "https://localhost:8080/",
          "height": 430
        },
        "id": "3EqZb6wfq4-F",
        "outputId": "96a1f385-af44-4aee-9ce1-74fb44b56e21"
      },
      "execution_count": 103,
      "outputs": [
        {
          "output_type": "display_data",
          "data": {
            "text/plain": [
              "<Figure size 640x480 with 1 Axes>"
            ],
            "image/png": "[encoded data removed]"
          },
          "metadata": {}
        }
      ]
    },
    {
      "cell_type": "markdown",
      "source": [
        "这里一般的方法太复杂了，我们直接使用手写规则的方法"
      ],
      "metadata": {
        "id": "KIhIg92ov6Aw"
      }
    },
    {
      "cell_type": "code",
      "source": [
        "max_velocity = 15\n",
        "\n",
        "def normalize_position( x, y , half_win_size , video_height, video_width ):\n",
        "    half_win_size = min( 0.5, half_win_size )\n",
        "    # y - half_win_size > 0\n",
        "    y = max( y, half_win_size)\n",
        "    # y + half_win_size < 1\n",
        "    y = min( y, 1 - half_win_size )\n",
        "\n",
        "    half_win_size_for_x = half_win_size * video_height / video_width\n",
        "    # x - half_win_size_for_x > 0\n",
        "    x = max( x, half_win_size_for_x )\n",
        "    # x + half_win_size_for_x < 1\n",
        "    x = min( x, 1 - half_win_size_for_x )\n",
        "\n",
        "    return x, y, half_win_size\n",
        "\n",
        "\n",
        "def filter_box( box_per_frame, video_height, video_width ):\n",
        "\n",
        "    max_velocity_in_x = max_velocity / video_width\n",
        "    max_velocity_in_y = max_velocity / video_height\n",
        "\n",
        "    datas = []\n",
        "    for box in box_per_frame:\n",
        "        datas.append({\n",
        "            \"x\": get_center_x(box),\n",
        "            \"y\": get_center_y(box),\n",
        "            \"half_win_size\": get_winsize(box, video_height, video_width)/2.0\n",
        "        })\n",
        "\n",
        "    ans = [datas[0]]\n",
        "    last_data = datas[0]\n",
        "\n",
        "    for data in datas[1:]:\n",
        "        x = data[\"x\"]\n",
        "        y = data[\"y\"]\n",
        "        half_win_size = data[\"half_win_size\"]\n",
        "        # last_x - max_velocity_in_x < x < last_x + max_velocity_in_x\n",
        "\n",
        "        new_x = max( last_data[\"x\"] - max_velocity_in_x, min( last_data[\"x\"] + max_velocity_in_x, x ) )\n",
        "        new_y = max( last_data[\"y\"] - max_velocity_in_y, min( last_data[\"y\"] + max_velocity_in_y, y ) )\n",
        "\n",
        "        new_half_win_size = half_win_size + max( abs(new_x - x) , abs(new_y - y) )\n",
        "\n",
        "        last_hws = last_data[\"half_win_size\"]\n",
        "        #last_hws-max_velocity_in_y  <  new_half_win_size < last_hws+max_velocity_in_y\n",
        "        new_half_win_size = max( last_hws - 3*max_velocity_in_y, min( last_hws + 3*max_velocity_in_y, new_half_win_size ) )\n",
        "\n",
        "        new_x, new_y, new_half_win_size = normalize_position( new_x, new_y, new_half_win_size, video_height, video_width )\n",
        "\n",
        "        ans.append({\n",
        "            \"x\": new_x,\n",
        "            \"y\": new_y,\n",
        "            \"half_win_size\": new_half_win_size\n",
        "        })\n",
        "        last_data = ans[-1]\n",
        "\n",
        "    return ans\n",
        "\n",
        "filtered_box = filter_box(box_per_frame, video_height, video_width)"
      ],
      "metadata": {
        "id": "Jl7RG6Jyh02_"
      },
      "execution_count": 104,
      "outputs": []
    },
    {
      "cell_type": "code",
      "source": [
        "import matplotlib.pyplot as plt\n",
        "ns = [i for i in range(len(box_per_frame))]\n",
        "xs = [get_center_x(box) for box in box_per_frame]\n",
        "fxs = [box[\"x\"] for box in filtered_box]\n",
        "plt.plot(ns, xs, label=\"x\")\n",
        "plt.plot(ns, fxs, label=\"y\")\n",
        "plt.legend()\n",
        "plt.show()"
      ],
      "metadata": {
        "colab": {
          "base_uri": "https://localhost:8080/",
          "height": 430
        },
        "id": "FTeBOu6_2gLD",
        "outputId": "b16750ae-0471-49e3-89be-b2e14dfd4f0c"
      },
      "execution_count": 105,
      "outputs": [
        {
          "output_type": "display_data",
          "data": {
            "text/plain": [
              "<Figure size 640x480 with 1 Axes>"
            ],
            "image/png": "[encoded data removed]"
          },
          "metadata": {}
        }
      ]
    },
    {
      "cell_type": "markdown",
      "source": [
        "# 这里的x和y随时间也可以再MA平滑一下"
      ],
      "metadata": {
        "id": "X1dABaQa0DU8"
      }
    },
    {
      "cell_type": "code",
      "source": [
        "def crop_video( video_name,  start_time, end_time, filtered_box ):\n",
        "    ans = []\n",
        "    cap = cv2.VideoCapture(video_name)\n",
        "    fps = cap.get(cv2.CAP_PROP_FPS)\n",
        "    start_frame_no = get_frame_no(start_time, fps)\n",
        "    end_frame_no = get_frame_no(end_time, fps)\n",
        "\n",
        "    cap.set(cv2.CAP_PROP_POS_FRAMES, start_frame_no)\n",
        "    ret, frame = cap.read()\n",
        "\n",
        "    face_detector = get_face_detector()\n",
        "\n",
        "    index = 0\n",
        "\n",
        "    cropped_face_out = None\n",
        "\n",
        "    while cap.isOpened():\n",
        "        success, image = cap.read()\n",
        "        frame_id = cap.get(cv2.CAP_PROP_POS_FRAMES)\n",
        "        if not success or frame_id > end_frame_no:\n",
        "            break\n",
        "        if index > len(filtered_box) - 1:\n",
        "            break\n",
        "\n",
        "        if cropped_face_out is None:\n",
        "          cropped_face_out = cv2.VideoWriter('output/cropped_face.avi', cv2.VideoWriter_fourcc('M', 'J', 'P', 'G'), fps, (640, 640))\n",
        "\n",
        "        box = filtered_box[index]\n",
        "        index += 1\n",
        "        x = box[\"x\"]\n",
        "        y = box[\"y\"]\n",
        "        half_win_size_int = int( image.shape[0] * box[\"half_win_size\"] )\n",
        "\n",
        "        start_x = int( image.shape[1] * x ) - half_win_size_int\n",
        "        start_y = int( image.shape[0] * y ) - half_win_size_int\n",
        "        end_x = int( image.shape[1] * x ) + half_win_size_int\n",
        "        end_y = int( image.shape[0] * y ) + half_win_size_int\n",
        "        face = image[max(start_y, 0):min(end_y, image.shape[0]), max(start_x, 0):min(end_x, image.shape[1])]\n",
        "\n",
        "        face = cv2.resize(face, (640, 640))\n",
        "        cropped_face_out.write(face)\n",
        "\n",
        "\n",
        "    cap.release()\n",
        "\n",
        "    return ans\n",
        "\n",
        "crop_video = crop_video(input_video_name, start_time, end_time, filtered_box)"
      ],
      "metadata": {
        "id": "N58cGXZfxl3N"
      },
      "execution_count": 106,
      "outputs": []
    },
    {
      "cell_type": "code",
      "source": [],
      "metadata": {
        "id": "kmfD53ut2yGt"
      },
      "execution_count": null,
      "outputs": []
    }
  ]
}