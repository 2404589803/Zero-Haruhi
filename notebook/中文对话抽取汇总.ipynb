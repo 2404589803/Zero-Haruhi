{
  "nbformat": 4,
  "nbformat_minor": 0,
  "metadata": {
    "colab": {
      "provenance": [],
      "authorship_tag": "ABX9TyOjrXaqbSBPdfwhc8BjD9wj",
      "include_colab_link": true
    },
    "kernelspec": {
      "name": "python3",
      "display_name": "Python 3"
    },
    "language_info": {
      "name": "python"
    }
  },
  "cells": [
    {
      "cell_type": "markdown",
      "metadata": {
        "id": "view-in-github",
        "colab_type": "text"
      },
      "source": [
        "<a href=\"https://colab.research.google.com/github/LC1332/Zero-Haruhi/blob/main/notebook/%E4%B8%AD%E6%96%87%E5%AF%B9%E8%AF%9D%E6%8A%BD%E5%8F%96%E6%B1%87%E6%80%BB.ipynb\" target=\"_parent\"><img src=\"https://colab.research.google.com/assets/colab-badge.svg\" alt=\"Open In Colab\"/></a>"
      ]
    },
    {
      "cell_type": "code",
      "execution_count": null,
      "metadata": {
        "colab": {
          "base_uri": "https://localhost:8080/"
        },
        "id": "V7Wi4kKciFMd",
        "outputId": "d6a579ea-e3ba-436c-c19f-a47438cc93a1"
      },
      "outputs": [
        {
          "output_type": "stream",
          "name": "stdout",
          "text": [
            "Mounted at /content/drive\n"
          ]
        }
      ],
      "source": [
        "from google.colab import drive\n",
        "drive.mount('/content/drive')"
      ]
    },
    {
      "cell_type": "code",
      "source": [
        "!ls /content/drive/MyDrive/CardBuild/dialogue_extract/0120res*"
      ],
      "metadata": {
        "colab": {
          "base_uri": "https://localhost:8080/"
        },
        "id": "Afwg-dtSinKQ",
        "outputId": "6583829e-a4c4-4d3b-bfe5-56f62bc40b91"
      },
      "execution_count": null,
      "outputs": [
        {
          "output_type": "stream",
          "name": "stdout",
          "text": [
            "/content/drive/MyDrive/CardBuild/dialogue_extract/0120res_0_to_10.txt\n",
            "/content/drive/MyDrive/CardBuild/dialogue_extract/0120res_10146_to_10870.txt\n",
            "/content/drive/MyDrive/CardBuild/dialogue_extract/0120res_10870_to_11594.txt\n",
            "/content/drive/MyDrive/CardBuild/dialogue_extract/0120res_10_to_734.txt\n",
            "/content/drive/MyDrive/CardBuild/dialogue_extract/0120res_11594_to_12318.txt\n",
            "/content/drive/MyDrive/CardBuild/dialogue_extract/0120res_1206_to_1809.txt\n",
            "/content/drive/MyDrive/CardBuild/dialogue_extract/0120res_12318_to_13042.txt\n",
            "/content/drive/MyDrive/CardBuild/dialogue_extract/0120res_12663_to_13266.txt\n",
            "/content/drive/MyDrive/CardBuild/dialogue_extract/0120res_13042_to_13766.txt\n",
            "/content/drive/MyDrive/CardBuild/dialogue_extract/0120res_13766_to_14490.txt\n",
            "/content/drive/MyDrive/CardBuild/dialogue_extract/0120res_1458_to_2182.txt\n",
            "/content/drive/MyDrive/CardBuild/dialogue_extract/0120res_15214_to_15938.txt\n",
            "/content/drive/MyDrive/CardBuild/dialogue_extract/0120res_15938_to_16662.txt\n",
            "/content/drive/MyDrive/CardBuild/dialogue_extract/0120res_16662_to_17386.txt\n",
            "/content/drive/MyDrive/CardBuild/dialogue_extract/0120res_17386_to_18110.txt\n",
            "/content/drive/MyDrive/CardBuild/dialogue_extract/0120res_18110_to_18834.txt\n",
            "/content/drive/MyDrive/CardBuild/dialogue_extract/0120res_18834_to_19558.txt\n",
            "/content/drive/MyDrive/CardBuild/dialogue_extract/0120res_19296_to_19899.txt\n",
            "/content/drive/MyDrive/CardBuild/dialogue_extract/0120res_19558_to_20282.txt\n",
            "/content/drive/MyDrive/CardBuild/dialogue_extract/0120res_20282_to_21006.txt\n",
            "/content/drive/MyDrive/CardBuild/dialogue_extract/0120res_20502_to_21105.txt\n",
            "/content/drive/MyDrive/CardBuild/dialogue_extract/0120res_21006_to_21730.txt\n",
            "/content/drive/MyDrive/CardBuild/dialogue_extract/0120res_21730_to_22454.txt\n",
            "/content/drive/MyDrive/CardBuild/dialogue_extract/0120res_2182_to_2906.txt\n",
            "/content/drive/MyDrive/CardBuild/dialogue_extract/0120res_22454_to_23178.txt\n",
            "/content/drive/MyDrive/CardBuild/dialogue_extract/0120res_23178_to_23902.txt\n",
            "/content/drive/MyDrive/CardBuild/dialogue_extract/0120res_23517_to_24120.txt\n",
            "/content/drive/MyDrive/CardBuild/dialogue_extract/0120res_24626_to_25350.txt\n",
            "/content/drive/MyDrive/CardBuild/dialogue_extract/0120res_25350_to_26074.txt\n",
            "/content/drive/MyDrive/CardBuild/dialogue_extract/0120res_26074_to_26798.txt\n",
            "/content/drive/MyDrive/CardBuild/dialogue_extract/0120res_26798_to_27522.txt\n",
            "/content/drive/MyDrive/CardBuild/dialogue_extract/0120res_27522_to_28246.txt\n",
            "/content/drive/MyDrive/CardBuild/dialogue_extract/0120res_28246_to_28970.txt\n",
            "/content/drive/MyDrive/CardBuild/dialogue_extract/0120res_28970_to_29694.txt\n",
            "/content/drive/MyDrive/CardBuild/dialogue_extract/0120res_2906_to_3630.txt\n",
            "/content/drive/MyDrive/CardBuild/dialogue_extract/0120res_29694_to_30418.txt\n",
            "/content/drive/MyDrive/CardBuild/dialogue_extract/0120res_30418_to_31142.txt\n",
            "/content/drive/MyDrive/CardBuild/dialogue_extract/0120res_31142_to_31866.txt\n",
            "/content/drive/MyDrive/CardBuild/dialogue_extract/0120res_31866_to_32590.txt\n",
            "/content/drive/MyDrive/CardBuild/dialogue_extract/0120res_32590_to_33314.txt\n",
            "/content/drive/MyDrive/CardBuild/dialogue_extract/0120res_33314_to_34038.txt\n",
            "/content/drive/MyDrive/CardBuild/dialogue_extract/0120res_34038_to_34762.txt\n",
            "/content/drive/MyDrive/CardBuild/dialogue_extract/0120res_34762_to_35486.txt\n",
            "/content/drive/MyDrive/CardBuild/dialogue_extract/0120res_35486_to_36229.txt\n",
            "/content/drive/MyDrive/CardBuild/dialogue_extract/0120res_3630_to_4354.txt\n",
            "/content/drive/MyDrive/CardBuild/dialogue_extract/0120res_5078_to_5802.txt\n",
            "/content/drive/MyDrive/CardBuild/dialogue_extract/0120res_5802_to_6526.txt\n",
            "/content/drive/MyDrive/CardBuild/dialogue_extract/0120res_603_to_1206.txt\n",
            "/content/drive/MyDrive/CardBuild/dialogue_extract/0120res_6526_to_7250.txt\n",
            "/content/drive/MyDrive/CardBuild/dialogue_extract/0120res_7250_to_7974.txt\n",
            "/content/drive/MyDrive/CardBuild/dialogue_extract/0120res_734_to_1458.txt\n",
            "/content/drive/MyDrive/CardBuild/dialogue_extract/0120res_7974_to_8698.txt\n",
            "/content/drive/MyDrive/CardBuild/dialogue_extract/0120res_8698_to_9422.txt\n",
            "/content/drive/MyDrive/CardBuild/dialogue_extract/0120res_9422_to_10146.txt\n"
          ]
        }
      ]
    },
    {
      "cell_type": "code",
      "source": [
        "import os\n",
        "import json\n",
        "\n",
        "# 指定文件夹路径\n",
        "save_path = \"/content/drive/MyDrive/CardBuild/dialogue_extract\"\n",
        "\n",
        "all_datas = []\n",
        "\n",
        "count = 0\n",
        "parsing_error_count = 0\n",
        "\n",
        "# 遍历指定文件夹中的所有txt文件\n",
        "for filename in os.listdir(save_path):\n",
        "    if filename.endswith(\".txt\") and filename.startswith(\"0120res\"):\n",
        "        # 构建完整的文件路径\n",
        "        file_path = os.path.join(save_path, filename)\n",
        "\n",
        "        error_count = 0\n",
        "\n",
        "        # 打开并读取文件\n",
        "        with open(file_path, 'r', encoding='utf-8') as file:\n",
        "            for line in file:\n",
        "                if error_count >3:\n",
        "                    break\n",
        "                try:\n",
        "                    # 将每行解析为JSON\n",
        "                    data = json.loads(line)\n",
        "\n",
        "                    if \"input\" in data and \"response\" in data and \"last_response\" in data and \"last_input\" in data and \\\n",
        "                        \"id\" in data and \"source\" in data and \"last_id\" in data:\n",
        "                        all_datas.append({\n",
        "                            \"source\": data[\"source\"],\n",
        "                            \"id\": data[\"last_id\"],\n",
        "                            \"input\": data[\"last_input\"],\n",
        "                            \"response\": data[\"last_response\"]\n",
        "                        })\n",
        "\n",
        "                        response_str = data['response']\n",
        "                        try:\n",
        "                            response = json.loads(response_str)\n",
        "                            len_prefix = len(\"input paragraph:\\n\")\n",
        "                            real_input = data[\"input\"][len_prefix:]\n",
        "                            all_datas.append({\n",
        "                                \"source\": data[\"source\"],\n",
        "                                \"id\": data[\"id\"],\n",
        "                                \"input\": real_input,\n",
        "                                \"response\": response\n",
        "                            })\n",
        "\n",
        "                        except json.JSONDecodeError:\n",
        "                            parsing_error_count += 1\n",
        "                            continue\n",
        "\n",
        "                        pass\n",
        "                        count += 1\n",
        "                    else:\n",
        "                        error_count += 1\n",
        "                        continue\n",
        "\n",
        "                    continue\n",
        "\n",
        "                    response = json.loads(response_str)\n",
        "                    last_summary = response['summary'].strip(' -')\n",
        "                    if \"input\" in data:\n",
        "                        last_input = data['input']\n",
        "                    else:\n",
        "                        last_input = long_text_to_input(data[\"text\"])\n",
        "\n",
        "                    last_input = last_input[len_prefix:]\n",
        "                    rest_paragraph = data['text'][len(last_input):].strip()\n",
        "                    next_input = long_text_to_input(last_summary + \"\\n\" + rest_paragraph)\n",
        "\n",
        "                    all_datas.append({\n",
        "                        \"source\": data[\"source\"],\n",
        "                        \"last_id\": data[\"id\"],\n",
        "                        \"id\": data[\"id\"] + \"_2nd_seg\",\n",
        "                        \"input\": last_summary,\n",
        "                        \"last_input\": last_input,\n",
        "                        \"last_response\": response,\n",
        "                        \"next_input\": next_input\n",
        "                    })\n",
        "                    # break\n",
        "                except json.JSONDecodeError:\n",
        "                    # 如果解析JSON失败，跳过这一行\n",
        "                    error_count += 1\n",
        "                    continue\n",
        "\n",
        "\n",
        "        # break\n",
        "\n",
        "# 输出结果\n",
        "\n"
      ],
      "metadata": {
        "id": "Y3Dd01lzi0yF"
      },
      "execution_count": null,
      "outputs": []
    },
    {
      "cell_type": "code",
      "source": [
        "task_prompt = \"\"\"给定input paragraph，抽取其中的对话，并输出为json格式\n",
        "\n",
        "Let's think it step by step\n",
        "1. summarize input paragraph into bullet format，存储在summary字段\n",
        "2. 抽取每一句对话的内容 dialogue，判断每一句话的说话人 said by, 存储在conversations中\"\"\"\n"
      ],
      "metadata": {
        "id": "7504gUB5kQEy"
      },
      "execution_count": null,
      "outputs": []
    },
    {
      "cell_type": "code",
      "source": [
        "print(len(all_datas))"
      ],
      "metadata": {
        "colab": {
          "base_uri": "https://localhost:8080/"
        },
        "id": "YwU5Bw0Bkz35",
        "outputId": "4607f190-a95c-4a0f-9f68-03f224006a64"
      },
      "execution_count": null,
      "outputs": [
        {
          "output_type": "stream",
          "name": "stdout",
          "text": [
            "67974\n"
          ]
        }
      ]
    },
    {
      "cell_type": "code",
      "source": [
        "print(all_datas[0]['response'])\n",
        "print(all_datas[1]['response'])\n",
        "print(all_datas[0].keys())"
      ],
      "metadata": {
        "colab": {
          "base_uri": "https://localhost:8080/"
        },
        "id": "KwXENWDLkNgQ",
        "outputId": "b6c80a3a-6c51-408f-9d88-275f90f74677"
      },
      "execution_count": null,
      "outputs": [
        {
          "output_type": "stream",
          "name": "stdout",
          "text": [
            "{'summary': '- 夏子明要求单翔重复之前说过的话，然后要求黎明给他做饭，最终吃了两份饭菜，引发了关于打打杀杀生活选择的对话。夏子明最终以吃了两碗饭为胜利理由，要求黎明认输。', 'conversations': [{'dialogue': '你把刚才的话再重复一遍', 'said_by': '夏子明'}, {'dialogue': '就是上一句话', 'said_by': '夏子明'}, {'dialogue': '再上一句话', 'said_by': '夏子明'}, {'dialogue': '我想要黎哥哥给我做饭吃，我饿了', 'said_by': '单翔'}, {'dialogue': '我真不明白，就凭你做饭的这份厨艺，到哪儿都会混得很好，为什么你要选择这样打打杀杀的', 'said_by': '夏子明'}, {'dialogue': '曾经也有人这样说过', 'said_by': '黎明'}, {'dialogue': '那你现在还是过着这种打打杀杀的生活', 'said_by': '夏子明'}, {'dialogue': '因为，在这个世界，像你们这样爱吃霸王餐的人，实在是太多了', 'said_by': '黎明'}, {'dialogue': '再来一碗', 'said_by': '夏子明'}, {'dialogue': '我也还要一碗', 'said_by': '单翔'}, {'dialogue': '剩下的全都在他碗里去了', 'said_by': '黎明'}, {'dialogue': '你能把你的，分给我一半吗', 'said_by': '单翔'}, {'dialogue': '不行', 'said_by': '夏子明'}, {'dialogue': '别忘了，今后你就是唐门的人了，进入唐门，你可以随时在我身边，那样的话，我也能随时给你做饭菜吃啊！而他只能吃一次哥哥做的饭菜，就让他多吃一点儿好了', 'said_by': '黎明'}, {'dialogue': '也是啊', 'said_by': '单翔'}, {'dialogue': '你认输吧', 'said_by': '夏子明'}, {'dialogue': '该认输的，是你才对', 'said_by': '黎明'}]}\n",
            "{'summary': '- 夏子明要求黎明给他做饭，并以吃了两份饭为胜利理由，要求黎明认输。引发了关于打打杀杀生活选择的对话。气氛变得紧张，夏子明提出了直接将七窍玲珑心掏出来的方法，引发了黎明的警告和反驳。', 'conversations': [{'dialogue': '可是我吃的是你做的饭，我并不亏，因为要是我去做饭的话，不但会浪费灵力，做出来的有可能还没这么美味', 'said_by': '夏子明'}, {'dialogue': '这并不是美味，你身后的人做出来的饭菜那才是真正的美味，有兴趣一起尝尝吗', 'said_by': '黎明'}, {'dialogue': '其实，想要得到五彩石的方法还有一个，那便是直接将七窍玲珑心掏出来，装在我的身体里便是', 'said_by': '夏子明'}, {'dialogue': '你敢', 'said_by': '黎明'}, {'dialogue': '我有何不敢', 'said_by': '夏子明'}, {'dialogue': '确实，你确实没什么不敢的，你就当我随口说说罢了，不必较真', 'said_by': '黎明'}, {'dialogue': '若是你还有什么话没说完的话，我也可以边挖边听的。只是我要提醒你一点，你说得越快，我挖得越快，他就会少一些痛苦。若你说得慢了，那我便会放下速度，他也会多一些痛苦', 'said_by': '夏子明'}, {'dialogue': '你怎么不按套路出牌', 'said_by': '黎明'}, {'dialogue': '墨守成规，乃兵家大忌，我这也是为了自身的安全着想', 'said_by': '夏子明'}, {'dialogue': '怎么了', 'said_by': '夏子明'}]}\n",
            "dict_keys(['source', 'id', 'input', 'response'])\n"
          ]
        }
      ]
    },
    {
      "cell_type": "code",
      "source": [
        "save_datas = []\n",
        "for data in all_datas:\n",
        "    json_str = json.dumps(data[\"response\"], ensure_ascii=False)\n",
        "    conversations = [\n",
        "        {\"from\":\"human\",\"value\":data[\"input\"]},\n",
        "        {\"from\":\"gpt\",\"value\":json_str}\n",
        "    ]\n",
        "    save_data = {\n",
        "        \"source\":data[\"source\"],\n",
        "        \"conversations\":conversations,\n",
        "        \"system\":task_prompt\n",
        "    }\n",
        "    save_datas.append(save_data)"
      ],
      "metadata": {
        "id": "5FXLX0Zgjg-M"
      },
      "execution_count": null,
      "outputs": []
    },
    {
      "cell_type": "code",
      "source": [
        "import os\n",
        "import json\n",
        "import random\n",
        "def sample_and_save( save_datas, save_name ,sample_n=50, save_folder = \"/content/drive/MyDrive/CardBuild/HaruhiZero\", if_skip = True):\n",
        "    file_name = os.path.join( save_folder, save_name + \".jsonl\" )\n",
        "    if os.path.exists( file_name ):\n",
        "        if if_skip:\n",
        "            print( \"file \",file_name, \"exists, skip\" )\n",
        "            return\n",
        "    with open( file_name, \"w\", encoding=\"utf-8\" ) as f:\n",
        "        for data in save_datas:\n",
        "            f.write( json.dumps( data, ensure_ascii=False ) + \"\\n\" )\n",
        "\n",
        "    sample_name = os.path.join( \"/content/\", save_name + \"_sample.jsonl\" )\n",
        "    with open( sample_name, \"w\", encoding=\"utf-8\" ) as f:\n",
        "        random_50 = random. sample( save_datas, sample_n )\n",
        "        for data in random_50:\n",
        "            f.write( json.dumps( data, ensure_ascii=False ) + \"\\n\" )"
      ],
      "metadata": {
        "id": "HYQ0sirSpLyh"
      },
      "execution_count": null,
      "outputs": []
    },
    {
      "cell_type": "code",
      "source": [
        "sample_and_save( save_datas, \"dialogue_extract\",if_skip = False )"
      ],
      "metadata": {
        "id": "YIkwDOMfpNmU"
      },
      "execution_count": null,
      "outputs": []
    },
    {
      "cell_type": "code",
      "source": [],
      "metadata": {
        "id": "I9xNLG-fpQRf"
      },
      "execution_count": null,
      "outputs": []
    },
    {
      "cell_type": "markdown",
      "source": [
        "负样本"
      ],
      "metadata": {
        "id": "ON_vCX34xKk2"
      }
    },
    {
      "cell_type": "code",
      "source": [
        "from google.colab import drive\n",
        "drive.mount('/content/drive')"
      ],
      "metadata": {
        "colab": {
          "base_uri": "https://localhost:8080/"
        },
        "id": "7NjJYMQGxLPQ",
        "outputId": "e535fab8-b362-40fa-9f17-96fb3bc17efc"
      },
      "execution_count": null,
      "outputs": [
        {
          "output_type": "stream",
          "name": "stdout",
          "text": [
            "Mounted at /content/drive\n"
          ]
        }
      ]
    },
    {
      "cell_type": "code",
      "source": [
        "!ls /content/drive/MyDrive/CardBuild/dialogue_extract/negative"
      ],
      "metadata": {
        "colab": {
          "base_uri": "https://localhost:8080/"
        },
        "id": "w-1gwkLbxLqP",
        "outputId": "d08aa489-095d-44f1-8811-d50555ea8507"
      },
      "execution_count": null,
      "outputs": [
        {
          "output_type": "stream",
          "name": "stdout",
          "text": [
            "ls: cannot access '/content/drive/MyDrive/CardBuild/dialogue_extract/negative': No such file or directory\n"
          ]
        }
      ]
    },
    {
      "cell_type": "code",
      "source": [
        "import os\n",
        "import json\n",
        "\n",
        "# 指定文件夹路径\n",
        "save_path = \"/content/drive/MyDrive/CardBuild/dialogue_extract\"\n",
        "\n",
        "all_datas = []\n",
        "\n",
        "count = 0\n",
        "parsing_error_count = 0\n",
        "\n",
        "# 遍历指定文件夹中的所有txt文件\n",
        "for filename in os.listdir(save_path):\n",
        "    if filename.endswith(\".txt\") and filename.startswith(\"negative\"):\n",
        "        # 构建完整的文件路径\n",
        "        file_path = os.path.join(save_path, filename)\n",
        "\n",
        "        error_count = 0\n",
        "\n",
        "        # 打开并读取文件\n",
        "        with open(file_path, 'r', encoding='utf-8') as file:\n",
        "            for line in file:\n",
        "                if error_count >3:\n",
        "                    break\n",
        "                try:\n",
        "                    # 将每行解析为JSON\n",
        "                    data = json.loads(line)\n",
        "\n",
        "                    if \"input\" in data and \"response\" in data and \"id\" in data and \"source\" in data:\n",
        "                        response_str = data['response']\n",
        "                        try:\n",
        "                            response = json.loads(response_str)\n",
        "                            if \"conversations\" not in response:\n",
        "                                continue\n",
        "\n",
        "                            if len(response[\"conversations\"]) > 0:\n",
        "                                continue\n",
        "\n",
        "                            # 将数据添加到列表中\n",
        "\n",
        "                            all_datas.append({\n",
        "                                \"source\": data[\"source\"],\n",
        "                                \"id\": data[\"id\"],\n",
        "                                \"input\": data[\"input\"],\n",
        "                                \"response\": response\n",
        "                            })\n",
        "                        except:\n",
        "                            continue\n",
        "                    else:\n",
        "                        error_count += 1\n",
        "                        continue\n",
        "                    # break\n",
        "                except json.JSONDecodeError:\n",
        "                    # 如果解析JSON失败，跳过这一行\n",
        "                    error_count += 1\n",
        "                    continue\n",
        "\n",
        "\n",
        "        # break\n",
        "\n",
        "# 输出结果\n",
        "\n"
      ],
      "metadata": {
        "id": "ASQaq-zYxOGt"
      },
      "execution_count": null,
      "outputs": []
    },
    {
      "cell_type": "code",
      "source": [
        "sample_and_save( all_datas, \"dialogue_negative\",sample_n = 20, if_skip = False )"
      ],
      "metadata": {
        "id": "-t3dqtriygwI"
      },
      "execution_count": null,
      "outputs": []
    },
    {
      "cell_type": "code",
      "source": [
        "has_count = 0\n",
        "ids = []\n",
        "for id, data in enumerate( all_datas ):\n",
        "    if len(data[\"response\"][\"conversations\"])>0:\n",
        "        has_count += 1\n",
        "        ids.append(id)\n",
        "print(has_count)"
      ],
      "metadata": {
        "colab": {
          "base_uri": "https://localhost:8080/"
        },
        "id": "ZT50rUu4xk3U",
        "outputId": "e46b3a96-0cc4-4c42-8af5-00a30683c3b5"
      },
      "execution_count": null,
      "outputs": [
        {
          "output_type": "stream",
          "name": "stdout",
          "text": [
            "25\n"
          ]
        }
      ]
    },
    {
      "cell_type": "code",
      "source": [],
      "metadata": {
        "id": "l2kCnuA7x3sq"
      },
      "execution_count": null,
      "outputs": []
    }
  ]
}