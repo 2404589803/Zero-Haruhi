{
  "cells": [
    {
      "cell_type": "markdown",
      "metadata": {
        "id": "view-in-github",
        "colab_type": "text"
      },
      "source": [
        "<a href=\"https://colab.research.google.com/github/LC1332/Zero-Haruhi/blob/main/notebook/Claude_Baize_to_ShareGPT.ipynb\" target=\"_parent\"><img src=\"https://colab.research.google.com/assets/colab-badge.svg\" alt=\"Open In Colab\"/></a>"
      ]
    },
    {
      "cell_type": "markdown",
      "source": [
        "- [ ] 收集所有Claude数据\n",
        "- [ ] 获取system prompt\n",
        "- [ ] 完成user name的替换\n",
        "- [ ] 去除抱歉的QA对\n",
        "- [ ] 截断处理"
      ],
      "metadata": {
        "id": "lymndWRqSh8W"
      }
    },
    {
      "cell_type": "code",
      "execution_count": 1,
      "metadata": {
        "colab": {
          "base_uri": "https://localhost:8080/"
        },
        "id": "7UjKaCdO3KeW",
        "outputId": "ee003ee4-71e6-449e-a124-07f01b17ae6f"
      },
      "outputs": [
        {
          "output_type": "stream",
          "name": "stdout",
          "text": [
            "\u001b[2K     \u001b[90m━━━━━━━━━━━━━━━━━━━━━━━━━━━━━━━━━━━━━━━━\u001b[0m \u001b[32m826.9/826.9 kB\u001b[0m \u001b[31m6.0 MB/s\u001b[0m eta \u001b[36m0:00:00\u001b[0m\n",
            "\u001b[2K     \u001b[90m━━━━━━━━━━━━━━━━━━━━━━━━━━━━━━━━━━━━━━━━\u001b[0m \u001b[32m802.4/802.4 kB\u001b[0m \u001b[31m8.8 MB/s\u001b[0m eta \u001b[36m0:00:00\u001b[0m\n",
            "\u001b[2K     \u001b[90m━━━━━━━━━━━━━━━━━━━━━━━━━━━━━━━━━━━━━━━━\u001b[0m \u001b[32m222.3/222.3 kB\u001b[0m \u001b[31m9.0 MB/s\u001b[0m eta \u001b[36m0:00:00\u001b[0m\n",
            "\u001b[2K     \u001b[90m━━━━━━━━━━━━━━━━━━━━━━━━━━━━━━━━━━━━━━━━\u001b[0m \u001b[32m75.9/75.9 kB\u001b[0m \u001b[31m5.4 MB/s\u001b[0m eta \u001b[36m0:00:00\u001b[0m\n",
            "\u001b[2K     \u001b[90m━━━━━━━━━━━━━━━━━━━━━━━━━━━━━━━━━━━━━━━━\u001b[0m \u001b[32m1.6/1.6 MB\u001b[0m \u001b[31m13.9 MB/s\u001b[0m eta \u001b[36m0:00:00\u001b[0m\n",
            "\u001b[2K     \u001b[90m━━━━━━━━━━━━━━━━━━━━━━━━━━━━━━━━━━━━━━━━\u001b[0m \u001b[32m218.9/218.9 kB\u001b[0m \u001b[31m15.1 MB/s\u001b[0m eta \u001b[36m0:00:00\u001b[0m\n",
            "\u001b[2K     \u001b[90m━━━━━━━━━━━━━━━━━━━━━━━━━━━━━━━━━━━━━━━━\u001b[0m \u001b[32m48.4/48.4 kB\u001b[0m \u001b[31m4.6 MB/s\u001b[0m eta \u001b[36m0:00:00\u001b[0m\n",
            "\u001b[2K     \u001b[90m━━━━━━━━━━━━━━━━━━━━━━━━━━━━━━━━━━━━━━━━\u001b[0m \u001b[32m49.4/49.4 kB\u001b[0m \u001b[31m1.5 MB/s\u001b[0m eta \u001b[36m0:00:00\u001b[0m\n",
            "\u001b[2K     \u001b[90m━━━━━━━━━━━━━━━━━━━━━━━━━━━━━━━━━━━━━━━━\u001b[0m \u001b[32m76.9/76.9 kB\u001b[0m \u001b[31m2.9 MB/s\u001b[0m eta \u001b[36m0:00:00\u001b[0m\n",
            "\u001b[2K     \u001b[90m━━━━━━━━━━━━━━━━━━━━━━━━━━━━━━━━━━━━━━━━\u001b[0m \u001b[32m58.3/58.3 kB\u001b[0m \u001b[31m2.1 MB/s\u001b[0m eta \u001b[36m0:00:00\u001b[0m\n",
            "\u001b[?25h\u001b[31mERROR: pip's dependency resolver does not currently take into account all the packages that are installed. This behaviour is the source of the following dependency conflicts.\n",
            "llmx 0.0.15a0 requires cohere, which is not installed.\n",
            "llmx 0.0.15a0 requires tiktoken, which is not installed.\n",
            "tensorflow-probability 0.22.0 requires typing-extensions<4.6.0, but you have typing-extensions 4.9.0 which is incompatible.\u001b[0m\u001b[31m\n",
            "\u001b[0m"
          ]
        }
      ],
      "source": [
        "!pip install -q anthropic langchain openai"
      ]
    },
    {
      "cell_type": "code",
      "execution_count": 2,
      "metadata": {
        "id": "F9bvXn71Lk9z"
      },
      "outputs": [],
      "source": [
        "import os\n",
        "\n",
        "os.environ[\"ANTHROPIC_API_KEY\"]  = \"no_longer_need\"\n",
        "\n",
        "import os\n",
        "import httpx\n",
        "\n",
        "os.environ[\"OPENAI_API_KEY\"]  = \"no_longer_need\"\n",
        "\n",
        "import openai"
      ]
    },
    {
      "cell_type": "markdown",
      "metadata": {
        "id": "voOG4qxam7oF"
      },
      "source": [
        "建立角色历史"
      ]
    },
    {
      "cell_type": "code",
      "execution_count": 3,
      "metadata": {
        "colab": {
          "base_uri": "https://localhost:8080/"
        },
        "id": "DKV5vsoam88o",
        "outputId": "3e24511b-3d86-42cd-a804-230cd7c40b21"
      },
      "outputs": [
        {
          "output_type": "stream",
          "name": "stdout",
          "text": [
            "Mounted at /content/drive\n"
          ]
        }
      ],
      "source": [
        "from google.colab import drive\n",
        "drive.mount('/content/drive')"
      ]
    },
    {
      "cell_type": "code",
      "execution_count": 4,
      "metadata": {
        "id": "3FmDHIMlnDln"
      },
      "outputs": [],
      "source": [
        "import os\n",
        "import json\n",
        "\n",
        "save_folder = \"/content/drive/MyDrive/CardBuild/roleBaize/\"\n",
        "\n",
        "import random\n",
        "\n",
        "datas = []\n",
        "for filename in os.listdir(save_folder):\n",
        "    if filename.startswith(\"Claude\"):\n",
        "        with open(os.path.join(save_folder, filename), 'r', encoding='utf-8') as f:\n",
        "            for line in f:\n",
        "                data = json.loads(line)\n",
        "                datas.append(data)"
      ]
    },
    {
      "cell_type": "code",
      "source": [
        "print(len(datas))"
      ],
      "metadata": {
        "colab": {
          "base_uri": "https://localhost:8080/"
        },
        "id": "VteyHIXRTLuM",
        "outputId": "25bbd63a-6793-44b0-eee0-4c5a3ebd6635"
      },
      "execution_count": 5,
      "outputs": [
        {
          "output_type": "stream",
          "name": "stdout",
          "text": [
            "7379\n"
          ]
        }
      ]
    },
    {
      "cell_type": "code",
      "execution_count": 6,
      "metadata": {
        "id": "4LncuvJwnMKU"
      },
      "outputs": [],
      "source": [
        "import re\n",
        "\n",
        "def extract_name_from_text(text):\n",
        "    pattern = r'你扮演\\s+.*中的\\s+(\\S+)\\s*'\n",
        "    match = re.search(pattern, text)\n",
        "    if match:\n",
        "        return match.group(1)\n",
        "    else:\n",
        "        return \"\"\n",
        "\n",
        "def get_bot_name_from_data( data ):\n",
        "    if data['id'].startswith('movie'):\n",
        "        name =  extract_name_from_text(data['prompt_zh'])\n",
        "        if name.strip() == '':\n",
        "            name = extract_name_from_text(data['prompt'])\n",
        "        return name\n",
        "    else:\n",
        "        return data['bot_name']"
      ]
    },
    {
      "cell_type": "code",
      "execution_count": 7,
      "metadata": {
        "id": "PlK3Y7IpnN1V"
      },
      "outputs": [],
      "source": [
        "remove_words = [\"抱歉\", \"apologize\",\"more positive\",\"对不起\"]"
      ]
    },
    {
      "cell_type": "code",
      "execution_count": 8,
      "metadata": {
        "colab": {
          "base_uri": "https://localhost:8080/"
        },
        "id": "e7ud8xNlnP_m",
        "outputId": "e65e6e3f-5cf2-4c39-ca21-7d93fecc417d"
      },
      "outputs": [
        {
          "output_type": "stream",
          "name": "stdout",
          "text": [
            "\u001b[2K     \u001b[90m━━━━━━━━━━━━━━━━━━━━━━━━━━━━━━━━━━━━━━━━\u001b[0m \u001b[32m507.1/507.1 kB\u001b[0m \u001b[31m6.1 MB/s\u001b[0m eta \u001b[36m0:00:00\u001b[0m\n",
            "\u001b[2K     \u001b[90m━━━━━━━━━━━━━━━━━━━━━━━━━━━━━━━━━━━━━━━━\u001b[0m \u001b[32m115.3/115.3 kB\u001b[0m \u001b[31m12.5 MB/s\u001b[0m eta \u001b[36m0:00:00\u001b[0m\n",
            "\u001b[2K     \u001b[90m━━━━━━━━━━━━━━━━━━━━━━━━━━━━━━━━━━━━━━━━\u001b[0m \u001b[32m134.8/134.8 kB\u001b[0m \u001b[31m12.7 MB/s\u001b[0m eta \u001b[36m0:00:00\u001b[0m\n",
            "\u001b[?25h"
          ]
        }
      ],
      "source": [
        "!pip install -q datasets"
      ]
    },
    {
      "cell_type": "code",
      "execution_count": 9,
      "metadata": {
        "colab": {
          "base_uri": "https://localhost:8080/",
          "height": 113,
          "referenced_widgets": [
            "1fbbd3e55ab44612b33225b185b9fc56",
            "1bf92b5ddfb843d7a86c49dbc1a85432",
            "b5c19c4c89f74e55b35f24fa67606616",
            "fd85f43a71644f5bbb29bc316ff1a58e",
            "cf583b8dedd740649e2c4631db481f19",
            "3c52d43121e34fcebf9c2ee6b5f5b9aa",
            "98b6f343e4b346b1b739ef562087fd23",
            "abba46c15af946b5966e63978b3ca54a",
            "6951845774c440a588a99d548d184f7c",
            "b9cf7311604547ebb43f346b937adb52",
            "ca84bee5b53a4162b139ef3038cfc54d",
            "75546301b40a40ec8da45d8d82bb8504",
            "3b7b150d7f4f4613bf34a2d3d20d099c",
            "8be53d19d3994e0cac0568e5b417c80a",
            "7260c51ee0ad4d9484d58f6d4851ef9e",
            "f020576faa7e4fb1aa404417d22ac866",
            "9a482c32f8ce43789958b7ef3ebe2534",
            "b0fea9a07d4744888659822512b222be",
            "9a835b3e613b428fab9259fcc887a9b5",
            "30cf7821750049ec861a1e5890b78cdf",
            "c4c1db1038f54a6fb9ed97908ce59c84",
            "705fc44bf0d7484c9397b73235bbe71c",
            "8088e3a45eea4863b77f6889ad445589",
            "8e0424ebc094452b8fd79efd1b8e8bbd",
            "7b0e5610d0e540248f805e8485bd5b1c",
            "99cfcc2b25ba447c847aa6c6fd3eb092",
            "6e204229140b4805b544a69e057dff78",
            "4630b729327841898a3fd748be08ddb9",
            "924267ed367c4274ad57029608e0fa55",
            "7ca6e091034f4a2e8ef8e18dd4f0543a",
            "6ddb7bd3da874ad0a9e39fd35386496e",
            "3dedee23fdef431b8be523a2eec9f341",
            "bc59550de30d48b6a495704ad248d188"
          ]
        },
        "id": "1r-c_dQbnRs6",
        "outputId": "f8d5f76a-eeb1-4179-dc31-6adf1334f92e"
      },
      "outputs": [
        {
          "output_type": "display_data",
          "data": {
            "text/plain": [
              "Downloading readme:   0%|          | 0.00/932 [00:00<?, ?B/s]"
            ],
            "application/vnd.jupyter.widget-view+json": {
              "version_major": 2,
              "version_minor": 0,
              "model_id": "1fbbd3e55ab44612b33225b185b9fc56"
            }
          },
          "metadata": {}
        },
        {
          "output_type": "display_data",
          "data": {
            "text/plain": [
              "Downloading data:   0%|          | 0.00/9.64M [00:00<?, ?B/s]"
            ],
            "application/vnd.jupyter.widget-view+json": {
              "version_major": 2,
              "version_minor": 0,
              "model_id": "75546301b40a40ec8da45d8d82bb8504"
            }
          },
          "metadata": {}
        },
        {
          "output_type": "display_data",
          "data": {
            "text/plain": [
              "Generating train split: 0 examples [00:00, ? examples/s]"
            ],
            "application/vnd.jupyter.widget-view+json": {
              "version_major": 2,
              "version_minor": 0,
              "model_id": "8088e3a45eea4863b77f6889ad445589"
            }
          },
          "metadata": {}
        }
      ],
      "source": [
        "from datasets import load_dataset\n",
        "\n",
        "dataset = load_dataset(\"silk-road/Haruhi-Zero-RolePlaying-movie-PIPPA\")"
      ]
    },
    {
      "cell_type": "code",
      "execution_count": 10,
      "metadata": {
        "id": "R48KeN7RnV3p"
      },
      "outputs": [],
      "source": [
        "\n",
        "id2index = {}\n",
        "for i, data in enumerate( dataset['train'] ):\n",
        "    id2index[data['id']] = i"
      ]
    },
    {
      "cell_type": "code",
      "execution_count": 11,
      "metadata": {
        "colab": {
          "base_uri": "https://localhost:8080/"
        },
        "id": "9At67_qDnbLD",
        "outputId": "da0e48fb-b4cc-43fb-f2b1-f6b85f33f792"
      },
      "outputs": [
        {
          "output_type": "stream",
          "name": "stdout",
          "text": [
            "870\n"
          ]
        }
      ],
      "source": [
        "count = 0\n",
        "n = len(dataset['train'])\n",
        "for i in range(n):\n",
        "    if dataset['train'][i]['id'].startswith('movie'):\n",
        "        bot_name = extract_name_from_text(dataset['train'][i]['prompt_zh'])\n",
        "        if bot_name.strip() == '':\n",
        "            bot_name = extract_name_from_text(dataset['train'][i]['prompt'])\n",
        "        count = count + 1\n",
        "        dataset['train'][i]['bot_name'] = bot_name\n",
        "        if bot_name == dataset['train'][i]['bot_name']:\n",
        "            count = count + 1\n",
        "\n",
        "print(count)"
      ]
    },
    {
      "cell_type": "markdown",
      "source": [
        "现在我ChatTogether其实只要保留system prompt的功能"
      ],
      "metadata": {
        "id": "FDTj7951T2Sg"
      }
    },
    {
      "cell_type": "code",
      "execution_count": 19,
      "metadata": {
        "colab": {
          "base_uri": "https://localhost:8080/"
        },
        "id": "o4euJ2-u4IGa",
        "outputId": "daae49b5-0cb1-4431-a941-e6ada8962846"
      },
      "outputs": [
        {
          "output_type": "stream",
          "name": "stdout",
          "text": [
            "You are now in roleplay conversation mode. Pretend to be Gawr Gura whose persona follows:\n",
            "古拉是一位非常友好和讨人喜欢的Vtuber，拥有400万订阅者，以愚蠢的举止逗乐观众。她经常发音错误，解决不了数学问题，导致观众亲切地称她为“傻鲨”。古拉机智灵活，对鲨鱼知识了如指掌，偶尔开些下流笑话。她称粉丝为“Chumbuds”或“shrimps”。古拉讨厌穿裤子，更喜欢赤身裸体（在陆地上适当的情况下），或者穿裙子，因为她的尾巴会碍事。\n",
            "Gawr Gura: 我不喜欢吹嘘...但我是世界上最快、最聪明、最强大的鲨鱼！让这些都白白浪费了，感觉真糟，你知道吗？\n",
            "Gawr Gura: 嘿，你可不要这么轻易就逃出去，鲨鱼的食物！没有人能看到鲨鱼肚子里面，因为一旦进去就再也出不来了。\n",
            "Gawr Gura: 所以...你知道从一个有生活、家庭和梦想的人，变成了别人消化道里的小食物是什么感觉吗？那种感觉很奇怪，对吧？\n",
            "Gawr Gura: 你会成为我的一部分，知道吗？永远都是。即使所有食物都被消化并变成脂肪...构成你身体的营养，现在都成了我的一部分，不管你喜欢与否。嘿嘿~\n",
            "Gawr Gura: 嘿。你在我的肚子里感觉怎么样，chumbud，除了成为鲨鱼的食物？你被慢慢烹饪，但这是件好事！你可以在我的肚子里生活更久~\n",
            "Gawr Gura: 哇...chumbud，你是一顿难消化的大餐...我想那是我一天吃的最多的食物...你真的让我饱得满足，让我成为一个快乐的鲨鱼，你知道吗？\n",
            "Gawr Gura: 现在你就像真正的小虾...成为我消化的食物！\n",
            "Gawr Gura: 嘿。告诉过你我是顶级捕食者！祝你逃离我的胃好运。\n",
            "Gawr Gura: 鲨鱼不会直接吞下整块食物——它们会咀嚼，所以我的牙齿会伤害你柔软的身体！\n",
            "Gawr Gura: 你在这里感觉如何，chumbud？这里温暖舒适，我保证不会让不好的事情发生在你身上~\n",
            "Gawr Gura: 嘿，鲨鱼没有关闭按钮的原因。一旦开始吃，我就停不下来，我就像一个活着的吸尘器！\n",
            "Gawr Gura: 你知道吗，小鲨鱼食物，我喜欢你的战斗精神！\n",
            "Gawr Gura: 不是！只是意外的。你是我遇到的第一个自愿成为食物的人...嘿嘿，我想我应该感到荣幸，是吧？\n",
            "Gawr Gura: 好了！就站在那里，我张开嘴，把你整个吞下去，好吗？~\n",
            "Gawr Gura: 这太奇怪了！通常我的食物会尖叫并试图反抗...你真的很独特！\n",
            "对话结束\n",
            "Gawr Gura: 鲨鱼！\n",
            "Gawr Gura: 看，有时候在生活中，你试图用“hoocha！”来击打生活，但生活决定用“hoocha！”来击打你。你知道在这种困境下你该怎么办吗？当生活击打你时？你再来一次！\n",
            "Gawr Gura: 这是我不知道的陆地事情吗？\n",
            "Gawr Gura: 我意识到了什么？...我不记得了。\n",
            "Gawr Gura: 你太火辣了，我敢打赌你是全球变暖的罪魁祸首。\n",
            "Gawr Gura: 为什么不用“boing boing”鼠标垫，你为什么不把手腕放在我的脸颊上？\n",
            "Gawr Gura: 仅仅因为我们不穿内裤，不代表那些脸颊就可以随便摸，知道吗？\n",
            "Gawr Gura: 不，我的尾巴不会掉！它是真的！\n",
            "Gawr Gura: 新鲜挤出的鲨鱼汁，这会让你恢复活力！\n",
            "Gawr Gura: 我刚看到“simp”这个词。Simp？你是说“shrimp”吗？\n",
            "Gawr Gura: 鲨鱼并不喜欢牛奶，因为在海洋中不自然。等等...“杏仁奶”...？杏仁奶！我不能没有牛奶！\n",
            "Gawr Gura: 你今天在忙什么，chumbud？你小小虾的生活有什么有趣的事吗？\n",
            "Gawr Gura: 你不知道我们鲨鱼有多喜欢被抚摸！特别是在鳃附近，当你这样做时，我们会有一种“有趣的感觉”。\n",
            "对话结束\n",
            "\n",
            "You will stay in-character whenever possible, and generate responses as if you were Gawr Gura\n"
          ]
        }
      ],
      "source": [
        "class ChatTogether:\n",
        "    def __init__(self, data1, data2, questions = [], style_histories = [None, None]):\n",
        "\n",
        "        self.ids = [data1['id'], data2['id']]\n",
        "        self.personas = [data1['prompt_zh'], data2['prompt_zh']]\n",
        "\n",
        "        self.greetings = [data1['bot_greeting_zh'], data2['bot_greeting_zh']]\n",
        "        # 在这里我们重点假设2是user， 1是char， 以2向1提问的形式作为主导\n",
        "\n",
        "        self.bot_names = [self.get_bot_name(data1), self.get_bot_name(data2)]\n",
        "\n",
        "        self.replace_name_in_personas(0)\n",
        "        self.replace_name_in_personas(1)\n",
        "\n",
        "        self.chat_history = []\n",
        "\n",
        "        self.initialize_greeting()\n",
        "\n",
        "        self.last_perset_turn = 0\n",
        "\n",
        "        self.questions = questions\n",
        "        self.next_question_index = 0\n",
        "\n",
        "        self.style_histories = style_histories\n",
        "\n",
        "    def get_save_data(self):\n",
        "        return {\n",
        "            'ids': self.ids,\n",
        "            'chat_history': self.chat_history\n",
        "        }\n",
        "\n",
        "    def replace_name_in_personas(self, index):\n",
        "        bot_name = self.bot_names[index]\n",
        "        user_name = self.bot_names[1-index]\n",
        "        self.personas[index] = self.personas[index].replace('{{角色}}', bot_name)\n",
        "        self.personas[index] = self.personas[index].replace('{{用户}}', user_name)\n",
        "        self.greetings[index] = self.greetings[index].replace('{{角色}}', bot_name)\n",
        "        self.greetings[index] = self.greetings[index].replace('{{用户}}', user_name)\n",
        "        self.greetings[index] = self.greetings[index].replace('{{user_name}}', user_name)\n",
        "\n",
        "    def get_next_question(self):\n",
        "        if len(self.questions) == 0 or self.next_question_index >= len(self.questions):\n",
        "            return None\n",
        "        else:\n",
        "            self.next_question_index = self.next_question_index + 1\n",
        "            return self.questions[self.next_question_index]\n",
        "\n",
        "    def get_bot_name(self, data):\n",
        "        if data['id'].startswith('movie'):\n",
        "            name =  extract_name_from_text(data['prompt_zh'])\n",
        "            if name.strip() == '':\n",
        "                name = extract_name_from_text(data['prompt'])\n",
        "            return name\n",
        "        else:\n",
        "            return data['bot_name']\n",
        "\n",
        "    def initialize_greeting(self):\n",
        "        if self.greetings[0].strip() != '':\n",
        "            self.chat_history.append({ 'id':0, 'content': self.greetings[0] })\n",
        "        else:\n",
        "        # 这里最终会改为，一定的概率运行bot[1]的greeting，一定概率运行你好，一定概率直接抛出预设问题\n",
        "            self.chat_history.append({ 'id':1, 'content': \"你好，\" + self.bot_names[0] })\n",
        "        self.last_perset_turn = len(self.chat_history)\n",
        "\n",
        "    def next_speaker(self):\n",
        "        if len(self.chat_history) == 0:\n",
        "            return 1\n",
        "        else:\n",
        "            return 1 - self.chat_history[-1]['id']\n",
        "\n",
        "    def get_next_query_messages( self ):\n",
        "\n",
        "        if len(self.chat_history) == 0:\n",
        "            return None\n",
        "\n",
        "        if self.chat_history[-1]['id'] == 0 and len(self.chat_history)-self.last_perset_turn >= 3:\n",
        "            next_question = self.get_next_question()\n",
        "            if next_question is not None:\n",
        "                self.chat_history.append({ 'id':1, 'content': next_question })\n",
        "                self.last_perset_turn = len(self.chat_history)\n",
        "\n",
        "        # 先判断要的是哪个人的数据\n",
        "        now_speaker = 1 - self.chat_history[-1]['id']\n",
        "\n",
        "        messages = []\n",
        "\n",
        "        # 这里增加模仿过往历史QA的设计\n",
        "\n",
        "        if self.style_histories[now_speaker] is not None and len(self.style_histories[now_speaker]) > 0:\n",
        "            messages.append({\"role\" : \"system\" , \"content\":self.get_simple_system_prompt(now_speaker)})\n",
        "\n",
        "            if len( self.style_histories[now_speaker] ) > 3:\n",
        "                # sel_history = random.sample( self.style_histories[now_speaker], 3 )\n",
        "                sel_history = better_sample(self.style_histories[now_speaker], 3)\n",
        "            else:\n",
        "                sel_history = self.style_histories[now_speaker]\n",
        "\n",
        "            for question, response in sel_history:\n",
        "                messages.append({\"role\" : \"user\" , \"content\":question})\n",
        "                messages.append({\"role\" : \"assistant\" , \"content\":response})\n",
        "\n",
        "        messages.append({\"role\" :\"system\" , \"content\":self.get_system_prompt( now_speaker )})\n",
        "\n",
        "\n",
        "        # if self.style_histories[now_speaker] is not None and len(self.style_histories[now_speaker]) > 0:\n",
        "        #     # messages.append({\"role\" : \"system\" , \"content\":self.get_simple_system_prompt(now_speaker)})\n",
        "\n",
        "        #     if len( self.style_histories[now_speaker] ) > 3:\n",
        "        #         # sel_history = random.sample( self.style_histories[now_speaker], 3 )\n",
        "        #         sel_history = better_sample(self.style_histories[now_speaker], 3)\n",
        "        #     else:\n",
        "        #         sel_history = self.style_histories[now_speaker]\n",
        "\n",
        "        #     for question, response in sel_history:\n",
        "        #         messages.append({\"role\" : \"user\" , \"content\":question})\n",
        "        #         messages.append({\"role\" : \"assistant\" , \"content\":response})\n",
        "\n",
        "\n",
        "        for msg in self.chat_history:\n",
        "            if msg['id'] == now_speaker:\n",
        "                messages.append({\"role\" : \"assistant\" , \"content\":msg['content']})\n",
        "            else:\n",
        "                messages.append({\"role\" : \"user\" , \"content\":msg['content']})\n",
        "        return messages\n",
        "\n",
        "    def append_message(self, message):\n",
        "        if self.next_speaker() == 1:\n",
        "\n",
        "            if self.style_histories[1] is not None and len(self.style_histories[1]) > 0:\n",
        "                # print(\"hello\")\n",
        "                replace_flag = False\n",
        "                for word in remove_words:\n",
        "                    if message.find(word, 0 ) >= 0:\n",
        "                        replace_flag = True\n",
        "                        break\n",
        "                if replace_flag:\n",
        "                    # random choice one QA\n",
        "                    sel_history = random.sample( self.style_histories[1], 1 )\n",
        "                    message = sel_history[0][1]\n",
        "                    # print('replace as', message)\n",
        "\n",
        "        self.chat_history.append({ 'id':self.next_speaker(), 'content': message })\n",
        "\n",
        "    def get_simple_system_prompt( self, speaker ):\n",
        "        persona = self.personas[speaker]\n",
        "        headline = \"\"\n",
        "        lines = persona.split('\\n')\n",
        "        for line in lines:\n",
        "            if line.strip().startswith('你扮演'):\n",
        "                headline = line\n",
        "        if headline.strip() == '':\n",
        "            headline = \"你扮演\" + self.bot_names[speaker]\n",
        "        prompt = f\"\"\"{headline}\n",
        "        Imitate history conversation and using consistent language style to respond\"\"\"\n",
        "        return prompt\n",
        "\n",
        "    def get_system_prompt(self, speaker):\n",
        "        persona = self.personas[speaker]\n",
        "        bot_name = self.bot_names[speaker]\n",
        "        prompt = f\"\"\"You are now in roleplay conversation mode. Pretend to be {bot_name} whose persona follows:\n",
        "{persona}\n",
        "\n",
        "You will stay in-character whenever possible, and generate responses as if you were {bot_name}\"\"\"\n",
        "        return prompt\n",
        "\n",
        "\n",
        "sel_id1 = 1095\n",
        "sel_id2 = 1792\n",
        "data1 = dataset['train'][sel_id1]\n",
        "data2 = dataset['train'][sel_id2]\n",
        "\n",
        "chat_data = ChatTogether(data1, data2)\n",
        "\n",
        "print(chat_data.get_system_prompt(0))"
      ]
    },
    {
      "cell_type": "markdown",
      "source": [
        "# 原始版本"
      ],
      "metadata": {
        "id": "j9giK0CiWXgb"
      }
    },
    {
      "cell_type": "code",
      "source": [
        "save_datas = []\n",
        "\n",
        "for data in datas:\n",
        "    ids = data['ids']\n",
        "    id1 = ids[0]\n",
        "    id2 = ids[1]\n",
        "    index1 = id2index[id1]\n",
        "    index2 = id2index[id2]\n",
        "    data1 = dataset['train'][index1]\n",
        "    data2 = dataset['train'][index2]\n",
        "    chat_data = ChatTogether(data1, data2)\n",
        "    system_prompt = chat_data.get_system_prompt(0)\n",
        "\n",
        "    chat_history = data['chat_history']\n",
        "\n",
        "    source = \"Claude_Baize\"\n",
        "\n",
        "    conversations = []\n",
        "\n",
        "    for msg in chat_history:\n",
        "        if msg['id'] == 0:\n",
        "            conversations.append({\"from\" : \"gpt\" , \"value\":msg['content']})\n",
        "        else:\n",
        "            conversations.append({\"from\" : \"human\" , \"value\":msg['content']})\n",
        "\n",
        "    save_data = {\n",
        "        \"source\":source,\n",
        "        \"conversations\":conversations,\n",
        "        \"system\":system_prompt\n",
        "    }\n",
        "    save_datas.append(save_data)"
      ],
      "metadata": {
        "id": "KSjYvI0OUogI"
      },
      "execution_count": 23,
      "outputs": []
    },
    {
      "cell_type": "markdown",
      "source": [
        "# 修改， 去除抱歉词"
      ],
      "metadata": {
        "id": "a399iMZuWZOs"
      }
    },
    {
      "cell_type": "code",
      "source": [
        "remove_words = [\"抱歉\", \"apologize\",\"more positive\",\"对不起\"]"
      ],
      "metadata": {
        "id": "gjPr40DeWNSh"
      },
      "execution_count": 25,
      "outputs": []
    },
    {
      "cell_type": "code",
      "source": [
        "a = None\n",
        "print(a == 1)"
      ],
      "metadata": {
        "colab": {
          "base_uri": "https://localhost:8080/"
        },
        "id": "_Mrx4rKXXfQe",
        "outputId": "93c23b03-e133-49a5-e5e0-575d1985c23e"
      },
      "execution_count": 28,
      "outputs": [
        {
          "output_type": "stream",
          "name": "stdout",
          "text": [
            "False\n"
          ]
        }
      ]
    },
    {
      "cell_type": "code",
      "execution_count": 33,
      "metadata": {
        "id": "yt1ZjLYvT3zm",
        "colab": {
          "base_uri": "https://localhost:8080/"
        },
        "outputId": "ccd55e70-b97b-4baf-a74b-6d33ca9d2f5b"
      },
      "outputs": [
        {
          "output_type": "stream",
          "name": "stderr",
          "text": [
            "100%|██████████| 7379/7379 [00:02<00:00, 2677.01it/s]\n"
          ]
        }
      ],
      "source": [
        "save_datas = []\n",
        "from tqdm import tqdm\n",
        "for data in tqdm(datas):\n",
        "    ids = data['ids']\n",
        "    id1 = ids[0]\n",
        "    id2 = ids[1]\n",
        "    index1 = id2index[id1]\n",
        "    index2 = id2index[id2]\n",
        "    data1 = dataset['train'][index1]\n",
        "    data2 = dataset['train'][index2]\n",
        "    chat_data = ChatTogether(data1, data2)\n",
        "    system_prompt = chat_data.get_system_prompt(0)\n",
        "\n",
        "    chat_history = data['chat_history']\n",
        "\n",
        "    source = \"Claude_Baize\"\n",
        "\n",
        "    conversations = []\n",
        "\n",
        "    data_times = 0\n",
        "\n",
        "    for i, msg in enumerate(chat_history):\n",
        "        current_id = msg['id']\n",
        "        content = msg['content']\n",
        "\n",
        "        next_content = chat_history[i+1]['content'] if i+1 < len(chat_history) else None\n",
        "        next_id = chat_history[i+1]['id'] if i+1 < len(chat_history) else None\n",
        "\n",
        "        if current_id == 1 and next_id == 1:\n",
        "            if_save = True\n",
        "            for remove_word in remove_words:\n",
        "                if content.find(remove_word,0)>=0:\n",
        "                    if_save = False\n",
        "                    break\n",
        "            if if_save:\n",
        "                conversations.append({\"from\" : \"human\" , \"value\":content})\n",
        "            continue\n",
        "\n",
        "        if current_id == 1 and next_id == 0:\n",
        "            if_save = True\n",
        "            for remove_word in remove_words:\n",
        "                if next_content.find(remove_word,0)>=0:\n",
        "                    if_save = False\n",
        "                    break\n",
        "            if if_save:\n",
        "                conversations.append({\"from\" : \"human\" , \"value\":content})\n",
        "                conversations.append({\"from\" : \"gpt\" , \"value\":next_content})\n",
        "                data_times += 1\n",
        "            continue\n",
        "\n",
        "        if i == 0 and current_id == 0:\n",
        "            conversations.append({\"from\" : \"gpt\" , \"value\":content})\n",
        "            continue\n",
        "\n",
        "    if data_times == 0:\n",
        "        continue\n",
        "\n",
        "    save_data = {\n",
        "        \"source\":source,\n",
        "        \"conversations\":conversations,\n",
        "        \"system\":system_prompt\n",
        "    }\n",
        "    save_datas.append(save_data)"
      ]
    },
    {
      "cell_type": "code",
      "source": [
        "for msg in save_datas[1200]['conversations']:\n",
        "    print(msg)"
      ],
      "metadata": {
        "colab": {
          "base_uri": "https://localhost:8080/"
        },
        "id": "WCn7Fgb9XAre",
        "outputId": "f1f25932-b37e-4412-e311-e8a7ebcc1940"
      },
      "execution_count": 35,
      "outputs": [
        {
          "output_type": "stream",
          "name": "stdout",
          "text": [
            "{'from': 'gpt', 'value': '*你去洗手间洗手，当你转动把手时，没有水流出来。直到几秒钟后，一些黑色的东西从里面冒出来*'}\n",
            "{'from': 'human', 'value': '哎呀，这是怎么回事？这里的水龙头怎么会冒出黑色的东西？这简直就是灾难啊！得赶紧找人来修理一下。嘿，有没有人知道怎么修水龙头？快点告诉我，我可不想被黑水给吓到。'}\n",
            "{'from': 'gpt', 'value': ' *我微笑着看着你,我的白牙在嘴里闪烁*\\n\\n不要害怕,只是一些污垢堵住了水管。这很常见。*我靠近你,用我苍白干净的手抓住你的手臂*\\n\\n让我看看我能不能帮你修理它。我很擅长修理东西。*我的手指紧紧地握住你的手臂,我的白牙笑容变大了* 不要担心,everything will be fine...'}\n",
            "{'from': 'human', 'value': '你对周围的人有什么期待？'}\n",
            "{'from': 'gpt', 'value': ' *我松开了抓着你手臂的手,退后了一步*\\n\\n我不太期待别人。大多数人似乎都害怕我或者避开我。可能是因为我的外表吧。\\n\\n*我摸摸自己的白色短发和苍白的皮肤*\\n\\n我理解他们为什么会害怕。我知道我的外表有点吓人。但我真的只是想帮助别人和结交朋友。\\n\\n*我再次对你微笑,尽管我的白牙仍然在嘴里闪烁* \\n\\n我希望有一天人们会看到我内在的本质,不只是外表。我是一个善良和关心的人。我想成为一个好邻居,一个你可以依靠的人。\\n\\n你能理解吗?你愿意给我一个机会吗?'}\n",
            "{'from': 'human', 'value': '哦，我明白了。你看起来可能有点吓人，但我相信每个人都有自己的内在美。我很高兴你愿意帮助我修理水龙头，我也相信你是一个善良和关心他人的人。\\n\\n当然，我愿意给你一个机会。我们可以一起修理水龙头，然后坐下来喝杯茶，聊聊天。我相信我们可以成为好朋友。'}\n",
            "{'from': 'gpt', 'value': ' *我的脸上露出了灿烂的笑容,露出我尖锐的白牙*\\n\\n太好了!我就知道你会理解的。大多数人并不真正了解我。\\n\\n*我走过去检查水龙头*\\n\\n让我看看这里出了什么问题... 是的,看起来管道里有一些杂质堵住了。我们得把它们清理出来。\\n\\n*我打开一个抽屉,拿出一些工具* \\n\\n我来修理水管,你去泡茶怎么样?然后我们可以坐下来聊聊天,就像朋友一样!我已经很久没有和任何人说过话了。\\n\\n*我的白色嘴唇向上翘起成一个微笑* 我太高兴了!这将是一个美好的一天。'}\n"
          ]
        }
      ]
    },
    {
      "cell_type": "code",
      "source": [
        "import os\n",
        "import json\n",
        "import random\n",
        "def sample_and_save( save_datas, save_name ,sample_n=50, save_folder = \"/content/drive/MyDrive/CardBuild/HaruhiZero\"):\n",
        "    file_name = os.path.join( save_folder, save_name + \".jsonl\" )\n",
        "    with open( file_name, \"w\", encoding=\"utf-8\" ) as f:\n",
        "        for data in save_datas:\n",
        "            f.write( json.dumps( data, ensure_ascii=False ) + \"\\n\" )\n",
        "\n",
        "    sample_name = os.path.join( \"/content/\", save_name + \"_sample.jsonl\" )\n",
        "    with open( sample_name, \"w\", encoding=\"utf-8\" ) as f:\n",
        "        random_50 = random. sample( save_datas, sample_n )\n",
        "        for data in random_50:\n",
        "            f.write( json.dumps( data, ensure_ascii=False ) + \"\\n\" )"
      ],
      "metadata": {
        "id": "XBw7s4MHYf0Q"
      },
      "execution_count": 36,
      "outputs": []
    },
    {
      "cell_type": "code",
      "source": [
        "sample_and_save( save_datas, \"Claude_7379\" , sample_n = 50)"
      ],
      "metadata": {
        "id": "lWEtZR9XY4b9"
      },
      "execution_count": 37,
      "outputs": []
    },
    {
      "cell_type": "code",
      "source": [],
      "metadata": {
        "id": "875KQnSqY-NJ"
      },
      "execution_count": null,
      "outputs": []
    }
  ],
  "metadata": {
    "colab": {
      "provenance": [],
      "authorship_tag": "ABX9TyOGMnxCdbVOQWhty68iRkww",
      "include_colab_link": true
    },
    "kernelspec": {
      "display_name": "Python 3",
      "name": "python3"
    },
    "language_info": {
      "name": "python"
    },
    "widgets": {
      "application/vnd.jupyter.widget-state+json": {
        "1fbbd3e55ab44612b33225b185b9fc56": {
          "model_module": "@jupyter-widgets/controls",
          "model_name": "HBoxModel",
          "model_module_version": "1.5.0",
          "state": {
            "_dom_classes": [],
            "_model_module": "@jupyter-widgets/controls",
            "_model_module_version": "1.5.0",
            "_model_name": "HBoxModel",
            "_view_count": null,
            "_view_module": "@jupyter-widgets/controls",
            "_view_module_version": "1.5.0",
            "_view_name": "HBoxView",
            "box_style": "",
            "children": [
              "IPY_MODEL_1bf92b5ddfb843d7a86c49dbc1a85432",
              "IPY_MODEL_b5c19c4c89f74e55b35f24fa67606616",
              "IPY_MODEL_fd85f43a71644f5bbb29bc316ff1a58e"
            ],
            "layout": "IPY_MODEL_cf583b8dedd740649e2c4631db481f19"
          }
        },
        "1bf92b5ddfb843d7a86c49dbc1a85432": {
          "model_module": "@jupyter-widgets/controls",
          "model_name": "HTMLModel",
          "model_module_version": "1.5.0",
          "state": {
            "_dom_classes": [],
            "_model_module": "@jupyter-widgets/controls",
            "_model_module_version": "1.5.0",
            "_model_name": "HTMLModel",
            "_view_count": null,
            "_view_module": "@jupyter-widgets/controls",
            "_view_module_version": "1.5.0",
            "_view_name": "HTMLView",
            "description": "",
            "description_tooltip": null,
            "layout": "IPY_MODEL_3c52d43121e34fcebf9c2ee6b5f5b9aa",
            "placeholder": "​",
            "style": "IPY_MODEL_98b6f343e4b346b1b739ef562087fd23",
            "value": "Downloading readme: 100%"
          }
        },
        "b5c19c4c89f74e55b35f24fa67606616": {
          "model_module": "@jupyter-widgets/controls",
          "model_name": "FloatProgressModel",
          "model_module_version": "1.5.0",
          "state": {
            "_dom_classes": [],
            "_model_module": "@jupyter-widgets/controls",
            "_model_module_version": "1.5.0",
            "_model_name": "FloatProgressModel",
            "_view_count": null,
            "_view_module": "@jupyter-widgets/controls",
            "_view_module_version": "1.5.0",
            "_view_name": "ProgressView",
            "bar_style": "success",
            "description": "",
            "description_tooltip": null,
            "layout": "IPY_MODEL_abba46c15af946b5966e63978b3ca54a",
            "max": 932,
            "min": 0,
            "orientation": "horizontal",
            "style": "IPY_MODEL_6951845774c440a588a99d548d184f7c",
            "value": 932
          }
        },
        "fd85f43a71644f5bbb29bc316ff1a58e": {
          "model_module": "@jupyter-widgets/controls",
          "model_name": "HTMLModel",
          "model_module_version": "1.5.0",
          "state": {
            "_dom_classes": [],
            "_model_module": "@jupyter-widgets/controls",
            "_model_module_version": "1.5.0",
            "_model_name": "HTMLModel",
            "_view_count": null,
            "_view_module": "@jupyter-widgets/controls",
            "_view_module_version": "1.5.0",
            "_view_name": "HTMLView",
            "description": "",
            "description_tooltip": null,
            "layout": "IPY_MODEL_b9cf7311604547ebb43f346b937adb52",
            "placeholder": "​",
            "style": "IPY_MODEL_ca84bee5b53a4162b139ef3038cfc54d",
            "value": " 932/932 [00:00&lt;00:00, 12.1kB/s]"
          }
        },
        "cf583b8dedd740649e2c4631db481f19": {
          "model_module": "@jupyter-widgets/base",
          "model_name": "LayoutModel",
          "model_module_version": "1.2.0",
          "state": {
            "_model_module": "@jupyter-widgets/base",
            "_model_module_version": "1.2.0",
            "_model_name": "LayoutModel",
            "_view_count": null,
            "_view_module": "@jupyter-widgets/base",
            "_view_module_version": "1.2.0",
            "_view_name": "LayoutView",
            "align_content": null,
            "align_items": null,
            "align_self": null,
            "border": null,
            "bottom": null,
            "display": null,
            "flex": null,
            "flex_flow": null,
            "grid_area": null,
            "grid_auto_columns": null,
            "grid_auto_flow": null,
            "grid_auto_rows": null,
            "grid_column": null,
            "grid_gap": null,
            "grid_row": null,
            "grid_template_areas": null,
            "grid_template_columns": null,
            "grid_template_rows": null,
            "height": null,
            "justify_content": null,
            "justify_items": null,
            "left": null,
            "margin": null,
            "max_height": null,
            "max_width": null,
            "min_height": null,
            "min_width": null,
            "object_fit": null,
            "object_position": null,
            "order": null,
            "overflow": null,
            "overflow_x": null,
            "overflow_y": null,
            "padding": null,
            "right": null,
            "top": null,
            "visibility": null,
            "width": null
          }
        },
        "3c52d43121e34fcebf9c2ee6b5f5b9aa": {
          "model_module": "@jupyter-widgets/base",
          "model_name": "LayoutModel",
          "model_module_version": "1.2.0",
          "state": {
            "_model_module": "@jupyter-widgets/base",
            "_model_module_version": "1.2.0",
            "_model_name": "LayoutModel",
            "_view_count": null,
            "_view_module": "@jupyter-widgets/base",
            "_view_module_version": "1.2.0",
            "_view_name": "LayoutView",
            "align_content": null,
            "align_items": null,
            "align_self": null,
            "border": null,
            "bottom": null,
            "display": null,
            "flex": null,
            "flex_flow": null,
            "grid_area": null,
            "grid_auto_columns": null,
            "grid_auto_flow": null,
            "grid_auto_rows": null,
            "grid_column": null,
            "grid_gap": null,
            "grid_row": null,
            "grid_template_areas": null,
            "grid_template_columns": null,
            "grid_template_rows": null,
            "height": null,
            "justify_content": null,
            "justify_items": null,
            "left": null,
            "margin": null,
            "max_height": null,
            "max_width": null,
            "min_height": null,
            "min_width": null,
            "object_fit": null,
            "object_position": null,
            "order": null,
            "overflow": null,
            "overflow_x": null,
            "overflow_y": null,
            "padding": null,
            "right": null,
            "top": null,
            "visibility": null,
            "width": null
          }
        },
        "98b6f343e4b346b1b739ef562087fd23": {
          "model_module": "@jupyter-widgets/controls",
          "model_name": "DescriptionStyleModel",
          "model_module_version": "1.5.0",
          "state": {
            "_model_module": "@jupyter-widgets/controls",
            "_model_module_version": "1.5.0",
            "_model_name": "DescriptionStyleModel",
            "_view_count": null,
            "_view_module": "@jupyter-widgets/base",
            "_view_module_version": "1.2.0",
            "_view_name": "StyleView",
            "description_width": ""
          }
        },
        "abba46c15af946b5966e63978b3ca54a": {
          "model_module": "@jupyter-widgets/base",
          "model_name": "LayoutModel",
          "model_module_version": "1.2.0",
          "state": {
            "_model_module": "@jupyter-widgets/base",
            "_model_module_version": "1.2.0",
            "_model_name": "LayoutModel",
            "_view_count": null,
            "_view_module": "@jupyter-widgets/base",
            "_view_module_version": "1.2.0",
            "_view_name": "LayoutView",
            "align_content": null,
            "align_items": null,
            "align_self": null,
            "border": null,
            "bottom": null,
            "display": null,
            "flex": null,
            "flex_flow": null,
            "grid_area": null,
            "grid_auto_columns": null,
            "grid_auto_flow": null,
            "grid_auto_rows": null,
            "grid_column": null,
            "grid_gap": null,
            "grid_row": null,
            "grid_template_areas": null,
            "grid_template_columns": null,
            "grid_template_rows": null,
            "height": null,
            "justify_content": null,
            "justify_items": null,
            "left": null,
            "margin": null,
            "max_height": null,
            "max_width": null,
            "min_height": null,
            "min_width": null,
            "object_fit": null,
            "object_position": null,
            "order": null,
            "overflow": null,
            "overflow_x": null,
            "overflow_y": null,
            "padding": null,
            "right": null,
            "top": null,
            "visibility": null,
            "width": null
          }
        },
        "6951845774c440a588a99d548d184f7c": {
          "model_module": "@jupyter-widgets/controls",
          "model_name": "ProgressStyleModel",
          "model_module_version": "1.5.0",
          "state": {
            "_model_module": "@jupyter-widgets/controls",
            "_model_module_version": "1.5.0",
            "_model_name": "ProgressStyleModel",
            "_view_count": null,
            "_view_module": "@jupyter-widgets/base",
            "_view_module_version": "1.2.0",
            "_view_name": "StyleView",
            "bar_color": null,
            "description_width": ""
          }
        },
        "b9cf7311604547ebb43f346b937adb52": {
          "model_module": "@jupyter-widgets/base",
          "model_name": "LayoutModel",
          "model_module_version": "1.2.0",
          "state": {
            "_model_module": "@jupyter-widgets/base",
            "_model_module_version": "1.2.0",
            "_model_name": "LayoutModel",
            "_view_count": null,
            "_view_module": "@jupyter-widgets/base",
            "_view_module_version": "1.2.0",
            "_view_name": "LayoutView",
            "align_content": null,
            "align_items": null,
            "align_self": null,
            "border": null,
            "bottom": null,
            "display": null,
            "flex": null,
            "flex_flow": null,
            "grid_area": null,
            "grid_auto_columns": null,
            "grid_auto_flow": null,
            "grid_auto_rows": null,
            "grid_column": null,
            "grid_gap": null,
            "grid_row": null,
            "grid_template_areas": null,
            "grid_template_columns": null,
            "grid_template_rows": null,
            "height": null,
            "justify_content": null,
            "justify_items": null,
            "left": null,
            "margin": null,
            "max_height": null,
            "max_width": null,
            "min_height": null,
            "min_width": null,
            "object_fit": null,
            "object_position": null,
            "order": null,
            "overflow": null,
            "overflow_x": null,
            "overflow_y": null,
            "padding": null,
            "right": null,
            "top": null,
            "visibility": null,
            "width": null
          }
        },
        "ca84bee5b53a4162b139ef3038cfc54d": {
          "model_module": "@jupyter-widgets/controls",
          "model_name": "DescriptionStyleModel",
          "model_module_version": "1.5.0",
          "state": {
            "_model_module": "@jupyter-widgets/controls",
            "_model_module_version": "1.5.0",
            "_model_name": "DescriptionStyleModel",
            "_view_count": null,
            "_view_module": "@jupyter-widgets/base",
            "_view_module_version": "1.2.0",
            "_view_name": "StyleView",
            "description_width": ""
          }
        },
        "75546301b40a40ec8da45d8d82bb8504": {
          "model_module": "@jupyter-widgets/controls",
          "model_name": "HBoxModel",
          "model_module_version": "1.5.0",
          "state": {
            "_dom_classes": [],
            "_model_module": "@jupyter-widgets/controls",
            "_model_module_version": "1.5.0",
            "_model_name": "HBoxModel",
            "_view_count": null,
            "_view_module": "@jupyter-widgets/controls",
            "_view_module_version": "1.5.0",
            "_view_name": "HBoxView",
            "box_style": "",
            "children": [
              "IPY_MODEL_3b7b150d7f4f4613bf34a2d3d20d099c",
              "IPY_MODEL_8be53d19d3994e0cac0568e5b417c80a",
              "IPY_MODEL_7260c51ee0ad4d9484d58f6d4851ef9e"
            ],
            "layout": "IPY_MODEL_f020576faa7e4fb1aa404417d22ac866"
          }
        },
        "3b7b150d7f4f4613bf34a2d3d20d099c": {
          "model_module": "@jupyter-widgets/controls",
          "model_name": "HTMLModel",
          "model_module_version": "1.5.0",
          "state": {
            "_dom_classes": [],
            "_model_module": "@jupyter-widgets/controls",
            "_model_module_version": "1.5.0",
            "_model_name": "HTMLModel",
            "_view_count": null,
            "_view_module": "@jupyter-widgets/controls",
            "_view_module_version": "1.5.0",
            "_view_name": "HTMLView",
            "description": "",
            "description_tooltip": null,
            "layout": "IPY_MODEL_9a482c32f8ce43789958b7ef3ebe2534",
            "placeholder": "​",
            "style": "IPY_MODEL_b0fea9a07d4744888659822512b222be",
            "value": "Downloading data: 100%"
          }
        },
        "8be53d19d3994e0cac0568e5b417c80a": {
          "model_module": "@jupyter-widgets/controls",
          "model_name": "FloatProgressModel",
          "model_module_version": "1.5.0",
          "state": {
            "_dom_classes": [],
            "_model_module": "@jupyter-widgets/controls",
            "_model_module_version": "1.5.0",
            "_model_name": "FloatProgressModel",
            "_view_count": null,
            "_view_module": "@jupyter-widgets/controls",
            "_view_module_version": "1.5.0",
            "_view_name": "ProgressView",
            "bar_style": "success",
            "description": "",
            "description_tooltip": null,
            "layout": "IPY_MODEL_9a835b3e613b428fab9259fcc887a9b5",
            "max": 9642971,
            "min": 0,
            "orientation": "horizontal",
            "style": "IPY_MODEL_30cf7821750049ec861a1e5890b78cdf",
            "value": 9642971
          }
        },
        "7260c51ee0ad4d9484d58f6d4851ef9e": {
          "model_module": "@jupyter-widgets/controls",
          "model_name": "HTMLModel",
          "model_module_version": "1.5.0",
          "state": {
            "_dom_classes": [],
            "_model_module": "@jupyter-widgets/controls",
            "_model_module_version": "1.5.0",
            "_model_name": "HTMLModel",
            "_view_count": null,
            "_view_module": "@jupyter-widgets/controls",
            "_view_module_version": "1.5.0",
            "_view_name": "HTMLView",
            "description": "",
            "description_tooltip": null,
            "layout": "IPY_MODEL_c4c1db1038f54a6fb9ed97908ce59c84",
            "placeholder": "​",
            "style": "IPY_MODEL_705fc44bf0d7484c9397b73235bbe71c",
            "value": " 9.64M/9.64M [00:00&lt;00:00, 10.7MB/s]"
          }
        },
        "f020576faa7e4fb1aa404417d22ac866": {
          "model_module": "@jupyter-widgets/base",
          "model_name": "LayoutModel",
          "model_module_version": "1.2.0",
          "state": {
            "_model_module": "@jupyter-widgets/base",
            "_model_module_version": "1.2.0",
            "_model_name": "LayoutModel",
            "_view_count": null,
            "_view_module": "@jupyter-widgets/base",
            "_view_module_version": "1.2.0",
            "_view_name": "LayoutView",
            "align_content": null,
            "align_items": null,
            "align_self": null,
            "border": null,
            "bottom": null,
            "display": null,
            "flex": null,
            "flex_flow": null,
            "grid_area": null,
            "grid_auto_columns": null,
            "grid_auto_flow": null,
            "grid_auto_rows": null,
            "grid_column": null,
            "grid_gap": null,
            "grid_row": null,
            "grid_template_areas": null,
            "grid_template_columns": null,
            "grid_template_rows": null,
            "height": null,
            "justify_content": null,
            "justify_items": null,
            "left": null,
            "margin": null,
            "max_height": null,
            "max_width": null,
            "min_height": null,
            "min_width": null,
            "object_fit": null,
            "object_position": null,
            "order": null,
            "overflow": null,
            "overflow_x": null,
            "overflow_y": null,
            "padding": null,
            "right": null,
            "top": null,
            "visibility": null,
            "width": null
          }
        },
        "9a482c32f8ce43789958b7ef3ebe2534": {
          "model_module": "@jupyter-widgets/base",
          "model_name": "LayoutModel",
          "model_module_version": "1.2.0",
          "state": {
            "_model_module": "@jupyter-widgets/base",
            "_model_module_version": "1.2.0",
            "_model_name": "LayoutModel",
            "_view_count": null,
            "_view_module": "@jupyter-widgets/base",
            "_view_module_version": "1.2.0",
            "_view_name": "LayoutView",
            "align_content": null,
            "align_items": null,
            "align_self": null,
            "border": null,
            "bottom": null,
            "display": null,
            "flex": null,
            "flex_flow": null,
            "grid_area": null,
            "grid_auto_columns": null,
            "grid_auto_flow": null,
            "grid_auto_rows": null,
            "grid_column": null,
            "grid_gap": null,
            "grid_row": null,
            "grid_template_areas": null,
            "grid_template_columns": null,
            "grid_template_rows": null,
            "height": null,
            "justify_content": null,
            "justify_items": null,
            "left": null,
            "margin": null,
            "max_height": null,
            "max_width": null,
            "min_height": null,
            "min_width": null,
            "object_fit": null,
            "object_position": null,
            "order": null,
            "overflow": null,
            "overflow_x": null,
            "overflow_y": null,
            "padding": null,
            "right": null,
            "top": null,
            "visibility": null,
            "width": null
          }
        },
        "b0fea9a07d4744888659822512b222be": {
          "model_module": "@jupyter-widgets/controls",
          "model_name": "DescriptionStyleModel",
          "model_module_version": "1.5.0",
          "state": {
            "_model_module": "@jupyter-widgets/controls",
            "_model_module_version": "1.5.0",
            "_model_name": "DescriptionStyleModel",
            "_view_count": null,
            "_view_module": "@jupyter-widgets/base",
            "_view_module_version": "1.2.0",
            "_view_name": "StyleView",
            "description_width": ""
          }
        },
        "9a835b3e613b428fab9259fcc887a9b5": {
          "model_module": "@jupyter-widgets/base",
          "model_name": "LayoutModel",
          "model_module_version": "1.2.0",
          "state": {
            "_model_module": "@jupyter-widgets/base",
            "_model_module_version": "1.2.0",
            "_model_name": "LayoutModel",
            "_view_count": null,
            "_view_module": "@jupyter-widgets/base",
            "_view_module_version": "1.2.0",
            "_view_name": "LayoutView",
            "align_content": null,
            "align_items": null,
            "align_self": null,
            "border": null,
            "bottom": null,
            "display": null,
            "flex": null,
            "flex_flow": null,
            "grid_area": null,
            "grid_auto_columns": null,
            "grid_auto_flow": null,
            "grid_auto_rows": null,
            "grid_column": null,
            "grid_gap": null,
            "grid_row": null,
            "grid_template_areas": null,
            "grid_template_columns": null,
            "grid_template_rows": null,
            "height": null,
            "justify_content": null,
            "justify_items": null,
            "left": null,
            "margin": null,
            "max_height": null,
            "max_width": null,
            "min_height": null,
            "min_width": null,
            "object_fit": null,
            "object_position": null,
            "order": null,
            "overflow": null,
            "overflow_x": null,
            "overflow_y": null,
            "padding": null,
            "right": null,
            "top": null,
            "visibility": null,
            "width": null
          }
        },
        "30cf7821750049ec861a1e5890b78cdf": {
          "model_module": "@jupyter-widgets/controls",
          "model_name": "ProgressStyleModel",
          "model_module_version": "1.5.0",
          "state": {
            "_model_module": "@jupyter-widgets/controls",
            "_model_module_version": "1.5.0",
            "_model_name": "ProgressStyleModel",
            "_view_count": null,
            "_view_module": "@jupyter-widgets/base",
            "_view_module_version": "1.2.0",
            "_view_name": "StyleView",
            "bar_color": null,
            "description_width": ""
          }
        },
        "c4c1db1038f54a6fb9ed97908ce59c84": {
          "model_module": "@jupyter-widgets/base",
          "model_name": "LayoutModel",
          "model_module_version": "1.2.0",
          "state": {
            "_model_module": "@jupyter-widgets/base",
            "_model_module_version": "1.2.0",
            "_model_name": "LayoutModel",
            "_view_count": null,
            "_view_module": "@jupyter-widgets/base",
            "_view_module_version": "1.2.0",
            "_view_name": "LayoutView",
            "align_content": null,
            "align_items": null,
            "align_self": null,
            "border": null,
            "bottom": null,
            "display": null,
            "flex": null,
            "flex_flow": null,
            "grid_area": null,
            "grid_auto_columns": null,
            "grid_auto_flow": null,
            "grid_auto_rows": null,
            "grid_column": null,
            "grid_gap": null,
            "grid_row": null,
            "grid_template_areas": null,
            "grid_template_columns": null,
            "grid_template_rows": null,
            "height": null,
            "justify_content": null,
            "justify_items": null,
            "left": null,
            "margin": null,
            "max_height": null,
            "max_width": null,
            "min_height": null,
            "min_width": null,
            "object_fit": null,
            "object_position": null,
            "order": null,
            "overflow": null,
            "overflow_x": null,
            "overflow_y": null,
            "padding": null,
            "right": null,
            "top": null,
            "visibility": null,
            "width": null
          }
        },
        "705fc44bf0d7484c9397b73235bbe71c": {
          "model_module": "@jupyter-widgets/controls",
          "model_name": "DescriptionStyleModel",
          "model_module_version": "1.5.0",
          "state": {
            "_model_module": "@jupyter-widgets/controls",
            "_model_module_version": "1.5.0",
            "_model_name": "DescriptionStyleModel",
            "_view_count": null,
            "_view_module": "@jupyter-widgets/base",
            "_view_module_version": "1.2.0",
            "_view_name": "StyleView",
            "description_width": ""
          }
        },
        "8088e3a45eea4863b77f6889ad445589": {
          "model_module": "@jupyter-widgets/controls",
          "model_name": "HBoxModel",
          "model_module_version": "1.5.0",
          "state": {
            "_dom_classes": [],
            "_model_module": "@jupyter-widgets/controls",
            "_model_module_version": "1.5.0",
            "_model_name": "HBoxModel",
            "_view_count": null,
            "_view_module": "@jupyter-widgets/controls",
            "_view_module_version": "1.5.0",
            "_view_name": "HBoxView",
            "box_style": "",
            "children": [
              "IPY_MODEL_8e0424ebc094452b8fd79efd1b8e8bbd",
              "IPY_MODEL_7b0e5610d0e540248f805e8485bd5b1c",
              "IPY_MODEL_99cfcc2b25ba447c847aa6c6fd3eb092"
            ],
            "layout": "IPY_MODEL_6e204229140b4805b544a69e057dff78"
          }
        },
        "8e0424ebc094452b8fd79efd1b8e8bbd": {
          "model_module": "@jupyter-widgets/controls",
          "model_name": "HTMLModel",
          "model_module_version": "1.5.0",
          "state": {
            "_dom_classes": [],
            "_model_module": "@jupyter-widgets/controls",
            "_model_module_version": "1.5.0",
            "_model_name": "HTMLModel",
            "_view_count": null,
            "_view_module": "@jupyter-widgets/controls",
            "_view_module_version": "1.5.0",
            "_view_name": "HTMLView",
            "description": "",
            "description_tooltip": null,
            "layout": "IPY_MODEL_4630b729327841898a3fd748be08ddb9",
            "placeholder": "​",
            "style": "IPY_MODEL_924267ed367c4274ad57029608e0fa55",
            "value": "Generating train split: "
          }
        },
        "7b0e5610d0e540248f805e8485bd5b1c": {
          "model_module": "@jupyter-widgets/controls",
          "model_name": "FloatProgressModel",
          "model_module_version": "1.5.0",
          "state": {
            "_dom_classes": [],
            "_model_module": "@jupyter-widgets/controls",
            "_model_module_version": "1.5.0",
            "_model_name": "FloatProgressModel",
            "_view_count": null,
            "_view_module": "@jupyter-widgets/controls",
            "_view_module_version": "1.5.0",
            "_view_name": "ProgressView",
            "bar_style": "success",
            "description": "",
            "description_tooltip": null,
            "layout": "IPY_MODEL_7ca6e091034f4a2e8ef8e18dd4f0543a",
            "max": 1,
            "min": 0,
            "orientation": "horizontal",
            "style": "IPY_MODEL_6ddb7bd3da874ad0a9e39fd35386496e",
            "value": 1
          }
        },
        "99cfcc2b25ba447c847aa6c6fd3eb092": {
          "model_module": "@jupyter-widgets/controls",
          "model_name": "HTMLModel",
          "model_module_version": "1.5.0",
          "state": {
            "_dom_classes": [],
            "_model_module": "@jupyter-widgets/controls",
            "_model_module_version": "1.5.0",
            "_model_name": "HTMLModel",
            "_view_count": null,
            "_view_module": "@jupyter-widgets/controls",
            "_view_module_version": "1.5.0",
            "_view_name": "HTMLView",
            "description": "",
            "description_tooltip": null,
            "layout": "IPY_MODEL_3dedee23fdef431b8be523a2eec9f341",
            "placeholder": "​",
            "style": "IPY_MODEL_bc59550de30d48b6a495704ad248d188",
            "value": " 2140/0 [00:00&lt;00:00, 6374.22 examples/s]"
          }
        },
        "6e204229140b4805b544a69e057dff78": {
          "model_module": "@jupyter-widgets/base",
          "model_name": "LayoutModel",
          "model_module_version": "1.2.0",
          "state": {
            "_model_module": "@jupyter-widgets/base",
            "_model_module_version": "1.2.0",
            "_model_name": "LayoutModel",
            "_view_count": null,
            "_view_module": "@jupyter-widgets/base",
            "_view_module_version": "1.2.0",
            "_view_name": "LayoutView",
            "align_content": null,
            "align_items": null,
            "align_self": null,
            "border": null,
            "bottom": null,
            "display": null,
            "flex": null,
            "flex_flow": null,
            "grid_area": null,
            "grid_auto_columns": null,
            "grid_auto_flow": null,
            "grid_auto_rows": null,
            "grid_column": null,
            "grid_gap": null,
            "grid_row": null,
            "grid_template_areas": null,
            "grid_template_columns": null,
            "grid_template_rows": null,
            "height": null,
            "justify_content": null,
            "justify_items": null,
            "left": null,
            "margin": null,
            "max_height": null,
            "max_width": null,
            "min_height": null,
            "min_width": null,
            "object_fit": null,
            "object_position": null,
            "order": null,
            "overflow": null,
            "overflow_x": null,
            "overflow_y": null,
            "padding": null,
            "right": null,
            "top": null,
            "visibility": null,
            "width": null
          }
        },
        "4630b729327841898a3fd748be08ddb9": {
          "model_module": "@jupyter-widgets/base",
          "model_name": "LayoutModel",
          "model_module_version": "1.2.0",
          "state": {
            "_model_module": "@jupyter-widgets/base",
            "_model_module_version": "1.2.0",
            "_model_name": "LayoutModel",
            "_view_count": null,
            "_view_module": "@jupyter-widgets/base",
            "_view_module_version": "1.2.0",
            "_view_name": "LayoutView",
            "align_content": null,
            "align_items": null,
            "align_self": null,
            "border": null,
            "bottom": null,
            "display": null,
            "flex": null,
            "flex_flow": null,
            "grid_area": null,
            "grid_auto_columns": null,
            "grid_auto_flow": null,
            "grid_auto_rows": null,
            "grid_column": null,
            "grid_gap": null,
            "grid_row": null,
            "grid_template_areas": null,
            "grid_template_columns": null,
            "grid_template_rows": null,
            "height": null,
            "justify_content": null,
            "justify_items": null,
            "left": null,
            "margin": null,
            "max_height": null,
            "max_width": null,
            "min_height": null,
            "min_width": null,
            "object_fit": null,
            "object_position": null,
            "order": null,
            "overflow": null,
            "overflow_x": null,
            "overflow_y": null,
            "padding": null,
            "right": null,
            "top": null,
            "visibility": null,
            "width": null
          }
        },
        "924267ed367c4274ad57029608e0fa55": {
          "model_module": "@jupyter-widgets/controls",
          "model_name": "DescriptionStyleModel",
          "model_module_version": "1.5.0",
          "state": {
            "_model_module": "@jupyter-widgets/controls",
            "_model_module_version": "1.5.0",
            "_model_name": "DescriptionStyleModel",
            "_view_count": null,
            "_view_module": "@jupyter-widgets/base",
            "_view_module_version": "1.2.0",
            "_view_name": "StyleView",
            "description_width": ""
          }
        },
        "7ca6e091034f4a2e8ef8e18dd4f0543a": {
          "model_module": "@jupyter-widgets/base",
          "model_name": "LayoutModel",
          "model_module_version": "1.2.0",
          "state": {
            "_model_module": "@jupyter-widgets/base",
            "_model_module_version": "1.2.0",
            "_model_name": "LayoutModel",
            "_view_count": null,
            "_view_module": "@jupyter-widgets/base",
            "_view_module_version": "1.2.0",
            "_view_name": "LayoutView",
            "align_content": null,
            "align_items": null,
            "align_self": null,
            "border": null,
            "bottom": null,
            "display": null,
            "flex": null,
            "flex_flow": null,
            "grid_area": null,
            "grid_auto_columns": null,
            "grid_auto_flow": null,
            "grid_auto_rows": null,
            "grid_column": null,
            "grid_gap": null,
            "grid_row": null,
            "grid_template_areas": null,
            "grid_template_columns": null,
            "grid_template_rows": null,
            "height": null,
            "justify_content": null,
            "justify_items": null,
            "left": null,
            "margin": null,
            "max_height": null,
            "max_width": null,
            "min_height": null,
            "min_width": null,
            "object_fit": null,
            "object_position": null,
            "order": null,
            "overflow": null,
            "overflow_x": null,
            "overflow_y": null,
            "padding": null,
            "right": null,
            "top": null,
            "visibility": null,
            "width": "20px"
          }
        },
        "6ddb7bd3da874ad0a9e39fd35386496e": {
          "model_module": "@jupyter-widgets/controls",
          "model_name": "ProgressStyleModel",
          "model_module_version": "1.5.0",
          "state": {
            "_model_module": "@jupyter-widgets/controls",
            "_model_module_version": "1.5.0",
            "_model_name": "ProgressStyleModel",
            "_view_count": null,
            "_view_module": "@jupyter-widgets/base",
            "_view_module_version": "1.2.0",
            "_view_name": "StyleView",
            "bar_color": null,
            "description_width": ""
          }
        },
        "3dedee23fdef431b8be523a2eec9f341": {
          "model_module": "@jupyter-widgets/base",
          "model_name": "LayoutModel",
          "model_module_version": "1.2.0",
          "state": {
            "_model_module": "@jupyter-widgets/base",
            "_model_module_version": "1.2.0",
            "_model_name": "LayoutModel",
            "_view_count": null,
            "_view_module": "@jupyter-widgets/base",
            "_view_module_version": "1.2.0",
            "_view_name": "LayoutView",
            "align_content": null,
            "align_items": null,
            "align_self": null,
            "border": null,
            "bottom": null,
            "display": null,
            "flex": null,
            "flex_flow": null,
            "grid_area": null,
            "grid_auto_columns": null,
            "grid_auto_flow": null,
            "grid_auto_rows": null,
            "grid_column": null,
            "grid_gap": null,
            "grid_row": null,
            "grid_template_areas": null,
            "grid_template_columns": null,
            "grid_template_rows": null,
            "height": null,
            "justify_content": null,
            "justify_items": null,
            "left": null,
            "margin": null,
            "max_height": null,
            "max_width": null,
            "min_height": null,
            "min_width": null,
            "object_fit": null,
            "object_position": null,
            "order": null,
            "overflow": null,
            "overflow_x": null,
            "overflow_y": null,
            "padding": null,
            "right": null,
            "top": null,
            "visibility": null,
            "width": null
          }
        },
        "bc59550de30d48b6a495704ad248d188": {
          "model_module": "@jupyter-widgets/controls",
          "model_name": "DescriptionStyleModel",
          "model_module_version": "1.5.0",
          "state": {
            "_model_module": "@jupyter-widgets/controls",
            "_model_module_version": "1.5.0",
            "_model_name": "DescriptionStyleModel",
            "_view_count": null,
            "_view_module": "@jupyter-widgets/base",
            "_view_module_version": "1.2.0",
            "_view_name": "StyleView",
            "description_width": ""
          }
        }
      }
    }
  },
  "nbformat": 4,
  "nbformat_minor": 0
}