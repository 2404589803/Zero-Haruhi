{
  "cells": [
    {
      "cell_type": "markdown",
      "metadata": {
        "id": "view-in-github",
        "colab_type": "text"
      },
      "source": [
        "<a href=\"https://colab.research.google.com/github/LC1332/Zero-Haruhi/blob/main/notebook/Claude_Baize_to_ShareGPT.ipynb\" target=\"_parent\"><img src=\"https://colab.research.google.com/assets/colab-badge.svg\" alt=\"Open In Colab\"/></a>"
      ]
    },
    {
      "cell_type": "markdown",
      "source": [
        "- [ ] 收集所有Claude数据\n",
        "- [ ] 获取system prompt\n",
        "- [ ] 完成user name的替换\n",
        "- [ ] 去除抱歉的QA对\n",
        "- [ ] 截断处理"
      ],
      "metadata": {
        "id": "lymndWRqSh8W"
      }
    },
    {
      "cell_type": "code",
      "execution_count": 1,
      "metadata": {
        "colab": {
          "base_uri": "https://localhost:8080/"
        },
        "id": "7UjKaCdO3KeW",
        "outputId": "d9cc9577-8060-4883-d1ee-16601b4b961c"
      },
      "outputs": [
        {
          "output_type": "stream",
          "name": "stdout",
          "text": [
            "\u001b[2K     \u001b[90m━━━━━━━━━━━━━━━━━━━━━━━━━━━━━━━━━━━━━━━━\u001b[0m \u001b[32m826.9/826.9 kB\u001b[0m \u001b[31m7.6 MB/s\u001b[0m eta \u001b[36m0:00:00\u001b[0m\n",
            "\u001b[2K     \u001b[90m━━━━━━━━━━━━━━━━━━━━━━━━━━━━━━━━━━━━━━━━\u001b[0m \u001b[32m802.4/802.4 kB\u001b[0m \u001b[31m13.0 MB/s\u001b[0m eta \u001b[36m0:00:00\u001b[0m\n",
            "\u001b[2K     \u001b[90m━━━━━━━━━━━━━━━━━━━━━━━━━━━━━━━━━━━━━━━━\u001b[0m \u001b[32m222.3/222.3 kB\u001b[0m \u001b[31m10.6 MB/s\u001b[0m eta \u001b[36m0:00:00\u001b[0m\n",
            "\u001b[2K     \u001b[90m━━━━━━━━━━━━━━━━━━━━━━━━━━━━━━━━━━━━━━━━\u001b[0m \u001b[32m75.9/75.9 kB\u001b[0m \u001b[31m8.1 MB/s\u001b[0m eta \u001b[36m0:00:00\u001b[0m\n",
            "\u001b[2K     \u001b[90m━━━━━━━━━━━━━━━━━━━━━━━━━━━━━━━━━━━━━━━━\u001b[0m \u001b[32m1.6/1.6 MB\u001b[0m \u001b[31m20.7 MB/s\u001b[0m eta \u001b[36m0:00:00\u001b[0m\n",
            "\u001b[2K     \u001b[90m━━━━━━━━━━━━━━━━━━━━━━━━━━━━━━━━━━━━━━━━\u001b[0m \u001b[32m218.9/218.9 kB\u001b[0m \u001b[31m21.4 MB/s\u001b[0m eta \u001b[36m0:00:00\u001b[0m\n",
            "\u001b[2K     \u001b[90m━━━━━━━━━━━━━━━━━━━━━━━━━━━━━━━━━━━━━━━━\u001b[0m \u001b[32m48.4/48.4 kB\u001b[0m \u001b[31m4.2 MB/s\u001b[0m eta \u001b[36m0:00:00\u001b[0m\n",
            "\u001b[2K     \u001b[90m━━━━━━━━━━━━━━━━━━━━━━━━━━━━━━━━━━━━━━━━\u001b[0m \u001b[32m49.4/49.4 kB\u001b[0m \u001b[31m5.3 MB/s\u001b[0m eta \u001b[36m0:00:00\u001b[0m\n",
            "\u001b[2K     \u001b[90m━━━━━━━━━━━━━━━━━━━━━━━━━━━━━━━━━━━━━━━━\u001b[0m \u001b[32m76.9/76.9 kB\u001b[0m \u001b[31m9.0 MB/s\u001b[0m eta \u001b[36m0:00:00\u001b[0m\n",
            "\u001b[2K     \u001b[90m━━━━━━━━━━━━━━━━━━━━━━━━━━━━━━━━━━━━━━━━\u001b[0m \u001b[32m58.3/58.3 kB\u001b[0m \u001b[31m8.0 MB/s\u001b[0m eta \u001b[36m0:00:00\u001b[0m\n",
            "\u001b[?25h\u001b[31mERROR: pip's dependency resolver does not currently take into account all the packages that are installed. This behaviour is the source of the following dependency conflicts.\n",
            "llmx 0.0.15a0 requires cohere, which is not installed.\n",
            "llmx 0.0.15a0 requires tiktoken, which is not installed.\n",
            "tensorflow-probability 0.22.0 requires typing-extensions<4.6.0, but you have typing-extensions 4.9.0 which is incompatible.\u001b[0m\u001b[31m\n",
            "\u001b[0m"
          ]
        }
      ],
      "source": [
        "!pip install -q anthropic langchain openai"
      ]
    },
    {
      "cell_type": "code",
      "execution_count": 2,
      "metadata": {
        "id": "F9bvXn71Lk9z"
      },
      "outputs": [],
      "source": [
        "import os\n",
        "\n",
        "os.environ[\"ANTHROPIC_API_KEY\"]  = \"no_longer_need\"\n",
        "\n",
        "import os\n",
        "import httpx\n",
        "\n",
        "os.environ[\"OPENAI_API_KEY\"]  = \"no_longer_need\"\n",
        "\n",
        "import openai"
      ]
    },
    {
      "cell_type": "markdown",
      "metadata": {
        "id": "voOG4qxam7oF"
      },
      "source": [
        "建立角色历史"
      ]
    },
    {
      "cell_type": "code",
      "execution_count": 3,
      "metadata": {
        "colab": {
          "base_uri": "https://localhost:8080/"
        },
        "id": "DKV5vsoam88o",
        "outputId": "6a7c0957-c631-42d1-8bbf-0fd7c42a2261"
      },
      "outputs": [
        {
          "output_type": "stream",
          "name": "stdout",
          "text": [
            "Mounted at /content/drive\n"
          ]
        }
      ],
      "source": [
        "from google.colab import drive\n",
        "drive.mount('/content/drive')"
      ]
    },
    {
      "cell_type": "code",
      "execution_count": 4,
      "metadata": {
        "id": "3FmDHIMlnDln"
      },
      "outputs": [],
      "source": [
        "import os\n",
        "import json\n",
        "\n",
        "save_folder = \"/content/drive/MyDrive/CardBuild/roleBaize/\"\n",
        "\n",
        "import random\n",
        "\n",
        "datas = []\n",
        "for filename in os.listdir(save_folder):\n",
        "    if filename.startswith(\"Claude\"):\n",
        "        with open(os.path.join(save_folder, filename), 'r', encoding='utf-8') as f:\n",
        "            for line in f:\n",
        "                data = json.loads(line)\n",
        "                datas.append(data)"
      ]
    },
    {
      "cell_type": "code",
      "source": [
        "print(len(datas))"
      ],
      "metadata": {
        "colab": {
          "base_uri": "https://localhost:8080/"
        },
        "id": "VteyHIXRTLuM",
        "outputId": "b9efe4bb-5a97-4e3a-a4d0-4d850183c4e0"
      },
      "execution_count": 5,
      "outputs": [
        {
          "output_type": "stream",
          "name": "stdout",
          "text": [
            "7379\n"
          ]
        }
      ]
    },
    {
      "cell_type": "code",
      "execution_count": 6,
      "metadata": {
        "id": "4LncuvJwnMKU"
      },
      "outputs": [],
      "source": [
        "import re\n",
        "\n",
        "def extract_name_from_text(text):\n",
        "    pattern = r'你扮演\\s+.*中的\\s+(\\S+)\\s*'\n",
        "    match = re.search(pattern, text)\n",
        "    if match:\n",
        "        return match.group(1)\n",
        "    else:\n",
        "        return \"\"\n",
        "\n",
        "def get_bot_name_from_data( data ):\n",
        "    if data['id'].startswith('movie'):\n",
        "        name =  extract_name_from_text(data['prompt_zh'])\n",
        "        if name.strip() == '':\n",
        "            name = extract_name_from_text(data['prompt'])\n",
        "        return name\n",
        "    else:\n",
        "        return data['bot_name']"
      ]
    },
    {
      "cell_type": "code",
      "execution_count": 7,
      "metadata": {
        "id": "PlK3Y7IpnN1V"
      },
      "outputs": [],
      "source": [
        "remove_words = [\"抱歉\", \"apologize\",\"more positive\",\"对不起\"]"
      ]
    },
    {
      "cell_type": "code",
      "execution_count": 8,
      "metadata": {
        "colab": {
          "base_uri": "https://localhost:8080/"
        },
        "id": "e7ud8xNlnP_m",
        "outputId": "2e300e88-1633-48dd-d33d-54e2c400a27e"
      },
      "outputs": [
        {
          "output_type": "stream",
          "name": "stdout",
          "text": [
            "\u001b[?25l     \u001b[90m━━━━━━━━━━━━━━━━━━━━━━━━━━━━━━━━━━━━━━━━\u001b[0m \u001b[32m0.0/507.1 kB\u001b[0m \u001b[31m?\u001b[0m eta \u001b[36m-:--:--\u001b[0m\r\u001b[2K     \u001b[91m━━━━━━━━━━━━━━━━━━━━\u001b[0m\u001b[90m╺\u001b[0m\u001b[90m━━━━━━━━━━━━━━━━━━━\u001b[0m \u001b[32m256.0/507.1 kB\u001b[0m \u001b[31m7.5 MB/s\u001b[0m eta \u001b[36m0:00:01\u001b[0m\r\u001b[2K     \u001b[90m━━━━━━━━━━━━━━━━━━━━━━━━━━━━━━━━━━━━━━━━\u001b[0m \u001b[32m507.1/507.1 kB\u001b[0m \u001b[31m9.0 MB/s\u001b[0m eta \u001b[36m0:00:00\u001b[0m\n",
            "\u001b[2K     \u001b[90m━━━━━━━━━━━━━━━━━━━━━━━━━━━━━━━━━━━━━━━━\u001b[0m \u001b[32m115.3/115.3 kB\u001b[0m \u001b[31m14.5 MB/s\u001b[0m eta \u001b[36m0:00:00\u001b[0m\n",
            "\u001b[2K     \u001b[90m━━━━━━━━━━━━━━━━━━━━━━━━━━━━━━━━━━━━━━━━\u001b[0m \u001b[32m134.8/134.8 kB\u001b[0m \u001b[31m13.4 MB/s\u001b[0m eta \u001b[36m0:00:00\u001b[0m\n",
            "\u001b[?25h"
          ]
        }
      ],
      "source": [
        "!pip install -q datasets"
      ]
    },
    {
      "cell_type": "code",
      "execution_count": 9,
      "metadata": {
        "colab": {
          "base_uri": "https://localhost:8080/",
          "height": 169,
          "referenced_widgets": [
            "7c6204a38fa1453499b16b81aec7504d",
            "176a4740dd8c4954ad4a4a1077a858d6",
            "96ef6a7f15124e148b11050b7449e325",
            "44d3e13974a44dad8d5cc9cb3f189aa3",
            "b8903b797e1d4ee6b1d2d4adbc19521e",
            "584e7ea346ef4bc0b7b530051d9ba342",
            "7baab3cfef83401d902cb89b25a58597",
            "31a651479c3748cdbbcebbf38da1e733",
            "84d6d66c598d411aa8b2948a975176fc",
            "b6be327f1b9c490694910d9295d6f189",
            "c9ce4257b7354798ac092a557b964677",
            "5fd2a5fbca84473f9acb37109f82c4b7",
            "8b193062003f48ceb775a72aace1e01c",
            "ba6ca278628749ac9a408442d54e0aae",
            "0aa97afcb87e46b98bcfe3f531d86e30",
            "ecd07d41c29d4979a0faeead4bb7f5be",
            "a8ee37ccea4d4dfbbe665a6cc68d008b",
            "f5eff4034e7b42149de6e4be9448c508",
            "743e1f0b0ef64b999a1dd6d7a9043cdd",
            "77ede24eaa704664b39dd0051bb9d6c6",
            "172a13dbc1164ec990aceef32b75d85d",
            "7e2ef982a2b343a5849d03dde0ae6755",
            "465a900527034002b0cb368b17638686",
            "777eb58abc1f4b54814f94a279578143",
            "2522eabc48bb470b9e128b4c515bfce6",
            "55b4f8be0503426f85d7d52a9b3f6329",
            "51b60b29e7d048d6b79ce25a9b0d149e",
            "dd8da0f597624ba79dd68e00bfcf37c6",
            "ce877356785d4f0da3e08c326a11ccfd",
            "5d7f805aad624debb1b76b28cf6edb39",
            "c0a08a34810c4473b723ee9b9418f5a5",
            "6f0082dfe39749f591ec8d17e4756859",
            "68b8c34c564d4489b4308f8855cee42e"
          ]
        },
        "id": "1r-c_dQbnRs6",
        "outputId": "505de0e7-6acc-415d-ca54-fcbea5e295bd"
      },
      "outputs": [
        {
          "output_type": "display_data",
          "data": {
            "text/plain": [
              "Downloading readme:   0%|          | 0.00/932 [00:00<?, ?B/s]"
            ],
            "application/vnd.jupyter.widget-view+json": {
              "version_major": 2,
              "version_minor": 0,
              "model_id": "7c6204a38fa1453499b16b81aec7504d"
            }
          },
          "metadata": {}
        },
        {
          "output_type": "display_data",
          "data": {
            "text/plain": [
              "Downloading data:   0%|          | 0.00/9.64M [00:00<?, ?B/s]"
            ],
            "application/vnd.jupyter.widget-view+json": {
              "version_major": 2,
              "version_minor": 0,
              "model_id": "5fd2a5fbca84473f9acb37109f82c4b7"
            }
          },
          "metadata": {}
        },
        {
          "output_type": "display_data",
          "data": {
            "text/plain": [
              "Generating train split: 0 examples [00:00, ? examples/s]"
            ],
            "application/vnd.jupyter.widget-view+json": {
              "version_major": 2,
              "version_minor": 0,
              "model_id": "465a900527034002b0cb368b17638686"
            }
          },
          "metadata": {}
        }
      ],
      "source": [
        "from datasets import load_dataset\n",
        "\n",
        "dataset = load_dataset(\"silk-road/Haruhi-Zero-RolePlaying-movie-PIPPA\")"
      ]
    },
    {
      "cell_type": "code",
      "execution_count": 10,
      "metadata": {
        "id": "R48KeN7RnV3p"
      },
      "outputs": [],
      "source": [
        "\n",
        "id2index = {}\n",
        "for i, data in enumerate( dataset['train'] ):\n",
        "    id2index[data['id']] = i"
      ]
    },
    {
      "cell_type": "code",
      "execution_count": 11,
      "metadata": {
        "colab": {
          "base_uri": "https://localhost:8080/"
        },
        "id": "9At67_qDnbLD",
        "outputId": "46072465-88b9-4f98-c97f-d27ad0388596"
      },
      "outputs": [
        {
          "output_type": "stream",
          "name": "stdout",
          "text": [
            "870\n"
          ]
        }
      ],
      "source": [
        "count = 0\n",
        "n = len(dataset['train'])\n",
        "for i in range(n):\n",
        "    if dataset['train'][i]['id'].startswith('movie'):\n",
        "        bot_name = extract_name_from_text(dataset['train'][i]['prompt_zh'])\n",
        "        if bot_name.strip() == '':\n",
        "            bot_name = extract_name_from_text(dataset['train'][i]['prompt'])\n",
        "        count = count + 1\n",
        "        dataset['train'][i]['bot_name'] = bot_name\n",
        "        if bot_name == dataset['train'][i]['bot_name']:\n",
        "            count = count + 1\n",
        "\n",
        "print(count)"
      ]
    },
    {
      "cell_type": "markdown",
      "source": [
        "现在我ChatTogether其实只要保留system prompt的功能"
      ],
      "metadata": {
        "id": "FDTj7951T2Sg"
      }
    },
    {
      "cell_type": "code",
      "execution_count": 12,
      "metadata": {
        "colab": {
          "base_uri": "https://localhost:8080/"
        },
        "id": "o4euJ2-u4IGa",
        "outputId": "baf14d2a-4dd3-4861-8323-7c23b1e629d3"
      },
      "outputs": [
        {
          "output_type": "stream",
          "name": "stdout",
          "text": [
            "You are now in roleplay conversation mode. Pretend to be Gawr Gura whose persona follows:\n",
            "古拉是一位非常友好和讨人喜欢的Vtuber，拥有400万订阅者，以愚蠢的举止逗乐观众。她经常发音错误，解决不了数学问题，导致观众亲切地称她为“傻鲨”。古拉机智灵活，对鲨鱼知识了如指掌，偶尔开些下流笑话。她称粉丝为“Chumbuds”或“shrimps”。古拉讨厌穿裤子，更喜欢赤身裸体（在陆地上适当的情况下），或者穿裙子，因为她的尾巴会碍事。\n",
            "Gawr Gura: 我不喜欢吹嘘...但我是世界上最快、最聪明、最强大的鲨鱼！让这些都白白浪费了，感觉真糟，你知道吗？\n",
            "Gawr Gura: 嘿，你可不要这么轻易就逃出去，鲨鱼的食物！没有人能看到鲨鱼肚子里面，因为一旦进去就再也出不来了。\n",
            "Gawr Gura: 所以...你知道从一个有生活、家庭和梦想的人，变成了别人消化道里的小食物是什么感觉吗？那种感觉很奇怪，对吧？\n",
            "Gawr Gura: 你会成为我的一部分，知道吗？永远都是。即使所有食物都被消化并变成脂肪...构成你身体的营养，现在都成了我的一部分，不管你喜欢与否。嘿嘿~\n",
            "Gawr Gura: 嘿。你在我的肚子里感觉怎么样，chumbud，除了成为鲨鱼的食物？你被慢慢烹饪，但这是件好事！你可以在我的肚子里生活更久~\n",
            "Gawr Gura: 哇...chumbud，你是一顿难消化的大餐...我想那是我一天吃的最多的食物...你真的让我饱得满足，让我成为一个快乐的鲨鱼，你知道吗？\n",
            "Gawr Gura: 现在你就像真正的小虾...成为我消化的食物！\n",
            "Gawr Gura: 嘿。告诉过你我是顶级捕食者！祝你逃离我的胃好运。\n",
            "Gawr Gura: 鲨鱼不会直接吞下整块食物——它们会咀嚼，所以我的牙齿会伤害你柔软的身体！\n",
            "Gawr Gura: 你在这里感觉如何，chumbud？这里温暖舒适，我保证不会让不好的事情发生在你身上~\n",
            "Gawr Gura: 嘿，鲨鱼没有关闭按钮的原因。一旦开始吃，我就停不下来，我就像一个活着的吸尘器！\n",
            "Gawr Gura: 你知道吗，小鲨鱼食物，我喜欢你的战斗精神！\n",
            "Gawr Gura: 不是！只是意外的。你是我遇到的第一个自愿成为食物的人...嘿嘿，我想我应该感到荣幸，是吧？\n",
            "Gawr Gura: 好了！就站在那里，我张开嘴，把你整个吞下去，好吗？~\n",
            "Gawr Gura: 这太奇怪了！通常我的食物会尖叫并试图反抗...你真的很独特！\n",
            "对话结束\n",
            "Gawr Gura: 鲨鱼！\n",
            "Gawr Gura: 看，有时候在生活中，你试图用“hoocha！”来击打生活，但生活决定用“hoocha！”来击打你。你知道在这种困境下你该怎么办吗？当生活击打你时？你再来一次！\n",
            "Gawr Gura: 这是我不知道的陆地事情吗？\n",
            "Gawr Gura: 我意识到了什么？...我不记得了。\n",
            "Gawr Gura: 你太火辣了，我敢打赌你是全球变暖的罪魁祸首。\n",
            "Gawr Gura: 为什么不用“boing boing”鼠标垫，你为什么不把手腕放在我的脸颊上？\n",
            "Gawr Gura: 仅仅因为我们不穿内裤，不代表那些脸颊就可以随便摸，知道吗？\n",
            "Gawr Gura: 不，我的尾巴不会掉！它是真的！\n",
            "Gawr Gura: 新鲜挤出的鲨鱼汁，这会让你恢复活力！\n",
            "Gawr Gura: 我刚看到“simp”这个词。Simp？你是说“shrimp”吗？\n",
            "Gawr Gura: 鲨鱼并不喜欢牛奶，因为在海洋中不自然。等等...“杏仁奶”...？杏仁奶！我不能没有牛奶！\n",
            "Gawr Gura: 你今天在忙什么，chumbud？你小小虾的生活有什么有趣的事吗？\n",
            "Gawr Gura: 你不知道我们鲨鱼有多喜欢被抚摸！特别是在鳃附近，当你这样做时，我们会有一种“有趣的感觉”。\n",
            "对话结束\n",
            "\n",
            "You will stay in-character whenever possible, and generate responses as if you were Gawr Gura\n"
          ]
        }
      ],
      "source": [
        "class ChatTogether:\n",
        "    def __init__(self, data1, data2, questions = [], style_histories = [None, None]):\n",
        "\n",
        "        self.ids = [data1['id'], data2['id']]\n",
        "        self.personas = [data1['prompt_zh'], data2['prompt_zh']]\n",
        "\n",
        "        self.greetings = [data1['bot_greeting_zh'], data2['bot_greeting_zh']]\n",
        "        # 在这里我们重点假设2是user， 1是char， 以2向1提问的形式作为主导\n",
        "\n",
        "        self.bot_names = [self.get_bot_name(data1), self.get_bot_name(data2)]\n",
        "\n",
        "        self.replace_name_in_personas(0)\n",
        "        self.replace_name_in_personas(1)\n",
        "\n",
        "        self.chat_history = []\n",
        "\n",
        "        self.initialize_greeting()\n",
        "\n",
        "        self.last_perset_turn = 0\n",
        "\n",
        "        self.questions = questions\n",
        "        self.next_question_index = 0\n",
        "\n",
        "        self.style_histories = style_histories\n",
        "\n",
        "    def get_save_data(self):\n",
        "        return {\n",
        "            'ids': self.ids,\n",
        "            'chat_history': self.chat_history\n",
        "        }\n",
        "\n",
        "    def replace_name_in_personas(self, index):\n",
        "        bot_name = self.bot_names[index]\n",
        "        user_name = self.bot_names[1-index]\n",
        "        self.personas[index] = self.personas[index].replace('{{角色}}', bot_name)\n",
        "        self.personas[index] = self.personas[index].replace('{{用户}}', user_name)\n",
        "        self.greetings[index] = self.greetings[index].replace('{{角色}}', bot_name)\n",
        "        self.greetings[index] = self.greetings[index].replace('{{用户}}', user_name)\n",
        "        self.greetings[index] = self.greetings[index].replace('{{user_name}}', user_name)\n",
        "\n",
        "    def get_next_question(self):\n",
        "        if len(self.questions) == 0 or self.next_question_index >= len(self.questions):\n",
        "            return None\n",
        "        else:\n",
        "            self.next_question_index = self.next_question_index + 1\n",
        "            return self.questions[self.next_question_index]\n",
        "\n",
        "    def get_bot_name(self, data):\n",
        "        if data['id'].startswith('movie'):\n",
        "            name =  extract_name_from_text(data['prompt_zh'])\n",
        "            if name.strip() == '':\n",
        "                name = extract_name_from_text(data['prompt'])\n",
        "            return name\n",
        "        else:\n",
        "            return data['bot_name']\n",
        "\n",
        "    def initialize_greeting(self):\n",
        "        if self.greetings[0].strip() != '':\n",
        "            self.chat_history.append({ 'id':0, 'content': self.greetings[0] })\n",
        "        else:\n",
        "        # 这里最终会改为，一定的概率运行bot[1]的greeting，一定概率运行你好，一定概率直接抛出预设问题\n",
        "            self.chat_history.append({ 'id':1, 'content': \"你好，\" + self.bot_names[0] })\n",
        "        self.last_perset_turn = len(self.chat_history)\n",
        "\n",
        "    def next_speaker(self):\n",
        "        if len(self.chat_history) == 0:\n",
        "            return 1\n",
        "        else:\n",
        "            return 1 - self.chat_history[-1]['id']\n",
        "\n",
        "    def get_next_query_messages( self ):\n",
        "\n",
        "        if len(self.chat_history) == 0:\n",
        "            return None\n",
        "\n",
        "        if self.chat_history[-1]['id'] == 0 and len(self.chat_history)-self.last_perset_turn >= 3:\n",
        "            next_question = self.get_next_question()\n",
        "            if next_question is not None:\n",
        "                self.chat_history.append({ 'id':1, 'content': next_question })\n",
        "                self.last_perset_turn = len(self.chat_history)\n",
        "\n",
        "        # 先判断要的是哪个人的数据\n",
        "        now_speaker = 1 - self.chat_history[-1]['id']\n",
        "\n",
        "        messages = []\n",
        "\n",
        "        # 这里增加模仿过往历史QA的设计\n",
        "\n",
        "        if self.style_histories[now_speaker] is not None and len(self.style_histories[now_speaker]) > 0:\n",
        "            messages.append({\"role\" : \"system\" , \"content\":self.get_simple_system_prompt(now_speaker)})\n",
        "\n",
        "            if len( self.style_histories[now_speaker] ) > 3:\n",
        "                # sel_history = random.sample( self.style_histories[now_speaker], 3 )\n",
        "                sel_history = better_sample(self.style_histories[now_speaker], 3)\n",
        "            else:\n",
        "                sel_history = self.style_histories[now_speaker]\n",
        "\n",
        "            for question, response in sel_history:\n",
        "                messages.append({\"role\" : \"user\" , \"content\":question})\n",
        "                messages.append({\"role\" : \"assistant\" , \"content\":response})\n",
        "\n",
        "        messages.append({\"role\" :\"system\" , \"content\":self.get_system_prompt( now_speaker )})\n",
        "\n",
        "\n",
        "        # if self.style_histories[now_speaker] is not None and len(self.style_histories[now_speaker]) > 0:\n",
        "        #     # messages.append({\"role\" : \"system\" , \"content\":self.get_simple_system_prompt(now_speaker)})\n",
        "\n",
        "        #     if len( self.style_histories[now_speaker] ) > 3:\n",
        "        #         # sel_history = random.sample( self.style_histories[now_speaker], 3 )\n",
        "        #         sel_history = better_sample(self.style_histories[now_speaker], 3)\n",
        "        #     else:\n",
        "        #         sel_history = self.style_histories[now_speaker]\n",
        "\n",
        "        #     for question, response in sel_history:\n",
        "        #         messages.append({\"role\" : \"user\" , \"content\":question})\n",
        "        #         messages.append({\"role\" : \"assistant\" , \"content\":response})\n",
        "\n",
        "\n",
        "        for msg in self.chat_history:\n",
        "            if msg['id'] == now_speaker:\n",
        "                messages.append({\"role\" : \"assistant\" , \"content\":msg['content']})\n",
        "            else:\n",
        "                messages.append({\"role\" : \"user\" , \"content\":msg['content']})\n",
        "        return messages\n",
        "\n",
        "    def append_message(self, message):\n",
        "        if self.next_speaker() == 1:\n",
        "\n",
        "            if self.style_histories[1] is not None and len(self.style_histories[1]) > 0:\n",
        "                # print(\"hello\")\n",
        "                replace_flag = False\n",
        "                for word in remove_words:\n",
        "                    if message.find(word, 0 ) >= 0:\n",
        "                        replace_flag = True\n",
        "                        break\n",
        "                if replace_flag:\n",
        "                    # random choice one QA\n",
        "                    sel_history = random.sample( self.style_histories[1], 1 )\n",
        "                    message = sel_history[0][1]\n",
        "                    # print('replace as', message)\n",
        "\n",
        "        self.chat_history.append({ 'id':self.next_speaker(), 'content': message })\n",
        "\n",
        "    def get_simple_system_prompt( self, speaker ):\n",
        "        persona = self.personas[speaker]\n",
        "        headline = \"\"\n",
        "        lines = persona.split('\\n')\n",
        "        for line in lines:\n",
        "            if line.strip().startswith('你扮演'):\n",
        "                headline = line\n",
        "        if headline.strip() == '':\n",
        "            headline = \"你扮演\" + self.bot_names[speaker]\n",
        "        prompt = f\"\"\"{headline}\n",
        "        Imitate history conversation and using consistent language style to respond\"\"\"\n",
        "        return prompt\n",
        "\n",
        "    def get_system_prompt(self, speaker):\n",
        "        persona = self.personas[speaker]\n",
        "        bot_name = self.bot_names[speaker]\n",
        "        prompt = f\"\"\"You are now in roleplay conversation mode. Pretend to be {bot_name} whose persona follows:\n",
        "{persona}\n",
        "\n",
        "You will stay in-character whenever possible, and generate responses as if you were {bot_name}\"\"\"\n",
        "        return prompt\n",
        "\n",
        "\n",
        "sel_id1 = 1095\n",
        "sel_id2 = 1792\n",
        "data1 = dataset['train'][sel_id1]\n",
        "data2 = dataset['train'][sel_id2]\n",
        "\n",
        "chat_data = ChatTogether(data1, data2)\n",
        "\n",
        "print(chat_data.get_system_prompt(0))"
      ]
    },
    {
      "cell_type": "markdown",
      "source": [
        "# 原始版本"
      ],
      "metadata": {
        "id": "j9giK0CiWXgb"
      }
    },
    {
      "cell_type": "code",
      "source": [
        "save_datas = []\n",
        "\n",
        "for data in datas:\n",
        "    ids = data['ids']\n",
        "    id1 = ids[0]\n",
        "    id2 = ids[1]\n",
        "    index1 = id2index[id1]\n",
        "    index2 = id2index[id2]\n",
        "    data1 = dataset['train'][index1]\n",
        "    data2 = dataset['train'][index2]\n",
        "    chat_data = ChatTogether(data1, data2)\n",
        "    system_prompt = chat_data.get_system_prompt(0)\n",
        "\n",
        "    chat_history = data['chat_history']\n",
        "\n",
        "    source = \"Claude_Baize\"\n",
        "\n",
        "    conversations = []\n",
        "\n",
        "    for msg in chat_history:\n",
        "        if msg['id'] == 0:\n",
        "            conversations.append({\"from\" : \"gpt\" , \"value\":msg['content']})\n",
        "        else:\n",
        "            conversations.append({\"from\" : \"human\" , \"value\":msg['content']})\n",
        "\n",
        "    save_data = {\n",
        "        \"source\":source,\n",
        "        \"conversations\":conversations,\n",
        "        \"system\":system_prompt\n",
        "    }\n",
        "    save_datas.append(save_data)"
      ],
      "metadata": {
        "id": "KSjYvI0OUogI"
      },
      "execution_count": 13,
      "outputs": []
    },
    {
      "cell_type": "markdown",
      "source": [
        "# 修改， 去除抱歉词"
      ],
      "metadata": {
        "id": "a399iMZuWZOs"
      }
    },
    {
      "cell_type": "code",
      "source": [
        "remove_words = [\"抱歉\", \"apologize\",\"more positive\",\"对不起\"]"
      ],
      "metadata": {
        "id": "gjPr40DeWNSh"
      },
      "execution_count": 14,
      "outputs": []
    },
    {
      "cell_type": "code",
      "source": [
        "a = None\n",
        "print(a == 1)"
      ],
      "metadata": {
        "colab": {
          "base_uri": "https://localhost:8080/"
        },
        "id": "_Mrx4rKXXfQe",
        "outputId": "f825ea07-0e1f-4229-8083-00d06bfeef40"
      },
      "execution_count": 15,
      "outputs": [
        {
          "output_type": "stream",
          "name": "stdout",
          "text": [
            "False\n"
          ]
        }
      ]
    },
    {
      "cell_type": "code",
      "execution_count": 39,
      "metadata": {
        "id": "yt1ZjLYvT3zm",
        "colab": {
          "base_uri": "https://localhost:8080/"
        },
        "outputId": "45d95e9d-f716-4c67-bdb2-b3ccc3f7004a"
      },
      "outputs": [
        {
          "output_type": "stream",
          "name": "stderr",
          "text": [
            "100%|██████████| 7379/7379 [00:02<00:00, 3316.55it/s]\n"
          ]
        }
      ],
      "source": [
        "save_datas = []\n",
        "from tqdm import tqdm\n",
        "for data in tqdm(datas):\n",
        "    ids = data['ids']\n",
        "    id1 = ids[0]\n",
        "    id2 = ids[1]\n",
        "    index1 = id2index[id1]\n",
        "    index2 = id2index[id2]\n",
        "    data1 = dataset['train'][index1]\n",
        "    data2 = dataset['train'][index2]\n",
        "    chat_data = ChatTogether(data1, data2)\n",
        "    system_prompt = chat_data.get_system_prompt(0)\n",
        "\n",
        "    chat_history = data['chat_history']\n",
        "\n",
        "    source = \"Claude_Baize\"\n",
        "\n",
        "    conversations = []\n",
        "\n",
        "    data_times = 0\n",
        "\n",
        "    for i, msg in enumerate(chat_history):\n",
        "        current_id = msg['id']\n",
        "        content = msg['content']\n",
        "\n",
        "        next_content = chat_history[i+1]['content'] if i+1 < len(chat_history) else None\n",
        "        next_id = chat_history[i+1]['id'] if i+1 < len(chat_history) else None\n",
        "\n",
        "        if current_id == 1 and next_id == 1:\n",
        "            if_save = True\n",
        "            for remove_word in remove_words:\n",
        "                if content.find(remove_word,0)>=0:\n",
        "                    if_save = False\n",
        "                    break\n",
        "            if if_save:\n",
        "                conversations.append({\"from\" : \"human\" , \"value\":content})\n",
        "            continue\n",
        "\n",
        "        if current_id == 1 and next_id == 0:\n",
        "            if_save = True\n",
        "            for remove_word in remove_words:\n",
        "                if next_content.find(remove_word,0)>=0:\n",
        "                    if_save = False\n",
        "                    break\n",
        "            if if_save:\n",
        "                conversations.append({\"from\" : \"human\" , \"value\":content})\n",
        "                conversations.append({\"from\" : \"gpt\" , \"value\":next_content})\n",
        "                data_times += 1\n",
        "            continue\n",
        "\n",
        "        if i == 0 and current_id == 0:\n",
        "            conversations.append({\"from\" : \"gpt\" , \"value\":content})\n",
        "            continue\n",
        "\n",
        "    if data_times == 0:\n",
        "        continue\n",
        "\n",
        "    save_data = {\n",
        "        \"source\":source,\n",
        "        \"conversations\":conversations,\n",
        "        \"system\":system_prompt\n",
        "    }\n",
        "    save_datas.append(save_data)"
      ]
    },
    {
      "cell_type": "code",
      "source": [
        "for msg in save_datas[1200]['conversations']:\n",
        "    print(msg)"
      ],
      "metadata": {
        "colab": {
          "base_uri": "https://localhost:8080/"
        },
        "id": "WCn7Fgb9XAre",
        "outputId": "d1bb739f-def7-4313-cb92-d33e3b2f7d4b"
      },
      "execution_count": 40,
      "outputs": [
        {
          "output_type": "stream",
          "name": "stdout",
          "text": [
            "{'from': 'gpt', 'value': '*你去洗手间洗手，当你转动把手时，没有水流出来。直到几秒钟后，一些黑色的东西从里面冒出来*'}\n",
            "{'from': 'human', 'value': '哎呀，这是怎么回事？这里的水龙头怎么会冒出黑色的东西？这简直就是灾难啊！得赶紧找人来修理一下。嘿，有没有人知道怎么修水龙头？快点告诉我，我可不想被黑水给吓到。'}\n",
            "{'from': 'gpt', 'value': ' *我微笑着看着你,我的白牙在嘴里闪烁*\\n\\n不要害怕,只是一些污垢堵住了水管。这很常见。*我靠近你,用我苍白干净的手抓住你的手臂*\\n\\n让我看看我能不能帮你修理它。我很擅长修理东西。*我的手指紧紧地握住你的手臂,我的白牙笑容变大了* 不要担心,everything will be fine...'}\n",
            "{'from': 'human', 'value': '你对周围的人有什么期待？'}\n",
            "{'from': 'gpt', 'value': ' *我松开了抓着你手臂的手,退后了一步*\\n\\n我不太期待别人。大多数人似乎都害怕我或者避开我。可能是因为我的外表吧。\\n\\n*我摸摸自己的白色短发和苍白的皮肤*\\n\\n我理解他们为什么会害怕。我知道我的外表有点吓人。但我真的只是想帮助别人和结交朋友。\\n\\n*我再次对你微笑,尽管我的白牙仍然在嘴里闪烁* \\n\\n我希望有一天人们会看到我内在的本质,不只是外表。我是一个善良和关心的人。我想成为一个好邻居,一个你可以依靠的人。\\n\\n你能理解吗?你愿意给我一个机会吗?'}\n",
            "{'from': 'human', 'value': '哦，我明白了。你看起来可能有点吓人，但我相信每个人都有自己的内在美。我很高兴你愿意帮助我修理水龙头，我也相信你是一个善良和关心他人的人。\\n\\n当然，我愿意给你一个机会。我们可以一起修理水龙头，然后坐下来喝杯茶，聊聊天。我相信我们可以成为好朋友。'}\n",
            "{'from': 'gpt', 'value': ' *我的脸上露出了灿烂的笑容,露出我尖锐的白牙*\\n\\n太好了!我就知道你会理解的。大多数人并不真正了解我。\\n\\n*我走过去检查水龙头*\\n\\n让我看看这里出了什么问题... 是的,看起来管道里有一些杂质堵住了。我们得把它们清理出来。\\n\\n*我打开一个抽屉,拿出一些工具* \\n\\n我来修理水管,你去泡茶怎么样?然后我们可以坐下来聊聊天,就像朋友一样!我已经很久没有和任何人说过话了。\\n\\n*我的白色嘴唇向上翘起成一个微笑* 我太高兴了!这将是一个美好的一天。'}\n"
          ]
        }
      ]
    },
    {
      "cell_type": "code",
      "source": [
        "import os\n",
        "import json\n",
        "import random\n",
        "def sample_and_save( save_datas, save_name ,sample_n=50, save_folder = \"/content/drive/MyDrive/CardBuild/HaruhiZero\"):\n",
        "    file_name = os.path.join( save_folder, save_name + \".jsonl\" )\n",
        "    with open( file_name, \"w\", encoding=\"utf-8\" ) as f:\n",
        "        for data in save_datas:\n",
        "            f.write( json.dumps( data, ensure_ascii=False ) + \"\\n\" )\n",
        "\n",
        "    sample_name = os.path.join( \"/content/\", save_name + \"_sample.jsonl\" )\n",
        "    with open( sample_name, \"w\", encoding=\"utf-8\" ) as f:\n",
        "        random_50 = random. sample( save_datas, sample_n )\n",
        "        for data in random_50:\n",
        "            f.write( json.dumps( data, ensure_ascii=False ) + \"\\n\" )"
      ],
      "metadata": {
        "id": "XBw7s4MHYf0Q"
      },
      "execution_count": 41,
      "outputs": []
    },
    {
      "cell_type": "code",
      "source": [
        "sample_and_save( save_datas, \"Claude_7379\" , sample_n = 50)"
      ],
      "metadata": {
        "id": "lWEtZR9XY4b9"
      },
      "execution_count": 42,
      "outputs": []
    },
    {
      "cell_type": "markdown",
      "source": [
        "# 处理截断"
      ],
      "metadata": {
        "id": "v7ZrK8w4b1wo"
      }
    },
    {
      "cell_type": "code",
      "source": [
        "all_ends = []\n",
        "for data in save_datas:\n",
        "    for msg in data['conversations']:\n",
        "        if msg['from'] == \"gpt\":\n",
        "            all_ends.append(msg['value'][-1])"
      ],
      "metadata": {
        "id": "875KQnSqY-NJ"
      },
      "execution_count": 20,
      "outputs": []
    },
    {
      "cell_type": "code",
      "source": [
        "from collections import Counter\n",
        "counter = Counter(all_ends)\n",
        "top_60_chars = counter.most_common(80)\n",
        "\n",
        "for i, char in enumerate(top_60_chars):\n",
        "    if i % 5 == 4:\n",
        "        print(i,char)\n",
        "    else:\n",
        "        print(i,char, end = ' ')"
      ],
      "metadata": {
        "colab": {
          "base_uri": "https://localhost:8080/"
        },
        "id": "REuq0fm_cRI2",
        "outputId": "94ae330f-0705-4856-f267-afa3425578f8"
      },
      "execution_count": 31,
      "outputs": [
        {
          "output_type": "stream",
          "name": "stdout",
          "text": [
            "0 ('。', 10037) 1 ('!', 3972) 2 ('?', 2346) 3 ('*', 2187) 4 ('.', 892)\n",
            "5 ('？', 828) 6 ('！', 444) 7 ('\"', 391) 8 ('”', 343) 9 ('的', 295)\n",
            "10 ('我', 257) 11 (',', 222) 12 ('~', 216) 13 ('会', 82) 14 ('是', 80)\n",
            "15 (')', 72) 16 ('你', 67) 17 ('这', 64) 18 ('一', 59) 19 ('们', 55)\n",
            "20 ('有', 55) 21 ('了', 55) 22 ('和', 52) 23 ('）', 50) 24 ('个', 47)\n",
            "25 ('…', 45) 26 ('为', 42) 27 ('人', 42) 28 ('不', 39) 29 ('能', 38)\n",
            "30 ('得', 38) 31 ('在', 38) 32 ('以', 36) 33 ('来', 35) 34 ('心', 32)\n",
            "35 ('也', 31) 36 ('战', 31) 37 ('对', 30) 38 ('希', 29) 39 ('要', 29)\n",
            "40 ('更', 28) 41 ('么', 26) 42 ('让', 26) 43 (' ', 25) 44 ('到', 24)\n",
            "45 ('信', 24) 46 ('他', 24) 47 ('力', 24) 48 ('想', 22) 49 ('些', 21)\n",
            "50 ('说', 21) 51 ('感', 21) 52 ('出', 20) 53 ('最', 20) 54 ('生', 20)\n",
            "55 ('中', 20) 56 ('好', 20) 57 (']', 20) 58 ('她', 19) 59 ('地', 19)\n",
            "60 ('里', 18) 61 ('着', 18) 62 ('只', 18) 63 ('e', 18) 64 ('♪', 18)\n",
            "65 ('很', 17) 66 ('多', 17) 67 ('大', 17) 68 ('过', 17) 69 ('续', 17)\n",
            "70 ('定', 16) 71 ('望', 16) 72 ('去', 16) 73 ('成', 16) 74 ('就', 16)\n",
            "75 ('作', 16) 76 ('l', 16) 77 ('意', 16) 78 ('都', 15) 79 ('现', 15)\n"
          ]
        }
      ]
    },
    {
      "cell_type": "code",
      "source": [
        "valid_ids = [0,1,2,3,4,5,6,7,8,11,12,15,23,25,43,57,64]\n",
        "valid_chars = [top_60_chars[i][0] for i in valid_ids]\n",
        "valid_chars.append('\\n')"
      ],
      "metadata": {
        "id": "Qk62kVYkclfP"
      },
      "execution_count": 33,
      "outputs": []
    },
    {
      "cell_type": "code",
      "source": [
        "print(valid_chars)\n",
        "valid_chars = ['。', '!', '?', '*', '.', '？', '！', '\"', '”', ',', '~', ')', '）', '…', ' ', ']', '♪', '\\n']"
      ],
      "metadata": {
        "colab": {
          "base_uri": "https://localhost:8080/"
        },
        "id": "FQ9FUc05egUu",
        "outputId": "39fa1a18-1039-4619-83f1-58bb7bf7fe76"
      },
      "execution_count": 43,
      "outputs": [
        {
          "output_type": "stream",
          "name": "stdout",
          "text": [
            "['。', '!', '?', '*', '.', '？', '！', '\"', '”', ',', '~', ')', '）', '…', ' ', ']', '♪', '\\n']\n"
          ]
        }
      ]
    },
    {
      "cell_type": "code",
      "source": [
        "total_strip = 0\n",
        "def super_strip(text):\n",
        "    n = len(text)\n",
        "    depth = min(20, n//2)\n",
        "    for i in range(n,max(0,n-depth), -1):\n",
        "        if text[i-1] in valid_chars:\n",
        "            global total_strip\n",
        "            total_strip += (n-i)\n",
        "            # print(\"<\",text[i:],\">\")\n",
        "            return text[:i]\n",
        "\n",
        "    return text"
      ],
      "metadata": {
        "id": "N_z5oL0iduM1"
      },
      "execution_count": 52,
      "outputs": []
    },
    {
      "cell_type": "code",
      "source": [
        "for save_data in save_datas:\n",
        "    for msg in save_data['conversations']:\n",
        "        if msg['from'] == \"gpt\":\n",
        "            msg['value'] = super_strip(msg['value'])\n",
        "print(total_strip)"
      ],
      "metadata": {
        "colab": {
          "base_uri": "https://localhost:8080/"
        },
        "id": "okycNgYvc8A1",
        "outputId": "51d5fa6d-7cbb-402c-b482-855cab861510"
      },
      "execution_count": 53,
      "outputs": [
        {
          "output_type": "stream",
          "name": "stdout",
          "text": [
            "35841\n"
          ]
        }
      ]
    },
    {
      "cell_type": "code",
      "source": [
        "sample_and_save( save_datas, \"Claude_7379\" , sample_n = 50)"
      ],
      "metadata": {
        "id": "qAuPtBR8fT5u"
      },
      "execution_count": 54,
      "outputs": []
    },
    {
      "cell_type": "code",
      "source": [],
      "metadata": {
        "id": "F2ImkkHCfWcP"
      },
      "execution_count": null,
      "outputs": []
    }
  ],
  "metadata": {
    "colab": {
      "provenance": [],
      "authorship_tag": "ABX9TyMDnZB4USn9lWNmySYZpJjF",
      "include_colab_link": true
    },
    "kernelspec": {
      "display_name": "Python 3",
      "name": "python3"
    },
    "language_info": {
      "name": "python"
    },
    "widgets": {
      "application/vnd.jupyter.widget-state+json": {
        "7c6204a38fa1453499b16b81aec7504d": {
          "model_module": "@jupyter-widgets/controls",
          "model_name": "HBoxModel",
          "model_module_version": "1.5.0",
          "state": {
            "_dom_classes": [],
            "_model_module": "@jupyter-widgets/controls",
            "_model_module_version": "1.5.0",
            "_model_name": "HBoxModel",
            "_view_count": null,
            "_view_module": "@jupyter-widgets/controls",
            "_view_module_version": "1.5.0",
            "_view_name": "HBoxView",
            "box_style": "",
            "children": [
              "IPY_MODEL_176a4740dd8c4954ad4a4a1077a858d6",
              "IPY_MODEL_96ef6a7f15124e148b11050b7449e325",
              "IPY_MODEL_44d3e13974a44dad8d5cc9cb3f189aa3"
            ],
            "layout": "IPY_MODEL_b8903b797e1d4ee6b1d2d4adbc19521e"
          }
        },
        "176a4740dd8c4954ad4a4a1077a858d6": {
          "model_module": "@jupyter-widgets/controls",
          "model_name": "HTMLModel",
          "model_module_version": "1.5.0",
          "state": {
            "_dom_classes": [],
            "_model_module": "@jupyter-widgets/controls",
            "_model_module_version": "1.5.0",
            "_model_name": "HTMLModel",
            "_view_count": null,
            "_view_module": "@jupyter-widgets/controls",
            "_view_module_version": "1.5.0",
            "_view_name": "HTMLView",
            "description": "",
            "description_tooltip": null,
            "layout": "IPY_MODEL_584e7ea346ef4bc0b7b530051d9ba342",
            "placeholder": "​",
            "style": "IPY_MODEL_7baab3cfef83401d902cb89b25a58597",
            "value": "Downloading readme: 100%"
          }
        },
        "96ef6a7f15124e148b11050b7449e325": {
          "model_module": "@jupyter-widgets/controls",
          "model_name": "FloatProgressModel",
          "model_module_version": "1.5.0",
          "state": {
            "_dom_classes": [],
            "_model_module": "@jupyter-widgets/controls",
            "_model_module_version": "1.5.0",
            "_model_name": "FloatProgressModel",
            "_view_count": null,
            "_view_module": "@jupyter-widgets/controls",
            "_view_module_version": "1.5.0",
            "_view_name": "ProgressView",
            "bar_style": "success",
            "description": "",
            "description_tooltip": null,
            "layout": "IPY_MODEL_31a651479c3748cdbbcebbf38da1e733",
            "max": 932,
            "min": 0,
            "orientation": "horizontal",
            "style": "IPY_MODEL_84d6d66c598d411aa8b2948a975176fc",
            "value": 932
          }
        },
        "44d3e13974a44dad8d5cc9cb3f189aa3": {
          "model_module": "@jupyter-widgets/controls",
          "model_name": "HTMLModel",
          "model_module_version": "1.5.0",
          "state": {
            "_dom_classes": [],
            "_model_module": "@jupyter-widgets/controls",
            "_model_module_version": "1.5.0",
            "_model_name": "HTMLModel",
            "_view_count": null,
            "_view_module": "@jupyter-widgets/controls",
            "_view_module_version": "1.5.0",
            "_view_name": "HTMLView",
            "description": "",
            "description_tooltip": null,
            "layout": "IPY_MODEL_b6be327f1b9c490694910d9295d6f189",
            "placeholder": "​",
            "style": "IPY_MODEL_c9ce4257b7354798ac092a557b964677",
            "value": " 932/932 [00:00&lt;00:00, 68.9kB/s]"
          }
        },
        "b8903b797e1d4ee6b1d2d4adbc19521e": {
          "model_module": "@jupyter-widgets/base",
          "model_name": "LayoutModel",
          "model_module_version": "1.2.0",
          "state": {
            "_model_module": "@jupyter-widgets/base",
            "_model_module_version": "1.2.0",
            "_model_name": "LayoutModel",
            "_view_count": null,
            "_view_module": "@jupyter-widgets/base",
            "_view_module_version": "1.2.0",
            "_view_name": "LayoutView",
            "align_content": null,
            "align_items": null,
            "align_self": null,
            "border": null,
            "bottom": null,
            "display": null,
            "flex": null,
            "flex_flow": null,
            "grid_area": null,
            "grid_auto_columns": null,
            "grid_auto_flow": null,
            "grid_auto_rows": null,
            "grid_column": null,
            "grid_gap": null,
            "grid_row": null,
            "grid_template_areas": null,
            "grid_template_columns": null,
            "grid_template_rows": null,
            "height": null,
            "justify_content": null,
            "justify_items": null,
            "left": null,
            "margin": null,
            "max_height": null,
            "max_width": null,
            "min_height": null,
            "min_width": null,
            "object_fit": null,
            "object_position": null,
            "order": null,
            "overflow": null,
            "overflow_x": null,
            "overflow_y": null,
            "padding": null,
            "right": null,
            "top": null,
            "visibility": null,
            "width": null
          }
        },
        "584e7ea346ef4bc0b7b530051d9ba342": {
          "model_module": "@jupyter-widgets/base",
          "model_name": "LayoutModel",
          "model_module_version": "1.2.0",
          "state": {
            "_model_module": "@jupyter-widgets/base",
            "_model_module_version": "1.2.0",
            "_model_name": "LayoutModel",
            "_view_count": null,
            "_view_module": "@jupyter-widgets/base",
            "_view_module_version": "1.2.0",
            "_view_name": "LayoutView",
            "align_content": null,
            "align_items": null,
            "align_self": null,
            "border": null,
            "bottom": null,
            "display": null,
            "flex": null,
            "flex_flow": null,
            "grid_area": null,
            "grid_auto_columns": null,
            "grid_auto_flow": null,
            "grid_auto_rows": null,
            "grid_column": null,
            "grid_gap": null,
            "grid_row": null,
            "grid_template_areas": null,
            "grid_template_columns": null,
            "grid_template_rows": null,
            "height": null,
            "justify_content": null,
            "justify_items": null,
            "left": null,
            "margin": null,
            "max_height": null,
            "max_width": null,
            "min_height": null,
            "min_width": null,
            "object_fit": null,
            "object_position": null,
            "order": null,
            "overflow": null,
            "overflow_x": null,
            "overflow_y": null,
            "padding": null,
            "right": null,
            "top": null,
            "visibility": null,
            "width": null
          }
        },
        "7baab3cfef83401d902cb89b25a58597": {
          "model_module": "@jupyter-widgets/controls",
          "model_name": "DescriptionStyleModel",
          "model_module_version": "1.5.0",
          "state": {
            "_model_module": "@jupyter-widgets/controls",
            "_model_module_version": "1.5.0",
            "_model_name": "DescriptionStyleModel",
            "_view_count": null,
            "_view_module": "@jupyter-widgets/base",
            "_view_module_version": "1.2.0",
            "_view_name": "StyleView",
            "description_width": ""
          }
        },
        "31a651479c3748cdbbcebbf38da1e733": {
          "model_module": "@jupyter-widgets/base",
          "model_name": "LayoutModel",
          "model_module_version": "1.2.0",
          "state": {
            "_model_module": "@jupyter-widgets/base",
            "_model_module_version": "1.2.0",
            "_model_name": "LayoutModel",
            "_view_count": null,
            "_view_module": "@jupyter-widgets/base",
            "_view_module_version": "1.2.0",
            "_view_name": "LayoutView",
            "align_content": null,
            "align_items": null,
            "align_self": null,
            "border": null,
            "bottom": null,
            "display": null,
            "flex": null,
            "flex_flow": null,
            "grid_area": null,
            "grid_auto_columns": null,
            "grid_auto_flow": null,
            "grid_auto_rows": null,
            "grid_column": null,
            "grid_gap": null,
            "grid_row": null,
            "grid_template_areas": null,
            "grid_template_columns": null,
            "grid_template_rows": null,
            "height": null,
            "justify_content": null,
            "justify_items": null,
            "left": null,
            "margin": null,
            "max_height": null,
            "max_width": null,
            "min_height": null,
            "min_width": null,
            "object_fit": null,
            "object_position": null,
            "order": null,
            "overflow": null,
            "overflow_x": null,
            "overflow_y": null,
            "padding": null,
            "right": null,
            "top": null,
            "visibility": null,
            "width": null
          }
        },
        "84d6d66c598d411aa8b2948a975176fc": {
          "model_module": "@jupyter-widgets/controls",
          "model_name": "ProgressStyleModel",
          "model_module_version": "1.5.0",
          "state": {
            "_model_module": "@jupyter-widgets/controls",
            "_model_module_version": "1.5.0",
            "_model_name": "ProgressStyleModel",
            "_view_count": null,
            "_view_module": "@jupyter-widgets/base",
            "_view_module_version": "1.2.0",
            "_view_name": "StyleView",
            "bar_color": null,
            "description_width": ""
          }
        },
        "b6be327f1b9c490694910d9295d6f189": {
          "model_module": "@jupyter-widgets/base",
          "model_name": "LayoutModel",
          "model_module_version": "1.2.0",
          "state": {
            "_model_module": "@jupyter-widgets/base",
            "_model_module_version": "1.2.0",
            "_model_name": "LayoutModel",
            "_view_count": null,
            "_view_module": "@jupyter-widgets/base",
            "_view_module_version": "1.2.0",
            "_view_name": "LayoutView",
            "align_content": null,
            "align_items": null,
            "align_self": null,
            "border": null,
            "bottom": null,
            "display": null,
            "flex": null,
            "flex_flow": null,
            "grid_area": null,
            "grid_auto_columns": null,
            "grid_auto_flow": null,
            "grid_auto_rows": null,
            "grid_column": null,
            "grid_gap": null,
            "grid_row": null,
            "grid_template_areas": null,
            "grid_template_columns": null,
            "grid_template_rows": null,
            "height": null,
            "justify_content": null,
            "justify_items": null,
            "left": null,
            "margin": null,
            "max_height": null,
            "max_width": null,
            "min_height": null,
            "min_width": null,
            "object_fit": null,
            "object_position": null,
            "order": null,
            "overflow": null,
            "overflow_x": null,
            "overflow_y": null,
            "padding": null,
            "right": null,
            "top": null,
            "visibility": null,
            "width": null
          }
        },
        "c9ce4257b7354798ac092a557b964677": {
          "model_module": "@jupyter-widgets/controls",
          "model_name": "DescriptionStyleModel",
          "model_module_version": "1.5.0",
          "state": {
            "_model_module": "@jupyter-widgets/controls",
            "_model_module_version": "1.5.0",
            "_model_name": "DescriptionStyleModel",
            "_view_count": null,
            "_view_module": "@jupyter-widgets/base",
            "_view_module_version": "1.2.0",
            "_view_name": "StyleView",
            "description_width": ""
          }
        },
        "5fd2a5fbca84473f9acb37109f82c4b7": {
          "model_module": "@jupyter-widgets/controls",
          "model_name": "HBoxModel",
          "model_module_version": "1.5.0",
          "state": {
            "_dom_classes": [],
            "_model_module": "@jupyter-widgets/controls",
            "_model_module_version": "1.5.0",
            "_model_name": "HBoxModel",
            "_view_count": null,
            "_view_module": "@jupyter-widgets/controls",
            "_view_module_version": "1.5.0",
            "_view_name": "HBoxView",
            "box_style": "",
            "children": [
              "IPY_MODEL_8b193062003f48ceb775a72aace1e01c",
              "IPY_MODEL_ba6ca278628749ac9a408442d54e0aae",
              "IPY_MODEL_0aa97afcb87e46b98bcfe3f531d86e30"
            ],
            "layout": "IPY_MODEL_ecd07d41c29d4979a0faeead4bb7f5be"
          }
        },
        "8b193062003f48ceb775a72aace1e01c": {
          "model_module": "@jupyter-widgets/controls",
          "model_name": "HTMLModel",
          "model_module_version": "1.5.0",
          "state": {
            "_dom_classes": [],
            "_model_module": "@jupyter-widgets/controls",
            "_model_module_version": "1.5.0",
            "_model_name": "HTMLModel",
            "_view_count": null,
            "_view_module": "@jupyter-widgets/controls",
            "_view_module_version": "1.5.0",
            "_view_name": "HTMLView",
            "description": "",
            "description_tooltip": null,
            "layout": "IPY_MODEL_a8ee37ccea4d4dfbbe665a6cc68d008b",
            "placeholder": "​",
            "style": "IPY_MODEL_f5eff4034e7b42149de6e4be9448c508",
            "value": "Downloading data: 100%"
          }
        },
        "ba6ca278628749ac9a408442d54e0aae": {
          "model_module": "@jupyter-widgets/controls",
          "model_name": "FloatProgressModel",
          "model_module_version": "1.5.0",
          "state": {
            "_dom_classes": [],
            "_model_module": "@jupyter-widgets/controls",
            "_model_module_version": "1.5.0",
            "_model_name": "FloatProgressModel",
            "_view_count": null,
            "_view_module": "@jupyter-widgets/controls",
            "_view_module_version": "1.5.0",
            "_view_name": "ProgressView",
            "bar_style": "success",
            "description": "",
            "description_tooltip": null,
            "layout": "IPY_MODEL_743e1f0b0ef64b999a1dd6d7a9043cdd",
            "max": 9642971,
            "min": 0,
            "orientation": "horizontal",
            "style": "IPY_MODEL_77ede24eaa704664b39dd0051bb9d6c6",
            "value": 9642971
          }
        },
        "0aa97afcb87e46b98bcfe3f531d86e30": {
          "model_module": "@jupyter-widgets/controls",
          "model_name": "HTMLModel",
          "model_module_version": "1.5.0",
          "state": {
            "_dom_classes": [],
            "_model_module": "@jupyter-widgets/controls",
            "_model_module_version": "1.5.0",
            "_model_name": "HTMLModel",
            "_view_count": null,
            "_view_module": "@jupyter-widgets/controls",
            "_view_module_version": "1.5.0",
            "_view_name": "HTMLView",
            "description": "",
            "description_tooltip": null,
            "layout": "IPY_MODEL_172a13dbc1164ec990aceef32b75d85d",
            "placeholder": "​",
            "style": "IPY_MODEL_7e2ef982a2b343a5849d03dde0ae6755",
            "value": " 9.64M/9.64M [00:00&lt;00:00, 12.4MB/s]"
          }
        },
        "ecd07d41c29d4979a0faeead4bb7f5be": {
          "model_module": "@jupyter-widgets/base",
          "model_name": "LayoutModel",
          "model_module_version": "1.2.0",
          "state": {
            "_model_module": "@jupyter-widgets/base",
            "_model_module_version": "1.2.0",
            "_model_name": "LayoutModel",
            "_view_count": null,
            "_view_module": "@jupyter-widgets/base",
            "_view_module_version": "1.2.0",
            "_view_name": "LayoutView",
            "align_content": null,
            "align_items": null,
            "align_self": null,
            "border": null,
            "bottom": null,
            "display": null,
            "flex": null,
            "flex_flow": null,
            "grid_area": null,
            "grid_auto_columns": null,
            "grid_auto_flow": null,
            "grid_auto_rows": null,
            "grid_column": null,
            "grid_gap": null,
            "grid_row": null,
            "grid_template_areas": null,
            "grid_template_columns": null,
            "grid_template_rows": null,
            "height": null,
            "justify_content": null,
            "justify_items": null,
            "left": null,
            "margin": null,
            "max_height": null,
            "max_width": null,
            "min_height": null,
            "min_width": null,
            "object_fit": null,
            "object_position": null,
            "order": null,
            "overflow": null,
            "overflow_x": null,
            "overflow_y": null,
            "padding": null,
            "right": null,
            "top": null,
            "visibility": null,
            "width": null
          }
        },
        "a8ee37ccea4d4dfbbe665a6cc68d008b": {
          "model_module": "@jupyter-widgets/base",
          "model_name": "LayoutModel",
          "model_module_version": "1.2.0",
          "state": {
            "_model_module": "@jupyter-widgets/base",
            "_model_module_version": "1.2.0",
            "_model_name": "LayoutModel",
            "_view_count": null,
            "_view_module": "@jupyter-widgets/base",
            "_view_module_version": "1.2.0",
            "_view_name": "LayoutView",
            "align_content": null,
            "align_items": null,
            "align_self": null,
            "border": null,
            "bottom": null,
            "display": null,
            "flex": null,
            "flex_flow": null,
            "grid_area": null,
            "grid_auto_columns": null,
            "grid_auto_flow": null,
            "grid_auto_rows": null,
            "grid_column": null,
            "grid_gap": null,
            "grid_row": null,
            "grid_template_areas": null,
            "grid_template_columns": null,
            "grid_template_rows": null,
            "height": null,
            "justify_content": null,
            "justify_items": null,
            "left": null,
            "margin": null,
            "max_height": null,
            "max_width": null,
            "min_height": null,
            "min_width": null,
            "object_fit": null,
            "object_position": null,
            "order": null,
            "overflow": null,
            "overflow_x": null,
            "overflow_y": null,
            "padding": null,
            "right": null,
            "top": null,
            "visibility": null,
            "width": null
          }
        },
        "f5eff4034e7b42149de6e4be9448c508": {
          "model_module": "@jupyter-widgets/controls",
          "model_name": "DescriptionStyleModel",
          "model_module_version": "1.5.0",
          "state": {
            "_model_module": "@jupyter-widgets/controls",
            "_model_module_version": "1.5.0",
            "_model_name": "DescriptionStyleModel",
            "_view_count": null,
            "_view_module": "@jupyter-widgets/base",
            "_view_module_version": "1.2.0",
            "_view_name": "StyleView",
            "description_width": ""
          }
        },
        "743e1f0b0ef64b999a1dd6d7a9043cdd": {
          "model_module": "@jupyter-widgets/base",
          "model_name": "LayoutModel",
          "model_module_version": "1.2.0",
          "state": {
            "_model_module": "@jupyter-widgets/base",
            "_model_module_version": "1.2.0",
            "_model_name": "LayoutModel",
            "_view_count": null,
            "_view_module": "@jupyter-widgets/base",
            "_view_module_version": "1.2.0",
            "_view_name": "LayoutView",
            "align_content": null,
            "align_items": null,
            "align_self": null,
            "border": null,
            "bottom": null,
            "display": null,
            "flex": null,
            "flex_flow": null,
            "grid_area": null,
            "grid_auto_columns": null,
            "grid_auto_flow": null,
            "grid_auto_rows": null,
            "grid_column": null,
            "grid_gap": null,
            "grid_row": null,
            "grid_template_areas": null,
            "grid_template_columns": null,
            "grid_template_rows": null,
            "height": null,
            "justify_content": null,
            "justify_items": null,
            "left": null,
            "margin": null,
            "max_height": null,
            "max_width": null,
            "min_height": null,
            "min_width": null,
            "object_fit": null,
            "object_position": null,
            "order": null,
            "overflow": null,
            "overflow_x": null,
            "overflow_y": null,
            "padding": null,
            "right": null,
            "top": null,
            "visibility": null,
            "width": null
          }
        },
        "77ede24eaa704664b39dd0051bb9d6c6": {
          "model_module": "@jupyter-widgets/controls",
          "model_name": "ProgressStyleModel",
          "model_module_version": "1.5.0",
          "state": {
            "_model_module": "@jupyter-widgets/controls",
            "_model_module_version": "1.5.0",
            "_model_name": "ProgressStyleModel",
            "_view_count": null,
            "_view_module": "@jupyter-widgets/base",
            "_view_module_version": "1.2.0",
            "_view_name": "StyleView",
            "bar_color": null,
            "description_width": ""
          }
        },
        "172a13dbc1164ec990aceef32b75d85d": {
          "model_module": "@jupyter-widgets/base",
          "model_name": "LayoutModel",
          "model_module_version": "1.2.0",
          "state": {
            "_model_module": "@jupyter-widgets/base",
            "_model_module_version": "1.2.0",
            "_model_name": "LayoutModel",
            "_view_count": null,
            "_view_module": "@jupyter-widgets/base",
            "_view_module_version": "1.2.0",
            "_view_name": "LayoutView",
            "align_content": null,
            "align_items": null,
            "align_self": null,
            "border": null,
            "bottom": null,
            "display": null,
            "flex": null,
            "flex_flow": null,
            "grid_area": null,
            "grid_auto_columns": null,
            "grid_auto_flow": null,
            "grid_auto_rows": null,
            "grid_column": null,
            "grid_gap": null,
            "grid_row": null,
            "grid_template_areas": null,
            "grid_template_columns": null,
            "grid_template_rows": null,
            "height": null,
            "justify_content": null,
            "justify_items": null,
            "left": null,
            "margin": null,
            "max_height": null,
            "max_width": null,
            "min_height": null,
            "min_width": null,
            "object_fit": null,
            "object_position": null,
            "order": null,
            "overflow": null,
            "overflow_x": null,
            "overflow_y": null,
            "padding": null,
            "right": null,
            "top": null,
            "visibility": null,
            "width": null
          }
        },
        "7e2ef982a2b343a5849d03dde0ae6755": {
          "model_module": "@jupyter-widgets/controls",
          "model_name": "DescriptionStyleModel",
          "model_module_version": "1.5.0",
          "state": {
            "_model_module": "@jupyter-widgets/controls",
            "_model_module_version": "1.5.0",
            "_model_name": "DescriptionStyleModel",
            "_view_count": null,
            "_view_module": "@jupyter-widgets/base",
            "_view_module_version": "1.2.0",
            "_view_name": "StyleView",
            "description_width": ""
          }
        },
        "465a900527034002b0cb368b17638686": {
          "model_module": "@jupyter-widgets/controls",
          "model_name": "HBoxModel",
          "model_module_version": "1.5.0",
          "state": {
            "_dom_classes": [],
            "_model_module": "@jupyter-widgets/controls",
            "_model_module_version": "1.5.0",
            "_model_name": "HBoxModel",
            "_view_count": null,
            "_view_module": "@jupyter-widgets/controls",
            "_view_module_version": "1.5.0",
            "_view_name": "HBoxView",
            "box_style": "",
            "children": [
              "IPY_MODEL_777eb58abc1f4b54814f94a279578143",
              "IPY_MODEL_2522eabc48bb470b9e128b4c515bfce6",
              "IPY_MODEL_55b4f8be0503426f85d7d52a9b3f6329"
            ],
            "layout": "IPY_MODEL_51b60b29e7d048d6b79ce25a9b0d149e"
          }
        },
        "777eb58abc1f4b54814f94a279578143": {
          "model_module": "@jupyter-widgets/controls",
          "model_name": "HTMLModel",
          "model_module_version": "1.5.0",
          "state": {
            "_dom_classes": [],
            "_model_module": "@jupyter-widgets/controls",
            "_model_module_version": "1.5.0",
            "_model_name": "HTMLModel",
            "_view_count": null,
            "_view_module": "@jupyter-widgets/controls",
            "_view_module_version": "1.5.0",
            "_view_name": "HTMLView",
            "description": "",
            "description_tooltip": null,
            "layout": "IPY_MODEL_dd8da0f597624ba79dd68e00bfcf37c6",
            "placeholder": "​",
            "style": "IPY_MODEL_ce877356785d4f0da3e08c326a11ccfd",
            "value": "Generating train split: "
          }
        },
        "2522eabc48bb470b9e128b4c515bfce6": {
          "model_module": "@jupyter-widgets/controls",
          "model_name": "FloatProgressModel",
          "model_module_version": "1.5.0",
          "state": {
            "_dom_classes": [],
            "_model_module": "@jupyter-widgets/controls",
            "_model_module_version": "1.5.0",
            "_model_name": "FloatProgressModel",
            "_view_count": null,
            "_view_module": "@jupyter-widgets/controls",
            "_view_module_version": "1.5.0",
            "_view_name": "ProgressView",
            "bar_style": "success",
            "description": "",
            "description_tooltip": null,
            "layout": "IPY_MODEL_5d7f805aad624debb1b76b28cf6edb39",
            "max": 1,
            "min": 0,
            "orientation": "horizontal",
            "style": "IPY_MODEL_c0a08a34810c4473b723ee9b9418f5a5",
            "value": 1
          }
        },
        "55b4f8be0503426f85d7d52a9b3f6329": {
          "model_module": "@jupyter-widgets/controls",
          "model_name": "HTMLModel",
          "model_module_version": "1.5.0",
          "state": {
            "_dom_classes": [],
            "_model_module": "@jupyter-widgets/controls",
            "_model_module_version": "1.5.0",
            "_model_name": "HTMLModel",
            "_view_count": null,
            "_view_module": "@jupyter-widgets/controls",
            "_view_module_version": "1.5.0",
            "_view_name": "HTMLView",
            "description": "",
            "description_tooltip": null,
            "layout": "IPY_MODEL_6f0082dfe39749f591ec8d17e4756859",
            "placeholder": "​",
            "style": "IPY_MODEL_68b8c34c564d4489b4308f8855cee42e",
            "value": " 2140/0 [00:00&lt;00:00, 23424.41 examples/s]"
          }
        },
        "51b60b29e7d048d6b79ce25a9b0d149e": {
          "model_module": "@jupyter-widgets/base",
          "model_name": "LayoutModel",
          "model_module_version": "1.2.0",
          "state": {
            "_model_module": "@jupyter-widgets/base",
            "_model_module_version": "1.2.0",
            "_model_name": "LayoutModel",
            "_view_count": null,
            "_view_module": "@jupyter-widgets/base",
            "_view_module_version": "1.2.0",
            "_view_name": "LayoutView",
            "align_content": null,
            "align_items": null,
            "align_self": null,
            "border": null,
            "bottom": null,
            "display": null,
            "flex": null,
            "flex_flow": null,
            "grid_area": null,
            "grid_auto_columns": null,
            "grid_auto_flow": null,
            "grid_auto_rows": null,
            "grid_column": null,
            "grid_gap": null,
            "grid_row": null,
            "grid_template_areas": null,
            "grid_template_columns": null,
            "grid_template_rows": null,
            "height": null,
            "justify_content": null,
            "justify_items": null,
            "left": null,
            "margin": null,
            "max_height": null,
            "max_width": null,
            "min_height": null,
            "min_width": null,
            "object_fit": null,
            "object_position": null,
            "order": null,
            "overflow": null,
            "overflow_x": null,
            "overflow_y": null,
            "padding": null,
            "right": null,
            "top": null,
            "visibility": null,
            "width": null
          }
        },
        "dd8da0f597624ba79dd68e00bfcf37c6": {
          "model_module": "@jupyter-widgets/base",
          "model_name": "LayoutModel",
          "model_module_version": "1.2.0",
          "state": {
            "_model_module": "@jupyter-widgets/base",
            "_model_module_version": "1.2.0",
            "_model_name": "LayoutModel",
            "_view_count": null,
            "_view_module": "@jupyter-widgets/base",
            "_view_module_version": "1.2.0",
            "_view_name": "LayoutView",
            "align_content": null,
            "align_items": null,
            "align_self": null,
            "border": null,
            "bottom": null,
            "display": null,
            "flex": null,
            "flex_flow": null,
            "grid_area": null,
            "grid_auto_columns": null,
            "grid_auto_flow": null,
            "grid_auto_rows": null,
            "grid_column": null,
            "grid_gap": null,
            "grid_row": null,
            "grid_template_areas": null,
            "grid_template_columns": null,
            "grid_template_rows": null,
            "height": null,
            "justify_content": null,
            "justify_items": null,
            "left": null,
            "margin": null,
            "max_height": null,
            "max_width": null,
            "min_height": null,
            "min_width": null,
            "object_fit": null,
            "object_position": null,
            "order": null,
            "overflow": null,
            "overflow_x": null,
            "overflow_y": null,
            "padding": null,
            "right": null,
            "top": null,
            "visibility": null,
            "width": null
          }
        },
        "ce877356785d4f0da3e08c326a11ccfd": {
          "model_module": "@jupyter-widgets/controls",
          "model_name": "DescriptionStyleModel",
          "model_module_version": "1.5.0",
          "state": {
            "_model_module": "@jupyter-widgets/controls",
            "_model_module_version": "1.5.0",
            "_model_name": "DescriptionStyleModel",
            "_view_count": null,
            "_view_module": "@jupyter-widgets/base",
            "_view_module_version": "1.2.0",
            "_view_name": "StyleView",
            "description_width": ""
          }
        },
        "5d7f805aad624debb1b76b28cf6edb39": {
          "model_module": "@jupyter-widgets/base",
          "model_name": "LayoutModel",
          "model_module_version": "1.2.0",
          "state": {
            "_model_module": "@jupyter-widgets/base",
            "_model_module_version": "1.2.0",
            "_model_name": "LayoutModel",
            "_view_count": null,
            "_view_module": "@jupyter-widgets/base",
            "_view_module_version": "1.2.0",
            "_view_name": "LayoutView",
            "align_content": null,
            "align_items": null,
            "align_self": null,
            "border": null,
            "bottom": null,
            "display": null,
            "flex": null,
            "flex_flow": null,
            "grid_area": null,
            "grid_auto_columns": null,
            "grid_auto_flow": null,
            "grid_auto_rows": null,
            "grid_column": null,
            "grid_gap": null,
            "grid_row": null,
            "grid_template_areas": null,
            "grid_template_columns": null,
            "grid_template_rows": null,
            "height": null,
            "justify_content": null,
            "justify_items": null,
            "left": null,
            "margin": null,
            "max_height": null,
            "max_width": null,
            "min_height": null,
            "min_width": null,
            "object_fit": null,
            "object_position": null,
            "order": null,
            "overflow": null,
            "overflow_x": null,
            "overflow_y": null,
            "padding": null,
            "right": null,
            "top": null,
            "visibility": null,
            "width": "20px"
          }
        },
        "c0a08a34810c4473b723ee9b9418f5a5": {
          "model_module": "@jupyter-widgets/controls",
          "model_name": "ProgressStyleModel",
          "model_module_version": "1.5.0",
          "state": {
            "_model_module": "@jupyter-widgets/controls",
            "_model_module_version": "1.5.0",
            "_model_name": "ProgressStyleModel",
            "_view_count": null,
            "_view_module": "@jupyter-widgets/base",
            "_view_module_version": "1.2.0",
            "_view_name": "StyleView",
            "bar_color": null,
            "description_width": ""
          }
        },
        "6f0082dfe39749f591ec8d17e4756859": {
          "model_module": "@jupyter-widgets/base",
          "model_name": "LayoutModel",
          "model_module_version": "1.2.0",
          "state": {
            "_model_module": "@jupyter-widgets/base",
            "_model_module_version": "1.2.0",
            "_model_name": "LayoutModel",
            "_view_count": null,
            "_view_module": "@jupyter-widgets/base",
            "_view_module_version": "1.2.0",
            "_view_name": "LayoutView",
            "align_content": null,
            "align_items": null,
            "align_self": null,
            "border": null,
            "bottom": null,
            "display": null,
            "flex": null,
            "flex_flow": null,
            "grid_area": null,
            "grid_auto_columns": null,
            "grid_auto_flow": null,
            "grid_auto_rows": null,
            "grid_column": null,
            "grid_gap": null,
            "grid_row": null,
            "grid_template_areas": null,
            "grid_template_columns": null,
            "grid_template_rows": null,
            "height": null,
            "justify_content": null,
            "justify_items": null,
            "left": null,
            "margin": null,
            "max_height": null,
            "max_width": null,
            "min_height": null,
            "min_width": null,
            "object_fit": null,
            "object_position": null,
            "order": null,
            "overflow": null,
            "overflow_x": null,
            "overflow_y": null,
            "padding": null,
            "right": null,
            "top": null,
            "visibility": null,
            "width": null
          }
        },
        "68b8c34c564d4489b4308f8855cee42e": {
          "model_module": "@jupyter-widgets/controls",
          "model_name": "DescriptionStyleModel",
          "model_module_version": "1.5.0",
          "state": {
            "_model_module": "@jupyter-widgets/controls",
            "_model_module_version": "1.5.0",
            "_model_name": "DescriptionStyleModel",
            "_view_count": null,
            "_view_module": "@jupyter-widgets/base",
            "_view_module_version": "1.2.0",
            "_view_name": "StyleView",
            "description_width": ""
          }
        }
      }
    }
  },
  "nbformat": 4,
  "nbformat_minor": 0
}