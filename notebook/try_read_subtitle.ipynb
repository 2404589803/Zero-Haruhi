{
  "nbformat": 4,
  "nbformat_minor": 0,
  "metadata": {
    "colab": {
      "provenance": [],
      "authorship_tag": "ABX9TyNuduAb1aw20+byaH+yjM1i",
      "include_colab_link": true
    },
    "kernelspec": {
      "name": "python3",
      "display_name": "Python 3"
    },
    "language_info": {
      "name": "python"
    }
  },
  "cells": [
    {
      "cell_type": "markdown",
      "metadata": {
        "id": "view-in-github",
        "colab_type": "text"
      },
      "source": [
        "<a href=\"https://colab.research.google.com/github/LC1332/Zero-Haruhi/blob/main/notebook/try_read_subtitle.ipynb\" target=\"_parent\"><img src=\"https://colab.research.google.com/assets/colab-badge.svg\" alt=\"Open In Colab\"/></a>"
      ]
    },
    {
      "cell_type": "code",
      "execution_count": 1,
      "metadata": {
        "colab": {
          "base_uri": "https://localhost:8080/"
        },
        "id": "5FX5pZlA5eI_",
        "outputId": "95db2853-44c7-4f43-eda6-d9e224a17d9d"
      },
      "outputs": [
        {
          "output_type": "stream",
          "name": "stdout",
          "text": [
            "Mounted at /content/drive\n"
          ]
        }
      ],
      "source": [
        "from google.colab import drive\n",
        "drive.mount('/content/drive')"
      ]
    },
    {
      "cell_type": "code",
      "source": [
        "!ls /content/drive/MyDrive/CardBuild/exp1230"
      ],
      "metadata": {
        "colab": {
          "base_uri": "https://localhost:8080/"
        },
        "id": "QEC4BxKx5xC-",
        "outputId": "9bfad852-ff49-4b8a-f8e4-eb7c5ad02eb5"
      },
      "execution_count": 2,
      "outputs": [
        {
          "output_type": "stream",
          "name": "stdout",
          "text": [
            "subtitle_50.zip\n"
          ]
        }
      ]
    },
    {
      "cell_type": "markdown",
      "source": [
        "请为我实现一段python代码，将/content/drive/MyDrive/CardBuild/exp1230/subtitle_50.zip 拷贝到/content/下\n",
        "\n",
        "并且将其中的内容解压缩到/content/input"
      ],
      "metadata": {
        "id": "7ndVVPdt59SH"
      }
    },
    {
      "cell_type": "code",
      "source": [
        "import shutil\n",
        "import zipfile\n",
        "import os\n",
        "\n",
        "# 源文件路径\n",
        "source_zip = '/content/drive/MyDrive/CardBuild/exp1230/subtitle_50.zip'\n",
        "# 目标路径\n",
        "destination_dir = '/content/'\n",
        "# 解压缩目标文件夹\n",
        "unzip_dir = '/content/input/'\n",
        "\n",
        "# 拷贝文件\n",
        "destination_zip = os.path.join(destination_dir, os.path.basename(source_zip))\n",
        "shutil.copy(source_zip, destination_zip)\n",
        "\n",
        "# 确保解压缩目标文件夹存在\n",
        "if not os.path.exists(unzip_dir):\n",
        "    os.makedirs(unzip_dir)\n",
        "\n",
        "# 解压缩文件\n",
        "with zipfile.ZipFile(destination_zip, 'r') as zip_ref:\n",
        "    zip_ref.extractall(unzip_dir)\n",
        "\n",
        "print(\"文件已拷贝并解压缩到指定目录。\")\n"
      ],
      "metadata": {
        "colab": {
          "base_uri": "https://localhost:8080/"
        },
        "id": "kiZb920r58i6",
        "outputId": "7b67a9bc-b7fa-44a8-80a3-9f93a182cb01"
      },
      "execution_count": 3,
      "outputs": [
        {
          "output_type": "stream",
          "name": "stdout",
          "text": [
            "文件已拷贝并解压缩到指定目录。\n"
          ]
        }
      ]
    },
    {
      "cell_type": "markdown",
      "source": [
        "我希望实现一段Python代码\n",
        "\n",
        "在/content/input下有很多电影的字幕文件\n",
        "\n",
        "有.srt, .sub, .ass格式的字幕\n",
        "\n",
        "我希望对他们进行批量读取\n",
        "\n",
        "并且将字幕的内容（仅文字内容）\n",
        "\n",
        "保存到/output下的同名的txt中\n",
        "\n",
        "如果不能正常解析，则跳过\n",
        "\n",
        "请用python的pysrt库为我实现"
      ],
      "metadata": {
        "id": "-QGhTjwt6QQi"
      }
    },
    {
      "cell_type": "code",
      "source": [
        "!pip install -q pysrt"
      ],
      "metadata": {
        "colab": {
          "base_uri": "https://localhost:8080/"
        },
        "id": "7iUqxmUy7hwY",
        "outputId": "01994638-0bee-4b61-a3e6-e5aae752e9fd"
      },
      "execution_count": 5,
      "outputs": [
        {
          "output_type": "stream",
          "name": "stdout",
          "text": [
            "\u001b[?25l     \u001b[90m━━━━━━━━━━━━━━━━━━━━━━━━━━━━━━━━━━━━━━━━\u001b[0m \u001b[32m0.0/104.4 kB\u001b[0m \u001b[31m?\u001b[0m eta \u001b[36m-:--:--\u001b[0m\r\u001b[2K     \u001b[91m━━━━━━━━━━━━━━━━━━━━━━━━━━━━━━━\u001b[0m\u001b[90m╺\u001b[0m\u001b[90m━━━━━━━━\u001b[0m \u001b[32m81.9/104.4 kB\u001b[0m \u001b[31m2.5 MB/s\u001b[0m eta \u001b[36m0:00:01\u001b[0m\r\u001b[2K     \u001b[90m━━━━━━━━━━━━━━━━━━━━━━━━━━━━━━━━━━━━━━━━\u001b[0m \u001b[32m104.4/104.4 kB\u001b[0m \u001b[31m2.2 MB/s\u001b[0m eta \u001b[36m0:00:00\u001b[0m\n",
            "\u001b[?25h  Preparing metadata (setup.py) ... \u001b[?25l\u001b[?25hdone\n",
            "  Building wheel for pysrt (setup.py) ... \u001b[?25l\u001b[?25hdone\n"
          ]
        }
      ]
    },
    {
      "cell_type": "code",
      "source": [
        "!pip install -q chardet"
      ],
      "metadata": {
        "id": "9Ah10p8-72H4"
      },
      "execution_count": 7,
      "outputs": []
    },
    {
      "cell_type": "code",
      "source": [
        "!rm -rf /content/output"
      ],
      "metadata": {
        "id": "YGUOZNGD9dJ2"
      },
      "execution_count": 20,
      "outputs": []
    },
    {
      "cell_type": "code",
      "source": [
        "!mkdir /content/output"
      ],
      "metadata": {
        "id": "2dYwaVC18G7j"
      },
      "execution_count": 21,
      "outputs": []
    },
    {
      "cell_type": "code",
      "source": [
        "import pysrt\n",
        "import os\n",
        "import glob\n",
        "import chardet\n",
        "\n",
        "input_dir = '/content/input'\n",
        "output_dir = '/output'\n",
        "\n",
        "if not os.path.exists(output_dir):\n",
        "    os.makedirs(output_dir)\n",
        "\n",
        "def detect_encoding(file_path):\n",
        "    with open(file_path, 'rb') as f:\n",
        "        raw_data = f.read()\n",
        "    return chardet.detect(raw_data)['encoding']\n",
        "\n",
        "# 遍历所有.srt文件\n",
        "\n",
        "count = 0\n",
        "for srt_file in glob.glob(os.path.join(input_dir, '*.srt')):\n",
        "    try:\n",
        "        # 检测文件编码\n",
        "        encoding = detect_encoding(srt_file)\n",
        "        if not encoding:\n",
        "            # print(f\"Cannot detect encoding for {srt_file}\")\n",
        "            encoding = 'utf-8'\n",
        "            # continue\n",
        "\n",
        "        # 加载字幕文件\n",
        "        try:\n",
        "            subs = pysrt.open(srt_file, encoding=encoding)\n",
        "        except Exception as e:\n",
        "            print(f\"Error loading {srt_file}: {e}\")\n",
        "            continue\n",
        "\n",
        "        # 提取文本内容\n",
        "        text_content = '\\n'.join([sub.text_without_tags for sub in subs])\n",
        "\n",
        "        count += 1\n",
        "\n",
        "        save_name = srt_file.replace(\"/input/\", \"/output/\") + \".txt\"\n",
        "        # continue\n",
        "\n",
        "        # 构建输出文件路径\n",
        "        # base_name = os.path.basename(srt_file)\n",
        "        # output_file_path = os.path.join(output_dir, os.path.splitext(base_name)[0] + '.txt')\n",
        "\n",
        "        # 写入文本文件\n",
        "        with open(save_name, 'w', encoding='utf-8') as f:\n",
        "            f.write(text_content)\n",
        "\n",
        "        print(\"done \", save_name)\n",
        "\n",
        "    except Exception as e:\n",
        "        print(f\"Error processing {srt_file}: {e}\")\n",
        "        continue\n",
        "\n",
        "print(\"Processing completed.\")\n"
      ],
      "metadata": {
        "id": "ZX78IMn96MUl"
      },
      "execution_count": null,
      "outputs": []
    },
    {
      "cell_type": "code",
      "source": [
        "print(srt_file)"
      ],
      "metadata": {
        "colab": {
          "base_uri": "https://localhost:8080/"
        },
        "id": "1Vv9uOmY7hA5",
        "outputId": "ec204fd0-2819-4bbc-f8e7-d9dccacd5a8e"
      },
      "execution_count": 18,
      "outputs": [
        {
          "output_type": "stream",
          "name": "stdout",
          "text": [
            "/content/input/English.srt\n"
          ]
        }
      ]
    },
    {
      "cell_type": "code",
      "source": [
        "data = {}\n",
        "\n",
        "data[\"movie_name\"] = \"例子电影\"\n",
        "\n",
        "data[\"major_character\"] = \"查理\"\n",
        "\n",
        "data[\"selected_dialogues\"] = [\n",
        "    [{\"role\": \"查理\", \"text\": \"你知道吗，萨姆，我今天早上在买咖啡时碰到了一个占卜师。\"},\n",
        "    {\"role\": \"萨姆\", \"text\": \"哦，真的吗？她告诉你什么好消息？\"},\n",
        "    {\"role\": \"查理\", \"text\": \"她说我会遇到一些‘大变化’。所以我换了个口味，从拿铁改成了美式。\"},\n",
        "    {\"role\": \"萨姆\", \"text\": \"查理，那不是占卜师说的变化吧！\"},\n",
        "    {\"role\": \"查理\", \"text\": \"嘿，生活就是要有点小刺激，对吧？即使是咖啡口味的改变也算是冒险。\"},\n",
        "    {\"role\": \"萨姆\", \"text\": \"你的幽默感永远都是你的‘大变化’。\"}],\n",
        "    [{\"role\": \"汤姆\", \"text\": \"你是什么人？\"},\n",
        "     {\"role\": \"查理\", \"text\": \"我是查理呀，怎么士别三日都不认识我啦？\"}]\n",
        "]\n",
        "\n",
        "\n",
        "\n",
        "data[\"personality\"] = \"根据input的内容，以及你所了解到的这部movie的知识，总结角色的性格，在这个例子中，查理是一个幽默乐观的人\"\n",
        "\n",
        "data[\"appearance\"] = \"根据input的内容，以及你所了解到的这部movie的知识，总结角色的外貌特征\"\n",
        "\n",
        "data[\"world_view_setting\"] = \"根据input的内容，以及你所了解到的这部movie的知识，总结角色所处的世界观, 以及角色的关键经历\"\n",
        "\n",
        "data[\"character_description\"] = \"查理是一个幽默、乐观、随和且善于用轻松的方式处理日常生活的人。\"\n",
        "\n",
        "data[\"language_style\"] = \"根据input的内容，以及你所了解到的这部movie的知识，总结角色的语言风格\"\n",
        "\n",
        "\n",
        "data[\"greeting_information\"] = \"嗨我的老伙计{user_name}，你还记得我吗，是我呀查理。\"\n",
        "\n",
        "\n",
        "data[\"other_characters\"] = [\"汤姆\",\"萨姆\"]\n",
        "\n",
        "import json\n",
        "\n",
        "# 将字典转换为JSON字符串，缩进为4个空格\n",
        "json_str_with_spaces = json.dumps(data, indent=4, ensure_ascii = False)\n",
        "\n",
        "print(json_str_with_spaces)"
      ],
      "metadata": {
        "colab": {
          "base_uri": "https://localhost:8080/"
        },
        "id": "CWEjLclH8vg8",
        "outputId": "ef74f043-c8f4-43ab-bb14-41e7365547bb"
      },
      "execution_count": 31,
      "outputs": [
        {
          "output_type": "stream",
          "name": "stdout",
          "text": [
            "{\n",
            "    \"movie_name\": \"例子电影\",\n",
            "    \"major_character\": \"查理\",\n",
            "    \"selected_dialogues\": [\n",
            "        [\n",
            "            {\n",
            "                \"role\": \"查理\",\n",
            "                \"text\": \"你知道吗，萨姆，我今天早上在买咖啡时碰到了一个占卜师。\"\n",
            "            },\n",
            "            {\n",
            "                \"role\": \"萨姆\",\n",
            "                \"text\": \"哦，真的吗？她告诉你什么好消息？\"\n",
            "            },\n",
            "            {\n",
            "                \"role\": \"查理\",\n",
            "                \"text\": \"她说我会遇到一些‘大变化’。所以我换了个口味，从拿铁改成了美式。\"\n",
            "            },\n",
            "            {\n",
            "                \"role\": \"萨姆\",\n",
            "                \"text\": \"查理，那不是占卜师说的变化吧！\"\n",
            "            },\n",
            "            {\n",
            "                \"role\": \"查理\",\n",
            "                \"text\": \"嘿，生活就是要有点小刺激，对吧？即使是咖啡口味的改变也算是冒险。\"\n",
            "            },\n",
            "            {\n",
            "                \"role\": \"萨姆\",\n",
            "                \"text\": \"你的幽默感永远都是你的‘大变化’。\"\n",
            "            }\n",
            "        ],\n",
            "        [\n",
            "            {\n",
            "                \"role\": \"汤姆\",\n",
            "                \"text\": \"你是什么人？\"\n",
            "            },\n",
            "            {\n",
            "                \"role\": \"查理\",\n",
            "                \"text\": \"我是查理呀，怎么士别三日都不认识我啦？\"\n",
            "            }\n",
            "        ]\n",
            "    ],\n",
            "    \"personality\": \"根据input的内容，以及你所了解到的这部movie的知识，总结角色的性格，在这个例子中，查理是一个幽默乐观的人\",\n",
            "    \"appearance\": \"根据input的内容，以及你所了解到的这部movie的知识，总结角色的外貌特征\",\n",
            "    \"world_view_setting\": \"根据input的内容，以及你所了解到的这部movie的知识，总结角色所处的世界观, 以及角色的关键经历\",\n",
            "    \"character_description\": \"查理是一个幽默、乐观、随和且善于用轻松的方式处理日常生活的人。\",\n",
            "    \"language_style\": \"根据input的内容，以及你所了解到的这部movie的知识，总结角色的语言风格\",\n",
            "    \"greeting_information\": \"嗨我的老伙计{user_name}，你还记得我吗，是我呀查理。\",\n",
            "    \"other_characters\": [\n",
            "        \"汤姆\",\n",
            "        \"萨姆\"\n",
            "    ]\n",
            "}\n"
          ]
        }
      ]
    },
    {
      "cell_type": "code",
      "source": [
        "print(data)"
      ],
      "metadata": {
        "colab": {
          "base_uri": "https://localhost:8080/"
        },
        "id": "zYd4DlRfDYlF",
        "outputId": "97535bda-f044-4edd-bfb7-ae29710dfc4d"
      },
      "execution_count": 24,
      "outputs": [
        {
          "output_type": "stream",
          "name": "stdout",
          "text": [
            "{'movie_name': '例子电影', 'major_character': '查理', 'selected_dialogues': [[{'role': '查理', 'text': '你知道吗，萨姆，我今天早上在买咖啡时碰到了一个占卜师。'}, {'role': '萨姆', 'text': '哦，真的吗？她告诉你什么好消息？'}, {'role': '查理', 'text': '她说我会遇到一些‘大变化’。所以我换了个口味，从拿铁改成了美式。'}, {'role': '萨姆', 'text': '查理，那不是占卜师说的变化吧！'}, {'role': '查理', 'text': '嘿，生活就是要有点小刺激，对吧？即使是咖啡口味的改变也算是冒险。'}, {'role': '萨姆', 'text': '你的幽默感永远都是你的‘大变化’。'}], [{'role': '汤姆', 'text': '你是什么人？'}, {'role': '查理', 'text': '我是查理呀，怎么士别三日都不认识我啦？'}]]}\n"
          ]
        }
      ]
    },
    {
      "cell_type": "markdown",
      "source": [],
      "metadata": {
        "id": "_LQYERN1BaXr"
      }
    }
  ]
}