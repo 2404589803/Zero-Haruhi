{
  "nbformat": 4,
  "nbformat_minor": 0,
  "metadata": {
    "colab": {
      "provenance": [],
      "authorship_tag": "ABX9TyNAz1adIc3UMvh+smY0iElk",
      "include_colab_link": true
    },
    "kernelspec": {
      "name": "python3",
      "display_name": "Python 3"
    },
    "language_info": {
      "name": "python"
    }
  },
  "cells": [
    {
      "cell_type": "markdown",
      "metadata": {
        "id": "view-in-github",
        "colab_type": "text"
      },
      "source": [
        "<a href=\"https://colab.research.google.com/github/LC1332/Zero-Haruhi/blob/main/notebook/ExtractRoleFromSRT.ipynb\" target=\"_parent\"><img src=\"https://colab.research.google.com/assets/colab-badge.svg\" alt=\"Open In Colab\"/></a>"
      ]
    },
    {
      "cell_type": "code",
      "execution_count": null,
      "metadata": {
        "colab": {
          "base_uri": "https://localhost:8080/"
        },
        "id": "5FX5pZlA5eI_",
        "outputId": "bef68536-8674-431b-fa77-2df389a91cc9"
      },
      "outputs": [
        {
          "output_type": "stream",
          "name": "stdout",
          "text": [
            "Mounted at /content/drive\n"
          ]
        }
      ],
      "source": [
        "from google.colab import drive\n",
        "drive.mount('/content/drive')"
      ]
    },
    {
      "cell_type": "code",
      "source": [
        "!ls /content/drive/MyDrive/CardBuild/exp1230"
      ],
      "metadata": {
        "colab": {
          "base_uri": "https://localhost:8080/"
        },
        "id": "QEC4BxKx5xC-",
        "outputId": "b643d579-f30a-4a04-e643-1001761047de"
      },
      "execution_count": null,
      "outputs": [
        {
          "output_type": "stream",
          "name": "stdout",
          "text": [
            "imbd250.zip\t   imdb250viaUnzip.zip\tsubtitle_50.zip    try_again.zip\n",
            "imdb250_rezip.zip  output\t\tsubtitle_full.zip\n"
          ]
        }
      ]
    },
    {
      "cell_type": "markdown",
      "source": [
        "请为我实现一段python代码，将/content/drive/MyDrive/CardBuild/exp1230/subtitle_50.zip 拷贝到/content/下\n",
        "\n",
        "并且将其中的内容解压缩到/content/input"
      ],
      "metadata": {
        "id": "7ndVVPdt59SH"
      }
    },
    {
      "cell_type": "code",
      "source": [
        "!pip install -q openai"
      ],
      "metadata": {
        "colab": {
          "base_uri": "https://localhost:8080/"
        },
        "id": "whBN9z8JQ69e",
        "outputId": "0e9b1e8f-1b62-4200-d38b-6a0656de28e4"
      },
      "execution_count": null,
      "outputs": [
        {
          "output_type": "stream",
          "name": "stdout",
          "text": [
            "\u001b[2K     \u001b[90m━━━━━━━━━━━━━━━━━━━━━━━━━━━━━━━━━━━━━━━━\u001b[0m \u001b[32m225.4/225.4 kB\u001b[0m \u001b[31m2.8 MB/s\u001b[0m eta \u001b[36m0:00:00\u001b[0m\n",
            "\u001b[2K     \u001b[90m━━━━━━━━━━━━━━━━━━━━━━━━━━━━━━━━━━━━━━━━\u001b[0m \u001b[32m75.9/75.9 kB\u001b[0m \u001b[31m6.1 MB/s\u001b[0m eta \u001b[36m0:00:00\u001b[0m\n",
            "\u001b[2K     \u001b[90m━━━━━━━━━━━━━━━━━━━━━━━━━━━━━━━━━━━━━━━━\u001b[0m \u001b[32m76.9/76.9 kB\u001b[0m \u001b[31m6.3 MB/s\u001b[0m eta \u001b[36m0:00:00\u001b[0m\n",
            "\u001b[2K     \u001b[90m━━━━━━━━━━━━━━━━━━━━━━━━━━━━━━━━━━━━━━━━\u001b[0m \u001b[32m58.3/58.3 kB\u001b[0m \u001b[31m4.9 MB/s\u001b[0m eta \u001b[36m0:00:00\u001b[0m\n",
            "\u001b[?25h\u001b[31mERROR: pip's dependency resolver does not currently take into account all the packages that are installed. This behaviour is the source of the following dependency conflicts.\n",
            "llmx 0.0.15a0 requires cohere, which is not installed.\n",
            "llmx 0.0.15a0 requires tiktoken, which is not installed.\n",
            "tensorflow-probability 0.22.0 requires typing-extensions<4.6.0, but you have typing-extensions 4.9.0 which is incompatible.\u001b[0m\u001b[31m\n",
            "\u001b[0m"
          ]
        }
      ]
    },
    {
      "cell_type": "code",
      "source": [
        "from openai import OpenAI\n",
        "\n",
        "import os\n",
        "key = \"sk-Wa\" # add you key here\n",
        "key_bytes = key.encode()\n",
        "os.environ[\"OPENAI_API_KEY\"] = key_bytes.decode('utf-8')\n",
        "\n",
        "client = OpenAI(\n",
        "    api_key = os.environ[\"OPENAI_API_KEY\"]\n",
        ")"
      ],
      "metadata": {
        "id": "r37uVF4NQ8wB"
      },
      "execution_count": null,
      "outputs": []
    },
    {
      "cell_type": "code",
      "source": [
        "!rm -rf /content/input"
      ],
      "metadata": {
        "id": "-Ahdn_GzE7eX"
      },
      "execution_count": null,
      "outputs": []
    },
    {
      "cell_type": "code",
      "source": [
        "import shutil\n",
        "import zipfile\n",
        "import os\n",
        "\n",
        "# 源文件路径\n",
        "source_zip = '/content/drive/MyDrive/CardBuild/exp1230/imdb250viaUnzip.zip'\n",
        "# 目标路径\n",
        "destination_dir = '/content/'\n",
        "# 解压缩目标文件夹\n",
        "unzip_dir = '/content/input/'\n",
        "\n",
        "# 拷贝文件\n",
        "destination_zip = os.path.join(destination_dir, os.path.basename(source_zip))\n",
        "shutil.copy(source_zip, destination_zip)\n",
        "\n",
        "# 确保解压缩目标文件夹存在\n",
        "if not os.path.exists(unzip_dir):\n",
        "    os.makedirs(unzip_dir)\n",
        "\n",
        "# 解压缩文件\n",
        "with zipfile.ZipFile(destination_zip, 'r') as zip_ref:\n",
        "    zip_ref.extractall(unzip_dir)\n",
        "\n",
        "print(\"文件已拷贝并解压缩到指定目录。\")\n"
      ],
      "metadata": {
        "colab": {
          "base_uri": "https://localhost:8080/"
        },
        "id": "kiZb920r58i6",
        "outputId": "056f9433-4f7e-47b9-d71d-820a7092d5f3"
      },
      "execution_count": null,
      "outputs": [
        {
          "output_type": "stream",
          "name": "stdout",
          "text": [
            "文件已拷贝并解压缩到指定目录。\n"
          ]
        }
      ]
    },
    {
      "cell_type": "markdown",
      "source": [
        "请为我实现一段python代码，\n",
        "\n",
        "对于/content/input/中直接目录下的文件\n",
        "\n",
        "如果是文件，则新建一个同名的子文件夹，再把文件转移到子文件夹中"
      ],
      "metadata": {
        "id": "mZZTdMAeU3av"
      }
    },
    {
      "cell_type": "code",
      "source": [
        "import os\n",
        "import shutil\n",
        "\n",
        "input_dir = \"/content/input/\"\n",
        "\n",
        "# 获取目录下的文件列表\n",
        "files = [f for f in os.listdir(input_dir) if os.path.isfile(os.path.join(input_dir, f))]\n",
        "\n",
        "# 遍历文件列表\n",
        "for file_ in files:\n",
        "    # 获取文件的名称（不包含路径）\n",
        "    file_name = os.path.basename(file_)\n",
        "\n",
        "    # 创建同名的子文件夹\n",
        "    folder_name = os.path.splitext(file_name)[0]\n",
        "    folder_path = os.path.join(input_dir, folder_name)\n",
        "    os.makedirs(folder_path, exist_ok=True)\n",
        "\n",
        "    # 移动文件到子文件夹中\n",
        "    source_file_path = os.path.join(input_dir, file_name)\n",
        "    destination_file_path = os.path.join(folder_path, file_name)\n",
        "    shutil.move(source_file_path, destination_file_path)\n"
      ],
      "metadata": {
        "id": "9W7o1w04VDtS"
      },
      "execution_count": null,
      "outputs": []
    },
    {
      "cell_type": "markdown",
      "source": [
        "我希望实现一段Python代码\n",
        "\n",
        "在/content/input下有很多电影的字幕文件\n",
        "\n",
        "有.srt, .sub, .ass格式的字幕\n",
        "\n",
        "我希望对他们进行批量读取\n",
        "\n",
        "并且将字幕的内容（仅文字内容）\n",
        "\n",
        "保存到/output下的同名的txt中\n",
        "\n",
        "如果不能正常解析，则跳过\n",
        "\n",
        "请用python的pysrt库为我实现"
      ],
      "metadata": {
        "id": "-QGhTjwt6QQi"
      }
    },
    {
      "cell_type": "code",
      "source": [
        "!pip install -q pysrt"
      ],
      "metadata": {
        "colab": {
          "base_uri": "https://localhost:8080/"
        },
        "id": "7iUqxmUy7hwY",
        "outputId": "1e9e725a-7dc7-476c-bd59-060268ecd23f"
      },
      "execution_count": null,
      "outputs": [
        {
          "output_type": "stream",
          "name": "stdout",
          "text": [
            "\u001b[?25l     \u001b[90m━━━━━━━━━━━━━━━━━━━━━━━━━━━━━━━━━━━━━━━━\u001b[0m \u001b[32m0.0/104.4 kB\u001b[0m \u001b[31m?\u001b[0m eta \u001b[36m-:--:--\u001b[0m\r\u001b[2K     \u001b[91m━━━━━━━━━━━━━━━━━━━━━━━━━━━━━━━━━━━━━━━\u001b[0m\u001b[90m╺\u001b[0m \u001b[32m102.4/104.4 kB\u001b[0m \u001b[31m2.8 MB/s\u001b[0m eta \u001b[36m0:00:01\u001b[0m\r\u001b[2K     \u001b[90m━━━━━━━━━━━━━━━━━━━━━━━━━━━━━━━━━━━━━━━━\u001b[0m \u001b[32m104.4/104.4 kB\u001b[0m \u001b[31m2.1 MB/s\u001b[0m eta \u001b[36m0:00:00\u001b[0m\n",
            "\u001b[?25h  Preparing metadata (setup.py) ... \u001b[?25l\u001b[?25hdone\n",
            "  Building wheel for pysrt (setup.py) ... \u001b[?25l\u001b[?25hdone\n"
          ]
        }
      ]
    },
    {
      "cell_type": "code",
      "source": [
        "!pip install -q chardet"
      ],
      "metadata": {
        "id": "9Ah10p8-72H4"
      },
      "execution_count": null,
      "outputs": []
    },
    {
      "cell_type": "code",
      "source": [
        "!rm -rf /content/output"
      ],
      "metadata": {
        "id": "YGUOZNGD9dJ2"
      },
      "execution_count": null,
      "outputs": []
    },
    {
      "cell_type": "code",
      "source": [
        "!mkdir /content/output"
      ],
      "metadata": {
        "id": "2dYwaVC18G7j"
      },
      "execution_count": null,
      "outputs": []
    },
    {
      "cell_type": "code",
      "source": [
        "!pip install -q pysubs2"
      ],
      "metadata": {
        "id": "edIQx_-KXDUe"
      },
      "execution_count": null,
      "outputs": []
    },
    {
      "cell_type": "code",
      "source": [
        "print(root)"
      ],
      "metadata": {
        "colab": {
          "base_uri": "https://localhost:8080/"
        },
        "id": "YFq6B92sbHp_",
        "outputId": "d4145b5b-233e-4948-ecd0-5978cd9eabb8"
      },
      "execution_count": null,
      "outputs": [
        {
          "output_type": "stream",
          "name": "stdout",
          "text": [
            "/content/output/致命ID\n"
          ]
        }
      ]
    },
    {
      "cell_type": "code",
      "source": [
        "import pysrt\n",
        "import os\n",
        "import glob\n",
        "import chardet\n",
        "import pysubs2\n",
        "\n",
        "\n",
        "input_dir = '/content/input'\n",
        "output_dir = '/output'\n",
        "\n",
        "if not os.path.exists(output_dir):\n",
        "    os.makedirs(output_dir)\n",
        "\n",
        "def detect_encoding(file_path):\n",
        "    with open(file_path, 'rb') as f:\n",
        "        raw_data = f.read(3000)\n",
        "    return chardet.detect(raw_data)['encoding']\n",
        "\n",
        "successful_list = []\n",
        "failed_list = []\n",
        "\n",
        "\n",
        "# 新增字典用于跟踪每个子文件夹的文件处理数量\n",
        "processed_files_count = {}\n",
        "\n",
        "\n",
        "from tqdm import tqdm\n",
        "# 修改这个循环条件，以递归搜索所有子文件夹中的文件\n",
        "for root, dirs, files in tqdm( os.walk(input_dir) ) :\n",
        "\n",
        "    # 每次进入新的子文件夹时重置文件计数\n",
        "    processed_files_count[root] = 0\n",
        "\n",
        "    for file in files:\n",
        "\n",
        "        # 如果已处理超过 5 个文件，则跳过剩余文件\n",
        "        if processed_files_count[root] > 8:\n",
        "            continue\n",
        "\n",
        "        file_path = os.path.join(root, file)\n",
        "\n",
        "        try:\n",
        "            # 检测文件编码\n",
        "            encoding = detect_encoding(file_path)\n",
        "            if not encoding:\n",
        "                encoding = 'utf-8'\n",
        "\n",
        "            # TODO: 这里修改为根据 file_path的后缀名判断是否是ass\n",
        "            if file.lower().endswith('.ass'):\n",
        "                if_ass = True\n",
        "            else:\n",
        "                if_ass = False\n",
        "\n",
        "\n",
        "\n",
        "            if if_ass:\n",
        "                # TODO: 使用pysub2库，提取字幕内容到text_content\n",
        "                # Process .ass file\n",
        "                try:\n",
        "                    subs = pysubs2.load(file_path, encoding=detect_encoding(file_path))\n",
        "                    text_content = '\\n'.join([event.text for event in subs.events])\n",
        "                    # print(\"done ass read \", file)\n",
        "                    # print(text_content[:100])\n",
        "                    # break\n",
        "                    # break\n",
        "                except Exception as e:\n",
        "                    if_ass = False\n",
        "\n",
        "            if not if_ass:\n",
        "\n",
        "                # 加载字幕文件\n",
        "                try:\n",
        "                    subs = pysrt.open(file_path, encoding=encoding)\n",
        "                except Exception as e:\n",
        "                    try:\n",
        "                        subs = pysrt.open(file_path, encoding='gb2312')\n",
        "                    except Exception as e:\n",
        "                        failed_list.append({\"movie\": os.path.basename(root), \"file\": file_path})\n",
        "                        continue\n",
        "\n",
        "                # 提取文本内容\n",
        "                text_content = '\\n'.join([sub.text_without_tags for sub in subs])\n",
        "\n",
        "            if text_content.strip() == '':\n",
        "                failed_list.append({\"movie\": os.path.basename(root), \"file\": file_path})\n",
        "                continue\n",
        "\n",
        "            save_name = file_path.replace(\"/input/\", \"/output/\") + \".txt\"\n",
        "\n",
        "            # 确保保存目录存在\n",
        "            save_dir = os.path.dirname(save_name)\n",
        "            if not os.path.exists(save_dir):\n",
        "                os.makedirs(save_dir)\n",
        "\n",
        "\n",
        "            # 写入文本文件\n",
        "            with open(save_name, 'w', encoding='utf-8') as f:\n",
        "                f.write(text_content)\n",
        "\n",
        "            successful_list.append({\"movie\": os.path.basename(root), \"file\": file_path})\n",
        "\n",
        "            # 更新文件计数\n",
        "            processed_files_count[root] += 1\n",
        "\n",
        "        except Exception as e:\n",
        "            failed_list.append({\"movie\": os.path.basename(root), \"file\": file_path})\n",
        "            continue\n",
        "\n",
        "print(\"Processing completed.\")\n",
        "print(\"Successful files:\", len(successful_list))\n",
        "print(\"Failed files:\", len(failed_list))\n"
      ],
      "metadata": {
        "colab": {
          "base_uri": "https://localhost:8080/"
        },
        "id": "10DqNfIoFUzT",
        "outputId": "9d318021-1b96-4f30-9b17-63e18aaceeb5"
      },
      "execution_count": null,
      "outputs": [
        {
          "output_type": "stream",
          "name": "stderr",
          "text": [
            "204it [00:21,  9.67it/s]"
          ]
        },
        {
          "output_type": "stream",
          "name": "stdout",
          "text": [
            "Processing completed.\n",
            "Successful files: 510\n",
            "Failed files: 103\n"
          ]
        },
        {
          "output_type": "stream",
          "name": "stderr",
          "text": [
            "\n"
          ]
        }
      ]
    },
    {
      "cell_type": "code",
      "source": [
        "for root in processed_files_count:\n",
        "    if processed_files_count[root] > 5:\n",
        "        print(f\"{root}: {processed_files_count[root]}\")"
      ],
      "metadata": {
        "colab": {
          "base_uri": "https://localhost:8080/"
        },
        "id": "V7v5j3ExbRUC",
        "outputId": "6f7b1cbc-3cab-4a19-fb22-646f7246899f"
      },
      "execution_count": null,
      "outputs": [
        {
          "output_type": "stream",
          "name": "stdout",
          "text": [
            "/content/input/黑暗骑士崛起/The.Dark.Knight.Rises.2012.BluRay.720p.x264.AC3-CMCT: 9\n",
            "/content/input/聚焦/Wilderness.2023.S01.1080p.WEB.H264-NHTFS_SUBS: 9\n",
            "/content/input/蝙蝠侠：黑暗骑士崛起/The.Dark.Knight.Rises.2012.BluRay.720p.x264.AC3-CMCT: 9\n",
            "/content/input/战争之王: 9\n",
            "/content/input/情书/Youve.Got.Mail.1998.1080p.BluRay.x264-CiNEFiLE: 9\n",
            "/content/input/卢旺达饭店/Hotel.Rwanda.2004.BluRay.720p.x264.AC3-CMCT: 9\n",
            "/content/input/布达佩斯大饭店/The.Grand.Budapest.Hotel.2014.BluRay.720p.x264.AC3-CMCT: 9\n",
            "/content/input/黑暗骑士/数码暴龙04无限地带: 9\n",
            "/content/input/蓝色大门/简中字幕: 9\n",
            "/content/input/末路狂花/Thelma.and.Louise.1991.BluRay.720p.x264.AC3.2Audios-CMCT: 7\n",
            "/content/input/我是山姆2/【20200731】日本动画OPED的K值（总计925份）: 9\n",
            "/content/input/美食总动员: 9\n",
            "/content/input/雨人/9d828d7edc71e0d88ba90ee61ba073a79caf88b9: 9\n",
            "/content/input/教父2/3、中国学校Chinese_School/SRT: 9\n",
            "/content/input/无敌破坏王: 9\n",
            "/content/input/猫鼠游戏2/White.Collar.S06E02.720p.HDTV.x264-KILLERS: 9\n",
            "/content/input/哈利·波特与魔法石/Harry.Potter.And.The.Sorcerers' Stone.2001.HK.BluRay.720p.x264.AC3.2Audios-CMCT: 9\n",
            "/content/input/千钧一发/Gattaca.1997.1080p.BluRay.x264.DTS-FGT: 9\n",
            "/content/input/穿越时空的少女/犬夜叉: 9\n",
            "/content/input/冒牌货: 9\n",
            "/content/input/千与千寻/犬夜叉: 9\n",
            "/content/input/海上钢琴师/La.Leggenda.Del.Pianista.Sull.Oceano.1998.BluRay.720p.x264.AC3.2Audios-CMCT: 9\n",
            "/content/input/拆弹部队/The.Hurt.Locker.2008.BluRay.720p.x264.AC3.2Audios-CMCT: 9\n",
            "/content/input/美丽心灵: 6\n",
            "/content/input/我是山姆3/【20200731】日本动画OPED的K值（总计925份）: 9\n",
            "/content/input/飞越疯人院/One.Flew.Over.the.Cuckoo's.Nest.1975.BluRay.720p.x264.AC3.3Audios-CMCT: 9\n",
            "/content/input/世界真美好/【20200731】日本动画OPED的K值（总计925份）: 9\n",
            "/content/input/超脱/Detachment.2011.BluRay.720p.x264.AC3-CnSCG: 7\n",
            "/content/input/我是山姆/You.Dont.Know.Me.S01.WEBRip.x264-ION10/Subs/You.Dont.Know.Me.S01E04.WEBRip.x264-ION10: 9\n",
            "/content/input/我是山姆/You.Dont.Know.Me.S01.WEBRip.x264-ION10/Subs/You.Dont.Know.Me.S01E02.WEBRip.x264-ION10: 9\n",
            "/content/input/我是山姆/You.Dont.Know.Me.S01.WEBRip.x264-ION10/Subs/You.Dont.Know.Me.S01E01.WEBRip.x264-ION10: 9\n",
            "/content/input/我是山姆/You.Dont.Know.Me.S01.WEBRip.x264-ION10/Subs/You.Dont.Know.Me.S01E03.WEBRip.x264-ION10: 9\n",
            "/content/input/神秘巨星/[圣斗士星矢][1-114][中文字幕]: 9\n",
            "/content/input/罗根/【20200731】日本动画OPED的K值（总计925份）: 9\n",
            "/content/input/风之谷: 9\n",
            "/content/input/七宗罪/Se7en.Remastered.Edition.1995.BluRay.720p.x264.AC3.2Audios-CMCT: 9\n",
            "/content/input/雷神1/Ragnarok.S03.720p.WEB.h264-EDITH_SUBS: 9\n",
            "/content/input/比利·林恩的中场战事/Billy.Lynns.Long.Halftime.Walk.2016.720p.BluRay.x264-GECKOS: 9\n",
            "/content/input/芝加哥: 9\n"
          ]
        }
      ]
    },
    {
      "cell_type": "code",
      "source": [
        "print(len(successful_list))\n",
        "print(len(failed_list))"
      ],
      "metadata": {
        "colab": {
          "base_uri": "https://localhost:8080/"
        },
        "id": "asmYs9_wLvz2",
        "outputId": "7b137c63-546e-4413-fe5c-1fef535b354e"
      },
      "execution_count": null,
      "outputs": [
        {
          "output_type": "stream",
          "name": "stdout",
          "text": [
            "510\n",
            "103\n"
          ]
        }
      ]
    },
    {
      "cell_type": "code",
      "source": [
        "data = {}\n",
        "\n",
        "data[\"movie_name\"] = \"例子电影\"\n",
        "\n",
        "data[\"major_character\"] = \"查理\"\n",
        "\n",
        "data[\"other_characters\"] = [\"汤姆\",\"萨姆\"]\n",
        "\n",
        "data[\"selected_five_dialogues\"] = [\n",
        "    [\n",
        "      {\"text\": \"你知道吗，萨姆，我今天早上在买咖啡时碰到了一个占卜师。\", \"said_by\": \"查理\"},\n",
        "      {\"text\": \"哦，真的吗？她告诉你什么好消息？\", \"said_by\": \"萨姆\"},\n",
        "      {\"text\": \"她说我会遇到一些‘大变化’。所以我换了个口味，从拿铁改成了美式。\", \"said_by\": \"查理\"},\n",
        "      {\"text\": \"查理，那不是占卜师说的变化吧！\", \"said_by\": \"萨姆\"},\n",
        "      {\"text\": \"嘿，生活就是要有点小刺激，对吧？即使是咖啡口味的改变也算是冒险。\", \"said_by\": \"查理\"},\n",
        "      {\"text\": \"你的幽默感永远都是你的‘大变化’。\", \"said_by\": \"萨姆\"}\n",
        "    ],\n",
        "    [\n",
        "    {\"text\": \"Hey Charlie, did you see the new art exhibit downtown?\", \"said_by\": \"Alex\"},\n",
        "    {\"text\": \"Yeah, I checked it out last weekend. It's quite impressive!\", \"said_by\": \"Charlie\"},\n",
        "    ],\n",
        "    [\n",
        "      {\"text\": \"你是什么人？\", \"said_by\": \"汤姆\"},\n",
        "      {\"text\": \"我是查理呀，怎么士别三日都不认识我啦？\", \"said_by\": \"查理\"}\n",
        "    ]\n",
        "]\n",
        "\n",
        "\n",
        "data[\"personality\"] = \"查理是一个幽默乐观的人\"\n",
        "\n",
        "data[\"appearance\"] = \"查理是一个幽默的办公室员工\"\n",
        "\n",
        "data[\"world_view_setting\"] = \"这是一个办公室的场景，查理和萨姆是同事的关系\"\n",
        "\n",
        "data[\"character_description\"] = \"查理是一个幽默、乐观、随和且善于用轻松的方式处理日常生活的人。\"\n",
        "\n",
        "data[\"language_style\"] = \"查理的语言风格是幽默的\"\n",
        "\n",
        "\n",
        "data[\"greeting_information\"] = \"嗨我的老伙计{user_name}，你还记得我吗，是我呀查理。\"\n",
        "\n",
        "import json\n",
        "\n",
        "# 将字典转换为JSON字符串，缩进为4个空格\n",
        "json_str_with_spaces = json.dumps(data, indent=4, ensure_ascii = False)\n",
        "\n",
        "print(json_str_with_spaces)"
      ],
      "metadata": {
        "colab": {
          "base_uri": "https://localhost:8080/"
        },
        "id": "CWEjLclH8vg8",
        "outputId": "42e177d6-a0aa-4789-fbff-6a327ee29e41"
      },
      "execution_count": null,
      "outputs": [
        {
          "output_type": "stream",
          "name": "stdout",
          "text": [
            "{\n",
            "    \"movie_name\": \"例子电影\",\n",
            "    \"major_character\": \"查理\",\n",
            "    \"other_characters\": [\n",
            "        \"汤姆\",\n",
            "        \"萨姆\"\n",
            "    ],\n",
            "    \"selected_five_dialogues\": [\n",
            "        [\n",
            "            {\n",
            "                \"text\": \"你知道吗，萨姆，我今天早上在买咖啡时碰到了一个占卜师。\",\n",
            "                \"said_by\": \"查理\"\n",
            "            },\n",
            "            {\n",
            "                \"text\": \"哦，真的吗？她告诉你什么好消息？\",\n",
            "                \"said_by\": \"萨姆\"\n",
            "            },\n",
            "            {\n",
            "                \"text\": \"她说我会遇到一些‘大变化’。所以我换了个口味，从拿铁改成了美式。\",\n",
            "                \"said_by\": \"查理\"\n",
            "            },\n",
            "            {\n",
            "                \"text\": \"查理，那不是占卜师说的变化吧！\",\n",
            "                \"said_by\": \"萨姆\"\n",
            "            },\n",
            "            {\n",
            "                \"text\": \"嘿，生活就是要有点小刺激，对吧？即使是咖啡口味的改变也算是冒险。\",\n",
            "                \"said_by\": \"查理\"\n",
            "            },\n",
            "            {\n",
            "                \"text\": \"你的幽默感永远都是你的‘大变化’。\",\n",
            "                \"said_by\": \"萨姆\"\n",
            "            }\n",
            "        ],\n",
            "        [\n",
            "            {\n",
            "                \"text\": \"Hey Charlie, did you see the new art exhibit downtown?\",\n",
            "                \"said_by\": \"Alex\"\n",
            "            },\n",
            "            {\n",
            "                \"text\": \"Yeah, I checked it out last weekend. It's quite impressive!\",\n",
            "                \"said_by\": \"Charlie\"\n",
            "            }\n",
            "        ],\n",
            "        [\n",
            "            {\n",
            "                \"text\": \"你是什么人？\",\n",
            "                \"said_by\": \"汤姆\"\n",
            "            },\n",
            "            {\n",
            "                \"text\": \"我是查理呀，怎么士别三日都不认识我啦？\",\n",
            "                \"said_by\": \"查理\"\n",
            "            }\n",
            "        ]\n",
            "    ],\n",
            "    \"personality\": \"查理是一个幽默乐观的人\",\n",
            "    \"appearance\": \"查理是一个幽默的办公室员工\",\n",
            "    \"world_view_setting\": \"这是一个办公室的场景，查理和萨姆是同事的关系\",\n",
            "    \"character_description\": \"查理是一个幽默、乐观、随和且善于用轻松的方式处理日常生活的人。\",\n",
            "    \"language_style\": \"查理的语言风格是幽默的\",\n",
            "    \"greeting_information\": \"嗨我的老伙计{user_name}，你还记得我吗，是我呀查理。\"\n",
            "}\n"
          ]
        }
      ]
    },
    {
      "cell_type": "code",
      "source": [
        "print(data)"
      ],
      "metadata": {
        "colab": {
          "base_uri": "https://localhost:8080/"
        },
        "id": "zYd4DlRfDYlF",
        "outputId": "b4e30d8d-9257-4df5-9e7a-74932f5973c7"
      },
      "execution_count": null,
      "outputs": [
        {
          "output_type": "stream",
          "name": "stdout",
          "text": [
            "{'movie_name': '例子电影', 'major_character': '查理', 'other_characters': ['汤姆', '萨姆'], 'selected_five_dialogues': [[{'text': '你知道吗，萨姆，我今天早上在买咖啡时碰到了一个占卜师。', 'said_by': '查理'}, {'text': '哦，真的吗？她告诉你什么好消息？', 'said_by': '萨姆'}, {'text': '她说我会遇到一些‘大变化’。所以我换了个口味，从拿铁改成了美式。', 'said_by': '查理'}, {'text': '查理，那不是占卜师说的变化吧！', 'said_by': '萨姆'}, {'text': '嘿，生活就是要有点小刺激，对吧？即使是咖啡口味的改变也算是冒险。', 'said_by': '查理'}, {'text': '你的幽默感永远都是你的‘大变化’。', 'said_by': '萨姆'}], [{'text': 'Hey Charlie, did you see the new art exhibit downtown?', 'said_by': 'Alex'}, {'text': \"Yeah, I checked it out last weekend. It's quite impressive!\", 'said_by': 'Charlie'}], [{'text': '你是什么人？', 'said_by': '汤姆'}, {'text': '我是查理呀，怎么士别三日都不认识我啦？', 'said_by': '查理'}]], 'personality': '查理是一个幽默乐观的人', 'appearance': '查理是一个幽默的办公室员工', 'world_view_setting': '这是一个办公室的场景，查理和萨姆是同事的关系', 'character_description': '查理是一个幽默、乐观、随和且善于用轻松的方式处理日常生活的人。', 'language_style': '查理的语言风格是幽默的', 'greeting_information': '嗨我的老伙计{user_name}，你还记得我吗，是我呀查理。'}\n"
          ]
        }
      ]
    },
    {
      "cell_type": "markdown",
      "source": [],
      "metadata": {
        "id": "_LQYERN1BaXr"
      }
    },
    {
      "cell_type": "markdown",
      "source": [
        "测试新的openai的对接"
      ],
      "metadata": {
        "id": "6vAJmWhacJhu"
      }
    },
    {
      "cell_type": "code",
      "source": [
        "task_prompt = \"\"\"请帮我从电影的对白中，总结出现频率最高的某个角色的信息，参考Example Output中的json格式进行输出\n",
        "\n",
        "json中包括这些字段:\n",
        "\n",
        "- movie_name: 电影名称\n",
        "- major_character: 出现频率最高的角色名称\n",
        "- other_characters: 除了major_character之外，电影中其他主要角色的名字\n",
        "- selected_five_dialogues: 该角色相关的5段对白，同时根据上下文，判断每一句话的说话人，保存在said_by字段中\n",
        "- personality: 根据你所了解的电影信息以及input的信息，总结角色的性格\n",
        "- appearance: 根据你所了解的电影信息以及input的信息，总结角色的外貌特征\n",
        "- character_description: 角色的简要描述\n",
        "- world_view_setting: 根据你所了解的电影信息以及input的信息，总结角色所处的世界观, 以及角色的关键经历\n",
        "- language_style: 根据你所了解的电影信息以及input的信息，总结角色的语言风格\n",
        "- greeting_information: 假设major_character遇见角色{{user_name}}时的开场白，如果对话中出现遇到的这个角色，其名字用\"{{user_name}}\"代替，如果无法提供，则输出空字符串\n",
        "\n",
        "\n",
        "请参考Example中给出的Input-Output例子，对新的Input进行分析，提取出主角的信息\"\"\""
      ],
      "metadata": {
        "id": "83902s7Gc6f2"
      },
      "execution_count": null,
      "outputs": []
    },
    {
      "cell_type": "code",
      "source": [
        "example_input = \"\"\"File Name:\n",
        "例子电影对白输入.srt\n",
        "\n",
        "srt:\n",
        "你知道吗，萨姆，我今天早上在买咖啡时碰到了一个占卜师。\n",
        "哦，真的吗？她告诉你什么好消息？\n",
        "她说我会遇到一些“大变化”。所以我换了个口味，从拿铁改成了美式。\n",
        "查理，那不是占卜师说的变化吧！\n",
        "嘿，生活就是要有点小刺激，对吧？即使是咖啡口味的改变也算是冒险。\n",
        "你的幽默感永远都是你的“大变化”。\n",
        "Hey Charlie, did you see the new art exhibit downtown?\n",
        "Yeah, I checked it out last weekend. It's quite impressive!\n",
        "你是什么人？\n",
        "我是查理呀，怎么士别三日都不认识我啦？\"\"\""
      ],
      "metadata": {
        "id": "Aq3ZexYWdMgG"
      },
      "execution_count": null,
      "outputs": []
    },
    {
      "cell_type": "code",
      "source": [
        "example_output = json_str_with_spaces"
      ],
      "metadata": {
        "id": "JYxfackGdSfY"
      },
      "execution_count": null,
      "outputs": []
    },
    {
      "cell_type": "code",
      "source": [
        "#@title 指定输入\n",
        "\n",
        "input = \"\"\"File Name:\n",
        "让子弹飞.srt\n",
        "\n",
        "srt:\n",
        "你一个师爷敢冒充县长？\n",
        "那就要看你的本事了\n",
        "师爷，当夫妻最要紧的是什么？\n",
        "恩爱！\n",
        "听不见，再说一遍\n",
        "恩爱！\n",
        "来，见过母亲大人\n",
        "母亲大人好，小六子有礼了！\n",
        "你出生入死，还带着儿子啊？\n",
        "他爹是我的兄弟，阵亡了\n",
        "所以他就成了我的儿子\n",
        "所以呢，你现在就是我的母亲大人！\n",
        "等这桩买卖做完后\n",
        "“天之涯”\n",
        "“地之角”\n",
        "“知交半零落”\n",
        "“一壶浊酒尽余欢”\n",
        "“夕阳山外山”\n",
        "好，好好\n",
        "汤师爷\n",
        "是好吃，还是好听？\n",
        "也好听，也好吃\n",
        "都好，都好！\n",
        "我马某走南闯北\n",
        "靠的就是能文能武，与众不同\n",
        "不光吃喝玩乐，更要雪月风花\n",
        "马县长此番风度\n",
        "正好比\n",
        "大风起兮云飞扬\n",
        "屁！\n",
        "刘邦是个小人！\n",
        "力拔山兮气盖世\n",
        "屁！ 屁，屁\n",
        "汤师爷\n",
        "你要是拍我马屁\n",
        "就先要先过夫人这一关\n",
        "写首诗，写首诗！\n",
        "要有风，要有肉\n",
        "要有火锅，要有雾\n",
        "要有美女，要有驴！\n",
        "起来，起来，起来\n",
        "一起吃！一起唱！\n",
        "报告县长！我们铁血十八星陆军\n",
        "护送县长安全上任！\n",
        "我们…\n",
        "不吃饭！\n",
        "没打中？\n",
        "让子弹飞一会儿\n",
        "老二老三跟我走\n",
        "其他人把白马抓回来！\n",
        "火锅？\n",
        "爹，全都找遍了\n",
        "没钱，没货，也没有银子\n",
        "人倒是剩两活的，杀不杀？\n",
        "钱藏在哪儿了？说出来\n",
        "闹钟响之前要是说不出来\n",
        "脑袋搬家\n",
        "哭？\n",
        "哭也算时间啊\n",
        "有什么就说什么嘛\n",
        "这位夫人，你是谁？\n",
        "我就是县长夫人啊\n",
        "失敬！失敬！\n",
        "那你就是县太爷？\n",
        "有钱！有钱…！\n",
        "我跟县长进城上任\n",
        "县长淹死了，现在没有\n",
        "上任就有！上任就有钱\n",
        "上任就有！\n",
        "再给你一圈，顺着买官往下说\n",
        "有二十万\n",
        "钱呢？ 买官了\n",
        "他，他县长赚过六百四十万！\n",
        "我不是师爷么，我就赚个零头！\n",
        "没失过手？\n",
        "不动手，拼的是脑子，不流血\n",
        "你这次去哪儿上任？\n",
        "鹅城\n",
        "火车被劫，你的人淹死了怎么交代？\n",
        "车是我买的，人是我雇的，没人追查\n",
        "没有人追查\n",
        "别摘！别摘…！千万别摘！\n",
        "规矩我懂\n",
        "看见你的脸我就活不成\n",
        "你把我放了，我上任鹅城\n",
        "赚了钱，都给你！都给你！\n",
        "弟兄们劫回道\n",
        "一分钱都没捞着，不合适吧\n",
        "不合适\n",
        "你看了我一眼小命就丢了，也不合适吧\n",
        "更不合适\n",
        "你那些淹死的兄弟给我用用？\n",
        "用！…他们欺男霸女，死有余辜\n",
        "不是，死了有什么用啊？\n",
        "死人有时候比活人有用\n",
        "师爷，睁开眼看我一眼\n",
        "看一眼\n",
        "你逃过一次\n",
        "你要是再敢耍我…\n",
        "明白！脑袋搬家\n",
        "进城\n",
        "城里的女人就是白啊\n",
        "爹，你看\n",
        "他们怎么把你画成这样了！\n",
        "越不像越安全\n",
        "恭迎县长大人！\n",
        "委任状！\n",
        "兹委任马邦德为鹅县县长\n",
        "此状，中华民国萨南康省主席巴青泰\n",
        "中华民国八年八月二十八日\n",
        "黄老爷驾到\n",
        "黄老爷吉祥！\n",
        "Good fortune to Master Huang!\n",
        "此乃南国一霸黄四郎\n",
        "干的是贩卖人口，倒卖烟土的大生意\n",
        "黄老爷百忙无暇\n",
        "特命我黄府大管家胡万！\n",
        "黄府团练教头武智冲！\n",
        "礼帽，礼貌，欢迎县长！\n",
        "来者不善啊\n",
        "你才是来者\n",
        "老爷，来了\n",
        "谁呀？\n",
        "你自己\n",
        "黄大爷万寿！\n",
        "小的杨万楼，这厢有礼\n",
        "膺品是个好东西！\n",
        "膺品是个好东西！\n",
        "走几步\n",
        "走出个虎虎生风\n",
        "走个虎虎生风\n",
        "走出一个一日千里\n",
        "走个一日千里\n",
        "走出一个恍如隔世\n",
        "走个恍如隔世\n",
        "买官干什么？ 赚钱\n",
        "能赚多少？ 一倍\n",
        "多长时间？ 一年\n",
        "我要等你一年？\n",
        "半年半年！手气好，一个月也行！\n",
        "县长淹死了，谁去上任？ 我\n",
        "你是谁？ 师爷\n",
        "磕不磕？\n",
        "打！\n",
        "这个不好使\n",
        "得使这个！\n",
        "哎！别打！我磕！\n",
        "行了\n",
        "那上面印着他名字的时候\n",
        "爹，这叫穆扎这人\n",
        "他是怎么把这东西吹到这里边的？\n",
        "你去留完洋，你就什么都知道了\n",
        "若是夫人有任何要求\n",
        "兄弟我…\n",
        "也决不推辞\n",
        "睡觉\n",
        "一日夫妻百日恩呐\n",
        "反正呢，我就想当县长夫人\n",
        "谁是县长，我无所谓！\n",
        "兄弟，别客气嘛\n",
        "我客气吗？\n",
        "客气呀\n",
        "这还算客气？\n",
        "你太客气啦\n",
        "怎么才能不客气啊？\n",
        "晚了！\n",
        "前几任县长\n",
        "把鹅城的税，收到九十年以后了\n",
        "也就是西历二零一零年！\n",
        "咱们来错地方了\n",
        "我倒是觉得这个地方不错\n",
        "百姓成穷鬼了，没油水可榨了\n",
        "老子从来就没想刮穷鬼的钱\n",
        "那你要这么说\n",
        "买官当县长还真就是跪着要饭的\n",
        "就这，多少人想跪还没这门路呢！\n",
        "我问问你，我为什么要上山当土匪？\n",
        "我就是腿脚不方便，跪不下去！\n",
        "原来你是想站着赚钱啊！\n",
        "那还是回山里吧\n",
        "这我就不明白了\n",
        "我已经当了县长了\n",
        "怎么还不如个土匪呀？\n",
        "百姓眼里，你是县长\n",
        "可是黄四郎眼里\n",
        "你就是跪着要饭的\n",
        "赚钱嘛，生意，不寒酸！\n",
        "寒酸！\n",
        "很寒酸\n",
        "那你是想站着？\n",
        "还是想赚钱呢？\n",
        "我是想站着，还把钱赚了\n",
        "赚不成！\n",
        "赚不成？\n",
        "赚不成！\n",
        "这个能不能赚钱？\n",
        "能赚，山里\n",
        "这个能不能赚钱？\n",
        "能赚，跪着\n",
        "这个加上这个\n",
        "能不能站着把钱赚了？\n",
        "敢问九筒大哥何方神圣？\n",
        "鄙人，张麻子！\n",
        "那不是树，别砍了！\n",
        "这是冤鼓，干隆那时候设的\n",
        "老没人敲就生了根，长了叶\n",
        "没人认识县长长什么模样\n",
        "你干过几次？ 一年两次\n",
        "干过几年？ 八年\n",
        "八八六十四，你赚过六百四十万？\n",
        "就看一眼\n",
        "师爷贵姓？ 别客气\n",
        "姓什么？ 姓汤\n",
        "汤师爷，我当县长\n",
        "你继续当我的师爷\n",
        "咱们鹅城走一趟\n",
        "夫人，要不要走一趟？\n",
        "走就走嘛\n",
        "嘿嘿嘿，弟兄们上任鹅城\n",
        "上任鹅城！\n",
        "兄弟们失了手\n",
        "让你丈夫横遭了不测\n",
        "我很是愧疚\n",
        "我已经第四次当寡妇了\n",
        "那可千万别第五次哦！\n",
        "当惯了县长\n",
        "再回去当麻匪\n",
        "恐怕会有点不习’惯吧\n",
        "曾经沧海难为水嘛\n",
        "说得好\n",
        "那怎么办啊？\n",
        "“从正面绕回来，让大家乐一乐”\n",
        "怎么办？继续当官叹！\n",
        "遇事要多动脑筋\n",
        "先动脑子后动手，明白吗？\n",
        "明白\n",
        "师爷\n",
        "我们现在是做官的人了\n",
        "不得再有匪气\n",
        "师爷，当县长最要紧的是什么？\n",
        "忍耐！\n",
        "当了县长\n",
        "我还得拉拢豪绅\n",
        "还得巧立名目\n",
        "还得看他的脸色\n",
        "我不成跪着要饭的了吗？\n",
        "就成现在这样了\n",
        "我爹说了\n",
        "有冤鼓，就说明有冤！\n",
        "他说他要判个案！\n",
        "哪儿有冤呐？\n",
        "谁敢有冤呐？\n",
        "这都一百多年了\n",
        "你要把它砍了，把鼓露出来\n",
        "不定出多大冤呐？\n",
        "别砍啦！你爹他人呢？\n",
        "睡觉！\n",
        "跟谁睡啊？怎么还睡啊？\n",
        "鼓呢？\n",
        "鼓呢？\n",
        "叫你别砍吧，把鼓给砍跑了\n",
        "鼓鼓鼓鼓！\n",
        "躲开\n",
        "这鼓怎么跟着我呀\n",
        "救命呀…！大人\n",
        "可惜了老子的酒\n",
        "老子的雅兴全让你给毁了\n",
        "全毁了！\n",
        "改日我再收拾你\n",
        "鼓都捶破了\n",
        "说明你们俩很冤呐\n",
        "升堂！\n",
        "冤从何来？\n",
        "没冤！\n",
        "有冤的说冤，没冤的那就散！散会\n",
        "冤！\n",
        "不是我冤，是武举老爷冤！\n",
        "小的不长眼\n",
        "在躲鼓的时候碰洒了武举老爷的酒\n",
        "害的武举老爷没有了胃口\n",
        "小的应该给武举老爷赔礼，赔礼\n",
        "老子不冤\n",
        "敢说你不冤\n",
        "跪下！\n",
        "这可是黄四郎的团练教头\n",
        "跪不得\n",
        "那这个穆扎在哪儿？\n",
        "我留洋的时候要去哪找他？\n",
        "他呀，离咱们很远\n",
        "怎么做，知道了吗？\n",
        "知道了\n",
        "谁让你去做的，你也知道了吗？\n",
        "知道了\n",
        "是老爷叫你去的吗？\n",
        "是，是老爷让我去的\n",
        "跟我们一块回山里吧\n",
        "你可以继续当我的母亲\n",
        "人往高处走，水往低处流！\n",
        "你说她怎么不害怕啊？\n",
        "有点傻吧\n",
        "为什么要枪毙麻匪？\n",
        "因为他们抢官车，劫县长！\n",
        "枪毙他们，就是为了让大家明白\n",
        "准！大哥\n",
        "我还在娘胎里的时候\n",
        "算命先生就指着我娘的肚子说\n",
        "是不是把县长给阉了？\n",
        "钻石！…\n",
        "我的两颗钻石！\n",
        "老爷放心！你要的钻石\n",
        "我这就给你弄回来\n",
        "对不起\n",
        "我应该的\n",
        "明白不明白，为什么派你去？\n",
        "因为我死了\n",
        "为什么你会死呢？\n",
        "因为我把老爷给供出来了\n",
        "对楼！如果你活着，早晚都会死\n",
        "如果你死了\n",
        "这孩子将来最大缺点\n",
        "就是不会装糊涂！\n",
        "大哥，我还能改吗？\n",
        "改不了！天生的\n",
        "你看看这位师爷就是装糊涂的高手\n",
        "把钱说成刀\n",
        "钱，是什么钱？\n",
        "是美元！\n",
        "你看你看！装糊涂的天才啊！\n",
        "师爷，敬你的\n",
        "谢黄老爷颂扬\n",
        "容老弟真的糊涂一回\n",
        "剿匪成功之后，追回的烟土\n",
        "我们只要两成就够！\n",
        "不行！对半开！\n",
        "为表诚意，预祝剿匪凯旋！\n",
        "一百八十万，马上送来！\n",
        "无功不受禄，现在收钱太早\n",
        "黛玉，晴雯！\n",
        "大哥，美女我也不能要\n",
        "美女不要，钱你也不要\n",
        "你要什么啊？\n",
        "腿！\n",
        "什么腿啊？\n",
        "你不会装糊涂\n",
        "明白，明白\n",
        "我也明白\n",
        "该死的东西！\n",
        "花有重开日\n",
        "人无再少年\n",
        "姑娘如花似玉\n",
        "大哥，怒不得啊！\n",
        "黄老爷，轻松点！\n",
        "相见恨晚！\n",
        "姑娘、钻石一并送上！\n",
        "对抗官府之下场！\n",
        "县长来了，鹅城太平了！\n",
        "县长来了，青天就有啦！\n",
        "师爷，说得好啊\n",
        "你记得我跟你说过\n",
        "有时候死人比活人有用吧\n",
        "是，死人是比活人有用\n",
        "霸气外露！\n",
        "找死！\n",
        "刚进城就开枪\n",
        "这不是二八开能打发走的\n",
        "先发制人？\n",
        "不急\n",
        "跟他耍耍\n",
        "不急，跟他耍耍\n",
        "算了吧！\n",
        "算了！\n",
        "算了吧！\n",
        "算了算了！\n",
        "算了吧！\n",
        "算了！!\n",
        "算了！!\n",
        "算你妈的吧！\n",
        "胡千\n",
        "是，老爷！\n",
        "多拔他几颗牙\n",
        "跟我一样，全镶成金的\n",
        "是\n",
        "夫人\n",
        "兄弟我此番\n",
        "只为劫财\n",
        "不为劫色\n",
        "同床\n",
        "但不入身！\n",
        "有枪在此\n",
        "若是兄弟我…\n",
        "有冒犯夫人的举动\n",
        "你可以随时干掉我\n",
        "起来！不准跪！\n",
        "皇上都没了，没人值得你们跪！\n",
        "我也不值你们跪！\n",
        "我来鹅城只办三件事\n",
        "公平！\n",
        "justice,\n",
        "还是公平！\n",
        "青天大老爷！\n",
        "站起来！不准跪！\n",
        "这就对了\n",
        "不准跪？\n",
        "这哪是打我的屁股\n",
        "这明明是打您的脸\n",
        "老爷，等我把屁股养好了\n",
        "我亲手给你报仇！\n",
        "那就把卖凉粉的叫来\n",
        "县长喜欢判案\n",
        "就安排一点案子给他判叹\n",
        "爹，今天你这县长干得真漂亮\n",
        "打武举人打得真过瘾\n",
        "将来我也想当县长\n",
        "你不能当县长，也不许当土匪\n",
        "你爹死的时候把你交给我\n",
        "我答应过他，要让你有出息\n",
        "那我当什么才有出息？\n",
        "当学生！读书，多听这个\n",
        "没声啊！\n",
        "我不能…\n",
        "让她再守活寡\n",
        "这是第一步\n",
        "三步之内…\n",
        "要不让他们滚蛋走人\n",
        "要不让他们跪下当狗！\n",
        "对，非常对\n",
        "老爷，您找我？\n",
        "官府的人还没来？\n",
        "没有\n",
        "县长不缥妓？\n",
        "不好色的县长，不一定是好县长\n",
        "我就是不好色！\n",
        "所以您当不了县长\n",
        "我当不了县长？\n",
        "县长哪能跟您比呀\n",
        "他只是流水的县长\n",
        "您才是铁打的老爷\n",
        "你真会讲话\n",
        "他们一定会来，你要好好记住\n",
        "他们讲的每一句有用的话\n",
        "都要回来跟我汇报\n",
        "是\n",
        "走吧，你不要变成小凤仙哦\n",
        "老爷，谁是小凤仙？\n",
        "小凤仙都不知道还当妓女\n",
        "那可是名震京城，誉满全国的妓女\n",
        "你们出去吧\n",
        "县长此刻正怀抱夫人，共枕同眠\n",
        "让他睡最后一个安稳觉\n",
        "县长公子，以身试法\n",
        "讲茶大堂，恭迎大驾！\n",
        "讲茶大堂？县衙不是判案的地方吗？\n",
        "你这个县衙是摆设\n",
        "判案只有去讲茶大堂！那才是真县衙！\n",
        "六爷\n",
        "你吃了两碗的粉\n",
        "不刮穷鬼的钱你收谁的呀？\n",
        "谁有钱赚谁的\n",
        "当过县长吗？\n",
        "没有\n",
        "我告诉你！\n",
        "县长上任，得巧立名目\n",
        "拉拢豪绅，缴税捐款\n",
        "他们交了，才能让百姓跟着交钱\n",
        "得钱之后，豪绅的钱如数奉还\n",
        "百姓的钱，三七分成！\n",
        "怎么才七成啊？\n",
        "七成是人家的！\n",
        "能得三成还得看黄四郎的脸色\n",
        "谁的脸色？\n",
        "他！\n",
        "他？!\n",
        "我大老远的来一趟\n",
        "就是为了看他的脸色？\n",
        "对！\n",
        "我好不容易劫了趟火车\n",
        "老子是光绪三十一年\n",
        "皇上钦点的武举人\n",
        "论官职，比你官大\n",
        "你应该给老子跪下\n",
        "跪下！\n",
        "跪不跪？\n",
        "还皇上！\n",
        "哪个皇上？我见过吗？\n",
        "你要是个文举人\n",
        "他应该给你磕两百个头\n",
        "可惜你只是个武举人\n",
        "他只能给你磕一百个头\n",
        "现在他两百个头磕完了\n",
        "你还他一百个\n",
        "可我只磕了两个\n",
        "两个也得还你一百个\n",
        "才能让我看得见\n",
        "六爷，让大家看看是一碗还是两碗\n",
        "拉！\n",
        "六爷，碗！\n",
        "看见了吧！看见了吧！\n",
        "是不是只有一碗！\n",
        "There's only one bowl, right?\n",
        "你早说不就得了吗\n",
        "他要个公平\n",
        "你不是欺负老实人吗？\n",
        "告诉我，你是老实人吗？\n",
        "我是\n",
        "那你就说实话，我到底吃了几碗粉？\n",
        "你告诉他！\n",
        "你说不说？\n",
        "拿枪吓唬一可怜的，卖凉粉的\n",
        "有枪是吧？谁没有枪啊！\n",
        "孙守义\n",
        "大声说，他吃了几碗\n",
        "守义，在座所有的乡亲\n",
        "都会为你和你的家人作主的\n",
        "大声说，几碗\n",
        "两碗\n",
        "你是一个恶人！\n",
        "比恶是吧，我比你还恶\n",
        "都看好了啊\n",
        "今我肚子里要有两碗粉\n",
        "我白死\n",
        "杀了他，六子白死\n",
        "我没有杀他，他自己捅自己的！\n",
        "我们在打赌\n",
        "他输了\n",
        "大哥，你让我一枪崩了他！\n",
        "你不敢杀我！你不能杀我！\n",
        "黄四郎就想看你这样！\n",
        "一脸的败相！\n",
        "杀了他就是输，不杀还能赢\n",
        "放人\n",
        "杀人诛心，杀人诛心！\n",
        "师爷说得对 放人\n",
        "刀进了肚子，那凉粉还是凉粉？\n",
        "是\n",
        "不是\n",
        "我就想知道，凉粉到底还是不是凉粉\n",
        "是凉粉！\n",
        "过来过来\n",
        "那么…\n",
        "人死了？\n",
        "死了\n",
        "所以…你就把我供出来了？\n",
        "我是用老爷的名字吓唬他们\n",
        "他们被吓着了么？\n",
        "他们说杀人诛心！\n",
        "杀人还要诛心？\n",
        "好可怕啊！\n",
        "六弟，四哥发誓替你报仇！\n",
        "六弟，五哥发誓替你报仇！\n",
        "六哥，七弟发誓替你报仇！\n",
        "二哥喝醉了，他让我带话\n",
        "二哥发誓替你报仇！\n",
        "六弟，三哥发誓替你报仇！\n",
        "二哥没喝醉，他生气了！\n",
        "大哥不想让大伙拼命\n",
        "命都不拼，还算麻匪吗？\n",
        "你磕头！你数数！\n",
        "一二三四五六…\n",
        "青天大老爷！\n",
        "这帮买官的县长，就知道捞钱\n",
        "唱机都撂坏了\n",
        "修好了\n",
        "这单活干完了，爹赚了钱\n",
        "我送你去留洋\n",
        "东洋三年\n",
        "西洋三年\n",
        "南洋三年\n",
        "北洋，北洋三年\n",
        "傻孩子，你生在北洋，不必留了\n",
        "这是谁吹的？\n",
        "听着像穆扎\n",
        "他们那边叫穆扎\n",
        "咱们这边叫莫札特\n",
        "你还能听出来是谁吹的呢？!\n",
        "得分时候\n",
        "什么时候？\n",
        "是我自己要去的\n",
        "没有人让我去，是我自己\n",
        "恩人！恩人！\n",
        "恩人！\n",
        "你是叫我呢？\n",
        "我什么时候成你恩人了？\n",
        "不杀之恩为大恩！\n",
        "为报不杀之恩，我也救你一命\n",
        "哦？你快说\n",
        "寡妇，不能睡啊！\n",
        "必有大灾！\n",
        "她…\n",
        "真的是寡妇么？\n",
        "我看着不像\n",
        "我亲眼看见他丈夫淹死的\n",
        "她已经成了寡妇\n",
        "就是恶霸请土匪！\n",
        "项羽请刘邦啊！\n",
        "刘邦后来干什么去了？\n",
        "当皇帝了\n",
        "项羽呢？\n",
        "那，赴宴？\n",
        "赴宴！正好借机把黄四郎也笼络过来\n",
        "咱们三个联手一起捞钱\n",
        "“把家伙拿来”\n",
        "“换上黄家衣服跟我走”\n",
        "明白\n",
        "“干掉黄四郎，给六子报仇”\n",
        "明白\n",
        "老汤，你是把六子的死当捞钱的成本了？\n",
        "我看你当成本，赚的钱会更多\n",
        "这是什么意思？\n",
        "走！去会会你的新朋友\n",
        "立正！\n",
        "县长，师爷，大驾光临！有失远迎！\n",
        "黄老爷的宅邸，竹林掩映，碉楼耸立\n",
        "易守难攻，万夫莫开！\n",
        "县长英雄气概，师爷文采斐然\n",
        "珠联璧合！二位请！\n",
        "六爷的死，壮烈！\n",
        "今天请县长来\n",
        "就是要当面为六爷讨回这个公道！\n",
        "如果真的是黄某指使\n",
        "那我就像六爷一样\n",
        "当众剖腹自杀！\n",
        "不但自杀，还请县长您\n",
        "老大往往是空架子\n",
        "每天眼一睁，几百人吃、喝、拉、撒\n",
        "都要等着我伺候\n",
        "真正落到我嘴里的，能有几口\n",
        "如果县长真的急着赚钱\n",
        "我倒是有个好去处！\n",
        "哦？请讲！\n",
        "张麻子\n",
        "真死了！\n",
        "张麻子？\n",
        "对，张麻子！\n",
        "那么这个张麻子，是跟我们有关系呢？\n",
        "还是跟钱有关系？\n",
        "都有关系！\n",
        "莫非他在鹅城？\n",
        "在…\n",
        "也不在！\n",
        "黄老爷这话，还挺有玄机啊！\n",
        "六爷，挺住！我去给你请大夫！\n",
        "别走！是不是只有一碗！\n",
        "是不是只有一碗！是不是！\n",
        "该你了\n",
        "我知道你只吃了一碗\n",
        "你上当了\n",
        "不能杀…！我不能放！\n",
        "为什么不能杀？\n",
        "说不出说法来，我把你一起杀了\n",
        "我\n",
        "你？\n",
        "你，你自己\n",
        "我自己，我自己\n",
        "听不见\n",
        "只给了一碗的钱\n",
        "放屁，我就吃了一碗的粉\n",
        "给了他一碗的钱！\n",
        "他吃了几碗？\n",
        "两碗\n",
        "不可能！\n",
        "六爷是县长的儿子\n",
        "怎么能欠你的粉钱呢？\n",
        "就是吃了两碗，只给了一碗的钱\n",
        "县长要给我们鹅城一个公平\n",
        "好！\n",
        "我今天讨的就是一个公平\n",
        "对\n",
        "问谁讨？问县长儿子。为什么？\n",
        "他吃了两碗粉，只给了一碗的钱\n",
        "这就叫作不公平！\n",
        "既然县长儿子带头不公平\n",
        "那县长说的话就是个屁\n",
        "我操\n",
        "六爷…\n",
        "胡万，六爷是县长的儿子\n",
        "怎么会欠他的粉钱呢？\n",
        "你亲眼看见了？\n",
        "嘿，你个吃里爬外的东西\n",
        "怎么着？\n",
        "屁股不疼了？\n",
        "今不聊屁股的事\n",
        "就聊凉粉\n",
        "一碗就是一碗，两碗就是两碗\n",
        "不能含糊\n",
        "六爷，汉子！佩服！\n",
        "一就是一，二就是二\n",
        "我今天就吃了一碗凉粉\n",
        "你给了一碗的钱，吃了两碗粉\n",
        "你没钱是吧，我帮你给！\n",
        "看见了吗？多少碗我都付得起！\n",
        "但是吃一碗的粉，就给一碗的钱\n",
        "这么多钱，他吃了多少碗粉啊\n",
        "马某人这个县长，买来的\n",
        "买官就是为了赚钱\n",
        "而且，马某人不喜欢赚穷人的钱\n",
        "那你想赚谁的钱呢？\n",
        "谁有钱就赚谁的！\n",
        "那谁有钱？\n",
        "你有钱\n",
        "爽快！县长看上什么了，随便拿\n",
        "我不是土匪！我是县长\n",
        "县长赚钱得讲究个名正言顺才是\n",
        "说得好\n",
        "我们鹅城有两大家族\n",
        "都是把人卖到美国修铁路\n",
        "赚的都是美金\n",
        "还说刀的事\n",
        "不是…美金是美国人用的钱\n",
        "美金！懂吗？\n",
        "美金，收到了\n",
        "黄老爷一来，钱就到了\n",
        "喝一杯吧 好，来\n",
        "来…\n",
        "黄老爷，客气了\n",
        "整个南国谁不知道\n",
        "在鹅城\n",
        "你黄四郎是老大！\n",
        "明白吗？ 不明白\n",
        "我是做什么生意的？明白吗？\n",
        "不明白\n",
        "小半个民国的烟土\n",
        "都是黄老爷您在贩卖\n",
        "错！不过是给刘都统当跑腿的\n",
        "而且只是其中一条腿\n",
        "那么刘都统到底有几条腿呢？\n",
        "三条叹\n",
        "明白！事成之后，一百八十万如数奉还\n",
        "咱们分两大家族那点儿钱！\n",
        "一百八十万不用还！\n",
        "不就是剿匪么！剿！\n",
        "咱们把张麻子劫走的那点钱\n",
        "全拿回来，还给黄老爷！\n",
        "到那个时候\n",
        "这一百八十万就是九牛身上的一根毛\n",
        "您还在意吗？\n",
        "不就是个小小的张麻子吗？办他！\n",
        "硬！\n",
        "硬吗？够硬！\n",
        "硬不硬以后再说！\n",
        "我脑子里想的只有一件事\n",
        "替黄老爷把这条腿接上！\n",
        "一个张麻子也太嚣张了！\n",
        "欺负到黄哥头上了，不答应\n",
        "喝酒\n",
        "我以为，酒一口一口喝\n",
        "路一步一步走\n",
        "步子迈大了，喀！\n",
        "容易一场空\n",
        "应该先把钱分清楚\n",
        "再说接腿的事儿\n",
        "嘘！安静一点\n",
        "那么彼时彼刻\n",
        ",｝合如此时此刻\n",
        "竟能如此相像\n",
        "像！很像！\n",
        "不过你比他缺了一样东西\n",
        "大哥不应该听他的\n",
        "姓汤的不是个好玩意\n",
        "六爷，黄四郎这招叫杀人不用刀\n",
        "我给你爹出的招叫杀人诛心\n",
        "不能拼命啊！拼命还怎么赚钱！\n",
        "六子\n",
        "赚钱对我算个事儿吗？\n",
        "我不是要杀人诛心，是没想出好办法\n",
        "我要把黄四郎连根都拔掉\n",
        "给我点时间\n",
        "六子，爹发誓一定给你报仇！\n",
        "把脸收拾收拾\n",
        "六爷，一路走好\n",
        "\"\"\""
      ],
      "metadata": {
        "cellView": "form",
        "id": "41ThaayLdXvA"
      },
      "execution_count": null,
      "outputs": []
    },
    {
      "cell_type": "code",
      "source": [
        "messages = [\n",
        "     {\"role\": \"system\", \"content\": \"You are a helpful assistant designed to output JSON.\"},\n",
        "    {\"role\":\"system\",\"content\":task_prompt},\n",
        "    {\"role\":\"user\",\"content\":example_input},\n",
        "    {\"role\":\"assistant\",\"content\":example_output},\n",
        "    {\"role\":\"user\",\"content\":input}\n",
        "]"
      ],
      "metadata": {
        "id": "7majNzdaeluu"
      },
      "execution_count": null,
      "outputs": []
    },
    {
      "cell_type": "code",
      "source": [
        "completion = client.chat.completions.create(\n",
        "  model=\"gpt-3.5-turbo-1106\",\n",
        "  messages=messages,\n",
        "  response_format={ \"type\": \"json_object\" },\n",
        "  temperature=0\n",
        ")\n",
        "\n",
        "print(completion.choices[0].message.content)"
      ],
      "metadata": {
        "colab": {
          "base_uri": "https://localhost:8080/"
        },
        "id": "dOQr5ABkfPzU",
        "outputId": "5633982a-fc2a-4130-b826-b4e49c0b8605"
      },
      "execution_count": null,
      "outputs": [
        {
          "output_type": "stream",
          "name": "stdout",
          "text": [
            "{\n",
            "    \"movie_name\": \"让子弹飞\",\n",
            "    \"major_character\": \"黄四郎\",\n",
            "    \"other_characters\": [\n",
            "        \"县长\",\n",
            "        \"师爷\",\n",
            "        \"六爷\",\n",
            "        \"大哥\",\n",
            "        \"二哥\",\n",
            "        \"三哥\",\n",
            "        \"四哥\",\n",
            "        \"五哥\",\n",
            "        \"七弟\",\n",
            "        \"八弟\",\n",
            "        \"九弟\",\n",
            "        \"十弟\",\n",
            "        \"胡万\",\n",
            "        \"张麻子\",\n",
            "        \"刘都统\"\n",
            "    ],\n",
            "    \"selected_five_dialogues\": [\n",
            "        [\n",
            "            {\n",
            "                \"text\": \"今天请县长来，就是要当面为六爷讨回这个公道！如果真的是黄某指使，那我就像六爷一样当众剖腹自杀！\",\n",
            "                \"said_by\": \"大哥\"\n",
            "            },\n",
            "            {\n",
            "                \"text\": \"不但自杀，还请县长您\",\n",
            "                \"said_by\": \"六爷\"\n",
            "            },\n",
            "            {\n",
            "                \"text\": \"老大往往是空架子，每天眼一睁，几百人吃、喝、拉、撒都要等着我伺候。真正落到我嘴里的，能有几口。如果县长真的急着赚钱，我倒是有个好去处！\",\n",
            "                \"said_by\": \"县长\"\n",
            "            },\n",
            "            {\n",
            "                \"text\": \"我不是土匪！我是县长。县长赚钱得讲究个名正言顺才是\",\n",
            "                \"said_by\": \"县长\"\n",
            "            },\n",
            "            {\n",
            "                \"text\": \"我今天讨的就是一个公平\",\n",
            "                \"said_by\": \"六爷\"\n",
            "            }\n",
            "        ],\n",
            "        [\n",
            "            {\n",
            "                \"text\": \"你是叫我呢？我什么时候成你恩人了？\",\n",
            "                \"said_by\": \"黄四郎\"\n",
            "            },\n",
            "            {\n",
            "                \"text\": \"不杀之恩为大恩！为报不杀之恩，我也救你一命\",\n",
            "                \"said_by\": \"师爷\"\n",
            "            },\n",
            "            {\n",
            "                \"text\": \"哦？你快说\",\n",
            "                \"said_by\": \"黄四郎\"\n",
            "            },\n",
            "            {\n",
            "                \"text\": \"寡妇，不能睡啊！必有大灾！\",\n",
            "                \"said_by\": \"师爷\"\n",
            "            },\n",
            "            {\n",
            "                \"text\": \"她…真的是寡妇么？我看着不像\",\n",
            "                \"said_by\": \"师爷\"\n",
            "            }\n",
            "        ],\n",
            "        [\n",
            "            {\n",
            "                \"text\": \"你早说不就得了吗。他要个公平\",\n",
            "                \"said_by\": \"六爷\"\n",
            "            },\n",
            "            {\n",
            "                \"text\": \"你不是欺负老实人吗？\",\n",
            "                \"said_by\": \"县长\"\n",
            "            },\n",
            "            {\n",
            "                \"text\": \"屁股不疼了？\",\n",
            "                \"said_by\": \"县长\"\n",
            "            },\n",
            "            {\n",
            "                \"text\": \"今不聊屁股的事，就聊凉粉\",\n",
            "                \"said_by\": \"六爷\"\n",
            "            },\n",
            "            {\n",
            "                \"text\": \"一就是一，二就是二。我今天就吃了一碗凉粉，你给了一碗的钱，吃了两碗粉。你没钱是吧，我帮你给！\",\n",
            "                \"said_by\": \"县长\"\n",
            "            }\n",
            "        ],\n",
            "        [\n",
            "            {\n",
            "                \"text\": \"我以为，酒一口一口喝，路一步一步走。步子迈大了，喀！容易一场空。应该先把钱分清楚，再说接腿的事儿\",\n",
            "                \"said_by\": \"黄四郎\"\n",
            "            },\n",
            "            {\n",
            "                \"text\": \"硬吗？够硬！\",\n",
            "                \"said_by\": \"县长\"\n",
            "            },\n",
            "            {\n",
            "                \"text\": \"硬不硬以后再说！\",\n",
            "                \"said_by\": \"黄四郎\"\n",
            "            },\n",
            "            {\n",
            "                \"text\": \"我脑子里想的只有一件事，替黄老爷把这条腿接上！\",\n",
            "                \"said_by\": \"六爷\"\n",
            "            },\n",
            "            {\n",
            "                \"text\": \"一个张麻子也太嚣张了！欺负到黄哥头上了，不答应\",\n",
            "                \"said_by\": \"大哥\"\n",
            "            }\n",
            "        ],\n",
            "        [\n",
            "            {\n",
            "                \"text\": \"六爷，一路走好\",\n",
            "                \"said_by\": \"县长\"\n",
            "            },\n",
            "            {\n",
            "                \"text\": \"我以为，酒一口一口喝，路一步一步走。步子迈大了，喀！容易一场空。应该先把钱分清楚，再说接腿的事儿\",\n",
            "                \"said_by\": \"黄四郎\"\n",
            "            },\n",
            "            {\n",
            "                \"text\": \"硬吗？够硬！\",\n",
            "                \"said_by\": \"县长\"\n",
            "            },\n",
            "            {\n",
            "                \"text\": \"硬不硬以后再说！\",\n",
            "                \"said_by\": \"黄四郎\"\n",
            "            },\n",
            "            {\n",
            "                \"text\": \"我脑子里想的只有一件事，替黄老爷把这条腿接上！\",\n",
            "                \"said_by\": \"六爷\"\n",
            "            }\n",
            "        ]\n",
            "    ],\n",
            "    \"personality\": \"黄四郎是一个强势、嚣张、有权势的角色，善于利用权力和资源来达到自己的目的。\",\n",
            "    \"appearance\": \"根据电影中的描述，黄四郎是一个威严、气质非凡的形象。\",\n",
            "    \"world_view_setting\": \"黄四郎是一个权力巨头，掌握着大量资源和财富，对于他来说，权力和利益至关重要。\",\n",
            "    \"character_description\": \"黄四郎是一个强势、有权势的角色，善于利用权力和资源来达到自己的目的。\",\n",
            "    \"language_style\": \"黄四郎的语言风格显得嚣张、自信、强势。\",\n",
            "    \"greeting_information\": \"\"\n",
            "}\n"
          ]
        }
      ]
    },
    {
      "cell_type": "code",
      "source": [
        "task_prompt_for_role = \"\"\"请帮我从电影的对白中，总结角色 六爷 的信息，参考Example Output中的json格式进行输出\n",
        "\n",
        "json中包括这些字段:\n",
        "\n",
        "- movie_name: 电影名称\n",
        "- major_character: 出现频率最高的角色名称\n",
        "- selected_five_dialogues: 该角色相关的5段对白，同时根据上下文，判断每一句话的说话人，保存在said_by字段中\n",
        "- personality: 角色的性格\n",
        "- appearance: 角色的外貌特征\n",
        "- character_description: 角色的简要描述\n",
        "- world_view_setting: 角色所处的世界观, 以及角色的关键经历\n",
        "- language_style: 角色的语言风格\n",
        "- greeting_information: 假设major_character遇见角色{{user_name}}时的开场白，如果对话中出现遇到的这个角色，其名字用\"{{user_name}}\"代替，如果无法提供，则输出空字符串\n",
        "- other_characters: 除了major_character之外，电影中其他主要角色的名字\n",
        "\n",
        "请参考Example中给出的Input-Output例子，对新的Input进行分析，提取出主角的信息\"\"\""
      ],
      "metadata": {
        "id": "1egyDcZif9SJ"
      },
      "execution_count": null,
      "outputs": []
    },
    {
      "cell_type": "code",
      "source": [
        "messages = [\n",
        "     {\"role\": \"system\", \"content\": \"You are a helpful assistant designed to output JSON.\"},\n",
        "    {\"role\":\"system\",\"content\":task_prompt_for_role},\n",
        "    {\"role\":\"user\",\"content\":example_input},\n",
        "    {\"role\":\"assistant\",\"content\":example_output},\n",
        "    {\"role\":\"user\",\"content\":input}\n",
        "]"
      ],
      "metadata": {
        "id": "ljMlqS14nwUf"
      },
      "execution_count": null,
      "outputs": []
    },
    {
      "cell_type": "code",
      "source": [
        "completion = client.chat.completions.create(\n",
        "  model=\"gpt-3.5-turbo-1106\",\n",
        "  messages=messages,\n",
        "  response_format={ \"type\": \"json_object\" },\n",
        "  temperature=0\n",
        ")\n",
        "\n",
        "print(completion.choices[0].message.content)"
      ],
      "metadata": {
        "colab": {
          "base_uri": "https://localhost:8080/"
        },
        "id": "ls0yGXl3n0rd",
        "outputId": "9cf8d979-3681-401e-9915-7c4089d854e5"
      },
      "execution_count": null,
      "outputs": [
        {
          "output_type": "stream",
          "name": "stdout",
          "text": [
            "{\n",
            "    \"movie_name\": \"让子弹飞\",\n",
            "    \"major_character\": \"六爷\",\n",
            "    \"selected_five_dialogues\": [\n",
            "        [\n",
            "            {\n",
            "                \"text\": \"你一个师爷敢冒充县长？\",\n",
            "                \"said_by\": \"汤师爷\"\n",
            "            },\n",
            "            {\n",
            "                \"text\": \"那就要看你的本事了\",\n",
            "                \"said_by\": \"六爷\"\n",
            "            }\n",
            "        ],\n",
            "        [\n",
            "            {\n",
            "                \"text\": \"六爷，汉子！佩服！\",\n",
            "                \"said_by\": \"胡万\"\n",
            "            },\n",
            "            {\n",
            "                \"text\": \"一就是一，二就是二，我今天就吃了一碗凉粉，你给了一碗的钱，吃了两碗粉，你没钱是吧，我帮你给！\",\n",
            "                \"said_by\": \"六爷\"\n",
            "            }\n",
            "        ],\n",
            "        [\n",
            "            {\n",
            "                \"text\": \"六爷，黄四郎这招叫杀人不用刀，我给你爹出的招叫杀人诛心\",\n",
            "                \"said_by\": \"马某\"\n",
            "            },\n",
            "            {\n",
            "                \"text\": \"不能拼命啊！拼命还怎么赚钱！\",\n",
            "                \"said_by\": \"六爷\"\n",
            "            }\n",
            "        ],\n",
            "        [\n",
            "            {\n",
            "                \"text\": \"六子，爹发誓一定给你报仇！\",\n",
            "                \"said_by\": \"马某\"\n",
            "            }\n",
            "        ],\n",
            "        [\n",
            "            {\n",
            "                \"text\": \"六爷，一路走好\",\n",
            "                \"said_by\": \"胡万\"\n",
            "            }\n",
            "        ]\n",
            "    ],\n",
            "    \"personality\": \"六爷是一个果断、机智、有决策能力的人，对待问题敢于直面，善于应对各种挑战。\",\n",
            "    \"appearance\": \"六爷的外貌特征在对白中未有具体描述。\",\n",
            "    \"world_view_setting\": \"六爷身处在一个充满权谋和复杂关系的世界中，他面对着各种势力的角力和挑战，需要运用智慧和勇气来维护自己的利益。\",\n",
            "    \"character_description\": \"六爷是一个机智果断的人，对待问题敢于直面，善于应对各种挑战。他在权谋纷争的世界中，展现出了非凡的智慧和决策能力。\",\n",
            "    \"language_style\": \"六爷的语言风格显得干练利落，表达直接，善于运用言辞来应对各种情况。\",\n",
            "    \"greeting_information\": \"\",\n",
            "    \"other_characters\": [\n",
            "        \"汤师爷\",\n",
            "        \"胡万\",\n",
            "        \"马某\"\n",
            "    ]\n",
            "}\n"
          ]
        }
      ]
    },
    {
      "cell_type": "code",
      "source": [
        "def get_role_info( long_subtitle, movie_name ):\n",
        "    input_str = f\"File Name:{movie_name}\\n\\nsrt:\\n{long_subtitle}\"\n",
        "    messages = [\n",
        "        {\"role\": \"system\", \"content\": \"You are a helpful assistant designed to output JSON.\"},\n",
        "        {\"role\":\"system\",\"content\":task_prompt},\n",
        "        {\"role\":\"user\",\"content\":example_input},\n",
        "        {\"role\":\"assistant\",\"content\":example_output},\n",
        "        {\"role\":\"user\",\"content\":input_str}\n",
        "    ]\n",
        "    completion = client.chat.completions.create(\n",
        "        model=\"gpt-3.5-turbo-1106\",\n",
        "        messages=messages,\n",
        "        response_format={ \"type\": \"json_object\" },\n",
        "        temperature=0\n",
        "    )\n",
        "    return completion.choices[0].message.content"
      ],
      "metadata": {
        "id": "Ytuv42Fwn701"
      },
      "execution_count": null,
      "outputs": []
    },
    {
      "cell_type": "code",
      "source": [
        "a = '乌云背后的幸福线[SEP]'\n",
        "print(a[:-5])"
      ],
      "metadata": {
        "colab": {
          "base_uri": "https://localhost:8080/"
        },
        "id": "kLblzWtOR9H6",
        "outputId": "13228e99-4214-466a-ad5f-85e12e502bae"
      },
      "execution_count": null,
      "outputs": [
        {
          "output_type": "stream",
          "name": "stdout",
          "text": [
            "乌云背后的幸福线\n"
          ]
        }
      ]
    },
    {
      "cell_type": "markdown",
      "source": [
        "对于/content/output下的每一个子文件夹，进行如下操作\n",
        "\n",
        "movie_name = 子文件夹名[:-5]\n",
        "\n",
        "遍历子文件夹（以及子目录下）下的所有.txt文件\n",
        "\n",
        "将movie_name, file_name（完整目录） 用字典形式保存到query_list中\n",
        "\n"
      ],
      "metadata": {
        "id": "NYYsC1aFRzmE"
      }
    },
    {
      "cell_type": "code",
      "source": [
        "import os\n",
        "\n",
        "query_list = []\n",
        "\n",
        "content_dir = '/content/output'\n",
        "\n",
        "for folder in os.listdir(content_dir):\n",
        "    if os.path.isdir(os.path.join(content_dir, folder)):\n",
        "        movie_name = folder\n",
        "        folder_path = os.path.join(content_dir, folder)\n",
        "        for root, dirs, files in os.walk(folder_path):\n",
        "            for file in files:\n",
        "                if file.endswith('.txt'):\n",
        "                    file_path = os.path.join(root, file)\n",
        "                    query_list.append({\n",
        "                        'movie_name': movie_name + ' ' + file,\n",
        "                        'file_name': file_path\n",
        "                    })\n"
      ],
      "metadata": {
        "id": "ZKIqD8XmRwyx"
      },
      "execution_count": null,
      "outputs": []
    },
    {
      "cell_type": "code",
      "source": [
        "print(query_list[0])"
      ],
      "metadata": {
        "colab": {
          "base_uri": "https://localhost:8080/"
        },
        "id": "wdtytvGQZVmf",
        "outputId": "1f71b127-7c31-4edd-a8af-02054f22535e"
      },
      "execution_count": null,
      "outputs": [
        {
          "output_type": "stream",
          "name": "stdout",
          "text": [
            "{'movie_name': '阿凡达：阿凡达 Avatar.The.Way.of.Water.2022.1080p.BluRay.x264.DTS-WiKi.chs.srt.txt', 'file_name': '/content/output/阿凡达：阿凡达/Avatar.The.Way.of.Water.2022.1080p.BluRay.x264.DTS-WiKi.chs.srt.txt'}\n"
          ]
        }
      ]
    },
    {
      "cell_type": "code",
      "source": [
        "!mkdir /content/drive/MyDrive/CardBuild/exp1230/output"
      ],
      "metadata": {
        "id": "gWBlvVURT5Ef",
        "colab": {
          "base_uri": "https://localhost:8080/"
        },
        "outputId": "1127dc74-f18d-4f0b-ee65-aee981dbb5e8"
      },
      "execution_count": null,
      "outputs": [
        {
          "output_type": "stream",
          "name": "stdout",
          "text": [
            "mkdir: cannot create directory ‘/content/drive/MyDrive/CardBuild/exp1230/output’: File exists\n"
          ]
        }
      ]
    },
    {
      "cell_type": "code",
      "source": [
        "print(query_list[0])"
      ],
      "metadata": {
        "colab": {
          "base_uri": "https://localhost:8080/"
        },
        "id": "lMYW-TtmTT_O",
        "outputId": "902ab6e6-9807-412f-918d-402b5519ccab"
      },
      "execution_count": null,
      "outputs": [
        {
          "output_type": "stream",
          "name": "stdout",
          "text": [
            "{'movie_name': '弗兰克', 'file_name': '/content/output/弗兰克[SEP]/Frank.2014.LIMITED.REPACK.BDRip.x264-GECKOS.eng.srt.txt'}\n"
          ]
        }
      ]
    },
    {
      "cell_type": "markdown",
      "source": [
        "save_folder = '/content/drive/MyDrive/CardBuild/exp1230/output'\n",
        "\n",
        "query_list是形如 {'movie_name': '弗兰克', 'file_name': '/content/output/弗兰克[SEP]/Frank.2014.LIMITED.REPACK.BDRip.x264-GECKOS.eng.srt.txt'}\n",
        "这样形式的一个 list of dict\n",
        "\n",
        "save_name = save_folder + file_name 的文件名\n",
        "\n",
        "如果save_name已经存在，则跳过\n",
        "\n",
        "对于query_list中的每一个元素，用utf-8读取file_name对应的文件\n",
        "\n",
        "如果file_name的长度小于100，则跳过\n",
        "\n",
        "然后调用 role_info = get_role_info( 文件中的文本 , movie_name )\n",
        "\n",
        "去生成信息（假设get_role_info函数已经被实现）\n",
        "\n",
        "然后把role_info的信息，用utf-8格式保存在save_name中\n",
        "\n",
        "请用python为我实现"
      ],
      "metadata": {
        "id": "o0muZN9vTaKg"
      }
    },
    {
      "cell_type": "code",
      "source": [
        "!pip install -q tiktoken\n",
        "import tiktoken\n",
        "\n",
        "enc = tiktoken.get_encoding(\"cl100k_base\")"
      ],
      "metadata": {
        "colab": {
          "base_uri": "https://localhost:8080/"
        },
        "id": "ZnisjGQ-UquM",
        "outputId": "2600bc32-d82c-4d13-df95-8a7ecdfa4835"
      },
      "execution_count": null,
      "outputs": [
        {
          "output_type": "stream",
          "name": "stdout",
          "text": [
            "\u001b[?25l     \u001b[90m━━━━━━━━━━━━━━━━━━━━━━━━━━━━━━━━━━━━━━━━\u001b[0m \u001b[32m0.0/2.0 MB\u001b[0m \u001b[31m?\u001b[0m eta \u001b[36m-:--:--\u001b[0m\r\u001b[2K     \u001b[91m━━\u001b[0m\u001b[90m╺\u001b[0m\u001b[90m━━━━━━━━━━━━━━━━━━━━━━━━━━━━━━━━━━━━━\u001b[0m \u001b[32m0.1/2.0 MB\u001b[0m \u001b[31m2.9 MB/s\u001b[0m eta \u001b[36m0:00:01\u001b[0m\r\u001b[2K     \u001b[91m━━━━━━━━━━━━━━━━━━━━━━━━━\u001b[0m\u001b[91m╸\u001b[0m\u001b[90m━━━━━━━━━━━━━━\u001b[0m \u001b[32m1.3/2.0 MB\u001b[0m \u001b[31m19.0 MB/s\u001b[0m eta \u001b[36m0:00:01\u001b[0m\r\u001b[2K     \u001b[90m━━━━━━━━━━━━━━━━━━━━━━━━━━━━━━━━━━━━━━━━\u001b[0m \u001b[32m2.0/2.0 MB\u001b[0m \u001b[31m21.2 MB/s\u001b[0m eta \u001b[36m0:00:00\u001b[0m\n",
            "\u001b[?25h\u001b[31mERROR: pip's dependency resolver does not currently take into account all the packages that are installed. This behaviour is the source of the following dependency conflicts.\n",
            "llmx 0.0.15a0 requires cohere, which is not installed.\u001b[0m\u001b[31m\n",
            "\u001b[0m"
          ]
        }
      ]
    },
    {
      "cell_type": "code",
      "source": [
        "def regrab(text, max_value):\n",
        "    lines = text.split('\\n')\n",
        "    count_token = 0\n",
        "    current_chunk = \"\"\n",
        "    for line in lines:\n",
        "        count_token += len(enc.encode(line))\n",
        "        if count_token > max_value:\n",
        "            return current_chunk\n",
        "        else:\n",
        "            current_chunk += line + '\\n'\n",
        "    return current_chunk"
      ],
      "metadata": {
        "id": "bOKWb9qxUw4v"
      },
      "execution_count": null,
      "outputs": []
    },
    {
      "cell_type": "code",
      "source": [
        "import re\n",
        "\n",
        "def regrab(text, max_value):\n",
        "    lines = text.split('\\n')\n",
        "    count_token = 0\n",
        "    current_chunk = \"\"\n",
        "    n = len(lines)\n",
        "    start_idx = n//20\n",
        "    for line in lines[start_idx:]:\n",
        "        # Remove text within curly braces\n",
        "        cleaned_line = re.sub(r'\\{.*?\\}', '', line)\n",
        "\n",
        "        count_token += len(cleaned_line)\n",
        "        if count_token > max_value:\n",
        "            return current_chunk\n",
        "        else:\n",
        "            current_chunk += cleaned_line + '\\n'\n",
        "    return current_chunk\n",
        "\n",
        "# Example usage\n",
        "text = \"要保{will}留的信{be removed}息\"\n",
        "max_value = 1000\n",
        "print(regrab(text, max_value))\n"
      ],
      "metadata": {
        "colab": {
          "base_uri": "https://localhost:8080/"
        },
        "id": "hpG8NL1SZ9jk",
        "outputId": "8fe381b6-2b57-4ce1-832f-58d6b9f38ae5"
      },
      "execution_count": null,
      "outputs": [
        {
          "output_type": "stream",
          "name": "stdout",
          "text": [
            "要保留的信息\n",
            "\n"
          ]
        }
      ]
    },
    {
      "cell_type": "code",
      "source": [
        "!mkdir /content/drive/MyDrive/CardBuild/exp1230/output2"
      ],
      "metadata": {
        "colab": {
          "base_uri": "https://localhost:8080/"
        },
        "id": "Sd7ufUfhWUy4",
        "outputId": "45428b5c-b908-412c-f2df-d99141277795"
      },
      "execution_count": null,
      "outputs": [
        {
          "output_type": "stream",
          "name": "stdout",
          "text": [
            "mkdir: cannot create directory ‘/content/drive/MyDrive/CardBuild/exp1230/output2’: File exists\n"
          ]
        }
      ]
    },
    {
      "cell_type": "code",
      "source": [
        "print(len(query_list))"
      ],
      "metadata": {
        "colab": {
          "base_uri": "https://localhost:8080/"
        },
        "id": "LEItE68BakhW",
        "outputId": "4ff6156c-e909-4a1a-cf9e-4e5bc9e7bfea"
      },
      "execution_count": null,
      "outputs": [
        {
          "output_type": "stream",
          "name": "stdout",
          "text": [
            "510\n"
          ]
        }
      ]
    },
    {
      "cell_type": "code",
      "source": [
        "count = 0\n",
        "for q in query_list[::30]:\n",
        "    file_name = q['file_name']\n",
        "    with open(file_name, 'r', encoding='utf-8') as f:\n",
        "        text = f.read()\n",
        "\n",
        "    if len(text)<100:\n",
        "        continue\n",
        "\n",
        "    text = regrab(text,200)\n",
        "\n",
        "    text = text.replace('\\n', ' ')\n",
        "    print(q['movie_name'],text)\n",
        "    print()\n",
        "    count+=1\n",
        "    if count > 20:\n",
        "        break"
      ],
      "metadata": {
        "colab": {
          "base_uri": "https://localhost:8080/"
        },
        "id": "vUcBWGduaNvb",
        "outputId": "a5e7e502-ec38-4f48-905c-ac8a387dcc0c"
      },
      "execution_count": null,
      "outputs": [
        {
          "output_type": "stream",
          "name": "stdout",
          "text": [
            "阿凡达：阿凡达 Avatar.The.Way.of.Water.2022.1080p.BluRay.x264.DTS-WiKi.chs.srt.txt 你就是迈尔斯·夸里奇上校 变年轻了 变高了 变蓝了 没原来那么帅气了 两小时后 我就要全副武装去空袭纳威人的要塞 上面的人觉得我应该谨慎些 给自己留个备份 以防万一 既然你看到了这段录像 那说明我已经完事大吉了 嘿 帕克 我接下来还要说点什么？ 就告诉他复制的流程 -谁？ -这里 看到这个了吗 这里面是你的记忆和人格 我们会把这个送回地球 -此刻你的身体还泡在培养舱里  -好了 了解 把这东西放进去就可以… \n",
            "\n",
            "蝙蝠侠：黑暗骑士崛起 The.Dark.Knight.Rises.2012.BluRay.720p.x264.AC3-CMCT.英文&繁体.srt.txt The east drawing room. 你去東宮的房間 Unlock the door, put the tray on the table, lock the door again. 把門打開  將餐盤放在桌上  然後再把門鎖上 Nothing more. 其他什麼都別做 I'm sorry, Miss Tate. I tried, but he won't see you. \n",
            "\n",
            "卢旺达饭店 Hotel.Rwanda.2004.BluRay.720p.x264.AC3-CMCT.英文&简体.ass.txt Ten alive, twelve are dead.\\N十只活的 十二只死的 All right.\\N不要紧 But save the shells.\\N把壳留着 Fill them with...\\N用东西… ...a stuffing. The good meat and something local.\\N…填满 用精肉和当地的一些食物 \n",
            "\n",
            "黑暗骑士 040.被选召的孩子!？.操纵天使兽的少年!.chs.ass.txt 去那充满未知的  最前线 继续奔跑  “带着你一起” ----------前文提要----------- 受到皇家骑士攻击的拓也他们 被打飞到了数码世界的月球 借助月球的数码兽们的力量 孩子们发射了火箭 就在被电磁潮流所吞噬 快要成为宇宙废墟的时候 拓也他们被机车兽所救 ----------正式开始----------- 被选召的孩子!? 操纵天使兽的少年! 接下来就是那个了 好像会是一个很麻烦的工作呢 \n",
            "\n",
            "美食总动员 汽车总动员2.Cars.2.2011.BD.3Audio.MiniSD-TLF_Track5.srt.txt 我这个暑假还准备跟他出去见见世面呢 就我们两个 - 麦昆... - 我不赶时间，别... 大家快来啊 麦昆回来了！ 麦昆回来了！ 噢，闪电兄，欢迎回来 - 见到你真好，亲爱的 - 恭喜你了，老兄 - 欢迎归队，英雄 - 孩子，你不在这冷清多了 什么，他离开过吗？ 回家的感觉真好 - 板牙！ - 麦昆！ - 板牙！ - 麦昆！ 嘿，这次你跑了多远，欧迪斯 没到半路就废了 - 哇哦，不错啊 - 是啊，我自己都不信 - 麦昆，欢迎回家 \n",
            "\n",
            "教父2 [BBC中国学校].BBC.Chinese.School.2008.E01.XviD.srt.txt Limoncello Cheerleading High School is the top school in town I'm one of the best in older than weigh A promise of more than 80 million people The children at the school range from 16 to 18 \n",
            "\n",
            "猫鼠游戏2 White.Collar.S06E02.720p.HDTV.x264-KILLERS.繁体.ass.txt 換一個新的要多少錢 我能修好的 你就等著瞧吧 等我把它修好了  這個寶貝 能把一輛雪佛蘭打成泥 回到家感覺真好 尼爾來了 因為你不在家  他很怕我 連咖啡都不會煮 別忘了 別把我們的秘密說出去 我口風很嚴的 伊麗莎白  早上好 -你沒事太好了  -謝謝 好個驚喜  你回來待多久 一輩子 華盛頓不適合我 -真的嗎  -沒錯 我發現待在紐約一樣可以實現自己的夢想 她改變心意了 這也讓我有機會在家里弄點小工程 讓這家伙自己待一會兒 \n",
            "\n",
            "无间道 中英.srt.txt 这里不是普通的警队 This is not the regular police... - …是州立警队 - 开枪！ ...this is the state police. - And fire! 你们的训练会证明有什么不同 Your training will illustrate the difference. 州警察，有搜查证！ 州警察，开门！ \n",
            "\n",
            "穿越时空的少女 犬夜叉 第140话 - 永远的思念 乾坤长刀.ass.txt 不断在心中自我成长的勇者 昨夜的梦境及梦中残留的影像 断断续续提醒我“勇往直前” 破茧而出的我  及含苞待放的未来 难道你就将它禁锢起来吗 You can now dream（勇敢的梦想） 挥起舞动 Go in and try（不顾一切的去尝试） 无尽的烦恼 与你天长地久永不分离 Do you need to cry（同样的哭泣） 和孤独相伴 Show me a day fight（直接应战） 每当伤心流泪的时候 \n",
            "\n",
            "海上钢琴师 La.Leggenda.Del.Pianista.Sull.Oceano.1998.BluRay.EXTENDED.720p.x264.AC3.2Audios-CMCT.繁体.srt.txt 即便是在我的人生低谷 離開樂團的那段日子裏 我都不曾停止吹奏它 你誤會我的意思了 最偉大的爵士樂手 都是吹這牌子的 沒錯 先生 不過 戰後人們喜歡開朗的事物 甜美的曲調 不再鍾愛爵士了 你的康恩牌 如今也只能成為收藏品了 六英磅十先令 我只能出那麼多 老天 那只有25美金 這支小號是我的一切 先生 好吧 我不會像巴第波登 書包嘴大叔那樣受人緬懷 但就算是個無名小卒的樂器 它也不該只值20多塊吧 \n",
            "\n",
            "我是山姆3 田中君总是如此慵懒 ED.ass.txt shinsen taiken wagamama shitai kimama Music kossori na riron mita kuusou nara tooku iku no? iwayuru shiawase sore tte nani? suki na koto tokoton yattemite wakaru nokana? \n",
            "\n",
            "末日崩塌 San.Andreas.2015.1080p.BluRay.x265-RARBG.Chinese.srt.txt 我們要用兩條繩索固定 否則連人帶車滑下去 門已開啟 拍下這 掛上繩索 起落橇就位 我們最多只有5分鐘 5分鐘後 會怎樣？ 沒什麼大不了 頂多引擎失靈 還好我只要3分鐘 ﹣感謝老天 ﹣不 娜塔萊 不要… 快救我出去 娜塔萊，千萬別亂動 我需要先固定車子 求你快點 車身已固定 好了 怎麼回事？ 糟了 狄倫，你還好嗎？ 慘 祖庇卡住了 該死！ 祖庇，我現在下來 哈里森，由你駕駛 馬可斯 替我吊掛繩索 接管駕駛 預備剪斷繩索 收到 掛上繩索 踏出機外 雷已垂降 別擔心 我會救你… \n",
            "\n",
            "恐怖游轮 Triangle.2009.1080p.BluRay.x264-CiNEFiLE.srt.txt 可我让你别带人的 跟一个18岁男孩住同一条船却不让带女人…… 格雷 这是希德 她是我很好的朋友 我觉得你们应该见个面 嗨！ 抱歉 容我离开一下。 洁西 妳还好吗？ 我可不这么想 嘿 出什么事了？ 嘿 到底出什么事了？ 对不起 你道什么歉啊 怎么了？ 你还好吗？ 我只是有点累 喔 听着 如果你不想的话 我们不一定非得今天出航 不 我们走 我-我想 真的吗？ 是的 是的 是的？ 好 来吧 上来这儿 这是莎莉和她丈夫 唐尼 \n",
            "\n",
            "我是山姆 27_Romanian.srt.txt ‎Tu m-ai pus pe drumul cel bun ‎atunci când m-ai întrebat „O iubești?” ‎Mă bucur să te văd. ‎Trebuie să mă pregătesc ‎pentru ce spun mâine. ‎E ultima zi. ‎- Nu pot să dau chix. ‎- Nu mai minți, te rog! \n",
            "\n",
            "神秘巨星 [U2-Rip] 聖闘士星矢 第021話「非情! オーロラの対決」(BDrip 1440x1080 H264 FLAC).srt.txt 如…如果是梦的话请让我醒来吧 在我眼前的这个男人…是我的… 是栽培我成为圣斗士的水晶圣斗士吗 不…不是的 我认识的水晶圣斗士并不是这种男人 冰河 你尝试来击破这个大冰壁 这…这个 对  试试看吧 是 冰河  你看着 厉害 冰河  经过训练之后你也能轻易做到的 燃烧小宇宙  粉碎冰的原子 要燃烧你的小宇宙 冰河  你做得很好 究竟…发生什么事了 冰河  我不会让你活着离去的 老师 我到现在为止仍然为得到你的教导而感到骄傲 \n",
            "\n",
            "风之谷 Valley.of.Tears.S01E04.Strength.of.My.Foes.1080p.HMAX.WEB-DL.DD5.1.H.264-NTG.srt.txt 约阿夫  我不能跳  还有人在里面 没有回头路了 -但楼上还有人  -你回去就死定了 快跳吧 跳啊  别多想  快跳 -去吧  阿维诺姆  -我不跳 你能行的 我会摔断腿的  我的骨头很脆弱 -给我  -不 松仁 -拿着这个  -松仁 好了  去吧  阿维诺姆 去吧 跳吧  我们一起跳  有我呢  阿维诺姆 我们一起跳下去 来吧  跟我一起  跟我一起 你想离开这里吗 想不想 想离开吗  那就跳下去  你能行的 你能行的  跟我一起 \n",
            "\n",
            "比利·林恩的中场战事 Billy.Lynns.Long.Halftime.Walk.2016.720p.BluRay.x264-GECKOS.繁体&英文.ass.txt 這是阿爾伯特·布朗  杰出制片人\\NThis is Albert Brown, producer extraordinaire. -你好啊  -軍隊把他安排給我們了\\N- How are you? - Army set us up with him. 看過《格斗之夜》嗎\\NYou ever seen the \"Fight Night\" Movies? \n",
            "\n"
          ]
        }
      ]
    },
    {
      "cell_type": "code",
      "source": [
        "import os\n",
        "from pathlib import Path\n",
        "from tqdm import tqdm\n",
        "\n",
        "save_folder = '/content/drive/MyDrive/CardBuild/exp1230/output2'\n",
        "\n",
        "for q in tqdm(query_list):\n",
        "\n",
        "    file_name = q['file_name']\n",
        "\n",
        "    save_name = os.path.join(save_folder, Path(file_name).name)\n",
        "\n",
        "    if Path(save_name).exists():\n",
        "        continue\n",
        "\n",
        "    with open(file_name, 'r', encoding='utf-8') as f:\n",
        "        text = f.read()\n",
        "\n",
        "    if len(text)<100:\n",
        "        continue\n",
        "\n",
        "    text = regrab(text,4000)\n",
        "\n",
        "    role_info = get_role_info(text, q['movie_name'])\n",
        "\n",
        "    with open(save_name, 'w', encoding='utf-8') as f:\n",
        "        f.write(role_info)\n",
        "    # break"
      ],
      "metadata": {
        "colab": {
          "base_uri": "https://localhost:8080/"
        },
        "id": "ukDpsTnFTWK6",
        "outputId": "7c9f92b6-3fce-4c3a-a785-bb6974c303a9"
      },
      "execution_count": null,
      "outputs": [
        {
          "output_type": "stream",
          "name": "stderr",
          "text": [
            "100%|██████████| 510/510 [1:48:12<00:00, 12.73s/it]\n",
            "100%|██████████| 510/510 [00:00<00:00, 2397.29it/s]\n"
          ]
        }
      ]
    },
    {
      "cell_type": "code",
      "source": [
        "print(regrab(text,200))"
      ],
      "metadata": {
        "colab": {
          "base_uri": "https://localhost:8080/"
        },
        "id": "TD52DzxrUg1u",
        "outputId": "99de0298-492d-4fd0-c8ad-41c12c2c596b"
      },
      "execution_count": null,
      "outputs": [
        {
          "output_type": "stream",
          "name": "stdout",
          "text": [
            "End...\n",
            "Endless\n",
            "Endless\n",
            "Endless\n",
            "Endless\n",
            "Rolling\n",
            "Waves\n",
            "What do you carry to me?\n",
            "Where will you carry me to?\n",
            "Children building castles\n",
            "in the sand in my town\n",
            "Children\n",
            "A band's playing\n",
            "A band's playing\n",
            "tomorrow night in my town\n",
            "They're called the... the Soron...\n",
            "Ladies have babies\n",
            "That's how it works\n",
            "Lady in the red coat,\n",
            "what are you doing with that bag?\n",
            "Lady in the blue coat, do you\n",
            "know the lady in the red coat?\n",
            "Slowly!\n",
            "Little boxes\n",
            "Take me away\n",
            "From these little boxes\n",
            "- Hi, sweetheart.\n",
            "- Oh. Hi.\n",
            "Just in time. I made a casserole.\n",
            "No, thanks. I've got\n",
            "an idea for a song.\n",
            "How was work?\n",
            "It was good. I've just...\n",
            "before I forget it.\n",
            "OK, idea for a song in A minor.\n",
            "Possible title, \"Suburbia\".\n",
            "I dream of an angel\n",
            "Down to E in the bass.\n",
            "To take me away\n",
            "\n"
          ]
        }
      ]
    },
    {
      "cell_type": "code",
      "source": [],
      "metadata": {
        "id": "_e8CgKfIUiIv"
      },
      "execution_count": null,
      "outputs": []
    }
  ]
}