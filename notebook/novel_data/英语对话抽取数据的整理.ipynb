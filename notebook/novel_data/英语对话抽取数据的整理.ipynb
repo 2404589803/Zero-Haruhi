{
  "nbformat": 4,
  "nbformat_minor": 0,
  "metadata": {
    "colab": {
      "provenance": [],
      "authorship_tag": "ABX9TyNInt0AYEk0u/V/fKwGN31a",
      "include_colab_link": true
    },
    "kernelspec": {
      "name": "python3",
      "display_name": "Python 3"
    },
    "language_info": {
      "name": "python"
    }
  },
  "cells": [
    {
      "cell_type": "markdown",
      "metadata": {
        "id": "view-in-github",
        "colab_type": "text"
      },
      "source": [
        "<a href=\"https://colab.research.google.com/github/LC1332/Zero-Haruhi/blob/main/notebook/%E8%8B%B1%E8%AF%AD%E5%AF%B9%E8%AF%9D%E6%8A%BD%E5%8F%96%E6%95%B0%E6%8D%AE%E7%9A%84%E6%95%B4%E7%90%86.ipynb\" target=\"_parent\"><img src=\"https://colab.research.google.com/assets/colab-badge.svg\" alt=\"Open In Colab\"/></a>"
      ]
    },
    {
      "cell_type": "code",
      "execution_count": 1,
      "metadata": {
        "colab": {
          "base_uri": "https://localhost:8080/"
        },
        "id": "YL-EYxVT7kZ5",
        "outputId": "9177647c-764a-4725-b304-cdfb5c9ccd59"
      },
      "outputs": [
        {
          "output_type": "stream",
          "name": "stdout",
          "text": [
            "Mounted at /content/drive\n"
          ]
        }
      ],
      "source": [
        "from google.colab import drive\n",
        "drive.mount('/content/drive')"
      ]
    },
    {
      "cell_type": "code",
      "source": [
        "!ls /content/drive/MyDrive/CardBuild/exp0122/first"
      ],
      "metadata": {
        "colab": {
          "base_uri": "https://localhost:8080/"
        },
        "id": "2w6bIxvI7roz",
        "outputId": "ce0acd34-4306-4b4f-9c75-a1dd91bb2fbb"
      },
      "execution_count": 3,
      "outputs": [
        {
          "output_type": "stream",
          "name": "stdout",
          "text": [
            "0122english_0_to_10.txt\t\t0122english_362_to_714.txt\t 0123_eng_2nd_13406_to_13800.txt\n",
            "0122english_10218_to_10570.txt\t0122english_3882_to_4234.txt\t 0123_eng_2nd_13800_to_14194.txt\n",
            "0122english_10570_to_10922.txt\t0122english_4234_to_4586.txt\t 0123_eng_2nd_14194_to_14588.txt\n",
            "0122english_1066_to_1418.txt\t0122english_4586_to_4938.txt\t 0123_eng_2nd_14588_to_14982.txt\n",
            "0122english_10922_to_11274.txt\t0122english_4938_to_5290.txt\t 0123_eng_2nd_14982_to_15376.txt\n",
            "0122english_10_to_362.txt\t0122english_5290_to_5642.txt\t 0123_eng_2nd_15376_to_15804.txt\n",
            "0122english_11274_to_11626.txt\t0122english_5642_to_5994.txt\t 0123_eng_2nd_1586_to_1980.txt\n",
            "0122english_11626_to_11978.txt\t0122english_5994_to_6346.txt\t 0123_eng_2nd_1980_to_2374.txt\n",
            "0122english_11978_to_12330.txt\t0122english_6346_to_6698.txt\t 0123_eng_2nd_2374_to_2768.txt\n",
            "0122english_12330_to_12682.txt\t0122english_6698_to_7050.txt\t 0123_eng_2nd_2768_to_3162.txt\n",
            "0122english_12682_to_13034.txt\t0122english_7050_to_7402.txt\t 0123_eng_2nd_3162_to_3556.txt\n",
            "0122english_13034_to_13386.txt\t0122english_714_to_1066.txt\t 0123_eng_2nd_3556_to_3950.txt\n",
            "0122english_13386_to_13738.txt\t0122english_7402_to_7754.txt\t 0123_eng_2nd_3950_to_4344.txt\n",
            "0122english_13738_to_14090.txt\t0122english_7754_to_8106.txt\t 0123_eng_2nd_404_to_798.txt\n",
            "0122english_14090_to_14442.txt\t0122english_8106_to_8458.txt\t 0123_eng_2nd_4344_to_4738.txt\n",
            "0122english_1418_to_1770.txt\t0122english_8458_to_8810.txt\t 0123_eng_2nd_4738_to_5132.txt\n",
            "0122english_14442_to_14794.txt\t0122english_8810_to_9162.txt\t 0123_eng_2nd_5132_to_5526.txt\n",
            "0122english_14794_to_15146.txt\t0122english_9162_to_9514.txt\t 0123_eng_2nd_5526_to_5920.txt\n",
            "0122english_15146_to_15498.txt\t0122english_9514_to_9866.txt\t 0123_eng_2nd_5920_to_6314.txt\n",
            "0122english_15498_to_15850.txt\t0122english_9866_to_10218.txt\t 0123_eng_2nd_6314_to_6708.txt\n",
            "0122english_15850_to_16202.txt\t0123_eng_2nd_0_to_10.txt\t 0123_eng_2nd_6708_to_7102.txt\n",
            "0122english_16202_to_16554.txt\t0123_eng_2nd_10254_to_10648.txt  0123_eng_2nd_7102_to_7496.txt\n",
            "0122english_16554_to_16906.txt\t0123_eng_2nd_10648_to_11042.txt  0123_eng_2nd_7496_to_7890.txt\n",
            "0122english_16906_to_17258.txt\t0123_eng_2nd_10_to_404.txt\t 0123_eng_2nd_7890_to_8284.txt\n",
            "0122english_17258_to_17613.txt\t0123_eng_2nd_11042_to_11436.txt  0123_eng_2nd_798_to_1192.txt\n",
            "0122english_1770_to_2122.txt\t0123_eng_2nd_11436_to_11830.txt  0123_eng_2nd_8284_to_8678.txt\n",
            "0122english_2122_to_2474.txt\t0123_eng_2nd_11830_to_12224.txt  0123_eng_2nd_8678_to_9072.txt\n",
            "0122english_2474_to_2826.txt\t0123_eng_2nd_1192_to_1586.txt\t 0123_eng_2nd_9072_to_9466.txt\n",
            "0122english_2826_to_3178.txt\t0123_eng_2nd_12224_to_12618.txt  0123_eng_2nd_9466_to_9860.txt\n",
            "0122english_3178_to_3530.txt\t0123_eng_2nd_12618_to_13012.txt  0123_eng_2nd_9860_to_10254.txt\n",
            "0122english_3530_to_3882.txt\t0123_eng_2nd_13012_to_13406.txt\n"
          ]
        }
      ]
    },
    {
      "cell_type": "code",
      "source": [
        "import os\n",
        "import json\n",
        "\n",
        "# 指定文件夹路径\n",
        "save_path = \"/content/drive/MyDrive/CardBuild/exp0122/first\"\n",
        "\n",
        "all_files = []\n",
        "# 遍历指定文件夹中的所有txt文件\n",
        "for filename in os.listdir(save_path):\n",
        "    if filename.endswith(\".txt\"):\n",
        "        all_files.append(filename)\n",
        "\n"
      ],
      "metadata": {
        "id": "fjlfm5K88Bfr"
      },
      "execution_count": 5,
      "outputs": []
    },
    {
      "cell_type": "code",
      "source": [
        "from tqdm import tqdm\n",
        "\n",
        "all_datas = []\n",
        "\n",
        "for filename in tqdm(all_files):\n",
        "\n",
        "    # 构建完整的文件路径\n",
        "    file_path = os.path.join(save_path, filename)\n",
        "\n",
        "    error_count = 0\n",
        "\n",
        "    # 打开并读取文件\n",
        "    with open(file_path, 'r', encoding='utf-8') as file:\n",
        "        for line in file:\n",
        "            try:\n",
        "                # 将每行解析为JSON\n",
        "                data = json.loads(line)\n",
        "                if \"id\" in data and \"text\" in data and \"response\" in data:\n",
        "                    response_str = data[\"response\"]\n",
        "                    try:\n",
        "                        response_json = json.loads(response_str)\n",
        "                        data[\"response\"] = response_json\n",
        "                        all_datas.append(data)\n",
        "                    except:\n",
        "                        continue\n",
        "                else:\n",
        "                    continue\n",
        "\n",
        "\n",
        "                # break\n",
        "            except json.JSONDecodeError:\n",
        "                # 如果解析JSON失败，跳过这一行\n",
        "                continue\n",
        "\n",
        "            # break\n",
        "\n",
        "    # break\n",
        "\n",
        "\n",
        "        # break\n",
        "\n",
        "# 输出结果\n"
      ],
      "metadata": {
        "colab": {
          "base_uri": "https://localhost:8080/"
        },
        "id": "Qd23z9VK8ofh",
        "outputId": "0436b575-65f3-45ba-ec19-41613ef91d96"
      },
      "execution_count": 16,
      "outputs": [
        {
          "output_type": "stream",
          "name": "stderr",
          "text": [
            "100%|██████████| 92/92 [00:03<00:00, 25.74it/s]\n"
          ]
        }
      ]
    },
    {
      "cell_type": "code",
      "source": [
        "print(len(all_datas))"
      ],
      "metadata": {
        "colab": {
          "base_uri": "https://localhost:8080/"
        },
        "id": "ZXmTkfMk-E3c",
        "outputId": "15530685-92e9-4c44-c45e-24c129516076"
      },
      "execution_count": 17,
      "outputs": [
        {
          "output_type": "stream",
          "name": "stdout",
          "text": [
            "33344\n"
          ]
        }
      ]
    },
    {
      "cell_type": "code",
      "source": [
        "import random\n",
        "n = len(all_datas)\n",
        "sel_id = random.sample(range(n), 1)\n",
        "print(all_datas[sel_id[0]][\"text\"][:500])"
      ],
      "metadata": {
        "colab": {
          "base_uri": "https://localhost:8080/"
        },
        "id": "NRnPGgfQ83Zx",
        "outputId": "3dbc6ccc-8fc2-404e-d62e-b5cd27996b66"
      },
      "execution_count": 25,
      "outputs": [
        {
          "output_type": "stream",
          "name": "stdout",
          "text": [
            "\n"
          ]
        }
      ]
    },
    {
      "cell_type": "code",
      "source": [
        "task_prompt = \"\"\"Given an input paragraph, extract the dialogues within it, and output them in JSON format.\n",
        "\n",
        "Let's think about it step by step:\n",
        "- Summarize the input paragraph into bullet points and store it in the 'summary' field.\n",
        "- Extract the content of each dialogue ('dialogue'), identify the speaker for each sentence ('said by'), and store these in 'conversations'.\"\"\""
      ],
      "metadata": {
        "id": "7V5-_wLZ-fcA"
      },
      "execution_count": 29,
      "outputs": []
    },
    {
      "cell_type": "code",
      "source": [
        "print(all_datas[20][\"response\"].keys())\n",
        "print(all_datas[20][\"response\"][\"conversations\"])\n",
        "\n",
        "print(all_datas[20][\"response\"][\"conversations\"][0].keys())"
      ],
      "metadata": {
        "colab": {
          "base_uri": "https://localhost:8080/"
        },
        "id": "55czYp-T-rd8",
        "outputId": "12464fde-b23c-4dfd-fdf5-917317263369"
      },
      "execution_count": 39,
      "outputs": [
        {
          "output_type": "stream",
          "name": "stdout",
          "text": [
            "dict_keys(['summary', 'conversations'])\n",
            "[{'num': 1, 'dialogue': 'I have read that there never was a system of oppression so bad that those who benefited by it did not recognize the moral sense so far as to make some excuse for themselves. Was the old system of property distribution, by which the few held the many in servitude through fear of starvation, an exception to this rule? Surely the rich could not have looked the poor in the face unless they had some excuse to offer, some color of reason to give for the cruel contrast between their conditions.', 'said by': 'Edith'}, {'num': 2, 'dialogue': 'Thanks for reminding us of that point. As you say, there never was a system so bad that it did not make an excuse for itself. It would not be strictly fair to the old system to dismiss it without considering the excuse made for it, although, on the other hand, it would really be kinder not to mention it, for it was an excuse that, far from excusing, furnished an additional ground of condemnation for the system which it undertook to justify.', 'said by': 'the doctor'}, {'num': 3, 'dialogue': 'What was the excuse?', 'said by': 'Edith'}, {'num': 4, 'dialogue': 'It was the claim that, as a matter of justice, every one is entitled to the effect of his qualities--that is to say, the result of his abilities, the fruit of his efforts. The qualities, abilities, and efforts of different persons being different, they would naturally acquire advantages over others in wealth seeking as in other ways; but as this was according to Nature, it was urged that it must be right, and nobody had any business to complain, unless of the Creator.', 'said by': 'the doctor'}, {'num': 5, 'dialogue': 'Now, in the first place, the theory that a person has a right in dealing with his fellows to take advantage of his superior abilities is nothing other than a slightly more roundabout expression of the doctrine that might is right. It was precisely to prevent their doing this that the policeman stood on the corner, the judge sat on the bench, and the hangman drew his fees. The whole end and amount of civilization had indeed been to substitute for the natural law of superior might an artificial equality by force of statute, whereby, in disregard of their natural differences, the weak and simple were made equal to the strong and cunning by means of the collective force lent them.', 'said by': 'the doctor'}, {'num': 6, 'dialogue': \"But while the nineteenth-century moralists denied as sharply as we do men's right to take advantage of their superiorities in direct dealings by physical force, they held that they might rightly do so when the dealings were indirect and carried on through the medium of things. That is to say, a man might not so much as jostle another while drinking a cup of water lest he should spill it, but he might acquire the spring of water on which the community solely depended and make the people pay a dollar a drop for water or go without. Or if he filled up the spring so as to deprive the population of water on any terms, he was held to be acting within his right. He might not by force take away a bone from a beggar's dog, but he might corner the grain supply of a nation and reduce millions to starvation.\", 'said by': 'the doctor'}, {'num': 7, 'dialogue': \"If you touch a man's living you touch him, would seem to be about as plain a truth as could be put in words; but our ancestors had not the least difficulty in getting around it. 'Of course,' they said, 'you must not touch the man; to lay a finger on him would be an assault punishable by law. But his living is quite a different thing. That depends on bread, meat, clothing, land, houses, and other material things, which you have an unlimited right to appropriate and dispose of as you please without the slightest regard to whether anything is left for the rest of the world.'\", 'said by': 'the doctor'}, {'num': 8, 'dialogue': \"I think I scarcely need dwell on the entire lack of any moral justification for the different rule which our ancestors followed in determining what use you might rightly make of your superior powers in dealing with your neighbor directly by physical force and indirectly by economic duress. No one can have any more or other right to take away another's living by superior economic skill or financial cunning than if he used a club, simply because no one has any right to take advantage of any one else or to deal with him otherwise than justly by any means whatever. The end itself being immoral, the means employed could not possibly make any difference. Moralists at a pinch used to argue that a good end might justify bad means, but none, I think, went so far as to claim that good means justified a bad end; yet this was precisely what the defenders of the old property system did in fact claim when they argued that it was right for a man to take away the living of others and make them his servants, if only his triumph resulted from superior talent or more diligent devotion to the acquisition of material things.\", 'said by': 'the doctor'}, {'num': 9, 'dialogue': 'But indeed the theory that the monopoly of wealth could be justified by superior economic ability, even if morally sound, would not at all have fitted the old property system, for of all conceivable plans for distributing property, none could have more absolutely defied every notion of desert based on economic effort. None could have been more utterly wrong if it were true that wealth ought to be distributed according to the ability and industry displayed by individuals.', 'said by': 'the doctor'}, {'num': 10, 'dialogue': \"All this talk started with the discussion of Julian's fortune. Now tell us, Julian, was your million dollars the result of your economic ability, the fruit of your industry?\", 'said by': 'the doctor'}, {'num': 11, 'dialogue': 'Of course not. Every cent of it was inherited. As I have often told you, I never lifted a finger in a useful way in my life.', 'said by': 'Julian'}, {'num': 12, 'dialogue': 'And were you the only person whose property came to him by descent without effort of his own?', 'said by': 'the doctor'}, {'num': 13, 'dialogue': 'On the contrary, title by descent was the basis and backbone of the whole property system. All land, except in the newest countries, together with the bulk of the more stable kinds of property, was held by that title.', 'said by': 'Julian'}]\n",
            "dict_keys(['num', 'dialogue', 'said by'])\n"
          ]
        }
      ]
    },
    {
      "cell_type": "code",
      "source": [
        "def remove_ids(data):\n",
        "    new_conv = []\n",
        "    if \"conversations\" not in data:\n",
        "        new_conv = []\n",
        "    else:\n",
        "        for conv in data[\"conversations\"]:\n",
        "            if \"said_by\" in conv:\n",
        "                spk = conv[\"said_by\"]\n",
        "            elif \"said by\" in conv:\n",
        "                spk = conv[\"said by\"]\n",
        "            else:\n",
        "                spk = \"\"\n",
        "            new_conv.append({\n",
        "                \"dialogue\":conv[\"dialogue\"],\n",
        "                \"said_by\":spk\n",
        "            })\n",
        "    new_data = {\n",
        "        \"summary\":data[\"summary\"],\n",
        "        \"conversations\":new_conv\n",
        "    }\n",
        "    return new_data"
      ],
      "metadata": {
        "id": "e_MbMkMn-qyV"
      },
      "execution_count": 54,
      "outputs": []
    },
    {
      "cell_type": "code",
      "source": [
        "save_datas = []\n",
        "for data in tqdm(all_datas):\n",
        "    new_response = remove_ids(data[\"response\"])\n",
        "    json_str = json.dumps(new_response, ensure_ascii=False)\n",
        "    conversations = [\n",
        "        {\"from\":\"human\",\"value\":data[\"text\"]},\n",
        "        {\"from\":\"gpt\",\"value\":json_str}\n",
        "    ]\n",
        "\n",
        "    save_data = {\n",
        "        \"conversations\":conversations,\n",
        "        \"system\":task_prompt\n",
        "    }\n",
        "    save_datas.append(save_data)"
      ],
      "metadata": {
        "colab": {
          "base_uri": "https://localhost:8080/"
        },
        "id": "xhKYGTFf84jX",
        "outputId": "e49d1378-d40c-4838-e315-b7901a8b2839"
      },
      "execution_count": 55,
      "outputs": [
        {
          "output_type": "stream",
          "name": "stderr",
          "text": [
            "100%|██████████| 33344/33344 [00:01<00:00, 31423.70it/s]\n"
          ]
        }
      ]
    },
    {
      "cell_type": "code",
      "source": [
        "import os\n",
        "import json\n",
        "import random\n",
        "def sample_and_save( save_datas, save_name ,sample_n=50, save_folder = \"/content/drive/MyDrive/CardBuild/HaruhiZero\", if_skip = True):\n",
        "    file_name = os.path.join( save_folder, save_name + \".jsonl\" )\n",
        "    if os.path.exists( file_name ):\n",
        "        if if_skip:\n",
        "            print( \"file \",file_name, \"exists, skip\" )\n",
        "            return\n",
        "    with open( file_name, \"w\", encoding=\"utf-8\" ) as f:\n",
        "        for data in save_datas:\n",
        "            f.write( json.dumps( data, ensure_ascii=False ) + \"\\n\" )\n",
        "\n",
        "    sample_name = os.path.join( \"/content/\", save_name + \"_sample.jsonl\" )\n",
        "    with open( sample_name, \"w\", encoding=\"utf-8\" ) as f:\n",
        "        random_50 = random. sample( save_datas, sample_n )\n",
        "        for data in random_50:\n",
        "            f.write( json.dumps( data, ensure_ascii=False ) + \"\\n\" )"
      ],
      "metadata": {
        "id": "apLQxP-S-Wr4"
      },
      "execution_count": 56,
      "outputs": []
    },
    {
      "cell_type": "code",
      "source": [
        "sample_and_save( save_datas, \"english_dialogue_extract\",if_skip = False )"
      ],
      "metadata": {
        "id": "0DTFE88H_pCC"
      },
      "execution_count": 57,
      "outputs": []
    },
    {
      "cell_type": "code",
      "source": [],
      "metadata": {
        "id": "DGAX9FumAJ8O"
      },
      "execution_count": null,
      "outputs": []
    }
  ]
}