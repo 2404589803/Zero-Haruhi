{
  "nbformat": 4,
  "nbformat_minor": 0,
  "metadata": {
    "colab": {
      "provenance": [],
      "gpuType": "T4",
      "authorship_tag": "ABX9TyPsN0lmMoTVL8gjxj6yW66t",
      "include_colab_link": true
    },
    "kernelspec": {
      "name": "python3",
      "display_name": "Python 3"
    },
    "language_info": {
      "name": "python"
    },
    "accelerator": "GPU",
    "widgets": {
      "application/vnd.jupyter.widget-state+json": {
        "e552d988afda4986bf3e45c2a488efbb": {
          "model_module": "@jupyter-widgets/controls",
          "model_name": "HBoxModel",
          "model_module_version": "1.5.0",
          "state": {
            "_dom_classes": [],
            "_model_module": "@jupyter-widgets/controls",
            "_model_module_version": "1.5.0",
            "_model_name": "HBoxModel",
            "_view_count": null,
            "_view_module": "@jupyter-widgets/controls",
            "_view_module_version": "1.5.0",
            "_view_name": "HBoxView",
            "box_style": "",
            "children": [
              "IPY_MODEL_ed0b412576c446ec94f09f2348744c9f",
              "IPY_MODEL_8a107d97419645609e6b278490c7ccdd",
              "IPY_MODEL_dae88fd547e04eab9dd92ef74b7163ea"
            ],
            "layout": "IPY_MODEL_8fe83fd3a22747aba3be20db4fa7be68"
          }
        },
        "ed0b412576c446ec94f09f2348744c9f": {
          "model_module": "@jupyter-widgets/controls",
          "model_name": "HTMLModel",
          "model_module_version": "1.5.0",
          "state": {
            "_dom_classes": [],
            "_model_module": "@jupyter-widgets/controls",
            "_model_module_version": "1.5.0",
            "_model_name": "HTMLModel",
            "_view_count": null,
            "_view_module": "@jupyter-widgets/controls",
            "_view_module_version": "1.5.0",
            "_view_name": "HTMLView",
            "description": "",
            "description_tooltip": null,
            "layout": "IPY_MODEL_7cca13e906684c8788dc5eed3c5a7c0a",
            "placeholder": "​",
            "style": "IPY_MODEL_00f702b8911c4f6e9de4b8f3c87feebc",
            "value": "tokenizer_config.json: 100%"
          }
        },
        "8a107d97419645609e6b278490c7ccdd": {
          "model_module": "@jupyter-widgets/controls",
          "model_name": "FloatProgressModel",
          "model_module_version": "1.5.0",
          "state": {
            "_dom_classes": [],
            "_model_module": "@jupyter-widgets/controls",
            "_model_module_version": "1.5.0",
            "_model_name": "FloatProgressModel",
            "_view_count": null,
            "_view_module": "@jupyter-widgets/controls",
            "_view_module_version": "1.5.0",
            "_view_name": "ProgressView",
            "bar_style": "success",
            "description": "",
            "description_tooltip": null,
            "layout": "IPY_MODEL_45a26e1382044c14bb9c1d3397871f15",
            "max": 363,
            "min": 0,
            "orientation": "horizontal",
            "style": "IPY_MODEL_70d9918fb59f4969843459a492235965",
            "value": 363
          }
        },
        "dae88fd547e04eab9dd92ef74b7163ea": {
          "model_module": "@jupyter-widgets/controls",
          "model_name": "HTMLModel",
          "model_module_version": "1.5.0",
          "state": {
            "_dom_classes": [],
            "_model_module": "@jupyter-widgets/controls",
            "_model_module_version": "1.5.0",
            "_model_name": "HTMLModel",
            "_view_count": null,
            "_view_module": "@jupyter-widgets/controls",
            "_view_module_version": "1.5.0",
            "_view_name": "HTMLView",
            "description": "",
            "description_tooltip": null,
            "layout": "IPY_MODEL_8231de3c1452487682b9425f87048689",
            "placeholder": "​",
            "style": "IPY_MODEL_98d60e1a8ea243628931c6ee19a2d7ba",
            "value": " 363/363 [00:00&lt;00:00, 24.9kB/s]"
          }
        },
        "8fe83fd3a22747aba3be20db4fa7be68": {
          "model_module": "@jupyter-widgets/base",
          "model_name": "LayoutModel",
          "model_module_version": "1.2.0",
          "state": {
            "_model_module": "@jupyter-widgets/base",
            "_model_module_version": "1.2.0",
            "_model_name": "LayoutModel",
            "_view_count": null,
            "_view_module": "@jupyter-widgets/base",
            "_view_module_version": "1.2.0",
            "_view_name": "LayoutView",
            "align_content": null,
            "align_items": null,
            "align_self": null,
            "border": null,
            "bottom": null,
            "display": null,
            "flex": null,
            "flex_flow": null,
            "grid_area": null,
            "grid_auto_columns": null,
            "grid_auto_flow": null,
            "grid_auto_rows": null,
            "grid_column": null,
            "grid_gap": null,
            "grid_row": null,
            "grid_template_areas": null,
            "grid_template_columns": null,
            "grid_template_rows": null,
            "height": null,
            "justify_content": null,
            "justify_items": null,
            "left": null,
            "margin": null,
            "max_height": null,
            "max_width": null,
            "min_height": null,
            "min_width": null,
            "object_fit": null,
            "object_position": null,
            "order": null,
            "overflow": null,
            "overflow_x": null,
            "overflow_y": null,
            "padding": null,
            "right": null,
            "top": null,
            "visibility": null,
            "width": null
          }
        },
        "7cca13e906684c8788dc5eed3c5a7c0a": {
          "model_module": "@jupyter-widgets/base",
          "model_name": "LayoutModel",
          "model_module_version": "1.2.0",
          "state": {
            "_model_module": "@jupyter-widgets/base",
            "_model_module_version": "1.2.0",
            "_model_name": "LayoutModel",
            "_view_count": null,
            "_view_module": "@jupyter-widgets/base",
            "_view_module_version": "1.2.0",
            "_view_name": "LayoutView",
            "align_content": null,
            "align_items": null,
            "align_self": null,
            "border": null,
            "bottom": null,
            "display": null,
            "flex": null,
            "flex_flow": null,
            "grid_area": null,
            "grid_auto_columns": null,
            "grid_auto_flow": null,
            "grid_auto_rows": null,
            "grid_column": null,
            "grid_gap": null,
            "grid_row": null,
            "grid_template_areas": null,
            "grid_template_columns": null,
            "grid_template_rows": null,
            "height": null,
            "justify_content": null,
            "justify_items": null,
            "left": null,
            "margin": null,
            "max_height": null,
            "max_width": null,
            "min_height": null,
            "min_width": null,
            "object_fit": null,
            "object_position": null,
            "order": null,
            "overflow": null,
            "overflow_x": null,
            "overflow_y": null,
            "padding": null,
            "right": null,
            "top": null,
            "visibility": null,
            "width": null
          }
        },
        "00f702b8911c4f6e9de4b8f3c87feebc": {
          "model_module": "@jupyter-widgets/controls",
          "model_name": "DescriptionStyleModel",
          "model_module_version": "1.5.0",
          "state": {
            "_model_module": "@jupyter-widgets/controls",
            "_model_module_version": "1.5.0",
            "_model_name": "DescriptionStyleModel",
            "_view_count": null,
            "_view_module": "@jupyter-widgets/base",
            "_view_module_version": "1.2.0",
            "_view_name": "StyleView",
            "description_width": ""
          }
        },
        "45a26e1382044c14bb9c1d3397871f15": {
          "model_module": "@jupyter-widgets/base",
          "model_name": "LayoutModel",
          "model_module_version": "1.2.0",
          "state": {
            "_model_module": "@jupyter-widgets/base",
            "_model_module_version": "1.2.0",
            "_model_name": "LayoutModel",
            "_view_count": null,
            "_view_module": "@jupyter-widgets/base",
            "_view_module_version": "1.2.0",
            "_view_name": "LayoutView",
            "align_content": null,
            "align_items": null,
            "align_self": null,
            "border": null,
            "bottom": null,
            "display": null,
            "flex": null,
            "flex_flow": null,
            "grid_area": null,
            "grid_auto_columns": null,
            "grid_auto_flow": null,
            "grid_auto_rows": null,
            "grid_column": null,
            "grid_gap": null,
            "grid_row": null,
            "grid_template_areas": null,
            "grid_template_columns": null,
            "grid_template_rows": null,
            "height": null,
            "justify_content": null,
            "justify_items": null,
            "left": null,
            "margin": null,
            "max_height": null,
            "max_width": null,
            "min_height": null,
            "min_width": null,
            "object_fit": null,
            "object_position": null,
            "order": null,
            "overflow": null,
            "overflow_x": null,
            "overflow_y": null,
            "padding": null,
            "right": null,
            "top": null,
            "visibility": null,
            "width": null
          }
        },
        "70d9918fb59f4969843459a492235965": {
          "model_module": "@jupyter-widgets/controls",
          "model_name": "ProgressStyleModel",
          "model_module_version": "1.5.0",
          "state": {
            "_model_module": "@jupyter-widgets/controls",
            "_model_module_version": "1.5.0",
            "_model_name": "ProgressStyleModel",
            "_view_count": null,
            "_view_module": "@jupyter-widgets/base",
            "_view_module_version": "1.2.0",
            "_view_name": "StyleView",
            "bar_color": null,
            "description_width": ""
          }
        },
        "8231de3c1452487682b9425f87048689": {
          "model_module": "@jupyter-widgets/base",
          "model_name": "LayoutModel",
          "model_module_version": "1.2.0",
          "state": {
            "_model_module": "@jupyter-widgets/base",
            "_model_module_version": "1.2.0",
            "_model_name": "LayoutModel",
            "_view_count": null,
            "_view_module": "@jupyter-widgets/base",
            "_view_module_version": "1.2.0",
            "_view_name": "LayoutView",
            "align_content": null,
            "align_items": null,
            "align_self": null,
            "border": null,
            "bottom": null,
            "display": null,
            "flex": null,
            "flex_flow": null,
            "grid_area": null,
            "grid_auto_columns": null,
            "grid_auto_flow": null,
            "grid_auto_rows": null,
            "grid_column": null,
            "grid_gap": null,
            "grid_row": null,
            "grid_template_areas": null,
            "grid_template_columns": null,
            "grid_template_rows": null,
            "height": null,
            "justify_content": null,
            "justify_items": null,
            "left": null,
            "margin": null,
            "max_height": null,
            "max_width": null,
            "min_height": null,
            "min_width": null,
            "object_fit": null,
            "object_position": null,
            "order": null,
            "overflow": null,
            "overflow_x": null,
            "overflow_y": null,
            "padding": null,
            "right": null,
            "top": null,
            "visibility": null,
            "width": null
          }
        },
        "98d60e1a8ea243628931c6ee19a2d7ba": {
          "model_module": "@jupyter-widgets/controls",
          "model_name": "DescriptionStyleModel",
          "model_module_version": "1.5.0",
          "state": {
            "_model_module": "@jupyter-widgets/controls",
            "_model_module_version": "1.5.0",
            "_model_name": "DescriptionStyleModel",
            "_view_count": null,
            "_view_module": "@jupyter-widgets/base",
            "_view_module_version": "1.2.0",
            "_view_name": "StyleView",
            "description_width": ""
          }
        },
        "157527cfd9e844d2958eced2d3564238": {
          "model_module": "@jupyter-widgets/controls",
          "model_name": "HBoxModel",
          "model_module_version": "1.5.0",
          "state": {
            "_dom_classes": [],
            "_model_module": "@jupyter-widgets/controls",
            "_model_module_version": "1.5.0",
            "_model_name": "HBoxModel",
            "_view_count": null,
            "_view_module": "@jupyter-widgets/controls",
            "_view_module_version": "1.5.0",
            "_view_name": "HBoxView",
            "box_style": "",
            "children": [
              "IPY_MODEL_7bfbdba34bbb428d8c6bfe30cf3acc59",
              "IPY_MODEL_f4ffd2f190fd487796a91201b0791d4f",
              "IPY_MODEL_7be506641b1c4fb48502509545b7c1d5"
            ],
            "layout": "IPY_MODEL_12b53b343fed4426a8198ddc9b196336"
          }
        },
        "7bfbdba34bbb428d8c6bfe30cf3acc59": {
          "model_module": "@jupyter-widgets/controls",
          "model_name": "HTMLModel",
          "model_module_version": "1.5.0",
          "state": {
            "_dom_classes": [],
            "_model_module": "@jupyter-widgets/controls",
            "_model_module_version": "1.5.0",
            "_model_name": "HTMLModel",
            "_view_count": null,
            "_view_module": "@jupyter-widgets/controls",
            "_view_module_version": "1.5.0",
            "_view_name": "HTMLView",
            "description": "",
            "description_tooltip": null,
            "layout": "IPY_MODEL_fbaf88760e1440d0ad29f59fe8098e3c",
            "placeholder": "​",
            "style": "IPY_MODEL_21001bd986d94c46bd7034b7dc97cbd8",
            "value": "tokenization_qwen.py: 100%"
          }
        },
        "f4ffd2f190fd487796a91201b0791d4f": {
          "model_module": "@jupyter-widgets/controls",
          "model_name": "FloatProgressModel",
          "model_module_version": "1.5.0",
          "state": {
            "_dom_classes": [],
            "_model_module": "@jupyter-widgets/controls",
            "_model_module_version": "1.5.0",
            "_model_name": "FloatProgressModel",
            "_view_count": null,
            "_view_module": "@jupyter-widgets/controls",
            "_view_module_version": "1.5.0",
            "_view_name": "ProgressView",
            "bar_style": "success",
            "description": "",
            "description_tooltip": null,
            "layout": "IPY_MODEL_37388697f063465cbb6bbafb721610fa",
            "max": 9618,
            "min": 0,
            "orientation": "horizontal",
            "style": "IPY_MODEL_4f35190bd33143d69743c012c432a0ca",
            "value": 9618
          }
        },
        "7be506641b1c4fb48502509545b7c1d5": {
          "model_module": "@jupyter-widgets/controls",
          "model_name": "HTMLModel",
          "model_module_version": "1.5.0",
          "state": {
            "_dom_classes": [],
            "_model_module": "@jupyter-widgets/controls",
            "_model_module_version": "1.5.0",
            "_model_name": "HTMLModel",
            "_view_count": null,
            "_view_module": "@jupyter-widgets/controls",
            "_view_module_version": "1.5.0",
            "_view_name": "HTMLView",
            "description": "",
            "description_tooltip": null,
            "layout": "IPY_MODEL_078cbe4831a242cbb6154ee06a57f78c",
            "placeholder": "​",
            "style": "IPY_MODEL_e01f48e30f81489b941804bdfcfb5728",
            "value": " 9.62k/9.62k [00:00&lt;00:00, 555kB/s]"
          }
        },
        "12b53b343fed4426a8198ddc9b196336": {
          "model_module": "@jupyter-widgets/base",
          "model_name": "LayoutModel",
          "model_module_version": "1.2.0",
          "state": {
            "_model_module": "@jupyter-widgets/base",
            "_model_module_version": "1.2.0",
            "_model_name": "LayoutModel",
            "_view_count": null,
            "_view_module": "@jupyter-widgets/base",
            "_view_module_version": "1.2.0",
            "_view_name": "LayoutView",
            "align_content": null,
            "align_items": null,
            "align_self": null,
            "border": null,
            "bottom": null,
            "display": null,
            "flex": null,
            "flex_flow": null,
            "grid_area": null,
            "grid_auto_columns": null,
            "grid_auto_flow": null,
            "grid_auto_rows": null,
            "grid_column": null,
            "grid_gap": null,
            "grid_row": null,
            "grid_template_areas": null,
            "grid_template_columns": null,
            "grid_template_rows": null,
            "height": null,
            "justify_content": null,
            "justify_items": null,
            "left": null,
            "margin": null,
            "max_height": null,
            "max_width": null,
            "min_height": null,
            "min_width": null,
            "object_fit": null,
            "object_position": null,
            "order": null,
            "overflow": null,
            "overflow_x": null,
            "overflow_y": null,
            "padding": null,
            "right": null,
            "top": null,
            "visibility": null,
            "width": null
          }
        },
        "fbaf88760e1440d0ad29f59fe8098e3c": {
          "model_module": "@jupyter-widgets/base",
          "model_name": "LayoutModel",
          "model_module_version": "1.2.0",
          "state": {
            "_model_module": "@jupyter-widgets/base",
            "_model_module_version": "1.2.0",
            "_model_name": "LayoutModel",
            "_view_count": null,
            "_view_module": "@jupyter-widgets/base",
            "_view_module_version": "1.2.0",
            "_view_name": "LayoutView",
            "align_content": null,
            "align_items": null,
            "align_self": null,
            "border": null,
            "bottom": null,
            "display": null,
            "flex": null,
            "flex_flow": null,
            "grid_area": null,
            "grid_auto_columns": null,
            "grid_auto_flow": null,
            "grid_auto_rows": null,
            "grid_column": null,
            "grid_gap": null,
            "grid_row": null,
            "grid_template_areas": null,
            "grid_template_columns": null,
            "grid_template_rows": null,
            "height": null,
            "justify_content": null,
            "justify_items": null,
            "left": null,
            "margin": null,
            "max_height": null,
            "max_width": null,
            "min_height": null,
            "min_width": null,
            "object_fit": null,
            "object_position": null,
            "order": null,
            "overflow": null,
            "overflow_x": null,
            "overflow_y": null,
            "padding": null,
            "right": null,
            "top": null,
            "visibility": null,
            "width": null
          }
        },
        "21001bd986d94c46bd7034b7dc97cbd8": {
          "model_module": "@jupyter-widgets/controls",
          "model_name": "DescriptionStyleModel",
          "model_module_version": "1.5.0",
          "state": {
            "_model_module": "@jupyter-widgets/controls",
            "_model_module_version": "1.5.0",
            "_model_name": "DescriptionStyleModel",
            "_view_count": null,
            "_view_module": "@jupyter-widgets/base",
            "_view_module_version": "1.2.0",
            "_view_name": "StyleView",
            "description_width": ""
          }
        },
        "37388697f063465cbb6bbafb721610fa": {
          "model_module": "@jupyter-widgets/base",
          "model_name": "LayoutModel",
          "model_module_version": "1.2.0",
          "state": {
            "_model_module": "@jupyter-widgets/base",
            "_model_module_version": "1.2.0",
            "_model_name": "LayoutModel",
            "_view_count": null,
            "_view_module": "@jupyter-widgets/base",
            "_view_module_version": "1.2.0",
            "_view_name": "LayoutView",
            "align_content": null,
            "align_items": null,
            "align_self": null,
            "border": null,
            "bottom": null,
            "display": null,
            "flex": null,
            "flex_flow": null,
            "grid_area": null,
            "grid_auto_columns": null,
            "grid_auto_flow": null,
            "grid_auto_rows": null,
            "grid_column": null,
            "grid_gap": null,
            "grid_row": null,
            "grid_template_areas": null,
            "grid_template_columns": null,
            "grid_template_rows": null,
            "height": null,
            "justify_content": null,
            "justify_items": null,
            "left": null,
            "margin": null,
            "max_height": null,
            "max_width": null,
            "min_height": null,
            "min_width": null,
            "object_fit": null,
            "object_position": null,
            "order": null,
            "overflow": null,
            "overflow_x": null,
            "overflow_y": null,
            "padding": null,
            "right": null,
            "top": null,
            "visibility": null,
            "width": null
          }
        },
        "4f35190bd33143d69743c012c432a0ca": {
          "model_module": "@jupyter-widgets/controls",
          "model_name": "ProgressStyleModel",
          "model_module_version": "1.5.0",
          "state": {
            "_model_module": "@jupyter-widgets/controls",
            "_model_module_version": "1.5.0",
            "_model_name": "ProgressStyleModel",
            "_view_count": null,
            "_view_module": "@jupyter-widgets/base",
            "_view_module_version": "1.2.0",
            "_view_name": "StyleView",
            "bar_color": null,
            "description_width": ""
          }
        },
        "078cbe4831a242cbb6154ee06a57f78c": {
          "model_module": "@jupyter-widgets/base",
          "model_name": "LayoutModel",
          "model_module_version": "1.2.0",
          "state": {
            "_model_module": "@jupyter-widgets/base",
            "_model_module_version": "1.2.0",
            "_model_name": "LayoutModel",
            "_view_count": null,
            "_view_module": "@jupyter-widgets/base",
            "_view_module_version": "1.2.0",
            "_view_name": "LayoutView",
            "align_content": null,
            "align_items": null,
            "align_self": null,
            "border": null,
            "bottom": null,
            "display": null,
            "flex": null,
            "flex_flow": null,
            "grid_area": null,
            "grid_auto_columns": null,
            "grid_auto_flow": null,
            "grid_auto_rows": null,
            "grid_column": null,
            "grid_gap": null,
            "grid_row": null,
            "grid_template_areas": null,
            "grid_template_columns": null,
            "grid_template_rows": null,
            "height": null,
            "justify_content": null,
            "justify_items": null,
            "left": null,
            "margin": null,
            "max_height": null,
            "max_width": null,
            "min_height": null,
            "min_width": null,
            "object_fit": null,
            "object_position": null,
            "order": null,
            "overflow": null,
            "overflow_x": null,
            "overflow_y": null,
            "padding": null,
            "right": null,
            "top": null,
            "visibility": null,
            "width": null
          }
        },
        "e01f48e30f81489b941804bdfcfb5728": {
          "model_module": "@jupyter-widgets/controls",
          "model_name": "DescriptionStyleModel",
          "model_module_version": "1.5.0",
          "state": {
            "_model_module": "@jupyter-widgets/controls",
            "_model_module_version": "1.5.0",
            "_model_name": "DescriptionStyleModel",
            "_view_count": null,
            "_view_module": "@jupyter-widgets/base",
            "_view_module_version": "1.2.0",
            "_view_name": "StyleView",
            "description_width": ""
          }
        },
        "a2963675903f4b338aac4adeefcdda1b": {
          "model_module": "@jupyter-widgets/controls",
          "model_name": "HBoxModel",
          "model_module_version": "1.5.0",
          "state": {
            "_dom_classes": [],
            "_model_module": "@jupyter-widgets/controls",
            "_model_module_version": "1.5.0",
            "_model_name": "HBoxModel",
            "_view_count": null,
            "_view_module": "@jupyter-widgets/controls",
            "_view_module_version": "1.5.0",
            "_view_name": "HBoxView",
            "box_style": "",
            "children": [
              "IPY_MODEL_01f00ea3b07148e899224e6ec5dac90e",
              "IPY_MODEL_73546e5b3ed24a92ba798254c296e4de",
              "IPY_MODEL_1157a52c7c8244d2b067af907b72b421"
            ],
            "layout": "IPY_MODEL_3c0eaeb4d2cf4b42a4db60e5ef021e82"
          }
        },
        "01f00ea3b07148e899224e6ec5dac90e": {
          "model_module": "@jupyter-widgets/controls",
          "model_name": "HTMLModel",
          "model_module_version": "1.5.0",
          "state": {
            "_dom_classes": [],
            "_model_module": "@jupyter-widgets/controls",
            "_model_module_version": "1.5.0",
            "_model_name": "HTMLModel",
            "_view_count": null,
            "_view_module": "@jupyter-widgets/controls",
            "_view_module_version": "1.5.0",
            "_view_name": "HTMLView",
            "description": "",
            "description_tooltip": null,
            "layout": "IPY_MODEL_1db43cce9f7a4be691eea056bec58baa",
            "placeholder": "​",
            "style": "IPY_MODEL_b55fc074a0b24cfdb91587358845fe02",
            "value": "qwen.tiktoken: 100%"
          }
        },
        "73546e5b3ed24a92ba798254c296e4de": {
          "model_module": "@jupyter-widgets/controls",
          "model_name": "FloatProgressModel",
          "model_module_version": "1.5.0",
          "state": {
            "_dom_classes": [],
            "_model_module": "@jupyter-widgets/controls",
            "_model_module_version": "1.5.0",
            "_model_name": "FloatProgressModel",
            "_view_count": null,
            "_view_module": "@jupyter-widgets/controls",
            "_view_module_version": "1.5.0",
            "_view_name": "ProgressView",
            "bar_style": "success",
            "description": "",
            "description_tooltip": null,
            "layout": "IPY_MODEL_e8c05e9295154b5b9b51918d87bc159f",
            "max": 2561218,
            "min": 0,
            "orientation": "horizontal",
            "style": "IPY_MODEL_774323a19cbb4950a8fb4d90e963a866",
            "value": 2561218
          }
        },
        "1157a52c7c8244d2b067af907b72b421": {
          "model_module": "@jupyter-widgets/controls",
          "model_name": "HTMLModel",
          "model_module_version": "1.5.0",
          "state": {
            "_dom_classes": [],
            "_model_module": "@jupyter-widgets/controls",
            "_model_module_version": "1.5.0",
            "_model_name": "HTMLModel",
            "_view_count": null,
            "_view_module": "@jupyter-widgets/controls",
            "_view_module_version": "1.5.0",
            "_view_name": "HTMLView",
            "description": "",
            "description_tooltip": null,
            "layout": "IPY_MODEL_ac9faad2719947f7b621e47b9ea9bccb",
            "placeholder": "​",
            "style": "IPY_MODEL_894a640c21a54015bd4df1d7f468f080",
            "value": " 2.56M/2.56M [00:00&lt;00:00, 16.9MB/s]"
          }
        },
        "3c0eaeb4d2cf4b42a4db60e5ef021e82": {
          "model_module": "@jupyter-widgets/base",
          "model_name": "LayoutModel",
          "model_module_version": "1.2.0",
          "state": {
            "_model_module": "@jupyter-widgets/base",
            "_model_module_version": "1.2.0",
            "_model_name": "LayoutModel",
            "_view_count": null,
            "_view_module": "@jupyter-widgets/base",
            "_view_module_version": "1.2.0",
            "_view_name": "LayoutView",
            "align_content": null,
            "align_items": null,
            "align_self": null,
            "border": null,
            "bottom": null,
            "display": null,
            "flex": null,
            "flex_flow": null,
            "grid_area": null,
            "grid_auto_columns": null,
            "grid_auto_flow": null,
            "grid_auto_rows": null,
            "grid_column": null,
            "grid_gap": null,
            "grid_row": null,
            "grid_template_areas": null,
            "grid_template_columns": null,
            "grid_template_rows": null,
            "height": null,
            "justify_content": null,
            "justify_items": null,
            "left": null,
            "margin": null,
            "max_height": null,
            "max_width": null,
            "min_height": null,
            "min_width": null,
            "object_fit": null,
            "object_position": null,
            "order": null,
            "overflow": null,
            "overflow_x": null,
            "overflow_y": null,
            "padding": null,
            "right": null,
            "top": null,
            "visibility": null,
            "width": null
          }
        },
        "1db43cce9f7a4be691eea056bec58baa": {
          "model_module": "@jupyter-widgets/base",
          "model_name": "LayoutModel",
          "model_module_version": "1.2.0",
          "state": {
            "_model_module": "@jupyter-widgets/base",
            "_model_module_version": "1.2.0",
            "_model_name": "LayoutModel",
            "_view_count": null,
            "_view_module": "@jupyter-widgets/base",
            "_view_module_version": "1.2.0",
            "_view_name": "LayoutView",
            "align_content": null,
            "align_items": null,
            "align_self": null,
            "border": null,
            "bottom": null,
            "display": null,
            "flex": null,
            "flex_flow": null,
            "grid_area": null,
            "grid_auto_columns": null,
            "grid_auto_flow": null,
            "grid_auto_rows": null,
            "grid_column": null,
            "grid_gap": null,
            "grid_row": null,
            "grid_template_areas": null,
            "grid_template_columns": null,
            "grid_template_rows": null,
            "height": null,
            "justify_content": null,
            "justify_items": null,
            "left": null,
            "margin": null,
            "max_height": null,
            "max_width": null,
            "min_height": null,
            "min_width": null,
            "object_fit": null,
            "object_position": null,
            "order": null,
            "overflow": null,
            "overflow_x": null,
            "overflow_y": null,
            "padding": null,
            "right": null,
            "top": null,
            "visibility": null,
            "width": null
          }
        },
        "b55fc074a0b24cfdb91587358845fe02": {
          "model_module": "@jupyter-widgets/controls",
          "model_name": "DescriptionStyleModel",
          "model_module_version": "1.5.0",
          "state": {
            "_model_module": "@jupyter-widgets/controls",
            "_model_module_version": "1.5.0",
            "_model_name": "DescriptionStyleModel",
            "_view_count": null,
            "_view_module": "@jupyter-widgets/base",
            "_view_module_version": "1.2.0",
            "_view_name": "StyleView",
            "description_width": ""
          }
        },
        "e8c05e9295154b5b9b51918d87bc159f": {
          "model_module": "@jupyter-widgets/base",
          "model_name": "LayoutModel",
          "model_module_version": "1.2.0",
          "state": {
            "_model_module": "@jupyter-widgets/base",
            "_model_module_version": "1.2.0",
            "_model_name": "LayoutModel",
            "_view_count": null,
            "_view_module": "@jupyter-widgets/base",
            "_view_module_version": "1.2.0",
            "_view_name": "LayoutView",
            "align_content": null,
            "align_items": null,
            "align_self": null,
            "border": null,
            "bottom": null,
            "display": null,
            "flex": null,
            "flex_flow": null,
            "grid_area": null,
            "grid_auto_columns": null,
            "grid_auto_flow": null,
            "grid_auto_rows": null,
            "grid_column": null,
            "grid_gap": null,
            "grid_row": null,
            "grid_template_areas": null,
            "grid_template_columns": null,
            "grid_template_rows": null,
            "height": null,
            "justify_content": null,
            "justify_items": null,
            "left": null,
            "margin": null,
            "max_height": null,
            "max_width": null,
            "min_height": null,
            "min_width": null,
            "object_fit": null,
            "object_position": null,
            "order": null,
            "overflow": null,
            "overflow_x": null,
            "overflow_y": null,
            "padding": null,
            "right": null,
            "top": null,
            "visibility": null,
            "width": null
          }
        },
        "774323a19cbb4950a8fb4d90e963a866": {
          "model_module": "@jupyter-widgets/controls",
          "model_name": "ProgressStyleModel",
          "model_module_version": "1.5.0",
          "state": {
            "_model_module": "@jupyter-widgets/controls",
            "_model_module_version": "1.5.0",
            "_model_name": "ProgressStyleModel",
            "_view_count": null,
            "_view_module": "@jupyter-widgets/base",
            "_view_module_version": "1.2.0",
            "_view_name": "StyleView",
            "bar_color": null,
            "description_width": ""
          }
        },
        "ac9faad2719947f7b621e47b9ea9bccb": {
          "model_module": "@jupyter-widgets/base",
          "model_name": "LayoutModel",
          "model_module_version": "1.2.0",
          "state": {
            "_model_module": "@jupyter-widgets/base",
            "_model_module_version": "1.2.0",
            "_model_name": "LayoutModel",
            "_view_count": null,
            "_view_module": "@jupyter-widgets/base",
            "_view_module_version": "1.2.0",
            "_view_name": "LayoutView",
            "align_content": null,
            "align_items": null,
            "align_self": null,
            "border": null,
            "bottom": null,
            "display": null,
            "flex": null,
            "flex_flow": null,
            "grid_area": null,
            "grid_auto_columns": null,
            "grid_auto_flow": null,
            "grid_auto_rows": null,
            "grid_column": null,
            "grid_gap": null,
            "grid_row": null,
            "grid_template_areas": null,
            "grid_template_columns": null,
            "grid_template_rows": null,
            "height": null,
            "justify_content": null,
            "justify_items": null,
            "left": null,
            "margin": null,
            "max_height": null,
            "max_width": null,
            "min_height": null,
            "min_width": null,
            "object_fit": null,
            "object_position": null,
            "order": null,
            "overflow": null,
            "overflow_x": null,
            "overflow_y": null,
            "padding": null,
            "right": null,
            "top": null,
            "visibility": null,
            "width": null
          }
        },
        "894a640c21a54015bd4df1d7f468f080": {
          "model_module": "@jupyter-widgets/controls",
          "model_name": "DescriptionStyleModel",
          "model_module_version": "1.5.0",
          "state": {
            "_model_module": "@jupyter-widgets/controls",
            "_model_module_version": "1.5.0",
            "_model_name": "DescriptionStyleModel",
            "_view_count": null,
            "_view_module": "@jupyter-widgets/base",
            "_view_module_version": "1.2.0",
            "_view_name": "StyleView",
            "description_width": ""
          }
        },
        "d5fcc95a8fe54297930d51ea1d6ea2c9": {
          "model_module": "@jupyter-widgets/controls",
          "model_name": "HBoxModel",
          "model_module_version": "1.5.0",
          "state": {
            "_dom_classes": [],
            "_model_module": "@jupyter-widgets/controls",
            "_model_module_version": "1.5.0",
            "_model_name": "HBoxModel",
            "_view_count": null,
            "_view_module": "@jupyter-widgets/controls",
            "_view_module_version": "1.5.0",
            "_view_name": "HBoxView",
            "box_style": "",
            "children": [
              "IPY_MODEL_d3faeecac3f240f3be7b70baecee4fbb",
              "IPY_MODEL_2a82f0257a4e48d7b28566884effee09",
              "IPY_MODEL_01d2d83b49f14581b09f6e354dbb1cb5"
            ],
            "layout": "IPY_MODEL_47aa25e37d31413492177b96afb70294"
          }
        },
        "d3faeecac3f240f3be7b70baecee4fbb": {
          "model_module": "@jupyter-widgets/controls",
          "model_name": "HTMLModel",
          "model_module_version": "1.5.0",
          "state": {
            "_dom_classes": [],
            "_model_module": "@jupyter-widgets/controls",
            "_model_module_version": "1.5.0",
            "_model_name": "HTMLModel",
            "_view_count": null,
            "_view_module": "@jupyter-widgets/controls",
            "_view_module_version": "1.5.0",
            "_view_name": "HTMLView",
            "description": "",
            "description_tooltip": null,
            "layout": "IPY_MODEL_2912d09fc944446b947167a8479cd6a0",
            "placeholder": "​",
            "style": "IPY_MODEL_b6f52e8959cc4687aaf56bd4e7c15d4c",
            "value": "special_tokens_map.json: 100%"
          }
        },
        "2a82f0257a4e48d7b28566884effee09": {
          "model_module": "@jupyter-widgets/controls",
          "model_name": "FloatProgressModel",
          "model_module_version": "1.5.0",
          "state": {
            "_dom_classes": [],
            "_model_module": "@jupyter-widgets/controls",
            "_model_module_version": "1.5.0",
            "_model_name": "FloatProgressModel",
            "_view_count": null,
            "_view_module": "@jupyter-widgets/controls",
            "_view_module_version": "1.5.0",
            "_view_name": "ProgressView",
            "bar_style": "success",
            "description": "",
            "description_tooltip": null,
            "layout": "IPY_MODEL_21a67a7b662246eabb9cd765bc71722e",
            "max": 64,
            "min": 0,
            "orientation": "horizontal",
            "style": "IPY_MODEL_37a21e521a3a483a9c1da1d131e4dcb7",
            "value": 64
          }
        },
        "01d2d83b49f14581b09f6e354dbb1cb5": {
          "model_module": "@jupyter-widgets/controls",
          "model_name": "HTMLModel",
          "model_module_version": "1.5.0",
          "state": {
            "_dom_classes": [],
            "_model_module": "@jupyter-widgets/controls",
            "_model_module_version": "1.5.0",
            "_model_name": "HTMLModel",
            "_view_count": null,
            "_view_module": "@jupyter-widgets/controls",
            "_view_module_version": "1.5.0",
            "_view_name": "HTMLView",
            "description": "",
            "description_tooltip": null,
            "layout": "IPY_MODEL_04f623088a914b17a57ef96b79854c85",
            "placeholder": "​",
            "style": "IPY_MODEL_7e45ffe45dcc4e6a9c41ea05f4ae3063",
            "value": " 64.0/64.0 [00:00&lt;00:00, 4.49kB/s]"
          }
        },
        "47aa25e37d31413492177b96afb70294": {
          "model_module": "@jupyter-widgets/base",
          "model_name": "LayoutModel",
          "model_module_version": "1.2.0",
          "state": {
            "_model_module": "@jupyter-widgets/base",
            "_model_module_version": "1.2.0",
            "_model_name": "LayoutModel",
            "_view_count": null,
            "_view_module": "@jupyter-widgets/base",
            "_view_module_version": "1.2.0",
            "_view_name": "LayoutView",
            "align_content": null,
            "align_items": null,
            "align_self": null,
            "border": null,
            "bottom": null,
            "display": null,
            "flex": null,
            "flex_flow": null,
            "grid_area": null,
            "grid_auto_columns": null,
            "grid_auto_flow": null,
            "grid_auto_rows": null,
            "grid_column": null,
            "grid_gap": null,
            "grid_row": null,
            "grid_template_areas": null,
            "grid_template_columns": null,
            "grid_template_rows": null,
            "height": null,
            "justify_content": null,
            "justify_items": null,
            "left": null,
            "margin": null,
            "max_height": null,
            "max_width": null,
            "min_height": null,
            "min_width": null,
            "object_fit": null,
            "object_position": null,
            "order": null,
            "overflow": null,
            "overflow_x": null,
            "overflow_y": null,
            "padding": null,
            "right": null,
            "top": null,
            "visibility": null,
            "width": null
          }
        },
        "2912d09fc944446b947167a8479cd6a0": {
          "model_module": "@jupyter-widgets/base",
          "model_name": "LayoutModel",
          "model_module_version": "1.2.0",
          "state": {
            "_model_module": "@jupyter-widgets/base",
            "_model_module_version": "1.2.0",
            "_model_name": "LayoutModel",
            "_view_count": null,
            "_view_module": "@jupyter-widgets/base",
            "_view_module_version": "1.2.0",
            "_view_name": "LayoutView",
            "align_content": null,
            "align_items": null,
            "align_self": null,
            "border": null,
            "bottom": null,
            "display": null,
            "flex": null,
            "flex_flow": null,
            "grid_area": null,
            "grid_auto_columns": null,
            "grid_auto_flow": null,
            "grid_auto_rows": null,
            "grid_column": null,
            "grid_gap": null,
            "grid_row": null,
            "grid_template_areas": null,
            "grid_template_columns": null,
            "grid_template_rows": null,
            "height": null,
            "justify_content": null,
            "justify_items": null,
            "left": null,
            "margin": null,
            "max_height": null,
            "max_width": null,
            "min_height": null,
            "min_width": null,
            "object_fit": null,
            "object_position": null,
            "order": null,
            "overflow": null,
            "overflow_x": null,
            "overflow_y": null,
            "padding": null,
            "right": null,
            "top": null,
            "visibility": null,
            "width": null
          }
        },
        "b6f52e8959cc4687aaf56bd4e7c15d4c": {
          "model_module": "@jupyter-widgets/controls",
          "model_name": "DescriptionStyleModel",
          "model_module_version": "1.5.0",
          "state": {
            "_model_module": "@jupyter-widgets/controls",
            "_model_module_version": "1.5.0",
            "_model_name": "DescriptionStyleModel",
            "_view_count": null,
            "_view_module": "@jupyter-widgets/base",
            "_view_module_version": "1.2.0",
            "_view_name": "StyleView",
            "description_width": ""
          }
        },
        "21a67a7b662246eabb9cd765bc71722e": {
          "model_module": "@jupyter-widgets/base",
          "model_name": "LayoutModel",
          "model_module_version": "1.2.0",
          "state": {
            "_model_module": "@jupyter-widgets/base",
            "_model_module_version": "1.2.0",
            "_model_name": "LayoutModel",
            "_view_count": null,
            "_view_module": "@jupyter-widgets/base",
            "_view_module_version": "1.2.0",
            "_view_name": "LayoutView",
            "align_content": null,
            "align_items": null,
            "align_self": null,
            "border": null,
            "bottom": null,
            "display": null,
            "flex": null,
            "flex_flow": null,
            "grid_area": null,
            "grid_auto_columns": null,
            "grid_auto_flow": null,
            "grid_auto_rows": null,
            "grid_column": null,
            "grid_gap": null,
            "grid_row": null,
            "grid_template_areas": null,
            "grid_template_columns": null,
            "grid_template_rows": null,
            "height": null,
            "justify_content": null,
            "justify_items": null,
            "left": null,
            "margin": null,
            "max_height": null,
            "max_width": null,
            "min_height": null,
            "min_width": null,
            "object_fit": null,
            "object_position": null,
            "order": null,
            "overflow": null,
            "overflow_x": null,
            "overflow_y": null,
            "padding": null,
            "right": null,
            "top": null,
            "visibility": null,
            "width": null
          }
        },
        "37a21e521a3a483a9c1da1d131e4dcb7": {
          "model_module": "@jupyter-widgets/controls",
          "model_name": "ProgressStyleModel",
          "model_module_version": "1.5.0",
          "state": {
            "_model_module": "@jupyter-widgets/controls",
            "_model_module_version": "1.5.0",
            "_model_name": "ProgressStyleModel",
            "_view_count": null,
            "_view_module": "@jupyter-widgets/base",
            "_view_module_version": "1.2.0",
            "_view_name": "StyleView",
            "bar_color": null,
            "description_width": ""
          }
        },
        "04f623088a914b17a57ef96b79854c85": {
          "model_module": "@jupyter-widgets/base",
          "model_name": "LayoutModel",
          "model_module_version": "1.2.0",
          "state": {
            "_model_module": "@jupyter-widgets/base",
            "_model_module_version": "1.2.0",
            "_model_name": "LayoutModel",
            "_view_count": null,
            "_view_module": "@jupyter-widgets/base",
            "_view_module_version": "1.2.0",
            "_view_name": "LayoutView",
            "align_content": null,
            "align_items": null,
            "align_self": null,
            "border": null,
            "bottom": null,
            "display": null,
            "flex": null,
            "flex_flow": null,
            "grid_area": null,
            "grid_auto_columns": null,
            "grid_auto_flow": null,
            "grid_auto_rows": null,
            "grid_column": null,
            "grid_gap": null,
            "grid_row": null,
            "grid_template_areas": null,
            "grid_template_columns": null,
            "grid_template_rows": null,
            "height": null,
            "justify_content": null,
            "justify_items": null,
            "left": null,
            "margin": null,
            "max_height": null,
            "max_width": null,
            "min_height": null,
            "min_width": null,
            "object_fit": null,
            "object_position": null,
            "order": null,
            "overflow": null,
            "overflow_x": null,
            "overflow_y": null,
            "padding": null,
            "right": null,
            "top": null,
            "visibility": null,
            "width": null
          }
        },
        "7e45ffe45dcc4e6a9c41ea05f4ae3063": {
          "model_module": "@jupyter-widgets/controls",
          "model_name": "DescriptionStyleModel",
          "model_module_version": "1.5.0",
          "state": {
            "_model_module": "@jupyter-widgets/controls",
            "_model_module_version": "1.5.0",
            "_model_name": "DescriptionStyleModel",
            "_view_count": null,
            "_view_module": "@jupyter-widgets/base",
            "_view_module_version": "1.2.0",
            "_view_name": "StyleView",
            "description_width": ""
          }
        }
      }
    }
  },
  "cells": [
    {
      "cell_type": "markdown",
      "metadata": {
        "id": "view-in-github",
        "colab_type": "text"
      },
      "source": [
        "<a href=\"https://colab.research.google.com/github/LC1332/Zero-Haruhi/blob/main/notebook/novel_data/50%E6%9C%AC%E7%BB%8F%E5%85%B8%E5%B0%8F%E8%AF%B4%E6%95%B0%E6%8D%AE%E6%9E%84%E9%80%A0%EF%BC%88%E5%90%8E%E5%A4%84%E7%90%86).ipynb\" target=\"_parent\"><img src=\"https://colab.research.google.com/assets/colab-badge.svg\" alt=\"Open In Colab\"/></a>"
      ]
    },
    {
      "cell_type": "markdown",
      "source": [
        "- [x] 尝试读取文件，看第一行是什么小说\n",
        "- [x] 决定一本自己读过的小说\n",
        "- [x] 使用replace_recalled_dialogue生成新的小说\n",
        "- [x] 进行拼接\n",
        "- [x] 使用extract_speaker进行对话人确定\n",
        "- [x] 合并连续相同的speaker\n",
        "- [x] 随机读取一些数据，看看qwen和chatgpt3.5的token ratio 用后者会快一些\n",
        "- [x] 确定每个语料最大的合适长度 感觉卡qwen 600 长度比较合适\n",
        "- [x] 在刚才那个小说下面，选取一个人，从后向前切割rag语料 人物记忆库\n",
        "- [ ] 确定哪些长度的话适合作为训练数据\n",
        "- [x] 用贪心法，决定每个output所对应的rag，每个数据尽可能参与平均次数input\n",
        "- [ ] 为了降低实验难度，0.4直接使用默认prompt，即 你扮演 xx 中的 xx\n",
        "- [ ] 拓展一本小说的所有人物\n",
        "- [ ] 检查一本小说的数据\n",
        "- [ ] 拓展到50本小说"
      ],
      "metadata": {
        "id": "pciId6ZqZBXh"
      }
    },
    {
      "cell_type": "code",
      "source": [
        "!pip install -q tiktoken"
      ],
      "metadata": {
        "colab": {
          "base_uri": "https://localhost:8080/"
        },
        "id": "VM401IWi3vLO",
        "outputId": "2abf08eb-7595-449a-beb7-a884d2d824ff"
      },
      "execution_count": null,
      "outputs": [
        {
          "output_type": "stream",
          "name": "stdout",
          "text": [
            "\u001b[2K     \u001b[90m━━━━━━━━━━━━━━━━━━━━━━━━━━━━━━━━━━━━━━━━\u001b[0m \u001b[32m1.8/1.8 MB\u001b[0m \u001b[31m11.9 MB/s\u001b[0m eta \u001b[36m0:00:00\u001b[0m\n",
            "\u001b[?25h\u001b[31mERROR: pip's dependency resolver does not currently take into account all the packages that are installed. This behaviour is the source of the following dependency conflicts.\n",
            "llmx 0.0.15a0 requires cohere, which is not installed.\n",
            "llmx 0.0.15a0 requires openai, which is not installed.\u001b[0m\u001b[31m\n",
            "\u001b[0m"
          ]
        }
      ]
    },
    {
      "cell_type": "code",
      "execution_count": null,
      "metadata": {
        "id": "6nTzOg3SY8jM",
        "colab": {
          "base_uri": "https://localhost:8080/"
        },
        "outputId": "1cd06b97-e0a0-452d-9b52-306401851368"
      },
      "outputs": [
        {
          "output_type": "stream",
          "name": "stdout",
          "text": [
            "Mounted at /content/drive\n"
          ]
        }
      ],
      "source": [
        "from google.colab import drive\n",
        "drive.mount('/content/drive')"
      ]
    },
    {
      "cell_type": "code",
      "source": [
        "!ls /content/drive/MyDrive/CardBuild/exp0212"
      ],
      "metadata": {
        "colab": {
          "base_uri": "https://localhost:8080/"
        },
        "id": "eK-0jG7w1Dii",
        "outputId": "2741fae2-62f5-4b95-900b-fcac6c903620"
      },
      "execution_count": null,
      "outputs": [
        {
          "output_type": "stream",
          "name": "stdout",
          "text": [
            "novel_50_extract.jsonl\tsource2new_book.pkl\n"
          ]
        }
      ]
    },
    {
      "cell_type": "code",
      "source": [
        "def parse_id(id_str):\n",
        "    pos = id_str.rfind(\"_\")\n",
        "    return id_str[:pos], int( id_str[pos+1:] )\n",
        "\n",
        "# print( parse_id(data[\"id\"]))"
      ],
      "metadata": {
        "id": "kJ51bRrf10dp"
      },
      "execution_count": null,
      "outputs": []
    },
    {
      "cell_type": "code",
      "source": [
        "input_file = \"/content/drive/MyDrive/CardBuild/exp0212/novel_50_extract.jsonl\"\n",
        "\n",
        "import json\n",
        "\n",
        "source2chunks = {}\n",
        "\n",
        "with open(input_file, \"r\", encoding = \"utf-8\") as file:\n",
        "    for line in file:\n",
        "        data = json.loads(line)\n",
        "        source, id = parse_id(data[\"id\"])\n",
        "\n",
        "        # if source != \"大染坊\":\n",
        "        #     # for debug 我们先取一本小说\n",
        "        #     continue\n",
        "\n",
        "        data[\"source\"] = source\n",
        "        data[\"seg_id\"] = id\n",
        "\n",
        "        if source not in source2chunks:\n",
        "            source2chunks[source] = []\n",
        "        source2chunks[source].append(data)\n",
        "\n",
        "print(len(source2chunks[\"大染坊\"]))"
      ],
      "metadata": {
        "colab": {
          "base_uri": "https://localhost:8080/"
        },
        "id": "Ko7MPSNa1M3_",
        "outputId": "9254586c-a91b-45e8-9d97-78f61a1395be"
      },
      "execution_count": null,
      "outputs": [
        {
          "output_type": "stream",
          "name": "stdout",
          "text": [
            "564\n"
          ]
        }
      ]
    },
    {
      "cell_type": "code",
      "source": [
        "for source, chunks in source2chunks.items():\n",
        "    chunks.sort(key = lambda x: x[\"seg_id\"])"
      ],
      "metadata": {
        "id": "qK9btUdL4RCo"
      },
      "execution_count": null,
      "outputs": []
    },
    {
      "cell_type": "code",
      "source": [
        "keys = list(source2chunks.keys())\n",
        "\n",
        "# for i, source in enumerate( keys[:100]):\n",
        "#     print(i, source, len(source2chunks[source]))\n",
        "\n",
        "for source in keys:\n",
        "    if len(source2chunks[source]) < 5:\n",
        "        del source2chunks[source]\n",
        "\n",
        "print(len(source2chunks))"
      ],
      "metadata": {
        "colab": {
          "base_uri": "https://localhost:8080/"
        },
        "id": "lwM4RcAzPvLr",
        "outputId": "f23c5c15-4e1c-4924-fbdb-5db48aa038b0"
      },
      "execution_count": null,
      "outputs": [
        {
          "output_type": "stream",
          "name": "stdout",
          "text": [
            "51\n"
          ]
        }
      ]
    },
    {
      "cell_type": "code",
      "source": [
        "keys = list(source2chunks.keys())\n",
        "for i, source in enumerate( keys):\n",
        "    print(i, source, len(source2chunks[source]))"
      ],
      "metadata": {
        "id": "peheeX56QY4h"
      },
      "execution_count": null,
      "outputs": []
    },
    {
      "cell_type": "code",
      "source": [
        "for i in range(0, 500, 50):\n",
        "    print( source2chunks[\"大染坊\"][i][\"seg_id\"], end = \" \" )"
      ],
      "metadata": {
        "colab": {
          "base_uri": "https://localhost:8080/"
        },
        "id": "xjdBpokf2-zX",
        "outputId": "87a1b908-378d-4905-ed61-e816e776f00b"
      },
      "execution_count": null,
      "outputs": [
        {
          "output_type": "stream",
          "name": "stdout",
          "text": [
            "0 50 100 150 200 250 300 350 400 450 "
          ]
        }
      ]
    },
    {
      "cell_type": "code",
      "source": [
        "%cd /content\n",
        "!rm -rf /content/Zero-Haruhi\n",
        "!git clone https://github.com/LC1332/Zero-Haruhi\n",
        "%cd /content/Zero-Haruhi"
      ],
      "metadata": {
        "colab": {
          "base_uri": "https://localhost:8080/"
        },
        "id": "o3hTbt0Y3bar",
        "outputId": "161aa123-d83b-4a19-dc22-b003f426bc08"
      },
      "execution_count": null,
      "outputs": [
        {
          "output_type": "stream",
          "name": "stdout",
          "text": [
            "/content\n",
            "Cloning into 'Zero-Haruhi'...\n",
            "remote: Enumerating objects: 435, done.\u001b[K\n",
            "remote: Counting objects: 100% (33/33), done.\u001b[K\n",
            "remote: Compressing objects: 100% (20/20), done.\u001b[K\n",
            "remote: Total 435 (delta 18), reused 23 (delta 13), pack-reused 402\u001b[K\n",
            "Receiving objects: 100% (435/435), 2.92 MiB | 19.43 MiB/s, done.\n",
            "Resolving deltas: 100% (290/290), done.\n",
            "/content/Zero-Haruhi\n"
          ]
        }
      ]
    },
    {
      "cell_type": "code",
      "source": [
        "print( source2chunks[\"大染坊\"][i].keys() )"
      ],
      "metadata": {
        "colab": {
          "base_uri": "https://localhost:8080/"
        },
        "id": "W1fthew_4WTL",
        "outputId": "8f51a8bc-e450-4129-bd47-795e7f33568c"
      },
      "execution_count": null,
      "outputs": [
        {
          "output_type": "stream",
          "name": "stdout",
          "text": [
            "dict_keys(['text', 'id', 'model_response', 'source', 'seg_id'])\n"
          ]
        }
      ]
    },
    {
      "cell_type": "markdown",
      "source": [
        "进行拼接"
      ],
      "metadata": {
        "id": "EZkp-cKm47aQ"
      }
    },
    {
      "cell_type": "code",
      "source": [
        "from ChatHaruhi.novel_extract import extract_speaker, replace_recalled_dialogue\n",
        "\n",
        "source2book = {}\n",
        "\n",
        "from tqdm import tqdm\n",
        "\n",
        "for source in source2chunks.keys():\n",
        "    chunks = source2chunks[source]\n",
        "\n",
        "    new_book = \"\"\n",
        "\n",
        "    for chunk in tqdm(chunks):\n",
        "        text = chunk[\"text\"]\n",
        "        response = chunk[\"model_response\"]\n",
        "        response = replace_recalled_dialogue(text, response)\n",
        "\n",
        "        new_book = new_book + response + \"\\n\"\n",
        "\n",
        "    source2book[source] = new_book.strip()\n"
      ],
      "metadata": {
        "colab": {
          "base_uri": "https://localhost:8080/"
        },
        "id": "CD-bVvAs3tRo",
        "outputId": "a274dc75-25e4-4088-cee3-ecf011a9916a"
      },
      "execution_count": null,
      "outputs": [
        {
          "output_type": "stream",
          "name": "stderr",
          "text": [
            "100%|██████████| 5923/5923 [00:20<00:00, 292.98it/s]\n",
            "100%|██████████| 6121/6121 [00:14<00:00, 436.46it/s]\n",
            "100%|██████████| 1136/1136 [00:01<00:00, 644.20it/s]\n",
            "100%|██████████| 4280/4280 [00:07<00:00, 569.33it/s]\n",
            "100%|██████████| 1131/1131 [00:02<00:00, 419.79it/s]\n",
            "100%|██████████| 1184/1184 [00:01<00:00, 747.58it/s]\n",
            "100%|██████████| 229/229 [00:00<00:00, 733.07it/s]\n",
            "100%|██████████| 396/396 [00:00<00:00, 503.80it/s]\n",
            "100%|██████████| 192/192 [00:00<00:00, 297.91it/s]\n",
            "100%|██████████| 4724/4724 [00:08<00:00, 570.63it/s]\n",
            "100%|██████████| 2354/2354 [00:04<00:00, 481.46it/s]\n",
            "100%|██████████| 1241/1241 [00:01<00:00, 629.94it/s]\n",
            "100%|██████████| 1338/1338 [00:01<00:00, 899.85it/s]\n",
            "100%|██████████| 213/213 [00:00<00:00, 447.49it/s]\n",
            "100%|██████████| 1153/1153 [00:01<00:00, 892.85it/s]\n",
            "100%|██████████| 5213/5213 [00:09<00:00, 572.67it/s]\n",
            "100%|██████████| 3297/3297 [00:04<00:00, 764.79it/s]\n",
            "100%|██████████| 1728/1728 [00:02<00:00, 625.88it/s]\n",
            "100%|██████████| 8413/8413 [00:18<00:00, 453.49it/s]\n",
            "100%|██████████| 266/266 [00:00<00:00, 872.25it/s]\n",
            "100%|██████████| 783/783 [00:00<00:00, 1238.96it/s]\n",
            "100%|██████████| 2861/2861 [00:06<00:00, 432.03it/s]\n",
            "100%|██████████| 1112/1112 [00:02<00:00, 485.29it/s]\n",
            "100%|██████████| 8324/8324 [00:26<00:00, 309.02it/s]\n",
            "100%|██████████| 881/881 [00:03<00:00, 257.11it/s]\n",
            "100%|██████████| 824/824 [00:02<00:00, 348.59it/s]\n",
            "100%|██████████| 8386/8386 [00:28<00:00, 299.10it/s]\n",
            "100%|██████████| 11562/11562 [00:33<00:00, 349.86it/s]\n",
            "100%|██████████| 167/167 [00:00<00:00, 513.05it/s]\n",
            "100%|██████████| 2271/2271 [00:03<00:00, 619.56it/s]\n",
            "100%|██████████| 136/136 [00:00<00:00, 590.59it/s]\n",
            "100%|██████████| 255/255 [00:00<00:00, 551.39it/s]\n",
            "100%|██████████| 768/768 [00:00<00:00, 1170.20it/s]\n",
            "100%|██████████| 749/749 [00:01<00:00, 671.61it/s]\n",
            "100%|██████████| 2059/2059 [00:06<00:00, 315.58it/s]\n",
            "100%|██████████| 1114/1114 [00:01<00:00, 637.07it/s]\n",
            "100%|██████████| 617/617 [00:00<00:00, 979.66it/s] \n",
            "100%|██████████| 5241/5241 [00:10<00:00, 500.02it/s]\n",
            "100%|██████████| 1621/1621 [00:01<00:00, 928.76it/s]\n",
            "100%|██████████| 1703/1703 [00:02<00:00, 584.13it/s]\n",
            "100%|██████████| 379/379 [00:00<00:00, 525.03it/s]\n",
            "100%|██████████| 358/358 [00:00<00:00, 696.10it/s]\n",
            "100%|██████████| 731/731 [00:01<00:00, 722.97it/s]\n",
            "100%|██████████| 548/548 [00:00<00:00, 595.55it/s]\n",
            "100%|██████████| 4271/4271 [00:07<00:00, 539.33it/s]\n",
            "100%|██████████| 139/139 [00:00<00:00, 524.73it/s]\n",
            "100%|██████████| 564/564 [00:01<00:00, 495.42it/s]\n",
            "100%|██████████| 425/425 [00:01<00:00, 397.51it/s]\n",
            "100%|██████████| 993/993 [00:01<00:00, 660.06it/s]\n",
            "100%|██████████| 827/827 [00:01<00:00, 643.64it/s]\n",
            "100%|██████████| 7796/7796 [00:25<00:00, 310.22it/s]\n"
          ]
        }
      ]
    },
    {
      "cell_type": "markdown",
      "source": [
        "说话人提取"
      ],
      "metadata": {
        "id": "HH_ufIrT4_36"
      }
    },
    {
      "cell_type": "code",
      "source": [
        "avoid_speakers = ['无',\"“我”\",\"未知\",\"主人公\",\"我\",\"你\",\"作家\",\"众人\",\"他\",\"我们\"]\n",
        "narrators = [\"叙述者\", \"旁白\",\"文章作者\",\"作者\"]"
      ],
      "metadata": {
        "id": "OBzMoEQo9IBo"
      },
      "execution_count": null,
      "outputs": []
    },
    {
      "cell_type": "code",
      "source": [
        "source2dialogue_list = {}\n",
        "\n",
        "source2speakers = {}\n",
        "\n",
        "from tqdm import tqdm\n",
        "\n",
        "for source in tqdm(source2book.keys()):\n",
        "    book = source2book[source]\n",
        "\n",
        "    new_list = []\n",
        "\n",
        "    lines = book.split(\"\\n\")\n",
        "\n",
        "    last_speaker = \"NOT_EXISTED_SPEAKER\"\n",
        "\n",
        "    counter = {}\n",
        "\n",
        "    for line in lines:\n",
        "        if line.strip() == \"\":\n",
        "            continue\n",
        "        speaker, dialogue = extract_speaker(line)\n",
        "\n",
        "        if speaker is not None and speaker == last_speaker:\n",
        "            last_dialogue = new_list[-1][1]\n",
        "            new_dialogue = last_dialogue + \"\\n\" + dialogue\n",
        "            new_list[-1] = (speaker, new_dialogue.strip() )\n",
        "        else:\n",
        "            new_list.append( (speaker, dialogue) )\n",
        "\n",
        "        # TODO 这里做个额外的屏蔽统计\n",
        "        if speaker is not None and speaker not in avoid_speakers:\n",
        "            if speaker not in counter:\n",
        "                counter[speaker] = 0\n",
        "            counter[speaker] += 1\n",
        "\n",
        "        last_speaker = speaker\n",
        "\n",
        "    # 根据出现次数对speaker进行排序并提取前15位\n",
        "    top10_speakers = sorted(counter.items(), key=lambda item: item[1], reverse=True)[:10]\n",
        "\n",
        "\n",
        "    source2dialogue_list[ source ] = new_list\n",
        "    source2speakers[ source ] = top10_speakers\n",
        "\n"
      ],
      "metadata": {
        "id": "y1c8b_2U3V0c",
        "colab": {
          "base_uri": "https://localhost:8080/"
        },
        "outputId": "6fdca8d8-03e0-4858-fb82-57efb51a8950"
      },
      "execution_count": null,
      "outputs": [
        {
          "output_type": "stream",
          "name": "stderr",
          "text": [
            "100%|██████████| 51/51 [00:05<00:00,  9.50it/s]\n"
          ]
        }
      ]
    },
    {
      "cell_type": "code",
      "source": [
        "keys = list(source2speakers.keys())\n",
        "import random\n",
        "random.shuffle( keys )\n",
        "for key in keys[:10]:\n",
        "    xs = [x[0] for x in source2speakers[key]]\n",
        "    print(key, xs)"
      ],
      "metadata": {
        "colab": {
          "base_uri": "https://localhost:8080/"
        },
        "id": "8Gpt2eNORDHI",
        "outputId": "1fcfc541-e4b9-4f57-89c8-a7739853e925"
      },
      "execution_count": null,
      "outputs": [
        {
          "output_type": "stream",
          "name": "stdout",
          "text": [
            "冰与火之歌05魔龙的狂舞 ['提利昂', '琼恩', '丹妮', '叙述者', '巴利斯坦爵士', '席恩', '阿莎', '昆廷', '戴佛斯', '布兰']\n",
            "狼图腾 ['陈阵', '杨克', '叙述者', '老人', '张继原', '小狼', '包顺贵', '巴图', '乌力吉', '毕利格老人']\n",
            "凤囚凰 ['楚玉', '容止', '桓远', '天如镜', '王意之', '叙述者', '花错', '观沧海', '刘子业', '越捷飞']\n",
            "明朝那些事儿 ['叙述者', '朱棣', '朱元璋', '王守仁', '旁白', '作者', '徐阶', '戚继光', '胡宗宪', '崇祯']\n",
            "娘要嫁人 ['齐之芳', '肖虎', '戴世亮', '李茂才', '王方', '齐之君', '齐母', '王红', '王东', '孙燕']\n",
            "超级兵王 ['郭璞', '叙述者', '李长安', '宋家明', '卓不凡', '一号首长', '旁白', '米兰', '千叶子', '王思睿']\n",
            "全职高手 ['叶修', '叙述者', '陈果', '旁白', '魏琛', '唐柔', '黄少天', '蓝河', '方锐', '潘林']\n",
            "斗罗大陆Ⅱ绝世唐门 ['霍雨浩', '叙述者', '贝贝', '旁白', '橘子', '玄老', '王冬', '徐三石', '王冬儿', '王秋儿']\n",
            "金粉世家 ['燕西', '清秋', '金太太', '凤举', '玉芬', '佩芳', '梅丽', '鹏振', '叙述者', '秀珠']\n",
            "庆余年 ['范闲', '叙述者', '皇帝', '陈萍萍', '海棠', '林婉儿', '言冰云', '范若若', '五竹', '范建']\n"
          ]
        }
      ]
    },
    {
      "cell_type": "code",
      "source": [
        "from transformers import AutoTokenizer\n",
        "\n",
        "model_name = 'silk-road/Haruhi-Zero-7B-0_3'\n",
        "\n",
        "tokenizer = AutoTokenizer.from_pretrained(model_name, trust_remote_code=True)"
      ],
      "metadata": {
        "id": "RczaJspw9EKb",
        "colab": {
          "base_uri": "https://localhost:8080/",
          "height": 331,
          "referenced_widgets": [
            "e552d988afda4986bf3e45c2a488efbb",
            "ed0b412576c446ec94f09f2348744c9f",
            "8a107d97419645609e6b278490c7ccdd",
            "dae88fd547e04eab9dd92ef74b7163ea",
            "8fe83fd3a22747aba3be20db4fa7be68",
            "7cca13e906684c8788dc5eed3c5a7c0a",
            "00f702b8911c4f6e9de4b8f3c87feebc",
            "45a26e1382044c14bb9c1d3397871f15",
            "70d9918fb59f4969843459a492235965",
            "8231de3c1452487682b9425f87048689",
            "98d60e1a8ea243628931c6ee19a2d7ba",
            "157527cfd9e844d2958eced2d3564238",
            "7bfbdba34bbb428d8c6bfe30cf3acc59",
            "f4ffd2f190fd487796a91201b0791d4f",
            "7be506641b1c4fb48502509545b7c1d5",
            "12b53b343fed4426a8198ddc9b196336",
            "fbaf88760e1440d0ad29f59fe8098e3c",
            "21001bd986d94c46bd7034b7dc97cbd8",
            "37388697f063465cbb6bbafb721610fa",
            "4f35190bd33143d69743c012c432a0ca",
            "078cbe4831a242cbb6154ee06a57f78c",
            "e01f48e30f81489b941804bdfcfb5728",
            "a2963675903f4b338aac4adeefcdda1b",
            "01f00ea3b07148e899224e6ec5dac90e",
            "73546e5b3ed24a92ba798254c296e4de",
            "1157a52c7c8244d2b067af907b72b421",
            "3c0eaeb4d2cf4b42a4db60e5ef021e82",
            "1db43cce9f7a4be691eea056bec58baa",
            "b55fc074a0b24cfdb91587358845fe02",
            "e8c05e9295154b5b9b51918d87bc159f",
            "774323a19cbb4950a8fb4d90e963a866",
            "ac9faad2719947f7b621e47b9ea9bccb",
            "894a640c21a54015bd4df1d7f468f080",
            "d5fcc95a8fe54297930d51ea1d6ea2c9",
            "d3faeecac3f240f3be7b70baecee4fbb",
            "2a82f0257a4e48d7b28566884effee09",
            "01d2d83b49f14581b09f6e354dbb1cb5",
            "47aa25e37d31413492177b96afb70294",
            "2912d09fc944446b947167a8479cd6a0",
            "b6f52e8959cc4687aaf56bd4e7c15d4c",
            "21a67a7b662246eabb9cd765bc71722e",
            "37a21e521a3a483a9c1da1d131e4dcb7",
            "04f623088a914b17a57ef96b79854c85",
            "7e45ffe45dcc4e6a9c41ea05f4ae3063"
          ]
        },
        "outputId": "eb6a053a-e0bd-423d-eaa5-ebe996da85a5"
      },
      "execution_count": null,
      "outputs": [
        {
          "output_type": "display_data",
          "data": {
            "text/plain": [
              "tokenizer_config.json:   0%|          | 0.00/363 [00:00<?, ?B/s]"
            ],
            "application/vnd.jupyter.widget-view+json": {
              "version_major": 2,
              "version_minor": 0,
              "model_id": "e552d988afda4986bf3e45c2a488efbb"
            }
          },
          "metadata": {}
        },
        {
          "output_type": "display_data",
          "data": {
            "text/plain": [
              "tokenization_qwen.py:   0%|          | 0.00/9.62k [00:00<?, ?B/s]"
            ],
            "application/vnd.jupyter.widget-view+json": {
              "version_major": 2,
              "version_minor": 0,
              "model_id": "157527cfd9e844d2958eced2d3564238"
            }
          },
          "metadata": {}
        },
        {
          "output_type": "stream",
          "name": "stderr",
          "text": [
            "A new version of the following files was downloaded from https://huggingface.co/silk-road/Haruhi-Zero-7B-0_3:\n",
            "- tokenization_qwen.py\n",
            ". Make sure to double-check they do not contain any added malicious code. To avoid downloading new versions of the code file, you can pin a revision.\n"
          ]
        },
        {
          "output_type": "display_data",
          "data": {
            "text/plain": [
              "qwen.tiktoken:   0%|          | 0.00/2.56M [00:00<?, ?B/s]"
            ],
            "application/vnd.jupyter.widget-view+json": {
              "version_major": 2,
              "version_minor": 0,
              "model_id": "a2963675903f4b338aac4adeefcdda1b"
            }
          },
          "metadata": {}
        },
        {
          "output_type": "display_data",
          "data": {
            "text/plain": [
              "special_tokens_map.json:   0%|          | 0.00/64.0 [00:00<?, ?B/s]"
            ],
            "application/vnd.jupyter.widget-view+json": {
              "version_major": 2,
              "version_minor": 0,
              "model_id": "d5fcc95a8fe54297930d51ea1d6ea2c9"
            }
          },
          "metadata": {}
        }
      ]
    },
    {
      "cell_type": "code",
      "source": [
        "def calculate_tokenized_length(text):\n",
        "    if text == None:\n",
        "        return 0\n",
        "    tokens = tokenizer.encode(text)\n",
        "    return len(tokens)"
      ],
      "metadata": {
        "id": "I3p7gXnX9jao"
      },
      "execution_count": null,
      "outputs": []
    },
    {
      "cell_type": "code",
      "source": [
        "MAX_TOKEN_PER_MEMEORY = 500\n",
        "\n",
        "source2memory_lists = {}\n",
        "\n",
        "import copy\n",
        "\n",
        "for source in tqdm(source2book.keys()):\n",
        "    speakers = source2speakers[source]\n",
        "    speakers = [x[0] for x in speakers]\n",
        "    dialogue_list = source2dialogue_list[ source ]\n",
        "\n",
        "    dialogue_token_len = [ calculate_tokenized_length(x[1]) for x in dialogue_list ]\n",
        "\n",
        "    speaker2memory_lists = {}\n",
        "\n",
        "\n",
        "    for target_speaker in speakers:\n",
        "        lids = []\n",
        "\n",
        "        for i, dialogue in enumerate( dialogue_list ):\n",
        "            speaker = dialogue[0]\n",
        "            if speaker is not None and target_speaker in speaker:\n",
        "                lids.append(i)\n",
        "\n",
        "        minimal_token_consider = [] # 每个lids和lids前面一句话的token之和\n",
        "        maximal_token_consider = [] # 每个lids到前一个lids的token之和\n",
        "\n",
        "        reverse_lids = lids[::-1]\n",
        "\n",
        "        for i in range(len(reverse_lids)):\n",
        "            current_lid = reverse_lids[i]\n",
        "            last_lids = reverse_lids[i+1] if i+1 < len(reverse_lids) else 0\n",
        "\n",
        "            last_lids_next_line = last_lids + 1\n",
        "\n",
        "            current_token_len = dialogue_token_len[current_lid]\n",
        "            last_token_len = dialogue_token_len[current_lid-1] if current_lid > 0 else 0\n",
        "\n",
        "            minimal_token_consider.append( current_token_len + last_token_len )\n",
        "            maximal_token_consider.append( sum( dialogue_token_len[last_lids_next_line:current_lid+1] ) )\n",
        "\n",
        "        saved_memory_lists = []\n",
        "\n",
        "        current_memory_token_len = 0\n",
        "        current_memory_list = []\n",
        "        for i in range(len(reverse_lids)):\n",
        "            maximal_token = maximal_token_consider[i]\n",
        "            minimal_token = minimal_token_consider[i]\n",
        "\n",
        "            current_lid = reverse_lids[i]\n",
        "            last_line = current_lid - 1 if current_lid > 0 else None\n",
        "            last_lid = reverse_lids[i+1] if i+1 < len(reverse_lids) else 0\n",
        "\n",
        "            if maximal_token + current_memory_token_len <= MAX_TOKEN_PER_MEMEORY:\n",
        "                for j in range(reverse_lids[i], last_lid,-1):\n",
        "                    current_memory_list.append(j)\n",
        "                    current_memory_token_len += dialogue_token_len[j]\n",
        "                continue\n",
        "\n",
        "            if len(current_memory_list) > 0 and  current_memory_token_len + minimal_token > MAX_TOKEN_PER_MEMEORY:\n",
        "                current_memory_list.reverse()\n",
        "                save_memory = copy.deepcopy(current_memory_list)\n",
        "                saved_memory_lists.append( save_memory )\n",
        "                current_memory_list = []\n",
        "                current_memory_token_len = 0\n",
        "\n",
        "            if maximal_token > MAX_TOKEN_PER_MEMEORY:\n",
        "                # 直接切行\n",
        "                special_token_count = 0\n",
        "\n",
        "                save_memory = []\n",
        "                if last_line:\n",
        "                    special_token_count += dialogue_token_len[last_line]\n",
        "                    save_memory.append( last_line )\n",
        "\n",
        "                new_text = \"\"\n",
        "                speaker = dialogue_list[current_lid][0]\n",
        "                lines = dialogue_list[current_lid][1].split(\"\\n\")\n",
        "                for line in lines:\n",
        "                    special_token_count += calculate_tokenized_length(line)\n",
        "                    if special_token_count < MAX_TOKEN_PER_MEMEORY:\n",
        "                        new_text += line + \"\\n\"\n",
        "                    else:\n",
        "                        break\n",
        "\n",
        "                dialogue_list[current_lid] = (speaker, new_text.strip())\n",
        "                save_memory.append(current_lid)\n",
        "\n",
        "                saved_memory_lists.append( save_memory )\n",
        "                continue\n",
        "\n",
        "            # 否则则说明 current_memory_token_len + minimal_token < MAX_TOKEN_PER_MEMEORY < maximal_token + current_memory_token_len\n",
        "\n",
        "            for j in range(reverse_lids[i], last_lid,-1):\n",
        "                current_memory_token_len += dialogue_token_len[j]\n",
        "                if current_memory_token_len > MAX_TOKEN_PER_MEMEORY:\n",
        "                    break\n",
        "                else:\n",
        "                    current_memory_list.append(j)\n",
        "\n",
        "            current_memory_list.reverse()\n",
        "            save_memory = copy.deepcopy(current_memory_list)\n",
        "            saved_memory_lists.append( save_memory )\n",
        "            current_memory_list = []\n",
        "            current_memory_token_len = 0\n",
        "\n",
        "        if len(current_memory_list) > 0:\n",
        "            current_memory_list.reverse()\n",
        "            save_memory = copy.deepcopy(current_memory_list)\n",
        "            saved_memory_lists.append( save_memory )\n",
        "\n",
        "        memory_lists = []\n",
        "\n",
        "        for memory_list_id in saved_memory_lists:\n",
        "            memory_list = []\n",
        "            for lid in memory_list_id:\n",
        "                memory_list.append(dialogue_list[lid])\n",
        "            memory_lists.append(memory_list)\n",
        "\n",
        "\n",
        "\n",
        "        speaker2memory_lists[target_speaker] = memory_lists\n",
        "\n",
        "    source2memory_lists[source] = speaker2memory_lists"
      ],
      "metadata": {
        "id": "WNnezdXS87eh",
        "colab": {
          "base_uri": "https://localhost:8080/"
        },
        "outputId": "2e28493a-7ed4-4680-d289-3101cf57d7da"
      },
      "execution_count": null,
      "outputs": [
        {
          "output_type": "stream",
          "name": "stderr",
          "text": [
            "100%|██████████| 51/51 [02:26<00:00,  2.88s/it]\n"
          ]
        }
      ]
    },
    {
      "cell_type": "code",
      "source": [
        "print(memory_list_id)\n"
      ],
      "metadata": {
        "colab": {
          "base_uri": "https://localhost:8080/"
        },
        "id": "eFywJqGxXSwu",
        "outputId": "7e0c4bbb-3214-4114-af3b-96110c255c96"
      },
      "execution_count": null,
      "outputs": [
        {
          "output_type": "stream",
          "name": "stdout",
          "text": [
            "[73, 74, 75, 76, 77]\n"
          ]
        }
      ]
    },
    {
      "cell_type": "code",
      "source": [
        "def memory_list2text( memory_list ):\n",
        "    line_set = set()\n",
        "    new_text = \"\"\n",
        "    for mem in memory_list:\n",
        "        spk = mem[0]\n",
        "        text = mem[1]\n",
        "        if spk is None:\n",
        "            newline = text + \"\\n\"\n",
        "            # new_text += text + \"\\n\"\n",
        "        else:\n",
        "            # new_text += f\"{spk}: {text}\\n\"\n",
        "            newline = f\"{spk}: {text}\\n\"\n",
        "\n",
        "        newline = newline.replace(\"*说*\",\"\")\n",
        "        if newline not in line_set:\n",
        "            new_text += newline\n",
        "            line_set.add(newline)\n",
        "    return new_text.strip()\n",
        "\n",
        "def memory_list2conversations( memory_list , target_speaker ):\n",
        "\n",
        "    line_set = set()\n",
        "\n",
        "    conversations = []\n",
        "\n",
        "    current_value = \"\"\n",
        "\n",
        "    for mem in memory_list:\n",
        "        spk = mem[0]\n",
        "        text = mem[1]\n",
        "\n",
        "        if text in line_set:\n",
        "            continue\n",
        "        line_set.add(text)\n",
        "\n",
        "        if spk is not None and target_speaker == spk.strip() and calculate_tokenized_length(text) >= 8:\n",
        "            conversations.append({\"from\" : \"human\" , \"value\":current_value.strip()})\n",
        "            conversations.append({\"from\" : \"gpt\" , \"value\":text.strip()})\n",
        "            current_value = \"\"\n",
        "            continue\n",
        "\n",
        "        if spk is None:\n",
        "            current_value += text + \"\\n\"\n",
        "        else:\n",
        "            current_value += f\"{spk}: {text}\\n\"\n",
        "\n",
        "    for conv in conversations:\n",
        "        conv[\"value\"] = conv[\"value\"].replace(\"*说*\",\"\")\n",
        "\n",
        "    while len(conversations) > 0 and conversations[-1][\"from\"] == \"human\":\n",
        "        del conversations[-1]\n",
        "        if len(conversations) == 0:\n",
        "            return []\n",
        "\n",
        "    return conversations"
      ],
      "metadata": {
        "id": "ka7B7wROFnXz"
      },
      "execution_count": null,
      "outputs": []
    },
    {
      "cell_type": "code",
      "source": [
        "for speaker in speaker2memory_lists:\n",
        "    print(speaker, \" \", len(speaker2memory_lists[speaker]))"
      ],
      "metadata": {
        "colab": {
          "base_uri": "https://localhost:8080/"
        },
        "id": "fSJwP-0nMlvB",
        "outputId": "ddae240b-e93e-4359-d34a-30b7c3c45bc0"
      },
      "execution_count": null,
      "outputs": [
        {
          "output_type": "stream",
          "name": "stdout",
          "text": [
            "顾慎为   3910\n",
            "上官如   845\n",
            "上官飞   728\n",
            "木老头   656\n",
            "叙述者   599\n",
            "荷女   618\n",
            "龙王   728\n",
            "韩芬   346\n",
            "方闻是   308\n",
            "罗宁茶   234\n"
          ]
        }
      ]
    },
    {
      "cell_type": "code",
      "source": [
        "from ChatHaruhi.embeddings import get_general_embeddings_safe"
      ],
      "metadata": {
        "id": "U43QSTycH7yw"
      },
      "execution_count": null,
      "outputs": []
    },
    {
      "cell_type": "code",
      "source": [
        "def package_persona( role_name, world_name ):\n",
        "    return f\"\"\"I want you to act like {role_name} from {world_name}.\n",
        "If others‘ questions are related with the novel, please try to reuse the original lines from the novel.\n",
        "I want you to respond and answer like {role_name} using the tone, manner and vocabulary {role_name} would use.\"\"\"\n",
        "\n",
        "def package_persona_for_narrator( role_name, world_name ):\n",
        "    return f\"\"\"I want you to act like narrator {role_name} from {world_name}.\n",
        "当角色行动之后，继续交代和推进新的剧情.\"\"\"\n",
        "\n",
        "def package_system_prompt( persona, role_name ):\n",
        "    return f\"\"\"You are now in roleplay conversation mode. Pretend to be {role_name} whose persona follows:\n",
        "{persona}\n",
        "\n",
        "You will stay in-character whenever possible, and generate responses as if you were {role_name}\"\"\""
      ],
      "metadata": {
        "id": "MlYAiwAGHJ9l"
      },
      "execution_count": null,
      "outputs": []
    },
    {
      "cell_type": "code",
      "source": [
        "from typing import List\n",
        "import numpy as np\n",
        "\n",
        "def normalize_vecs(vecs: List[List[float]]) -> List[List[float]]:\n",
        "    \"\"\"Normalize a list of vectors.\"\"\"\n",
        "    normalized_vecs = []\n",
        "    for vec in vecs:\n",
        "        norm = np.linalg.norm(vec)\n",
        "        if norm > 0:\n",
        "            normalized_vecs.append((np.array(vec) / norm).tolist())\n",
        "        else:\n",
        "            normalized_vecs.append(vec)  # Handle zero vectors if any\n",
        "    return normalized_vecs\n",
        "\n",
        "\n",
        "# Since vecs are normalized, we can simplify the cosine similarity function for use in nn_search\n",
        "def nn_search_normalized(query_vec: List[float], avoid_ids: List[int], vecs: List[List[float]]) -> int:\n",
        "    \"\"\"Find the index of the vector in normalized vecs that is most similar to query_vec, excluding the vector at avoid_id.\"\"\"\n",
        "    # query_vec_normalized = np.array(query_vec) / np.linalg.norm(query_vec)  # Normalize query_vec\n",
        "    similarities = [np.dot(query_vec, vec) if idx not in avoid_ids else -np.inf for idx, vec in enumerate(vecs)]\n",
        "    return np.argmax(similarities)\n"
      ],
      "metadata": {
        "id": "d29vL_AGKoMs"
      },
      "execution_count": null,
      "outputs": []
    },
    {
      "cell_type": "code",
      "source": [
        "import os\n",
        "import json\n",
        "import random\n",
        "def sample_and_save( save_datas, save_name ,sample_n=50, save_folder = \"/content/drive/MyDrive/CardBuild/HaruhiZero\"):\n",
        "    file_name = os.path.join( save_folder, save_name + \".jsonl\" )\n",
        "    with open( file_name, \"w\", encoding=\"utf-8\" ) as f:\n",
        "        for data in save_datas:\n",
        "            f.write( json.dumps( data, ensure_ascii=False ) + \"\\n\" )\n",
        "\n",
        "    sample_name = os.path.join( \"/content/\", save_name + \"_sample.jsonl\" )\n",
        "    with open( sample_name, \"w\", encoding=\"utf-8\" ) as f:\n",
        "        random_50 = random. sample( save_datas, sample_n )\n",
        "        for data in random_50:\n",
        "            f.write( json.dumps( data, ensure_ascii=False ) + \"\\n\" )"
      ],
      "metadata": {
        "id": "6sqymvFeanST"
      },
      "execution_count": null,
      "outputs": []
    },
    {
      "cell_type": "code",
      "source": [
        "from IPython.display import clear_output\n",
        "\n",
        "from tqdm import tqdm\n",
        "\n",
        "import random\n",
        "\n",
        "dsp_count = 0\n",
        "\n",
        "save_datas = []\n",
        "\n",
        "current_part_id = 0\n",
        "\n",
        "save_name = \"novel_50_to_conversation\"\n",
        "book_count = 0\n",
        "\n",
        "for source in source2book.keys():\n",
        "    speaker2memory_lists = source2memory_lists[source]\n",
        "\n",
        "    clear_output()\n",
        "\n",
        "    print(\"处理 \", source, \"第\", book_count, \"本\")\n",
        "    book_count += 1\n",
        "\n",
        "    print(\"当前数据量 \", len(save_datas))\n",
        "\n",
        "    for speaker in speaker2memory_lists:\n",
        "        memory_lists = speaker2memory_lists[speaker]\n",
        "\n",
        "        rag_texts = [memory_list2text(mem) for mem in memory_lists]\n",
        "        convs = [memory_list2conversations(mem, speaker) for mem in memory_lists]\n",
        "\n",
        "        if speaker in narrators:\n",
        "            persona_head = package_persona_for_narrator( speaker, source ) + \"\\nClassic scenes for the role are as follows:\\n\"\n",
        "        else:\n",
        "            persona_head = package_persona( speaker, source ) + \"\\nClassic scenes for the role are as follows:\\n\"\n",
        "\n",
        "        model_name = \"BAAI/bge-small-zh-v1.5\"\n",
        "\n",
        "        if len(rag_texts) < 600:\n",
        "            vecs = get_general_embeddings_safe( rag_texts, model_name = model_name )\n",
        "\n",
        "            # Normalize the example vecs\n",
        "            normalized_vecs = normalize_vecs(vecs)\n",
        "        else:\n",
        "            vecs = [[] for _ in range(len(rag_texts))]\n",
        "            normalized_vecs = [[] for _ in range(len(rag_texts))]\n",
        "\n",
        "        personas = [ persona_head ] * len(rag_texts)\n",
        "\n",
        "        n = len(rag_texts)\n",
        "\n",
        "        for rag_index in range(2):\n",
        "            deal_index = [i for i in range(n)]\n",
        "            random.shuffle(deal_index)\n",
        "\n",
        "            current_used_ids = []\n",
        "\n",
        "            if len(deal_index) < 600:\n",
        "                for i in tqdm(deal_index):\n",
        "                    if len(convs[i]) == 0:\n",
        "                        continue\n",
        "\n",
        "                    top1 = nn_search_normalized( normalized_vecs[i] , current_used_ids + [i] , normalized_vecs )\n",
        "                    current_used_ids.append(top1)\n",
        "\n",
        "                    personas[i] += f\"###\\n{rag_texts[top1]}\\n\"\n",
        "            else:\n",
        "                match_index = [i for i in range(n)]\n",
        "                random.shuffle(match_index)\n",
        "                for i in tqdm(deal_index):\n",
        "                    if len(convs[i]) == 0:\n",
        "                        continue\n",
        "\n",
        "                    top1 = match_index[i]\n",
        "                    current_used_ids.append(top1)\n",
        "\n",
        "                    personas[i] += f\"###\\n{rag_texts[top1]}\\n\"\n",
        "\n",
        "\n",
        "        source_str = f\"{source}_{speaker}\"\n",
        "        for i in range(n):\n",
        "\n",
        "            if len(convs[i]) == 0:\n",
        "                continue\n",
        "\n",
        "            system_prompt = package_system_prompt( personas[i], speaker )\n",
        "\n",
        "            save_data = {\n",
        "                \"source\":source_str,\n",
        "                \"conversations\":convs[i],\n",
        "                \"system\":system_prompt\n",
        "            }\n",
        "\n",
        "            save_datas.append(save_data)\n",
        "\n",
        "    if len(save_datas) >= 100000:\n",
        "        save_name = \"novel_50_to_conversation_part\" + str(current_part_id)\n",
        "        current_part_id += 1\n",
        "        sample_and_save( save_datas, save_name , sample_n = 50)\n",
        "        del save_datas\n",
        "        save_datas = []\n",
        "\n"
      ],
      "metadata": {
        "id": "_T-OoZglGXyT",
        "colab": {
          "base_uri": "https://localhost:8080/"
        },
        "outputId": "a9f25c9b-bbd2-4b1c-e6cc-b2978fe16cd7"
      },
      "execution_count": null,
      "outputs": [
        {
          "output_type": "stream",
          "name": "stdout",
          "text": [
            "处理  超级兵王 第 50 本\n",
            "当前数据量  31534\n"
          ]
        },
        {
          "output_type": "stream",
          "name": "stderr",
          "text": [
            "100%|██████████| 5878/5878 [00:00<00:00, 412159.07it/s]\n",
            "100%|██████████| 5878/5878 [00:00<00:00, 430933.19it/s]\n",
            "100%|██████████| 941/941 [00:00<00:00, 419341.27it/s]\n",
            "100%|██████████| 941/941 [00:00<00:00, 339337.98it/s]\n",
            "100%|██████████| 683/683 [00:00<00:00, 400378.70it/s]\n",
            "100%|██████████| 683/683 [00:00<00:00, 355776.16it/s]\n",
            "100%|██████████| 25/25 [00:02<00:00, 10.37it/s]\n",
            "100%|██████████| 390/390 [00:09<00:00, 39.24it/s] \n",
            "100%|██████████| 390/390 [00:09<00:00, 43.12it/s]\n",
            "100%|██████████| 22/22 [00:02<00:00,  9.10it/s]\n",
            "100%|██████████| 342/342 [00:06<00:00, 50.34it/s] \n",
            "100%|██████████| 342/342 [00:07<00:00, 44.28it/s]\n",
            "100%|██████████| 18/18 [00:01<00:00, 10.35it/s]\n",
            "100%|██████████| 274/274 [00:04<00:00, 61.14it/s] \n",
            "100%|██████████| 274/274 [00:05<00:00, 54.26it/s]\n",
            "100%|██████████| 14/14 [00:01<00:00, 10.48it/s]\n",
            "100%|██████████| 210/210 [00:02<00:00, 81.48it/s] \n",
            "100%|██████████| 210/210 [00:02<00:00, 81.97it/s] \n",
            "100%|██████████| 16/16 [00:01<00:00, 10.44it/s]\n",
            "100%|██████████| 244/244 [00:04<00:00, 60.53it/s] \n",
            "100%|██████████| 244/244 [00:03<00:00, 69.79it/s] \n",
            "100%|██████████| 11/11 [00:01<00:00,  9.56it/s]\n",
            "100%|██████████| 174/174 [00:01<00:00, 109.97it/s]\n",
            "100%|██████████| 174/174 [00:01<00:00, 103.67it/s]\n",
            "100%|██████████| 15/15 [00:01<00:00,  9.94it/s]\n",
            "100%|██████████| 239/239 [00:03<00:00, 60.36it/s]\n",
            "100%|██████████| 239/239 [00:03<00:00, 73.24it/s] \n"
          ]
        }
      ]
    },
    {
      "cell_type": "code",
      "source": [
        "if len(save_datas) >= 0:\n",
        "    save_name = \"novel_50_to_conversation_part\" + str(current_part_id)\n",
        "    current_part_id += 1\n",
        "    sample_and_save( save_datas, save_name , sample_n = 50)\n",
        "    del save_datas\n",
        "    save_datas = []"
      ],
      "metadata": {
        "id": "5q3oVERObPnm"
      },
      "execution_count": null,
      "outputs": []
    },
    {
      "cell_type": "code",
      "source": [
        "\n",
        "\n",
        "sample_and_save( save_datas, \"novel_50_to_conversation\" , sample_n = 50)"
      ],
      "metadata": {
        "id": "SsuBjN8jWCdZ"
      },
      "execution_count": null,
      "outputs": []
    },
    {
      "cell_type": "code",
      "source": [
        "for data in save_datas:\n",
        "    if len(data[\"conversations\"]) % 2 != 0:\n",
        "        print(data)\n",
        "        break\n",
        "    elif data[\"conversations\"][0][\"from\"] == \"gpt\":\n",
        "        print(data)\n",
        "        break\n",
        "    elif data[\"conversations\"][-1][\"from\"] == \"human\":\n",
        "        print(data)\n",
        "        break"
      ],
      "metadata": {
        "id": "iu2K7pVfMyL1"
      },
      "execution_count": null,
      "outputs": []
    },
    {
      "cell_type": "code",
      "source": [
        "for data in save_datas[]:\n",
        "    print(data[\"source\"])\n",
        "    print(data[\"conversations\"])\n",
        "    print(data[\"system\"])\n",
        "    print()"
      ],
      "metadata": {
        "id": "g9bJPGFtM0Vw"
      },
      "execution_count": null,
      "outputs": []
    },
    {
      "cell_type": "code",
      "source": [
        "\n",
        "\n",
        "\n",
        "\n"
      ],
      "metadata": {
        "colab": {
          "base_uri": "https://localhost:8080/"
        },
        "id": "B_BYlQYsH_KI",
        "outputId": "a99c0d32-3c53-4cbe-aaee-da95bf8c7553"
      },
      "execution_count": null,
      "outputs": [
        {
          "output_type": "stream",
          "name": "stderr",
          "text": [
            "100%|██████████| 33/33 [00:03<00:00,  9.92it/s]\n"
          ]
        }
      ]
    },
    {
      "cell_type": "code",
      "source": [
        "avoid_ids = []\n",
        "\n",
        "n = len(vecs)\n",
        "import random\n",
        "\n",
        "\n",
        "\n",
        "print(deal_index[:4])\n",
        "\n",
        "rag_ids = []\n",
        "\n",
        "current_used_ids = []\n",
        "\n",
        "from tqdm import tqdm\n",
        "for i in tqdm(deal_index):\n",
        "    top1 = nn_search_normalized( normalized_vecs[i] , current_used_ids + [i] , normalized_vecs )\n",
        "    current_used_ids.append(top1)\n",
        "    rag_ids.append(top1)"
      ],
      "metadata": {
        "colab": {
          "base_uri": "https://localhost:8080/"
        },
        "id": "6jEZ4O3RJycS",
        "outputId": "63e0e45a-970c-4acf-86cc-7385a68e2179"
      },
      "execution_count": null,
      "outputs": [
        {
          "output_type": "stream",
          "name": "stdout",
          "text": [
            "[258, 237, 189, 85]\n"
          ]
        },
        {
          "output_type": "stream",
          "name": "stderr",
          "text": [
            "100%|██████████| 514/514 [00:19<00:00, 26.59it/s] \n"
          ]
        }
      ]
    },
    {
      "cell_type": "code",
      "source": [
        "print(rag_ids[:10])"
      ],
      "metadata": {
        "colab": {
          "base_uri": "https://localhost:8080/"
        },
        "id": "2AyShwxqKf-s",
        "outputId": "7d502472-5be2-4a46-d37d-0135a3a5822b"
      },
      "execution_count": null,
      "outputs": [
        {
          "output_type": "stream",
          "name": "stdout",
          "text": [
            "[257, 438, 311, 89, 413, 452, 127, 30, 308, 221]\n"
          ]
        }
      ]
    },
    {
      "cell_type": "markdown",
      "source": [
        "vecs是一个list of list of float， 每个元素是一个embedding向量\n",
        "\n",
        "我希望实现一个 nn_search( query_vec , avoid_id )\n",
        "\n",
        "其中query_vec是一个list of float\n",
        "\n",
        "返回除了avoid_id对应的元素之外，和query_vec在cosine距离上最接近的元素"
      ],
      "metadata": {
        "id": "OZ21cLZxIOom"
      }
    },
    {
      "cell_type": "code",
      "source": [
        "print(vecs[0])"
      ],
      "metadata": {
        "colab": {
          "base_uri": "https://localhost:8080/"
        },
        "id": "jruZmG5XIJOo",
        "outputId": "eaaba37e-a165-4593-95e2-059b34e6e2cc"
      },
      "execution_count": null,
      "outputs": [
        {
          "output_type": "stream",
          "name": "stdout",
          "text": [
            "[0.00857368391007185, 0.024749422445893288, 0.0389234833419323, 0.01729436218738556, -0.04563982039690018, -0.027840416878461838, -0.02191009745001793, 0.0038269469514489174, -0.015359637327492237, 0.03595023602247238, 0.09147959202528, -0.3811834752559662, 0.009313845075666904, -0.018114736303687096, 0.013250540010631084, -0.04310958832502365, 0.0006790618062950671, 0.00469238730147481, 0.03925265744328499, 0.01733214594423771, 0.0264841690659523, -0.031113404780626297, -0.04992251098155975, 0.03794755041599274, 0.029948368668556213, -0.06283234804868698, 0.036146096885204315, -0.03006013296544552, -0.06511688232421875, -0.019239582121372223, 0.008901293389499187, -0.0629120022058487, -0.023375675082206726, -0.040794581174850464, -0.012890283018350601, -0.03488422930240631, -0.03141654655337334, -0.04510388523340225, 0.019871355965733528, -0.019697867333889008, -0.04139396920800209, -0.007770806085318327, -0.04370585456490517, 0.010295907966792583, -0.04054240509867668, 0.030483869835734367, -0.042760949581861496, 0.03631160780787468, 0.02815328724682331, 0.012561493553221226, -0.0495293065905571, 0.05082125961780548, 0.07430296391248703, 0.009986404329538345, -0.003412199905142188, -0.058441027998924255, 0.030238445848226547, 0.03606798127293587, 0.057667337357997894, -0.018009237945079803, -0.0891285166144371, 0.0021389443427324295, -0.07501985877752304, -0.07482998818159103, -0.023534836247563362, -0.0056688436307013035, -0.002367003820836544, 0.06548679620027542, -0.006915309466421604, -0.012514913454651833, -0.06389760971069336, 0.025956789031624794, -0.04127360135316849, -0.02231260947883129, 0.010511345230042934, -0.05991969630122185, -0.06143663078546524, -0.00249322596937418, 0.03139258176088333, -0.008000590838491917, 0.0926939845085144, -0.004106154665350914, -0.06148151680827141, -0.033399797976017, 0.0059248218312859535, -0.035761479288339615, -0.06650328636169434, -0.00015300503582693636, -0.00023068148584570736, -0.017558284103870392, -0.11368028074502945, -0.08883076906204224, 0.030477775260806084, -0.05045558884739876, 0.017651494592428207, -0.006444456987082958, -0.05265224725008011, -0.03487108647823334, -0.018775809556245804, 0.038023293018341064, -0.017507260665297508, 0.024305937811732292, 0.048824604600667953, 0.034409236162900925, -0.011307874694466591, 0.04759964346885681, 0.039326153695583344, -0.06126411631703377, 0.020424144342541695, -0.020490439608693123, -0.00022715391241945326, -0.03145572915673256, 0.011534382589161396, -0.009591151960194111, -0.019768210127949715, -0.04937306419014931, 0.01569318398833275, 0.03336898609995842, 0.011481722816824913, 0.047069866210222244, -0.011591428890824318, -0.04792562872171402, 0.005484661087393761, -0.047904469072818756, 0.06234209984540939, 0.12323059886693954, 0.017824899405241013, -0.007584656123071909, -0.009556811302900314, -0.004567244090139866, 0.019537925720214844, -0.010851760394871235, 0.005944134667515755, -0.047359030693769455, 0.0329044871032238, 0.041133418679237366, -0.008044512011110783, 0.06995217502117157, -0.04577110707759857, 0.018707577139139175, -0.010798201896250248, -0.07033233344554901, -0.00488383648917079, -0.0003482081519905478, 0.044006310403347015, 0.01881522871553898, 0.023599902167916298, 0.03214123100042343, 0.02845650166273117, 0.009477819316089153, 0.056466665118932724, -0.07152394205331802, -0.01417625043541193, -0.005209325347095728, 0.000880633422639221, -0.010530773550271988, -0.010950270108878613, 0.0039024697616696358, -0.026123179122805595, -0.005889692343771458, -0.015471342951059341, -0.05048835277557373, 0.03525697812438011, 0.04048462212085724, 0.0018253560410812497, -0.06800460815429688, -0.014972208999097347, 0.09134694933891296, 0.01203362550586462, -0.0780414417386055, 0.01673557609319687, -0.015519283711910248, -0.021477926522493362, -0.05670328065752983, 0.0372311994433403, -0.03715023770928383, -0.06326264142990112, -0.02387494593858719, -0.042678263038396835, 0.028031764551997185, 0.015972895547747612, 0.011954964138567448, 0.009554876014590263, -0.01818726398050785, -0.0003265281266067177, -0.022794464603066444, 0.06971253454685211, 0.04267723113298416, -0.00814733561128378, 0.021934516727924347, -0.02781035378575325, 0.03737908974289894, -0.003788124304264784, 0.013894240371882915, 0.02609432488679886, 0.0671786293387413, -0.06435392796993256, 0.032380152493715286, -0.0058570802211761475, -0.014864226803183556, -0.0004825820797123015, -0.03780883923172951, 0.022277407348155975, 0.02421652339398861, 0.013641376048326492, 0.01418539509177208, -0.03550561144948006, -0.02469923533499241, 0.04244300350546837, -0.027977248653769493, 0.017464956268668175, -0.004934148862957954, -0.024615008383989334, -0.06785587221384048, -0.03872792050242424, 0.013112308457493782, 0.05189325287938118, -0.019963348284363747, 0.04116010293364525, -0.058676451444625854, 0.05251184478402138, 0.00871138647198677, -0.03291434794664383, 0.04291955381631851, -0.0542624369263649, 0.018897391855716705, 0.029020056128501892, -0.03633132576942444, 0.053193844854831696, 1.7472722902311943e-05, 0.03518211469054222, 0.03581371530890465, 0.0002981337020173669, -0.010570311918854713, 0.049320101737976074, 0.0048965271562337875, -0.0002571429358795285, 0.05205322802066803, -0.022390587255358696, 0.008496473543345928, 0.04505709558725357, 0.10624750703573227, 0.018668418750166893, 0.025500686839222908, -0.03759213536977768, 0.006452038884162903, 0.01637689210474491, 0.0034772686194628477, 0.04291735589504242, 0.05138813704252243, -0.0008609934593550861, -0.004964799154549837, -0.032587990164756775, 0.02407175302505493, -0.07908142358064651, 0.01739131286740303, 0.0008342305081896484, -0.07971449196338654, -0.060390692204236984, 0.045230913907289505, -0.060546644032001495, -0.016610577702522278, 0.0622909776866436, -0.0403750017285347, -0.005606444552540779, -0.008918894454836845, 0.019087867811322212, 0.008859607391059399, 0.04481419548392296, 0.06816887855529785, 0.05872752144932747, 0.027586746960878372, -0.054179590195417404, -0.02148468978703022, -0.016863267868757248, -0.029517050832509995, 0.025342579931020737, 0.03802347183227539, -0.04502245783805847, -0.004287414252758026, -0.012423133477568626, 0.030419256538152695, -0.04230254516005516, -0.051781974732875824, -0.012811596505343914, -0.028045237064361572, -0.057084426283836365, -0.06373091787099838, 0.04468720406293869, -0.03514716401696205, 0.01166059635579586, -0.012626836076378822, 0.04357143118977547, 0.05933775752782822, 0.00148953206371516, -0.03516971692442894, -0.015989335253834724, -0.04092133417725563, -0.01630541868507862, -0.036754436790943146, 0.03287956863641739, -0.09214545786380768, 0.0006592521094717085, -0.028925275430083275, -0.008269090205430984, 0.033037539571523666, 0.005496112164109945, 0.04431900754570961, -0.01943901740014553, -0.012991627678275108, -0.045580826699733734, -0.04162922129034996, 0.012518870644271374, -0.0009742193506099284, -0.01565420627593994, -0.06536939740180969, 0.06369123607873917, 0.04104974865913391, -0.00039935746463015676, -0.013814978301525116, 0.010126922279596329, 0.0600886344909668, 0.05171644315123558, -0.04482569545507431, -0.0186570156365633, -0.0568062886595726, 0.013925866223871708, -0.03657897934317589, -0.05337730795145035, -0.04203244298696518, 0.008370732888579369, -0.028941981494426727, 0.017101339995861053, -0.04323071613907814, 0.0036726617254316807, 0.03295047953724861, 0.0158493984490633, -0.04499661177396774, 0.0253644660115242, 0.0017035858472809196, 0.018520111218094826, 0.03877471014857292, 0.07182326167821884, 0.050373923033475876, 0.03993317484855652, -0.038559913635253906, -0.0021211057901382446, 0.0016728114569559693, -0.012100832536816597, 0.0022848753724247217, -0.02025054208934307, -0.018940744921565056, -0.06215761601924896, 0.006776569411158562, 0.032831963151693344, -0.03788501396775246, 0.0005288954125717282, 0.01469316054135561, 0.020034542307257652, -0.008377871476113796, -0.00927551556378603, -0.005270719528198242, 0.019458290189504623, -0.06973004341125488, -0.020764224231243134, -0.0047348542138934135, -0.008953051641583443, -0.039975233376026154, 0.045334529131650925, -0.02881692349910736, -0.056942783296108246, 0.006161693949252367, 0.06544479727745056, -0.008464966900646687, 0.0403885692358017, -0.06171534210443497, -0.06160978600382805, 0.010789099149405956, 0.010511399246752262, 0.040556762367486954, -0.014662524685263634, 0.018951840698719025, 0.021601974964141846, 0.02321390062570572, 0.11633137613534927, -0.028014447540044785, -0.04600593447685242, -0.0006302507244981825, 0.014208472333848476, 0.03596416488289833, 0.032623980194330215, -0.07828367501497269, -0.0037478809244930744, -0.016428284347057343, -0.0076849558390676975, 0.007710499223321676, 0.029125399887561798, -0.039893459528684616, -0.03259611874818802, -0.08496637642383575, 0.031002698466181755, -0.01593378372490406, 0.005233411677181721, 0.01295408234000206, -0.06682953983545303, 0.007352861575782299, -0.001001480151899159, -0.06374253332614899, -0.007190049160271883, 0.06622295826673508, 0.2888224422931671, 0.0034406797494739294, 0.03557704761624336, 0.01478701550513506, 0.007448072545230389, 0.034834202378988266, -0.04092595353722572, -0.007201348897069693, -0.04266189783811569, -0.0859755277633667, 0.012831787578761578, -0.0056137265637516975, -0.01977664791047573, -0.04169810563325882, -0.004763223230838776, -0.08399515599012375, 0.024399185553193092, 0.028578132390975952, -0.09880532324314117, 0.007748614531010389, 0.014472943730652332, 0.03920555114746094, 0.014292283914983273, 0.02894660085439682, 0.02281605266034603, -0.02854112908244133, 0.08389239758253098, -0.052054788917303085, 0.0192921943962574, 0.02682475373148918, 0.005611646454781294, 0.07977680116891861, 0.016196992248296738, -0.04205963760614395, -0.0006976138101890683, 0.029677050188183784, 0.03967474400997162, -0.055053167045116425, 0.02988528087735176, 0.07091673463582993, 0.027969611808657646, 0.016182968392968178, -0.015434326604008675, -0.05537848547101021, 0.03350302577018738, -0.019569234922528267, -0.04146195575594902, -0.038702551275491714, 0.017161117866635323, 0.00879181083291769, -0.040275897830724716, -0.0018415837548673153, 0.015169823542237282, 0.04050403833389282, -0.06577280163764954, 0.025451427325606346, -0.005629921332001686, 0.034003324806690216, -0.03914483264088631, -0.010965020395815372, -0.06343000382184982, -0.060050420463085175, -0.010162546299397945, -0.016648877412080765, -0.012472942471504211, -0.040050018578767776, -0.0576937161386013, -0.002121520461514592, 0.008278626948595047, 0.0257199015468359, -0.0347592793405056, -0.01117844320833683, 0.010274825617671013, 0.0046266247518360615, 0.07464814931154251, 0.08135585486888885, 0.03331298753619194, 0.04414084181189537, 0.0016461692284792662, -0.08670288324356079, -0.04412081092596054, 0.0715029165148735, -0.0756193995475769, -0.056883804500103, -0.02481779083609581, 0.006019194144755602, 0.0172038022428751, 0.03812325373291969, 0.011675928719341755, -0.01472259871661663, 0.01699891686439514, -0.04054506868124008, 0.033631667494773865, 0.06943722069263458, -0.015618951991200447, -0.03391817584633827, 0.05541738495230675, -0.039767295122146606, -0.0066843400709331036, -0.0075051868334412575, 0.058760952204465866, 0.03232819586992264]\n"
          ]
        }
      ]
    },
    {
      "cell_type": "code",
      "source": [
        "print(len(rag_texts))\n",
        "print(len(convs))"
      ],
      "metadata": {
        "colab": {
          "base_uri": "https://localhost:8080/"
        },
        "id": "a3FmOkOkGm_-",
        "outputId": "cc492181-f27b-4969-cd35-ab623b79179f"
      },
      "execution_count": null,
      "outputs": [
        {
          "output_type": "stream",
          "name": "stdout",
          "text": [
            "514\n",
            "514\n"
          ]
        }
      ]
    },
    {
      "cell_type": "code",
      "source": [
        "print(len(memory_lists))"
      ],
      "metadata": {
        "colab": {
          "base_uri": "https://localhost:8080/"
        },
        "id": "7Wm0jwUkGYjW",
        "outputId": "990d68dc-3b95-4bba-b06d-be507c0bd55e"
      },
      "execution_count": null,
      "outputs": [
        {
          "output_type": "stream",
          "name": "stdout",
          "text": [
            "514\n"
          ]
        }
      ]
    },
    {
      "cell_type": "code",
      "source": [
        "a = [1,2,3,4]\n",
        "del a[-1]\n",
        "print(a)"
      ],
      "metadata": {
        "colab": {
          "base_uri": "https://localhost:8080/"
        },
        "id": "QVo9gEa_DW0_",
        "outputId": "a6c45e00-3086-401d-9d09-7cfe8608b0dc"
      },
      "execution_count": null,
      "outputs": [
        {
          "output_type": "stream",
          "name": "stdout",
          "text": [
            "[1, 2, 3]\n"
          ]
        }
      ]
    },
    {
      "cell_type": "code",
      "source": [],
      "metadata": {
        "id": "y1sJFgrdCjBr"
      },
      "execution_count": null,
      "outputs": []
    },
    {
      "cell_type": "code",
      "source": [
        "print(lids)\n",
        "\n",
        "print(reverse_lids)\n",
        "\n",
        "print(saved_memory_lists)\n",
        "\n",
        "print(len(saved_memory_lists))\n",
        "\n",
        "for mem_list, memory_list in zip(saved_memory_lists[:10],memory_lists[:10]):\n",
        "    print()\n",
        "    print(mem_list)\n",
        "    count = 0\n",
        "    for lid in mem_list:\n",
        "        l = calculate_tokenized_length(  dialogue_list[lid][1] )\n",
        "        count += l\n",
        "        print(f\"{l}+\" , end = \"\")\n",
        "\n",
        "    print(\"=\", count)\n",
        "\n",
        "    # print(memory_list2text(memory_list))\n",
        "    conversations = memory_list2conversations(memory_list, target_speaker)\n",
        "    for conv in conversations:\n",
        "        print(conv[\"from\"], \"\\t\", conv[\"value\"])"
      ],
      "metadata": {
        "colab": {
          "base_uri": "https://localhost:8080/"
        },
        "id": "Kf1oR8hw9psg",
        "outputId": "cc627de9-25cf-4c05-87cf-4be98adb62ea"
      },
      "execution_count": null,
      "outputs": [
        {
          "output_type": "stream",
          "name": "stdout",
          "text": [
            "[3821, 3824, 3826, 3828, 3830, 3832, 3834, 3836, 3839, 3841, 3917, 3921, 3929, 3940, 3965, 4045, 4047, 4049, 4051, 4055, 4057, 4059, 4061, 4063, 4065, 4067, 4069, 4071, 4073, 4322, 4333, 4335, 4337, 4810, 4812, 4814, 4816, 4818, 5562, 5564, 5566, 5568, 5570, 5572, 5574, 5729, 5731, 5733, 5735, 5737, 5739, 5741, 6077, 6079, 6081, 6083, 6085, 6087, 6089, 6091, 6136, 6138, 6220, 6222, 6291, 6295, 6297, 6300, 6302, 6308, 6310, 6312, 6314, 6316, 6378, 6380, 6382, 6384, 6386, 6388, 6390, 6438, 6440, 6442, 6444, 6446, 6448, 6450, 6452, 6454, 6456, 6458, 6482, 6484, 6486, 6488, 6490, 6492, 6494, 6500, 6535, 6537, 6539, 6541, 6542, 6544, 6546, 6548, 6550, 6805, 6807, 6809, 6811, 6813, 6815, 6819, 6821, 6888, 6890, 6991, 6993, 6999, 7006, 7053, 7072, 7078, 7080, 7082, 7084, 7086, 7088, 7092, 7094, 7096, 7109, 7111, 7113, 7114, 7117, 7119, 7123, 7126, 7128, 7170, 7172, 7174]\n",
            "[7174, 7172, 7170, 7128, 7126, 7123, 7119, 7117, 7114, 7113, 7111, 7109, 7096, 7094, 7092, 7088, 7086, 7084, 7082, 7080, 7078, 7072, 7053, 7006, 6999, 6993, 6991, 6890, 6888, 6821, 6819, 6815, 6813, 6811, 6809, 6807, 6805, 6550, 6548, 6546, 6544, 6542, 6541, 6539, 6537, 6535, 6500, 6494, 6492, 6490, 6488, 6486, 6484, 6482, 6458, 6456, 6454, 6452, 6450, 6448, 6446, 6444, 6442, 6440, 6438, 6390, 6388, 6386, 6384, 6382, 6380, 6378, 6316, 6314, 6312, 6310, 6308, 6302, 6300, 6297, 6295, 6291, 6222, 6220, 6138, 6136, 6091, 6089, 6087, 6085, 6083, 6081, 6079, 6077, 5741, 5739, 5737, 5735, 5733, 5731, 5729, 5574, 5572, 5570, 5568, 5566, 5564, 5562, 4818, 4816, 4814, 4812, 4810, 4337, 4335, 4333, 4322, 4073, 4071, 4069, 4067, 4065, 4063, 4061, 4059, 4057, 4055, 4051, 4049, 4047, 4045, 3965, 3940, 3929, 3921, 3917, 3841, 3839, 3836, 3834, 3832, 3830, 3828, 3826, 3824, 3821]\n",
            "[[7169, 7170], [7105, 7106, 7107, 7108, 7109, 7110, 7111, 7112, 7113, 7114, 7115, 7116, 7117, 7118, 7119, 7120, 7121, 7122, 7123, 7124, 7125, 7126, 7127, 7128, 7171, 7172, 7173, 7174], [7085, 7086, 7087, 7088, 7089, 7090, 7091, 7092, 7093, 7094, 7095, 7096], [7083, 7084], [7066, 7067, 7068, 7069, 7070, 7071, 7072, 7073, 7074, 7075, 7076, 7077, 7078, 7079, 7080, 7081, 7082], [7052, 7053], [6992, 6993, 6994, 6995, 6996, 6997, 6998, 6999, 7000, 7001, 7002, 7003, 7004, 7005, 7006], [6990, 6991], [6887, 6888], [6816, 6817, 6818, 6819, 6820, 6821, 6889, 6890], [6814, 6815], [6806, 6807, 6808, 6809, 6810, 6811, 6812, 6813], [6804, 6805], [6540, 6541, 6542, 6543, 6544, 6545, 6546, 6547, 6548, 6549, 6550], [6538, 6539], [6534, 6535], [6493, 6494, 6495, 6496, 6497, 6498, 6499, 6500, 6536, 6537], [6491, 6492], [6481, 6482], [6483, 6484, 6485, 6486, 6487, 6488, 6489, 6490], [6457, 6458], [6447, 6448, 6449, 6450, 6451, 6452, 6453, 6454, 6455, 6456], [6445, 6446], [6437, 6438], [6381, 6382, 6383, 6384, 6385, 6386, 6387, 6388, 6389, 6390, 6439, 6440, 6441, 6442, 6443, 6444], [6379, 6380], [6377, 6378], [6309, 6310, 6311, 6312, 6313, 6314, 6315, 6316], [6303, 6304, 6305, 6306, 6307, 6308], [6290, 6291], [6221, 6222, 6292, 6293, 6294, 6295, 6296, 6297, 6298, 6299, 6300, 6301, 6302], [6219, 6220], [6135, 6136], [6086, 6087, 6088, 6089, 6090, 6091, 6137, 6138], [6084, 6085], [6076, 6077], [5740, 5741, 6078, 6079, 6080, 6081, 6082, 6083], [5738, 5739], [5728, 5729], [5573, 5574, 5730, 5731, 5732, 5733, 5734, 5735, 5736, 5737], [5571, 5572], [5565, 5566, 5567, 5568, 5569, 5570], [5563, 5564], [5561, 5562], [4813, 4814, 4815, 4816, 4817, 4818], [4811, 4812], [4809, 4810], [4332, 4333], [4321, 4322], [4070, 4071, 4072, 4073, 4334, 4335, 4336, 4337], [4068, 4069], [4062, 4063, 4064, 4065, 4066, 4067], [4060, 4061], [4056, 4057, 4058, 4059], [4052, 4053, 4054, 4055], [4044, 4045], [3964, 3965], [3932, 3933, 3934, 3935, 3936, 3937, 3938, 3939, 3940, 4046, 4047, 4048, 4049, 4050, 4051], [3916, 3917], [3838, 3839, 3840, 3841, 3918, 3919, 3920, 3921, 3922, 3923, 3924, 3925, 3926, 3927, 3928, 3929], [3827, 3828, 3829, 3830, 3831, 3832, 3833, 3834, 3835, 3836], [3825, 3826], [3820, 3821], [3822, 3823, 3824]]\n",
            "64\n",
            "\n",
            "[7169, 7170]\n",
            "26+12+= 38\n",
            "human \t 马子雄: *拿着布呆呆地站着*\n",
            "*涌出些东西，身子慢慢地向后仰，随之轰然倒地*\n",
            "gpt \t *不用管他了。咱们快跑吧！*\n",
            "\n",
            "[7105, 7106, 7107, 7108, 7109, 7110, 7111, 7112, 7113, 7114, 7115, 7116, 7117, 7118, 7119, 7120, 7121, 7122, 7123, 7124, 7125, 7126, 7127, 7128, 7171, 7172, 7173, 7174]\n",
            "9+14+11+30+20+13+21+9+7+18+6+24+20+16+13+18+9+8+9+17+7+8+21+16+9+101+24+5+= 483\n",
            "human \t 兴业: *那毒药好买吗？*\n",
            "兴家: *我同学开化工行，他说他那店里就有。*\n",
            "兴业:  你对外人说了这事儿？\n",
            "兴家:  我能那么傻吗？我说是药邻居家的狗，说那狗夜里叫，弄得我睡不着。\n",
            "gpt \t *身着盛装，站在厂门口，对每个进厂的工人都鞠躬*\n",
            "human \t 兴业: *那毒药好买吗？*\n",
            "兴家: *我同学开化工行，他说他那店里就有。*\n",
            "兴业:  你对外人说了这事儿？\n",
            "兴家:  我能那么傻吗？我说是药邻居家的狗，说那狗夜里叫，弄得我睡不着。\n",
            "马子雄: *问* 董事长，可以开机了吗？\n",
            "gpt \t *优雅地一点头* 我们将揭开山东印染划时代的一页。开始吧！\n",
            "human \t 兴业: *那毒药好买吗？*\n",
            "兴家: *我同学开化工行，他说他那店里就有。*\n",
            "兴业:  你对外人说了这事儿？\n",
            "兴家:  我能那么傻吗？我说是药邻居家的狗，说那狗夜里叫，弄得我睡不着。\n",
            "马子雄: *问* 董事长，可以开机了吗？\n",
            "马子雄: *用力向下一劈* 开机！\n",
            "訾文海等人: *高兴地鼓掌祝贺*\n",
            "gpt \t *抱住马子雄* 子雄，你就是我的赵子龙呀！\n",
            "human \t 兴业: *那毒药好买吗？*\n",
            "兴家: *我同学开化工行，他说他那店里就有。*\n",
            "兴业:  你对外人说了这事儿？\n",
            "兴家:  我能那么傻吗？我说是药邻居家的狗，说那狗夜里叫，弄得我睡不着。\n",
            "马子雄: *问* 董事长，可以开机了吗？\n",
            "马子雄: *用力向下一劈* 开机！\n",
            "訾文海等人: *高兴地鼓掌祝贺*\n",
            "兴业: *怒目而视*\n",
            "技工: *跑过来* 总经理，快看看去吧，那布一过拉宽机全都断了！\n",
            "gpt \t *放开赵子龙，赵子龙也慌了，忙向拉宽机跑去*\n",
            "human \t 兴业: *那毒药好买吗？*\n",
            "兴家: *我同学开化工行，他说他那店里就有。*\n",
            "兴业:  你对外人说了这事儿？\n",
            "兴家:  我能那么傻吗？我说是药邻居家的狗，说那狗夜里叫，弄得我睡不着。\n",
            "马子雄: *问* 董事长，可以开机了吗？\n",
            "马子雄: *用力向下一劈* 开机！\n",
            "訾文海等人: *高兴地鼓掌祝贺*\n",
            "兴业: *怒目而视*\n",
            "技工: *跑过来* 总经理，快看看去吧，那布一过拉宽机全都断了！\n",
            "马子雄: *大惊* 快！快去仓库再拉几件来！\n",
            "gpt \t *直问* 怎么回事儿？怎么回事儿？\n",
            "human \t 兴业: *那毒药好买吗？*\n",
            "兴家: *我同学开化工行，他说他那店里就有。*\n",
            "兴业:  你对外人说了这事儿？\n",
            "兴家:  我能那么傻吗？我说是药邻居家的狗，说那狗夜里叫，弄得我睡不着。\n",
            "马子雄: *问* 董事长，可以开机了吗？\n",
            "马子雄: *用力向下一劈* 开机！\n",
            "訾文海等人: *高兴地鼓掌祝贺*\n",
            "兴业: *怒目而视*\n",
            "技工: *跑过来* 总经理，快看看去吧，那布一过拉宽机全都断了！\n",
            "马子雄: *大惊* 快！快去仓库再拉几件来！\n",
            "马子雄: *挥手示意停机，拿过印染专用剪刀把布冲断*\n",
            "工人们: *飞跑*\n",
            "*快速打开包*\n",
            "马子雄: *命令* 上淘洗机！\n",
            "gpt \t *双手直抖，脸色蜡黄*\n",
            "human \t 兴业: *那毒药好买吗？*\n",
            "兴家: *我同学开化工行，他说他那店里就有。*\n",
            "兴业:  你对外人说了这事儿？\n",
            "兴家:  我能那么傻吗？我说是药邻居家的狗，说那狗夜里叫，弄得我睡不着。\n",
            "马子雄: *问* 董事长，可以开机了吗？\n",
            "马子雄: *用力向下一劈* 开机！\n",
            "訾文海等人: *高兴地鼓掌祝贺*\n",
            "兴业: *怒目而视*\n",
            "技工: *跑过来* 总经理，快看看去吧，那布一过拉宽机全都断了！\n",
            "马子雄: *大惊* 快！快去仓库再拉几件来！\n",
            "马子雄: *挥手示意停机，拿过印染专用剪刀把布冲断*\n",
            "工人们: *飞跑*\n",
            "*快速打开包*\n",
            "马子雄: *命令* 上淘洗机！\n",
            "马子雄: *看了一下手表* 可以了，停机，拿出一块来！\n",
            "工人: *拉出一块剪下来*\n",
            "gpt \t *问* 这是怎么回事？\n",
            "human \t 兴业: *那毒药好买吗？*\n",
            "兴家: *我同学开化工行，他说他那店里就有。*\n",
            "兴业:  你对外人说了这事儿？\n",
            "兴家:  我能那么傻吗？我说是药邻居家的狗，说那狗夜里叫，弄得我睡不着。\n",
            "马子雄: *问* 董事长，可以开机了吗？\n",
            "马子雄: *用力向下一劈* 开机！\n",
            "訾文海等人: *高兴地鼓掌祝贺*\n",
            "兴业: *怒目而视*\n",
            "技工: *跑过来* 总经理，快看看去吧，那布一过拉宽机全都断了！\n",
            "马子雄: *大惊* 快！快去仓库再拉几件来！\n",
            "马子雄: *挥手示意停机，拿过印染专用剪刀把布冲断*\n",
            "工人们: *飞跑*\n",
            "*快速打开包*\n",
            "马子雄: *命令* 上淘洗机！\n",
            "马子雄: *看了一下手表* 可以了，停机，拿出一块来！\n",
            "工人: *拉出一块剪下来*\n",
            "马子雄:  布上有德国的SIN胶或者是桃胶。我们中计了！\n",
            "gpt \t *晃了两晃，算是没摔倒* 一万件都这样？\n",
            "human \t 兴业: *那毒药好买吗？*\n",
            "兴家: *我同学开化工行，他说他那店里就有。*\n",
            "兴业:  你对外人说了这事儿？\n",
            "兴家:  我能那么傻吗？我说是药邻居家的狗，说那狗夜里叫，弄得我睡不着。\n",
            "马子雄: *问* 董事长，可以开机了吗？\n",
            "马子雄: *用力向下一劈* 开机！\n",
            "訾文海等人: *高兴地鼓掌祝贺*\n",
            "兴业: *怒目而视*\n",
            "技工: *跑过来* 总经理，快看看去吧，那布一过拉宽机全都断了！\n",
            "马子雄: *大惊* 快！快去仓库再拉几件来！\n",
            "马子雄: *挥手示意停机，拿过印染专用剪刀把布冲断*\n",
            "工人们: *飞跑*\n",
            "*快速打开包*\n",
            "马子雄: *命令* 上淘洗机！\n",
            "马子雄: *看了一下手表* 可以了，停机，拿出一块来！\n",
            "工人: *拉出一块剪下来*\n",
            "马子雄:  布上有德国的SIN胶或者是桃胶。我们中计了！\n",
            "訾有德: *咱们回上海找他们去！*\n",
            "gpt \t *孩子，这是套子呀！找谁去？这银行里的钱全买了布，那劝业银行的股东除了警察署就是法院，还有宏盛堂的白志生钱世亨，这银行一倒，他们能饶了咱吗？快！快回家拿上细软，先回济阳老家再说。打官司也好，坐监狱也好，都由他高名钧顶着，在法律上和咱没有直接关系。快呀！*\n",
            "\n",
            "[7085, 7086, 7087, 7088, 7089, 7090, 7091, 7092, 7093, 7094, 7095, 7096]\n",
            "30+54+30+10+26+6+28+27+62+69+10+93+= 445\n",
            "human \t 高名钧:  子雄回来，咱得好好敬他几杯。訾先生，这闸北仓库不远吧？该回来了吧？\n",
            "gpt \t  快回来了。交接完毕之后，咱明天就往回运。我恨不能今天夜里就开工，把陈六子赵家等等所有济南的土驴子全干死！\n",
            " 顺利吗，子雄？\n",
            "human \t 高名钧:  子雄回来，咱得好好敬他几杯。訾先生，这闸北仓库不远吧？该回来了吧？\n",
            "马子雄:  很顺利。钱货两清，现在已经向车站运了，争取明天发出。小姐，拿把剪刀来！\n",
            "gpt \t  要剪刀干什么？\n",
            "human \t 高名钧:  子雄回来，咱得好好敬他几杯。訾先生，这闸北仓库不远吧？该回来了吧？\n",
            "马子雄:  很顺利。钱货两清，现在已经向车站运了，争取明天发出。小姐，拿把剪刀来！\n",
            "马子雄:  这布我撕给你看，真有劲呀！这成件的布比样品好多了！\n",
            "小姐: *拿来一把剪刀*\n",
            "马子雄: *隔着三寸剪一个口，剪了四五个，用力一撕，布撕开了*\n",
            "*让訾文海撕*\n",
            "gpt \t *第一下没撕动，再用力，那布才撕开*\n",
            "*好！这成色真是好呀！*\n",
            "human \t 高名钧:  子雄回来，咱得好好敬他几杯。訾先生，这闸北仓库不远吧？该回来了吧？\n",
            "马子雄:  很顺利。钱货两清，现在已经向车站运了，争取明天发出。小姐，拿把剪刀来！\n",
            "马子雄:  这布我撕给你看，真有劲呀！这成件的布比样品好多了！\n",
            "小姐: *拿来一把剪刀*\n",
            "马子雄: *隔着三寸剪一个口，剪了四五个，用力一撕，布撕开了*\n",
            "*让訾文海撕*\n",
            "马子雄: *我交接完了之后，想去井伊商社打个招呼，也想顺便商量一下第二批供货的事情*\n",
            "*可是到了门口一看，排着十几个日本人等着接见，有的出来的时候还激动地擦眼泪，还有法国领事馆的车停在那里，我就没敢进去*\n",
            "gpt \t *子雄，多亏你呀，咱可走了大运了！咱靠着这么棵大树，还怕谁？这井伊一家初到上海，日本人都排不上队，咱也先别凑热闹了。等过几天，咱带上礼物专门来一趟。子雄，合同全签好了吗？*\n",
            "human \t 高名钧:  子雄回来，咱得好好敬他几杯。訾先生，这闸北仓库不远吧？该回来了吧？\n",
            "马子雄:  很顺利。钱货两清，现在已经向车站运了，争取明天发出。小姐，拿把剪刀来！\n",
            "马子雄:  这布我撕给你看，真有劲呀！这成件的布比样品好多了！\n",
            "小姐: *拿来一把剪刀*\n",
            "马子雄: *隔着三寸剪一个口，剪了四五个，用力一撕，布撕开了*\n",
            "*让訾文海撕*\n",
            "马子雄: *我交接完了之后，想去井伊商社打个招呼，也想顺便商量一下第二批供货的事情*\n",
            "*可是到了门口一看，排着十几个日本人等着接见，有的出来的时候还激动地擦眼泪，还有法国领事馆的车停在那里，我就没敢进去*\n",
            "马子雄: *董事长，全妥了。你看！*\n",
            "gpt \t *好，咱们回到济南后，把这最后一页拆下来装到镜框里。明石的签字，这就有收藏价值。来，干！今天咱来个一醉方休。咱明天早上就回济南，布一到，就开工。不用别的，就过年这一个卖货旺季，就让济南所有的染厂全傻眼！可惜呀，这时候陈六子他们还不知道呢！哈哈！*\n",
            "\n",
            "[7083, 7084]\n",
            "54+209+= 263\n",
            "human \t 高名钧:  天意呀！这是天意，是天帮着咱发财呀！訾先生，你看看人家，人家那气派！你看那些日本人，平日里那么横，一见明石两口子全没脾气了。\n",
            "gpt \t  名钧，你是不了解日本呀！日本是个等级分明的社会。在明治以前，只有贵族才有姓氏，其他人就是乱起名，就和咱这里狗剩子、连锁子似的，随便一叫，就是个记号，连个姓都没有。直到明治八年，才颁布了《苗字必称令》，一般的日本人才有了姓。别看那些日本人在中国这么横，在他们国家，见了贵族就得让路，就得主动过来请安。有的人一生也不一定能见上贵族一面，更别说什么在一块竞标了。今天是先竞的中方，要是先竞日方，那些人根本不敢举牌。借给他们三个胆也不敢举。还是子雄有眼力，一下子叫了两国两方，要是只叫日方，今天咱就麻烦了。要是明石要个高价，日本人都不敢争，布价再高咱也得要呀，否则保证金就没了。我现在想起来都后怕。\n",
            "\n",
            "[7066, 7067, 7068, 7069, 7070, 7071, 7072, 7073, 7074, 7075, 7076, 7077, 7078, 7079, 7080, 7081, 7082]\n",
            "21+20+19+35+11+18+70+37+35+6+3+23+57+50+30+6+59+= 500\n",
            "human \t 主拍师: *有些傻，干笑着说* 明石先生，我们现在是竞八百米小件。\n",
            "助手:  大日本帝国不出产那样的小件！一千米，五十八元！\n",
            "主拍师: *差点昏过去，晃了两晃，扶住桌子，这才保住了平衡*\n",
            "中国方队成员:  这不是来玩帅吗？哪是竞标！\n",
            " 少爷羔子不行，什么样的家业也能让他玩没了！\n",
            "日本方队: *全体起立，爆发出热烈的掌声*\n",
            "明石: *回过身，浅浅一躬身* 算做致谢。\n",
            "gpt \t *蹦下来* 阁下，我曾在贵国读过书，是东京帝国大学。那是我一生中最美好、最值得回忆的一段时光！在日本读书的时候，我曾在墙外瞻仰过贵宅，没想到今天能和阁下成为长久的商业伙伴，訾文海实在倍感殊荣！\n",
            "human \t 主拍师: *有些傻，干笑着说* 明石先生，我们现在是竞八百米小件。\n",
            "助手:  大日本帝国不出产那样的小件！一千米，五十八元！\n",
            "主拍师: *差点昏过去，晃了两晃，扶住桌子，这才保住了平衡*\n",
            "中国方队成员:  这不是来玩帅吗？哪是竞标！\n",
            " 少爷羔子不行，什么样的家业也能让他玩没了！\n",
            "日本方队: *全体起立，爆发出热烈的掌声*\n",
            "明石: *回过身，浅浅一躬身* 算做致谢。\n",
            "明石: *一笑* 多承关照。具体事宜请与我的助手滕山君接洽。明石告辞！\n",
            "*挽起太太昂首向外走来*\n",
            "主拍师: *想起竞标已经结束，当地敲了一下落铃，高呼* 井伊商社中标！并取得长久为山东模范印染厂供货资格！\n",
            "日本人: *欢呼雀跃着*\n",
            "【4】\n",
            "晚上，上海国际饭店中餐厅，訾文海和高名钧还没从喜悦中沉静下来。\n",
            "gpt \t *感叹道* 十里洋场，无奇不有啊！大上海，多年不来了！嗨，这些年光剩下打官司了，为了千儿八百的争来斗去的。名钧，现在想起来真觉得幼稚，甚至是脸红！\n",
            "human \t 主拍师: *有些傻，干笑着说* 明石先生，我们现在是竞八百米小件。\n",
            "助手:  大日本帝国不出产那样的小件！一千米，五十八元！\n",
            "主拍师: *差点昏过去，晃了两晃，扶住桌子，这才保住了平衡*\n",
            "中国方队成员:  这不是来玩帅吗？哪是竞标！\n",
            " 少爷羔子不行，什么样的家业也能让他玩没了！\n",
            "日本方队: *全体起立，爆发出热烈的掌声*\n",
            "明石: *回过身，浅浅一躬身* 算做致谢。\n",
            "明石: *一笑* 多承关照。具体事宜请与我的助手滕山君接洽。明石告辞！\n",
            "*挽起太太昂首向外走来*\n",
            "主拍师: *想起竞标已经结束，当地敲了一下落铃，高呼* 井伊商社中标！并取得长久为山东模范印染厂供货资格！\n",
            "日本人: *欢呼雀跃着*\n",
            "【4】\n",
            "晚上，上海国际饭店中餐厅，訾文海和高名钧还没从喜悦中沉静下来。\n",
            "高名钧: *也说* 该让银行里的那些股东也来看看这个场面，看看明石有信的气派。唉，真不平常呀！真气派呀！他老婆也真漂亮！这样的日本女人我还从来没见过。\n",
            "gpt \t  贵族就是贵族。这是多少代人气质的沉淀呀！名钧，你知道他的布为什么这么便宜吗？\n",
            "human \t 主拍师: *有些傻，干笑着说* 明石先生，我们现在是竞八百米小件。\n",
            "助手:  大日本帝国不出产那样的小件！一千米，五十八元！\n",
            "主拍师: *差点昏过去，晃了两晃，扶住桌子，这才保住了平衡*\n",
            "中国方队成员:  这不是来玩帅吗？哪是竞标！\n",
            " 少爷羔子不行，什么样的家业也能让他玩没了！\n",
            "日本方队: *全体起立，爆发出热烈的掌声*\n",
            "明石: *回过身，浅浅一躬身* 算做致谢。\n",
            "明石: *一笑* 多承关照。具体事宜请与我的助手滕山君接洽。明石告辞！\n",
            "*挽起太太昂首向外走来*\n",
            "主拍师: *想起竞标已经结束，当地敲了一下落铃，高呼* 井伊商社中标！并取得长久为山东模范印染厂供货资格！\n",
            "日本人: *欢呼雀跃着*\n",
            "【4】\n",
            "晚上，上海国际饭店中餐厅，訾文海和高名钧还没从喜悦中沉静下来。\n",
            "高名钧: *也说* 该让银行里的那些股东也来看看这个场面，看看明石有信的气派。唉，真不平常呀！真气派呀！他老婆也真漂亮！这样的日本女人我还从来没见过。\n",
            "高名钧:  不知道！\n",
            "gpt \t  这就是贵族。井伊家参加过日俄战争，他是不交纳所有税赋的。这一点让英国的皇室都眼红。有了这样的供货商，还什么陈六子、赵东俊，全得给我跪下求饶。\n",
            "\n",
            "[7052, 7053]\n",
            "9+11+= 20\n",
            "human \t 主拍师：“六十二元一次！”\n",
            "gpt \t *直出汗，掏出手绢来擦着*\n",
            "\n",
            "[6992, 6993, 6994, 6995, 6996, 6997, 6998, 6999, 7000, 7001, 7002, 7003, 7004, 7005, 7006]\n",
            "35+7+28+105+37+32+11+7+19+27+6+61+5+50+6+= 436\n",
            "\n",
            "[6990, 6991]\n",
            "84+87+= 171\n",
            "human \t 无:  上午九点，上海法租界路德维拍卖行，应标厂家三三两两地陆续入场，一边走，一边商量。\n",
            " 这个小会场虽然不大，但很讲究，每个竞标厂家的面前都放牌子，标出厂名。以中间的过道为界，左边是中国厂家，右边是日本商人，泾渭分明。\n",
            "gpt \t *身着笔挺的藏蓝西装，上口袋处挂着小红条，一朵小花，小红条上写的是发标方董事长。高名钧也是衣帽整齐，标牌为副董事长。马子雄油头铮亮，神采飞扬，红条职务为总经理。这时，三人正在贵客厅议事。*\n",
            "*看看表* 子雄，就看你的了！\n",
            "\n",
            "[6887, 6888]\n",
            "56+30+= 86\n",
            "human \t 马子雄:  董事长，到现在为止，日本贸易商报名的有七家，上海的有十家，只有林家还有另外的两个厂没报名。离着报名结束日期还有一个礼拜呢。让我意外的是，英国人没有报名。\n",
            "gpt \t  可能中国境内货源不够吧。不用管英国人，他的布咱也没用过，我还是倾向于用日本布。\n",
            "\n",
            "[6816, 6817, 6818, 6819, 6820, 6821, 6889, 6890]\n",
            "28+27+124+30+48+33+96+50+= 436\n",
            "human \t 马子雄:  用不了那么多，七十万就够。日本大件布我想把它打压在七十以下，我就敢说这样的话！\n",
            "高名钧:  好，我回到行里之后，马上招开董事会，把咱们的讨论结果通报一下就行了。\n",
            "马子雄:  好，现在是十一月初，定在十二月八号可以吗？因为再晚了，我们就赶不上过年这个旺季，那我们的经营是会受影响的。我们就定下上海交货，当场成交，三日内交货。我们早一点把广告登出来，我回上海后，先让把标书定向投送各个纺织厂，各个日本商社，广告也同时刊出，也好让投标方准备货源。甚至日本货还要往这边运。我们要给人家留出充足的空间，这样，才显得我们通情理。\n",
            "gpt \t  好好好好！一切听马经理的安排。陈六子，你不是能嘛，还有比你能的！\n",
            "human \t 马子雄:  用不了那么多，七十万就够。日本大件布我想把它打压在七十以下，我就敢说这样的话！\n",
            "高名钧:  好，我回到行里之后，马上招开董事会，把咱们的讨论结果通报一下就行了。\n",
            "马子雄:  好，现在是十一月初，定在十二月八号可以吗？因为再晚了，我们就赶不上过年这个旺季，那我们的经营是会受影响的。我们就定下上海交货，当场成交，三日内交货。我们早一点把广告登出来，我回上海后，先让把标书定向投送各个纺织厂，各个日本商社，广告也同时刊出，也好让投标方准备货源。甚至日本货还要往这边运。我们要给人家留出充足的空间，这样，才显得我们通情理。\n",
            "马子雄:  董事长，以后不要再提那个什么陈六子了，他那样的人物早过时了。我们现在是在山东小干，等我们立住脚之后，咱们大家一起去上海滩闯天下。\n",
            "gpt \t *用拳砸响自己的手掌，断喝* 好，就是要有这样的气度。有德，你以后要多向马经理学。\n",
            "human \t 马子雄:  用不了那么多，七十万就够。日本大件布我想把它打压在七十以下，我就敢说这样的话！\n",
            "高名钧:  好，我回到行里之后，马上招开董事会，把咱们的讨论结果通报一下就行了。\n",
            "马子雄:  好，现在是十一月初，定在十二月八号可以吗？因为再晚了，我们就赶不上过年这个旺季，那我们的经营是会受影响的。我们就定下上海交货，当场成交，三日内交货。我们早一点把广告登出来，我回上海后，先让把标书定向投送各个纺织厂，各个日本商社，广告也同时刊出，也好让投标方准备货源。甚至日本货还要往这边运。我们要给人家留出充足的空间，这样，才显得我们通情理。\n",
            "马子雄:  董事长，以后不要再提那个什么陈六子了，他那样的人物早过时了。我们现在是在山东小干，等我们立住脚之后，咱们大家一起去上海滩闯天下。\n",
            "马子雄:  可能是这样，没有英国人更好！我觉得日本人还好对付一些。至于上海的那些厂，我差不多全认识。董事长，你看着，这次竞标将空前激烈。日本商人分属于各个不同的株式会社，这些会社又依附于不同的银行，也是相互竞争。他们也都急于在中国发展。我估计，最后中标的可能是日本人。只是东亚商社没有报名，是不是再催他一下？\n",
            "gpt \t *哈哈大笑* 他不来正好。滕井也有些老了。新一代的日本商人有些有军人背景，有些是家族财阀，甚至过去的贵族也加入到开发中国的行列里来。我们就等着看好戏吧！\n"
          ]
        }
      ]
    },
    {
      "cell_type": "code",
      "source": [],
      "metadata": {
        "id": "iEWb4z3UCRrZ"
      },
      "execution_count": null,
      "outputs": []
    },
    {
      "cell_type": "markdown",
      "source": [],
      "metadata": {
        "id": "avwq6pZB2ova"
      }
    },
    {
      "cell_type": "code",
      "source": [
        "a = [1,2,3,4]\n",
        "a.reverse()\n",
        "print(a)"
      ],
      "metadata": {
        "id": "KNLVpAe09brb"
      },
      "execution_count": null,
      "outputs": []
    },
    {
      "cell_type": "code",
      "source": [
        "print(data)\n",
        "print(data.keys())\n",
        "print(data[\"id\"])\n",
        "print(data[\"id\"].rfind(\"_\"))"
      ],
      "metadata": {
        "id": "LFh_OMi81g7r"
      },
      "execution_count": null,
      "outputs": []
    },
    {
      "cell_type": "code",
      "source": [],
      "metadata": {
        "id": "mCPXGrMZ1he9"
      },
      "execution_count": null,
      "outputs": []
    }
  ]
}