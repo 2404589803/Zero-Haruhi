{
  "nbformat": 4,
  "nbformat_minor": 0,
  "metadata": {
    "colab": {
      "provenance": [],
      "authorship_tag": "ABX9TyML17ygL68IZrDTKbZQYcGS",
      "include_colab_link": true
    },
    "kernelspec": {
      "name": "python3",
      "display_name": "Python 3"
    },
    "language_info": {
      "name": "python"
    }
  },
  "cells": [
    {
      "cell_type": "markdown",
      "metadata": {
        "id": "view-in-github",
        "colab_type": "text"
      },
      "source": [
        "<a href=\"https://colab.research.google.com/github/LC1332/Zero-Haruhi/blob/main/notebook/%E6%89%B9%E9%87%8F%E7%BF%BB%E8%AF%91%E4%B8%AD%E5%88%B0%E6%97%A5.ipynb\" target=\"_parent\"><img src=\"https://colab.research.google.com/assets/colab-badge.svg\" alt=\"Open In Colab\"/></a>"
      ]
    },
    {
      "cell_type": "code",
      "execution_count": 1,
      "metadata": {
        "colab": {
          "base_uri": "https://localhost:8080/"
        },
        "id": "hW0qzfAXpmhb",
        "outputId": "06e7b2ff-b421-481c-8513-3cb5f4d3facc"
      },
      "outputs": [
        {
          "output_type": "stream",
          "name": "stdout",
          "text": [
            "\u001b[2K     \u001b[90m━━━━━━━━━━━━━━━━━━━━━━━━━━━━━━━━━━━━━━━━\u001b[0m \u001b[32m225.1/225.1 kB\u001b[0m \u001b[31m1.8 MB/s\u001b[0m eta \u001b[36m0:00:00\u001b[0m\n",
            "\u001b[2K     \u001b[90m━━━━━━━━━━━━━━━━━━━━━━━━━━━━━━━━━━━━━━━━\u001b[0m \u001b[32m75.9/75.9 kB\u001b[0m \u001b[31m5.0 MB/s\u001b[0m eta \u001b[36m0:00:00\u001b[0m\n",
            "\u001b[2K     \u001b[90m━━━━━━━━━━━━━━━━━━━━━━━━━━━━━━━━━━━━━━━━\u001b[0m \u001b[32m76.9/76.9 kB\u001b[0m \u001b[31m6.5 MB/s\u001b[0m eta \u001b[36m0:00:00\u001b[0m\n",
            "\u001b[2K     \u001b[90m━━━━━━━━━━━━━━━━━━━━━━━━━━━━━━━━━━━━━━━━\u001b[0m \u001b[32m58.3/58.3 kB\u001b[0m \u001b[31m4.8 MB/s\u001b[0m eta \u001b[36m0:00:00\u001b[0m\n",
            "\u001b[?25h\u001b[31mERROR: pip's dependency resolver does not currently take into account all the packages that are installed. This behaviour is the source of the following dependency conflicts.\n",
            "llmx 0.0.15a0 requires cohere, which is not installed.\n",
            "llmx 0.0.15a0 requires tiktoken, which is not installed.\n",
            "tensorflow-probability 0.22.0 requires typing-extensions<4.6.0, but you have typing-extensions 4.9.0 which is incompatible.\u001b[0m\u001b[31m\n",
            "\u001b[0m"
          ]
        }
      ],
      "source": [
        "!pip install -q openai"
      ]
    },
    {
      "cell_type": "code",
      "source": [
        "import os\n",
        "import httpx\n",
        "\n",
        "os.environ[\"OPENAI_API_KEY\"]  = \"sk-JEBR\"\n",
        "\n",
        "import openai\n",
        "from openai import AsyncOpenAI"
      ],
      "metadata": {
        "id": "cawYaIWWqE1_"
      },
      "execution_count": 2,
      "outputs": []
    },
    {
      "cell_type": "code",
      "source": [
        "from google.colab import drive\n",
        "drive.mount('/content/drive')"
      ],
      "metadata": {
        "colab": {
          "base_uri": "https://localhost:8080/"
        },
        "id": "gYFlIDSAqFgc",
        "outputId": "3345affa-2cc3-47ed-fc71-30f936621ab5"
      },
      "execution_count": 3,
      "outputs": [
        {
          "output_type": "stream",
          "name": "stdout",
          "text": [
            "Mounted at /content/drive\n"
          ]
        }
      ]
    },
    {
      "cell_type": "code",
      "source": [
        "!ls /content/drive/MyDrive/CardBuild/exp0131/input"
      ],
      "metadata": {
        "colab": {
          "base_uri": "https://localhost:8080/"
        },
        "id": "I1iYyJoCqO8E",
        "outputId": "ea7ed11f-422e-41be-b8f8-9b17ee215d1b"
      },
      "execution_count": 4,
      "outputs": [
        {
          "output_type": "stream",
          "name": "stdout",
          "text": [
            "source_0.jsonl\tsource_1.jsonl\tsource_2.jsonl\tsource_3.jsonl\tsource_4.jsonl\n"
          ]
        }
      ]
    },
    {
      "cell_type": "markdown",
      "source": [
        "读取 /content/drive/MyDrive/CardBuild/exp0131/input 中所有jsonl文件\n",
        "\n",
        "保存到datas中，给我python代码的实现"
      ],
      "metadata": {
        "id": "go9EekRYqY-e"
      }
    },
    {
      "cell_type": "code",
      "source": [
        "import os\n",
        "import json\n",
        "\n",
        "directory = '/content/drive/MyDrive/CardBuild/exp0131/input'\n",
        "datas = []\n",
        "\n",
        "# 列出指定目录中的所有文件\n",
        "for filename in os.listdir(directory):\n",
        "    # 检查文件扩展名是否为.jsonl\n",
        "    if filename.endswith('.jsonl'):\n",
        "        file_path = os.path.join(directory, filename)\n",
        "        # 读取和解析.jsonl文件\n",
        "        with open(file_path, 'r') as file:\n",
        "            for line in file:\n",
        "                # 将每行解析为JSON\n",
        "                json_data = json.loads(line)\n",
        "                datas.append(json_data)\n",
        "\n",
        "# datas现在包含了所有jsonl文件中的数据\n"
      ],
      "metadata": {
        "id": "6YR0N6cPqXx6"
      },
      "execution_count": 5,
      "outputs": []
    },
    {
      "cell_type": "code",
      "source": [
        "print(len(datas))"
      ],
      "metadata": {
        "colab": {
          "base_uri": "https://localhost:8080/"
        },
        "id": "nSBQUdbUql5J",
        "outputId": "d869846d-11e8-49ad-cb30-b7a05443109f"
      },
      "execution_count": 6,
      "outputs": [
        {
          "output_type": "stream",
          "name": "stdout",
          "text": [
            "21400\n"
          ]
        }
      ]
    },
    {
      "cell_type": "code",
      "source": [
        "translation_prompt = (\n",
        "    \"あなたは日本語に精通しているプロの翻訳者で、特に中国語の小説を原作者のスタイルを保ちつつ、わかりやすい日本語に翻訳することに長けています。以下の中国語の段落を日本語に翻訳し、中国語の原著に似たスタイルでお願いします。\"\n",
        "    \"ルール：\"\n",
        "    \"- 翻訳する際は、原文の事実や背景を正確に伝える必要があります。\"\n",
        "    \"- 意訳を行う場合でも、元の段落の形式を保ち、専門用語（例：FLAC、JPEGなど）もそのままにします。企業の略称もそのままにします（例：Microsoft、Amazon、OpenAIなど）。\"\n",
        "    \"- 人名は翻訳しません\"\n",
        "    \"戦略：\"\n",
        "    \"翻訳作業を以下の三つのステップで行い、各ステップの結果を出力します：\"\n",
        "    \"1. 中国語から日本語への直訳で、元の形式を保ち、どんな情報も省略せずに行います。\"\n",
        "    \"2. 第一ステップの直訳の結果に基づき、具体的な問題点を指摘します。具体的に説明し、一般的な表現を避け、原文に存在しない内容や形式を加える必要はありません。問題には以下が含まれます：\"\n",
        "    \"  - 日本語の表現に合っていない点を明確に指摘します。\"\n",
        "    \"  - 文章が不自然な箇所を指摘します。修正案は不要で、意訳で修正します。\"\n",
        "    \"  - 難解で理解しにくい点について、説明を試みることができます。\"\n",
        "    \"3. 第一ステップの直訳と第二ステップの問題点に基づき、中国語から日本語への意訳を再度行います。内容の本意を保ちつつ、より理解しやすく、日本語の表現に合ったものにします。元の形式はそのままにします。\"\n",
        "    \"結果はjson形式で返します。例えば以下のように、実際の出力ではシングルクォート（\\'）ではなくダブルクォート（\\\"）を使用します：\"\n",
        "    \"{\"\n",
        "    \"    \\\"直訳結果\\\": \\\"***\\\",\"\n",
        "    \"    \\\"直訳の具体的な問題リスト\\\": \\\"***\\\",\"\n",
        "    \"    \\\"意訳結果\\\": \\\"***\\\",\"\n",
        "    \"}\"\n",
        "    \"意訳結果の終わりには常にダブルクォート（\\\"）を使用してください。それでは、上記の要件に従って中国語を日本語に翻訳し、出力言語が日本語であることを確認してください。\"\n",
        "    )"
      ],
      "metadata": {
        "id": "9FsQEN2cqm1R"
      },
      "execution_count": 8,
      "outputs": []
    },
    {
      "cell_type": "code",
      "source": [
        "print(translation_prompt)"
      ],
      "metadata": {
        "colab": {
          "base_uri": "https://localhost:8080/"
        },
        "id": "-MvJXHz4rGRM",
        "outputId": "fa0ff347-1b6f-4558-96e5-0e78d1eb8a48"
      },
      "execution_count": 9,
      "outputs": [
        {
          "output_type": "stream",
          "name": "stdout",
          "text": [
            "あなたは日本語に精通しているプロの翻訳者で、特に中国語の小説を原作者のスタイルを保ちつつ、わかりやすい日本語に翻訳することに長けています。以下の中国語の段落を日本語に翻訳し、中国語の原著に似たスタイルでお願いします。ルール：- 翻訳する際は、原文の事実や背景を正確に伝える必要があります。- 意訳を行う場合でも、元の段落の形式を保ち、専門用語（例：FLAC、JPEGなど）もそのままにします。企業の略称もそのままにします（例：Microsoft、Amazon、OpenAIなど）。- 人名は翻訳しません戦略：翻訳作業を以下の三つのステップで行い、各ステップの結果を出力します：1. 中国語から日本語への直訳で、元の形式を保ち、どんな情報も省略せずに行います。2. 第一ステップの直訳の結果に基づき、具体的な問題点を指摘します。具体的に説明し、一般的な表現を避け、原文に存在しない内容や形式を加える必要はありません。問題には以下が含まれます：  - 日本語の表現に合っていない点を明確に指摘します。  - 文章が不自然な箇所を指摘します。修正案は不要で、意訳で修正します。  - 難解で理解しにくい点について、説明を試みることができます。3. 第一ステップの直訳と第二ステップの問題点に基づき、中国語から日本語への意訳を再度行います。内容の本意を保ちつつ、より理解しやすく、日本語の表現に合ったものにします。元の形式はそのままにします。結果はjson形式で返します。例えば以下のように、実際の出力ではシングルクォート（'）ではなくダブルクォート（\"）を使用します：{    \"直訳結果\": \"***\",    \"直訳の具体的な問題リスト\": \"***\",    \"意訳結果\": \"***\",}意訳結果の終わりには常にダブルクォート（\"）を使用してください。それでは、上記の要件に従って中国語を日本語に翻訳し、出力言語が日本語であることを確認してください。\n"
          ]
        }
      ]
    },
    {
      "cell_type": "code",
      "source": [
        "print(datas[0].keys())"
      ],
      "metadata": {
        "colab": {
          "base_uri": "https://localhost:8080/"
        },
        "id": "dkwJja48rGli",
        "outputId": "ab465efc-4466-421f-9d87-2dad224cf079"
      },
      "execution_count": 10,
      "outputs": [
        {
          "output_type": "stream",
          "name": "stdout",
          "text": [
            "dict_keys(['from', 'value'])\n"
          ]
        }
      ]
    },
    {
      "cell_type": "code",
      "source": [
        "query_datas = []\n",
        "\n",
        "for i, data in enumerate( datas ):\n",
        "    text = data[\"value\"]\n",
        "    messages = [\n",
        "        {\"role\":\"system\", \"content\":translation_prompt},\n",
        "        {\"role\":\"user\",\"content\":text}\n",
        "    ]\n",
        "    query_data = {\n",
        "        \"id\": str(i),\n",
        "        \"messages\":messages\n",
        "    }\n",
        "    query_datas.append(query_data)"
      ],
      "metadata": {
        "id": "OWJH8S9hqovZ"
      },
      "execution_count": 12,
      "outputs": []
    },
    {
      "cell_type": "code",
      "source": [
        "!pip install -q aiofiles tiktoken"
      ],
      "metadata": {
        "colab": {
          "base_uri": "https://localhost:8080/"
        },
        "id": "2fdG_WdwrVsy",
        "outputId": "6f287093-2590-412b-fb29-40df5721e132"
      },
      "execution_count": 13,
      "outputs": [
        {
          "output_type": "stream",
          "name": "stdout",
          "text": [
            "\u001b[2K     \u001b[90m━━━━━━━━━━━━━━━━━━━━━━━━━━━━━━━━━━━━━━━━\u001b[0m \u001b[32m2.0/2.0 MB\u001b[0m \u001b[31m8.6 MB/s\u001b[0m eta \u001b[36m0:00:00\u001b[0m\n",
            "\u001b[?25h\u001b[31mERROR: pip's dependency resolver does not currently take into account all the packages that are installed. This behaviour is the source of the following dependency conflicts.\n",
            "llmx 0.0.15a0 requires cohere, which is not installed.\u001b[0m\u001b[31m\n",
            "\u001b[0m"
          ]
        }
      ]
    },
    {
      "cell_type": "code",
      "source": [
        "import os\n",
        "import json\n",
        "import time\n",
        "# import openai\n",
        "from openai import AsyncOpenAI\n",
        "\n",
        "aclient = AsyncOpenAI()\n",
        "\n",
        "import asyncio\n",
        "import aiofiles\n",
        "import tiktoken\n",
        "import hashlib\n",
        "# from connector import AsyncPGConnector\n",
        "from tqdm.asyncio import tqdm as tqdm\n",
        "\n",
        "enc = tiktoken.encoding_for_model(\"gpt-3.5-turbo\")\n",
        "en2zh_ratio = 2.3\n",
        "\n",
        "delay = 1\n",
        "concurrency_limit = 16\n",
        "\n",
        "max_file_size = 1024**3"
      ],
      "metadata": {
        "id": "AK2E3fmUrgTF"
      },
      "execution_count": 14,
      "outputs": []
    },
    {
      "cell_type": "code",
      "source": [
        "async def dealing_messages(messages):\n",
        "    try:\n",
        "        # request_token = sum([len(enc.encode(msg['content'])) for msg in messages])\n",
        "        # response_token = int(len(enc.encode(text)) * en2zh_ratio) + 64\n",
        "\n",
        "        model = \"gpt-3.5-turbo-1106\"\n",
        "\n",
        "        resp = await aclient.chat.completions.create(\n",
        "            model=model,\n",
        "            messages=messages,\n",
        "            temperature=0,\n",
        "            response_format={ \"type\": \"json_object\" }\n",
        "        )\n",
        "\n",
        "        try:\n",
        "            result = resp.choices[0].message.content\n",
        "            result = result.strip()\n",
        "            return result\n",
        "        except json.JSONDecodeError:\n",
        "            print(\"Invalid json: \", result)\n",
        "            return None\n",
        "        except:\n",
        "            raise Exception(f\"Invalid API response: {resp}\")\n",
        "\n",
        "    except Exception as e:\n",
        "        print(f\"[Error] {e}\")\n",
        "        return None\n"
      ],
      "metadata": {
        "id": "pTQ0satyrj1I"
      },
      "execution_count": 20,
      "outputs": []
    },
    {
      "cell_type": "code",
      "source": [
        "async def getTranslation(item):\n",
        "    if \"messages\" not in item:\n",
        "        return None\n",
        "    else:\n",
        "        for i in range(3):\n",
        "            result = await dealing_messages(item['messages'])\n",
        "            if result is not None:\n",
        "                item[\"response\"] = result\n",
        "                return item\n",
        "            else:\n",
        "                continue\n",
        "\n",
        "    return None\n",
        "\n",
        "async def process(item, semaphore):\n",
        "    async with semaphore:\n",
        "        try:\n",
        "            output_folder = \"/content/output\"\n",
        "            if \"output_folder\" in item:\n",
        "                output_folder = item[\"output_folder\"]\n",
        "            if not os.path.exists(output_folder):\n",
        "                os.makedirs(output_folder)\n",
        "\n",
        "            file_path = os.path.join(output_folder, f\"{item['id']}.txt\")\n",
        "\n",
        "            if os.path.exists(file_path):\n",
        "                return\n",
        "\n",
        "            it = await getTranslation(item)\n",
        "            if it is None:\n",
        "                raise Exception(item['id'])\n",
        "\n",
        "            with open(file_path, 'w', encoding='utf-8') as f:\n",
        "                json.dump(it, f, ensure_ascii=False)\n",
        "\n",
        "        except Exception as e:\n",
        "            print(f\"Error processing entry: {e}\")"
      ],
      "metadata": {
        "id": "x6V_cTKwrrvf"
      },
      "execution_count": 21,
      "outputs": []
    },
    {
      "cell_type": "code",
      "source": [
        "async def main(datas):\n",
        "\n",
        "    output_folder = \"/content/output\"\n",
        "\n",
        "    process_data = []\n",
        "\n",
        "    for data in datas:\n",
        "        id = data['id']\n",
        "        process_data.append({\n",
        "            \"id\": id,\n",
        "            \"messages\": data[\"messages\"],\n",
        "            \"output_folder\": output_folder\n",
        "        })\n",
        "\n",
        "    tasks = []\n",
        "\n",
        "    semaphore = asyncio.Semaphore(concurrency_limit)\n",
        "\n",
        "    if not os.path.exists(output_folder):\n",
        "        os.makedirs(output_folder)\n",
        "\n",
        "    # # print(f\"Already processed {len(exist_list)} items...\")\n",
        "\n",
        "    # id = set()\n",
        "\n",
        "    for item in process_data:\n",
        "        file_path = os.path.join(output_folder, f\"{item['id']}.txt\")\n",
        "\n",
        "        if os.path.exists(file_path):\n",
        "            continue\n",
        "\n",
        "        tasks.append(asyncio.create_task(process(item, semaphore)))\n",
        "\n",
        "    async for task in tqdm(tasks, total=len(tasks), desc=\"Processing items\"):\n",
        "        await task\n",
        "        time.sleep(delay)\n",
        "\n"
      ],
      "metadata": {
        "id": "MhahyjPbruS4"
      },
      "execution_count": 22,
      "outputs": []
    },
    {
      "cell_type": "code",
      "source": [
        "datas = query_datas"
      ],
      "metadata": {
        "id": "cpAvpFfZr4oG"
      },
      "execution_count": 23,
      "outputs": []
    },
    {
      "cell_type": "code",
      "source": [
        "start_id = 0\n",
        "end_id = 10\n",
        "\n",
        "current_tasks = datas[start_id:end_id]\n",
        "\n",
        "await main(current_tasks)\n",
        "\n",
        "temp_output_folder = \"/content/output\"\n",
        "\n",
        "for id in range(start_id, end_id):\n",
        "    id_str = datas[id][\"id\"]\n",
        "    file_path = os.path.join(temp_output_folder, f\"{id_str}.txt\")\n",
        "    if os.path.exists(file_path):\n",
        "        with open(file_path, 'r', encoding='utf-8') as f:\n",
        "            try:\n",
        "                data = json.load(f)\n",
        "                response = data[\"response\"]\n",
        "            except:\n",
        "                continue\n",
        "\n",
        "        if response is not None:\n",
        "            datas[id][\"response\"] = response\n",
        "    # break\n",
        "\n",
        "final_save_name = \"/content/drive/MyDrive/CardBuild/exp0131/output/\" + str(start_id) + \"_to_\" + str(end_id) + \".txt\"\n",
        "\n",
        "with open(final_save_name, 'w', encoding='utf-8') as f:\n",
        "    for id in range(start_id, end_id):\n",
        "        json.dump(datas[id], f, ensure_ascii=False)\n",
        "        f.write('\\n')"
      ],
      "metadata": {
        "colab": {
          "base_uri": "https://localhost:8080/"
        },
        "id": "V7zdzxLar-7E",
        "outputId": "a4bbd6f5-033a-4036-c5a6-12578e8ad1c2"
      },
      "execution_count": 19,
      "outputs": [
        {
          "output_type": "stream",
          "name": "stderr",
          "text": [
            "Processing items: 100%|██████████| 10/10 [00:44<00:00,  4.45s/it]\n"
          ]
        }
      ]
    },
    {
      "cell_type": "code",
      "source": [
        "super_start = 10\n",
        "super_end = len(datas)\n",
        "n_bag = 50\n",
        "\n",
        "# 计算每个子区间的长度\n",
        "interval_length = (super_end - super_start) // n_bag\n",
        "\n",
        "# 生成元组列表\n",
        "se_tuples_list = [(super_start + i * interval_length, super_start + (i + 1) * interval_length) for i in range(n_bag - 1)]\n",
        "\n",
        "# 添加最后一个元组，确保最后一个end等于super_end\n",
        "se_tuples_list.append((se_tuples_list[-1][1], super_end))\n",
        "\n",
        "# 打印生成的元组列表\n",
        "print(se_tuples_list[0:2])\n",
        "print(se_tuples_list[-2:])\n",
        "\n",
        "\n"
      ],
      "metadata": {
        "colab": {
          "base_uri": "https://localhost:8080/"
        },
        "id": "UrzOJopesNT3",
        "outputId": "a4a27641-d612-477f-dfe4-494ceeaf99a9"
      },
      "execution_count": 26,
      "outputs": [
        {
          "output_type": "stream",
          "name": "stdout",
          "text": [
            "[(10, 437), (437, 864)]\n",
            "[(20506, 20933), (20933, 21400)]\n"
          ]
        }
      ]
    },
    {
      "cell_type": "code",
      "source": [
        "for start_id, end_id in se_tuples_list:\n",
        "    current_tasks = datas[start_id:end_id]\n",
        "\n",
        "    final_save_name = \"/content/drive/MyDrive/CardBuild/exp0131/output/\" + str(start_id) + \"_to_\" + str(end_id) + \".txt\"\n",
        "\n",
        "    if os.path.exists(final_save_name):\n",
        "        continue\n",
        "\n",
        "    await main(current_tasks)\n",
        "\n",
        "    temp_output_folder = \"/content/output\"\n",
        "\n",
        "    for id in range(start_id, end_id):\n",
        "        id_str = datas[id][\"id\"]\n",
        "        file_path = os.path.join(temp_output_folder, f\"{id_str}.txt\")\n",
        "        if os.path.exists(file_path):\n",
        "            with open(file_path, 'r', encoding='utf-8') as f:\n",
        "                try:\n",
        "                    data = json.load(f)\n",
        "                    response = data[\"response\"]\n",
        "                except:\n",
        "                    continue\n",
        "\n",
        "            if response is not None:\n",
        "                datas[id][\"response\"] = response\n",
        "        # break\n",
        "\n",
        "\n",
        "\n",
        "    with open(final_save_name, 'w', encoding='utf-8') as f:\n",
        "        for id in range(start_id, end_id):\n",
        "            json.dump(datas[id], f, ensure_ascii=False)\n",
        "            f.write('\\n')"
      ],
      "metadata": {
        "colab": {
          "base_uri": "https://localhost:8080/"
        },
        "id": "L20aFAwCtO96",
        "outputId": "5ff35ed7-af71-4d8d-c671-c05fd768c308"
      },
      "execution_count": null,
      "outputs": [
        {
          "output_type": "stream",
          "name": "stderr",
          "text": [
            "Processing items:   5%|▌         | 20/382 [00:48<06:12,  1.03s/it]"
          ]
        }
      ]
    },
    {
      "cell_type": "code",
      "source": [],
      "metadata": {
        "id": "BbEk9m2otYxg"
      },
      "execution_count": null,
      "outputs": []
    }
  ]
}