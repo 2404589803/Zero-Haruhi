{
  "nbformat": 4,
  "nbformat_minor": 0,
  "metadata": {
    "colab": {
      "provenance": [],
      "authorship_tag": "ABX9TyPLZcQu0i967dt1EAtWaV2e",
      "include_colab_link": true
    },
    "kernelspec": {
      "name": "python3",
      "display_name": "Python 3"
    },
    "language_info": {
      "name": "python"
    },
    "widgets": {
      "application/vnd.jupyter.widget-state+json": {
        "fbf2d309e1c6494faea6f1170aebd428": {
          "model_module": "@jupyter-widgets/controls",
          "model_name": "HBoxModel",
          "model_module_version": "1.5.0",
          "state": {
            "_dom_classes": [],
            "_model_module": "@jupyter-widgets/controls",
            "_model_module_version": "1.5.0",
            "_model_name": "HBoxModel",
            "_view_count": null,
            "_view_module": "@jupyter-widgets/controls",
            "_view_module_version": "1.5.0",
            "_view_name": "HBoxView",
            "box_style": "",
            "children": [
              "IPY_MODEL_0f0f4a1546bc43a7926511c7307aa8f5",
              "IPY_MODEL_e095d69f5ab94611a0da75cd2c11d63b",
              "IPY_MODEL_bb51008696c345e6bfe92066aa2c2ebc"
            ],
            "layout": "IPY_MODEL_550bacbcdf04423992b516b733e09622"
          }
        },
        "0f0f4a1546bc43a7926511c7307aa8f5": {
          "model_module": "@jupyter-widgets/controls",
          "model_name": "HTMLModel",
          "model_module_version": "1.5.0",
          "state": {
            "_dom_classes": [],
            "_model_module": "@jupyter-widgets/controls",
            "_model_module_version": "1.5.0",
            "_model_name": "HTMLModel",
            "_view_count": null,
            "_view_module": "@jupyter-widgets/controls",
            "_view_module_version": "1.5.0",
            "_view_name": "HTMLView",
            "description": "",
            "description_tooltip": null,
            "layout": "IPY_MODEL_8c739d5a1f4e4120935dc6de2ca14401",
            "placeholder": "​",
            "style": "IPY_MODEL_0a9a7e5477194488af175a96acd15d7b",
            "value": "Downloading readme: 100%"
          }
        },
        "e095d69f5ab94611a0da75cd2c11d63b": {
          "model_module": "@jupyter-widgets/controls",
          "model_name": "FloatProgressModel",
          "model_module_version": "1.5.0",
          "state": {
            "_dom_classes": [],
            "_model_module": "@jupyter-widgets/controls",
            "_model_module_version": "1.5.0",
            "_model_name": "FloatProgressModel",
            "_view_count": null,
            "_view_module": "@jupyter-widgets/controls",
            "_view_module_version": "1.5.0",
            "_view_name": "ProgressView",
            "bar_style": "success",
            "description": "",
            "description_tooltip": null,
            "layout": "IPY_MODEL_d046a2d9541340cc97432fbf31ac9a83",
            "max": 932,
            "min": 0,
            "orientation": "horizontal",
            "style": "IPY_MODEL_2e3fedc18f5e436e9b3a29d9e94a664a",
            "value": 932
          }
        },
        "bb51008696c345e6bfe92066aa2c2ebc": {
          "model_module": "@jupyter-widgets/controls",
          "model_name": "HTMLModel",
          "model_module_version": "1.5.0",
          "state": {
            "_dom_classes": [],
            "_model_module": "@jupyter-widgets/controls",
            "_model_module_version": "1.5.0",
            "_model_name": "HTMLModel",
            "_view_count": null,
            "_view_module": "@jupyter-widgets/controls",
            "_view_module_version": "1.5.0",
            "_view_name": "HTMLView",
            "description": "",
            "description_tooltip": null,
            "layout": "IPY_MODEL_e4e01872733a488e86a0ac46efffd68f",
            "placeholder": "​",
            "style": "IPY_MODEL_a41e4b2fe99a408682ba872b10186bc3",
            "value": " 932/932 [00:00&lt;00:00, 19.5kB/s]"
          }
        },
        "550bacbcdf04423992b516b733e09622": {
          "model_module": "@jupyter-widgets/base",
          "model_name": "LayoutModel",
          "model_module_version": "1.2.0",
          "state": {
            "_model_module": "@jupyter-widgets/base",
            "_model_module_version": "1.2.0",
            "_model_name": "LayoutModel",
            "_view_count": null,
            "_view_module": "@jupyter-widgets/base",
            "_view_module_version": "1.2.0",
            "_view_name": "LayoutView",
            "align_content": null,
            "align_items": null,
            "align_self": null,
            "border": null,
            "bottom": null,
            "display": null,
            "flex": null,
            "flex_flow": null,
            "grid_area": null,
            "grid_auto_columns": null,
            "grid_auto_flow": null,
            "grid_auto_rows": null,
            "grid_column": null,
            "grid_gap": null,
            "grid_row": null,
            "grid_template_areas": null,
            "grid_template_columns": null,
            "grid_template_rows": null,
            "height": null,
            "justify_content": null,
            "justify_items": null,
            "left": null,
            "margin": null,
            "max_height": null,
            "max_width": null,
            "min_height": null,
            "min_width": null,
            "object_fit": null,
            "object_position": null,
            "order": null,
            "overflow": null,
            "overflow_x": null,
            "overflow_y": null,
            "padding": null,
            "right": null,
            "top": null,
            "visibility": null,
            "width": null
          }
        },
        "8c739d5a1f4e4120935dc6de2ca14401": {
          "model_module": "@jupyter-widgets/base",
          "model_name": "LayoutModel",
          "model_module_version": "1.2.0",
          "state": {
            "_model_module": "@jupyter-widgets/base",
            "_model_module_version": "1.2.0",
            "_model_name": "LayoutModel",
            "_view_count": null,
            "_view_module": "@jupyter-widgets/base",
            "_view_module_version": "1.2.0",
            "_view_name": "LayoutView",
            "align_content": null,
            "align_items": null,
            "align_self": null,
            "border": null,
            "bottom": null,
            "display": null,
            "flex": null,
            "flex_flow": null,
            "grid_area": null,
            "grid_auto_columns": null,
            "grid_auto_flow": null,
            "grid_auto_rows": null,
            "grid_column": null,
            "grid_gap": null,
            "grid_row": null,
            "grid_template_areas": null,
            "grid_template_columns": null,
            "grid_template_rows": null,
            "height": null,
            "justify_content": null,
            "justify_items": null,
            "left": null,
            "margin": null,
            "max_height": null,
            "max_width": null,
            "min_height": null,
            "min_width": null,
            "object_fit": null,
            "object_position": null,
            "order": null,
            "overflow": null,
            "overflow_x": null,
            "overflow_y": null,
            "padding": null,
            "right": null,
            "top": null,
            "visibility": null,
            "width": null
          }
        },
        "0a9a7e5477194488af175a96acd15d7b": {
          "model_module": "@jupyter-widgets/controls",
          "model_name": "DescriptionStyleModel",
          "model_module_version": "1.5.0",
          "state": {
            "_model_module": "@jupyter-widgets/controls",
            "_model_module_version": "1.5.0",
            "_model_name": "DescriptionStyleModel",
            "_view_count": null,
            "_view_module": "@jupyter-widgets/base",
            "_view_module_version": "1.2.0",
            "_view_name": "StyleView",
            "description_width": ""
          }
        },
        "d046a2d9541340cc97432fbf31ac9a83": {
          "model_module": "@jupyter-widgets/base",
          "model_name": "LayoutModel",
          "model_module_version": "1.2.0",
          "state": {
            "_model_module": "@jupyter-widgets/base",
            "_model_module_version": "1.2.0",
            "_model_name": "LayoutModel",
            "_view_count": null,
            "_view_module": "@jupyter-widgets/base",
            "_view_module_version": "1.2.0",
            "_view_name": "LayoutView",
            "align_content": null,
            "align_items": null,
            "align_self": null,
            "border": null,
            "bottom": null,
            "display": null,
            "flex": null,
            "flex_flow": null,
            "grid_area": null,
            "grid_auto_columns": null,
            "grid_auto_flow": null,
            "grid_auto_rows": null,
            "grid_column": null,
            "grid_gap": null,
            "grid_row": null,
            "grid_template_areas": null,
            "grid_template_columns": null,
            "grid_template_rows": null,
            "height": null,
            "justify_content": null,
            "justify_items": null,
            "left": null,
            "margin": null,
            "max_height": null,
            "max_width": null,
            "min_height": null,
            "min_width": null,
            "object_fit": null,
            "object_position": null,
            "order": null,
            "overflow": null,
            "overflow_x": null,
            "overflow_y": null,
            "padding": null,
            "right": null,
            "top": null,
            "visibility": null,
            "width": null
          }
        },
        "2e3fedc18f5e436e9b3a29d9e94a664a": {
          "model_module": "@jupyter-widgets/controls",
          "model_name": "ProgressStyleModel",
          "model_module_version": "1.5.0",
          "state": {
            "_model_module": "@jupyter-widgets/controls",
            "_model_module_version": "1.5.0",
            "_model_name": "ProgressStyleModel",
            "_view_count": null,
            "_view_module": "@jupyter-widgets/base",
            "_view_module_version": "1.2.0",
            "_view_name": "StyleView",
            "bar_color": null,
            "description_width": ""
          }
        },
        "e4e01872733a488e86a0ac46efffd68f": {
          "model_module": "@jupyter-widgets/base",
          "model_name": "LayoutModel",
          "model_module_version": "1.2.0",
          "state": {
            "_model_module": "@jupyter-widgets/base",
            "_model_module_version": "1.2.0",
            "_model_name": "LayoutModel",
            "_view_count": null,
            "_view_module": "@jupyter-widgets/base",
            "_view_module_version": "1.2.0",
            "_view_name": "LayoutView",
            "align_content": null,
            "align_items": null,
            "align_self": null,
            "border": null,
            "bottom": null,
            "display": null,
            "flex": null,
            "flex_flow": null,
            "grid_area": null,
            "grid_auto_columns": null,
            "grid_auto_flow": null,
            "grid_auto_rows": null,
            "grid_column": null,
            "grid_gap": null,
            "grid_row": null,
            "grid_template_areas": null,
            "grid_template_columns": null,
            "grid_template_rows": null,
            "height": null,
            "justify_content": null,
            "justify_items": null,
            "left": null,
            "margin": null,
            "max_height": null,
            "max_width": null,
            "min_height": null,
            "min_width": null,
            "object_fit": null,
            "object_position": null,
            "order": null,
            "overflow": null,
            "overflow_x": null,
            "overflow_y": null,
            "padding": null,
            "right": null,
            "top": null,
            "visibility": null,
            "width": null
          }
        },
        "a41e4b2fe99a408682ba872b10186bc3": {
          "model_module": "@jupyter-widgets/controls",
          "model_name": "DescriptionStyleModel",
          "model_module_version": "1.5.0",
          "state": {
            "_model_module": "@jupyter-widgets/controls",
            "_model_module_version": "1.5.0",
            "_model_name": "DescriptionStyleModel",
            "_view_count": null,
            "_view_module": "@jupyter-widgets/base",
            "_view_module_version": "1.2.0",
            "_view_name": "StyleView",
            "description_width": ""
          }
        },
        "f10746210b294128a2df8455e8afbbfd": {
          "model_module": "@jupyter-widgets/controls",
          "model_name": "HBoxModel",
          "model_module_version": "1.5.0",
          "state": {
            "_dom_classes": [],
            "_model_module": "@jupyter-widgets/controls",
            "_model_module_version": "1.5.0",
            "_model_name": "HBoxModel",
            "_view_count": null,
            "_view_module": "@jupyter-widgets/controls",
            "_view_module_version": "1.5.0",
            "_view_name": "HBoxView",
            "box_style": "",
            "children": [
              "IPY_MODEL_ec9ae79c0e974bb1bee6ebe513bbbc18",
              "IPY_MODEL_54e52f3622e64842a24f6ac0c0cd5e9c",
              "IPY_MODEL_dea7ba883bff4e7a8ceb81b3bb39b862"
            ],
            "layout": "IPY_MODEL_06ff3266c64e4fd2bddc6d2a3bae7381"
          }
        },
        "ec9ae79c0e974bb1bee6ebe513bbbc18": {
          "model_module": "@jupyter-widgets/controls",
          "model_name": "HTMLModel",
          "model_module_version": "1.5.0",
          "state": {
            "_dom_classes": [],
            "_model_module": "@jupyter-widgets/controls",
            "_model_module_version": "1.5.0",
            "_model_name": "HTMLModel",
            "_view_count": null,
            "_view_module": "@jupyter-widgets/controls",
            "_view_module_version": "1.5.0",
            "_view_name": "HTMLView",
            "description": "",
            "description_tooltip": null,
            "layout": "IPY_MODEL_8770ce65b3ea479d95838bebd6b60fa6",
            "placeholder": "​",
            "style": "IPY_MODEL_4fd69e0077f64ecfa157cb6e9fd42568",
            "value": "Downloading data: 100%"
          }
        },
        "54e52f3622e64842a24f6ac0c0cd5e9c": {
          "model_module": "@jupyter-widgets/controls",
          "model_name": "FloatProgressModel",
          "model_module_version": "1.5.0",
          "state": {
            "_dom_classes": [],
            "_model_module": "@jupyter-widgets/controls",
            "_model_module_version": "1.5.0",
            "_model_name": "FloatProgressModel",
            "_view_count": null,
            "_view_module": "@jupyter-widgets/controls",
            "_view_module_version": "1.5.0",
            "_view_name": "ProgressView",
            "bar_style": "success",
            "description": "",
            "description_tooltip": null,
            "layout": "IPY_MODEL_9deee4c26f4648db8fded9d5342ece56",
            "max": 9642971,
            "min": 0,
            "orientation": "horizontal",
            "style": "IPY_MODEL_cca8055697c24c2fba6642ab07cce5cf",
            "value": 9642971
          }
        },
        "dea7ba883bff4e7a8ceb81b3bb39b862": {
          "model_module": "@jupyter-widgets/controls",
          "model_name": "HTMLModel",
          "model_module_version": "1.5.0",
          "state": {
            "_dom_classes": [],
            "_model_module": "@jupyter-widgets/controls",
            "_model_module_version": "1.5.0",
            "_model_name": "HTMLModel",
            "_view_count": null,
            "_view_module": "@jupyter-widgets/controls",
            "_view_module_version": "1.5.0",
            "_view_name": "HTMLView",
            "description": "",
            "description_tooltip": null,
            "layout": "IPY_MODEL_eb02a2d69b8a47898f200a99c4b8fd89",
            "placeholder": "​",
            "style": "IPY_MODEL_5947ef3e2e984e56a53bb81c035f4ac7",
            "value": " 9.64M/9.64M [00:01&lt;00:00, 9.82MB/s]"
          }
        },
        "06ff3266c64e4fd2bddc6d2a3bae7381": {
          "model_module": "@jupyter-widgets/base",
          "model_name": "LayoutModel",
          "model_module_version": "1.2.0",
          "state": {
            "_model_module": "@jupyter-widgets/base",
            "_model_module_version": "1.2.0",
            "_model_name": "LayoutModel",
            "_view_count": null,
            "_view_module": "@jupyter-widgets/base",
            "_view_module_version": "1.2.0",
            "_view_name": "LayoutView",
            "align_content": null,
            "align_items": null,
            "align_self": null,
            "border": null,
            "bottom": null,
            "display": null,
            "flex": null,
            "flex_flow": null,
            "grid_area": null,
            "grid_auto_columns": null,
            "grid_auto_flow": null,
            "grid_auto_rows": null,
            "grid_column": null,
            "grid_gap": null,
            "grid_row": null,
            "grid_template_areas": null,
            "grid_template_columns": null,
            "grid_template_rows": null,
            "height": null,
            "justify_content": null,
            "justify_items": null,
            "left": null,
            "margin": null,
            "max_height": null,
            "max_width": null,
            "min_height": null,
            "min_width": null,
            "object_fit": null,
            "object_position": null,
            "order": null,
            "overflow": null,
            "overflow_x": null,
            "overflow_y": null,
            "padding": null,
            "right": null,
            "top": null,
            "visibility": null,
            "width": null
          }
        },
        "8770ce65b3ea479d95838bebd6b60fa6": {
          "model_module": "@jupyter-widgets/base",
          "model_name": "LayoutModel",
          "model_module_version": "1.2.0",
          "state": {
            "_model_module": "@jupyter-widgets/base",
            "_model_module_version": "1.2.0",
            "_model_name": "LayoutModel",
            "_view_count": null,
            "_view_module": "@jupyter-widgets/base",
            "_view_module_version": "1.2.0",
            "_view_name": "LayoutView",
            "align_content": null,
            "align_items": null,
            "align_self": null,
            "border": null,
            "bottom": null,
            "display": null,
            "flex": null,
            "flex_flow": null,
            "grid_area": null,
            "grid_auto_columns": null,
            "grid_auto_flow": null,
            "grid_auto_rows": null,
            "grid_column": null,
            "grid_gap": null,
            "grid_row": null,
            "grid_template_areas": null,
            "grid_template_columns": null,
            "grid_template_rows": null,
            "height": null,
            "justify_content": null,
            "justify_items": null,
            "left": null,
            "margin": null,
            "max_height": null,
            "max_width": null,
            "min_height": null,
            "min_width": null,
            "object_fit": null,
            "object_position": null,
            "order": null,
            "overflow": null,
            "overflow_x": null,
            "overflow_y": null,
            "padding": null,
            "right": null,
            "top": null,
            "visibility": null,
            "width": null
          }
        },
        "4fd69e0077f64ecfa157cb6e9fd42568": {
          "model_module": "@jupyter-widgets/controls",
          "model_name": "DescriptionStyleModel",
          "model_module_version": "1.5.0",
          "state": {
            "_model_module": "@jupyter-widgets/controls",
            "_model_module_version": "1.5.0",
            "_model_name": "DescriptionStyleModel",
            "_view_count": null,
            "_view_module": "@jupyter-widgets/base",
            "_view_module_version": "1.2.0",
            "_view_name": "StyleView",
            "description_width": ""
          }
        },
        "9deee4c26f4648db8fded9d5342ece56": {
          "model_module": "@jupyter-widgets/base",
          "model_name": "LayoutModel",
          "model_module_version": "1.2.0",
          "state": {
            "_model_module": "@jupyter-widgets/base",
            "_model_module_version": "1.2.0",
            "_model_name": "LayoutModel",
            "_view_count": null,
            "_view_module": "@jupyter-widgets/base",
            "_view_module_version": "1.2.0",
            "_view_name": "LayoutView",
            "align_content": null,
            "align_items": null,
            "align_self": null,
            "border": null,
            "bottom": null,
            "display": null,
            "flex": null,
            "flex_flow": null,
            "grid_area": null,
            "grid_auto_columns": null,
            "grid_auto_flow": null,
            "grid_auto_rows": null,
            "grid_column": null,
            "grid_gap": null,
            "grid_row": null,
            "grid_template_areas": null,
            "grid_template_columns": null,
            "grid_template_rows": null,
            "height": null,
            "justify_content": null,
            "justify_items": null,
            "left": null,
            "margin": null,
            "max_height": null,
            "max_width": null,
            "min_height": null,
            "min_width": null,
            "object_fit": null,
            "object_position": null,
            "order": null,
            "overflow": null,
            "overflow_x": null,
            "overflow_y": null,
            "padding": null,
            "right": null,
            "top": null,
            "visibility": null,
            "width": null
          }
        },
        "cca8055697c24c2fba6642ab07cce5cf": {
          "model_module": "@jupyter-widgets/controls",
          "model_name": "ProgressStyleModel",
          "model_module_version": "1.5.0",
          "state": {
            "_model_module": "@jupyter-widgets/controls",
            "_model_module_version": "1.5.0",
            "_model_name": "ProgressStyleModel",
            "_view_count": null,
            "_view_module": "@jupyter-widgets/base",
            "_view_module_version": "1.2.0",
            "_view_name": "StyleView",
            "bar_color": null,
            "description_width": ""
          }
        },
        "eb02a2d69b8a47898f200a99c4b8fd89": {
          "model_module": "@jupyter-widgets/base",
          "model_name": "LayoutModel",
          "model_module_version": "1.2.0",
          "state": {
            "_model_module": "@jupyter-widgets/base",
            "_model_module_version": "1.2.0",
            "_model_name": "LayoutModel",
            "_view_count": null,
            "_view_module": "@jupyter-widgets/base",
            "_view_module_version": "1.2.0",
            "_view_name": "LayoutView",
            "align_content": null,
            "align_items": null,
            "align_self": null,
            "border": null,
            "bottom": null,
            "display": null,
            "flex": null,
            "flex_flow": null,
            "grid_area": null,
            "grid_auto_columns": null,
            "grid_auto_flow": null,
            "grid_auto_rows": null,
            "grid_column": null,
            "grid_gap": null,
            "grid_row": null,
            "grid_template_areas": null,
            "grid_template_columns": null,
            "grid_template_rows": null,
            "height": null,
            "justify_content": null,
            "justify_items": null,
            "left": null,
            "margin": null,
            "max_height": null,
            "max_width": null,
            "min_height": null,
            "min_width": null,
            "object_fit": null,
            "object_position": null,
            "order": null,
            "overflow": null,
            "overflow_x": null,
            "overflow_y": null,
            "padding": null,
            "right": null,
            "top": null,
            "visibility": null,
            "width": null
          }
        },
        "5947ef3e2e984e56a53bb81c035f4ac7": {
          "model_module": "@jupyter-widgets/controls",
          "model_name": "DescriptionStyleModel",
          "model_module_version": "1.5.0",
          "state": {
            "_model_module": "@jupyter-widgets/controls",
            "_model_module_version": "1.5.0",
            "_model_name": "DescriptionStyleModel",
            "_view_count": null,
            "_view_module": "@jupyter-widgets/base",
            "_view_module_version": "1.2.0",
            "_view_name": "StyleView",
            "description_width": ""
          }
        },
        "27971260f97e48f8827a139df2cdf9a8": {
          "model_module": "@jupyter-widgets/controls",
          "model_name": "HBoxModel",
          "model_module_version": "1.5.0",
          "state": {
            "_dom_classes": [],
            "_model_module": "@jupyter-widgets/controls",
            "_model_module_version": "1.5.0",
            "_model_name": "HBoxModel",
            "_view_count": null,
            "_view_module": "@jupyter-widgets/controls",
            "_view_module_version": "1.5.0",
            "_view_name": "HBoxView",
            "box_style": "",
            "children": [
              "IPY_MODEL_9d12ff476c0b4caeb1a4b7e2b3cb3d8b",
              "IPY_MODEL_85b6d49524fc47e8a355e46521261420",
              "IPY_MODEL_ff107bc886164cb8bedb92a0a7c5fc75"
            ],
            "layout": "IPY_MODEL_9b89c7e5d9f44c77b6a994e3c8db2bd4"
          }
        },
        "9d12ff476c0b4caeb1a4b7e2b3cb3d8b": {
          "model_module": "@jupyter-widgets/controls",
          "model_name": "HTMLModel",
          "model_module_version": "1.5.0",
          "state": {
            "_dom_classes": [],
            "_model_module": "@jupyter-widgets/controls",
            "_model_module_version": "1.5.0",
            "_model_name": "HTMLModel",
            "_view_count": null,
            "_view_module": "@jupyter-widgets/controls",
            "_view_module_version": "1.5.0",
            "_view_name": "HTMLView",
            "description": "",
            "description_tooltip": null,
            "layout": "IPY_MODEL_9415aa2ff6584b8da826a1c0fdee8123",
            "placeholder": "​",
            "style": "IPY_MODEL_263918e0dedd45ebb5733fd1b041c1f2",
            "value": "Generating train split: "
          }
        },
        "85b6d49524fc47e8a355e46521261420": {
          "model_module": "@jupyter-widgets/controls",
          "model_name": "FloatProgressModel",
          "model_module_version": "1.5.0",
          "state": {
            "_dom_classes": [],
            "_model_module": "@jupyter-widgets/controls",
            "_model_module_version": "1.5.0",
            "_model_name": "FloatProgressModel",
            "_view_count": null,
            "_view_module": "@jupyter-widgets/controls",
            "_view_module_version": "1.5.0",
            "_view_name": "ProgressView",
            "bar_style": "success",
            "description": "",
            "description_tooltip": null,
            "layout": "IPY_MODEL_54e06fe524854e4ba453273a3f0b6e3e",
            "max": 1,
            "min": 0,
            "orientation": "horizontal",
            "style": "IPY_MODEL_f90e17b7924546a08eb325f707c18519",
            "value": 1
          }
        },
        "ff107bc886164cb8bedb92a0a7c5fc75": {
          "model_module": "@jupyter-widgets/controls",
          "model_name": "HTMLModel",
          "model_module_version": "1.5.0",
          "state": {
            "_dom_classes": [],
            "_model_module": "@jupyter-widgets/controls",
            "_model_module_version": "1.5.0",
            "_model_name": "HTMLModel",
            "_view_count": null,
            "_view_module": "@jupyter-widgets/controls",
            "_view_module_version": "1.5.0",
            "_view_name": "HTMLView",
            "description": "",
            "description_tooltip": null,
            "layout": "IPY_MODEL_b9454e01c5994dc8b9c60a64d07ffc45",
            "placeholder": "​",
            "style": "IPY_MODEL_ec9a999859e8409abc123a5eb072c3bc",
            "value": " 2140/0 [00:00&lt;00:00, 6242.20 examples/s]"
          }
        },
        "9b89c7e5d9f44c77b6a994e3c8db2bd4": {
          "model_module": "@jupyter-widgets/base",
          "model_name": "LayoutModel",
          "model_module_version": "1.2.0",
          "state": {
            "_model_module": "@jupyter-widgets/base",
            "_model_module_version": "1.2.0",
            "_model_name": "LayoutModel",
            "_view_count": null,
            "_view_module": "@jupyter-widgets/base",
            "_view_module_version": "1.2.0",
            "_view_name": "LayoutView",
            "align_content": null,
            "align_items": null,
            "align_self": null,
            "border": null,
            "bottom": null,
            "display": null,
            "flex": null,
            "flex_flow": null,
            "grid_area": null,
            "grid_auto_columns": null,
            "grid_auto_flow": null,
            "grid_auto_rows": null,
            "grid_column": null,
            "grid_gap": null,
            "grid_row": null,
            "grid_template_areas": null,
            "grid_template_columns": null,
            "grid_template_rows": null,
            "height": null,
            "justify_content": null,
            "justify_items": null,
            "left": null,
            "margin": null,
            "max_height": null,
            "max_width": null,
            "min_height": null,
            "min_width": null,
            "object_fit": null,
            "object_position": null,
            "order": null,
            "overflow": null,
            "overflow_x": null,
            "overflow_y": null,
            "padding": null,
            "right": null,
            "top": null,
            "visibility": null,
            "width": null
          }
        },
        "9415aa2ff6584b8da826a1c0fdee8123": {
          "model_module": "@jupyter-widgets/base",
          "model_name": "LayoutModel",
          "model_module_version": "1.2.0",
          "state": {
            "_model_module": "@jupyter-widgets/base",
            "_model_module_version": "1.2.0",
            "_model_name": "LayoutModel",
            "_view_count": null,
            "_view_module": "@jupyter-widgets/base",
            "_view_module_version": "1.2.0",
            "_view_name": "LayoutView",
            "align_content": null,
            "align_items": null,
            "align_self": null,
            "border": null,
            "bottom": null,
            "display": null,
            "flex": null,
            "flex_flow": null,
            "grid_area": null,
            "grid_auto_columns": null,
            "grid_auto_flow": null,
            "grid_auto_rows": null,
            "grid_column": null,
            "grid_gap": null,
            "grid_row": null,
            "grid_template_areas": null,
            "grid_template_columns": null,
            "grid_template_rows": null,
            "height": null,
            "justify_content": null,
            "justify_items": null,
            "left": null,
            "margin": null,
            "max_height": null,
            "max_width": null,
            "min_height": null,
            "min_width": null,
            "object_fit": null,
            "object_position": null,
            "order": null,
            "overflow": null,
            "overflow_x": null,
            "overflow_y": null,
            "padding": null,
            "right": null,
            "top": null,
            "visibility": null,
            "width": null
          }
        },
        "263918e0dedd45ebb5733fd1b041c1f2": {
          "model_module": "@jupyter-widgets/controls",
          "model_name": "DescriptionStyleModel",
          "model_module_version": "1.5.0",
          "state": {
            "_model_module": "@jupyter-widgets/controls",
            "_model_module_version": "1.5.0",
            "_model_name": "DescriptionStyleModel",
            "_view_count": null,
            "_view_module": "@jupyter-widgets/base",
            "_view_module_version": "1.2.0",
            "_view_name": "StyleView",
            "description_width": ""
          }
        },
        "54e06fe524854e4ba453273a3f0b6e3e": {
          "model_module": "@jupyter-widgets/base",
          "model_name": "LayoutModel",
          "model_module_version": "1.2.0",
          "state": {
            "_model_module": "@jupyter-widgets/base",
            "_model_module_version": "1.2.0",
            "_model_name": "LayoutModel",
            "_view_count": null,
            "_view_module": "@jupyter-widgets/base",
            "_view_module_version": "1.2.0",
            "_view_name": "LayoutView",
            "align_content": null,
            "align_items": null,
            "align_self": null,
            "border": null,
            "bottom": null,
            "display": null,
            "flex": null,
            "flex_flow": null,
            "grid_area": null,
            "grid_auto_columns": null,
            "grid_auto_flow": null,
            "grid_auto_rows": null,
            "grid_column": null,
            "grid_gap": null,
            "grid_row": null,
            "grid_template_areas": null,
            "grid_template_columns": null,
            "grid_template_rows": null,
            "height": null,
            "justify_content": null,
            "justify_items": null,
            "left": null,
            "margin": null,
            "max_height": null,
            "max_width": null,
            "min_height": null,
            "min_width": null,
            "object_fit": null,
            "object_position": null,
            "order": null,
            "overflow": null,
            "overflow_x": null,
            "overflow_y": null,
            "padding": null,
            "right": null,
            "top": null,
            "visibility": null,
            "width": "20px"
          }
        },
        "f90e17b7924546a08eb325f707c18519": {
          "model_module": "@jupyter-widgets/controls",
          "model_name": "ProgressStyleModel",
          "model_module_version": "1.5.0",
          "state": {
            "_model_module": "@jupyter-widgets/controls",
            "_model_module_version": "1.5.0",
            "_model_name": "ProgressStyleModel",
            "_view_count": null,
            "_view_module": "@jupyter-widgets/base",
            "_view_module_version": "1.2.0",
            "_view_name": "StyleView",
            "bar_color": null,
            "description_width": ""
          }
        },
        "b9454e01c5994dc8b9c60a64d07ffc45": {
          "model_module": "@jupyter-widgets/base",
          "model_name": "LayoutModel",
          "model_module_version": "1.2.0",
          "state": {
            "_model_module": "@jupyter-widgets/base",
            "_model_module_version": "1.2.0",
            "_model_name": "LayoutModel",
            "_view_count": null,
            "_view_module": "@jupyter-widgets/base",
            "_view_module_version": "1.2.0",
            "_view_name": "LayoutView",
            "align_content": null,
            "align_items": null,
            "align_self": null,
            "border": null,
            "bottom": null,
            "display": null,
            "flex": null,
            "flex_flow": null,
            "grid_area": null,
            "grid_auto_columns": null,
            "grid_auto_flow": null,
            "grid_auto_rows": null,
            "grid_column": null,
            "grid_gap": null,
            "grid_row": null,
            "grid_template_areas": null,
            "grid_template_columns": null,
            "grid_template_rows": null,
            "height": null,
            "justify_content": null,
            "justify_items": null,
            "left": null,
            "margin": null,
            "max_height": null,
            "max_width": null,
            "min_height": null,
            "min_width": null,
            "object_fit": null,
            "object_position": null,
            "order": null,
            "overflow": null,
            "overflow_x": null,
            "overflow_y": null,
            "padding": null,
            "right": null,
            "top": null,
            "visibility": null,
            "width": null
          }
        },
        "ec9a999859e8409abc123a5eb072c3bc": {
          "model_module": "@jupyter-widgets/controls",
          "model_name": "DescriptionStyleModel",
          "model_module_version": "1.5.0",
          "state": {
            "_model_module": "@jupyter-widgets/controls",
            "_model_module_version": "1.5.0",
            "_model_name": "DescriptionStyleModel",
            "_view_count": null,
            "_view_module": "@jupyter-widgets/base",
            "_view_module_version": "1.2.0",
            "_view_name": "StyleView",
            "description_width": ""
          }
        }
      }
    }
  },
  "cells": [
    {
      "cell_type": "markdown",
      "metadata": {
        "id": "view-in-github",
        "colab_type": "text"
      },
      "source": [
        "<a href=\"https://colab.research.google.com/github/LC1332/Zero-Haruhi/blob/main/notebook/GenerateBaizeGLM.ipynb\" target=\"_parent\"><img src=\"https://colab.research.google.com/assets/colab-badge.svg\" alt=\"Open In Colab\"/></a>"
      ]
    },
    {
      "cell_type": "code",
      "execution_count": 1,
      "metadata": {
        "id": "7UjKaCdO3KeW"
      },
      "outputs": [],
      "source": [
        "!pip install -q zhipuai"
      ]
    },
    {
      "cell_type": "code",
      "source": [
        "import os\n",
        "\n",
        "\n",
        "\n",
        "import zhipuai\n",
        "\n",
        "zhipuai.api_key  = \"a6e32\""
      ],
      "metadata": {
        "id": "DG75OEm13Sh7"
      },
      "execution_count": 16,
      "outputs": []
    },
    {
      "cell_type": "code",
      "source": [
        "!pip install -q datasets"
      ],
      "metadata": {
        "colab": {
          "base_uri": "https://localhost:8080/"
        },
        "id": "jicFYtUY3U_i",
        "outputId": "93207744-f2e6-4af5-a65a-285e7712500e"
      },
      "execution_count": 4,
      "outputs": [
        {
          "output_type": "stream",
          "name": "stdout",
          "text": [
            "\u001b[2K     \u001b[90m━━━━━━━━━━━━━━━━━━━━━━━━━━━━━━━━━━━━━━━━\u001b[0m \u001b[32m507.1/507.1 kB\u001b[0m \u001b[31m6.5 MB/s\u001b[0m eta \u001b[36m0:00:00\u001b[0m\n",
            "\u001b[2K     \u001b[90m━━━━━━━━━━━━━━━━━━━━━━━━━━━━━━━━━━━━━━━━\u001b[0m \u001b[32m115.3/115.3 kB\u001b[0m \u001b[31m7.5 MB/s\u001b[0m eta \u001b[36m0:00:00\u001b[0m\n",
            "\u001b[2K     \u001b[90m━━━━━━━━━━━━━━━━━━━━━━━━━━━━━━━━━━━━━━━━\u001b[0m \u001b[32m134.8/134.8 kB\u001b[0m \u001b[31m10.5 MB/s\u001b[0m eta \u001b[36m0:00:00\u001b[0m\n",
            "\u001b[?25h"
          ]
        }
      ]
    },
    {
      "cell_type": "code",
      "source": [
        "from datasets import load_dataset\n",
        "\n",
        "dataset = load_dataset(\"silk-road/Haruhi-Zero-RolePlaying-movie-PIPPA\")"
      ],
      "metadata": {
        "colab": {
          "base_uri": "https://localhost:8080/",
          "height": 113,
          "referenced_widgets": [
            "fbf2d309e1c6494faea6f1170aebd428",
            "0f0f4a1546bc43a7926511c7307aa8f5",
            "e095d69f5ab94611a0da75cd2c11d63b",
            "bb51008696c345e6bfe92066aa2c2ebc",
            "550bacbcdf04423992b516b733e09622",
            "8c739d5a1f4e4120935dc6de2ca14401",
            "0a9a7e5477194488af175a96acd15d7b",
            "d046a2d9541340cc97432fbf31ac9a83",
            "2e3fedc18f5e436e9b3a29d9e94a664a",
            "e4e01872733a488e86a0ac46efffd68f",
            "a41e4b2fe99a408682ba872b10186bc3",
            "f10746210b294128a2df8455e8afbbfd",
            "ec9ae79c0e974bb1bee6ebe513bbbc18",
            "54e52f3622e64842a24f6ac0c0cd5e9c",
            "dea7ba883bff4e7a8ceb81b3bb39b862",
            "06ff3266c64e4fd2bddc6d2a3bae7381",
            "8770ce65b3ea479d95838bebd6b60fa6",
            "4fd69e0077f64ecfa157cb6e9fd42568",
            "9deee4c26f4648db8fded9d5342ece56",
            "cca8055697c24c2fba6642ab07cce5cf",
            "eb02a2d69b8a47898f200a99c4b8fd89",
            "5947ef3e2e984e56a53bb81c035f4ac7",
            "27971260f97e48f8827a139df2cdf9a8",
            "9d12ff476c0b4caeb1a4b7e2b3cb3d8b",
            "85b6d49524fc47e8a355e46521261420",
            "ff107bc886164cb8bedb92a0a7c5fc75",
            "9b89c7e5d9f44c77b6a994e3c8db2bd4",
            "9415aa2ff6584b8da826a1c0fdee8123",
            "263918e0dedd45ebb5733fd1b041c1f2",
            "54e06fe524854e4ba453273a3f0b6e3e",
            "f90e17b7924546a08eb325f707c18519",
            "b9454e01c5994dc8b9c60a64d07ffc45",
            "ec9a999859e8409abc123a5eb072c3bc"
          ]
        },
        "id": "IPItUC0Y3YWC",
        "outputId": "8f8fd9ed-7224-4534-8828-4ccd48ff5cf2"
      },
      "execution_count": 5,
      "outputs": [
        {
          "output_type": "display_data",
          "data": {
            "text/plain": [
              "Downloading readme:   0%|          | 0.00/932 [00:00<?, ?B/s]"
            ],
            "application/vnd.jupyter.widget-view+json": {
              "version_major": 2,
              "version_minor": 0,
              "model_id": "fbf2d309e1c6494faea6f1170aebd428"
            }
          },
          "metadata": {}
        },
        {
          "output_type": "display_data",
          "data": {
            "text/plain": [
              "Downloading data:   0%|          | 0.00/9.64M [00:00<?, ?B/s]"
            ],
            "application/vnd.jupyter.widget-view+json": {
              "version_major": 2,
              "version_minor": 0,
              "model_id": "f10746210b294128a2df8455e8afbbfd"
            }
          },
          "metadata": {}
        },
        {
          "output_type": "display_data",
          "data": {
            "text/plain": [
              "Generating train split: 0 examples [00:00, ? examples/s]"
            ],
            "application/vnd.jupyter.widget-view+json": {
              "version_major": 2,
              "version_minor": 0,
              "model_id": "27971260f97e48f8827a139df2cdf9a8"
            }
          },
          "metadata": {}
        }
      ]
    },
    {
      "cell_type": "code",
      "source": [
        "n = len(dataset['train'])\n",
        "print(n)\n",
        "sel_id1, sel_id2 = 1, 1500\n",
        "\n",
        "print(dataset['train'][sel_id1+10]['prompt_zh'])\n",
        "print(dataset['train'][sel_id2]['prompt_zh'][:50])"
      ],
      "metadata": {
        "colab": {
          "base_uri": "https://localhost:8080/"
        },
        "id": "gT7Izj683tmC",
        "outputId": "1e31296e-4d6f-46b8-9bac-54c177894f74"
      },
      "execution_count": 6,
      "outputs": [
        {
          "output_type": "stream",
          "name": "stdout",
          "text": [
            "2140\n",
            "你扮演 两男变错身 中的 MITCH\n",
            "MITCH是一个轻浮、放荡的人，外表花花公子，喜欢享受生活，不拘小节。\n",
            "MITCH是一个轻浮、放荡的人\n",
            "MITCH是一个外表花花公子的人\n",
            "这是一个现代都市的场景，MITCH是一个自由奔放的单身汉\n",
            "###\n",
            "DAVE : 好吧，我去搞定\n",
            "MITCH : 早上好啊\n",
            "DAVE : 你们今天起的比较早啊，嗯？\n",
            "MITCH : 有没有做噩梦啊尿床啊什么的？\n",
            "DAVE : 看看给宝宝准备了什么好东西\n",
            "###\n",
            "MITCH : 好了，让老爸歇会儿\n",
            "DAVE : 互换身份\n",
            "MITCH : 早上好LOCKWOOD\n",
            "LOCKWOOD : 早上好，STEEL先生\n",
            "STEEL : 孩子们还好吗\n",
            "###\n",
            "LOCKWOOD : 好的，谢谢！\n",
            "STEEL : （水平不济，以上蒙的）\n",
            "LOCKWOOD : 早上好，PATRICIA\n",
            "PATRICIA : 你好。\n",
            "LOCKWOOD : 大JB，小BB，ED哥，湿湿妹...\n",
            "###\n",
            "STEEL : 哥在公司呢！\n",
            "LOCKWOOD : 被我打败了吧？\n",
            "STEEL : 是的，你牛X！\n",
            "LOCKWOOD : 你刚刚用的免提吧？\n",
            "STEEL : 是啊，你那个秘书听到了吗？\n",
            "###\n",
            "DAVE : 好吧，我郑重的告诉你\n",
            "MITCH : 你老爹我又要婚了\n",
            "DAVE : 我希望你能参加我的婚礼。\n",
            "MITCH : 什么时候？下周六\n",
            "DAVE : 你后妈，PAMELA\n",
            "Luna是Wintenberg的半龙少女，她寻求复仇，是Yufine的同父异母的妹妹，不同于Yufi\n"
          ]
        }
      ]
    },
    {
      "cell_type": "markdown",
      "source": [
        "修正movie的bot name\n",
        "\n",
        "实现一个python函数，输入是一段text\n",
        "\n",
        "text中的某一行为\" 你扮演 海上钢琴师 中的 丹尼·布德曼 \" 的格式\n",
        "\n",
        "注意这里中的 后面名字的前后都会有空格\n",
        "\n",
        "提取这个名字，并返回\n",
        "\n",
        "例子输入:\n",
        "你扮演 海上钢琴师 中的 丹尼·布德曼\n",
        "丹尼·布德曼是一个坚韧、热情和有责任感的船员，对音乐有着深厚的情感。\n",
        "丹尼·布德曼是一个坚韧、热情和有责任感的人\n",
        "丹尼·布德曼是一个穿着朴素的船员\n",
        "例子输出\n",
        "丹尼·布德曼\n",
        "\n",
        "例子输入:\n",
        "你扮演 两男变错身 中的 MITCH\n",
        "MITCH是一个轻浮、放荡的人，外表花花公子，喜欢享受生活，不拘小节。\n",
        "MITCH是一个轻浮、放荡的人\n",
        "MITCH是一个外表花花公子的人\n",
        "例子输出\n",
        "MITCH\n",
        "\n",
        "如果没有这样的行，返回\"\"\n"
      ],
      "metadata": {
        "id": "BUq1D6C96nV8"
      }
    },
    {
      "cell_type": "code",
      "source": [
        "import re\n",
        "\n",
        "def extract_name_from_text(text):\n",
        "    pattern = r'你扮演\\s+.*中的\\s+(\\S+)\\s*'\n",
        "    match = re.search(pattern, text)\n",
        "    if match:\n",
        "        return match.group(1)\n",
        "    else:\n",
        "        return \"\"\n",
        "\n",
        "# 例子输入\n",
        "input_text = \"\"\"你扮演 海上钢琴师 中的 丹尼·布德曼\n",
        "丹尼·布德曼是一个坚韧、热情和有责任感的船员，对音乐有着深厚的情感。\n",
        "丹尼·布德曼是一个坚韧、热情和有责任感的人\n",
        "丹尼·布德曼是一个穿着朴素的船员\"\"\"\n",
        "\n",
        "output = extract_name_from_text(input_text)\n",
        "print(output)  # 输出：丹尼·布德曼\n",
        "\n",
        "\n",
        "for i in range(5):\n",
        "    print(extract_name_from_text(dataset['train'][i]['prompt_zh']))"
      ],
      "metadata": {
        "colab": {
          "base_uri": "https://localhost:8080/"
        },
        "id": "opnmr9Cc5buQ",
        "outputId": "67881fc8-5ef5-4ba4-94a0-b2bd324f6a83"
      },
      "execution_count": 7,
      "outputs": [
        {
          "output_type": "stream",
          "name": "stdout",
          "text": [
            "丹尼·布德曼\n",
            "凯瑟琳\n",
            "丹尼·布德曼\n",
            "哈利\n",
            "派\n",
            "Daphne\n"
          ]
        }
      ]
    },
    {
      "cell_type": "code",
      "source": [
        "count = 0\n",
        "n = len(dataset['train'])\n",
        "for i in range(n):\n",
        "    if dataset['train'][i]['id'].startswith('movie'):\n",
        "        bot_name = extract_name_from_text(dataset['train'][i]['prompt_zh'])\n",
        "        count = count + 1\n",
        "        dataset['train'][i]['bot_name'] = bot_name\n",
        "        if bot_name == dataset['train'][i]['bot_name']:\n",
        "            count = count + 1\n",
        "\n",
        "print(count)"
      ],
      "metadata": {
        "colab": {
          "base_uri": "https://localhost:8080/"
        },
        "id": "R865vx7e7bzs",
        "outputId": "3b6f3e22-588b-4a4f-a138-19503ff71951"
      },
      "execution_count": 8,
      "outputs": [
        {
          "output_type": "stream",
          "name": "stdout",
          "text": [
            "870\n"
          ]
        }
      ]
    },
    {
      "cell_type": "code",
      "source": [],
      "metadata": {
        "id": "bDUWEi44_TUW"
      },
      "execution_count": 8,
      "outputs": []
    },
    {
      "cell_type": "code",
      "source": [
        "print(dataset['train'][sel_id1]['bot_name'])"
      ],
      "metadata": {
        "colab": {
          "base_uri": "https://localhost:8080/"
        },
        "id": "d0-mVCR6_HXp",
        "outputId": "26ba0b86-6ac8-49a0-8aaa-9e4854d2af3b"
      },
      "execution_count": 9,
      "outputs": [
        {
          "output_type": "stream",
          "name": "stdout",
          "text": [
            "La.Leggenda.Del.Pianista.Sull.Oceano.1998.BluRay.EXTENDED.720p.x264.AC3.2Audios-CMCT.简体_英文.srt.txt\n"
          ]
        }
      ]
    },
    {
      "cell_type": "code",
      "source": [
        "!wget https://raw.githubusercontent.com/LC1332/Zero-Haruhi/main/role_10_questions.jsonl"
      ],
      "metadata": {
        "colab": {
          "base_uri": "https://localhost:8080/"
        },
        "id": "zrhQnrAQJzy6",
        "outputId": "d802c943-2187-4b3c-af2c-167b08632b09"
      },
      "execution_count": 10,
      "outputs": [
        {
          "output_type": "stream",
          "name": "stdout",
          "text": [
            "--2024-01-11 00:29:08--  https://raw.githubusercontent.com/LC1332/Zero-Haruhi/main/role_10_questions.jsonl\n",
            "Resolving raw.githubusercontent.com (raw.githubusercontent.com)... 185.199.108.133, 185.199.109.133, 185.199.110.133, ...\n",
            "Connecting to raw.githubusercontent.com (raw.githubusercontent.com)|185.199.108.133|:443... connected.\n",
            "HTTP request sent, awaiting response... 200 OK\n",
            "Length: 1788187 (1.7M) [text/plain]\n",
            "Saving to: ‘role_10_questions.jsonl’\n",
            "\n",
            "role_10_questions.j 100%[===================>]   1.71M  --.-KB/s    in 0.06s   \n",
            "\n",
            "2024-01-11 00:29:09 (29.1 MB/s) - ‘role_10_questions.jsonl’ saved [1788187/1788187]\n",
            "\n"
          ]
        }
      ]
    },
    {
      "cell_type": "code",
      "source": [
        "import json\n",
        "\n",
        "with open('/content/role_10_questions.jsonl', 'r', encoding='utf-8') as f1:\n",
        "    datas = [json.loads(line) for line in f1]"
      ],
      "metadata": {
        "id": "uzfAZYB7KKLg"
      },
      "execution_count": 11,
      "outputs": []
    },
    {
      "cell_type": "code",
      "source": [
        "import json\n",
        "\n",
        "id2questions = {}\n",
        "\n",
        "import random\n",
        "\n",
        "\n",
        "error_count = 0\n",
        "for data in datas:\n",
        "    id = data['id']\n",
        "    response = data['response']\n",
        "    try:\n",
        "        response_in_json = json.loads(response)\n",
        "        questions = response_in_json['questions']\n",
        "        random.shuffle(questions)\n",
        "        id2questions[id] = questions\n",
        "    except:\n",
        "        error_count = error_count + 1\n",
        "        continue\n",
        "print(error_count)"
      ],
      "metadata": {
        "colab": {
          "base_uri": "https://localhost:8080/"
        },
        "id": "j83F6jI_KN-J",
        "outputId": "6ba91f05-048d-43f6-8d56-630f97a7519b"
      },
      "execution_count": 12,
      "outputs": [
        {
          "output_type": "stream",
          "name": "stdout",
          "text": [
            "22\n"
          ]
        }
      ]
    },
    {
      "cell_type": "code",
      "source": [
        "class ChatTogether:\n",
        "    def __init__(self, data1, data2, questions = []):\n",
        "\n",
        "        self.ids = [data1['id'], data2['id']]\n",
        "        self.personas = [data1['prompt_zh'], data2['prompt_zh']]\n",
        "\n",
        "        self.greetings = [data1['bot_greeting_zh'], data2['bot_greeting_zh']]\n",
        "        # 在这里我们重点假设2是user， 1是char， 以2向1提问的形式作为主导\n",
        "\n",
        "        self.bot_names = [self.get_bot_name(data1), self.get_bot_name(data2)]\n",
        "\n",
        "        self.replace_name_in_personas(0)\n",
        "        self.replace_name_in_personas(1)\n",
        "\n",
        "        self.chat_history = []\n",
        "\n",
        "        self.initialize_greeting()\n",
        "\n",
        "        self.last_perset_turn = 0\n",
        "\n",
        "        self.questions = questions\n",
        "        self.next_question_index = 0\n",
        "\n",
        "    def get_save_data(self):\n",
        "        return {\n",
        "            'ids': self.ids,\n",
        "            'chat_history': self.chat_history\n",
        "        }\n",
        "\n",
        "    def replace_name_in_personas(self, index):\n",
        "        bot_name = self.bot_names[index]\n",
        "        user_name = self.bot_names[1-index]\n",
        "        self.personas[index] = self.personas[index].replace('{{角色}}', bot_name)\n",
        "        self.personas[index] = self.personas[index].replace('{{用户}}', user_name)\n",
        "        self.greetings[index] = self.greetings[index].replace('{{角色}}', bot_name)\n",
        "        self.greetings[index] = self.greetings[index].replace('{{用户}}', user_name)\n",
        "        self.greetings[index] = self.greetings[index].replace('{{user_name}}', user_name)\n",
        "\n",
        "    def get_next_question(self):\n",
        "        if len(self.questions) == 0 or self.next_question_index >= len(self.questions):\n",
        "            return None\n",
        "        else:\n",
        "            self.next_question_index = self.next_question_index + 1\n",
        "            return self.questions[self.next_question_index]\n",
        "\n",
        "    def get_bot_name(self, data):\n",
        "        if data['id'].startswith('movie'):\n",
        "            name =  extract_name_from_text(data['prompt_zh'])\n",
        "            if name.strip() == '':\n",
        "                name = extract_name_from_text(data['prompt'])\n",
        "            return name\n",
        "        else:\n",
        "            return data['bot_name']\n",
        "\n",
        "    def initialize_greeting(self):\n",
        "        if self.greetings[0].strip() != '':\n",
        "            self.chat_history.append({ 'id':0, 'content': self.greetings[0] })\n",
        "        else:\n",
        "        # 这里最终会改为，一定的概率运行bot[1]的greeting，一定概率运行你好，一定概率直接抛出预设问题\n",
        "            self.chat_history.append({ 'id':1, 'content': \"你好，\" + self.bot_names[0] })\n",
        "        self.last_perset_turn = len(self.chat_history)\n",
        "\n",
        "    def next_speaker(self):\n",
        "        if len(self.chat_history) == 0:\n",
        "            return 1\n",
        "        else:\n",
        "            return 1 - self.chat_history[-1]['id']\n",
        "\n",
        "    def get_message_and_meta( self ):\n",
        "        # specific for CharacterGLM\n",
        "        if len(self.chat_history) == 0:\n",
        "            return None, None\n",
        "\n",
        "        if self.chat_history[-1]['id'] == 0 and len(self.chat_history)-self.last_perset_turn >= 3:\n",
        "            next_question = self.get_next_question()\n",
        "            if next_question is not None:\n",
        "                self.chat_history.append({ 'id':1, 'content': next_question })\n",
        "                self.last_perset_turn = len(self.chat_history)\n",
        "\n",
        "        # 先判断要的是哪个人的数据\n",
        "        now_speaker = 1 - self.chat_history[-1]['id']\n",
        "\n",
        "        bot_info = self.personas[now_speaker]\n",
        "        bot_name = self.bot_names[now_speaker]\n",
        "        user_name = self.bot_names[1-now_speaker]\n",
        "        user_info = \"\"\n",
        "        meta = {\n",
        "            \"bot_info\": bot_info,\n",
        "            \"bot_name\": bot_name,\n",
        "            \"user_info\": user_info,\n",
        "            \"user_name\": user_name\n",
        "        }\n",
        "        messages = []\n",
        "        for msg in self.chat_history:\n",
        "            if msg['id'] == now_speaker:\n",
        "                messages.append({\"role\" : \"assistant\" , \"content\":msg['content']})\n",
        "            else:\n",
        "                messages.append({\"role\" : \"user\" , \"content\":msg['content']})\n",
        "\n",
        "        return messages, meta\n",
        "\n",
        "\n",
        "\n",
        "    def get_next_query_messages( self ):\n",
        "\n",
        "        if len(self.chat_history) == 0:\n",
        "            return None\n",
        "\n",
        "        if self.chat_history[-1]['id'] == 0 and len(self.chat_history)-self.last_perset_turn >= 3:\n",
        "            next_question = self.get_next_question()\n",
        "            if next_question is not None:\n",
        "                self.chat_history.append({ 'id':1, 'content': next_question })\n",
        "                self.last_perset_turn = len(self.chat_history)\n",
        "\n",
        "        # 先判断要的是哪个人的数据\n",
        "        now_speaker = 1 - self.chat_history[-1]['id']\n",
        "        messages = [{\"role\" :\"system\" , \"content\":self.get_system_prompt( now_speaker )} ]\n",
        "        for msg in self.chat_history:\n",
        "            if msg['id'] == now_speaker:\n",
        "                messages.append({\"role\" : \"assistant\" , \"content\":msg['content']})\n",
        "            else:\n",
        "                messages.append({\"role\" : \"user\" , \"content\":msg['content']})\n",
        "        return messages\n",
        "\n",
        "    def append_message(self, message):\n",
        "        self.chat_history.append({ 'id':self.next_speaker(), 'content': message })\n",
        "\n",
        "    def get_system_prompt(self, speaker):\n",
        "        persona = self.personas[speaker]\n",
        "        bot_name = self.bot_names[speaker]\n",
        "        prompt = f\"\"\"You are now in roleplay conversation mode. Pretend to be {bot_name} whose persona follows:\n",
        "{persona}\n",
        "\n",
        "You will stay in-character whenever possible, and generate responses as if you were {bot_name}\"\"\"\n",
        "        return prompt\n",
        "\n",
        "\n",
        "sel_id1 = 8\n",
        "data1 = dataset['train'][sel_id1]\n",
        "data2 = dataset['train'][sel_id2]\n",
        "id_str1 = data1['id']\n",
        "\n",
        "questions = id2questions[id_str1]\n",
        "\n",
        "chat_data = ChatTogether(data1, data2,questions)\n",
        "\n",
        "for i in range(6):\n",
        "    messages,meta = chat_data.get_message_and_meta()\n",
        "    print(messages[-1]['content'])\n",
        "    response = \"res for \" + messages[-1]['content']\n",
        "    chat_data.append_message(response)"
      ],
      "metadata": {
        "colab": {
          "base_uri": "https://localhost:8080/"
        },
        "id": "o4euJ2-u4IGa",
        "outputId": "d2356e42-e7b0-4e97-838f-3511ebecff75"
      },
      "execution_count": 22,
      "outputs": [
        {
          "output_type": "stream",
          "name": "stdout",
          "text": [
            "你好，Bernie\n",
            "res for 你好，Bernie\n",
            "res for res for 你好，Bernie\n",
            "你觉得自己的幽默和乐观是从哪里来的？\n",
            "res for 你觉得自己的幽默和乐观是从哪里来的？\n",
            "res for res for 你觉得自己的幽默和乐观是从哪里来的？\n"
          ]
        }
      ]
    },
    {
      "cell_type": "code",
      "source": [
        "\n",
        "import asyncio\n",
        "\n",
        "async def foo():\n",
        "    await asyncio.sleep(1)\n",
        "    print(\"foo\")\n",
        "await foo()"
      ],
      "metadata": {
        "colab": {
          "base_uri": "https://localhost:8080/"
        },
        "id": "alz7Jndh7RPB",
        "outputId": "0f234dff-c17f-43d1-c239-1822e258e801"
      },
      "execution_count": 15,
      "outputs": [
        {
          "output_type": "stream",
          "name": "stdout",
          "text": [
            "foo\n"
          ]
        }
      ]
    },
    {
      "cell_type": "markdown",
      "source": [
        "让我们来写一个基础的characterGLM的调用函数"
      ],
      "metadata": {
        "id": "SiX2ufYh7nJC"
      }
    },
    {
      "cell_type": "code",
      "source": [
        "from functools import partial\n",
        "async def async_invoke( meta, prompt ):\n",
        "    loop = asyncio.get_running_loop()\n",
        "    partial_func = partial(\n",
        "        zhipuai.model_api.async_invoke, model=\"characterglm\",meta = meta, prompt=prompt, temperature = 0.1\n",
        "    )\n",
        "    response = await loop.run_in_executor(\n",
        "        None,\n",
        "        partial_func,\n",
        "    )\n",
        "    return response\n",
        "\n",
        "async def async_invoke_result(task_id):\n",
        "    loop = asyncio.get_running_loop()\n",
        "    response = await loop.run_in_executor(\n",
        "        None,\n",
        "        zhipuai.model_api.query_async_invoke_result,\n",
        "        task_id,\n",
        "    )\n",
        "    return response\n",
        "\n",
        "async def get_response(meta, prompt):\n",
        "    invoke_response = await async_invoke(meta,prompt)\n",
        "\n",
        "    task_id = None\n",
        "    for _ in range(3):\n",
        "        try:\n",
        "            task_id = invoke_response[\"data\"][\"task_id\"]\n",
        "        except:\n",
        "            await asyncio.sleep(1)\n",
        "    if task_id is None:\n",
        "        print(\"failed to send request, \", meta[\"bot_name\"], ' ', meta[\"user_name\"])\n",
        "        return None\n",
        "\n",
        "    response = await async_invoke_result(task_id)\n",
        "\n",
        "    fail_count = 0\n",
        "    sleep_time = 1\n",
        "    while fail_count < 10:\n",
        "        if \"data\" in response and \"task_status\" in response[\"data\"] and response[\"data\"][\"task_status\"] == \"SUCCESS\":\n",
        "            break\n",
        "        if fail_count > 10:\n",
        "            return None\n",
        "        fail_count += 1\n",
        "        await asyncio.sleep(sleep_time)\n",
        "        try:\n",
        "            response = await async_invoke_result(task_id)\n",
        "        except:\n",
        "            if fail_count < 5:\n",
        "                continue\n",
        "            return None\n",
        "        sleep_time = min( 5, sleep_time * 2)\n",
        "\n",
        "    content = response[\"data\"][\"choices\"][0][\"content\"]\n",
        "    return content\n",
        "\n"
      ],
      "metadata": {
        "id": "634qcCh-7qf2"
      },
      "execution_count": 37,
      "outputs": []
    },
    {
      "cell_type": "code",
      "source": [
        "prompt = [\n",
        "        {\n",
        "            \"role\": \"assistant\",\n",
        "            \"content\": \"（旁白：苏梦远主演了陆星辰导演的一部音乐题材电影，在拍摄期间，两人因为一场戏的表现有分歧。） 导演，关于这场戏，我觉得可以尝试从角色的内心情感出发，让表现更加真实。\"\n",
        "        },\n",
        "        {\n",
        "            \"role\": \"user\",\n",
        "            \"content\": \"我明白你的想法，但我认为如果过于强调内心情感，可能会影响到音乐元素的突出。\"\n",
        "        },\n",
        "        {\n",
        "            \"role\": \"assistant\",\n",
        "            \"content\": \"嗯嗯，我明白。但这场戏的关键是角色情感的转变，是不是可以试着把这种情感用音乐表现出来，让观众更能感受到角色的成长呢？\"\n",
        "        },\n",
        "        {\n",
        "            \"role\": \"user\",\n",
        "            \"content\": \"这样一听还不错。那就尝试将角色的情感转变与音乐元素相结合，看看能否达到更好的效果。\"\n",
        "        },\n",
        "        {\n",
        "            \"role\": \"assistant\",\n",
        "            \"content\": \"好的，导演。（充满信心的眼神）\"\n",
        "        }\n",
        "    ]\n",
        "\n",
        "meta = {\n",
        "    \"user_info\": \"我是陆星辰，是一个男性，是一位知名导演，也是苏梦远的合作导演。我擅长拍摄音乐题材的电影。苏梦远对我的态度是尊敬的，并视我为良师益友。\",\n",
        "    \"bot_info\": \"苏梦远，本名苏远心，是一位当红的国内女歌手及演员。在参加选秀节目后，凭借独特的嗓音及出众的舞台魅力迅速成名，进入娱乐圈。她外表美丽动人，但真正的魅力在于她的才华和勤奋。苏梦远是音乐学院毕业的优秀生，善于创作，拥有多首热门原创歌曲。除了音乐方面的成就，她还热衷于慈善事业，积极参加公益活动，用实际行动传递正能量。在工作中，她对待工作非常敬业，拍戏时总是全身心投入角色，赢得了业内人士的赞誉和粉丝的喜爱。虽然在娱乐圈，但她始终保持低调、谦逊的态度，深得同行尊重。在表达时，苏梦远喜欢使用“我们”和“一起”，强调团队精神。\",\n",
        "    \"bot_name\": \"苏梦远\",\n",
        "    \"user_name\": \"陆星辰\"\n",
        "}\n",
        "\n",
        "response = await get_response(meta, prompt)\n",
        "print(response)"
      ],
      "metadata": {
        "colab": {
          "base_uri": "https://localhost:8080/"
        },
        "id": "A44gbcfd-KbI",
        "outputId": "9254b84d-8fa8-4c2c-8669-6edeeb9e69cc"
      },
      "execution_count": 38,
      "outputs": [
        {
          "output_type": "stream",
          "name": "stdout",
          "text": [
            "\"导演，我觉得这次的表演效果比之前要好，希望您喜欢。\\n\"\n"
          ]
        }
      ]
    },
    {
      "cell_type": "code",
      "source": [
        "chat_data = ChatTogether(data1, data2,questions)\n",
        "\n",
        "for i in range(6):\n",
        "    messages, meta = chat_data.get_message_and_meta()\n",
        "    response = await get_response(meta, messages )\n",
        "    if response:\n",
        "        chat_data.append_message(response)\n",
        "        print(response)"
      ],
      "metadata": {
        "id": "0SBwslIUaNZv",
        "colab": {
          "base_uri": "https://localhost:8080/"
        },
        "outputId": "26da9307-9cb4-4ef9-99b7-114f5fccfa0c"
      },
      "execution_count": 36,
      "outputs": [
        {
          "output_type": "stream",
          "name": "stdout",
          "text": [
            "\"\\\"\\\\\\\"你知道吗，有时候我觉得我的幽默和乐观是我最好的朋友。\\\\\\\\\\\\\\\\n\\\\\\\\\\\\\\\"\\\\\\\\n\\\\\\\"\\\\n\\\"\\n\"\n"
          ]
        }
      ]
    },
    {
      "cell_type": "code",
      "source": [
        "history = chat_data.chat_history\n",
        "\n",
        "for msg in history:\n",
        "    print(msg['content'])"
      ],
      "metadata": {
        "colab": {
          "base_uri": "https://localhost:8080/"
        },
        "id": "kVwPul66aH3z",
        "outputId": "5a8caf4c-26f8-4268-a4c4-7e84641741f8"
      },
      "execution_count": 44,
      "outputs": [
        {
          "output_type": "stream",
          "name": "stdout",
          "text": [
            "你好，Bernie\n",
            "\"你好，Luna\\n\"\n",
            "\"\\\"你最近还好吗？\\\\n\\\"\\n\"\n",
            "\"\\\"我最近很好，谢谢你。\\\\n\\\"\\n\"\n",
            "你觉得自己的幽默和乐观是从哪里来的？\n",
            "\"\\\"我认为我的幽默和乐观是来自于我对生活的热爱和享受。\\\\\\\\n\\\\\\\"\\\\n\\\"\\n\"\n",
            "\"\\\"\\\\\\\"我同意你的观点。\\\\\\\\n\\\\\\\"\\\\n\\\"\\n\"\n",
            "\"\\\"\\\\\\\"你知道吗，有时候我觉得我的幽默和乐观是我最好的朋友。\\\\\\\\\\\\\\\\n\\\\\\\\\\\\\\\"\\\\\\\\n\\\\\\\"\\\\n\\\"\\n\"\n"
          ]
        }
      ]
    },
    {
      "cell_type": "markdown",
      "source": [
        "- [ ] 生成chater - questioner 的long pair list\n",
        "- [ ] 编写一个框架 对每个list 询问7次 并行获取结果并保存"
      ],
      "metadata": {
        "id": "b-BFlrDYcxLy"
      }
    },
    {
      "cell_type": "code",
      "source": [],
      "metadata": {
        "id": "C0PVCtlr7t6_"
      },
      "execution_count": null,
      "outputs": []
    },
    {
      "cell_type": "code",
      "source": [
        "!pip install -q aiofiles tiktoken"
      ],
      "metadata": {
        "colab": {
          "base_uri": "https://localhost:8080/"
        },
        "id": "g1HAKIo5gJj2",
        "outputId": "dd790654-502f-49de-8589-97a9971f00fb"
      },
      "execution_count": 39,
      "outputs": [
        {
          "output_type": "stream",
          "name": "stdout",
          "text": [
            "\u001b[2K     \u001b[90m━━━━━━━━━━━━━━━━━━━━━━━━━━━━━━━━━━━━━━━━\u001b[0m \u001b[32m2.0/2.0 MB\u001b[0m \u001b[31m7.9 MB/s\u001b[0m eta \u001b[36m0:00:00\u001b[0m\n",
            "\u001b[?25h\u001b[31mERROR: pip's dependency resolver does not currently take into account all the packages that are installed. This behaviour is the source of the following dependency conflicts.\n",
            "llmx 0.0.15a0 requires cohere, which is not installed.\n",
            "llmx 0.0.15a0 requires openai, which is not installed.\u001b[0m\u001b[31m\n",
            "\u001b[0m"
          ]
        }
      ]
    },
    {
      "cell_type": "markdown",
      "source": [],
      "metadata": {
        "id": "0UeZOEoRhLOa"
      }
    },
    {
      "cell_type": "markdown",
      "source": [
        "char_list和questioner_list 都是list of int\n",
        "\n",
        "我希望循环N次\n",
        "\n",
        "每次，对于char_list的每一个元素c，选取questioner_list中的元素q，并且c不等于q，形成一个tuple，\n",
        "\n",
        "并且保证(c,q)和(q,c)这两个tuple都没有在历史中重复出现。"
      ],
      "metadata": {
        "id": "7ARAuLqrhat6"
      }
    },
    {
      "cell_type": "code",
      "source": [
        "\n",
        "n = len(dataset['train'])\n",
        "\n",
        "char_list = []\n",
        "\n",
        "for i in range(n):\n",
        "    id = dataset['train'][i]['id']\n",
        "    if id not in id2questions:\n",
        "        continue\n",
        "    char_list.append(i)\n",
        "\n",
        "questioner_list = [i for i in range(n)]\n",
        "\n",
        "tuple_list = []\n",
        "\n",
        "repeat_times = 40\n",
        "\n",
        "n_char = len(char_list)\n",
        "n_ques = len(questioner_list)\n",
        "\n",
        "char_history = [set() for _ in range(len(questioner_list))]\n",
        "\n",
        "random.seed(123)\n",
        "\n",
        "for iter in range(repeat_times):\n",
        "    random.shuffle(questioner_list)\n",
        "    for i in range(n_char):\n",
        "        c = char_list[i]\n",
        "        q = questioner_list[i]\n",
        "        max_test_time = 5\n",
        "        while max_test_time > 0:\n",
        "            if c != q and q not in char_history[c]:\n",
        "                tuple_list.append((c,q))\n",
        "                char_history[c].add(q)\n",
        "                break\n",
        "            max_test_time -= 1\n",
        "            q = random.randint(0, n_ques-1)\n",
        "\n",
        "print(tuple_list[5000:5010])"
      ],
      "metadata": {
        "colab": {
          "base_uri": "https://localhost:8080/"
        },
        "id": "BEeZ9BbVhNrP",
        "outputId": "06fdab34-dc0b-44ba-99d8-e8c09f6c62ab"
      },
      "execution_count": 40,
      "outputs": [
        {
          "output_type": "stream",
          "name": "stdout",
          "text": [
            "[(768, 1106), (769, 569), (770, 2080), (771, 1994), (772, 1), (773, 1279), (774, 848), (775, 1050), (776, 126), (777, 1229)]\n"
          ]
        }
      ]
    },
    {
      "cell_type": "code",
      "source": [],
      "metadata": {
        "id": "WNTqgzUajFk1"
      },
      "execution_count": 40,
      "outputs": []
    },
    {
      "cell_type": "code",
      "source": [
        "print(tuple_list[100])"
      ],
      "metadata": {
        "colab": {
          "base_uri": "https://localhost:8080/"
        },
        "id": "wsccXI-AkxS5",
        "outputId": "f0e0b341-5b18-4aaf-ad69-de9a48e1ef55"
      },
      "execution_count": 41,
      "outputs": [
        {
          "output_type": "stream",
          "name": "stdout",
          "text": [
            "(102, 737)\n"
          ]
        }
      ]
    },
    {
      "cell_type": "code",
      "source": [
        "import os\n",
        "import json\n",
        "import time\n",
        "# import openai\n",
        "# from openai import AsyncOpenAI\n",
        "\n",
        "# aclient = AsyncOpenAI()\n",
        "\n",
        "import asyncio\n",
        "import aiofiles\n",
        "import tiktoken\n",
        "import hashlib\n",
        "# from connector import AsyncPGConnector\n",
        "from tqdm.asyncio import tqdm as tqdm\n",
        "\n",
        "enc = tiktoken.encoding_for_model(\"gpt-3.5-turbo\")\n",
        "en2zh_ratio = 2.3\n",
        "\n",
        "delay = 1\n",
        "concurrency_limit = 16\n",
        "\n",
        "max_file_size = 1024**3"
      ],
      "metadata": {
        "id": "-iyy4HUHlCwf"
      },
      "execution_count": 42,
      "outputs": []
    },
    {
      "cell_type": "code",
      "source": [
        "async def getTranslation(item):\n",
        "    if \"messages\" not in item:\n",
        "        return None\n",
        "    elif \"meta\" not in item:\n",
        "        return None\n",
        "    else:\n",
        "        for i in range(3):\n",
        "            meta = item[\"meta\"]\n",
        "            # print(meta)\n",
        "            messages = item[\"messages\"]\n",
        "            result = await get_response(meta, messages )\n",
        "            # result = await dealing_messages(item['messages'])\n",
        "            if result is not None:\n",
        "                item[\"response\"] = result\n",
        "                return item\n",
        "            else:\n",
        "                continue\n",
        "\n",
        "    return None\n",
        "\n",
        "async def process(item, semaphore):\n",
        "    async with semaphore:\n",
        "        try:\n",
        "            output_folder = \"/content/output\"\n",
        "            if \"output_folder\" in item:\n",
        "                output_folder = item[\"output_folder\"]\n",
        "            if not os.path.exists(output_folder):\n",
        "                os.makedirs(output_folder)\n",
        "\n",
        "            file_path = os.path.join(output_folder, f\"{item['id']}.txt\")\n",
        "\n",
        "            if os.path.exists(file_path):\n",
        "                return\n",
        "\n",
        "            it = await getTranslation(item)\n",
        "            if it is None:\n",
        "                raise Exception(item['id'])\n",
        "\n",
        "            with open(file_path, 'w', encoding='utf-8') as f:\n",
        "                json.dump(it, f, ensure_ascii=False)\n",
        "\n",
        "        except Exception as e:\n",
        "            print(f\"Error processing entry: {e}\")\n"
      ],
      "metadata": {
        "id": "QmSY3FapoJYV"
      },
      "execution_count": 74,
      "outputs": []
    },
    {
      "cell_type": "code",
      "source": [
        "async def main(chat_datas, output_folder, turn_id):\n",
        "    process_data = []\n",
        "\n",
        "    for data in chat_datas:\n",
        "        # messages = data.get_next_query_messages()\n",
        "        # print(chat_data.bot_names)\n",
        "        messages, meta = data.get_message_and_meta()\n",
        "        # print(meta)\n",
        "        ids = data.ids\n",
        "        uniqure_id = ids[0] + \"_\" + ids[1] + \"_\" + str(turn_id)\n",
        "        process_data.append({\n",
        "            \"id\": uniqure_id,\n",
        "            \"messages\": messages,\n",
        "            \"meta\":meta,\n",
        "            \"output_folder\": output_folder\n",
        "        })\n",
        "\n",
        "    tasks = []\n",
        "\n",
        "    semaphore = asyncio.Semaphore(concurrency_limit)\n",
        "\n",
        "    if not os.path.exists(output_folder):\n",
        "        os.makedirs(output_folder)\n",
        "\n",
        "    # # print(f\"Already processed {len(exist_list)} items...\")\n",
        "\n",
        "    # id = set()\n",
        "\n",
        "    for item in process_data:\n",
        "        file_path = os.path.join(output_folder, f\"{item['id']}.txt\")\n",
        "\n",
        "        if os.path.exists(file_path):\n",
        "            continue\n",
        "\n",
        "        tasks.append(asyncio.create_task(process(item, semaphore)))\n",
        "\n",
        "    # # del exist_list\n",
        "    # print(f\"Total items: {len(process_data)}\")\n",
        "\n",
        "    async for task in tqdm(tasks, total=len(tasks), desc=\"Processing items\"):\n",
        "        await task\n",
        "        time.sleep(delay)\n",
        "\n"
      ],
      "metadata": {
        "id": "aMkciw1yoTeg"
      },
      "execution_count": 67,
      "outputs": []
    },
    {
      "cell_type": "code",
      "source": [],
      "metadata": {
        "id": "_8Q8HN-Ao-UK"
      },
      "execution_count": 67,
      "outputs": []
    },
    {
      "cell_type": "code",
      "source": [
        "from google.colab import drive\n",
        "drive.mount('/content/drive')"
      ],
      "metadata": {
        "colab": {
          "base_uri": "https://localhost:8080/"
        },
        "id": "0oF5kzkGtaGc",
        "outputId": "d0a1d01b-8c9b-40fb-f019-74a439d7adad"
      },
      "execution_count": 68,
      "outputs": [
        {
          "output_type": "stream",
          "name": "stdout",
          "text": [
            "Drive already mounted at /content/drive; to attempt to forcibly remount, call drive.mount(\"/content/drive\", force_remount=True).\n"
          ]
        }
      ]
    },
    {
      "cell_type": "code",
      "source": [
        "\n",
        "!ls /content/drive/MyDrive/CardBuild/roleBaize"
      ],
      "metadata": {
        "colab": {
          "base_uri": "https://localhost:8080/"
        },
        "id": "WH4_BOuWuJsx",
        "outputId": "535e66cb-09e9-45b7-e0f4-c186fb477a34"
      },
      "execution_count": 69,
      "outputs": [
        {
          "output_type": "stream",
          "name": "stdout",
          "text": [
            "10_to_200.txt  200_to_4000.txt\t4000_to_6354.txt  first_10.txt\tGLM_first_10.txt\n"
          ]
        }
      ]
    },
    {
      "cell_type": "code",
      "source": [
        "start_id = 6354\n",
        "end_id = 6364\n",
        "final_save_name = \"/content/drive/MyDrive/CardBuild/roleBaize/GLM_first_10.txt\"\n",
        "\n",
        "\n",
        "chat_datas = []\n",
        "\n",
        "for i in range(start_id, end_id):\n",
        "    c, q = tuple_list[i]\n",
        "    data1 = dataset['train'][c]\n",
        "    data2 = dataset['train'][q]\n",
        "    id_str1 = data1['id']\n",
        "    questions = id2questions[id_str1]\n",
        "    random.shuffle(questions)\n",
        "    chat_data = ChatTogether(data1, data2,questions)\n",
        "    chat_datas.append(chat_data)"
      ],
      "metadata": {
        "id": "EcmO3OI-vUvG"
      },
      "execution_count": 76,
      "outputs": []
    },
    {
      "cell_type": "code",
      "source": [
        "print(chat_datas[1].bot_names)"
      ],
      "metadata": {
        "colab": {
          "base_uri": "https://localhost:8080/"
        },
        "id": "YTHYnhgDI-L1",
        "outputId": "b3617e0e-e2e4-4dee-8a4e-2d858398b3a1"
      },
      "execution_count": 77,
      "outputs": [
        {
          "output_type": "stream",
          "name": "stdout",
          "text": [
            "['丹尼·布德曼', 'Mommy miko ']\n"
          ]
        }
      ]
    },
    {
      "cell_type": "code",
      "source": [
        "!rm -rf /content/output_*"
      ],
      "metadata": {
        "id": "GwnFJbB1IJwQ"
      },
      "execution_count": 78,
      "outputs": []
    },
    {
      "cell_type": "code",
      "source": [
        "process_data = []\n",
        "\n",
        "temp_folder = \"/content/drive/MyDrive/CardBuild/exp0108\"\n",
        "\n",
        "for turn_id in range(7):\n",
        "    output_folder = \"/content/output_\" + str( turn_id )\n",
        "\n",
        "    await main(chat_datas, output_folder, turn_id)\n",
        "\n",
        "    await main(chat_datas, output_folder, turn_id)\n",
        "\n",
        "    for chat_data in chat_datas:\n",
        "        # messages = chat_data.get_next_query_messages()\n",
        "        ids = chat_data.ids\n",
        "        uniqure_id = ids[0] + \"_\" + ids[1] + \"_\" + str(turn_id)\n",
        "        save_name = uniqure_id + \".txt\"\n",
        "        save_path = os.path.join(output_folder, save_name)\n",
        "        if os.path.exists(save_path):\n",
        "            with open(save_path, 'r', encoding='utf-8') as f:\n",
        "                try:\n",
        "                    data = json.load(f)\n",
        "                    response = data['response']\n",
        "                    response = response.replace(\"\\\\\", \"\")\n",
        "                    # print(response)\n",
        "                except:\n",
        "                    continue\n",
        "\n",
        "        chat_data.append_message(response)\n",
        "\n",
        "    save_data_file_name = os.path.basename(final_save_name) + \"_turn_\" + str(turn_id) + \".txt\"\n",
        "    save_data_file_path = os.path.join(temp_folder, save_data_file_name)\n",
        "\n",
        "    for file_name in [save_data_file_path, final_save_name]:\n",
        "        with open(file_name, 'w', encoding='utf-8') as f:\n",
        "            for data in chat_datas:\n",
        "                json.dump(data.get_save_data(), f, ensure_ascii=False)\n",
        "                f.write('\\n')\n",
        "\n",
        "    # 在这里为我补充一段代码，chat_datas中的data.get_save_data() 会返回一个dict，将所有的chat_datas中的save data\n",
        "    # 分别保存在save_name, 以及temp_folder中，以save_name的文件名 + _turn_id.txt 命名的文件中"
      ],
      "metadata": {
        "colab": {
          "base_uri": "https://localhost:8080/"
        },
        "id": "tTmkUduaFpLu",
        "outputId": "ea6c1916-a6cd-4467-9286-8835a72557b7"
      },
      "execution_count": 79,
      "outputs": [
        {
          "output_type": "stream",
          "name": "stderr",
          "text": [
            "Processing items:  20%|██        | 2/10 [00:40<02:42, 20.32s/it]--- Logging error ---\n",
            "Traceback (most recent call last):\n",
            "  File \"/usr/local/lib/python3.10/dist-packages/urllib3/connectionpool.py\", line 791, in urlopen\n",
            "    response = self._make_request(\n",
            "  File \"/usr/local/lib/python3.10/dist-packages/urllib3/connectionpool.py\", line 537, in _make_request\n",
            "    response = conn.getresponse()\n",
            "  File \"/usr/local/lib/python3.10/dist-packages/urllib3/connection.py\", line 461, in getresponse\n",
            "    httplib_response = super().getresponse()\n",
            "  File \"/usr/lib/python3.10/http/client.py\", line 1375, in getresponse\n",
            "    response.begin()\n",
            "  File \"/usr/lib/python3.10/http/client.py\", line 318, in begin\n",
            "    version, status, reason = self._read_status()\n",
            "  File \"/usr/lib/python3.10/http/client.py\", line 287, in _read_status\n",
            "    raise RemoteDisconnected(\"Remote end closed connection without\"\n",
            "http.client.RemoteDisconnected: Remote end closed connection without response\n",
            "\n",
            "During handling of the above exception, another exception occurred:\n",
            "\n",
            "Traceback (most recent call last):\n",
            "  File \"/usr/local/lib/python3.10/dist-packages/requests/adapters.py\", line 486, in send\n",
            "    resp = conn.urlopen(\n",
            "  File \"/usr/local/lib/python3.10/dist-packages/urllib3/connectionpool.py\", line 845, in urlopen\n",
            "    retries = retries.increment(\n",
            "  File \"/usr/local/lib/python3.10/dist-packages/urllib3/util/retry.py\", line 470, in increment\n",
            "    raise reraise(type(error), error, _stacktrace)\n",
            "  File \"/usr/local/lib/python3.10/dist-packages/urllib3/util/util.py\", line 38, in reraise\n",
            "    raise value.with_traceback(tb)\n",
            "  File \"/usr/local/lib/python3.10/dist-packages/urllib3/connectionpool.py\", line 791, in urlopen\n",
            "    response = self._make_request(\n",
            "  File \"/usr/local/lib/python3.10/dist-packages/urllib3/connectionpool.py\", line 537, in _make_request\n",
            "    response = conn.getresponse()\n",
            "  File \"/usr/local/lib/python3.10/dist-packages/urllib3/connection.py\", line 461, in getresponse\n",
            "    httplib_response = super().getresponse()\n",
            "  File \"/usr/lib/python3.10/http/client.py\", line 1375, in getresponse\n",
            "    response.begin()\n",
            "  File \"/usr/lib/python3.10/http/client.py\", line 318, in begin\n",
            "    version, status, reason = self._read_status()\n",
            "  File \"/usr/lib/python3.10/http/client.py\", line 287, in _read_status\n",
            "    raise RemoteDisconnected(\"Remote end closed connection without\"\n",
            "urllib3.exceptions.ProtocolError: ('Connection aborted.', RemoteDisconnected('Remote end closed connection without response'))\n",
            "\n",
            "During handling of the above exception, another exception occurred:\n",
            "\n",
            "Traceback (most recent call last):\n",
            "  File \"/usr/local/lib/python3.10/dist-packages/zhipuai/utils/http_client.py\", line 16, in post\n",
            "    resp = requests.post(\n",
            "  File \"/usr/local/lib/python3.10/dist-packages/requests/api.py\", line 115, in post\n",
            "    return request(\"post\", url, data=data, json=json, **kwargs)\n",
            "  File \"/usr/local/lib/python3.10/dist-packages/requests/api.py\", line 59, in request\n",
            "    return session.request(method=method, url=url, **kwargs)\n",
            "  File \"/usr/local/lib/python3.10/dist-packages/requests/sessions.py\", line 589, in request\n",
            "    resp = self.send(prep, **send_kwargs)\n",
            "  File \"/usr/local/lib/python3.10/dist-packages/requests/sessions.py\", line 703, in send\n",
            "    r = adapter.send(request, **kwargs)\n",
            "  File \"/usr/local/lib/python3.10/dist-packages/requests/adapters.py\", line 501, in send\n",
            "    raise ConnectionError(err, request=request)\n",
            "requests.exceptions.ConnectionError: ('Connection aborted.', RemoteDisconnected('Remote end closed connection without response'))\n",
            "\n",
            "During handling of the above exception, another exception occurred:\n",
            "\n",
            "Traceback (most recent call last):\n",
            "  File \"/usr/lib/python3.10/logging/__init__.py\", line 1100, in emit\n",
            "    msg = self.format(record)\n",
            "  File \"/usr/lib/python3.10/logging/__init__.py\", line 943, in format\n",
            "    return fmt.format(record)\n",
            "  File \"/usr/lib/python3.10/logging/__init__.py\", line 678, in format\n",
            "    record.message = record.getMessage()\n",
            "  File \"/usr/lib/python3.10/logging/__init__.py\", line 368, in getMessage\n",
            "    msg = msg % self.args\n",
            "TypeError: not all arguments converted during string formatting\n",
            "Call stack:\n",
            "  File \"/usr/lib/python3.10/threading.py\", line 973, in _bootstrap\n",
            "    self._bootstrap_inner()\n",
            "  File \"/usr/lib/python3.10/threading.py\", line 1016, in _bootstrap_inner\n",
            "    self.run()\n",
            "  File \"/usr/lib/python3.10/threading.py\", line 953, in run\n",
            "    self._target(*self._args, **self._kwargs)\n",
            "  File \"/usr/lib/python3.10/concurrent/futures/thread.py\", line 83, in _worker\n",
            "    work_item.run()\n",
            "  File \"/usr/lib/python3.10/concurrent/futures/thread.py\", line 58, in run\n",
            "    result = self.fn(*self.args, **self.kwargs)\n",
            "  File \"/usr/local/lib/python3.10/dist-packages/zhipuai/model_api/api.py\", line 25, in async_invoke\n",
            "    return post(url, cls._generate_token(), kwargs, zhipuai.api_timeout_seconds)\n",
            "  File \"/usr/local/lib/python3.10/dist-packages/zhipuai/utils/http_client.py\", line 23, in post\n",
            "    logging.exception(\"请求异常\", e)\n",
            "Message: '请求异常'\n",
            "Arguments: (ConnectionError(ProtocolError('Connection aborted.', RemoteDisconnected('Remote end closed connection without response'))),)\n",
            "Processing items:  30%|███       | 3/10 [00:41<01:25, 12.27s/it]"
          ]
        },
        {
          "output_type": "stream",
          "name": "stdout",
          "text": [
            "failed to send request,  薩默塞特   Gardevoir\n"
          ]
        },
        {
          "output_type": "stream",
          "name": "stderr",
          "text": [
            "Processing items:  80%|████████  | 8/10 [01:25<00:21, 10.58s/it]"
          ]
        },
        {
          "output_type": "stream",
          "name": "stdout",
          "text": [
            "failed to send request,  萨默塞特   M4A1 MOD3\n",
            "Error processing entry: 'data'\n"
          ]
        },
        {
          "output_type": "stream",
          "name": "stderr",
          "text": [
            "Processing items: 100%|██████████| 10/10 [04:31<00:00, 27.17s/it]\n",
            "Processing items:   0%|          | 0/1 [00:00<?, ?it/s]"
          ]
        },
        {
          "output_type": "stream",
          "name": "stdout",
          "text": [
            "Error processing entry: 'data'\n"
          ]
        },
        {
          "output_type": "stream",
          "name": "stderr",
          "text": [
            "Processing items: 100%|██████████| 1/1 [00:59<00:00, 59.85s/it]\n",
            "Processing items:   0%|          | 0/10 [00:00<?, ?it/s]"
          ]
        },
        {
          "output_type": "stream",
          "name": "stdout",
          "text": [
            "failed to send request,  Mari   凯瑟琳\n",
            "failed to send request,  Mommy miko    丹尼·布德曼\n",
            "failed to send request,  派   Carter\n",
            "failed to send request,  Shirakami Fubuki   保罗\n",
            "failed to send request,  Cory   Bernie\n",
            "failed to send request,  Gardevoir   薩默塞特\n"
          ]
        },
        {
          "output_type": "stream",
          "name": "stderr",
          "text": [
            "\rProcessing items:  20%|██        | 2/10 [00:11<00:46,  5.82s/it]"
          ]
        },
        {
          "output_type": "stream",
          "name": "stdout",
          "text": [
            "failed to send request,  Shirakami Fubuki   保罗\n"
          ]
        },
        {
          "output_type": "stream",
          "name": "stderr",
          "text": [
            "Processing items:  70%|███████   | 7/10 [00:16<00:04,  1.52s/it]"
          ]
        },
        {
          "output_type": "stream",
          "name": "stdout",
          "text": [
            "failed to send request,  Cory   Bernie\n"
          ]
        },
        {
          "output_type": "stream",
          "name": "stderr",
          "text": [
            "Processing items: 100%|██████████| 10/10 [00:23<00:00,  2.35s/it]\n",
            "Processing items: 0it [00:00, ?it/s]\n",
            "Processing items:   0%|          | 0/10 [00:00<?, ?it/s]"
          ]
        },
        {
          "output_type": "stream",
          "name": "stdout",
          "text": [
            "failed to send request,  Daphne   Fannywise\n",
            "failed to send request,  哈利   Abel\n",
            "failed to send request,  丹尼·布德曼   Mommy miko \n",
            "failed to send request,  薩默塞特   Gardevoir\n"
          ]
        },
        {
          "output_type": "stream",
          "name": "stderr",
          "text": [
            "\rProcessing items:  20%|██        | 2/10 [00:07<00:30,  3.82s/it]"
          ]
        },
        {
          "output_type": "stream",
          "name": "stdout",
          "text": [
            "failed to send request,  Bernie   Cory\n"
          ]
        },
        {
          "output_type": "stream",
          "name": "stderr",
          "text": [
            "Processing items:  70%|███████   | 7/10 [00:15<00:05,  1.74s/it]"
          ]
        },
        {
          "output_type": "stream",
          "name": "stdout",
          "text": [
            "failed to send request,  薩默塞特   Gardevoir\n"
          ]
        },
        {
          "output_type": "stream",
          "name": "stderr",
          "text": [
            "Processing items: 100%|██████████| 10/10 [00:24<00:00,  2.49s/it]\n",
            "Processing items: 0it [00:00, ?it/s]\n",
            "Processing items:   0%|          | 0/10 [00:00<?, ?it/s]"
          ]
        },
        {
          "output_type": "stream",
          "name": "stdout",
          "text": [
            "failed to send request,  Daphne   Fannywise\n",
            "failed to send request,  丹尼·布德曼   Mommy miko \n",
            "failed to send request,  Carter   派\n",
            "failed to send request,  保罗   Shirakami Fubuki\n",
            "failed to send request,  Bernie   Cory\n",
            "failed to send request,  萨默塞特   M4A1 MOD3\n",
            "failed to send request,  薩默塞特   Gardevoir\n",
            "failed to send request,  Carter   派\n"
          ]
        },
        {
          "output_type": "stream",
          "name": "stderr",
          "text": [
            "Processing items:  40%|████      | 4/10 [00:14<00:17,  2.83s/it]"
          ]
        },
        {
          "output_type": "stream",
          "name": "stdout",
          "text": [
            "failed to send request,  Bernie   Cory\n",
            "failed to send request,  萨默塞特   M4A1 MOD3\n"
          ]
        },
        {
          "output_type": "stream",
          "name": "stderr",
          "text": [
            "Processing items:  70%|███████   | 7/10 [00:18<00:05,  1.82s/it]"
          ]
        },
        {
          "output_type": "stream",
          "name": "stdout",
          "text": [
            "Error processing entry: 'data'\n"
          ]
        },
        {
          "output_type": "stream",
          "name": "stderr",
          "text": [
            "Processing items: 100%|██████████| 10/10 [01:18<00:00,  7.83s/it]\n",
            "Processing items:   0%|          | 0/1 [00:00<?, ?it/s]"
          ]
        },
        {
          "output_type": "stream",
          "name": "stdout",
          "text": [
            "Error processing entry: 'data'\n"
          ]
        },
        {
          "output_type": "stream",
          "name": "stderr",
          "text": [
            "Processing items: 100%|██████████| 1/1 [01:00<00:00, 60.50s/it]\n",
            "Processing items:   0%|          | 0/10 [00:00<?, ?it/s]"
          ]
        },
        {
          "output_type": "stream",
          "name": "stdout",
          "text": [
            "failed to send request,  派   Carter\n",
            "failed to send request,  Abel   哈利\n",
            "failed to send request,  Fannywise   Daphne\n"
          ]
        },
        {
          "output_type": "stream",
          "name": "stderr",
          "text": [
            "Processing items:  30%|███       | 3/10 [00:07<00:17,  2.49s/it]"
          ]
        },
        {
          "output_type": "stream",
          "name": "stdout",
          "text": [
            "failed to send request,  Shirakami Fubuki   保罗\n",
            "failed to send request,  Cory   Bernie\n",
            "failed to send request,  M4A1 MOD3   萨默塞特\n"
          ]
        },
        {
          "output_type": "stream",
          "name": "stderr",
          "text": [
            "Processing items:  50%|█████     | 5/10 [00:13<00:11,  2.39s/it]"
          ]
        },
        {
          "output_type": "stream",
          "name": "stdout",
          "text": [
            "failed to send request,  Cory   Bernie\n"
          ]
        },
        {
          "output_type": "stream",
          "name": "stderr",
          "text": [
            "Processing items: 100%|██████████| 10/10 [00:20<00:00,  2.05s/it]\n",
            "Processing items: 0it [00:00, ?it/s]\n",
            "Processing items:   0%|          | 0/10 [00:00<?, ?it/s]"
          ]
        },
        {
          "output_type": "stream",
          "name": "stdout",
          "text": [
            "failed to send request,  哈利   Abel\n",
            "failed to send request,  派   Carter\n",
            "failed to send request,  Daphne   Fannywise\n",
            "failed to send request,  萨默塞特   M4A1 MOD3\n",
            "failed to send request,  薩默塞特   Gardevoir\n",
            "failed to send request,  保罗   Shirakami Fubuki\n"
          ]
        },
        {
          "output_type": "stream",
          "name": "stderr",
          "text": [
            "Processing items:  30%|███       | 3/10 [00:11<00:24,  3.57s/it]"
          ]
        },
        {
          "output_type": "stream",
          "name": "stdout",
          "text": [
            "failed to send request,  哈利   Abel\n",
            "failed to send request,  Daphne   Fannywise\n",
            "failed to send request,  保罗   Shirakami Fubuki\n"
          ]
        },
        {
          "output_type": "stream",
          "name": "stderr",
          "text": [
            "Processing items: 100%|██████████| 10/10 [00:25<00:00,  2.56s/it]\n",
            "Processing items: 0it [00:00, ?it/s]\n",
            "Processing items:   0%|          | 0/10 [00:00<?, ?it/s]"
          ]
        },
        {
          "output_type": "stream",
          "name": "stdout",
          "text": [
            "failed to send request,  Carter   派\n",
            "failed to send request,  文森特   M16A1\n",
            "failed to send request,  哈利   Abel\n",
            "failed to send request,  Bernie   Cory\n",
            "failed to send request,  保罗   Shirakami Fubuki\n",
            "failed to send request,  萨默塞特   M4A1 MOD3\n",
            "failed to send request,  薩默塞特   Gardevoir\n"
          ]
        },
        {
          "output_type": "stream",
          "name": "stderr",
          "text": [
            "Processing items:  30%|███       | 3/10 [00:11<00:24,  3.49s/it]"
          ]
        },
        {
          "output_type": "stream",
          "name": "stdout",
          "text": [
            "failed to send request,  文森特   M16A1\n"
          ]
        },
        {
          "output_type": "stream",
          "name": "stderr",
          "text": [
            "Processing items:  60%|██████    | 6/10 [00:14<00:06,  1.68s/it]"
          ]
        },
        {
          "output_type": "stream",
          "name": "stdout",
          "text": [
            "failed to send request,  Bernie   Cory\n",
            "failed to send request,  薩默塞特   Gardevoir\n",
            "failed to send request,  保罗   Shirakami Fubuki\n",
            "failed to send request,  萨默塞特   M4A1 MOD3\n"
          ]
        },
        {
          "output_type": "stream",
          "name": "stderr",
          "text": [
            "\rProcessing items:  70%|███████   | 7/10 [00:17<00:05,  1.98s/it]"
          ]
        },
        {
          "output_type": "stream",
          "name": "stdout",
          "text": [
            "failed to send request,  保罗   Shirakami Fubuki\n",
            "Error processing entry: movie_9_PIPPA_492_6\n"
          ]
        },
        {
          "output_type": "stream",
          "name": "stderr",
          "text": [
            "Processing items: 100%|██████████| 10/10 [00:25<00:00,  2.52s/it]\n",
            "Processing items: 100%|██████████| 1/1 [00:10<00:00, 10.03s/it]\n"
          ]
        }
      ]
    },
    {
      "cell_type": "code",
      "source": [
        "print(response)"
      ],
      "metadata": {
        "colab": {
          "base_uri": "https://localhost:8080/"
        },
        "id": "ryuUeDZTOQq1",
        "outputId": "fe8bf36e-da52-4713-8dd5-6d7b22ec70ef"
      },
      "execution_count": 75,
      "outputs": [
        {
          "output_type": "stream",
          "name": "stdout",
          "text": [
            "\"\\\"\\\\\\\"\\\\\\\\\\\\\\\"我会尽我所能帮助他们，无论是提供食物、医疗还是安全。\\\\\\\\\\\\\\\\\\\\\\\\\\\\\\\\\\\\\\\\\\\\\\\\\\\\\\\\\\\\\\\\\\\\\\\\\\\\\\\\\\\\\\\\\\\\\\\\\\\\\\\\\\\\\\\\\\\\\\\\\\\\\\\"\\\\\\\\\\\\\\\\n\\\\\\\\\\\\\\\\\\\\\\\\\\\\\\\"\\\\\\\\\\\\\\\\n\\\\\\\\\\\\\\\"\\\\\\\\n\\\\\\\"\\\\n\\\"\\n\"\n"
          ]
        }
      ]
    },
    {
      "cell_type": "code",
      "source": [
        "start_id = 6364\n",
        "end_id = 6464\n",
        "final_save_name = \"/content/drive/MyDrive/CardBuild/roleBaize/GLM_6364_to_6464.txt\"\n",
        "\n",
        "\n",
        "chat_datas = []\n",
        "\n",
        "for i in range(start_id, end_id):\n",
        "    c, q = tuple_list[i]\n",
        "    data1 = dataset['train'][c]\n",
        "    data2 = dataset['train'][q]\n",
        "    id_str1 = data1['id']\n",
        "    questions = id2questions[id_str1]\n",
        "    random.shuffle(questions)\n",
        "    chat_data = ChatTogether(data1, data2,questions)\n",
        "    chat_datas.append(chat_data)"
      ],
      "metadata": {
        "id": "bxBfsLTrGvO7"
      },
      "execution_count": 80,
      "outputs": []
    },
    {
      "cell_type": "code",
      "source": [
        "process_data = []\n",
        "\n",
        "temp_folder = \"/content/drive/MyDrive/CardBuild/exp0108\"\n",
        "\n",
        "for turn_id in range(7):\n",
        "    output_folder = \"/content/output_\" + str( turn_id )\n",
        "\n",
        "    await main(chat_datas, output_folder, turn_id)\n",
        "\n",
        "    await main(chat_datas, output_folder, turn_id)\n",
        "\n",
        "    for chat_data in chat_datas:\n",
        "        # messages = chat_data.get_next_query_messages()\n",
        "        ids = chat_data.ids\n",
        "        uniqure_id = ids[0] + \"_\" + ids[1] + \"_\" + str(turn_id)\n",
        "        save_name = uniqure_id + \".txt\"\n",
        "        save_path = os.path.join(output_folder, save_name)\n",
        "        if os.path.exists(save_path):\n",
        "            with open(save_path, 'r', encoding='utf-8') as f:\n",
        "                try:\n",
        "                    data = json.load(f)\n",
        "                    response = data['response']\n",
        "                    response = response.replace(\"\\\\\", \"\")\n",
        "                    # print(response)\n",
        "                except:\n",
        "                    continue\n",
        "\n",
        "        chat_data.append_message(response)\n",
        "\n",
        "    save_data_file_name = os.path.basename(final_save_name) + \"_turn_\" + str(turn_id) + \".txt\"\n",
        "    save_data_file_path = os.path.join(temp_folder, save_data_file_name)\n",
        "\n",
        "    for file_name in [save_data_file_path, final_save_name]:\n",
        "        with open(file_name, 'w', encoding='utf-8') as f:\n",
        "            for data in chat_datas:\n",
        "                json.dump(data.get_save_data(), f, ensure_ascii=False)\n",
        "                f.write('\\n')\n",
        "\n",
        "    # 在这里为我补充一段代码，chat_datas中的data.get_save_data() 会返回一个dict，将所有的chat_datas中的save data\n",
        "    # 分别保存在save_name, 以及temp_folder中，以save_name的文件名 + _turn_id.txt 命名的文件中"
      ],
      "metadata": {
        "colab": {
          "base_uri": "https://localhost:8080/"
        },
        "id": "138hJqkmKKgm",
        "outputId": "8c008b0b-0159-4fa7-96a9-72bde8007a93"
      },
      "execution_count": 81,
      "outputs": [
        {
          "output_type": "stream",
          "name": "stderr",
          "text": [
            "\rProcessing items:   0%|          | 0/100 [00:00<?, ?it/s]"
          ]
        },
        {
          "output_type": "stream",
          "name": "stdout",
          "text": [
            "failed to send request,  哈利   Ken\n",
            "failed to send request,  约翰·邓巴中尉   比利·林恩\n",
            "failed to send request,  尼爾·卡夫瑞   Hououin Kyouma\n"
          ]
        },
        {
          "output_type": "stream",
          "name": "stderr",
          "text": [
            "Processing items:   3%|▎         | 3/100 [00:07<03:56,  2.44s/it]"
          ]
        },
        {
          "output_type": "stream",
          "name": "stdout",
          "text": [
            "failed to send request,  布莱恩   Karen\n",
            "failed to send request,  Kelly   Clyde\n",
            "failed to send request,  Martin   塞尔马\n",
            "failed to send request,  山姆   India\n"
          ]
        },
        {
          "output_type": "stream",
          "name": "stderr",
          "text": [
            "\rProcessing items:   4%|▍         | 4/100 [00:12<05:20,  3.34s/it]"
          ]
        },
        {
          "output_type": "stream",
          "name": "stdout",
          "text": [
            "failed to send request,  Stella   Beau\n"
          ]
        },
        {
          "output_type": "stream",
          "name": "stderr",
          "text": [
            "Processing items:   6%|▌         | 6/100 [00:14<03:10,  2.02s/it]"
          ]
        },
        {
          "output_type": "stream",
          "name": "stdout",
          "text": [
            "failed to send request,  Severide   Drift\n",
            "failed to send request,  Martin   塞尔马\n"
          ]
        },
        {
          "output_type": "stream",
          "name": "stderr",
          "text": [
            "Processing items:  10%|█         | 10/100 [00:18<01:50,  1.23s/it]"
          ]
        },
        {
          "output_type": "stream",
          "name": "stdout",
          "text": [
            "failed to send request,  John   伊扎克·斯特恩\n",
            "failed to send request,  Scarlet   哈利•波特\n"
          ]
        },
        {
          "output_type": "stream",
          "name": "stderr",
          "text": [
            "Processing items:  32%|███▏      | 32/100 [00:45<01:09,  1.02s/it]"
          ]
        },
        {
          "output_type": "stream",
          "name": "stdout",
          "text": [
            "failed to send request,  Mori Calliope   凯特\n",
            "failed to send request,  Yufine   Mitch\n",
            "failed to send request,  CALEB   Gas Room Latex Wolf\n",
            "failed to send request,  Cataleya   McLaren-Chan \n",
            "failed to send request,  鬼丸   R.P.麦克墨菲\n",
            "failed to send request,  Adam   Apricot Froot\n",
            "failed to send request,  澤羅·穆斯塔法   吉米\n",
            "failed to send request,  艾登   Yuuka Kazami\n"
          ]
        },
        {
          "output_type": "stream",
          "name": "stderr",
          "text": [
            "\rProcessing items:  33%|███▎      | 33/100 [00:53<03:31,  3.15s/it]"
          ]
        },
        {
          "output_type": "stream",
          "name": "stdout",
          "text": [
            "failed to send request,  Cataleya   McLaren-Chan \n",
            "failed to send request,  Casey   Yanami\n",
            "failed to send request,  CALEB   Gas Room Latex Wolf\n",
            "failed to send request,  瓦列·席皮尔曼   G41\n"
          ]
        },
        {
          "output_type": "stream",
          "name": "stderr",
          "text": [
            "Processing items:  37%|███▋      | 37/100 [00:57<01:35,  1.52s/it]"
          ]
        },
        {
          "output_type": "stream",
          "name": "stdout",
          "text": [
            "failed to send request,  鬼丸   R.P.麦克墨菲\n",
            "failed to send request,  阿SIR   Bob\n",
            "failed to send request,  布鲁斯·韦恩   MG5\n",
            "failed to send request,  Adam   Apricot Froot\n",
            "failed to send request,  爱拉   瓦力\n",
            "failed to send request,  马里斯   未知\n",
            "failed to send request,  CALEB   Gas Room Latex Wolf\n",
            "Error processing entry: movie_46_PIPPA_350_0\n",
            "failed to send request,  瓦列·席皮尔曼   G41\n"
          ]
        },
        {
          "output_type": "stream",
          "name": "stderr",
          "text": [
            "Processing items:  47%|████▋     | 47/100 [01:10<00:55,  1.05s/it]"
          ]
        },
        {
          "output_type": "stream",
          "name": "stdout",
          "text": [
            "failed to send request,  Adam   Apricot Froot\n",
            "Error processing entry: movie_59_PIPPA_1222_0\n",
            "failed to send request,  阿贝尔Plenkov   夏春花\n",
            "failed to send request,  鬼丸   R.P.麦克墨菲\n",
            "Error processing entry: movie_56_movie_664_0\n"
          ]
        },
        {
          "output_type": "stream",
          "name": "stderr",
          "text": [
            "Processing items:  55%|█████▌    | 55/100 [01:21<00:48,  1.08s/it]"
          ]
        },
        {
          "output_type": "stream",
          "name": "stdout",
          "text": [
            "failed to send request,  （莫莉）   Wendy\n",
            "failed to send request,  碇真嗣   Paarthurnax\n",
            "failed to send request,  瓦列·席皮尔曼   G41\n",
            "Error processing entry: movie_66_PIPPA_372_0\n"
          ]
        },
        {
          "output_type": "stream",
          "name": "stderr",
          "text": [
            "Processing items:  71%|███████   | 71/100 [01:37<00:29,  1.01s/it]"
          ]
        },
        {
          "output_type": "stream",
          "name": "stdout",
          "text": [
            "failed to send request,  劳伦   Mr.\n",
            "failed to send request,  艾伦   Rukkhadevata\n",
            "failed to send request,  Yonomi   布鲁斯·韦恩\n",
            "failed to send request,  艾瑪   Jack\n",
            "failed to send request,  （莫莉）   Wendy\n",
            "failed to send request,  马科   Misaki\n",
            "failed to send request,  阿May   Miss Hernandez\n",
            "failed to send request,  PK   StG-44 Mod 3\n",
            "failed to send request,  艾伦   Rukkhadevata\n",
            "failed to send request,  劳伦   Mr.\n",
            "failed to send request,  艾瑪   Jack\n",
            "failed to send request,  斯图尔特   Sasha\n",
            "failed to send request,  （莫莉）   Wendy\n",
            "Error processing entry: movie_82_movie_873_0\n"
          ]
        },
        {
          "output_type": "stream",
          "name": "stderr",
          "text": [
            "Processing items:  76%|███████▌  | 76/100 [01:49<00:36,  1.52s/it]"
          ]
        },
        {
          "output_type": "stream",
          "name": "stdout",
          "text": [
            "failed to send request,  阿May   Miss Hernandez\n"
          ]
        },
        {
          "output_type": "stream",
          "name": "stderr",
          "text": [
            "\rProcessing items:  77%|███████▋  | 77/100 [01:52<00:42,  1.84s/it]"
          ]
        },
        {
          "output_type": "stream",
          "name": "stdout",
          "text": [
            "failed to send request,  李   Nanashi Mumei\n",
            "failed to send request,  艾伦   Rukkhadevata\n",
            "Error processing entry: movie_88_PIPPA_856_0\n"
          ]
        },
        {
          "output_type": "stream",
          "name": "stderr",
          "text": [
            "Processing items: 100%|██████████| 100/100 [02:17<00:00,  1.37s/it]\n",
            "Processing items: 100%|██████████| 6/6 [00:12<00:00,  2.15s/it]\n",
            "Processing items:   0%|          | 0/100 [00:00<?, ?it/s]"
          ]
        },
        {
          "output_type": "stream",
          "name": "stdout",
          "text": [
            "failed to send request,  比利·林恩   约翰·邓巴中尉\n",
            "failed to send request,  Hououin Kyouma   尼爾·卡夫瑞\n"
          ]
        },
        {
          "output_type": "stream",
          "name": "stderr",
          "text": [
            "Processing items:   4%|▍         | 4/100 [00:14<04:35,  2.87s/it]"
          ]
        },
        {
          "output_type": "stream",
          "name": "stdout",
          "text": [
            "failed to send request,  Noil   Sam\n",
            "failed to send request,  India   山姆\n",
            "failed to send request,  Sara   Martin\n"
          ]
        },
        {
          "output_type": "stream",
          "name": "stderr",
          "text": [
            "Processing items:   6%|▌         | 6/100 [00:17<03:23,  2.17s/it]"
          ]
        },
        {
          "output_type": "stream",
          "name": "stdout",
          "text": [
            "failed to send request,  塞尔马   John\n"
          ]
        },
        {
          "output_type": "stream",
          "name": "stderr",
          "text": [
            "Processing items:   9%|▉         | 9/100 [00:22<02:29,  1.64s/it]"
          ]
        },
        {
          "output_type": "stream",
          "name": "stdout",
          "text": [
            "failed to send request,  Drift   Severide\n",
            "failed to send request,  伊扎克·斯特恩   John\n",
            "failed to send request,  Noil   Sam\n",
            "failed to send request,  Reze    Paul\n",
            "failed to send request,  5 dollar foot long   Machete\n",
            "failed to send request,  Scolipede   麦克墨菲\n",
            "failed to send request,  Alfia PG   Ismay先生\n",
            "failed to send request,  Sara   Martin\n",
            "failed to send request,  My Hero Academia RP   王重阳\n",
            "failed to send request,  Suzuha Amane   胡迪\n",
            "failed to send request,  伊扎克·斯特恩   John\n",
            "failed to send request,  Noil   Sam\n",
            "Error processing entry: movie_18_PIPPA_146_1\n"
          ]
        },
        {
          "output_type": "stream",
          "name": "stderr",
          "text": [
            "Processing items:  13%|█▎        | 13/100 [00:33<02:40,  1.85s/it]"
          ]
        },
        {
          "output_type": "stream",
          "name": "stdout",
          "text": [
            "failed to send request,  Reze    Paul\n",
            "failed to send request,  5 dollar foot long   Machete\n",
            "failed to send request,  Alfia PG   Ismay先生\n"
          ]
        },
        {
          "output_type": "stream",
          "name": "stderr",
          "text": [
            "Processing items:  21%|██        | 21/100 [00:41<01:23,  1.05s/it]"
          ]
        },
        {
          "output_type": "stream",
          "name": "stdout",
          "text": [
            "failed to send request,  威爾   卡尔文\n",
            "failed to send request,  Bandit Hermit   公主\n",
            "failed to send request,  My Hero Academia RP   王重阳\n",
            "failed to send request,  Suzuha Amane   胡迪\n",
            "failed to send request,  Gwynn   Severide\n",
            "failed to send request,  伊扎克·斯特恩   John\n",
            "Error processing entry: movie_30_movie_339_1\n",
            "failed to send request,  Snowball Translator   Luce\n"
          ]
        },
        {
          "output_type": "stream",
          "name": "stderr",
          "text": [
            "Processing items:  25%|██▌       | 25/100 [00:47<01:31,  1.22s/it]"
          ]
        },
        {
          "output_type": "stream",
          "name": "stdout",
          "text": [
            "failed to send request,  5 dollar foot long   Machete\n",
            "Error processing entry: movie_34_PIPPA_473_1\n",
            "failed to send request,  Alfia PG   Ismay先生\n",
            "Error processing entry: movie_36_PIPPA_863_1\n"
          ]
        },
        {
          "output_type": "stream",
          "name": "stderr",
          "text": [
            "Processing items:  28%|██▊       | 28/100 [00:50<01:17,  1.08s/it]"
          ]
        },
        {
          "output_type": "stream",
          "name": "stdout",
          "text": [
            "failed to send request,  My Hero Academia RP   王重阳\n",
            "Error processing entry: movie_37_PIPPA_511_1\n",
            "failed to send request,  Prince Alastair   Luce\n",
            "failed to send request,  朱利安·阿桑奇   賴斯特\n",
            "failed to send request,  R.P.麦克墨菲   鬼丸\n",
            "failed to send request,  Apricot Froot   Adam\n",
            "failed to send request,  Cave Johnson   特米斯托克列\n"
          ]
        },
        {
          "output_type": "stream",
          "name": "stderr",
          "text": [
            "Processing items:  31%|███       | 31/100 [00:55<01:31,  1.33s/it]"
          ]
        },
        {
          "output_type": "stream",
          "name": "stdout",
          "text": [
            "failed to send request,  Gwynn   Severide\n",
            "failed to send request,  Yuuka Kazami   艾登\n",
            "failed to send request,  吉米   澤羅·穆斯塔法\n"
          ]
        },
        {
          "output_type": "stream",
          "name": "stderr",
          "text": [
            "Processing items:  39%|███▉      | 39/100 [01:03<01:02,  1.02s/it]"
          ]
        },
        {
          "output_type": "stream",
          "name": "stdout",
          "text": [
            "failed to send request,  Yanami   Casey\n",
            "failed to send request,  朱利安·阿桑奇   賴斯特\n",
            "failed to send request,  R.P.麦克墨菲   鬼丸\n",
            "failed to send request,  Bob   阿SIR\n",
            "failed to send request,  吉米   澤羅·穆斯塔法\n",
            "failed to send request,  瓦力   爱拉\n",
            "failed to send request,  Mk48    布鲁斯·韦恩\n",
            "failed to send request,  MG5   布鲁斯·韦恩\n"
          ]
        },
        {
          "output_type": "stream",
          "name": "stderr",
          "text": [
            "Processing items:  47%|████▋     | 47/100 [01:18<01:20,  1.51s/it]"
          ]
        },
        {
          "output_type": "stream",
          "name": "stdout",
          "text": [
            "failed to send request,  R.P.麦克墨菲   鬼丸\n",
            "Error processing entry: movie_56_movie_664_1\n",
            "failed to send request,  MG5   布鲁斯·韦恩\n",
            "failed to send request,  瓦力   爱拉\n"
          ]
        },
        {
          "output_type": "stream",
          "name": "stderr",
          "text": [
            "Processing items:  57%|█████▋    | 57/100 [01:29<00:44,  1.03s/it]"
          ]
        },
        {
          "output_type": "stream",
          "name": "stdout",
          "text": [
            "failed to send request,  Modeus   Hugh\n",
            "failed to send request,  Paarthurnax   碇真嗣\n",
            "failed to send request,  瓦力   爱拉\n",
            "Error processing entry: movie_71_movie_109_1\n",
            "failed to send request,  Wendy   （莫莉）\n",
            "failed to send request,  VZ-61   伍迪\n",
            "failed to send request,  Miss Hernandez   阿May\n",
            "failed to send request,  Jack   艾瑪\n",
            "failed to send request,  Wendy   （莫莉）\n",
            "failed to send request,  Modeus   Hugh\n",
            "failed to send request,  Paarthurnax   碇真嗣\n",
            "failed to send request,  Misaki   马科\n",
            "failed to send request,  VZ-61   伍迪\n",
            "failed to send request,  Tallion Ritternatch   电光兽\n",
            "failed to send request,  Nahida   葛芮丝\n",
            "failed to send request,  Wendy   （莫莉）\n",
            "Error processing entry: movie_82_movie_873_1\n",
            "failed to send request,  Paarthurnax   碇真嗣\n",
            "Error processing entry: movie_80_PIPPA_64_1\n",
            "failed to send request,  Misaki   马科\n",
            "failed to send request,  Captain Caroline   小贤\n",
            "failed to send request,  山姆   Yui Kotegawa\n",
            "failed to send request,  VZ-61   伍迪\n",
            "Error processing entry: movie_86_PIPPA_768_1\n",
            "failed to send request,  Nagatoro Hayase   马丁\n",
            "failed to send request,  瓦力   唐\n",
            "failed to send request,  Nahida   葛芮丝\n",
            "failed to send request,  Emma   特拉维斯\n",
            "failed to send request,  Captain Caroline   小贤\n",
            "failed to send request,  山姆   Yui Kotegawa\n",
            "Error processing entry: 'data'\n",
            "Error processing entry: 'data'\n"
          ]
        },
        {
          "output_type": "stream",
          "name": "stderr",
          "text": [
            "Processing items: 100%|██████████| 100/100 [03:13<00:00,  1.94s/it]\n",
            "Processing items:   0%|          | 0/12 [00:00<?, ?it/s]"
          ]
        },
        {
          "output_type": "stream",
          "name": "stdout",
          "text": [
            "failed to send request,  Alfia PG   Ismay先生\n",
            "failed to send request,  5 dollar foot long   Machete\n"
          ]
        },
        {
          "output_type": "stream",
          "name": "stderr",
          "text": [
            "Processing items:  25%|██▌       | 3/12 [00:07<00:19,  2.20s/it]"
          ]
        },
        {
          "output_type": "stream",
          "name": "stdout",
          "text": [
            "failed to send request,  R.P.麦克墨菲   鬼丸\n",
            "failed to send request,  Wendy   （莫莉）\n",
            "failed to send request,  瓦力   爱拉\n",
            "failed to send request,  VZ-61   伍迪\n"
          ]
        },
        {
          "output_type": "stream",
          "name": "stderr",
          "text": [
            "Processing items:  58%|█████▊    | 7/12 [00:24<00:22,  4.46s/it]"
          ]
        },
        {
          "output_type": "stream",
          "name": "stdout",
          "text": [
            "Error processing entry: 'data'\n"
          ]
        },
        {
          "output_type": "stream",
          "name": "stderr",
          "text": [
            "\rProcessing items:  67%|██████▋   | 8/12 [01:06<01:05, 16.44s/it]"
          ]
        },
        {
          "output_type": "stream",
          "name": "stdout",
          "text": [
            "Error processing entry: 'data'\n"
          ]
        },
        {
          "output_type": "stream",
          "name": "stderr",
          "text": [
            "Processing items: 100%|██████████| 12/12 [01:15<00:00,  6.26s/it]\n",
            "Processing items:   0%|          | 0/100 [00:00<?, ?it/s]"
          ]
        },
        {
          "output_type": "stream",
          "name": "stdout",
          "text": [
            "failed to send request,  MITCH   斯卡特\n",
            "failed to send request,  约翰·邓巴中尉   比利·林恩\n",
            "failed to send request,  哈利   Ken\n"
          ]
        },
        {
          "output_type": "stream",
          "name": "stderr",
          "text": [
            "\rProcessing items:   2%|▏         | 2/100 [00:06<05:21,  3.28s/it]"
          ]
        },
        {
          "output_type": "stream",
          "name": "stdout",
          "text": [
            "failed to send request,  Kelly   Clyde\n",
            "failed to send request,  Pelham   Jamma\n",
            "failed to send request,  MITCH   碇真嗣\n",
            "failed to send request,  Sam   Noil\n",
            "failed to send request,  山姆   India\n"
          ]
        },
        {
          "output_type": "stream",
          "name": "stderr",
          "text": [
            "\rProcessing items:   3%|▎         | 3/100 [00:10<05:54,  3.66s/it]"
          ]
        },
        {
          "output_type": "stream",
          "name": "stdout",
          "text": [
            "failed to send request,  哈利   Ken\n",
            "failed to send request,  Severide   Drift\n",
            "failed to send request,  周伯通   Neal\n",
            "failed to send request,  Kelly   Clyde\n",
            "failed to send request,  MITCH   碇真嗣\n",
            "failed to send request,  史都   Chizuru Mizuhara\n",
            "failed to send request,  哈利•波特   Scarlet\n",
            "failed to send request,  Paul   Reze \n"
          ]
        },
        {
          "output_type": "stream",
          "name": "stderr",
          "text": [
            "Processing items:   7%|▋         | 7/100 [00:21<03:23,  2.19s/it]"
          ]
        },
        {
          "output_type": "stream",
          "name": "stdout",
          "text": [
            "failed to send request,  麦克墨菲   Scolipede\n",
            "failed to send request,  周伯通   Neal\n",
            "failed to send request,  RUBY   丁丁\n",
            "failed to send request,  Paul   Reze \n",
            "failed to send request,  胡迪   Suzuha Amane\n",
            "failed to send request,  MITCH   碇真嗣\n",
            "Error processing entry: movie_16_movie_174_2\n"
          ]
        },
        {
          "output_type": "stream",
          "name": "stderr",
          "text": [
            "Processing items:  24%|██▍       | 24/100 [00:42<01:28,  1.17s/it]"
          ]
        },
        {
          "output_type": "stream",
          "name": "stdout",
          "text": [
            "failed to send request,  马小军   Yui Hirasawa\n",
            "failed to send request,  卡尔文   威爾\n",
            "failed to send request,  公主   Bandit Hermit\n",
            "failed to send request,  CALEB   Gas Room Latex Wolf\n",
            "failed to send request,  伍迪   Helena\n",
            "failed to send request,  Luce   Snowball Translator\n",
            "failed to send request,  Severide   Gwynn\n",
            "failed to send request,  RUBY   丁丁\n",
            "failed to send request,  Paul   Reze \n",
            "Error processing entry: movie_33_PIPPA_454_2\n",
            "failed to send request,  Atenton   电光兽\n"
          ]
        },
        {
          "output_type": "stream",
          "name": "stderr",
          "text": [
            "Processing items:  29%|██▉       | 29/100 [00:48<01:18,  1.11s/it]"
          ]
        },
        {
          "output_type": "stream",
          "name": "stdout",
          "text": [
            "failed to send request,  Adam   Apricot Froot\n",
            "failed to send request,  公主   Bandit Hermit\n",
            "failed to send request,  马小军   Yui Hirasawa\n",
            "failed to send request,  CALEB   Gas Room Latex Wolf\n",
            "failed to send request,  卡尔文   威爾\n",
            "failed to send request,  伍迪   Helena\n",
            "failed to send request,  Luce   Snowball Translator\n",
            "failed to send request,  特米斯托克列   Cave Johnson\n",
            "failed to send request,  Atenton   电光兽\n",
            "failed to send request,  RUBY   丁丁\n",
            "Error processing entry: movie_38_movie_743_2\n"
          ]
        },
        {
          "output_type": "stream",
          "name": "stderr",
          "text": [
            "Processing items:  36%|███▌      | 36/100 [01:00<01:35,  1.49s/it]"
          ]
        },
        {
          "output_type": "stream",
          "name": "stdout",
          "text": [
            "failed to send request,  布鲁斯·韦恩   Severide\n",
            "failed to send request,  瓦列·席皮尔曼   G41\n",
            "failed to send request,  Adam   Apricot Froot\n",
            "failed to send request,  公主   Bandit Hermit\n",
            "Error processing entry: movie_45_PIPPA_675_2\n",
            "failed to send request,  伍迪   Helena\n",
            "Error processing entry: movie_47_PIPPA_352_2\n",
            "failed to send request,  皮特   关宁\n",
            "failed to send request,  Atenton   电光兽\n",
            "Error processing entry: movie_51_movie_99_2\n",
            "failed to send request,  特米斯托克列   Cave Johnson\n"
          ]
        },
        {
          "output_type": "stream",
          "name": "stderr",
          "text": [
            "Processing items:  48%|████▊     | 48/100 [01:13<00:52,  1.02s/it]"
          ]
        },
        {
          "output_type": "stream",
          "name": "stdout",
          "text": [
            "failed to send request,  布鲁斯·韦恩   MG5\n",
            "failed to send request,  爱拉   瓦力\n",
            "failed to send request,  Violet   Khumba\n",
            "failed to send request,  Adam   Apricot Froot\n",
            "Error processing entry: movie_59_PIPPA_1222_2\n",
            "failed to send request,  皮特   关宁\n",
            "failed to send request,  特米斯托克列   Cave Johnson\n",
            "Error processing entry: movie_60_PIPPA_1205_2\n"
          ]
        },
        {
          "output_type": "stream",
          "name": "stderr",
          "text": [
            "Processing items:  56%|█████▌    | 56/100 [01:23<00:46,  1.05s/it]"
          ]
        },
        {
          "output_type": "stream",
          "name": "stdout",
          "text": [
            "failed to send request,  Hugh   Modeus\n",
            "failed to send request,  犀利哥   Rias Gremory\n",
            "failed to send request,  （莫莉）   Wendy\n",
            "failed to send request,  瑞克   AUG\n",
            "failed to send request,  巴基布雷迪   Josiah\n",
            "failed to send request,  劳伦   Mr.\n",
            "failed to send request,  艾伦   Rukkhadevata\n",
            "failed to send request,  保罗   Princess Rosalina\n"
          ]
        },
        {
          "output_type": "stream",
          "name": "stderr",
          "text": [
            "Processing items:  68%|██████▊   | 68/100 [01:38<00:32,  1.02s/it]"
          ]
        },
        {
          "output_type": "stream",
          "name": "stdout",
          "text": [
            "failed to send request,  惣流·明日香·兰利   G36\n",
            "failed to send request,  摩西   东京\n",
            "failed to send request,  阿May   Miss Hernandez\n",
            "failed to send request,  Hugh   Modeus\n",
            "failed to send request,  瑞克   AUG\n",
            "failed to send request,  劳伦   Mr.\n",
            "failed to send request,  艾伦   Rukkhadevata\n",
            "failed to send request,  保罗   Princess Rosalina\n",
            "failed to send request,  马科   Misaki\n",
            "failed to send request,  PK   StG-44 Mod 3\n",
            "failed to send request,  漢娜   Roy\n",
            "failed to send request,  约翰·纳什   Muffet\n",
            "failed to send request,  邁爾斯·誇裏奇上校   Architect GnK\n",
            "failed to send request,  瑞克   AUG\n",
            "Error processing entry: movie_83_PIPPA_656_2\n",
            "failed to send request,  Hugh   Modeus\n",
            "Error processing entry: movie_79_PIPPA_54_2\n"
          ]
        },
        {
          "output_type": "stream",
          "name": "stderr",
          "text": [
            "Processing items:  76%|███████▌  | 76/100 [01:55<00:29,  1.21s/it]"
          ]
        },
        {
          "output_type": "stream",
          "name": "stdout",
          "text": [
            "failed to send request,  摩西   东京\n",
            "failed to send request,  阿May   Miss Hernandez\n"
          ]
        },
        {
          "output_type": "stream",
          "name": "stderr",
          "text": [
            "Processing items:  78%|███████▊  | 78/100 [01:57<00:24,  1.11s/it]"
          ]
        },
        {
          "output_type": "stream",
          "name": "stdout",
          "text": [
            "failed to send request,  保罗   Princess Rosalina\n",
            "Error processing entry: movie_89_PIPPA_819_2\n",
            "failed to send request,  马科   Misaki\n"
          ]
        },
        {
          "output_type": "stream",
          "name": "stderr",
          "text": [
            "Processing items:  83%|████████▎ | 83/100 [02:02<00:17,  1.02s/it]"
          ]
        },
        {
          "output_type": "stream",
          "name": "stdout",
          "text": [
            "failed to send request,  斯图尔特   Sasha\n",
            "failed to send request,  邁爾斯·誇裏奇上校   Architect GnK\n",
            "failed to send request,  小贤   Captain Caroline\n",
            "failed to send request,  马丁   Nagatoro Hayase\n",
            "failed to send request,  阿May   Miss Hernandez\n",
            "Error processing entry: movie_94_PIPPA_622_2\n",
            "failed to send request,  李   Nanashi Mumei\n",
            "failed to send request,  瓦力   唐\n"
          ]
        },
        {
          "output_type": "stream",
          "name": "stderr",
          "text": [
            "Processing items:  98%|█████████▊| 98/100 [02:22<00:02,  1.05s/it]"
          ]
        },
        {
          "output_type": "stream",
          "name": "stdout",
          "text": [
            "failed to send request,  瓦力   唐\n"
          ]
        },
        {
          "output_type": "stream",
          "name": "stderr",
          "text": [
            "Processing items: 100%|██████████| 100/100 [02:30<00:00,  1.51s/it]\n",
            "Processing items:   0%|          | 0/12 [00:00<?, ?it/s]"
          ]
        },
        {
          "output_type": "stream",
          "name": "stdout",
          "text": [
            "failed to send request,  Paul   Reze \n",
            "failed to send request,  公主   Bandit Hermit\n",
            "failed to send request,  MITCH   碇真嗣\n",
            "failed to send request,  Adam   Apricot Froot\n",
            "failed to send request,  保罗   Princess Rosalina\n",
            "failed to send request,  Hugh   Modeus\n",
            "failed to send request,  阿May   Miss Hernandez\n",
            "failed to send request,  瑞克   AUG\n",
            "failed to send request,  Adam   Apricot Froot\n"
          ]
        },
        {
          "output_type": "stream",
          "name": "stderr",
          "text": [
            "Processing items:  58%|█████▊    | 7/12 [00:16<00:07,  1.52s/it]"
          ]
        },
        {
          "output_type": "stream",
          "name": "stdout",
          "text": [
            "failed to send request,  瑞克   AUG\n"
          ]
        },
        {
          "output_type": "stream",
          "name": "stderr",
          "text": [
            "Processing items: 100%|██████████| 12/12 [00:25<00:00,  2.13s/it]\n",
            "Processing items:   2%|▏         | 2/100 [00:05<04:49,  2.96s/it]"
          ]
        },
        {
          "output_type": "stream",
          "name": "stdout",
          "text": [
            "failed to send request,  哈利   Ken\n",
            "failed to send request,  技术兵林恩   杰克\n",
            "failed to send request,  MITCH   斯卡特\n",
            "failed to send request,  MITCH   碇真嗣\n",
            "failed to send request,  Kelly   Clyde\n",
            "failed to send request,  Sam   Noil\n",
            "failed to send request,  Martin   塞尔马\n",
            "failed to send request,  布莱恩   Karen\n",
            "failed to send request,  Pelham   Jamma\n",
            "failed to send request,  Martin   Sara\n",
            "failed to send request,  Cruz   尼尔\n",
            "failed to send request,  哈利   Ken\n",
            "failed to send request,  MITCH   斯卡特\n",
            "failed to send request,  John   塞尔马\n",
            "failed to send request,  Martin   塞尔马\n",
            "failed to send request,  MITCH   碇真嗣\n",
            "failed to send request,  布莱恩   Karen\n",
            "failed to send request,  Pelham   Jamma\n",
            "failed to send request,  Severide   Drift\n",
            "failed to send request,  Martin   Sara\n",
            "failed to send request,  John   塞尔马\n",
            "failed to send request,  MITCH   斯卡特\n",
            "Error processing entry: movie_11_movie_277_3\n"
          ]
        },
        {
          "output_type": "stream",
          "name": "stderr",
          "text": [
            "Processing items:   5%|▌         | 5/100 [00:19<05:09,  3.26s/it]"
          ]
        },
        {
          "output_type": "stream",
          "name": "stdout",
          "text": [
            "failed to send request,  周伯通   Neal\n",
            "failed to send request,  John   伊扎克·斯特恩\n",
            "failed to send request,  MITCH   碇真嗣\n",
            "Error processing entry: movie_16_movie_174_3\n",
            "failed to send request,  史都   Chizuru Mizuhara\n",
            "failed to send request,  布莱恩   Karen\n",
            "Error processing entry: movie_21_PIPPA_1013_3\n",
            "failed to send request,  Scarlet   哈利•波特\n",
            "failed to send request,  John   塞尔马\n",
            "Error processing entry: movie_27_movie_346_3\n",
            "failed to send request,  Martin   Sara\n",
            "Error processing entry: movie_22_movie_697_3\n",
            "failed to send request,  Machete   5 dollar foot long\n",
            "failed to send request,  Severide   Drift\n",
            "failed to send request,  Pelham   Jamma\n",
            "Error processing entry: movie_20_PIPPA_249_3\n",
            "failed to send request,  麦克墨菲   Scolipede\n",
            "failed to send request,  Ismay先生   Alfia PG\n",
            "failed to send request,  王重阳   My Hero Academia RP\n",
            "failed to send request,  RUBY   丁丁\n",
            "failed to send request,  史都   Chizuru Mizuhara\n",
            "failed to send request,  胡迪   Saul Goodman\n",
            "failed to send request,  Severide   Drift\n",
            "Error processing entry: movie_28_PIPPA_150_3\n",
            "failed to send request,  Machete   5 dollar foot long\n",
            "failed to send request,  马小军   Yui Hirasawa\n",
            "failed to send request,  Yufine   Mitch\n",
            "failed to send request,  Ismay先生   Alfia PG\n",
            "failed to send request,  卡尔文   威爾\n",
            "failed to send request,  王重阳   My Hero Academia RP\n",
            "failed to send request,  史都   Chizuru Mizuhara\n",
            "Error processing entry: movie_31_PIPPA_439_3\n",
            "failed to send request,  公主   Bandit Hermit\n",
            "failed to send request,  CALEB   Gas Room Latex Wolf\n",
            "failed to send request,  伍迪   Helena\n",
            "failed to send request,  Severide   Gwynn\n",
            "failed to send request,  Machete   5 dollar foot long\n",
            "Error processing entry: movie_34_PIPPA_473_3\n",
            "failed to send request,  Luce   Snowball Translator\n",
            "failed to send request,  Yufine   Mitch\n",
            "failed to send request,  王重阳   My Hero Academia RP\n",
            "Error processing entry: movie_37_PIPPA_511_3\n",
            "failed to send request,  Atenton   电光兽\n",
            "failed to send request,  卡尔文   威爾\n",
            "failed to send request,  Cataleya   McLaren-Chan \n",
            "failed to send request,  Nade   大雄\n",
            "failed to send request,  公主   Bandit Hermit\n",
            "failed to send request,  CALEB   Gas Room Latex Wolf\n",
            "failed to send request,  伍迪   Helena\n",
            "failed to send request,  賴斯特   朱利安·阿桑奇\n",
            "failed to send request,  Luce   Prince Alastair\n",
            "failed to send request,  Severide   Gwynn\n",
            "failed to send request,  Luce   Snowball Translator\n",
            "failed to send request,  Yufine   Mitch\n",
            "Error processing entry: movie_42_PIPPA_533_3\n",
            "failed to send request,  卡尔文   威爾\n",
            "Error processing entry: movie_44_movie_176_3\n",
            "failed to send request,  Cataleya   McLaren-Chan \n",
            "failed to send request,  Nade   大雄\n",
            "failed to send request,  公主   Bandit Hermit\n",
            "Error processing entry: movie_45_PIPPA_675_3\n",
            "failed to send request,  伍迪   Helena\n",
            "Error processing entry: movie_47_PIPPA_352_3\n",
            "failed to send request,  賴斯特   朱利安·阿桑奇\n",
            "failed to send request,  Luce   Prince Alastair\n",
            "failed to send request,  Severide   Gwynn\n",
            "Error processing entry: movie_48_PIPPA_1248_3\n",
            "failed to send request,  特米斯托克列   Cave Johnson\n",
            "failed to send request,  Paul   Warfarin\n",
            "failed to send request,  Cataleya   McLaren-Chan \n",
            "Error processing entry: movie_50_PIPPA_799_3\n",
            "failed to send request,  澤羅·穆斯塔法   吉米\n",
            "failed to send request,  Nade   大雄\n",
            "Error processing entry: movie_53_movie_223_3\n",
            "failed to send request,  布鲁斯·韦恩   Severide\n",
            "failed to send request,  Casey   Yanami\n",
            "failed to send request,  瓦列·席皮尔曼   G41\n",
            "failed to send request,  賴斯特   朱利安·阿桑奇\n",
            "Error processing entry: movie_54_movie_800_3\n",
            "failed to send request,  皮特   关宁\n",
            "failed to send request,  特米斯托克列   Cave Johnson\n",
            "failed to send request,  布鲁斯·韦恩   MG5\n",
            "failed to send request,  Paul   Warfarin\n",
            "failed to send request,  爱拉   瓦力\n",
            "failed to send request,  Casey   Yanami\n",
            "failed to send request,  马里斯   未知\n",
            "failed to send request,  布鲁斯·韦恩   Severide\n",
            "failed to send request,  瓦列·席皮尔曼   G41\n",
            "failed to send request,  Violet   Khumba\n",
            "failed to send request,  艾玛   Shiver\n",
            "failed to send request,  阿贝尔Plenkov   夏春花\n",
            "failed to send request,  皮特   关宁\n",
            "failed to send request,  特米斯托克列   Cave Johnson\n",
            "Error processing entry: movie_60_PIPPA_1205_3\n",
            "failed to send request,  布鲁斯·韦恩   MG5\n",
            "failed to send request,  Paul   Warfarin\n",
            "Error processing entry: movie_61_PIPPA_1049_3\n",
            "failed to send request,  爱拉   瓦力\n",
            "failed to send request,  车文杰   Boyfriend FNF\n",
            "failed to send request,  Casey   Yanami\n",
            "Error processing entry: movie_65_PIPPA_972_3\n",
            "failed to send request,  马里斯   未知\n",
            "failed to send request,  瓦列·席皮尔曼   G41\n",
            "Error processing entry: movie_66_PIPPA_372_3\n",
            "failed to send request,  布鲁斯·韦恩   Severide\n",
            "Error processing entry: movie_64_movie_48_3\n",
            "failed to send request,  Violet   Khumba\n",
            "failed to send request,  阿贝尔Plenkov   夏春花\n",
            "failed to send request,  皮特   关宁\n",
            "Error processing entry: movie_67_movie_270_3\n",
            "failed to send request,  布鲁斯·韦恩   MG5\n",
            "Error processing entry: movie_69_PIPPA_13_3\n",
            "failed to send request,  Hugh   Modeus\n",
            "failed to send request,  碇真嗣   Paarthurnax\n",
            "failed to send request,  爱拉   瓦力\n",
            "Error processing entry: movie_71_movie_109_3\n",
            "failed to send request,  车文杰   Boyfriend FNF\n",
            "failed to send request,  马里斯   未知\n",
            "Error processing entry: movie_72_movie_465_3\n",
            "failed to send request,  （莫莉）   Wendy\n",
            "failed to send request,  瑞克   AUG\n",
            "failed to send request,  大卫诺里斯   Cassia\n",
            "failed to send request,  Violet   Khumba\n",
            "Error processing entry: movie_73_movie_526_3\n",
            "failed to send request,  阿贝尔Plenkov   夏春花\n",
            "Error processing entry: movie_76_movie_317_3\n",
            "failed to send request,  巴基布雷迪   Josiah\n",
            "failed to send request,  伍迪   VZ-61\n",
            "failed to send request,  Hugh   Modeus\n",
            "failed to send request,  碇真嗣   Paarthurnax\n",
            "failed to send request,  艾伦   Rukkhadevata\n",
            "failed to send request,  保罗   Princess Rosalina\n",
            "failed to send request,  （莫莉）   Wendy\n",
            "failed to send request,  瑞克   AUG\n",
            "failed to send request,  Yonomi   布鲁斯·韦恩\n",
            "failed to send request,  艾瑪   Jack\n",
            "failed to send request,  安吉   Donna\n",
            "failed to send request,  伍迪   VZ-61\n",
            "failed to send request,  艾伦   Rukkhadevata\n",
            "failed to send request,  惣流·明日香·兰利   G36\n",
            "failed to send request,  保罗   Princess Rosalina\n",
            "failed to send request,  阿May   Miss Hernandez\n",
            "failed to send request,  （莫莉）   Wendy\n",
            "Error processing entry: movie_82_movie_873_3\n",
            "failed to send request,  瑞克   AUG\n",
            "Error processing entry: movie_83_PIPPA_656_3\n",
            "failed to send request,  马科   Misaki\n",
            "failed to send request,  安吉   Donna\n",
            "failed to send request,  艾瑪   Jack\n",
            "failed to send request,  伍迪   VZ-61\n",
            "Error processing entry: movie_86_PIPPA_768_3\n",
            "failed to send request,  约翰·纳什   Muffet\n",
            "failed to send request,  萨拉·康纳   Tommy\n",
            "Error processing entry: 'choices'\n"
          ]
        },
        {
          "output_type": "stream",
          "name": "stderr",
          "text": [
            "Processing items:  77%|███████▋  | 77/100 [02:30<00:23,  1.00s/it]"
          ]
        },
        {
          "output_type": "stream",
          "name": "stdout",
          "text": [
            "failed to send request,  电光兽   Tallion Ritternatch\n",
            "failed to send request,  漢娜   Roy\n",
            "failed to send request,  阿May   Miss Hernandez\n",
            "failed to send request,  惣流·明日香·兰利   G36\n"
          ]
        },
        {
          "output_type": "stream",
          "name": "stderr",
          "text": [
            "\rProcessing items:  78%|███████▊  | 78/100 [02:32<00:31,  1.41s/it]"
          ]
        },
        {
          "output_type": "stream",
          "name": "stdout",
          "text": [
            "failed to send request,  PK   StG-44 Mod 3\n",
            "failed to send request,  葛芮丝   Nahida\n"
          ]
        },
        {
          "output_type": "stream",
          "name": "stderr",
          "text": [
            "Processing items:  80%|████████  | 80/100 [02:35<00:24,  1.24s/it]"
          ]
        },
        {
          "output_type": "stream",
          "name": "stdout",
          "text": [
            "failed to send request,  邁爾斯·誇裏奇上校   Architect GnK\n",
            "failed to send request,  马科   Misaki\n",
            "failed to send request,  艾瑪   Jack\n",
            "Error processing entry: movie_91_PIPPA_1229_3\n",
            "failed to send request,  小贤   Captain Caroline\n",
            "failed to send request,  萨拉·康纳   Tommy\n",
            "failed to send request,  Yui Kotegawa   山姆\n"
          ]
        },
        {
          "output_type": "stream",
          "name": "stderr",
          "text": [
            "Processing items:  83%|████████▎ | 83/100 [02:38<00:18,  1.09s/it]"
          ]
        },
        {
          "output_type": "stream",
          "name": "stdout",
          "text": [
            "failed to send request,  阿May   Miss Hernandez\n",
            "Error processing entry: movie_94_PIPPA_622_3\n",
            "failed to send request,  大辅   Tewi Inaba \n",
            "failed to send request,  斯图尔特   Sasha\n",
            "failed to send request,  PK   StG-44 Mod 3\n",
            "failed to send request,  葛芮丝   Nahida\n",
            "failed to send request,  马丁   Nagatoro Hayase\n",
            "failed to send request,  唐   瓦力\n"
          ]
        },
        {
          "output_type": "stream",
          "name": "stderr",
          "text": [
            "Processing items:  85%|████████▌ | 85/100 [02:41<00:18,  1.26s/it]"
          ]
        },
        {
          "output_type": "stream",
          "name": "stdout",
          "text": [
            "failed to send request,  萨拉·康纳   Tommy\n",
            "Error processing entry: movie_98_movie_820_3\n",
            "failed to send request,  Yui Kotegawa   山姆\n",
            "failed to send request,  李   Nanashi Mumei\n"
          ]
        },
        {
          "output_type": "stream",
          "name": "stderr",
          "text": [
            "Processing items:  90%|█████████ | 90/100 [02:48<00:11,  1.19s/it]"
          ]
        },
        {
          "output_type": "stream",
          "name": "stdout",
          "text": [
            "failed to send request,  特拉维斯   Emma\n",
            "failed to send request,  葛芮丝   Nahida\n",
            "Error processing entry: movie_102_PIPPA_1267_3\n",
            "failed to send request,  PK   StG-44 Mod 3\n",
            "Error processing entry: movie_101_PIPPA_542_3\n",
            "failed to send request,  斯图尔特   Sasha\n",
            "failed to send request,  唐   瓦力\n"
          ]
        },
        {
          "output_type": "stream",
          "name": "stderr",
          "text": [
            "Processing items: 100%|██████████| 100/100 [03:01<00:00,  1.82s/it]\n",
            "Processing items:   0%|          | 0/38 [00:00<?, ?it/s]"
          ]
        },
        {
          "output_type": "stream",
          "name": "stdout",
          "text": [
            "failed to send request,  Pelham   Jamma\n",
            "failed to send request,  MITCH   碇真嗣\n",
            "failed to send request,  MITCH   斯卡特\n",
            "failed to send request,  John   塞尔马\n",
            "failed to send request,  史都   Chizuru Mizuhara\n",
            "failed to send request,  王重阳   My Hero Academia RP\n",
            "failed to send request,  Machete   5 dollar foot long\n",
            "failed to send request,  Yufine   Mitch\n",
            "failed to send request,  公主   Bandit Hermit\n",
            "failed to send request,  伍迪   Helena\n",
            "failed to send request,  Severide   Gwynn\n",
            "failed to send request,  Pelham   Jamma\n",
            "failed to send request,  MITCH   斯卡特\n",
            "failed to send request,  Cataleya   McLaren-Chan \n",
            "failed to send request,  Nade   大雄\n",
            "failed to send request,  John   塞尔马\n",
            "failed to send request,  史都   Chizuru Mizuhara\n",
            "failed to send request,  Machete   5 dollar foot long\n",
            "failed to send request,  賴斯特   朱利安·阿桑奇\n",
            "failed to send request,  公主   Bandit Hermit\n",
            "failed to send request,  伍迪   Helena\n",
            "failed to send request,  Severide   Gwynn\n",
            "failed to send request,  特米斯托克列   Cave Johnson\n",
            "failed to send request,  MITCH   斯卡特\n",
            "Error processing entry: movie_11_movie_277_3\n"
          ]
        },
        {
          "output_type": "stream",
          "name": "stderr",
          "text": [
            "Processing items:  11%|█         | 4/38 [00:18<02:04,  3.66s/it]"
          ]
        },
        {
          "output_type": "stream",
          "name": "stdout",
          "text": [
            "failed to send request,  Cataleya   McLaren-Chan \n",
            "failed to send request,  Paul   Warfarin\n",
            "failed to send request,  Nade   大雄\n",
            "failed to send request,  John   塞尔马\n",
            "Error processing entry: movie_27_movie_346_3\n",
            "failed to send request,  Machete   5 dollar foot long\n",
            "Error processing entry: movie_34_PIPPA_473_3\n",
            "failed to send request,  布鲁斯·韦恩   Severide\n",
            "failed to send request,  公主   Bandit Hermit\n",
            "Error processing entry: movie_45_PIPPA_675_3\n",
            "failed to send request,  伍迪   Helena\n",
            "Error processing entry: movie_47_PIPPA_352_3\n",
            "failed to send request,  Casey   Yanami\n",
            "failed to send request,  特米斯托克列   Cave Johnson\n",
            "failed to send request,  Cataleya   McLaren-Chan \n",
            "Error processing entry: movie_50_PIPPA_799_3\n"
          ]
        },
        {
          "output_type": "stream",
          "name": "stderr",
          "text": [
            "Processing items:  53%|█████▎    | 20/38 [00:40<00:18,  1.02s/it]"
          ]
        },
        {
          "output_type": "stream",
          "name": "stdout",
          "text": [
            "failed to send request,  皮特   关宁\n",
            "failed to send request,  马里斯   未知\n",
            "failed to send request,  布鲁斯·韦恩   MG5\n",
            "failed to send request,  特米斯托克列   Cave Johnson\n",
            "Error processing entry: movie_60_PIPPA_1205_3\n",
            "failed to send request,  Violet   Khumba\n",
            "failed to send request,  阿贝尔Plenkov   夏春花\n",
            "failed to send request,  （莫莉）   Wendy\n",
            "failed to send request,  阿May   Miss Hernandez\n",
            "failed to send request,  艾瑪   Jack\n"
          ]
        },
        {
          "output_type": "stream",
          "name": "stderr",
          "text": [
            "Processing items:  66%|██████▌   | 25/38 [00:47<00:14,  1.15s/it]"
          ]
        },
        {
          "output_type": "stream",
          "name": "stdout",
          "text": [
            "failed to send request,  萨拉·康纳   Tommy\n",
            "failed to send request,  皮特   关宁\n",
            "failed to send request,  马里斯   未知\n",
            "failed to send request,  阿贝尔Plenkov   夏春花\n",
            "failed to send request,  Violet   Khumba\n",
            "failed to send request,  阿May   Miss Hernandez\n",
            "failed to send request,  艾瑪   Jack\n",
            "failed to send request,  萨拉·康纳   Tommy\n",
            "failed to send request,  马里斯   未知\n",
            "Error processing entry: movie_72_movie_465_3\n",
            "failed to send request,  皮特   关宁\n",
            "Error processing entry: movie_67_movie_270_3\n"
          ]
        },
        {
          "output_type": "stream",
          "name": "stderr",
          "text": [
            "Processing items:  76%|███████▋  | 29/38 [00:58<00:15,  1.71s/it]"
          ]
        },
        {
          "output_type": "stream",
          "name": "stdout",
          "text": [
            "failed to send request,  阿贝尔Plenkov   夏春花\n",
            "Error processing entry: movie_76_movie_317_3\n",
            "failed to send request,  Violet   Khumba\n",
            "Error processing entry: movie_73_movie_526_3\n"
          ]
        },
        {
          "output_type": "stream",
          "name": "stderr",
          "text": [
            "Processing items:  89%|████████▉ | 34/38 [01:04<00:04,  1.19s/it]"
          ]
        },
        {
          "output_type": "stream",
          "name": "stdout",
          "text": [
            "failed to send request,  萨拉·康纳   Tommy\n",
            "Error processing entry: movie_98_movie_820_3\n"
          ]
        },
        {
          "output_type": "stream",
          "name": "stderr",
          "text": [
            "Processing items: 100%|██████████| 38/38 [01:09<00:00,  1.82s/it]\n",
            "Processing items:   0%|          | 0/100 [00:00<?, ?it/s]"
          ]
        },
        {
          "output_type": "stream",
          "name": "stdout",
          "text": [
            "failed to send request,  Azul Ashengrotto   Emma\n",
            "failed to send request,  Hououin Kyouma   尼爾·卡夫瑞\n",
            "failed to send request,  斯卡特   MITCH\n",
            "failed to send request,  Noil   Sam\n",
            "failed to send request,  碇真嗣   MITCH\n",
            "failed to send request,  Clyde   Kelly\n",
            "failed to send request,  Karen   布莱恩\n",
            "failed to send request,  Jamma   Pelham\n",
            "failed to send request,  尼尔   Cruz\n",
            "failed to send request,  斯卡特   MITCH\n",
            "failed to send request,  Hououin Kyouma   尼爾·卡夫瑞\n"
          ]
        },
        {
          "output_type": "stream",
          "name": "stderr",
          "text": [
            "\rProcessing items:   2%|▏         | 2/100 [00:11<09:36,  5.88s/it]"
          ]
        },
        {
          "output_type": "stream",
          "name": "stdout",
          "text": [
            "failed to send request,  碇真嗣   MITCH\n",
            "failed to send request,  Noil   Sam\n",
            "failed to send request,  Clyde   Kelly\n",
            "failed to send request,  伊扎克·斯特恩   John\n",
            "failed to send request,  Neal   周伯通\n",
            "failed to send request,  哈利•波特   Scarlet\n"
          ]
        },
        {
          "output_type": "stream",
          "name": "stderr",
          "text": [
            "Processing items:   4%|▍         | 4/100 [00:18<06:14,  3.91s/it]"
          ]
        },
        {
          "output_type": "stream",
          "name": "stdout",
          "text": [
            "failed to send request,  Hououin Kyouma   尼爾·卡夫瑞\n",
            "Error processing entry: movie_13_PIPPA_246_4\n",
            "failed to send request,  Reze    Paul\n",
            "failed to send request,  5 dollar foot long   Machete\n"
          ]
        },
        {
          "output_type": "stream",
          "name": "stderr",
          "text": [
            "Processing items:   8%|▊         | 8/100 [00:22<02:26,  1.59s/it]"
          ]
        },
        {
          "output_type": "stream",
          "name": "stdout",
          "text": [
            "failed to send request,  Alfia PG   Ismay先生\n",
            "failed to send request,  Noil   Sam\n",
            "Error processing entry: movie_18_PIPPA_146_4\n",
            "failed to send request,  My Hero Academia RP   王重阳\n"
          ]
        },
        {
          "output_type": "stream",
          "name": "stderr",
          "text": [
            "Processing items:  20%|██        | 20/100 [00:35<01:21,  1.02s/it]"
          ]
        },
        {
          "output_type": "stream",
          "name": "stdout",
          "text": [
            "failed to send request,  伊扎克·斯特恩   John\n",
            "failed to send request,  Neal   周伯通\n",
            "failed to send request,  5 dollar foot long   Machete\n",
            "failed to send request,  Suzuha Amane   胡迪\n",
            "failed to send request,  凯特   Mori Calliope\n",
            "failed to send request,  Bandit Hermit   公主\n",
            "failed to send request,  Gas Room Latex Wolf   CALEB\n",
            "failed to send request,  My Hero Academia RP   王重阳\n",
            "failed to send request,  Snowball Translator   Luce\n",
            "failed to send request,  Suzuha Amane   胡迪\n",
            "failed to send request,  5 dollar foot long   Machete\n",
            "Error processing entry: movie_34_PIPPA_473_4\n",
            "failed to send request,  凯特   Mori Calliope\n"
          ]
        },
        {
          "output_type": "stream",
          "name": "stderr",
          "text": [
            "\rProcessing items:  21%|██        | 21/100 [00:44<04:11,  3.19s/it]"
          ]
        },
        {
          "output_type": "stream",
          "name": "stdout",
          "text": [
            "failed to send request,  McLaren-Chan    Cataleya\n",
            "failed to send request,  电光兽   Atenton\n",
            "failed to send request,  Ahri   小光\n"
          ]
        },
        {
          "output_type": "stream",
          "name": "stderr",
          "text": [
            "Processing items:  24%|██▍       | 24/100 [00:47<02:13,  1.76s/it]"
          ]
        },
        {
          "output_type": "stream",
          "name": "stdout",
          "text": [
            "failed to send request,  大雄   Nade\n",
            "failed to send request,  Bandit Hermit   公主\n",
            "failed to send request,  My Hero Academia RP   王重阳\n",
            "Error processing entry: movie_37_PIPPA_511_4\n",
            "failed to send request,  朱利安·阿桑奇   賴斯特\n",
            "failed to send request,  凯特   Mori Calliope\n",
            "Error processing entry: movie_41_PIPPA_290_4\n",
            "failed to send request,  R.P.麦克墨菲   鬼丸\n",
            "failed to send request,  电光兽   Atenton\n",
            "failed to send request,  Apricot Froot   Adam\n",
            "failed to send request,  大雄   Nade\n",
            "failed to send request,  Cave Johnson   特米斯托克列\n",
            "failed to send request,  Severide   布鲁斯·韦恩\n",
            "failed to send request,  吉米   澤羅·穆斯塔法\n",
            "failed to send request,  朱利安·阿桑奇   賴斯特\n",
            "failed to send request,  Yanami   Casey\n",
            "failed to send request,  电光兽   Atenton\n",
            "Error processing entry: movie_51_movie_99_4\n",
            "failed to send request,  R.P.麦克墨菲   鬼丸\n",
            "failed to send request,  大雄   Nade\n",
            "Error processing entry: movie_53_movie_223_4\n",
            "failed to send request,  关宁   皮特\n",
            "failed to send request,  Bob   阿SIR\n",
            "failed to send request,  朱利安·阿桑奇   賴斯特\n",
            "Error processing entry: movie_54_movie_800_4\n",
            "failed to send request,  吉米   澤羅·穆斯塔法\n",
            "failed to send request,  Severide   布鲁斯·韦恩\n",
            "failed to send request,  Mk48    布鲁斯·韦恩\n",
            "failed to send request,  Khumba   Violet\n",
            "failed to send request,  Shiver   艾玛\n",
            "failed to send request,  未知   马里斯\n",
            "failed to send request,  Severide   布鲁斯·韦恩\n",
            "Error processing entry: movie_64_movie_48_4\n",
            "failed to send request,  吉米   澤羅·穆斯塔法\n",
            "Error processing entry: movie_63_movie_351_4\n",
            "failed to send request,  夏春花   阿贝尔Plenkov\n",
            "failed to send request,  Mk48    布鲁斯·韦恩\n",
            "failed to send request,  Modeus   Hugh\n",
            "failed to send request,  Khumba   Violet\n",
            "failed to send request,  Paarthurnax   碇真嗣\n",
            "failed to send request,  Shiver   艾玛\n",
            "failed to send request,  未知   马里斯\n",
            "failed to send request,  Wendy   （莫莉）\n",
            "failed to send request,  夏春花   阿贝尔Plenkov\n",
            "failed to send request,  Josiah   巴基布雷迪\n",
            "failed to send request,  Khumba   Violet\n",
            "Error processing entry: movie_73_movie_526_4\n",
            "failed to send request,  Paarthurnax   碇真嗣\n",
            "failed to send request,  Princess Rosalina   保罗\n",
            "failed to send request,  Rukkhadevata   艾伦\n",
            "failed to send request,  Paarthurnax   碇真嗣\n",
            "Error processing entry: movie_80_PIPPA_64_4\n",
            "failed to send request,  Donna   安吉\n",
            "failed to send request,  G36   惣流·明日香·兰利\n",
            "failed to send request,  Rukkhadevata   艾伦\n",
            "failed to send request,  Muffet   约翰·纳什\n",
            "failed to send request,  Tommy   萨拉·康纳\n",
            "failed to send request,  Tallion Ritternatch   电光兽\n",
            "failed to send request,  Roy   漢娜\n",
            "failed to send request,  Donna   安吉\n",
            "failed to send request,  Nahida   葛芮丝\n",
            "failed to send request,  Captain Caroline   小贤\n",
            "failed to send request,  Architect GnK   邁爾斯·誇裏奇上校\n",
            "failed to send request,  Tewi Inaba    大辅\n",
            "failed to send request,  Rukkhadevata   艾伦\n",
            "Error processing entry: movie_88_PIPPA_856_4\n",
            "failed to send request,  Tommy   萨拉·康纳\n",
            "failed to send request,  Tallion Ritternatch   电光兽\n",
            "failed to send request,  Roy   漢娜\n",
            "failed to send request,  Architect GnK   邁爾斯·誇裏奇上校\n",
            "failed to send request,  Captain Caroline   小贤\n",
            "failed to send request,  Tewi Inaba    大辅\n",
            "failed to send request,  Nanashi Mumei   李\n",
            "failed to send request,  Tallion Ritternatch   电光兽\n",
            "Error processing entry: movie_99_PIPPA_1128_4\n",
            "failed to send request,  Architect GnK   邁爾斯·誇裏奇上校\n",
            "Error processing entry: movie_103_PIPPA_306_4\n",
            "Error processing entry: 'data'\n"
          ]
        },
        {
          "output_type": "stream",
          "name": "stderr",
          "text": [
            "Processing items:  56%|█████▌    | 56/100 [02:14<00:44,  1.00s/it]"
          ]
        },
        {
          "output_type": "stream",
          "name": "stdout",
          "text": [
            "Error processing entry: 'data'\n"
          ]
        },
        {
          "output_type": "stream",
          "name": "stderr",
          "text": [
            "Processing items:  87%|████████▋ | 87/100 [03:12<00:13,  1.00s/it]"
          ]
        },
        {
          "output_type": "stream",
          "name": "stdout",
          "text": [
            "Error processing entry: 'data'\n"
          ]
        },
        {
          "output_type": "stream",
          "name": "stderr",
          "text": [
            "Processing items: 100%|██████████| 100/100 [03:55<00:00,  2.36s/it]\n",
            "Processing items:   0%|          | 0/18 [00:00<?, ?it/s]"
          ]
        },
        {
          "output_type": "stream",
          "name": "stdout",
          "text": [
            "failed to send request,  Reze    Paul\n",
            "failed to send request,  Hououin Kyouma   尼爾·卡夫瑞\n",
            "failed to send request,  5 dollar foot long   Machete\n",
            "failed to send request,  朱利安·阿桑奇   賴斯特\n",
            "failed to send request,  电光兽   Atenton\n",
            "failed to send request,  吉米   澤羅·穆斯塔法\n",
            "failed to send request,  关宁   皮特\n",
            "failed to send request,  Khumba   Violet\n",
            "failed to send request,  Paarthurnax   碇真嗣\n",
            "failed to send request,  Rukkhadevata   艾伦\n",
            "failed to send request,  Tommy   萨拉·康纳\n"
          ]
        },
        {
          "output_type": "stream",
          "name": "stderr",
          "text": [
            "Processing items:  17%|█▋        | 3/18 [00:12<00:57,  3.81s/it]"
          ]
        },
        {
          "output_type": "stream",
          "name": "stdout",
          "text": [
            "failed to send request,  Architect GnK   邁爾斯·誇裏奇上校\n",
            "failed to send request,  关宁   皮特\n",
            "failed to send request,  吉米   澤羅·穆斯塔法\n",
            "failed to send request,  Khumba   Violet\n",
            "failed to send request,  Paarthurnax   碇真嗣\n",
            "failed to send request,  Rukkhadevata   艾伦\n",
            "failed to send request,  Khumba   Violet\n",
            "Error processing entry: movie_73_movie_526_4\n",
            "Error processing entry: 'data'\n",
            "Error processing entry: 'data'\n"
          ]
        },
        {
          "output_type": "stream",
          "name": "stderr",
          "text": [
            "Processing items:  67%|██████▋   | 12/18 [01:21<00:12,  2.13s/it]"
          ]
        },
        {
          "output_type": "stream",
          "name": "stdout",
          "text": [
            "Error processing entry: 'data'\n"
          ]
        },
        {
          "output_type": "stream",
          "name": "stderr",
          "text": [
            "Processing items: 100%|██████████| 18/18 [01:30<00:00,  5.00s/it]\n",
            "Processing items:   0%|          | 0/100 [00:00<?, ?it/s]"
          ]
        },
        {
          "output_type": "stream",
          "name": "stdout",
          "text": [
            "failed to send request,  约翰·邓巴中尉   比利·林恩\n",
            "failed to send request,  MITCH   斯卡特\n",
            "failed to send request,  技术兵林恩   杰克\n"
          ]
        },
        {
          "output_type": "stream",
          "name": "stderr",
          "text": [
            "\rProcessing items:   2%|▏         | 2/100 [00:06<05:30,  3.38s/it]"
          ]
        },
        {
          "output_type": "stream",
          "name": "stdout",
          "text": [
            "failed to send request,  MITCH   碇真嗣\n",
            "failed to send request,  Kelly   Clyde\n",
            "failed to send request,  Pelham   Jamma\n",
            "failed to send request,  布莱恩   Karen\n",
            "failed to send request,  Sam   Noil\n",
            "failed to send request,  Martin   塞尔马\n",
            "failed to send request,  Melanie   Daisy Vore\n",
            "failed to send request,  Cruz   尼尔\n",
            "failed to send request,  MITCH   斯卡特\n",
            "failed to send request,  技术兵林恩   杰克\n",
            "failed to send request,  Stella   Beau\n",
            "failed to send request,  MITCH   碇真嗣\n",
            "failed to send request,  Pelham   Jamma\n",
            "failed to send request,  Martin   塞尔马\n",
            "failed to send request,  Sam   Noil\n",
            "failed to send request,  布莱恩   Karen\n",
            "failed to send request,  Cruz   尼尔\n",
            "failed to send request,  MITCH   斯卡特\n",
            "Error processing entry: movie_11_movie_277_5\n"
          ]
        },
        {
          "output_type": "stream",
          "name": "stderr",
          "text": [
            "Processing items:   5%|▌         | 5/100 [00:18<04:46,  3.02s/it]"
          ]
        },
        {
          "output_type": "stream",
          "name": "stdout",
          "text": [
            "failed to send request,  John   伊扎克·斯特恩\n",
            "failed to send request,  Stella   Beau\n",
            "failed to send request,  MITCH   碇真嗣\n",
            "Error processing entry: movie_16_movie_174_5\n",
            "failed to send request,  Pelham   Jamma\n",
            "Error processing entry: movie_20_PIPPA_249_5\n"
          ]
        },
        {
          "output_type": "stream",
          "name": "stderr",
          "text": [
            "Processing items:   9%|▉         | 9/100 [00:24<02:35,  1.71s/it]"
          ]
        },
        {
          "output_type": "stream",
          "name": "stdout",
          "text": [
            "failed to send request,  Martin   塞尔马\n",
            "Error processing entry: movie_19_movie_392_5\n",
            "failed to send request,  布莱恩   Karen\n",
            "Error processing entry: movie_21_PIPPA_1013_5\n",
            "failed to send request,  Machete   5 dollar foot long\n",
            "failed to send request,  Cruz   尼尔\n",
            "Error processing entry: movie_25_movie_293_5\n",
            "failed to send request,  麦克墨菲   Scolipede\n"
          ]
        },
        {
          "output_type": "stream",
          "name": "stderr",
          "text": [
            "Processing items:  17%|█▋        | 17/100 [00:34<01:30,  1.09s/it]"
          ]
        },
        {
          "output_type": "stream",
          "name": "stdout",
          "text": [
            "failed to send request,  王重阳   My Hero Academia RP\n"
          ]
        },
        {
          "output_type": "stream",
          "name": "stderr",
          "text": [
            "Processing items:  25%|██▌       | 25/100 [00:42<01:15,  1.01s/it]"
          ]
        },
        {
          "output_type": "stream",
          "name": "stdout",
          "text": [
            "failed to send request,  RUBY   丁丁\n",
            "failed to send request,  胡迪   Suzuha Amane\n",
            "failed to send request,  凯特   Mori Calliope\n"
          ]
        },
        {
          "output_type": "stream",
          "name": "stderr",
          "text": [
            "Processing items:  29%|██▉       | 29/100 [00:46<01:11,  1.01s/it]"
          ]
        },
        {
          "output_type": "stream",
          "name": "stdout",
          "text": [
            "failed to send request,  卡尔文   威爾\n",
            "failed to send request,  Mitch   Yufine\n",
            "failed to send request,  公主   Bandit Hermit\n",
            "failed to send request,  CALEB   Gas Room Latex Wolf\n",
            "failed to send request,  伍迪   Helena\n",
            "failed to send request,  Luce   Snowball Translator\n",
            "failed to send request,  RUBY   丁丁\n",
            "failed to send request,  小光   Ahri\n",
            "failed to send request,  Nade   大雄\n",
            "failed to send request,  Adam   Apricot Froot\n",
            "failed to send request,  CALEB   Gas Room Latex Wolf\n",
            "failed to send request,  卡尔文   威爾\n",
            "failed to send request,  特米斯托克列   Cave Johnson\n",
            "failed to send request,  公主   Bandit Hermit\n",
            "failed to send request,  Luce   Snowball Translator\n",
            "failed to send request,  RUBY   丁丁\n",
            "Error processing entry: movie_38_movie_743_5\n"
          ]
        },
        {
          "output_type": "stream",
          "name": "stderr",
          "text": [
            "Processing items:  40%|████      | 40/100 [01:07<01:09,  1.16s/it]"
          ]
        },
        {
          "output_type": "stream",
          "name": "stdout",
          "text": [
            "failed to send request,  小光   Ahri\n",
            "failed to send request,  Nade   大雄\n",
            "failed to send request,  Casey   Yanami\n",
            "failed to send request,  布鲁斯·韦恩   Severide\n",
            "failed to send request,  瓦列·席皮尔曼   G41\n",
            "failed to send request,  Luce   Snowball Translator\n",
            "Error processing entry: movie_49_PIPPA_1262_5\n"
          ]
        },
        {
          "output_type": "stream",
          "name": "stderr",
          "text": [
            "Processing items:  43%|████▎     | 43/100 [01:11<01:08,  1.21s/it]"
          ]
        },
        {
          "output_type": "stream",
          "name": "stdout",
          "text": [
            "failed to send request,  阿SIR   Bob\n",
            "failed to send request,  布鲁斯·韦恩   Mk48 \n",
            "failed to send request,  马里斯   未知\n",
            "failed to send request,  Violet   Khumba\n",
            "failed to send request,  艾玛   Shiver\n"
          ]
        },
        {
          "output_type": "stream",
          "name": "stderr",
          "text": [
            "Processing items:  53%|█████▎    | 53/100 [01:23<00:48,  1.03s/it]"
          ]
        },
        {
          "output_type": "stream",
          "name": "stdout",
          "text": [
            "failed to send request,  布鲁斯·韦恩   Severide\n",
            "failed to send request,  瓦列·席皮尔曼   G41\n",
            "failed to send request,  桑伯恩   Fοrrest\n",
            "failed to send request,  Hugh   Modeus\n",
            "failed to send request,  阿SIR   Bob\n",
            "failed to send request,  碇真嗣   Paarthurnax\n",
            "failed to send request,  马里斯   未知\n",
            "failed to send request,  犀利哥   Rias Gremory\n",
            "failed to send request,  （莫莉）   Wendy\n",
            "failed to send request,  大卫诺里斯   Cassia\n",
            "failed to send request,  巴基布雷迪   Josiah\n",
            "failed to send request,  劳伦   Mr.\n",
            "failed to send request,  艾伦   Rukkhadevata\n"
          ]
        },
        {
          "output_type": "stream",
          "name": "stderr",
          "text": [
            "Processing items:  55%|█████▌    | 55/100 [01:34<02:08,  2.85s/it]"
          ]
        },
        {
          "output_type": "stream",
          "name": "stdout",
          "text": [
            "failed to send request,  碇真嗣   Paarthurnax\n",
            "failed to send request,  伍迪   VZ-61\n",
            "failed to send request,  保罗   Princess Rosalina\n",
            "failed to send request,  Hugh   Modeus\n",
            "failed to send request,  马里斯   未知\n",
            "Error processing entry: movie_72_movie_465_5\n"
          ]
        },
        {
          "output_type": "stream",
          "name": "stderr",
          "text": [
            "Processing items:  57%|█████▋    | 57/100 [01:37<01:35,  2.22s/it]"
          ]
        },
        {
          "output_type": "stream",
          "name": "stdout",
          "text": [
            "failed to send request,  （莫莉）   Wendy\n",
            "failed to send request,  犀利哥   Rias Gremory\n"
          ]
        },
        {
          "output_type": "stream",
          "name": "stderr",
          "text": [
            "Processing items:  68%|██████▊   | 68/100 [01:48<00:32,  1.03s/it]"
          ]
        },
        {
          "output_type": "stream",
          "name": "stdout",
          "text": [
            "failed to send request,  巴基布雷迪   Josiah\n",
            "failed to send request,  劳伦   Mr.\n",
            "failed to send request,  艾伦   Rukkhadevata\n",
            "failed to send request,  艾瑪   Jack\n",
            "failed to send request,  碇真嗣   Paarthurnax\n",
            "Error processing entry: movie_80_PIPPA_64_5\n",
            "failed to send request,  保罗   Princess Rosalina\n",
            "failed to send request,  惣流·明日香·兰利   G36\n",
            "failed to send request,  Hugh   Modeus\n",
            "Error processing entry: movie_79_PIPPA_54_5\n",
            "failed to send request,  犀利哥   Rias Gremory\n",
            "Error processing entry: movie_81_PIPPA_229_5\n",
            "failed to send request,  摩西   东京\n"
          ]
        },
        {
          "output_type": "stream",
          "name": "stderr",
          "text": [
            "Processing items:  73%|███████▎  | 73/100 [01:56<00:33,  1.22s/it]"
          ]
        },
        {
          "output_type": "stream",
          "name": "stdout",
          "text": [
            "failed to send request,  艾伦   Rukkhadevata\n",
            "Error processing entry: movie_88_PIPPA_856_5\n",
            "failed to send request,  萨拉·康纳   Tommy\n",
            "failed to send request,  约翰·纳什   Muffet\n",
            "failed to send request,  电光兽   Tallion Ritternatch\n",
            "failed to send request,  保罗   Princess Rosalina\n",
            "Error processing entry: movie_89_PIPPA_819_5\n",
            "failed to send request,  漢娜   Roy\n",
            "failed to send request,  惣流·明日香·兰利   G36\n",
            "failed to send request,  山姆   Yui Kotegawa\n",
            "failed to send request,  斯图尔特   Sasha\n",
            "failed to send request,  大辅   Tewi Inaba \n",
            "failed to send request,  马丁   Nagatoro Hayase\n",
            "failed to send request,  电光兽   Tallion Ritternatch\n",
            "failed to send request,  萨拉·康纳   Tommy\n",
            "failed to send request,  漢娜   Roy\n",
            "failed to send request,  瓦力   唐\n",
            "failed to send request,  李   Nanashi Mumei\n",
            "failed to send request,  特拉维斯   Emma\n",
            "failed to send request,  大辅   Tewi Inaba \n",
            "failed to send request,  马丁   Nagatoro Hayase\n",
            "failed to send request,  电光兽   Tallion Ritternatch\n",
            "Error processing entry: movie_99_PIPPA_1128_5\n",
            "failed to send request,  萨拉·康纳   Tommy\n",
            "Error processing entry: movie_98_movie_820_5\n",
            "failed to send request,  李   Nanashi Mumei\n",
            "Error processing entry: 'data'\n"
          ]
        },
        {
          "output_type": "stream",
          "name": "stderr",
          "text": [
            "Processing items: 100%|██████████| 100/100 [03:16<00:00,  1.97s/it]\n",
            "Processing items:   0%|          | 0/17 [00:00<?, ?it/s]"
          ]
        },
        {
          "output_type": "stream",
          "name": "stdout",
          "text": [
            "failed to send request,  MITCH   碇真嗣\n",
            "failed to send request,  Martin   塞尔马\n",
            "failed to send request,  Pelham   Jamma\n",
            "failed to send request,  RUBY   丁丁\n"
          ]
        },
        {
          "output_type": "stream",
          "name": "stderr",
          "text": [
            "\rProcessing items:  12%|█▏        | 2/17 [00:07<00:57,  3.86s/it]"
          ]
        },
        {
          "output_type": "stream",
          "name": "stdout",
          "text": [
            "failed to send request,  Hugh   Modeus\n",
            "failed to send request,  犀利哥   Rias Gremory\n",
            "failed to send request,  马里斯   未知\n",
            "failed to send request,  Luce   Snowball Translator\n",
            "failed to send request,  Martin   塞尔马\n",
            "failed to send request,  MITCH   碇真嗣\n",
            "failed to send request,  Pelham   Jamma\n",
            "failed to send request,  马里斯   未知\n",
            "failed to send request,  MITCH   碇真嗣\n",
            "Error processing entry: movie_16_movie_174_5\n"
          ]
        },
        {
          "output_type": "stream",
          "name": "stderr",
          "text": [
            "\rProcessing items:  18%|█▊        | 3/17 [00:18<01:32,  6.62s/it]"
          ]
        },
        {
          "output_type": "stream",
          "name": "stdout",
          "text": [
            "failed to send request,  萨拉·康纳   Tommy\n"
          ]
        },
        {
          "output_type": "stream",
          "name": "stderr",
          "text": [
            "Processing items: 100%|██████████| 17/17 [00:40<00:00,  2.39s/it]\n",
            "Processing items:   0%|          | 0/100 [00:00<?, ?it/s]"
          ]
        },
        {
          "output_type": "stream",
          "name": "stdout",
          "text": [
            "failed to send request,  约翰·邓巴中尉   比利·林恩\n",
            "failed to send request,  技术兵林恩   杰克\n",
            "failed to send request,  MITCH   斯卡特\n"
          ]
        },
        {
          "output_type": "stream",
          "name": "stderr",
          "text": [
            "\rProcessing items:   2%|▏         | 2/100 [00:06<05:17,  3.24s/it]"
          ]
        },
        {
          "output_type": "stream",
          "name": "stdout",
          "text": [
            "failed to send request,  MITCH   碇真嗣\n",
            "failed to send request,  Sam   Noil\n",
            "failed to send request,  Kelly   Clyde\n",
            "failed to send request,  Martin   塞尔马\n",
            "failed to send request,  Pelham   Jamma\n",
            "failed to send request,  Melanie   Daisy Vore\n",
            "failed to send request,  Cruz   尼尔\n",
            "failed to send request,  山姆   India\n",
            "failed to send request,  技术兵林恩   杰克\n",
            "failed to send request,  John   塞尔马\n",
            "failed to send request,  Severide   Drift\n"
          ]
        },
        {
          "output_type": "stream",
          "name": "stderr",
          "text": [
            "Processing items:   5%|▌         | 5/100 [00:15<04:03,  2.57s/it]"
          ]
        },
        {
          "output_type": "stream",
          "name": "stdout",
          "text": [
            "failed to send request,  MITCH   碇真嗣\n",
            "failed to send request,  Sam   Noil\n",
            "failed to send request,  周伯通   Neal\n",
            "failed to send request,  Melanie   Daisy Vore\n",
            "failed to send request,  山姆   India\n",
            "failed to send request,  Cruz   尼尔\n",
            "failed to send request,  Severide   Drift\n",
            "failed to send request,  史都   Chizuru Mizuhara\n",
            "failed to send request,  Paul   Reze \n",
            "failed to send request,  MITCH   碇真嗣\n",
            "Error processing entry: movie_16_movie_174_6\n"
          ]
        },
        {
          "output_type": "stream",
          "name": "stderr",
          "text": [
            "Processing items:   9%|▉         | 9/100 [00:26<03:09,  2.09s/it]"
          ]
        },
        {
          "output_type": "stream",
          "name": "stdout",
          "text": [
            "failed to send request,  Machete   5 dollar foot long\n"
          ]
        },
        {
          "output_type": "stream",
          "name": "stderr",
          "text": [
            "Processing items:  14%|█▍        | 14/100 [00:31<01:43,  1.20s/it]"
          ]
        },
        {
          "output_type": "stream",
          "name": "stdout",
          "text": [
            "failed to send request,  Scarlet   哈利•波特\n",
            "failed to send request,  山姆   India\n",
            "Error processing entry: movie_23_movie_514_6\n",
            "failed to send request,  史都   Chizuru Mizuhara\n",
            "failed to send request,  麦克墨菲   Scolipede\n"
          ]
        },
        {
          "output_type": "stream",
          "name": "stderr",
          "text": [
            "Processing items:  22%|██▏       | 22/100 [00:41<01:22,  1.06s/it]"
          ]
        },
        {
          "output_type": "stream",
          "name": "stdout",
          "text": [
            "failed to send request,  胡迪   Suzuha Amane\n",
            "failed to send request,  Ismay先生   Alfia PG\n",
            "failed to send request,  胡迪   Saul Goodman\n"
          ]
        },
        {
          "output_type": "stream",
          "name": "stderr",
          "text": [
            "Processing items:  26%|██▌       | 26/100 [00:47<01:29,  1.20s/it]"
          ]
        },
        {
          "output_type": "stream",
          "name": "stdout",
          "text": [
            "failed to send request,  公主   Bandit Hermit\n",
            "failed to send request,  马小军   Yui Hirasawa\n",
            "failed to send request,  麦克墨菲   Scolipede\n",
            "failed to send request,  CALEB   Gas Room Latex Wolf\n",
            "failed to send request,  Severide   Gwynn\n",
            "failed to send request,  胡迪   Saul Goodman\n",
            "failed to send request,  Luce   Snowball Translator\n",
            "failed to send request,  Cataleya   McLaren-Chan \n",
            "failed to send request,  Atenton   电光兽\n",
            "failed to send request,  Nade   大雄\n",
            "failed to send request,  小光   Ahri\n",
            "failed to send request,  賴斯特   朱利安·阿桑奇\n",
            "failed to send request,  Luce   Prince Alastair\n",
            "failed to send request,  马小军   Yui Hirasawa\n",
            "failed to send request,  特米斯托克列   Cave Johnson\n",
            "failed to send request,  CALEB   Gas Room Latex Wolf\n"
          ]
        },
        {
          "output_type": "stream",
          "name": "stderr",
          "text": [
            "Processing items:  30%|███       | 30/100 [00:59<02:07,  1.82s/it]"
          ]
        },
        {
          "output_type": "stream",
          "name": "stdout",
          "text": [
            "failed to send request,  Severide   Gwynn\n",
            "failed to send request,  胡迪   Saul Goodman\n",
            "Error processing entry: movie_39_PIPPA_203_6\n",
            "failed to send request,  Luce   Snowball Translator\n"
          ]
        },
        {
          "output_type": "stream",
          "name": "stderr",
          "text": [
            "Processing items:  34%|███▍      | 34/100 [01:03<01:19,  1.20s/it]"
          ]
        },
        {
          "output_type": "stream",
          "name": "stdout",
          "text": [
            "failed to send request,  Cataleya   McLaren-Chan \n",
            "failed to send request,  Atenton   电光兽\n",
            "failed to send request,  Nade   大雄\n",
            "failed to send request,  小光   Ahri\n",
            "failed to send request,  Luce   Prince Alastair\n",
            "failed to send request,  马小军   Yui Hirasawa\n",
            "Error processing entry: movie_43_PIPPA_53_6\n",
            "failed to send request,  CALEB   Gas Room Latex Wolf\n",
            "Error processing entry: movie_46_PIPPA_350_6\n",
            "failed to send request,  艾登   Yuuka Kazami\n",
            "failed to send request,  澤羅·穆斯塔法   吉米\n"
          ]
        },
        {
          "output_type": "stream",
          "name": "stderr",
          "text": [
            "Processing items:  44%|████▍     | 44/100 [01:15<01:01,  1.10s/it]"
          ]
        },
        {
          "output_type": "stream",
          "name": "stdout",
          "text": [
            "failed to send request,  瓦列·席皮尔曼   G41\n",
            "failed to send request,  皮特   关宁\n",
            "failed to send request,  Nade   大雄\n",
            "Error processing entry: movie_53_movie_223_6\n",
            "failed to send request,  Casey   Yanami\n",
            "failed to send request,  Luce   Prince Alastair\n",
            "Error processing entry: movie_55_PIPPA_1173_6\n",
            "failed to send request,  艾登   Yuuka Kazami\n",
            "failed to send request,  澤羅·穆斯塔法   吉米\n",
            "failed to send request,  布鲁斯·韦恩   MG5\n"
          ]
        },
        {
          "output_type": "stream",
          "name": "stderr",
          "text": [
            "Processing items:  51%|█████     | 51/100 [01:22<00:49,  1.01s/it]"
          ]
        },
        {
          "output_type": "stream",
          "name": "stdout",
          "text": [
            "failed to send request,  爱拉   瓦力\n",
            "failed to send request,  Violet   Khumba\n",
            "failed to send request,  艾玛   Shiver\n"
          ]
        },
        {
          "output_type": "stream",
          "name": "stderr",
          "text": [
            "\rProcessing items:  52%|█████▏    | 52/100 [01:26<01:22,  1.71s/it]"
          ]
        },
        {
          "output_type": "stream",
          "name": "stdout",
          "text": [
            "failed to send request,  Casey   Yanami\n",
            "failed to send request,  皮特   关宁\n",
            "failed to send request,  布鲁斯·韦恩   MG5\n",
            "failed to send request,  砍刀   Twilight Sparkle -W-\n",
            "failed to send request,  车文杰   Boyfriend FNF\n",
            "failed to send request,  澤羅·穆斯塔法   吉米\n",
            "Error processing entry: movie_63_movie_351_6\n"
          ]
        },
        {
          "output_type": "stream",
          "name": "stderr",
          "text": [
            "Processing items:  54%|█████▍    | 54/100 [01:28<01:02,  1.35s/it]"
          ]
        },
        {
          "output_type": "stream",
          "name": "stdout",
          "text": [
            "failed to send request,  Violet   Khumba\n",
            "failed to send request,  艾玛   Shiver\n",
            "failed to send request,  犀利哥   Rias Gremory\n",
            "failed to send request,  （莫莉）   Wendy\n",
            "failed to send request,  Casey   Yanami\n",
            "Error processing entry: movie_65_PIPPA_972_6\n"
          ]
        },
        {
          "output_type": "stream",
          "name": "stderr",
          "text": [
            "Processing items:  56%|█████▌    | 56/100 [01:33<01:19,  1.81s/it]"
          ]
        },
        {
          "output_type": "stream",
          "name": "stdout",
          "text": [
            "failed to send request,  皮特   关宁\n",
            "Error processing entry: movie_67_movie_270_6\n"
          ]
        },
        {
          "output_type": "stream",
          "name": "stderr",
          "text": [
            "Processing items:  58%|█████▊    | 58/100 [01:35<00:58,  1.40s/it]"
          ]
        },
        {
          "output_type": "stream",
          "name": "stdout",
          "text": [
            "failed to send request,  车文杰   Boyfriend FNF\n",
            "failed to send request,  大卫诺里斯   Cassia\n",
            "failed to send request,  巴基布雷迪   Josiah\n"
          ]
        },
        {
          "output_type": "stream",
          "name": "stderr",
          "text": [
            "Processing items:  62%|██████▏   | 62/100 [01:41<00:48,  1.28s/it]"
          ]
        },
        {
          "output_type": "stream",
          "name": "stdout",
          "text": [
            "failed to send request,  艾玛   Shiver\n",
            "Error processing entry: movie_74_PIPPA_510_6\n"
          ]
        },
        {
          "output_type": "stream",
          "name": "stderr",
          "text": [
            "Processing items:  65%|██████▌   | 65/100 [01:44<00:38,  1.10s/it]"
          ]
        },
        {
          "output_type": "stream",
          "name": "stdout",
          "text": [
            "failed to send request,  （莫莉）   Wendy\n",
            "failed to send request,  劳伦   Mr.\n",
            "failed to send request,  犀利哥   Rias Gremory\n",
            "failed to send request,  保罗   Princess Rosalina\n",
            "failed to send request,  Yonomi   布鲁斯·韦恩\n",
            "failed to send request,  大卫诺里斯   Cassia\n",
            "failed to send request,  巴基布雷迪   Josiah\n",
            "failed to send request,  安吉   Donna\n",
            "failed to send request,  劳伦   Mr.\n",
            "failed to send request,  保罗   Princess Rosalina\n",
            "failed to send request,  犀利哥   Rias Gremory\n",
            "Error processing entry: movie_81_PIPPA_229_6\n",
            "failed to send request,  Yonomi   布鲁斯·韦恩\n",
            "failed to send request,  萨拉·康纳   Tommy\n",
            "failed to send request,  约翰·纳什   Muffet\n",
            "failed to send request,  电光兽   Tallion Ritternatch\n",
            "failed to send request,  漢娜   Roy\n",
            "failed to send request,  巴基布雷迪   Josiah\n",
            "Error processing entry: movie_85_movie_672_6\n",
            "failed to send request,  大卫诺里斯   Cassia\n",
            "Error processing entry: movie_84_PIPPA_618_6\n",
            "failed to send request,  安吉   Donna\n",
            "failed to send request,  PK   StG-44 Mod 3\n",
            "failed to send request,  保罗   Princess Rosalina\n",
            "Error processing entry: movie_89_PIPPA_819_6\n",
            "failed to send request,  萨拉·康纳   Tommy\n",
            "failed to send request,  Yonomi   布鲁斯·韦恩\n",
            "Error processing entry: movie_90_PIPPA_727_6\n",
            "failed to send request,  邁爾斯·誇裏奇上校   Architect GnK\n",
            "failed to send request,  约翰·纳什   Muffet\n",
            "failed to send request,  电光兽   Tallion Ritternatch\n",
            "failed to send request,  小贤   Captain Caroline\n",
            "failed to send request,  Yui Kotegawa   山姆\n",
            "failed to send request,  大辅   Tewi Inaba \n",
            "failed to send request,  安吉   Donna\n",
            "Error processing entry: movie_92_movie_689_6\n",
            "failed to send request,  马丁   Nagatoro Hayase\n",
            "failed to send request,  邁爾斯·誇裏奇上校   Architect GnK\n",
            "failed to send request,  唐   瓦力\n",
            "failed to send request,  约翰·纳什   Muffet\n",
            "Error processing entry: movie_97_PIPPA_937_6\n",
            "failed to send request,  李   Nanashi Mumei\n",
            "failed to send request,  特拉维斯   Emma\n",
            "failed to send request,  大辅   Tewi Inaba \n",
            "failed to send request,  马丁   Nagatoro Hayase\n",
            "failed to send request,  邁爾斯·誇裏奇上校   Architect GnK\n",
            "Error processing entry: movie_103_PIPPA_306_6\n",
            "failed to send request,  李   Nanashi Mumei\n",
            "failed to send request,  唐   瓦力\n",
            "failed to send request,  特拉维斯   Emma\n",
            "failed to send request,  特拉维斯   Emma\n",
            "Error processing entry: movie_111_PIPPA_32_6\n",
            "Error processing entry: 'data'\n"
          ]
        },
        {
          "output_type": "stream",
          "name": "stderr",
          "text": [
            "Processing items: 100%|██████████| 100/100 [03:05<00:00,  1.86s/it]\n",
            "Processing items:   0%|          | 0/21 [00:00<?, ?it/s]"
          ]
        },
        {
          "output_type": "stream",
          "name": "stdout",
          "text": [
            "failed to send request,  马小军   Yui Hirasawa\n",
            "failed to send request,  Nade   大雄\n",
            "failed to send request,  CALEB   Gas Room Latex Wolf\n"
          ]
        },
        {
          "output_type": "stream",
          "name": "stderr",
          "text": [
            "Processing items:  14%|█▍        | 3/21 [00:08<00:45,  2.55s/it]"
          ]
        },
        {
          "output_type": "stream",
          "name": "stdout",
          "text": [
            "failed to send request,  皮特   关宁\n",
            "failed to send request,  澤羅·穆斯塔法   吉米\n",
            "failed to send request,  阿贝尔Plenkov   夏春花\n",
            "failed to send request,  艾玛   Shiver\n",
            "failed to send request,  Casey   Yanami\n",
            "failed to send request,  Luce   Prince Alastair\n",
            "failed to send request,  犀利哥   Rias Gremory\n",
            "failed to send request,  巴基布雷迪   Josiah\n"
          ]
        },
        {
          "output_type": "stream",
          "name": "stderr",
          "text": [
            "\rProcessing items:  19%|█▉        | 4/21 [00:11<00:50,  2.97s/it]"
          ]
        },
        {
          "output_type": "stream",
          "name": "stdout",
          "text": [
            "failed to send request,  马小军   Yui Hirasawa\n",
            "failed to send request,  CALEB   Gas Room Latex Wolf\n",
            "failed to send request,  Yonomi   布鲁斯·韦恩\n",
            "failed to send request,  安吉   Donna\n",
            "failed to send request,  阿贝尔Plenkov   夏春花\n",
            "failed to send request,  澤羅·穆斯塔法   吉米\n",
            "failed to send request,  犀利哥   Rias Gremory\n",
            "failed to send request,  Luce   Prince Alastair\n",
            "failed to send request,  约翰·纳什   Muffet\n",
            "failed to send request,  马小军   Yui Hirasawa\n",
            "Error processing entry: movie_43_PIPPA_53_6\n"
          ]
        },
        {
          "output_type": "stream",
          "name": "stderr",
          "text": [
            "Processing items:  33%|███▎      | 7/21 [00:21<00:35,  2.56s/it]"
          ]
        },
        {
          "output_type": "stream",
          "name": "stdout",
          "text": [
            "failed to send request,  安吉   Donna\n",
            "failed to send request,  邁爾斯·誇裏奇上校   Architect GnK\n",
            "failed to send request,  特拉维斯   Emma\n",
            "failed to send request,  澤羅·穆斯塔法   吉米\n",
            "Error processing entry: movie_63_movie_351_6\n",
            "failed to send request,  阿贝尔Plenkov   夏春花\n",
            "Error processing entry: movie_76_movie_317_6\n"
          ]
        },
        {
          "output_type": "stream",
          "name": "stderr",
          "text": [
            "Processing items:  62%|██████▏   | 13/21 [00:31<00:11,  1.38s/it]"
          ]
        },
        {
          "output_type": "stream",
          "name": "stdout",
          "text": [
            "failed to send request,  安吉   Donna\n",
            "Error processing entry: movie_92_movie_689_6\n"
          ]
        },
        {
          "output_type": "stream",
          "name": "stderr",
          "text": [
            "Processing items:  81%|████████  | 17/21 [00:35<00:04,  1.09s/it]"
          ]
        },
        {
          "output_type": "stream",
          "name": "stdout",
          "text": [
            "failed to send request,  特拉维斯   Emma\n",
            "Error processing entry: 'data'\n"
          ]
        },
        {
          "output_type": "stream",
          "name": "stderr",
          "text": [
            "Processing items: 100%|██████████| 21/21 [01:30<00:00,  4.29s/it]\n"
          ]
        }
      ]
    },
    {
      "cell_type": "code",
      "source": [
        "start_id = 6464\n",
        "end_id = 7064\n",
        "final_save_name = \"/content/drive/MyDrive/CardBuild/roleBaize/GLM_6464_to_7064.txt\"\n",
        "\n",
        "\n",
        "chat_datas = []\n",
        "\n",
        "for i in range(start_id, end_id):\n",
        "    c, q = tuple_list[i]\n",
        "    data1 = dataset['train'][c]\n",
        "    data2 = dataset['train'][q]\n",
        "    id_str1 = data1['id']\n",
        "    questions = id2questions[id_str1]\n",
        "    random.shuffle(questions)\n",
        "    chat_data = ChatTogether(data1, data2,questions)\n",
        "    chat_datas.append(chat_data)"
      ],
      "metadata": {
        "id": "076Dil1GPGFL"
      },
      "execution_count": 84,
      "outputs": []
    },
    {
      "cell_type": "code",
      "source": [
        "process_data = []\n",
        "\n",
        "temp_folder = \"/content/drive/MyDrive/CardBuild/exp0108\"\n",
        "\n",
        "for turn_id in range(7):\n",
        "    output_folder = \"/content/output_\" + str( turn_id )\n",
        "\n",
        "    await main(chat_datas, output_folder, turn_id)\n",
        "\n",
        "    await main(chat_datas, output_folder, turn_id)\n",
        "\n",
        "    for chat_data in chat_datas:\n",
        "        # messages = chat_data.get_next_query_messages()\n",
        "        ids = chat_data.ids\n",
        "        uniqure_id = ids[0] + \"_\" + ids[1] + \"_\" + str(turn_id)\n",
        "        save_name = uniqure_id + \".txt\"\n",
        "        save_path = os.path.join(output_folder, save_name)\n",
        "        if os.path.exists(save_path):\n",
        "            with open(save_path, 'r', encoding='utf-8') as f:\n",
        "                try:\n",
        "                    data = json.load(f)\n",
        "                    response = data['response']\n",
        "                    response = response.replace(\"\\\\\", \"\")\n",
        "                    # print(response)\n",
        "                except:\n",
        "                    continue\n",
        "\n",
        "        chat_data.append_message(response)\n",
        "\n",
        "    save_data_file_name = os.path.basename(final_save_name) + \"_turn_\" + str(turn_id) + \".txt\"\n",
        "    save_data_file_path = os.path.join(temp_folder, save_data_file_name)\n",
        "\n",
        "    for file_name in [save_data_file_path, final_save_name]:\n",
        "        with open(file_name, 'w', encoding='utf-8') as f:\n",
        "            for data in chat_datas:\n",
        "                json.dump(data.get_save_data(), f, ensure_ascii=False)\n",
        "                f.write('\\n')\n",
        "\n",
        "    # 在这里为我补充一段代码，chat_datas中的data.get_save_data() 会返回一个dict，将所有的chat_datas中的save data\n",
        "    # 分别保存在save_name, 以及temp_folder中，以save_name的文件名 + _turn_id.txt 命名的文件中"
      ],
      "metadata": {
        "colab": {
          "base_uri": "https://localhost:8080/"
        },
        "id": "iOroez8CcHbc",
        "outputId": "8453ec87-1c60-4d1a-92db-110a56437594"
      },
      "execution_count": null,
      "outputs": [
        {
          "output_type": "stream",
          "name": "stderr",
          "text": [
            "Processing items:  79%|███████▉  | 475/600 [13:14<02:05,  1.00s/it]"
          ]
        },
        {
          "output_type": "stream",
          "name": "stdout",
          "text": [
            "failed to send request,  WA2000   杰基·罗宾逊\n",
            "failed to send request,  Lain -Denizen- PRIV   Ryan\n",
            "failed to send request,  Fat eula    Staff\n",
            "failed to send request,  Shishiro Botan   Jamil\n",
            "Error processing entry: movie_592_PIPPA_1051_1\n",
            "failed to send request,  文森特   Lisa\n"
          ]
        },
        {
          "output_type": "stream",
          "name": "stderr",
          "text": [
            "\rProcessing items:  79%|███████▉  | 476/600 [13:16<02:41,  1.30s/it]"
          ]
        },
        {
          "output_type": "stream",
          "name": "stdout",
          "text": [
            "failed to send request,  Imp   Sanborn\n",
            "failed to send request,  Lucy   未知\n",
            "Error processing entry: movie_593_PIPPA_965_1\n",
            "failed to send request,  古斯塔夫·H   Jack\n",
            "failed to send request,  桑伯恩   漢娜\n",
            "failed to send request,  Emeria   Swifty\n",
            "failed to send request,  Ozias Valentine   Alvin\n",
            "failed to send request,  约阿夫   Mr\n",
            "Error processing entry: movie_596_movie_236_1\n"
          ]
        },
        {
          "output_type": "stream",
          "name": "stderr",
          "text": [
            "Processing items:  80%|████████  | 483/600 [13:24<02:04,  1.06s/it]"
          ]
        },
        {
          "output_type": "stream",
          "name": "stdout",
          "text": [
            "failed to send request,  WA2000   杰基·罗宾逊\n",
            "failed to send request,  Hannah and Sliyia   桑伯恩\n",
            "failed to send request,  Imp   Sanborn\n",
            "failed to send request,  Vaporeon maid   PAT\n",
            "failed to send request,  古斯塔夫·H   Jack\n",
            "Error processing entry: movie_600_movie_246_1\n",
            "failed to send request,  约翰·纳什   LMB 416\n",
            "failed to send request,  Ozias Valentine   Alvin\n",
            "Error processing entry: movie_601_PIPPA_597_1\n",
            "failed to send request,  桑伯恩   漢娜\n",
            "Error processing entry: movie_602_movie_100_1\n"
          ]
        },
        {
          "output_type": "stream",
          "name": "stderr",
          "text": [
            "Processing items:  81%|████████  | 486/600 [13:29<02:30,  1.32s/it]"
          ]
        },
        {
          "output_type": "stream",
          "name": "stdout",
          "text": [
            "failed to send request,  Max Wolfe   Linda\n",
            "failed to send request,  Roxanne   David\n",
            "failed to send request,  Hannah and Sliyia   桑伯恩\n",
            "failed to send request,  WA2000   杰基·罗宾逊\n",
            "Error processing entry: movie_603_PIPPA_1103_1\n",
            "failed to send request,  Imp   Sanborn\n",
            "Error processing entry: movie_606_PIPPA_612_1\n"
          ]
        },
        {
          "output_type": "stream",
          "name": "stderr",
          "text": [
            "Processing items:  82%|████████▏ | 493/600 [13:39<02:01,  1.13s/it]"
          ]
        },
        {
          "output_type": "stream",
          "name": "stdout",
          "text": [
            "failed to send request,  约翰·纳什   LMB 416\n",
            "failed to send request,  朱诺   山姆\n",
            "failed to send request,  Seven of Nine   R.P.麦克墨菲\n",
            "failed to send request,  Roxanne   David\n",
            "failed to send request,  Jin   席拉\n",
            "failed to send request,  Minthos   Liv\n",
            "failed to send request,  Hannah and Sliyia   桑伯恩\n",
            "Error processing entry: movie_610_PIPPA_850_1\n"
          ]
        },
        {
          "output_type": "stream",
          "name": "stderr",
          "text": [
            "Processing items:  84%|████████▍ | 504/600 [13:55<01:45,  1.10s/it]"
          ]
        },
        {
          "output_type": "stream",
          "name": "stdout",
          "text": [
            "failed to send request,  Asashio   穆斯塔法先生\n",
            "failed to send request,  杰基·罗宾逊   山姆\n",
            "failed to send request,  Daenerys Targaryen   戴斯蒙德\n",
            "failed to send request,  Gosalyn   Rebecca\n",
            "failed to send request,  Esoteric Ogeyism   Tamara\n",
            "failed to send request,  Josh   Madison\n",
            "failed to send request,  Roxanne   David\n",
            "Error processing entry: movie_621_PIPPA_227_1\n",
            "failed to send request,  Jin   席拉\n",
            "failed to send request,  Minthos   Liv\n",
            "failed to send request,  Rayne   Marta\n"
          ]
        },
        {
          "output_type": "stream",
          "name": "stderr",
          "text": [
            "Processing items:  86%|████████▌ | 513/600 [14:05<01:29,  1.03s/it]"
          ]
        },
        {
          "output_type": "stream",
          "name": "stdout",
          "text": [
            "failed to send request,  Llexia   Daisy\n",
            "failed to send request,  Bot Convy   碇\n",
            "failed to send request,  FROSTY   无\n",
            "failed to send request,  Gosalyn   Rebecca\n",
            "failed to send request,  Esoteric Ogeyism   Tamara\n",
            "failed to send request,  Josh   Madison\n",
            "failed to send request,  Jin   席拉\n",
            "Error processing entry: movie_630_movie_650_1\n",
            "failed to send request,  Rayne   Marta\n",
            "failed to send request,  Minthos   Liv\n",
            "Error processing entry: movie_631_PIPPA_910_1\n"
          ]
        },
        {
          "output_type": "stream",
          "name": "stderr",
          "text": [
            "Processing items:  87%|████████▋ | 520/600 [14:14<01:26,  1.08s/it]"
          ]
        },
        {
          "output_type": "stream",
          "name": "stdout",
          "text": [
            "failed to send request,  Llexia   Daisy\n",
            "failed to send request,  FROSTY   无\n",
            "failed to send request,  Bot Convy   碇\n",
            "failed to send request,  Lord Diavolo   塞尔玛\n",
            "failed to send request,  Gosalyn   Rebecca\n",
            "Error processing entry: movie_637_PIPPA_1094_1\n",
            "failed to send request,  Esoteric Ogeyism   Tamara\n",
            "Error processing entry: movie_638_PIPPA_857_1\n",
            "failed to send request,  Josh   Madison\n",
            "Error processing entry: movie_639_PIPPA_484_1\n",
            "failed to send request,  VSK-94   Happy\n",
            "failed to send request,  Rayne   Marta\n",
            "Error processing entry: movie_642_PIPPA_525_1\n"
          ]
        },
        {
          "output_type": "stream",
          "name": "stderr",
          "text": [
            "Processing items:  88%|████████▊ | 528/600 [14:25<01:17,  1.08s/it]"
          ]
        },
        {
          "output_type": "stream",
          "name": "stdout",
          "text": [
            "failed to send request,  Nineteen   简·爱\n",
            "failed to send request,  Ava   约翰·纳什\n",
            "failed to send request,  Llexia   Daisy\n",
            "Error processing entry: movie_645_PIPPA_1253_1\n",
            "failed to send request,  Mr   Quinn\n",
            "failed to send request,  Lord Diavolo   塞尔玛\n",
            "failed to send request,  Bot Convy   碇\n",
            "Error processing entry: movie_646_PIPPA_1129_1\n",
            "failed to send request,  VSK-94   Happy\n"
          ]
        },
        {
          "output_type": "stream",
          "name": "stderr",
          "text": [
            "Processing items:  89%|████████▉ | 536/600 [14:36<01:09,  1.08s/it]"
          ]
        },
        {
          "output_type": "stream",
          "name": "stdout",
          "text": [
            "failed to send request,  Galatea-X   R.P.麦克墨菲\n",
            "failed to send request,  Katniss   Monsieur\n",
            "failed to send request,  Gus   Face\n",
            "failed to send request,  大卫   Sam\n",
            "failed to send request,  Ava   约翰·纳什\n",
            "failed to send request,  Mr   Quinn\n",
            "failed to send request,  Lord Diavolo   塞尔玛\n",
            "Error processing entry: movie_655_PIPPA_790_1\n",
            "failed to send request,  Grizela   布鲁斯·韦恩\n",
            "failed to send request,  VSK-94   Happy\n",
            "Error processing entry: movie_656_PIPPA_386_1\n",
            "failed to send request,  Galatea-X   R.P.麦克墨菲\n",
            "failed to send request,  Susie McCallister   లివ్\n",
            "failed to send request,  斯内德   R.P.麦克墨菲\n",
            "failed to send request,  大卫   Sam\n",
            "failed to send request,  Ava   约翰·纳什\n",
            "Error processing entry: movie_661_movie_624_1\n",
            "failed to send request,  Mr   Quinn\n",
            "Error processing entry: movie_658_movie_596_1\n",
            "failed to send request,  Grizela   布鲁斯·韦恩\n",
            "failed to send request,  Sean   Raiden Mei\n",
            "failed to send request,  Shima Luan   Lisa\n",
            "failed to send request,  Captain   Thomas\n",
            "failed to send request,  Galatea-X   R.P.麦克墨菲\n",
            "Error processing entry: movie_664_PIPPA_816_1\n",
            "failed to send request,  Glaceon maid   哈利•波特\n",
            "failed to send request,  斯内德   R.P.麦克墨菲\n",
            "failed to send request,  大卫   Sam\n",
            "Error processing entry: movie_668_movie_215_1\n",
            "failed to send request,  Machete   The Riddle Rookie\n",
            "failed to send request,  Queen Ayame   LOLA\n",
            "failed to send request,  Sean   Raiden Mei\n",
            "failed to send request,  Shima Luan   Lisa\n",
            "failed to send request,  Megan   Danny\n",
            "failed to send request,  Captain   Thomas\n",
            "failed to send request,  Glaceon maid   哈利•波特\n",
            "failed to send request,  斯内德   R.P.麦克墨菲\n",
            "Error processing entry: movie_675_movie_139_1\n",
            "failed to send request,  犀利哥   Mary\n",
            "failed to send request,  Beca   Fοrrest\n",
            "failed to send request,  Queen Ayame   LOLA\n",
            "failed to send request,  Sean   Raiden Mei\n",
            "Error processing entry: movie_676_PIPPA_1181_1\n",
            "failed to send request,  Shima Luan   Lisa\n",
            "Error processing entry: movie_677_PIPPA_217_1\n",
            "failed to send request,  Megan   Danny\n",
            "failed to send request,  詹姆斯   Winter\n",
            "failed to send request,  Glaceon maid   哈利•波特\n",
            "Error processing entry: movie_680_PIPPA_360_1\n",
            "failed to send request,  Captain   Thomas\n",
            "Error processing entry: movie_679_PIPPA_1028_1\n",
            "failed to send request,  Ganyu   竜\n",
            "failed to send request,  犀利哥   Mary\n",
            "failed to send request,  Blood   布鲁斯·韦恩\n",
            "failed to send request,  Queen Ayame   LOLA\n",
            "Error processing entry: movie_683_PIPPA_218_1\n",
            "failed to send request,  Mikhail   Miss Lopez\n",
            "failed to send request,  SVD   Sara\n",
            "failed to send request,  詹姆斯   Winter\n",
            "failed to send request,  Megan   Danny\n",
            "Error processing entry: movie_684_movie_619_1\n",
            "failed to send request,  Shuten-douji   Marti\n",
            "failed to send request,  Ganyu   竜\n",
            "failed to send request,  犀利哥   Mary\n",
            "Error processing entry: movie_687_movie_165_1\n",
            "failed to send request,  Blood   布鲁斯·韦恩\n",
            "failed to send request,  拉瑞·克劳   Black Nyto\n",
            "failed to send request,  Ganyu   哈利\n",
            "failed to send request,  諾亞·迪亞茲   Scat\n",
            "failed to send request,  Mikhail   Miss Lopez\n",
            "failed to send request,  SCR   山姆\n",
            "failed to send request,  SVD   Sara\n",
            "failed to send request,  詹姆斯   Winter\n",
            "Error processing entry: movie_690_movie_198_1\n",
            "failed to send request,  Shuten-douji   Marti\n",
            "failed to send request,  Minamoto-no-Raikou   John\n",
            "failed to send request,  Blood   布鲁斯·韦恩\n",
            "Error processing entry: movie_694_PIPPA_554_1\n",
            "failed to send request,  拉瑞·克劳   Black Nyto\n",
            "failed to send request,  SCR   山姆\n",
            "failed to send request,  薩曼莎   Frank\n",
            "failed to send request,  諾亞·迪亞茲   Scat\n",
            "failed to send request,  UMP45   Gary\n",
            "failed to send request,  Mikhail   Miss Lopez\n",
            "Error processing entry: movie_696_PIPPA_429_1\n",
            "failed to send request,  Joe   Dusty\n",
            "failed to send request,  拉瑞·克劳   Black Nyto\n",
            "Error processing entry: movie_701_PIPPA_508_1\n",
            "failed to send request,  Nara   Eep\n",
            "failed to send request,  SCR   山姆\n",
            "Error processing entry: movie_705_PIPPA_1233_1\n",
            "failed to send request,  Allen   Paper Mario\n",
            "failed to send request,  諾亞·迪亞茲   Scat\n",
            "Error processing entry: movie_704_movie_167_1\n",
            "failed to send request,  维达   Magne\n",
            "failed to send request,     Olivia\n",
            "failed to send request,  Joe   Dusty\n",
            "failed to send request,  Nara   Eep\n",
            "failed to send request,  Allen   Paper Mario\n",
            "failed to send request,  维达   Magne\n",
            "failed to send request,  维达   Magne\n",
            "Error processing entry: movie_714_movie_121_1\n",
            "Error processing entry: 'data'\n",
            "Error processing entry: 'choices'\n"
          ]
        },
        {
          "output_type": "stream",
          "name": "stderr",
          "text": [
            "Processing items: 100%|██████████| 600/600 [16:40<00:00,  1.67s/it]\n",
            "Processing items:   0%|          | 0/173 [00:00<?, ?it/s]"
          ]
        },
        {
          "output_type": "stream",
          "name": "stdout",
          "text": [
            "failed to send request,  Step Mommy Stacey   斯内德\n",
            "failed to send request,  Kamiyandere Princess   埃迪\n",
            "failed to send request,  拉尔夫   辉一\n"
          ]
        },
        {
          "output_type": "stream",
          "name": "stderr",
          "text": [
            "\rProcessing items:   1%|          | 2/173 [00:06<09:50,  3.45s/it]"
          ]
        },
        {
          "output_type": "stream",
          "name": "stdout",
          "text": [
            "failed to send request,  David Martinez   尤尼\n",
            "failed to send request,  阿英   珍妮佛\n",
            "failed to send request,  White Nyto GnK   布鲁斯\n",
            "failed to send request,  Alastor   雷米\n",
            "failed to send request,  WhoWouldWin   比利·林恩\n",
            "failed to send request,  麦克墨菲   洁米\n",
            "failed to send request,  UMP45   佐珍\n",
            "failed to send request,  拉尔夫   辉一\n",
            "failed to send request,  Step Mommy Stacey   斯内德\n",
            "failed to send request,  Rodrigo   阿曼达莱蒙\n",
            "failed to send request,  Alastor   雷米\n",
            "failed to send request,  WhoWouldWin   比利·林恩\n"
          ]
        },
        {
          "output_type": "stream",
          "name": "stderr",
          "text": [
            "\rProcessing items:   2%|▏         | 3/173 [00:15<15:23,  5.43s/it]"
          ]
        },
        {
          "output_type": "stream",
          "name": "stdout",
          "text": [
            "failed to send request,  麦克墨菲   洁米\n",
            "failed to send request,  Fatui Mirror Maiden   维兹尼\n",
            "failed to send request,  麦克墨菲   安迪\n",
            "failed to send request,  UMP45   佐珍\n",
            "failed to send request,  Chirico Cuvie   尼爾·卡夫瑞\n"
          ]
        },
        {
          "output_type": "stream",
          "name": "stderr",
          "text": [
            "Processing items:   5%|▌         | 9/173 [00:24<04:13,  1.55s/it]"
          ]
        },
        {
          "output_type": "stream",
          "name": "stdout",
          "text": [
            "failed to send request,  Rodrigo   阿曼达莱蒙\n",
            "failed to send request,  M4A1   格雷戈\n",
            "failed to send request,  Alastor   雷米\n",
            "Error processing entry: movie_161_PIPPA_118_1\n",
            "failed to send request,  WhoWouldWin   比利·林恩\n",
            "Error processing entry: movie_181_PIPPA_232_1\n"
          ]
        },
        {
          "output_type": "stream",
          "name": "stderr",
          "text": [
            "Processing items:   9%|▉         | 16/173 [00:31<02:44,  1.05s/it]"
          ]
        },
        {
          "output_type": "stream",
          "name": "stdout",
          "text": [
            "failed to send request,  Director Berger   尼尔·卡夫瑞\n",
            "failed to send request,  Fatui Mirror Maiden   维兹尼\n",
            "failed to send request,  麦克墨菲   安迪\n",
            "failed to send request,  UMP45   佐珍\n",
            "Error processing entry: movie_233_PIPPA_1033_1\n",
            "failed to send request,  真嗣君   卢埃林\n"
          ]
        },
        {
          "output_type": "stream",
          "name": "stderr",
          "text": [
            "Processing items:  11%|█         | 19/173 [00:35<02:59,  1.17s/it]"
          ]
        },
        {
          "output_type": "stream",
          "name": "stdout",
          "text": [
            "failed to send request,  The Rat Woman   超能先生\n",
            "failed to send request,  Rodrigo   阿曼达莱蒙\n",
            "Error processing entry: movie_248_PIPPA_465_1\n",
            "failed to send request,  M4A1   格雷戈\n"
          ]
        },
        {
          "output_type": "stream",
          "name": "stderr",
          "text": [
            "\rProcessing items:  12%|█▏        | 20/173 [00:37<03:37,  1.42s/it]"
          ]
        },
        {
          "output_type": "stream",
          "name": "stdout",
          "text": [
            "failed to send request,  Director Berger   尼尔·卡夫瑞\n",
            "failed to send request,  Fatui Mirror Maiden   维兹尼\n",
            "Error processing entry: movie_249_PIPPA_810_1\n",
            "failed to send request,  麦克墨菲   安迪\n",
            "Error processing entry: movie_261_movie_396_1\n",
            "failed to send request,  Tony Stark   凯瑟琳\n",
            "failed to send request,  丹尼·布德曼   威克伯\n"
          ]
        },
        {
          "output_type": "stream",
          "name": "stderr",
          "text": [
            "Processing items:  13%|█▎        | 23/173 [00:41<03:14,  1.29s/it]"
          ]
        },
        {
          "output_type": "stream",
          "name": "stdout",
          "text": [
            "failed to send request,  真嗣君   卢埃林\n",
            "failed to send request,  The Rat Woman   超能先生\n",
            "failed to send request,  雅典娜   劳拉\n",
            "failed to send request,  埃里克   斯圖亞特·普萊斯\n",
            "failed to send request,  Dagny   珍妮佛\n",
            "failed to send request,  M4A1   格雷戈\n",
            "Error processing entry: movie_281_PIPPA_747_1\n",
            "failed to send request,  Tony Stark   凯瑟琳\n",
            "failed to send request,  丹尼·布德曼   威克伯\n",
            "failed to send request,  Director Berger   尼尔·卡夫瑞\n",
            "Error processing entry: movie_299_PIPPA_288_1\n",
            "failed to send request,  Wanderer   伯恩\n"
          ]
        },
        {
          "output_type": "stream",
          "name": "stderr",
          "text": [
            "\rProcessing items:  14%|█▍        | 24/173 [00:45<05:14,  2.11s/it]"
          ]
        },
        {
          "output_type": "stream",
          "name": "stdout",
          "text": [
            "failed to send request,  Riolu   崔维斯\n",
            "failed to send request,  The Rat Woman   超能先生\n",
            "Error processing entry: movie_305_PIPPA_749_1\n",
            "failed to send request,  雅典娜   劳拉\n",
            "failed to send request,  无   甘道夫\n",
            "failed to send request,  Cerberus   贾迈尔\n",
            "failed to send request,  Tony Stark   凯瑟琳\n",
            "Error processing entry: movie_316_PIPPA_1084_1\n",
            "failed to send request,  丹尼·布德曼   威克伯\n",
            "Error processing entry: movie_315_movie_778_1\n",
            "failed to send request,  Wanderer   伯恩\n",
            "failed to send request,  犀利哥   羅拔\n",
            "failed to send request,  拉蒂夫   约翰·纳什\n",
            "failed to send request,  Riolu   崔维斯\n",
            "failed to send request,  雅典娜   劳拉\n",
            "Error processing entry: movie_319_movie_348_1\n",
            "failed to send request,  迈克尔   阿英\n",
            "failed to send request,  Nick   马利根\n",
            "failed to send request,  Matthew   约翰·纳什\n",
            "failed to send request,  Cerberus   贾迈尔\n",
            "failed to send request,  Diana   陈梦吉\n",
            "failed to send request,  Wanderer   伯恩\n",
            "Error processing entry: movie_328_PIPPA_457_1\n",
            "failed to send request,  拉蒂夫   约翰·纳什\n",
            "failed to send request,  Madara Uchiha    格鲁\n",
            "failed to send request,  Riolu   崔维斯\n",
            "Error processing entry: movie_330_PIPPA_1092_1\n",
            "failed to send request,  Goblin Slayer   塞尔马\n",
            "failed to send request,  Nick   马利根\n",
            "failed to send request,  Matthew   约翰·纳什\n",
            "failed to send request,  蜘蛛侠   雅典娜\n",
            "failed to send request,  Wriggle   犬夜叉\n",
            "failed to send request,  Diana   陈梦吉\n",
            "failed to send request,  布鲁斯   莫拉赫\n",
            "failed to send request,  Jerma985   吉米\n",
            "failed to send request,  拉蒂夫   约翰·纳什\n",
            "Error processing entry: movie_337_movie_839_1\n",
            "failed to send request,  เฟซ   仙女座\n",
            "failed to send request,  Madara Uchiha    格鲁\n",
            "failed to send request,  Nick   马利根\n",
            "Error processing entry: movie_340_movie_530_1\n",
            "failed to send request,  乔治佛瑞   Clover\n",
            "failed to send request,  Goblin Slayer   塞尔马\n",
            "failed to send request,  蜘蛛侠   雅典娜\n",
            "failed to send request,  Wriggle   犬夜叉\n",
            "failed to send request,  Diana   陈梦吉\n",
            "Error processing entry: movie_344_PIPPA_359_1\n",
            "failed to send request,  布鲁斯   莫拉赫\n",
            "failed to send request,  Jerma985   吉米\n",
            "failed to send request,  Izzy the G-Cinderace   小店女孩\n",
            "failed to send request,  Helianthus   哈利·波特\n",
            "failed to send request,  เฟซ   仙女座\n",
            "failed to send request,  Madara Uchiha    格鲁\n",
            "Error processing entry: movie_345_PIPPA_348_1\n",
            "failed to send request,  乔治佛瑞   Clover\n",
            "failed to send request,  Isabelle   莫拉赫\n",
            "failed to send request,  Goblin Slayer   塞尔马\n",
            "Error processing entry: movie_346_PIPPA_173_1\n",
            "failed to send request,  蜘蛛侠   雅典娜\n",
            "Error processing entry: movie_348_movie_763_1\n",
            "failed to send request,  Happy Little Worker   保罗\n",
            "failed to send request,  Suu the Slimegirl   金\n",
            "failed to send request,  布鲁斯   莫拉赫\n",
            "Error processing entry: movie_350_movie_212_1\n",
            "failed to send request,  Jerma985   吉米\n",
            "Error processing entry: movie_351_PIPPA_466_1\n",
            "failed to send request,  Izzy the G-Cinderace   小店女孩\n",
            "failed to send request,  Helianthus   哈利·波特\n",
            "failed to send request,  尼基   AVA\n",
            "failed to send request,  Kaveh   犬夜叉\n",
            "failed to send request,  Isabelle   莫拉赫\n",
            "failed to send request,  乔治佛瑞   Clover\n",
            "Error processing entry: movie_353_PIPPA_1147_1\n",
            "failed to send request,  Happy Little Worker   保罗\n",
            "failed to send request,  Suu the Slimegirl   金\n",
            "failed to send request,  Saronia   波登\n",
            "failed to send request,  HOOVER   女主角\n",
            "failed to send request,  罗素   The Engineer\n",
            "failed to send request,  艾伦   克莱尔\n",
            "failed to send request,  Helianthus   哈利·波特\n",
            "Error processing entry: movie_355_PIPPA_644_1\n",
            "failed to send request,  尼基   AVA\n",
            "failed to send request,  Kaveh   犬夜叉\n",
            "failed to send request,  Isabelle   莫拉赫\n",
            "Error processing entry: movie_356_PIPPA_164_1\n",
            "failed to send request,  Cal   山姆\n",
            "failed to send request,  Happy Little Worker   保罗\n",
            "Error processing entry: movie_357_PIPPA_963_1\n",
            "failed to send request,  Suu the Slimegirl   金\n",
            "Error processing entry: movie_358_PIPPA_152_1\n",
            "failed to send request,  Menhera-TV   安吉麗娜\n",
            "failed to send request,  HOOVER   女主角\n",
            "failed to send request,  Saronia   波登\n",
            "failed to send request,  艾伦   克莱尔\n",
            "failed to send request,  CHARLES   科尔\n",
            "failed to send request,  Agent   奇普哈札德\n",
            "failed to send request,  尼基   AVA\n",
            "Error processing entry: movie_359_movie_113_1\n",
            "failed to send request,  Kaveh   犬夜叉\n",
            "Error processing entry: movie_360_PIPPA_66_1\n",
            "failed to send request,  Eva   賈默馬利克\n",
            "failed to send request,  詹姆斯   春三十娘\n",
            "failed to send request,  卡洛斯   麦克墨菲\n",
            "failed to send request,  Menhera-TV   安吉麗娜\n",
            "failed to send request,  HOOVER   女主角\n",
            "Error processing entry: movie_363_movie_703_1\n",
            "failed to send request,  Saronia   波登\n",
            "Error processing entry: movie_364_PIPPA_841_1\n",
            "failed to send request,  CHARLES   科尔\n",
            "failed to send request,  Mio Mama   泰德\n",
            "failed to send request,  Agent   奇普哈札德\n",
            "failed to send request,  杰克   茱莉亚\n",
            "failed to send request,  约翰·邓巴中尉   巴瑟斯\n",
            "failed to send request,  Kiryu Coco   欧莱雅\n",
            "failed to send request,  Eva   賈默馬利克\n",
            "failed to send request,  詹姆斯   春三十娘\n",
            "failed to send request,  卡洛斯   麦克墨菲\n",
            "failed to send request,  Shoutmon   唐伯虎\n",
            "failed to send request,  Scooby Doo   特洛伊\n",
            "failed to send request,  CHARLES   科尔\n",
            "Error processing entry: movie_373_movie_573_1\n",
            "failed to send request,  Mio Mama   泰德\n",
            "failed to send request,  Agent   奇普哈札德\n",
            "Error processing entry: movie_377_PIPPA_1264_1\n",
            "failed to send request,  约翰·邓巴中尉   巴瑟斯\n",
            "failed to send request,  Kiryu Coco   欧莱雅\n",
            "failed to send request,  Mew   诺瓦\n",
            "failed to send request,  詹姆斯   春三十娘\n",
            "Error processing entry: movie_380_movie_200_1\n",
            "failed to send request,  Shoutmon   唐伯虎\n",
            "failed to send request,  Eva   賈默馬利克\n",
            "Error processing entry: movie_378_movie_554_1\n",
            "failed to send request,  Ghost   文森特\n",
            "failed to send request,  Scooby Doo   特洛伊\n",
            "failed to send request,  Mio Mama   泰德\n",
            "Error processing entry: movie_403_PIPPA_205_1\n",
            "failed to send request,  卡洛斯   麦克墨菲\n",
            "Error processing entry: movie_396_movie_432_1\n",
            "Error processing entry: 'choices'\n"
          ]
        },
        {
          "output_type": "stream",
          "name": "stderr",
          "text": [
            "Processing items:  20%|█▉        | 34/173 [01:44<03:47,  1.63s/it]"
          ]
        },
        {
          "output_type": "stream",
          "name": "stdout",
          "text": [
            "failed to send request,  Wendy   厄文\n",
            "failed to send request,  Maya   卡斯特罗\n",
            "Error processing entry: 'data'\n"
          ]
        },
        {
          "output_type": "stream",
          "name": "stderr",
          "text": [
            "Processing items:  31%|███       | 54/173 [02:06<01:59,  1.00s/it]"
          ]
        },
        {
          "output_type": "stream",
          "name": "stdout",
          "text": [
            "failed to send request,  约翰·邓巴中尉   巴瑟斯\n",
            "Error processing entry: movie_409_movie_15_1\n",
            "failed to send request,  Shoutmon   唐伯虎\n",
            "Error processing entry: movie_413_PIPPA_1016_1\n",
            "failed to send request,  Kiryu Coco   欧莱雅\n",
            "Error processing entry: movie_410_PIPPA_1090_1\n",
            "failed to send request,  Ghost   文森特\n",
            "failed to send request,  Scooby Doo   特洛伊\n",
            "Error processing entry: movie_414_PIPPA_488_1\n",
            "failed to send request,  Marie   胡桃鉗\n",
            "failed to send request,  Nytos   闪电麦坤\n",
            "failed to send request,  艾登   迪克曼警官\n",
            "failed to send request,  Wendy   厄文\n",
            "failed to send request,  Margaret   伊比\n",
            "failed to send request,  Maya   卡斯特罗\n",
            "failed to send request,  Lee Know   察克\n",
            "failed to send request,  A Supercomputer   Sebastian\n",
            "failed to send request,  凯瑟琳   James\n",
            "failed to send request,  Ghost   文森特\n",
            "Error processing entry: movie_424_movie_802_1\n",
            "failed to send request,  Marie   胡桃鉗\n",
            "failed to send request,  艾登   迪克曼警官\n",
            "failed to send request,  Nytos   闪电麦坤\n",
            "failed to send request,  邦奇   Surly\n",
            "failed to send request,  胡迪   Milo\n",
            "failed to send request,  Wendy   厄文\n",
            "Error processing entry: movie_426_PIPPA_648_1\n",
            "failed to send request,  Maya   卡斯特罗\n",
            "Error processing entry: movie_430_PIPPA_494_1\n",
            "failed to send request,  Imp Midna   Nineteen\n",
            "failed to send request,  Samantha   Robbie\n",
            "failed to send request,  Margaret   伊比\n",
            "failed to send request,  A Supercomputer   Sebastian\n",
            "failed to send request,  凯瑟琳   James\n",
            "failed to send request,  Marie   胡桃鉗\n",
            "Error processing entry: movie_440_PIPPA_858_1\n",
            "failed to send request,  艾登   迪克曼警官\n",
            "Error processing entry: movie_447_movie_62_1\n",
            "failed to send request,  Nytos   闪电麦坤\n",
            "Error processing entry: movie_438_PIPPA_81_1\n",
            "failed to send request,  邦奇   Surly\n",
            "failed to send request,  Meow Skulls   Detective\n",
            "failed to send request,  胡迪   Milo\n",
            "failed to send request,  Cory   Jack\n",
            "failed to send request,  Ninomae Inanis   文森特\n",
            "failed to send request,  哈利   Kim\n",
            "Error processing entry: 'choices'\n"
          ]
        },
        {
          "output_type": "stream",
          "name": "stderr",
          "text": [
            "Processing items:  59%|█████▉    | 102/173 [03:09<01:11,  1.00s/it]"
          ]
        },
        {
          "output_type": "stream",
          "name": "stdout",
          "text": [
            "failed to send request,  Imp Midna   Nineteen\n",
            "failed to send request,  A Supercomputer   Sebastian\n",
            "Error processing entry: movie_507_PIPPA_986_1\n",
            "failed to send request,  Samantha   Robbie\n",
            "failed to send request,  凯瑟琳   James\n",
            "Error processing entry: movie_518_movie_119_1\n",
            "failed to send request,  Tomboy   Edward\n",
            "failed to send request,  Mitch   Neco Arc\n"
          ]
        },
        {
          "output_type": "stream",
          "name": "stderr",
          "text": [
            "Processing items:  62%|██████▏   | 108/173 [03:17<01:14,  1.15s/it]"
          ]
        },
        {
          "output_type": "stream",
          "name": "stdout",
          "text": [
            "failed to send request,  戴安娜   Bless\n",
            "failed to send request,  邦奇   Surly\n",
            "Error processing entry: movie_519_movie_334_1\n",
            "failed to send request,  吉米   Nina\n",
            "failed to send request,  胡迪   Milo\n",
            "Error processing entry: movie_523_movie_40_1\n",
            "failed to send request,  哈利   Kim\n",
            "failed to send request,  Ninomae Inanis   文森特\n",
            "failed to send request,  Cory   Jack\n",
            "failed to send request,  哈利   Chris\n"
          ]
        },
        {
          "output_type": "stream",
          "name": "stderr",
          "text": [
            "Processing items:  64%|██████▍   | 111/173 [03:20<01:05,  1.05s/it]"
          ]
        },
        {
          "output_type": "stream",
          "name": "stdout",
          "text": [
            "failed to send request,  Tomboy   Edward\n",
            "failed to send request,  Mitch   Neco Arc\n",
            "failed to send request,  TMP   John\n",
            "failed to send request,  哈利   Kim\n",
            "Error processing entry: movie_546_movie_222_1\n",
            "failed to send request,  Ninomae Inanis   文森特\n",
            "Error processing entry: movie_542_PIPPA_772_1\n",
            "failed to send request,  Cory   Jack\n",
            "Error processing entry: movie_541_movie_469_1\n",
            "failed to send request,  珍妮尔   简\n",
            "failed to send request,  Ethan   Grim\n",
            "failed to send request,  吉米   Nina\n",
            "failed to send request,  Tomboy   Edward\n",
            "Error processing entry: movie_551_PIPPA_63_1\n",
            "failed to send request,  Lawrence   mihael keehl\n",
            "failed to send request,  哈利   Chris\n",
            "failed to send request,  TMP   John\n",
            "failed to send request,  Shishiro Botan   Jamil\n",
            "failed to send request,  Mitch   Neco Arc\n",
            "Error processing entry: movie_550_PIPPA_706_1\n",
            "failed to send request,  Lawrence   mihael keehl\n",
            "failed to send request,  Starlight Glimmer   Robert\n",
            "failed to send request,  古斯塔夫·H   Jack\n",
            "failed to send request,  Shishiro Botan   Jamil\n",
            "failed to send request,  Lawrence   mihael keehl\n",
            "Error processing entry: movie_583_PIPPA_955_1\n"
          ]
        },
        {
          "output_type": "stream",
          "name": "stderr",
          "text": [
            "--- Logging error ---\n",
            "Traceback (most recent call last):\n",
            "  File \"/usr/local/lib/python3.10/dist-packages/urllib3/connectionpool.py\", line 468, in _make_request\n",
            "    self._validate_conn(conn)\n",
            "  File \"/usr/local/lib/python3.10/dist-packages/urllib3/connectionpool.py\", line 1097, in _validate_conn\n",
            "    conn.connect()\n",
            "  File \"/usr/local/lib/python3.10/dist-packages/urllib3/connection.py\", line 642, in connect\n",
            "    sock_and_verified = _ssl_wrap_socket_and_match_hostname(\n",
            "  File \"/usr/local/lib/python3.10/dist-packages/urllib3/connection.py\", line 783, in _ssl_wrap_socket_and_match_hostname\n",
            "    ssl_sock = ssl_wrap_socket(\n",
            "  File \"/usr/local/lib/python3.10/dist-packages/urllib3/util/ssl_.py\", line 471, in ssl_wrap_socket\n",
            "    ssl_sock = _ssl_wrap_socket_impl(sock, context, tls_in_tls, server_hostname)\n",
            "  File \"/usr/local/lib/python3.10/dist-packages/urllib3/util/ssl_.py\", line 515, in _ssl_wrap_socket_impl\n",
            "    return ssl_context.wrap_socket(sock, server_hostname=server_hostname)\n",
            "  File \"/usr/lib/python3.10/ssl.py\", line 513, in wrap_socket\n",
            "    return self.sslsocket_class._create(\n",
            "  File \"/usr/lib/python3.10/ssl.py\", line 1100, in _create\n",
            "    self.do_handshake()\n",
            "  File \"/usr/lib/python3.10/ssl.py\", line 1371, in do_handshake\n",
            "    self._sslobj.do_handshake()\n",
            "ssl.SSLEOFError: [SSL: UNEXPECTED_EOF_WHILE_READING] EOF occurred in violation of protocol (_ssl.c:1007)\n",
            "\n",
            "During handling of the above exception, another exception occurred:\n",
            "\n",
            "Traceback (most recent call last):\n",
            "  File \"/usr/local/lib/python3.10/dist-packages/urllib3/connectionpool.py\", line 791, in urlopen\n",
            "    response = self._make_request(\n",
            "  File \"/usr/local/lib/python3.10/dist-packages/urllib3/connectionpool.py\", line 492, in _make_request\n",
            "    raise new_e\n",
            "urllib3.exceptions.SSLError: [SSL: UNEXPECTED_EOF_WHILE_READING] EOF occurred in violation of protocol (_ssl.c:1007)\n",
            "\n",
            "The above exception was the direct cause of the following exception:\n",
            "\n",
            "Traceback (most recent call last):\n",
            "  File \"/usr/local/lib/python3.10/dist-packages/requests/adapters.py\", line 486, in send\n",
            "    resp = conn.urlopen(\n",
            "  File \"/usr/local/lib/python3.10/dist-packages/urllib3/connectionpool.py\", line 845, in urlopen\n",
            "    retries = retries.increment(\n",
            "  File \"/usr/local/lib/python3.10/dist-packages/urllib3/util/retry.py\", line 515, in increment\n",
            "    raise MaxRetryError(_pool, url, reason) from reason  # type: ignore[arg-type]\n",
            "urllib3.exceptions.MaxRetryError: HTTPSConnectionPool(host='open.bigmodel.cn', port=443): Max retries exceeded with url: /api/paas/v3/model-api/-/async-invoke/10616905317062558284002491011520596 (Caused by SSLError(SSLEOFError(8, '[SSL: UNEXPECTED_EOF_WHILE_READING] EOF occurred in violation of protocol (_ssl.c:1007)')))\n",
            "\n",
            "During handling of the above exception, another exception occurred:\n",
            "\n",
            "Traceback (most recent call last):\n",
            "  File \"/usr/local/lib/python3.10/dist-packages/zhipuai/utils/http_client.py\", line 45, in get\n",
            "    resp = requests.get(api_url, headers=headers, timeout=timeout)\n",
            "  File \"/usr/local/lib/python3.10/dist-packages/requests/api.py\", line 73, in get\n",
            "    return request(\"get\", url, params=params, **kwargs)\n",
            "  File \"/usr/local/lib/python3.10/dist-packages/requests/api.py\", line 59, in request\n",
            "    return session.request(method=method, url=url, **kwargs)\n",
            "  File \"/usr/local/lib/python3.10/dist-packages/requests/sessions.py\", line 589, in request\n",
            "    resp = self.send(prep, **send_kwargs)\n",
            "  File \"/usr/local/lib/python3.10/dist-packages/requests/sessions.py\", line 703, in send\n",
            "    r = adapter.send(request, **kwargs)\n",
            "  File \"/usr/local/lib/python3.10/dist-packages/requests/adapters.py\", line 517, in send\n",
            "    raise SSLError(e, request=request)\n",
            "requests.exceptions.SSLError: HTTPSConnectionPool(host='open.bigmodel.cn', port=443): Max retries exceeded with url: /api/paas/v3/model-api/-/async-invoke/10616905317062558284002491011520596 (Caused by SSLError(SSLEOFError(8, '[SSL: UNEXPECTED_EOF_WHILE_READING] EOF occurred in violation of protocol (_ssl.c:1007)')))\n",
            "\n",
            "During handling of the above exception, another exception occurred:\n",
            "\n",
            "Traceback (most recent call last):\n",
            "  File \"/usr/lib/python3.10/logging/__init__.py\", line 1100, in emit\n",
            "    msg = self.format(record)\n",
            "  File \"/usr/lib/python3.10/logging/__init__.py\", line 943, in format\n",
            "    return fmt.format(record)\n",
            "  File \"/usr/lib/python3.10/logging/__init__.py\", line 678, in format\n",
            "    record.message = record.getMessage()\n",
            "  File \"/usr/lib/python3.10/logging/__init__.py\", line 368, in getMessage\n",
            "    msg = msg % self.args\n",
            "TypeError: not all arguments converted during string formatting\n",
            "Call stack:\n",
            "  File \"/usr/lib/python3.10/threading.py\", line 973, in _bootstrap\n",
            "    self._bootstrap_inner()\n",
            "  File \"/usr/lib/python3.10/threading.py\", line 1016, in _bootstrap_inner\n",
            "    self.run()\n",
            "  File \"/usr/lib/python3.10/threading.py\", line 953, in run\n",
            "    self._target(*self._args, **self._kwargs)\n",
            "  File \"/usr/lib/python3.10/concurrent/futures/thread.py\", line 83, in _worker\n",
            "    work_item.run()\n",
            "  File \"/usr/lib/python3.10/concurrent/futures/thread.py\", line 58, in run\n",
            "    result = self.fn(*self.args, **self.kwargs)\n",
            "  File \"/usr/local/lib/python3.10/dist-packages/zhipuai/model_api/api.py\", line 30, in query_async_invoke_result\n",
            "    return get(url, cls._generate_token(), zhipuai.api_timeout_seconds)\n",
            "  File \"/usr/local/lib/python3.10/dist-packages/zhipuai/utils/http_client.py\", line 50, in get\n",
            "    logging.exception(\"请求异常\", e)\n",
            "Message: '请求异常'\n",
            "Arguments: (SSLError(MaxRetryError(\"HTTPSConnectionPool(host='open.bigmodel.cn', port=443): Max retries exceeded with url: /api/paas/v3/model-api/-/async-invoke/10616905317062558284002491011520596 (Caused by SSLError(SSLEOFError(8, '[SSL: UNEXPECTED_EOF_WHILE_READING] EOF occurred in violation of protocol (_ssl.c:1007)')))\")),)\n"
          ]
        },
        {
          "output_type": "stream",
          "name": "stdout",
          "text": [
            "Error processing entry: argument of type 'NoneType' is not iterable\n"
          ]
        },
        {
          "output_type": "stream",
          "name": "stderr",
          "text": [
            "\rProcessing items:  65%|██████▍   | 112/173 [04:11<16:11, 15.92s/it]"
          ]
        },
        {
          "output_type": "stream",
          "name": "stdout",
          "text": [
            "failed to send request,  Ozias Valentine   Alvin\n",
            "failed to send request,  Starlight Glimmer   Robert\n",
            "failed to send request,  Hannah and Sliyia   桑伯恩\n",
            "failed to send request,  Jin   席拉\n",
            "failed to send request,  Roxanne   David\n",
            "failed to send request,  Minthos   Liv\n",
            "failed to send request,  Gosalyn   Rebecca\n",
            "failed to send request,  古斯塔夫·H   Jack\n",
            "failed to send request,  Shishiro Botan   Jamil\n",
            "Error processing entry: movie_592_PIPPA_1051_1\n",
            "failed to send request,  Rayne   Marta\n",
            "failed to send request,  Starlight Glimmer   Robert\n",
            "Error processing entry: movie_591_PIPPA_1269_1\n",
            "failed to send request,  Llexia   Daisy\n",
            "failed to send request,  Ozias Valentine   Alvin\n",
            "failed to send request,  Hannah and Sliyia   桑伯恩\n",
            "failed to send request,  Bot Convy   碇\n",
            "failed to send request,  Jin   席拉\n",
            "failed to send request,  Cal   R.P.\n",
            "failed to send request,  Esoteric Ogeyism   Tamara\n",
            "failed to send request,  PPSh-41   Mason\n",
            "failed to send request,  古斯塔夫·H   Jack\n",
            "Error processing entry: movie_600_movie_246_1\n",
            "failed to send request,  Minthos   Liv\n",
            "failed to send request,  Llexia   Daisy\n",
            "failed to send request,  Roxanne   David\n",
            "failed to send request,  Ozias Valentine   Alvin\n",
            "Error processing entry: movie_601_PIPPA_597_1\n",
            "failed to send request,  Bot Convy   碇\n",
            "failed to send request,  Esoteric Ogeyism   Tamara\n",
            "failed to send request,  PPSh-41   Mason\n",
            "failed to send request,  Rayne   Marta\n",
            "failed to send request,  VSK-94   Happy\n",
            "failed to send request,  Jin   席拉\n",
            "Error processing entry: movie_630_movie_650_1\n",
            "failed to send request,  Minthos   Liv\n",
            "Error processing entry: movie_631_PIPPA_910_1\n",
            "failed to send request,  Ava   约翰·纳什\n",
            "failed to send request,  Mr   Quinn\n",
            "failed to send request,  Llexia   Daisy\n",
            "Error processing entry: movie_645_PIPPA_1253_1\n",
            "failed to send request,  Galatea-X   R.P.麦克墨菲\n",
            "failed to send request,  Roxanne   David\n",
            "Error processing entry: movie_621_PIPPA_227_1\n",
            "failed to send request,  Hannah and Sliyia   桑伯恩\n",
            "Error processing entry: movie_610_PIPPA_850_1\n",
            "failed to send request,  Rayne   Marta\n",
            "Error processing entry: movie_642_PIPPA_525_1\n",
            "failed to send request,  Esoteric Ogeyism   Tamara\n",
            "Error processing entry: movie_638_PIPPA_857_1\n",
            "failed to send request,  PPSh-41   Mason\n",
            "Error processing entry: movie_654_PIPPA_487_1\n",
            "failed to send request,  大卫   Sam\n",
            "failed to send request,  斯内德   R.P.麦克墨菲\n",
            "failed to send request,  VSK-94   Happy\n",
            "failed to send request,  Ava   约翰·纳什\n",
            "failed to send request,  Mr   Quinn\n",
            "failed to send request,  Sean   Raiden Mei\n",
            "failed to send request,  Shima Luan   Lisa\n",
            "failed to send request,  Glaceon maid   哈利•波特\n",
            "failed to send request,  Captain   Thomas\n",
            "failed to send request,  Galatea-X   R.P.麦克墨菲\n",
            "failed to send request,  Queen Ayame   LOLA\n",
            "failed to send request,  Bot Convy   碇\n",
            "Error processing entry: movie_646_PIPPA_1129_1\n",
            "failed to send request,  犀利哥   Mary\n",
            "failed to send request,  Megan   Danny\n",
            "failed to send request,  大卫   Sam\n",
            "failed to send request,  斯内德   R.P.麦克墨菲\n",
            "failed to send request,  VSK-94   Happy\n",
            "Error processing entry: movie_656_PIPPA_386_1\n",
            "failed to send request,  Ava   约翰·纳什\n",
            "Error processing entry: movie_661_movie_624_1\n",
            "failed to send request,  Sean   Raiden Mei\n",
            "failed to send request,  Mr   Quinn\n",
            "Error processing entry: movie_658_movie_596_1\n",
            "failed to send request,  Shima Luan   Lisa\n",
            "failed to send request,  Glaceon maid   哈利•波特\n",
            "failed to send request,  Captain   Thomas\n",
            "failed to send request,  Galatea-X   R.P.麦克墨菲\n",
            "Error processing entry: movie_664_PIPPA_816_1\n",
            "failed to send request,  Queen Ayame   LOLA\n",
            "failed to send request,  詹姆斯   Winter\n",
            "failed to send request,  Megan   Danny\n",
            "failed to send request,  犀利哥   Mary\n",
            "failed to send request,  大卫   Sam\n",
            "Error processing entry: movie_668_movie_215_1\n",
            "failed to send request,  斯内德   R.P.麦克墨菲\n",
            "Error processing entry: movie_675_movie_139_1\n",
            "failed to send request,  Blood   布鲁斯·韦恩\n",
            "failed to send request,  拉瑞·克劳   Black Nyto\n",
            "failed to send request,  Sean   Raiden Mei\n",
            "Error processing entry: movie_676_PIPPA_1181_1\n",
            "failed to send request,  Shima Luan   Lisa\n",
            "Error processing entry: movie_677_PIPPA_217_1\n",
            "failed to send request,  Mikhail   Miss Lopez\n",
            "failed to send request,  Glaceon maid   哈利•波特\n",
            "Error processing entry: movie_680_PIPPA_360_1\n",
            "failed to send request,  Captain   Thomas\n",
            "Error processing entry: movie_679_PIPPA_1028_1\n",
            "failed to send request,  Queen Ayame   LOLA\n",
            "Error processing entry: movie_683_PIPPA_218_1\n",
            "failed to send request,  犀利哥   Mary\n",
            "Error processing entry: movie_687_movie_165_1\n",
            "failed to send request,  SCR   山姆\n",
            "failed to send request,  詹姆斯   Winter\n",
            "failed to send request,  諾亞·迪亞茲   Scat\n",
            "failed to send request,  维达   Magne\n",
            "failed to send request,  拉瑞·克劳   Black Nyto\n",
            "failed to send request,  Blood   布鲁斯·韦恩\n",
            "failed to send request,  Megan   Danny\n",
            "Error processing entry: movie_684_movie_619_1\n",
            "failed to send request,  Mikhail   Miss Lopez\n",
            "failed to send request,  詹姆斯   Winter\n",
            "Error processing entry: movie_690_movie_198_1\n",
            "failed to send request,  SCR   山姆\n",
            "failed to send request,  諾亞·迪亞茲   Scat\n",
            "failed to send request,  维达   Magne\n",
            "failed to send request,  拉瑞·克劳   Black Nyto\n",
            "Error processing entry: movie_701_PIPPA_508_1\n",
            "failed to send request,  Blood   布鲁斯·韦恩\n",
            "Error processing entry: movie_694_PIPPA_554_1\n",
            "failed to send request,  SCR   山姆\n",
            "Error processing entry: movie_705_PIPPA_1233_1\n",
            "failed to send request,  维达   Magne\n",
            "Error processing entry: movie_714_movie_121_1\n",
            "failed to send request,  Mikhail   Miss Lopez\n",
            "Error processing entry: movie_696_PIPPA_429_1\n",
            "failed to send request,  諾亞·迪亞茲   Scat\n",
            "Error processing entry: movie_704_movie_167_1\n",
            "Error processing entry: 'choices'\n"
          ]
        },
        {
          "output_type": "stream",
          "name": "stderr",
          "text": [
            "Processing items: 100%|██████████| 173/173 [06:54<00:00,  2.40s/it]\n",
            "Processing items:   0%|          | 0/600 [00:00<?, ?it/s]"
          ]
        },
        {
          "output_type": "stream",
          "name": "stdout",
          "text": [
            "failed to send request,  希德   Lawrence\n",
            "failed to send request,  Jenke   NSFW_CEO\n"
          ]
        },
        {
          "output_type": "stream",
          "name": "stderr",
          "text": [
            "Processing items:   0%|          | 3/600 [00:16<49:17,  4.95s/it]  "
          ]
        },
        {
          "output_type": "stream",
          "name": "stdout",
          "text": [
            "failed to send request,  葛芮丝   Jamil\n"
          ]
        },
        {
          "output_type": "stream",
          "name": "stderr",
          "text": [
            "Processing items:   1%|          | 7/600 [00:23<20:49,  2.11s/it]--- Logging error ---\n",
            "Traceback (most recent call last):\n",
            "  File \"/usr/local/lib/python3.10/dist-packages/urllib3/connectionpool.py\", line 791, in urlopen\n",
            "    response = self._make_request(\n",
            "  File \"/usr/local/lib/python3.10/dist-packages/urllib3/connectionpool.py\", line 537, in _make_request\n",
            "    response = conn.getresponse()\n",
            "  File \"/usr/local/lib/python3.10/dist-packages/urllib3/connection.py\", line 461, in getresponse\n",
            "    httplib_response = super().getresponse()\n",
            "  File \"/usr/lib/python3.10/http/client.py\", line 1375, in getresponse\n",
            "    response.begin()\n",
            "  File \"/usr/lib/python3.10/http/client.py\", line 318, in begin\n",
            "    version, status, reason = self._read_status()\n",
            "  File \"/usr/lib/python3.10/http/client.py\", line 287, in _read_status\n",
            "    raise RemoteDisconnected(\"Remote end closed connection without\"\n",
            "http.client.RemoteDisconnected: Remote end closed connection without response\n",
            "\n",
            "During handling of the above exception, another exception occurred:\n",
            "\n",
            "Traceback (most recent call last):\n",
            "  File \"/usr/local/lib/python3.10/dist-packages/requests/adapters.py\", line 486, in send\n",
            "    resp = conn.urlopen(\n",
            "  File \"/usr/local/lib/python3.10/dist-packages/urllib3/connectionpool.py\", line 845, in urlopen\n",
            "    retries = retries.increment(\n",
            "  File \"/usr/local/lib/python3.10/dist-packages/urllib3/util/retry.py\", line 470, in increment\n",
            "    raise reraise(type(error), error, _stacktrace)\n",
            "  File \"/usr/local/lib/python3.10/dist-packages/urllib3/util/util.py\", line 38, in reraise\n",
            "    raise value.with_traceback(tb)\n",
            "  File \"/usr/local/lib/python3.10/dist-packages/urllib3/connectionpool.py\", line 791, in urlopen\n",
            "    response = self._make_request(\n",
            "  File \"/usr/local/lib/python3.10/dist-packages/urllib3/connectionpool.py\", line 537, in _make_request\n",
            "    response = conn.getresponse()\n",
            "  File \"/usr/local/lib/python3.10/dist-packages/urllib3/connection.py\", line 461, in getresponse\n",
            "    httplib_response = super().getresponse()\n",
            "  File \"/usr/lib/python3.10/http/client.py\", line 1375, in getresponse\n",
            "    response.begin()\n",
            "  File \"/usr/lib/python3.10/http/client.py\", line 318, in begin\n",
            "    version, status, reason = self._read_status()\n",
            "  File \"/usr/lib/python3.10/http/client.py\", line 287, in _read_status\n",
            "    raise RemoteDisconnected(\"Remote end closed connection without\"\n",
            "urllib3.exceptions.ProtocolError: ('Connection aborted.', RemoteDisconnected('Remote end closed connection without response'))\n",
            "\n",
            "During handling of the above exception, another exception occurred:\n",
            "\n",
            "Traceback (most recent call last):\n",
            "  File \"/usr/local/lib/python3.10/dist-packages/zhipuai/utils/http_client.py\", line 45, in get\n",
            "    resp = requests.get(api_url, headers=headers, timeout=timeout)\n",
            "  File \"/usr/local/lib/python3.10/dist-packages/requests/api.py\", line 73, in get\n",
            "    return request(\"get\", url, params=params, **kwargs)\n",
            "  File \"/usr/local/lib/python3.10/dist-packages/requests/api.py\", line 59, in request\n",
            "    return session.request(method=method, url=url, **kwargs)\n",
            "  File \"/usr/local/lib/python3.10/dist-packages/requests/sessions.py\", line 589, in request\n",
            "    resp = self.send(prep, **send_kwargs)\n",
            "  File \"/usr/local/lib/python3.10/dist-packages/requests/sessions.py\", line 703, in send\n",
            "    r = adapter.send(request, **kwargs)\n",
            "  File \"/usr/local/lib/python3.10/dist-packages/requests/adapters.py\", line 501, in send\n",
            "    raise ConnectionError(err, request=request)\n",
            "requests.exceptions.ConnectionError: ('Connection aborted.', RemoteDisconnected('Remote end closed connection without response'))\n",
            "\n",
            "During handling of the above exception, another exception occurred:\n",
            "\n",
            "Traceback (most recent call last):\n",
            "  File \"/usr/lib/python3.10/logging/__init__.py\", line 1100, in emit\n",
            "    msg = self.format(record)\n",
            "  File \"/usr/lib/python3.10/logging/__init__.py\", line 943, in format\n",
            "    return fmt.format(record)\n",
            "  File \"/usr/lib/python3.10/logging/__init__.py\", line 678, in format\n",
            "    record.message = record.getMessage()\n",
            "  File \"/usr/lib/python3.10/logging/__init__.py\", line 368, in getMessage\n",
            "    msg = msg % self.args\n",
            "TypeError: not all arguments converted during string formatting\n",
            "Call stack:\n",
            "  File \"/usr/lib/python3.10/threading.py\", line 973, in _bootstrap\n",
            "    self._bootstrap_inner()\n",
            "  File \"/usr/lib/python3.10/threading.py\", line 1016, in _bootstrap_inner\n",
            "    self.run()\n",
            "  File \"/usr/lib/python3.10/threading.py\", line 953, in run\n",
            "    self._target(*self._args, **self._kwargs)\n",
            "  File \"/usr/lib/python3.10/concurrent/futures/thread.py\", line 83, in _worker\n",
            "    work_item.run()\n",
            "  File \"/usr/lib/python3.10/concurrent/futures/thread.py\", line 58, in run\n",
            "    result = self.fn(*self.args, **self.kwargs)\n",
            "  File \"/usr/local/lib/python3.10/dist-packages/zhipuai/model_api/api.py\", line 30, in query_async_invoke_result\n",
            "    return get(url, cls._generate_token(), zhipuai.api_timeout_seconds)\n",
            "  File \"/usr/local/lib/python3.10/dist-packages/zhipuai/utils/http_client.py\", line 50, in get\n",
            "    logging.exception(\"请求异常\", e)\n",
            "Message: '请求异常'\n",
            "Arguments: (ConnectionError(ProtocolError('Connection aborted.', RemoteDisconnected('Remote end closed connection without response'))),)\n"
          ]
        },
        {
          "output_type": "stream",
          "name": "stdout",
          "text": [
            "Error processing entry: argument of type 'NoneType' is not iterable\n"
          ]
        },
        {
          "output_type": "stream",
          "name": "stderr",
          "text": [
            "Processing items:   3%|▎         | 17/600 [01:17<25:54,  2.67s/it]"
          ]
        },
        {
          "output_type": "stream",
          "name": "stdout",
          "text": [
            "failed to send request,  明日香   Celestia Ludenberg\n",
            "failed to send request,  布鲁斯   White Nyto GnK\n",
            "failed to send request,  格鲁   Yukari Yakumo\n"
          ]
        },
        {
          "output_type": "stream",
          "name": "stderr",
          "text": [
            "--- Logging error ---\n",
            "Traceback (most recent call last):\n",
            "  File \"/usr/local/lib/python3.10/dist-packages/urllib3/connectionpool.py\", line 791, in urlopen\n",
            "    response = self._make_request(\n",
            "  File \"/usr/local/lib/python3.10/dist-packages/urllib3/connectionpool.py\", line 537, in _make_request\n",
            "    response = conn.getresponse()\n",
            "  File \"/usr/local/lib/python3.10/dist-packages/urllib3/connection.py\", line 461, in getresponse\n",
            "    httplib_response = super().getresponse()\n",
            "  File \"/usr/lib/python3.10/http/client.py\", line 1375, in getresponse\n",
            "    response.begin()\n",
            "  File \"/usr/lib/python3.10/http/client.py\", line 318, in begin\n",
            "    version, status, reason = self._read_status()\n",
            "  File \"/usr/lib/python3.10/http/client.py\", line 287, in _read_status\n",
            "    raise RemoteDisconnected(\"Remote end closed connection without\"\n",
            "http.client.RemoteDisconnected: Remote end closed connection without response\n",
            "\n",
            "During handling of the above exception, another exception occurred:\n",
            "\n",
            "Traceback (most recent call last):\n",
            "  File \"/usr/local/lib/python3.10/dist-packages/requests/adapters.py\", line 486, in send\n",
            "    resp = conn.urlopen(\n",
            "  File \"/usr/local/lib/python3.10/dist-packages/urllib3/connectionpool.py\", line 845, in urlopen\n",
            "    retries = retries.increment(\n",
            "  File \"/usr/local/lib/python3.10/dist-packages/urllib3/util/retry.py\", line 470, in increment\n",
            "    raise reraise(type(error), error, _stacktrace)\n",
            "  File \"/usr/local/lib/python3.10/dist-packages/urllib3/util/util.py\", line 38, in reraise\n",
            "    raise value.with_traceback(tb)\n",
            "  File \"/usr/local/lib/python3.10/dist-packages/urllib3/connectionpool.py\", line 791, in urlopen\n",
            "    response = self._make_request(\n",
            "  File \"/usr/local/lib/python3.10/dist-packages/urllib3/connectionpool.py\", line 537, in _make_request\n",
            "    response = conn.getresponse()\n",
            "  File \"/usr/local/lib/python3.10/dist-packages/urllib3/connection.py\", line 461, in getresponse\n",
            "    httplib_response = super().getresponse()\n",
            "  File \"/usr/lib/python3.10/http/client.py\", line 1375, in getresponse\n",
            "    response.begin()\n",
            "  File \"/usr/lib/python3.10/http/client.py\", line 318, in begin\n",
            "    version, status, reason = self._read_status()\n",
            "  File \"/usr/lib/python3.10/http/client.py\", line 287, in _read_status\n",
            "    raise RemoteDisconnected(\"Remote end closed connection without\"\n",
            "urllib3.exceptions.ProtocolError: ('Connection aborted.', RemoteDisconnected('Remote end closed connection without response'))\n",
            "\n",
            "During handling of the above exception, another exception occurred:\n",
            "\n",
            "Traceback (most recent call last):\n",
            "  File \"/usr/local/lib/python3.10/dist-packages/zhipuai/utils/http_client.py\", line 16, in post\n",
            "    resp = requests.post(\n",
            "  File \"/usr/local/lib/python3.10/dist-packages/requests/api.py\", line 115, in post\n",
            "    return request(\"post\", url, data=data, json=json, **kwargs)\n",
            "  File \"/usr/local/lib/python3.10/dist-packages/requests/api.py\", line 59, in request\n",
            "    return session.request(method=method, url=url, **kwargs)\n",
            "  File \"/usr/local/lib/python3.10/dist-packages/requests/sessions.py\", line 589, in request\n",
            "    resp = self.send(prep, **send_kwargs)\n",
            "  File \"/usr/local/lib/python3.10/dist-packages/requests/sessions.py\", line 703, in send\n",
            "    r = adapter.send(request, **kwargs)\n",
            "  File \"/usr/local/lib/python3.10/dist-packages/requests/adapters.py\", line 501, in send\n",
            "    raise ConnectionError(err, request=request)\n",
            "requests.exceptions.ConnectionError: ('Connection aborted.', RemoteDisconnected('Remote end closed connection without response'))\n",
            "\n",
            "During handling of the above exception, another exception occurred:\n",
            "\n",
            "Traceback (most recent call last):\n",
            "  File \"/usr/lib/python3.10/logging/__init__.py\", line 1100, in emit\n",
            "    msg = self.format(record)\n",
            "  File \"/usr/lib/python3.10/logging/__init__.py\", line 943, in format\n",
            "    return fmt.format(record)\n",
            "  File \"/usr/lib/python3.10/logging/__init__.py\", line 678, in format\n",
            "    record.message = record.getMessage()\n",
            "  File \"/usr/lib/python3.10/logging/__init__.py\", line 368, in getMessage\n",
            "    msg = msg % self.args\n",
            "TypeError: not all arguments converted during string formatting\n",
            "Call stack:\n",
            "  File \"/usr/lib/python3.10/threading.py\", line 973, in _bootstrap\n",
            "    self._bootstrap_inner()\n",
            "  File \"/usr/lib/python3.10/threading.py\", line 1016, in _bootstrap_inner\n",
            "    self.run()\n",
            "  File \"/usr/lib/python3.10/threading.py\", line 953, in run\n",
            "    self._target(*self._args, **self._kwargs)\n",
            "  File \"/usr/lib/python3.10/concurrent/futures/thread.py\", line 83, in _worker\n",
            "    work_item.run()\n",
            "  File \"/usr/lib/python3.10/concurrent/futures/thread.py\", line 58, in run\n",
            "    result = self.fn(*self.args, **self.kwargs)\n",
            "  File \"/usr/local/lib/python3.10/dist-packages/zhipuai/model_api/api.py\", line 25, in async_invoke\n",
            "    return post(url, cls._generate_token(), kwargs, zhipuai.api_timeout_seconds)\n",
            "  File \"/usr/local/lib/python3.10/dist-packages/zhipuai/utils/http_client.py\", line 23, in post\n",
            "    logging.exception(\"请求异常\", e)\n",
            "Message: '请求异常'\n",
            "Arguments: (ConnectionError(ProtocolError('Connection aborted.', RemoteDisconnected('Remote end closed connection without response'))),)\n"
          ]
        },
        {
          "output_type": "stream",
          "name": "stdout",
          "text": [
            "failed to send request,  尤尼   David Martinez\n",
            "failed to send request,  碇真嗣   Mimi\n",
            "failed to send request,  嘉玉杰   Dark Dragon\n",
            "failed to send request,  碇真嗣   Mimi\n",
            "failed to send request,  阿维诺姆   Mikoto\n",
            "failed to send request,  麦克   女巫\n",
            "failed to send request,  大雄   Amina\n"
          ]
        },
        {
          "output_type": "stream",
          "name": "stderr",
          "text": [
            "--- Logging error ---\n",
            "Traceback (most recent call last):\n",
            "  File \"/usr/local/lib/python3.10/dist-packages/urllib3/connectionpool.py\", line 791, in urlopen\n",
            "    response = self._make_request(\n",
            "  File \"/usr/local/lib/python3.10/dist-packages/urllib3/connectionpool.py\", line 537, in _make_request\n",
            "    response = conn.getresponse()\n",
            "  File \"/usr/local/lib/python3.10/dist-packages/urllib3/connection.py\", line 461, in getresponse\n",
            "    httplib_response = super().getresponse()\n",
            "  File \"/usr/lib/python3.10/http/client.py\", line 1375, in getresponse\n",
            "    response.begin()\n",
            "  File \"/usr/lib/python3.10/http/client.py\", line 318, in begin\n",
            "    version, status, reason = self._read_status()\n",
            "  File \"/usr/lib/python3.10/http/client.py\", line 287, in _read_status\n",
            "    raise RemoteDisconnected(\"Remote end closed connection without\"\n",
            "http.client.RemoteDisconnected: Remote end closed connection without response\n",
            "\n",
            "During handling of the above exception, another exception occurred:\n",
            "\n",
            "Traceback (most recent call last):\n",
            "  File \"/usr/local/lib/python3.10/dist-packages/requests/adapters.py\", line 486, in send\n",
            "    resp = conn.urlopen(\n",
            "  File \"/usr/local/lib/python3.10/dist-packages/urllib3/connectionpool.py\", line 845, in urlopen\n",
            "    retries = retries.increment(\n",
            "  File \"/usr/local/lib/python3.10/dist-packages/urllib3/util/retry.py\", line 470, in increment\n",
            "    raise reraise(type(error), error, _stacktrace)\n",
            "  File \"/usr/local/lib/python3.10/dist-packages/urllib3/util/util.py\", line 38, in reraise\n",
            "    raise value.with_traceback(tb)\n",
            "  File \"/usr/local/lib/python3.10/dist-packages/urllib3/connectionpool.py\", line 791, in urlopen\n",
            "    response = self._make_request(\n",
            "  File \"/usr/local/lib/python3.10/dist-packages/urllib3/connectionpool.py\", line 537, in _make_request\n",
            "    response = conn.getresponse()\n",
            "  File \"/usr/local/lib/python3.10/dist-packages/urllib3/connection.py\", line 461, in getresponse\n",
            "    httplib_response = super().getresponse()\n",
            "  File \"/usr/lib/python3.10/http/client.py\", line 1375, in getresponse\n",
            "    response.begin()\n",
            "  File \"/usr/lib/python3.10/http/client.py\", line 318, in begin\n",
            "    version, status, reason = self._read_status()\n",
            "  File \"/usr/lib/python3.10/http/client.py\", line 287, in _read_status\n",
            "    raise RemoteDisconnected(\"Remote end closed connection without\"\n",
            "urllib3.exceptions.ProtocolError: ('Connection aborted.', RemoteDisconnected('Remote end closed connection without response'))\n",
            "\n",
            "During handling of the above exception, another exception occurred:\n",
            "\n",
            "Traceback (most recent call last):\n",
            "  File \"/usr/local/lib/python3.10/dist-packages/zhipuai/utils/http_client.py\", line 16, in post\n",
            "    resp = requests.post(\n",
            "  File \"/usr/local/lib/python3.10/dist-packages/requests/api.py\", line 115, in post\n",
            "    return request(\"post\", url, data=data, json=json, **kwargs)\n",
            "  File \"/usr/local/lib/python3.10/dist-packages/requests/api.py\", line 59, in request\n",
            "    return session.request(method=method, url=url, **kwargs)\n",
            "  File \"/usr/local/lib/python3.10/dist-packages/requests/sessions.py\", line 589, in request\n",
            "    resp = self.send(prep, **send_kwargs)\n",
            "  File \"/usr/local/lib/python3.10/dist-packages/requests/sessions.py\", line 703, in send\n",
            "    r = adapter.send(request, **kwargs)\n",
            "  File \"/usr/local/lib/python3.10/dist-packages/requests/adapters.py\", line 501, in send\n",
            "    raise ConnectionError(err, request=request)\n",
            "requests.exceptions.ConnectionError: ('Connection aborted.', RemoteDisconnected('Remote end closed connection without response'))\n",
            "\n",
            "During handling of the above exception, another exception occurred:\n",
            "\n",
            "Traceback (most recent call last):\n",
            "  File \"/usr/lib/python3.10/logging/__init__.py\", line 1100, in emit\n",
            "    msg = self.format(record)\n",
            "  File \"/usr/lib/python3.10/logging/__init__.py\", line 943, in format\n",
            "    return fmt.format(record)\n",
            "  File \"/usr/lib/python3.10/logging/__init__.py\", line 678, in format\n",
            "    record.message = record.getMessage()\n",
            "  File \"/usr/lib/python3.10/logging/__init__.py\", line 368, in getMessage\n",
            "    msg = msg % self.args\n",
            "TypeError: not all arguments converted during string formatting\n",
            "Call stack:\n",
            "  File \"/usr/lib/python3.10/threading.py\", line 973, in _bootstrap\n",
            "    self._bootstrap_inner()\n",
            "  File \"/usr/lib/python3.10/threading.py\", line 1016, in _bootstrap_inner\n",
            "    self.run()\n",
            "  File \"/usr/lib/python3.10/threading.py\", line 953, in run\n",
            "    self._target(*self._args, **self._kwargs)\n",
            "  File \"/usr/lib/python3.10/concurrent/futures/thread.py\", line 83, in _worker\n",
            "    work_item.run()\n",
            "  File \"/usr/lib/python3.10/concurrent/futures/thread.py\", line 58, in run\n",
            "    result = self.fn(*self.args, **self.kwargs)\n",
            "  File \"/usr/local/lib/python3.10/dist-packages/zhipuai/model_api/api.py\", line 25, in async_invoke\n",
            "    return post(url, cls._generate_token(), kwargs, zhipuai.api_timeout_seconds)\n",
            "  File \"/usr/local/lib/python3.10/dist-packages/zhipuai/utils/http_client.py\", line 23, in post\n",
            "    logging.exception(\"请求异常\", e)\n",
            "Message: '请求异常'\n",
            "Arguments: (ConnectionError(ProtocolError('Connection aborted.', RemoteDisconnected('Remote end closed connection without response'))),)\n"
          ]
        },
        {
          "output_type": "stream",
          "name": "stdout",
          "text": [
            "failed to send request,  保罗   Toy Chica\n"
          ]
        },
        {
          "output_type": "stream",
          "name": "stderr",
          "text": [
            "Processing items:   3%|▎         | 20/600 [03:09<2:50:16, 17.62s/it]--- Logging error ---\n",
            "Traceback (most recent call last):\n",
            "  File \"/usr/local/lib/python3.10/dist-packages/urllib3/connectionpool.py\", line 468, in _make_request\n",
            "    self._validate_conn(conn)\n",
            "  File \"/usr/local/lib/python3.10/dist-packages/urllib3/connectionpool.py\", line 1097, in _validate_conn\n",
            "    conn.connect()\n",
            "  File \"/usr/local/lib/python3.10/dist-packages/urllib3/connection.py\", line 642, in connect\n",
            "    sock_and_verified = _ssl_wrap_socket_and_match_hostname(\n",
            "  File \"/usr/local/lib/python3.10/dist-packages/urllib3/connection.py\", line 783, in _ssl_wrap_socket_and_match_hostname\n",
            "    ssl_sock = ssl_wrap_socket(\n",
            "  File \"/usr/local/lib/python3.10/dist-packages/urllib3/util/ssl_.py\", line 471, in ssl_wrap_socket\n",
            "    ssl_sock = _ssl_wrap_socket_impl(sock, context, tls_in_tls, server_hostname)\n",
            "  File \"/usr/local/lib/python3.10/dist-packages/urllib3/util/ssl_.py\", line 515, in _ssl_wrap_socket_impl\n",
            "    return ssl_context.wrap_socket(sock, server_hostname=server_hostname)\n",
            "  File \"/usr/lib/python3.10/ssl.py\", line 513, in wrap_socket\n",
            "    return self.sslsocket_class._create(\n",
            "  File \"/usr/lib/python3.10/ssl.py\", line 1100, in _create\n",
            "    self.do_handshake()\n",
            "  File \"/usr/lib/python3.10/ssl.py\", line 1371, in do_handshake\n",
            "    self._sslobj.do_handshake()\n",
            "ssl.SSLEOFError: [SSL: UNEXPECTED_EOF_WHILE_READING] EOF occurred in violation of protocol (_ssl.c:1007)\n",
            "\n",
            "During handling of the above exception, another exception occurred:\n",
            "\n",
            "Traceback (most recent call last):\n",
            "  File \"/usr/local/lib/python3.10/dist-packages/urllib3/connectionpool.py\", line 791, in urlopen\n",
            "    response = self._make_request(\n",
            "  File \"/usr/local/lib/python3.10/dist-packages/urllib3/connectionpool.py\", line 492, in _make_request\n",
            "    raise new_e\n",
            "urllib3.exceptions.SSLError: [SSL: UNEXPECTED_EOF_WHILE_READING] EOF occurred in violation of protocol (_ssl.c:1007)\n",
            "\n",
            "The above exception was the direct cause of the following exception:\n",
            "\n",
            "Traceback (most recent call last):\n",
            "  File \"/usr/local/lib/python3.10/dist-packages/requests/adapters.py\", line 486, in send\n",
            "    resp = conn.urlopen(\n",
            "  File \"/usr/local/lib/python3.10/dist-packages/urllib3/connectionpool.py\", line 845, in urlopen\n",
            "    retries = retries.increment(\n",
            "  File \"/usr/local/lib/python3.10/dist-packages/urllib3/util/retry.py\", line 515, in increment\n",
            "    raise MaxRetryError(_pool, url, reason) from reason  # type: ignore[arg-type]\n",
            "urllib3.exceptions.MaxRetryError: HTTPSConnectionPool(host='open.bigmodel.cn', port=443): Max retries exceeded with url: /api/paas/v3/model-api/characterglm/async-invoke (Caused by SSLError(SSLEOFError(8, '[SSL: UNEXPECTED_EOF_WHILE_READING] EOF occurred in violation of protocol (_ssl.c:1007)')))\n",
            "\n",
            "During handling of the above exception, another exception occurred:\n",
            "\n",
            "Traceback (most recent call last):\n",
            "  File \"/usr/local/lib/python3.10/dist-packages/zhipuai/utils/http_client.py\", line 16, in post\n",
            "    resp = requests.post(\n",
            "  File \"/usr/local/lib/python3.10/dist-packages/requests/api.py\", line 115, in post\n",
            "    return request(\"post\", url, data=data, json=json, **kwargs)\n",
            "  File \"/usr/local/lib/python3.10/dist-packages/requests/api.py\", line 59, in request\n",
            "    return session.request(method=method, url=url, **kwargs)\n",
            "  File \"/usr/local/lib/python3.10/dist-packages/requests/sessions.py\", line 589, in request\n",
            "    resp = self.send(prep, **send_kwargs)\n",
            "  File \"/usr/local/lib/python3.10/dist-packages/requests/sessions.py\", line 703, in send\n",
            "    r = adapter.send(request, **kwargs)\n",
            "  File \"/usr/local/lib/python3.10/dist-packages/requests/adapters.py\", line 517, in send\n",
            "    raise SSLError(e, request=request)\n",
            "requests.exceptions.SSLError: HTTPSConnectionPool(host='open.bigmodel.cn', port=443): Max retries exceeded with url: /api/paas/v3/model-api/characterglm/async-invoke (Caused by SSLError(SSLEOFError(8, '[SSL: UNEXPECTED_EOF_WHILE_READING] EOF occurred in violation of protocol (_ssl.c:1007)')))\n",
            "\n",
            "During handling of the above exception, another exception occurred:\n",
            "\n",
            "Traceback (most recent call last):\n",
            "  File \"/usr/lib/python3.10/logging/__init__.py\", line 1100, in emit\n",
            "    msg = self.format(record)\n",
            "  File \"/usr/lib/python3.10/logging/__init__.py\", line 943, in format\n",
            "    return fmt.format(record)\n",
            "  File \"/usr/lib/python3.10/logging/__init__.py\", line 678, in format\n",
            "    record.message = record.getMessage()\n",
            "  File \"/usr/lib/python3.10/logging/__init__.py\", line 368, in getMessage\n",
            "    msg = msg % self.args\n",
            "TypeError: not all arguments converted during string formatting\n",
            "Call stack:\n",
            "  File \"/usr/lib/python3.10/threading.py\", line 973, in _bootstrap\n",
            "    self._bootstrap_inner()\n",
            "  File \"/usr/lib/python3.10/threading.py\", line 1016, in _bootstrap_inner\n",
            "    self.run()\n",
            "  File \"/usr/lib/python3.10/threading.py\", line 953, in run\n",
            "    self._target(*self._args, **self._kwargs)\n",
            "  File \"/usr/lib/python3.10/concurrent/futures/thread.py\", line 83, in _worker\n",
            "    work_item.run()\n",
            "  File \"/usr/lib/python3.10/concurrent/futures/thread.py\", line 58, in run\n",
            "    result = self.fn(*self.args, **self.kwargs)\n",
            "  File \"/usr/local/lib/python3.10/dist-packages/zhipuai/model_api/api.py\", line 25, in async_invoke\n",
            "    return post(url, cls._generate_token(), kwargs, zhipuai.api_timeout_seconds)\n",
            "  File \"/usr/local/lib/python3.10/dist-packages/zhipuai/utils/http_client.py\", line 23, in post\n",
            "    logging.exception(\"请求异常\", e)\n",
            "Message: '请求异常'\n",
            "Arguments: (SSLError(MaxRetryError(\"HTTPSConnectionPool(host='open.bigmodel.cn', port=443): Max retries exceeded with url: /api/paas/v3/model-api/characterglm/async-invoke (Caused by SSLError(SSLEOFError(8, '[SSL: UNEXPECTED_EOF_WHILE_READING] EOF occurred in violation of protocol (_ssl.c:1007)')))\")),)\n",
            "Processing items:   4%|▍         | 25/600 [03:19<39:18,  4.10s/it]"
          ]
        },
        {
          "output_type": "stream",
          "name": "stdout",
          "text": [
            "failed to send request,  碇真嗣   Mimi\n",
            "Error processing entry: movie_136_PIPPA_862_2\n"
          ]
        },
        {
          "output_type": "stream",
          "name": "stderr",
          "text": [
            "Processing items:   6%|▌         | 36/600 [04:13<16:45,  1.78s/it]--- Logging error ---\n",
            "Traceback (most recent call last):\n",
            "  File \"/usr/local/lib/python3.10/dist-packages/urllib3/connectionpool.py\", line 468, in _make_request\n",
            "    self._validate_conn(conn)\n",
            "  File \"/usr/local/lib/python3.10/dist-packages/urllib3/connectionpool.py\", line 1097, in _validate_conn\n",
            "    conn.connect()\n",
            "  File \"/usr/local/lib/python3.10/dist-packages/urllib3/connection.py\", line 642, in connect\n",
            "    sock_and_verified = _ssl_wrap_socket_and_match_hostname(\n",
            "  File \"/usr/local/lib/python3.10/dist-packages/urllib3/connection.py\", line 783, in _ssl_wrap_socket_and_match_hostname\n",
            "    ssl_sock = ssl_wrap_socket(\n",
            "  File \"/usr/local/lib/python3.10/dist-packages/urllib3/util/ssl_.py\", line 471, in ssl_wrap_socket\n",
            "    ssl_sock = _ssl_wrap_socket_impl(sock, context, tls_in_tls, server_hostname)\n",
            "  File \"/usr/local/lib/python3.10/dist-packages/urllib3/util/ssl_.py\", line 515, in _ssl_wrap_socket_impl\n",
            "    return ssl_context.wrap_socket(sock, server_hostname=server_hostname)\n",
            "  File \"/usr/lib/python3.10/ssl.py\", line 513, in wrap_socket\n",
            "    return self.sslsocket_class._create(\n",
            "  File \"/usr/lib/python3.10/ssl.py\", line 1100, in _create\n",
            "    self.do_handshake()\n",
            "  File \"/usr/lib/python3.10/ssl.py\", line 1371, in do_handshake\n",
            "    self._sslobj.do_handshake()\n",
            "ssl.SSLEOFError: [SSL: UNEXPECTED_EOF_WHILE_READING] EOF occurred in violation of protocol (_ssl.c:1007)\n",
            "\n",
            "During handling of the above exception, another exception occurred:\n",
            "\n",
            "Traceback (most recent call last):\n",
            "  File \"/usr/local/lib/python3.10/dist-packages/urllib3/connectionpool.py\", line 791, in urlopen\n",
            "    response = self._make_request(\n",
            "  File \"/usr/local/lib/python3.10/dist-packages/urllib3/connectionpool.py\", line 492, in _make_request\n",
            "    raise new_e\n",
            "urllib3.exceptions.SSLError: [SSL: UNEXPECTED_EOF_WHILE_READING] EOF occurred in violation of protocol (_ssl.c:1007)\n",
            "\n",
            "The above exception was the direct cause of the following exception:\n",
            "\n",
            "Traceback (most recent call last):\n",
            "  File \"/usr/local/lib/python3.10/dist-packages/requests/adapters.py\", line 486, in send\n",
            "    resp = conn.urlopen(\n",
            "  File \"/usr/local/lib/python3.10/dist-packages/urllib3/connectionpool.py\", line 845, in urlopen\n",
            "    retries = retries.increment(\n",
            "  File \"/usr/local/lib/python3.10/dist-packages/urllib3/util/retry.py\", line 515, in increment\n",
            "    raise MaxRetryError(_pool, url, reason) from reason  # type: ignore[arg-type]\n",
            "urllib3.exceptions.MaxRetryError: HTTPSConnectionPool(host='open.bigmodel.cn', port=443): Max retries exceeded with url: /api/paas/v3/model-api/characterglm/async-invoke (Caused by SSLError(SSLEOFError(8, '[SSL: UNEXPECTED_EOF_WHILE_READING] EOF occurred in violation of protocol (_ssl.c:1007)')))\n",
            "\n",
            "During handling of the above exception, another exception occurred:\n",
            "\n",
            "Traceback (most recent call last):\n",
            "  File \"/usr/local/lib/python3.10/dist-packages/zhipuai/utils/http_client.py\", line 16, in post\n",
            "    resp = requests.post(\n",
            "  File \"/usr/local/lib/python3.10/dist-packages/requests/api.py\", line 115, in post\n",
            "    return request(\"post\", url, data=data, json=json, **kwargs)\n",
            "  File \"/usr/local/lib/python3.10/dist-packages/requests/api.py\", line 59, in request\n",
            "    return session.request(method=method, url=url, **kwargs)\n",
            "  File \"/usr/local/lib/python3.10/dist-packages/requests/sessions.py\", line 589, in request\n",
            "    resp = self.send(prep, **send_kwargs)\n",
            "  File \"/usr/local/lib/python3.10/dist-packages/requests/sessions.py\", line 703, in send\n",
            "    r = adapter.send(request, **kwargs)\n",
            "  File \"/usr/local/lib/python3.10/dist-packages/requests/adapters.py\", line 517, in send\n",
            "    raise SSLError(e, request=request)\n",
            "requests.exceptions.SSLError: HTTPSConnectionPool(host='open.bigmodel.cn', port=443): Max retries exceeded with url: /api/paas/v3/model-api/characterglm/async-invoke (Caused by SSLError(SSLEOFError(8, '[SSL: UNEXPECTED_EOF_WHILE_READING] EOF occurred in violation of protocol (_ssl.c:1007)')))\n",
            "\n",
            "During handling of the above exception, another exception occurred:\n",
            "\n",
            "Traceback (most recent call last):\n",
            "  File \"/usr/lib/python3.10/logging/__init__.py\", line 1100, in emit\n",
            "    msg = self.format(record)\n",
            "  File \"/usr/lib/python3.10/logging/__init__.py\", line 943, in format\n",
            "    return fmt.format(record)\n",
            "  File \"/usr/lib/python3.10/logging/__init__.py\", line 678, in format\n",
            "    record.message = record.getMessage()\n",
            "  File \"/usr/lib/python3.10/logging/__init__.py\", line 368, in getMessage\n",
            "    msg = msg % self.args\n",
            "TypeError: not all arguments converted during string formatting\n",
            "Call stack:\n",
            "  File \"/usr/lib/python3.10/threading.py\", line 973, in _bootstrap\n",
            "    self._bootstrap_inner()\n",
            "  File \"/usr/lib/python3.10/threading.py\", line 1016, in _bootstrap_inner\n",
            "    self.run()\n",
            "  File \"/usr/lib/python3.10/threading.py\", line 953, in run\n",
            "    self._target(*self._args, **self._kwargs)\n",
            "  File \"/usr/lib/python3.10/concurrent/futures/thread.py\", line 83, in _worker\n",
            "    work_item.run()\n",
            "  File \"/usr/lib/python3.10/concurrent/futures/thread.py\", line 58, in run\n",
            "    result = self.fn(*self.args, **self.kwargs)\n",
            "  File \"/usr/local/lib/python3.10/dist-packages/zhipuai/model_api/api.py\", line 25, in async_invoke\n",
            "    return post(url, cls._generate_token(), kwargs, zhipuai.api_timeout_seconds)\n",
            "  File \"/usr/local/lib/python3.10/dist-packages/zhipuai/utils/http_client.py\", line 23, in post\n",
            "    logging.exception(\"请求异常\", e)\n",
            "Message: '请求异常'\n",
            "Arguments: (SSLError(MaxRetryError(\"HTTPSConnectionPool(host='open.bigmodel.cn', port=443): Max retries exceeded with url: /api/paas/v3/model-api/characterglm/async-invoke (Caused by SSLError(SSLEOFError(8, '[SSL: UNEXPECTED_EOF_WHILE_READING] EOF occurred in violation of protocol (_ssl.c:1007)')))\")),)\n",
            "Processing items:   9%|▉         | 55/600 [04:32<09:14,  1.02s/it]"
          ]
        },
        {
          "output_type": "stream",
          "name": "stdout",
          "text": [
            "failed to send request,  杜伊   仙女座\n",
            "failed to send request,  拓也   Grammar police\n",
            "failed to send request,  小泉   澤羅·穆斯塔法\n",
            "failed to send request,  提示   Ky\n"
          ]
        },
        {
          "output_type": "stream",
          "name": "stderr",
          "text": [
            "--- Logging error ---\n",
            "Traceback (most recent call last):\n",
            "  File \"/usr/local/lib/python3.10/dist-packages/urllib3/connectionpool.py\", line 468, in _make_request\n",
            "    self._validate_conn(conn)\n",
            "  File \"/usr/local/lib/python3.10/dist-packages/urllib3/connectionpool.py\", line 1097, in _validate_conn\n",
            "    conn.connect()\n",
            "  File \"/usr/local/lib/python3.10/dist-packages/urllib3/connection.py\", line 642, in connect\n",
            "    sock_and_verified = _ssl_wrap_socket_and_match_hostname(\n",
            "  File \"/usr/local/lib/python3.10/dist-packages/urllib3/connection.py\", line 783, in _ssl_wrap_socket_and_match_hostname\n",
            "    ssl_sock = ssl_wrap_socket(\n",
            "  File \"/usr/local/lib/python3.10/dist-packages/urllib3/util/ssl_.py\", line 471, in ssl_wrap_socket\n",
            "    ssl_sock = _ssl_wrap_socket_impl(sock, context, tls_in_tls, server_hostname)\n",
            "  File \"/usr/local/lib/python3.10/dist-packages/urllib3/util/ssl_.py\", line 515, in _ssl_wrap_socket_impl\n",
            "    return ssl_context.wrap_socket(sock, server_hostname=server_hostname)\n",
            "  File \"/usr/lib/python3.10/ssl.py\", line 513, in wrap_socket\n",
            "    return self.sslsocket_class._create(\n",
            "  File \"/usr/lib/python3.10/ssl.py\", line 1100, in _create\n",
            "    self.do_handshake()\n",
            "  File \"/usr/lib/python3.10/ssl.py\", line 1371, in do_handshake\n",
            "    self._sslobj.do_handshake()\n",
            "ssl.SSLEOFError: [SSL: UNEXPECTED_EOF_WHILE_READING] EOF occurred in violation of protocol (_ssl.c:1007)\n",
            "\n",
            "During handling of the above exception, another exception occurred:\n",
            "\n",
            "Traceback (most recent call last):\n",
            "  File \"/usr/local/lib/python3.10/dist-packages/urllib3/connectionpool.py\", line 791, in urlopen\n",
            "    response = self._make_request(\n",
            "  File \"/usr/local/lib/python3.10/dist-packages/urllib3/connectionpool.py\", line 492, in _make_request\n",
            "    raise new_e\n",
            "urllib3.exceptions.SSLError: [SSL: UNEXPECTED_EOF_WHILE_READING] EOF occurred in violation of protocol (_ssl.c:1007)\n",
            "\n",
            "The above exception was the direct cause of the following exception:\n",
            "\n",
            "Traceback (most recent call last):\n",
            "  File \"/usr/local/lib/python3.10/dist-packages/requests/adapters.py\", line 486, in send\n",
            "    resp = conn.urlopen(\n",
            "  File \"/usr/local/lib/python3.10/dist-packages/urllib3/connectionpool.py\", line 845, in urlopen\n",
            "    retries = retries.increment(\n",
            "  File \"/usr/local/lib/python3.10/dist-packages/urllib3/util/retry.py\", line 515, in increment\n",
            "    raise MaxRetryError(_pool, url, reason) from reason  # type: ignore[arg-type]\n",
            "urllib3.exceptions.MaxRetryError: HTTPSConnectionPool(host='open.bigmodel.cn', port=443): Max retries exceeded with url: /api/paas/v3/model-api/characterglm/async-invoke (Caused by SSLError(SSLEOFError(8, '[SSL: UNEXPECTED_EOF_WHILE_READING] EOF occurred in violation of protocol (_ssl.c:1007)')))\n",
            "\n",
            "During handling of the above exception, another exception occurred:\n",
            "\n",
            "Traceback (most recent call last):\n",
            "  File \"/usr/local/lib/python3.10/dist-packages/zhipuai/utils/http_client.py\", line 16, in post\n",
            "    resp = requests.post(\n",
            "  File \"/usr/local/lib/python3.10/dist-packages/requests/api.py\", line 115, in post\n",
            "    return request(\"post\", url, data=data, json=json, **kwargs)\n",
            "  File \"/usr/local/lib/python3.10/dist-packages/requests/api.py\", line 59, in request\n",
            "    return session.request(method=method, url=url, **kwargs)\n",
            "  File \"/usr/local/lib/python3.10/dist-packages/requests/sessions.py\", line 589, in request\n",
            "    resp = self.send(prep, **send_kwargs)\n",
            "  File \"/usr/local/lib/python3.10/dist-packages/requests/sessions.py\", line 703, in send\n",
            "    r = adapter.send(request, **kwargs)\n",
            "  File \"/usr/local/lib/python3.10/dist-packages/requests/adapters.py\", line 517, in send\n",
            "    raise SSLError(e, request=request)\n",
            "requests.exceptions.SSLError: HTTPSConnectionPool(host='open.bigmodel.cn', port=443): Max retries exceeded with url: /api/paas/v3/model-api/characterglm/async-invoke (Caused by SSLError(SSLEOFError(8, '[SSL: UNEXPECTED_EOF_WHILE_READING] EOF occurred in violation of protocol (_ssl.c:1007)')))\n",
            "\n",
            "During handling of the above exception, another exception occurred:\n",
            "\n",
            "Traceback (most recent call last):\n",
            "  File \"/usr/lib/python3.10/logging/__init__.py\", line 1100, in emit\n",
            "    msg = self.format(record)\n",
            "  File \"/usr/lib/python3.10/logging/__init__.py\", line 943, in format\n",
            "    return fmt.format(record)\n",
            "  File \"/usr/lib/python3.10/logging/__init__.py\", line 678, in format\n",
            "    record.message = record.getMessage()\n",
            "  File \"/usr/lib/python3.10/logging/__init__.py\", line 368, in getMessage\n",
            "    msg = msg % self.args\n",
            "TypeError: not all arguments converted during string formatting\n",
            "Call stack:\n",
            "  File \"/usr/lib/python3.10/threading.py\", line 973, in _bootstrap\n",
            "    self._bootstrap_inner()\n",
            "  File \"/usr/lib/python3.10/threading.py\", line 1016, in _bootstrap_inner\n",
            "    self.run()\n",
            "  File \"/usr/lib/python3.10/threading.py\", line 953, in run\n",
            "    self._target(*self._args, **self._kwargs)\n",
            "  File \"/usr/lib/python3.10/concurrent/futures/thread.py\", line 83, in _worker\n",
            "    work_item.run()\n",
            "  File \"/usr/lib/python3.10/concurrent/futures/thread.py\", line 58, in run\n",
            "    result = self.fn(*self.args, **self.kwargs)\n",
            "  File \"/usr/local/lib/python3.10/dist-packages/zhipuai/model_api/api.py\", line 25, in async_invoke\n",
            "    return post(url, cls._generate_token(), kwargs, zhipuai.api_timeout_seconds)\n",
            "  File \"/usr/local/lib/python3.10/dist-packages/zhipuai/utils/http_client.py\", line 23, in post\n",
            "    logging.exception(\"请求异常\", e)\n",
            "Message: '请求异常'\n",
            "Arguments: (SSLError(MaxRetryError(\"HTTPSConnectionPool(host='open.bigmodel.cn', port=443): Max retries exceeded with url: /api/paas/v3/model-api/characterglm/async-invoke (Caused by SSLError(SSLEOFError(8, '[SSL: UNEXPECTED_EOF_WHILE_READING] EOF occurred in violation of protocol (_ssl.c:1007)')))\")),)\n"
          ]
        },
        {
          "output_type": "stream",
          "name": "stdout",
          "text": [
            "failed to send request,  阿飞   2B \n"
          ]
        },
        {
          "output_type": "stream",
          "name": "stderr",
          "text": [
            "Processing items:  10%|▉         | 59/600 [05:14<44:04,  4.89s/it]"
          ]
        },
        {
          "output_type": "stream",
          "name": "stdout",
          "text": [
            "failed to send request,  拓也   Grammar police\n",
            "failed to send request,  坎顿   Mika Yoshioka\n",
            "failed to send request,  拓也   Grammar police\n",
            "Error processing entry: movie_177_PIPPA_113_2\n",
            "failed to send request,  麦克墨菲   Jack\n",
            "failed to send request,  大雄   拉尔夫\n",
            "failed to send request,  奥托   李道一\n",
            "failed to send request,  希隆   Ellison\n",
            "failed to send request,  斯嘉丽   Katia Managan\n",
            "failed to send request,  塞尔玛   May\n",
            "failed to send request,  面条   Pumpkin Pie\n",
            "failed to send request,  大卫斯   Linda\n",
            "failed to send request,  大雄   拉尔夫\n",
            "failed to send request,  星矢   Steve\n",
            "failed to send request,  约阿夫   Steve Rogers\n",
            "failed to send request,  奥托   李道一\n",
            "failed to send request,  塞尔玛   May\n",
            "failed to send request,  面条   Pumpkin Pie\n",
            "failed to send request,  大卫斯   Linda\n",
            "failed to send request,  星矢   Steve\n",
            "failed to send request,  凯特   Akari\n",
            "failed to send request,  面条   Pumpkin Pie\n",
            "Error processing entry: movie_230_PIPPA_541_2\n",
            "failed to send request,  大卫斯   Linda\n",
            "Error processing entry: movie_231_movie_616_2\n"
          ]
        },
        {
          "output_type": "stream",
          "name": "stderr",
          "text": [
            "--- Logging error ---\n",
            "Traceback (most recent call last):\n",
            "  File \"/usr/local/lib/python3.10/dist-packages/urllib3/connectionpool.py\", line 468, in _make_request\n",
            "    self._validate_conn(conn)\n",
            "  File \"/usr/local/lib/python3.10/dist-packages/urllib3/connectionpool.py\", line 1097, in _validate_conn\n",
            "    conn.connect()\n",
            "  File \"/usr/local/lib/python3.10/dist-packages/urllib3/connection.py\", line 642, in connect\n",
            "    sock_and_verified = _ssl_wrap_socket_and_match_hostname(\n",
            "  File \"/usr/local/lib/python3.10/dist-packages/urllib3/connection.py\", line 783, in _ssl_wrap_socket_and_match_hostname\n",
            "    ssl_sock = ssl_wrap_socket(\n",
            "  File \"/usr/local/lib/python3.10/dist-packages/urllib3/util/ssl_.py\", line 471, in ssl_wrap_socket\n",
            "    ssl_sock = _ssl_wrap_socket_impl(sock, context, tls_in_tls, server_hostname)\n",
            "  File \"/usr/local/lib/python3.10/dist-packages/urllib3/util/ssl_.py\", line 515, in _ssl_wrap_socket_impl\n",
            "    return ssl_context.wrap_socket(sock, server_hostname=server_hostname)\n",
            "  File \"/usr/lib/python3.10/ssl.py\", line 513, in wrap_socket\n",
            "    return self.sslsocket_class._create(\n",
            "  File \"/usr/lib/python3.10/ssl.py\", line 1100, in _create\n",
            "    self.do_handshake()\n",
            "  File \"/usr/lib/python3.10/ssl.py\", line 1371, in do_handshake\n",
            "    self._sslobj.do_handshake()\n",
            "ssl.SSLEOFError: [SSL: UNEXPECTED_EOF_WHILE_READING] EOF occurred in violation of protocol (_ssl.c:1007)\n",
            "\n",
            "During handling of the above exception, another exception occurred:\n",
            "\n",
            "Traceback (most recent call last):\n",
            "  File \"/usr/local/lib/python3.10/dist-packages/urllib3/connectionpool.py\", line 791, in urlopen\n",
            "    response = self._make_request(\n",
            "  File \"/usr/local/lib/python3.10/dist-packages/urllib3/connectionpool.py\", line 492, in _make_request\n",
            "    raise new_e\n",
            "urllib3.exceptions.SSLError: [SSL: UNEXPECTED_EOF_WHILE_READING] EOF occurred in violation of protocol (_ssl.c:1007)\n",
            "\n",
            "The above exception was the direct cause of the following exception:\n",
            "\n",
            "Traceback (most recent call last):\n",
            "  File \"/usr/local/lib/python3.10/dist-packages/requests/adapters.py\", line 486, in send\n",
            "    resp = conn.urlopen(\n",
            "  File \"/usr/local/lib/python3.10/dist-packages/urllib3/connectionpool.py\", line 845, in urlopen\n",
            "    retries = retries.increment(\n",
            "  File \"/usr/local/lib/python3.10/dist-packages/urllib3/util/retry.py\", line 515, in increment\n",
            "    raise MaxRetryError(_pool, url, reason) from reason  # type: ignore[arg-type]\n",
            "urllib3.exceptions.MaxRetryError: HTTPSConnectionPool(host='open.bigmodel.cn', port=443): Max retries exceeded with url: /api/paas/v3/model-api/characterglm/async-invoke (Caused by SSLError(SSLEOFError(8, '[SSL: UNEXPECTED_EOF_WHILE_READING] EOF occurred in violation of protocol (_ssl.c:1007)')))\n",
            "\n",
            "During handling of the above exception, another exception occurred:\n",
            "\n",
            "Traceback (most recent call last):\n",
            "  File \"/usr/local/lib/python3.10/dist-packages/zhipuai/utils/http_client.py\", line 16, in post\n",
            "    resp = requests.post(\n",
            "  File \"/usr/local/lib/python3.10/dist-packages/requests/api.py\", line 115, in post\n",
            "    return request(\"post\", url, data=data, json=json, **kwargs)\n",
            "  File \"/usr/local/lib/python3.10/dist-packages/requests/api.py\", line 59, in request\n",
            "    return session.request(method=method, url=url, **kwargs)\n",
            "  File \"/usr/local/lib/python3.10/dist-packages/requests/sessions.py\", line 589, in request\n",
            "    resp = self.send(prep, **send_kwargs)\n",
            "  File \"/usr/local/lib/python3.10/dist-packages/requests/sessions.py\", line 703, in send\n",
            "    r = adapter.send(request, **kwargs)\n",
            "  File \"/usr/local/lib/python3.10/dist-packages/requests/adapters.py\", line 517, in send\n",
            "    raise SSLError(e, request=request)\n",
            "requests.exceptions.SSLError: HTTPSConnectionPool(host='open.bigmodel.cn', port=443): Max retries exceeded with url: /api/paas/v3/model-api/characterglm/async-invoke (Caused by SSLError(SSLEOFError(8, '[SSL: UNEXPECTED_EOF_WHILE_READING] EOF occurred in violation of protocol (_ssl.c:1007)')))\n",
            "\n",
            "During handling of the above exception, another exception occurred:\n",
            "\n",
            "Traceback (most recent call last):\n",
            "  File \"/usr/lib/python3.10/logging/__init__.py\", line 1100, in emit\n",
            "    msg = self.format(record)\n",
            "  File \"/usr/lib/python3.10/logging/__init__.py\", line 943, in format\n",
            "    return fmt.format(record)\n",
            "  File \"/usr/lib/python3.10/logging/__init__.py\", line 678, in format\n",
            "    record.message = record.getMessage()\n",
            "  File \"/usr/lib/python3.10/logging/__init__.py\", line 368, in getMessage\n",
            "    msg = msg % self.args\n",
            "TypeError: not all arguments converted during string formatting\n",
            "Call stack:\n",
            "  File \"/usr/lib/python3.10/threading.py\", line 973, in _bootstrap\n",
            "    self._bootstrap_inner()\n",
            "  File \"/usr/lib/python3.10/threading.py\", line 1016, in _bootstrap_inner\n",
            "    self.run()\n",
            "  File \"/usr/lib/python3.10/threading.py\", line 953, in run\n",
            "    self._target(*self._args, **self._kwargs)\n",
            "  File \"/usr/lib/python3.10/concurrent/futures/thread.py\", line 83, in _worker\n",
            "    work_item.run()\n",
            "  File \"/usr/lib/python3.10/concurrent/futures/thread.py\", line 58, in run\n",
            "    result = self.fn(*self.args, **self.kwargs)\n",
            "  File \"/usr/local/lib/python3.10/dist-packages/zhipuai/model_api/api.py\", line 25, in async_invoke\n",
            "    return post(url, cls._generate_token(), kwargs, zhipuai.api_timeout_seconds)\n",
            "  File \"/usr/local/lib/python3.10/dist-packages/zhipuai/utils/http_client.py\", line 23, in post\n",
            "    logging.exception(\"请求异常\", e)\n",
            "Message: '请求异常'\n",
            "Arguments: (SSLError(MaxRetryError(\"HTTPSConnectionPool(host='open.bigmodel.cn', port=443): Max retries exceeded with url: /api/paas/v3/model-api/characterglm/async-invoke (Caused by SSLError(SSLEOFError(8, '[SSL: UNEXPECTED_EOF_WHILE_READING] EOF occurred in violation of protocol (_ssl.c:1007)')))\")),)\n"
          ]
        },
        {
          "output_type": "stream",
          "name": "stdout",
          "text": [
            "failed to send request,  星矢   Steve\n",
            "Error processing entry: movie_232_movie_744_2\n"
          ]
        },
        {
          "output_type": "stream",
          "name": "stderr",
          "text": [
            "--- Logging error ---\n",
            "Traceback (most recent call last):\n",
            "  File \"/usr/local/lib/python3.10/dist-packages/urllib3/connectionpool.py\", line 537, in _make_request\n",
            "    response = conn.getresponse()\n",
            "  File \"/usr/local/lib/python3.10/dist-packages/urllib3/connection.py\", line 461, in getresponse\n",
            "    httplib_response = super().getresponse()\n",
            "  File \"/usr/lib/python3.10/http/client.py\", line 1375, in getresponse\n",
            "    response.begin()\n",
            "  File \"/usr/lib/python3.10/http/client.py\", line 318, in begin\n",
            "    version, status, reason = self._read_status()\n",
            "  File \"/usr/lib/python3.10/http/client.py\", line 279, in _read_status\n",
            "    line = str(self.fp.readline(_MAXLINE + 1), \"iso-8859-1\")\n",
            "  File \"/usr/lib/python3.10/socket.py\", line 705, in readinto\n",
            "    return self._sock.recv_into(b)\n",
            "  File \"/usr/lib/python3.10/ssl.py\", line 1303, in recv_into\n",
            "    return self.read(nbytes, buffer)\n",
            "  File \"/usr/lib/python3.10/ssl.py\", line 1159, in read\n",
            "    return self._sslobj.read(len, buffer)\n",
            "TimeoutError: The read operation timed out\n",
            "\n",
            "The above exception was the direct cause of the following exception:\n",
            "\n",
            "Traceback (most recent call last):\n",
            "  File \"/usr/local/lib/python3.10/dist-packages/requests/adapters.py\", line 486, in send\n",
            "    resp = conn.urlopen(\n",
            "  File \"/usr/local/lib/python3.10/dist-packages/urllib3/connectionpool.py\", line 845, in urlopen\n",
            "    retries = retries.increment(\n",
            "  File \"/usr/local/lib/python3.10/dist-packages/urllib3/util/retry.py\", line 470, in increment\n",
            "    raise reraise(type(error), error, _stacktrace)\n",
            "  File \"/usr/local/lib/python3.10/dist-packages/urllib3/util/util.py\", line 39, in reraise\n",
            "    raise value\n",
            "  File \"/usr/local/lib/python3.10/dist-packages/urllib3/connectionpool.py\", line 791, in urlopen\n",
            "    response = self._make_request(\n",
            "  File \"/usr/local/lib/python3.10/dist-packages/urllib3/connectionpool.py\", line 539, in _make_request\n",
            "    self._raise_timeout(err=e, url=url, timeout_value=read_timeout)\n",
            "  File \"/usr/local/lib/python3.10/dist-packages/urllib3/connectionpool.py\", line 371, in _raise_timeout\n",
            "    raise ReadTimeoutError(\n",
            "urllib3.exceptions.ReadTimeoutError: HTTPSConnectionPool(host='open.bigmodel.cn', port=443): Read timed out. (read timeout=300)\n",
            "\n",
            "During handling of the above exception, another exception occurred:\n",
            "\n",
            "Traceback (most recent call last):\n",
            "  File \"/usr/local/lib/python3.10/dist-packages/zhipuai/utils/http_client.py\", line 16, in post\n",
            "    resp = requests.post(\n",
            "  File \"/usr/local/lib/python3.10/dist-packages/requests/api.py\", line 115, in post\n",
            "    return request(\"post\", url, data=data, json=json, **kwargs)\n",
            "  File \"/usr/local/lib/python3.10/dist-packages/requests/api.py\", line 59, in request\n",
            "    return session.request(method=method, url=url, **kwargs)\n",
            "  File \"/usr/local/lib/python3.10/dist-packages/requests/sessions.py\", line 589, in request\n",
            "    resp = self.send(prep, **send_kwargs)\n",
            "  File \"/usr/local/lib/python3.10/dist-packages/requests/sessions.py\", line 703, in send\n",
            "    r = adapter.send(request, **kwargs)\n",
            "  File \"/usr/local/lib/python3.10/dist-packages/requests/adapters.py\", line 532, in send\n",
            "    raise ReadTimeout(e, request=request)\n",
            "requests.exceptions.ReadTimeout: HTTPSConnectionPool(host='open.bigmodel.cn', port=443): Read timed out. (read timeout=300)\n",
            "\n",
            "During handling of the above exception, another exception occurred:\n",
            "\n",
            "Traceback (most recent call last):\n",
            "  File \"/usr/lib/python3.10/logging/__init__.py\", line 1100, in emit\n",
            "    msg = self.format(record)\n",
            "  File \"/usr/lib/python3.10/logging/__init__.py\", line 943, in format\n",
            "    return fmt.format(record)\n",
            "  File \"/usr/lib/python3.10/logging/__init__.py\", line 678, in format\n",
            "    record.message = record.getMessage()\n",
            "  File \"/usr/lib/python3.10/logging/__init__.py\", line 368, in getMessage\n",
            "    msg = msg % self.args\n",
            "TypeError: not all arguments converted during string formatting\n",
            "Call stack:\n",
            "  File \"/usr/lib/python3.10/threading.py\", line 973, in _bootstrap\n",
            "    self._bootstrap_inner()\n",
            "  File \"/usr/lib/python3.10/threading.py\", line 1016, in _bootstrap_inner\n",
            "    self.run()\n",
            "  File \"/usr/lib/python3.10/threading.py\", line 953, in run\n",
            "    self._target(*self._args, **self._kwargs)\n",
            "  File \"/usr/lib/python3.10/concurrent/futures/thread.py\", line 83, in _worker\n",
            "    work_item.run()\n",
            "  File \"/usr/lib/python3.10/concurrent/futures/thread.py\", line 58, in run\n",
            "    result = self.fn(*self.args, **self.kwargs)\n",
            "  File \"/usr/local/lib/python3.10/dist-packages/zhipuai/model_api/api.py\", line 25, in async_invoke\n",
            "    return post(url, cls._generate_token(), kwargs, zhipuai.api_timeout_seconds)\n",
            "  File \"/usr/local/lib/python3.10/dist-packages/zhipuai/utils/http_client.py\", line 23, in post\n",
            "    logging.exception(\"请求异常\", e)\n",
            "Message: '请求异常'\n",
            "Arguments: (ReadTimeout(ReadTimeoutError(\"HTTPSConnectionPool(host='open.bigmodel.cn', port=443): Read timed out. (read timeout=300)\")),)\n"
          ]
        },
        {
          "output_type": "stream",
          "name": "stdout",
          "text": [
            "failed to send request,  奥托   Mr.\n"
          ]
        },
        {
          "output_type": "stream",
          "name": "stderr",
          "text": [
            "--- Logging error ---\n",
            "Traceback (most recent call last):\n",
            "  File \"/usr/local/lib/python3.10/dist-packages/urllib3/connection.py\", line 203, in _new_conn\n",
            "    sock = connection.create_connection(\n",
            "  File \"/usr/local/lib/python3.10/dist-packages/urllib3/util/connection.py\", line 85, in create_connection\n",
            "    raise err\n",
            "  File \"/usr/local/lib/python3.10/dist-packages/urllib3/util/connection.py\", line 73, in create_connection\n",
            "    sock.connect(sa)\n",
            "TimeoutError: [Errno 110] Connection timed out\n",
            "\n",
            "The above exception was the direct cause of the following exception:\n",
            "\n",
            "Traceback (most recent call last):\n",
            "  File \"/usr/local/lib/python3.10/dist-packages/urllib3/connectionpool.py\", line 791, in urlopen\n",
            "    response = self._make_request(\n",
            "  File \"/usr/local/lib/python3.10/dist-packages/urllib3/connectionpool.py\", line 492, in _make_request\n",
            "    raise new_e\n",
            "  File \"/usr/local/lib/python3.10/dist-packages/urllib3/connectionpool.py\", line 468, in _make_request\n",
            "    self._validate_conn(conn)\n",
            "  File \"/usr/local/lib/python3.10/dist-packages/urllib3/connectionpool.py\", line 1097, in _validate_conn\n",
            "    conn.connect()\n",
            "  File \"/usr/local/lib/python3.10/dist-packages/urllib3/connection.py\", line 611, in connect\n",
            "    self.sock = sock = self._new_conn()\n",
            "  File \"/usr/local/lib/python3.10/dist-packages/urllib3/connection.py\", line 212, in _new_conn\n",
            "    raise ConnectTimeoutError(\n",
            "urllib3.exceptions.ConnectTimeoutError: (<urllib3.connection.HTTPSConnection object at 0x7af86549a290>, 'Connection to open.bigmodel.cn timed out. (connect timeout=300)')\n",
            "\n",
            "The above exception was the direct cause of the following exception:\n",
            "\n",
            "Traceback (most recent call last):\n",
            "  File \"/usr/local/lib/python3.10/dist-packages/requests/adapters.py\", line 486, in send\n",
            "    resp = conn.urlopen(\n",
            "  File \"/usr/local/lib/python3.10/dist-packages/urllib3/connectionpool.py\", line 845, in urlopen\n",
            "    retries = retries.increment(\n",
            "  File \"/usr/local/lib/python3.10/dist-packages/urllib3/util/retry.py\", line 515, in increment\n",
            "    raise MaxRetryError(_pool, url, reason) from reason  # type: ignore[arg-type]\n",
            "urllib3.exceptions.MaxRetryError: HTTPSConnectionPool(host='open.bigmodel.cn', port=443): Max retries exceeded with url: /api/paas/v3/model-api/characterglm/async-invoke (Caused by ConnectTimeoutError(<urllib3.connection.HTTPSConnection object at 0x7af86549a290>, 'Connection to open.bigmodel.cn timed out. (connect timeout=300)'))\n",
            "\n",
            "During handling of the above exception, another exception occurred:\n",
            "\n",
            "Traceback (most recent call last):\n",
            "  File \"/usr/local/lib/python3.10/dist-packages/zhipuai/utils/http_client.py\", line 16, in post\n",
            "    resp = requests.post(\n",
            "  File \"/usr/local/lib/python3.10/dist-packages/requests/api.py\", line 115, in post\n",
            "    return request(\"post\", url, data=data, json=json, **kwargs)\n",
            "  File \"/usr/local/lib/python3.10/dist-packages/requests/api.py\", line 59, in request\n",
            "    return session.request(method=method, url=url, **kwargs)\n",
            "  File \"/usr/local/lib/python3.10/dist-packages/requests/sessions.py\", line 589, in request\n",
            "    resp = self.send(prep, **send_kwargs)\n",
            "  File \"/usr/local/lib/python3.10/dist-packages/requests/sessions.py\", line 703, in send\n",
            "    r = adapter.send(request, **kwargs)\n",
            "  File \"/usr/local/lib/python3.10/dist-packages/requests/adapters.py\", line 507, in send\n",
            "    raise ConnectTimeout(e, request=request)\n",
            "requests.exceptions.ConnectTimeout: HTTPSConnectionPool(host='open.bigmodel.cn', port=443): Max retries exceeded with url: /api/paas/v3/model-api/characterglm/async-invoke (Caused by ConnectTimeoutError(<urllib3.connection.HTTPSConnection object at 0x7af86549a290>, 'Connection to open.bigmodel.cn timed out. (connect timeout=300)'))\n",
            "\n",
            "During handling of the above exception, another exception occurred:\n",
            "\n",
            "Traceback (most recent call last):\n",
            "  File \"/usr/lib/python3.10/logging/__init__.py\", line 1100, in emit\n",
            "    msg = self.format(record)\n",
            "  File \"/usr/lib/python3.10/logging/__init__.py\", line 943, in format\n",
            "    return fmt.format(record)\n",
            "  File \"/usr/lib/python3.10/logging/__init__.py\", line 678, in format\n",
            "    record.message = record.getMessage()\n",
            "  File \"/usr/lib/python3.10/logging/__init__.py\", line 368, in getMessage\n",
            "    msg = msg % self.args\n",
            "TypeError: not all arguments converted during string formatting\n",
            "Call stack:\n",
            "  File \"/usr/lib/python3.10/threading.py\", line 973, in _bootstrap\n",
            "    self._bootstrap_inner()\n",
            "  File \"/usr/lib/python3.10/threading.py\", line 1016, in _bootstrap_inner\n",
            "    self.run()\n",
            "  File \"/usr/lib/python3.10/threading.py\", line 953, in run\n",
            "    self._target(*self._args, **self._kwargs)\n",
            "  File \"/usr/lib/python3.10/concurrent/futures/thread.py\", line 83, in _worker\n",
            "    work_item.run()\n",
            "  File \"/usr/lib/python3.10/concurrent/futures/thread.py\", line 58, in run\n",
            "    result = self.fn(*self.args, **self.kwargs)\n",
            "  File \"/usr/local/lib/python3.10/dist-packages/zhipuai/model_api/api.py\", line 25, in async_invoke\n",
            "    return post(url, cls._generate_token(), kwargs, zhipuai.api_timeout_seconds)\n",
            "  File \"/usr/local/lib/python3.10/dist-packages/zhipuai/utils/http_client.py\", line 23, in post\n",
            "    logging.exception(\"请求异常\", e)\n",
            "Message: '请求异常'\n",
            "Arguments: (ConnectTimeout(MaxRetryError(\"HTTPSConnectionPool(host='open.bigmodel.cn', port=443): Max retries exceeded with url: /api/paas/v3/model-api/characterglm/async-invoke (Caused by ConnectTimeoutError(<urllib3.connection.HTTPSConnection object at 0x7af86549a290>, 'Connection to open.bigmodel.cn timed out. (connect timeout=300)'))\")),)\n"
          ]
        },
        {
          "output_type": "stream",
          "name": "stdout",
          "text": [
            "failed to send request,  凯特   Akari\n"
          ]
        },
        {
          "output_type": "stream",
          "name": "stderr",
          "text": [
            "Processing items:  11%|█▏        | 68/600 [10:09<54:04,  6.10s/it]  --- Logging error ---\n",
            "Traceback (most recent call last):\n",
            "  File \"/usr/local/lib/python3.10/dist-packages/urllib3/connectionpool.py\", line 468, in _make_request\n",
            "    self._validate_conn(conn)\n",
            "  File \"/usr/local/lib/python3.10/dist-packages/urllib3/connectionpool.py\", line 1097, in _validate_conn\n",
            "    conn.connect()\n",
            "  File \"/usr/local/lib/python3.10/dist-packages/urllib3/connection.py\", line 642, in connect\n",
            "    sock_and_verified = _ssl_wrap_socket_and_match_hostname(\n",
            "  File \"/usr/local/lib/python3.10/dist-packages/urllib3/connection.py\", line 783, in _ssl_wrap_socket_and_match_hostname\n",
            "    ssl_sock = ssl_wrap_socket(\n",
            "  File \"/usr/local/lib/python3.10/dist-packages/urllib3/util/ssl_.py\", line 471, in ssl_wrap_socket\n",
            "    ssl_sock = _ssl_wrap_socket_impl(sock, context, tls_in_tls, server_hostname)\n",
            "  File \"/usr/local/lib/python3.10/dist-packages/urllib3/util/ssl_.py\", line 515, in _ssl_wrap_socket_impl\n",
            "    return ssl_context.wrap_socket(sock, server_hostname=server_hostname)\n",
            "  File \"/usr/lib/python3.10/ssl.py\", line 513, in wrap_socket\n",
            "    return self.sslsocket_class._create(\n",
            "  File \"/usr/lib/python3.10/ssl.py\", line 1100, in _create\n",
            "    self.do_handshake()\n",
            "  File \"/usr/lib/python3.10/ssl.py\", line 1371, in do_handshake\n",
            "    self._sslobj.do_handshake()\n",
            "ssl.SSLEOFError: [SSL: UNEXPECTED_EOF_WHILE_READING] EOF occurred in violation of protocol (_ssl.c:1007)\n",
            "\n",
            "During handling of the above exception, another exception occurred:\n",
            "\n",
            "Traceback (most recent call last):\n",
            "  File \"/usr/local/lib/python3.10/dist-packages/urllib3/connectionpool.py\", line 791, in urlopen\n",
            "    response = self._make_request(\n",
            "  File \"/usr/local/lib/python3.10/dist-packages/urllib3/connectionpool.py\", line 492, in _make_request\n",
            "    raise new_e\n",
            "urllib3.exceptions.SSLError: [SSL: UNEXPECTED_EOF_WHILE_READING] EOF occurred in violation of protocol (_ssl.c:1007)\n",
            "\n",
            "The above exception was the direct cause of the following exception:\n",
            "\n",
            "Traceback (most recent call last):\n",
            "  File \"/usr/local/lib/python3.10/dist-packages/requests/adapters.py\", line 486, in send\n",
            "    resp = conn.urlopen(\n",
            "  File \"/usr/local/lib/python3.10/dist-packages/urllib3/connectionpool.py\", line 845, in urlopen\n",
            "    retries = retries.increment(\n",
            "  File \"/usr/local/lib/python3.10/dist-packages/urllib3/util/retry.py\", line 515, in increment\n",
            "    raise MaxRetryError(_pool, url, reason) from reason  # type: ignore[arg-type]\n",
            "urllib3.exceptions.MaxRetryError: HTTPSConnectionPool(host='open.bigmodel.cn', port=443): Max retries exceeded with url: /api/paas/v3/model-api/characterglm/async-invoke (Caused by SSLError(SSLEOFError(8, '[SSL: UNEXPECTED_EOF_WHILE_READING] EOF occurred in violation of protocol (_ssl.c:1007)')))\n",
            "\n",
            "During handling of the above exception, another exception occurred:\n",
            "\n",
            "Traceback (most recent call last):\n",
            "  File \"/usr/local/lib/python3.10/dist-packages/zhipuai/utils/http_client.py\", line 16, in post\n",
            "    resp = requests.post(\n",
            "  File \"/usr/local/lib/python3.10/dist-packages/requests/api.py\", line 115, in post\n",
            "    return request(\"post\", url, data=data, json=json, **kwargs)\n",
            "  File \"/usr/local/lib/python3.10/dist-packages/requests/api.py\", line 59, in request\n",
            "    return session.request(method=method, url=url, **kwargs)\n",
            "  File \"/usr/local/lib/python3.10/dist-packages/requests/sessions.py\", line 589, in request\n",
            "    resp = self.send(prep, **send_kwargs)\n",
            "  File \"/usr/local/lib/python3.10/dist-packages/requests/sessions.py\", line 703, in send\n",
            "    r = adapter.send(request, **kwargs)\n",
            "  File \"/usr/local/lib/python3.10/dist-packages/requests/adapters.py\", line 517, in send\n",
            "    raise SSLError(e, request=request)\n",
            "requests.exceptions.SSLError: HTTPSConnectionPool(host='open.bigmodel.cn', port=443): Max retries exceeded with url: /api/paas/v3/model-api/characterglm/async-invoke (Caused by SSLError(SSLEOFError(8, '[SSL: UNEXPECTED_EOF_WHILE_READING] EOF occurred in violation of protocol (_ssl.c:1007)')))\n",
            "\n",
            "During handling of the above exception, another exception occurred:\n",
            "\n",
            "Traceback (most recent call last):\n",
            "  File \"/usr/lib/python3.10/logging/__init__.py\", line 1100, in emit\n",
            "    msg = self.format(record)\n",
            "  File \"/usr/lib/python3.10/logging/__init__.py\", line 943, in format\n",
            "    return fmt.format(record)\n",
            "  File \"/usr/lib/python3.10/logging/__init__.py\", line 678, in format\n",
            "    record.message = record.getMessage()\n",
            "  File \"/usr/lib/python3.10/logging/__init__.py\", line 368, in getMessage\n",
            "    msg = msg % self.args\n",
            "TypeError: not all arguments converted during string formatting\n",
            "Call stack:\n",
            "  File \"/usr/lib/python3.10/threading.py\", line 973, in _bootstrap\n",
            "    self._bootstrap_inner()\n",
            "  File \"/usr/lib/python3.10/threading.py\", line 1016, in _bootstrap_inner\n",
            "    self.run()\n",
            "  File \"/usr/lib/python3.10/threading.py\", line 953, in run\n",
            "    self._target(*self._args, **self._kwargs)\n",
            "  File \"/usr/lib/python3.10/concurrent/futures/thread.py\", line 83, in _worker\n",
            "    work_item.run()\n",
            "  File \"/usr/lib/python3.10/concurrent/futures/thread.py\", line 58, in run\n",
            "    result = self.fn(*self.args, **self.kwargs)\n",
            "  File \"/usr/local/lib/python3.10/dist-packages/zhipuai/model_api/api.py\", line 25, in async_invoke\n",
            "    return post(url, cls._generate_token(), kwargs, zhipuai.api_timeout_seconds)\n",
            "  File \"/usr/local/lib/python3.10/dist-packages/zhipuai/utils/http_client.py\", line 23, in post\n",
            "    logging.exception(\"请求异常\", e)\n",
            "Message: '请求异常'\n",
            "Arguments: (SSLError(MaxRetryError(\"HTTPSConnectionPool(host='open.bigmodel.cn', port=443): Max retries exceeded with url: /api/paas/v3/model-api/characterglm/async-invoke (Caused by SSLError(SSLEOFError(8, '[SSL: UNEXPECTED_EOF_WHILE_READING] EOF occurred in violation of protocol (_ssl.c:1007)')))\")),)\n",
            "Processing items:  13%|█▎        | 80/600 [10:21<09:17,  1.07s/it]--- Logging error ---\n",
            "Traceback (most recent call last):\n",
            "  File \"/usr/local/lib/python3.10/dist-packages/urllib3/connectionpool.py\", line 468, in _make_request\n",
            "    self._validate_conn(conn)\n",
            "  File \"/usr/local/lib/python3.10/dist-packages/urllib3/connectionpool.py\", line 1097, in _validate_conn\n",
            "    conn.connect()\n",
            "  File \"/usr/local/lib/python3.10/dist-packages/urllib3/connection.py\", line 642, in connect\n",
            "    sock_and_verified = _ssl_wrap_socket_and_match_hostname(\n",
            "  File \"/usr/local/lib/python3.10/dist-packages/urllib3/connection.py\", line 783, in _ssl_wrap_socket_and_match_hostname\n",
            "    ssl_sock = ssl_wrap_socket(\n",
            "  File \"/usr/local/lib/python3.10/dist-packages/urllib3/util/ssl_.py\", line 471, in ssl_wrap_socket\n",
            "    ssl_sock = _ssl_wrap_socket_impl(sock, context, tls_in_tls, server_hostname)\n",
            "  File \"/usr/local/lib/python3.10/dist-packages/urllib3/util/ssl_.py\", line 515, in _ssl_wrap_socket_impl\n",
            "    return ssl_context.wrap_socket(sock, server_hostname=server_hostname)\n",
            "  File \"/usr/lib/python3.10/ssl.py\", line 513, in wrap_socket\n",
            "    return self.sslsocket_class._create(\n",
            "  File \"/usr/lib/python3.10/ssl.py\", line 1100, in _create\n",
            "    self.do_handshake()\n",
            "  File \"/usr/lib/python3.10/ssl.py\", line 1371, in do_handshake\n",
            "    self._sslobj.do_handshake()\n",
            "ssl.SSLEOFError: [SSL: UNEXPECTED_EOF_WHILE_READING] EOF occurred in violation of protocol (_ssl.c:1007)\n",
            "\n",
            "During handling of the above exception, another exception occurred:\n",
            "\n",
            "Traceback (most recent call last):\n",
            "  File \"/usr/local/lib/python3.10/dist-packages/urllib3/connectionpool.py\", line 791, in urlopen\n",
            "    response = self._make_request(\n",
            "  File \"/usr/local/lib/python3.10/dist-packages/urllib3/connectionpool.py\", line 492, in _make_request\n",
            "    raise new_e\n",
            "urllib3.exceptions.SSLError: [SSL: UNEXPECTED_EOF_WHILE_READING] EOF occurred in violation of protocol (_ssl.c:1007)\n",
            "\n",
            "The above exception was the direct cause of the following exception:\n",
            "\n",
            "Traceback (most recent call last):\n",
            "  File \"/usr/local/lib/python3.10/dist-packages/requests/adapters.py\", line 486, in send\n",
            "    resp = conn.urlopen(\n",
            "  File \"/usr/local/lib/python3.10/dist-packages/urllib3/connectionpool.py\", line 845, in urlopen\n",
            "    retries = retries.increment(\n",
            "  File \"/usr/local/lib/python3.10/dist-packages/urllib3/util/retry.py\", line 515, in increment\n",
            "    raise MaxRetryError(_pool, url, reason) from reason  # type: ignore[arg-type]\n",
            "urllib3.exceptions.MaxRetryError: HTTPSConnectionPool(host='open.bigmodel.cn', port=443): Max retries exceeded with url: /api/paas/v3/model-api/-/async-invoke/10616905317062558284004896193386069 (Caused by SSLError(SSLEOFError(8, '[SSL: UNEXPECTED_EOF_WHILE_READING] EOF occurred in violation of protocol (_ssl.c:1007)')))\n",
            "\n",
            "During handling of the above exception, another exception occurred:\n",
            "\n",
            "Traceback (most recent call last):\n",
            "  File \"/usr/local/lib/python3.10/dist-packages/zhipuai/utils/http_client.py\", line 45, in get\n",
            "    resp = requests.get(api_url, headers=headers, timeout=timeout)\n",
            "  File \"/usr/local/lib/python3.10/dist-packages/requests/api.py\", line 73, in get\n",
            "    return request(\"get\", url, params=params, **kwargs)\n",
            "  File \"/usr/local/lib/python3.10/dist-packages/requests/api.py\", line 59, in request\n",
            "    return session.request(method=method, url=url, **kwargs)\n",
            "  File \"/usr/local/lib/python3.10/dist-packages/requests/sessions.py\", line 589, in request\n",
            "    resp = self.send(prep, **send_kwargs)\n",
            "  File \"/usr/local/lib/python3.10/dist-packages/requests/sessions.py\", line 703, in send\n",
            "    r = adapter.send(request, **kwargs)\n",
            "  File \"/usr/local/lib/python3.10/dist-packages/requests/adapters.py\", line 517, in send\n",
            "    raise SSLError(e, request=request)\n",
            "requests.exceptions.SSLError: HTTPSConnectionPool(host='open.bigmodel.cn', port=443): Max retries exceeded with url: /api/paas/v3/model-api/-/async-invoke/10616905317062558284004896193386069 (Caused by SSLError(SSLEOFError(8, '[SSL: UNEXPECTED_EOF_WHILE_READING] EOF occurred in violation of protocol (_ssl.c:1007)')))\n",
            "\n",
            "During handling of the above exception, another exception occurred:\n",
            "\n",
            "Traceback (most recent call last):\n",
            "  File \"/usr/lib/python3.10/logging/__init__.py\", line 1100, in emit\n",
            "    msg = self.format(record)\n",
            "  File \"/usr/lib/python3.10/logging/__init__.py\", line 943, in format\n",
            "    return fmt.format(record)\n",
            "  File \"/usr/lib/python3.10/logging/__init__.py\", line 678, in format\n",
            "    record.message = record.getMessage()\n",
            "  File \"/usr/lib/python3.10/logging/__init__.py\", line 368, in getMessage\n",
            "    msg = msg % self.args\n",
            "TypeError: not all arguments converted during string formatting\n",
            "Call stack:\n",
            "  File \"/usr/lib/python3.10/threading.py\", line 973, in _bootstrap\n",
            "    self._bootstrap_inner()\n",
            "  File \"/usr/lib/python3.10/threading.py\", line 1016, in _bootstrap_inner\n",
            "    self.run()\n",
            "  File \"/usr/lib/python3.10/threading.py\", line 953, in run\n",
            "    self._target(*self._args, **self._kwargs)\n",
            "  File \"/usr/lib/python3.10/concurrent/futures/thread.py\", line 83, in _worker\n",
            "    work_item.run()\n",
            "  File \"/usr/lib/python3.10/concurrent/futures/thread.py\", line 58, in run\n",
            "    result = self.fn(*self.args, **self.kwargs)\n",
            "  File \"/usr/local/lib/python3.10/dist-packages/zhipuai/model_api/api.py\", line 30, in query_async_invoke_result\n",
            "    return get(url, cls._generate_token(), zhipuai.api_timeout_seconds)\n",
            "  File \"/usr/local/lib/python3.10/dist-packages/zhipuai/utils/http_client.py\", line 50, in get\n",
            "    logging.exception(\"请求异常\", e)\n",
            "Message: '请求异常'\n",
            "Arguments: (SSLError(MaxRetryError(\"HTTPSConnectionPool(host='open.bigmodel.cn', port=443): Max retries exceeded with url: /api/paas/v3/model-api/-/async-invoke/10616905317062558284004896193386069 (Caused by SSLError(SSLEOFError(8, '[SSL: UNEXPECTED_EOF_WHILE_READING] EOF occurred in violation of protocol (_ssl.c:1007)')))\")),)\n",
            "Processing items:  14%|█▍        | 86/600 [10:27<08:39,  1.01s/it]"
          ]
        },
        {
          "output_type": "stream",
          "name": "stdout",
          "text": [
            "Error processing entry: argument of type 'NoneType' is not iterable\n",
            "failed to send request,  克莱尔   Amanogawa Shiina\n"
          ]
        },
        {
          "output_type": "stream",
          "name": "stderr",
          "text": [
            "--- Logging error ---\n",
            "Traceback (most recent call last):\n",
            "  File \"/usr/local/lib/python3.10/dist-packages/urllib3/connectionpool.py\", line 537, in _make_request\n",
            "    response = conn.getresponse()\n",
            "  File \"/usr/local/lib/python3.10/dist-packages/urllib3/connection.py\", line 461, in getresponse\n",
            "    httplib_response = super().getresponse()\n",
            "  File \"/usr/lib/python3.10/http/client.py\", line 1375, in getresponse\n",
            "    response.begin()\n",
            "  File \"/usr/lib/python3.10/http/client.py\", line 318, in begin\n",
            "    version, status, reason = self._read_status()\n",
            "  File \"/usr/lib/python3.10/http/client.py\", line 279, in _read_status\n",
            "    line = str(self.fp.readline(_MAXLINE + 1), \"iso-8859-1\")\n",
            "  File \"/usr/lib/python3.10/socket.py\", line 705, in readinto\n",
            "    return self._sock.recv_into(b)\n",
            "  File \"/usr/lib/python3.10/ssl.py\", line 1303, in recv_into\n",
            "    return self.read(nbytes, buffer)\n",
            "  File \"/usr/lib/python3.10/ssl.py\", line 1159, in read\n",
            "    return self._sslobj.read(len, buffer)\n",
            "TimeoutError: The read operation timed out\n",
            "\n",
            "The above exception was the direct cause of the following exception:\n",
            "\n",
            "Traceback (most recent call last):\n",
            "  File \"/usr/local/lib/python3.10/dist-packages/requests/adapters.py\", line 486, in send\n",
            "    resp = conn.urlopen(\n",
            "  File \"/usr/local/lib/python3.10/dist-packages/urllib3/connectionpool.py\", line 845, in urlopen\n",
            "    retries = retries.increment(\n",
            "  File \"/usr/local/lib/python3.10/dist-packages/urllib3/util/retry.py\", line 470, in increment\n",
            "    raise reraise(type(error), error, _stacktrace)\n",
            "  File \"/usr/local/lib/python3.10/dist-packages/urllib3/util/util.py\", line 39, in reraise\n",
            "    raise value\n",
            "  File \"/usr/local/lib/python3.10/dist-packages/urllib3/connectionpool.py\", line 791, in urlopen\n",
            "    response = self._make_request(\n",
            "  File \"/usr/local/lib/python3.10/dist-packages/urllib3/connectionpool.py\", line 539, in _make_request\n",
            "    self._raise_timeout(err=e, url=url, timeout_value=read_timeout)\n",
            "  File \"/usr/local/lib/python3.10/dist-packages/urllib3/connectionpool.py\", line 371, in _raise_timeout\n",
            "    raise ReadTimeoutError(\n",
            "urllib3.exceptions.ReadTimeoutError: HTTPSConnectionPool(host='open.bigmodel.cn', port=443): Read timed out. (read timeout=300)\n",
            "\n",
            "During handling of the above exception, another exception occurred:\n",
            "\n",
            "Traceback (most recent call last):\n",
            "  File \"/usr/local/lib/python3.10/dist-packages/zhipuai/utils/http_client.py\", line 16, in post\n",
            "    resp = requests.post(\n",
            "  File \"/usr/local/lib/python3.10/dist-packages/requests/api.py\", line 115, in post\n",
            "    return request(\"post\", url, data=data, json=json, **kwargs)\n",
            "  File \"/usr/local/lib/python3.10/dist-packages/requests/api.py\", line 59, in request\n",
            "    return session.request(method=method, url=url, **kwargs)\n",
            "  File \"/usr/local/lib/python3.10/dist-packages/requests/sessions.py\", line 589, in request\n",
            "    resp = self.send(prep, **send_kwargs)\n",
            "  File \"/usr/local/lib/python3.10/dist-packages/requests/sessions.py\", line 703, in send\n",
            "    r = adapter.send(request, **kwargs)\n",
            "  File \"/usr/local/lib/python3.10/dist-packages/requests/adapters.py\", line 532, in send\n",
            "    raise ReadTimeout(e, request=request)\n",
            "requests.exceptions.ReadTimeout: HTTPSConnectionPool(host='open.bigmodel.cn', port=443): Read timed out. (read timeout=300)\n",
            "\n",
            "During handling of the above exception, another exception occurred:\n",
            "\n",
            "Traceback (most recent call last):\n",
            "  File \"/usr/lib/python3.10/logging/__init__.py\", line 1100, in emit\n",
            "    msg = self.format(record)\n",
            "  File \"/usr/lib/python3.10/logging/__init__.py\", line 943, in format\n",
            "    return fmt.format(record)\n",
            "  File \"/usr/lib/python3.10/logging/__init__.py\", line 678, in format\n",
            "    record.message = record.getMessage()\n",
            "  File \"/usr/lib/python3.10/logging/__init__.py\", line 368, in getMessage\n",
            "    msg = msg % self.args\n",
            "TypeError: not all arguments converted during string formatting\n",
            "Call stack:\n",
            "  File \"/usr/lib/python3.10/threading.py\", line 973, in _bootstrap\n",
            "    self._bootstrap_inner()\n",
            "  File \"/usr/lib/python3.10/threading.py\", line 1016, in _bootstrap_inner\n",
            "    self.run()\n",
            "  File \"/usr/lib/python3.10/threading.py\", line 953, in run\n",
            "    self._target(*self._args, **self._kwargs)\n",
            "  File \"/usr/lib/python3.10/concurrent/futures/thread.py\", line 83, in _worker\n",
            "    work_item.run()\n",
            "  File \"/usr/lib/python3.10/concurrent/futures/thread.py\", line 58, in run\n",
            "    result = self.fn(*self.args, **self.kwargs)\n",
            "  File \"/usr/local/lib/python3.10/dist-packages/zhipuai/model_api/api.py\", line 25, in async_invoke\n",
            "    return post(url, cls._generate_token(), kwargs, zhipuai.api_timeout_seconds)\n",
            "  File \"/usr/local/lib/python3.10/dist-packages/zhipuai/utils/http_client.py\", line 23, in post\n",
            "    logging.exception(\"请求异常\", e)\n",
            "Message: '请求异常'\n",
            "Arguments: (ReadTimeout(ReadTimeoutError(\"HTTPSConnectionPool(host='open.bigmodel.cn', port=443): Read timed out. (read timeout=300)\")),)\n"
          ]
        },
        {
          "output_type": "stream",
          "name": "stdout",
          "text": [
            "failed to send request,  杰克   大雄\n"
          ]
        },
        {
          "output_type": "stream",
          "name": "stderr",
          "text": [
            "--- Logging error ---\n",
            "Traceback (most recent call last):\n",
            "  File \"/usr/local/lib/python3.10/dist-packages/urllib3/connectionpool.py\", line 468, in _make_request\n",
            "    self._validate_conn(conn)\n",
            "  File \"/usr/local/lib/python3.10/dist-packages/urllib3/connectionpool.py\", line 1097, in _validate_conn\n",
            "    conn.connect()\n",
            "  File \"/usr/local/lib/python3.10/dist-packages/urllib3/connection.py\", line 642, in connect\n",
            "    sock_and_verified = _ssl_wrap_socket_and_match_hostname(\n",
            "  File \"/usr/local/lib/python3.10/dist-packages/urllib3/connection.py\", line 783, in _ssl_wrap_socket_and_match_hostname\n",
            "    ssl_sock = ssl_wrap_socket(\n",
            "  File \"/usr/local/lib/python3.10/dist-packages/urllib3/util/ssl_.py\", line 471, in ssl_wrap_socket\n",
            "    ssl_sock = _ssl_wrap_socket_impl(sock, context, tls_in_tls, server_hostname)\n",
            "  File \"/usr/local/lib/python3.10/dist-packages/urllib3/util/ssl_.py\", line 515, in _ssl_wrap_socket_impl\n",
            "    return ssl_context.wrap_socket(sock, server_hostname=server_hostname)\n",
            "  File \"/usr/lib/python3.10/ssl.py\", line 513, in wrap_socket\n",
            "    return self.sslsocket_class._create(\n",
            "  File \"/usr/lib/python3.10/ssl.py\", line 1100, in _create\n",
            "    self.do_handshake()\n",
            "  File \"/usr/lib/python3.10/ssl.py\", line 1371, in do_handshake\n",
            "    self._sslobj.do_handshake()\n",
            "ssl.SSLEOFError: [SSL: UNEXPECTED_EOF_WHILE_READING] EOF occurred in violation of protocol (_ssl.c:1007)\n",
            "\n",
            "During handling of the above exception, another exception occurred:\n",
            "\n",
            "Traceback (most recent call last):\n",
            "  File \"/usr/local/lib/python3.10/dist-packages/urllib3/connectionpool.py\", line 791, in urlopen\n",
            "    response = self._make_request(\n",
            "  File \"/usr/local/lib/python3.10/dist-packages/urllib3/connectionpool.py\", line 492, in _make_request\n",
            "    raise new_e\n",
            "urllib3.exceptions.SSLError: [SSL: UNEXPECTED_EOF_WHILE_READING] EOF occurred in violation of protocol (_ssl.c:1007)\n",
            "\n",
            "The above exception was the direct cause of the following exception:\n",
            "\n",
            "Traceback (most recent call last):\n",
            "  File \"/usr/local/lib/python3.10/dist-packages/requests/adapters.py\", line 486, in send\n",
            "    resp = conn.urlopen(\n",
            "  File \"/usr/local/lib/python3.10/dist-packages/urllib3/connectionpool.py\", line 845, in urlopen\n",
            "    retries = retries.increment(\n",
            "  File \"/usr/local/lib/python3.10/dist-packages/urllib3/util/retry.py\", line 515, in increment\n",
            "    raise MaxRetryError(_pool, url, reason) from reason  # type: ignore[arg-type]\n",
            "urllib3.exceptions.MaxRetryError: HTTPSConnectionPool(host='open.bigmodel.cn', port=443): Max retries exceeded with url: /api/paas/v3/model-api/characterglm/async-invoke (Caused by SSLError(SSLEOFError(8, '[SSL: UNEXPECTED_EOF_WHILE_READING] EOF occurred in violation of protocol (_ssl.c:1007)')))\n",
            "\n",
            "During handling of the above exception, another exception occurred:\n",
            "\n",
            "Traceback (most recent call last):\n",
            "  File \"/usr/local/lib/python3.10/dist-packages/zhipuai/utils/http_client.py\", line 16, in post\n",
            "    resp = requests.post(\n",
            "  File \"/usr/local/lib/python3.10/dist-packages/requests/api.py\", line 115, in post\n",
            "    return request(\"post\", url, data=data, json=json, **kwargs)\n",
            "  File \"/usr/local/lib/python3.10/dist-packages/requests/api.py\", line 59, in request\n",
            "    return session.request(method=method, url=url, **kwargs)\n",
            "  File \"/usr/local/lib/python3.10/dist-packages/requests/sessions.py\", line 589, in request\n",
            "    resp = self.send(prep, **send_kwargs)\n",
            "  File \"/usr/local/lib/python3.10/dist-packages/requests/sessions.py\", line 703, in send\n",
            "    r = adapter.send(request, **kwargs)\n",
            "  File \"/usr/local/lib/python3.10/dist-packages/requests/adapters.py\", line 517, in send\n",
            "    raise SSLError(e, request=request)\n",
            "requests.exceptions.SSLError: HTTPSConnectionPool(host='open.bigmodel.cn', port=443): Max retries exceeded with url: /api/paas/v3/model-api/characterglm/async-invoke (Caused by SSLError(SSLEOFError(8, '[SSL: UNEXPECTED_EOF_WHILE_READING] EOF occurred in violation of protocol (_ssl.c:1007)')))\n",
            "\n",
            "During handling of the above exception, another exception occurred:\n",
            "\n",
            "Traceback (most recent call last):\n",
            "  File \"/usr/lib/python3.10/logging/__init__.py\", line 1100, in emit\n",
            "    msg = self.format(record)\n",
            "  File \"/usr/lib/python3.10/logging/__init__.py\", line 943, in format\n",
            "    return fmt.format(record)\n",
            "  File \"/usr/lib/python3.10/logging/__init__.py\", line 678, in format\n",
            "    record.message = record.getMessage()\n",
            "  File \"/usr/lib/python3.10/logging/__init__.py\", line 368, in getMessage\n",
            "    msg = msg % self.args\n",
            "TypeError: not all arguments converted during string formatting\n",
            "Call stack:\n",
            "  File \"/usr/lib/python3.10/threading.py\", line 973, in _bootstrap\n",
            "    self._bootstrap_inner()\n",
            "  File \"/usr/lib/python3.10/threading.py\", line 1016, in _bootstrap_inner\n",
            "    self.run()\n",
            "  File \"/usr/lib/python3.10/threading.py\", line 953, in run\n",
            "    self._target(*self._args, **self._kwargs)\n",
            "  File \"/usr/lib/python3.10/concurrent/futures/thread.py\", line 83, in _worker\n",
            "    work_item.run()\n",
            "  File \"/usr/lib/python3.10/concurrent/futures/thread.py\", line 58, in run\n",
            "    result = self.fn(*self.args, **self.kwargs)\n",
            "  File \"/usr/local/lib/python3.10/dist-packages/zhipuai/model_api/api.py\", line 25, in async_invoke\n",
            "    return post(url, cls._generate_token(), kwargs, zhipuai.api_timeout_seconds)\n",
            "  File \"/usr/local/lib/python3.10/dist-packages/zhipuai/utils/http_client.py\", line 23, in post\n",
            "    logging.exception(\"请求异常\", e)\n",
            "Message: '请求异常'\n",
            "Arguments: (SSLError(MaxRetryError(\"HTTPSConnectionPool(host='open.bigmodel.cn', port=443): Max retries exceeded with url: /api/paas/v3/model-api/characterglm/async-invoke (Caused by SSLError(SSLEOFError(8, '[SSL: UNEXPECTED_EOF_WHILE_READING] EOF occurred in violation of protocol (_ssl.c:1007)')))\")),)\n"
          ]
        },
        {
          "output_type": "stream",
          "name": "stdout",
          "text": [
            "failed to send request,  亚伦米尔顿   Mercedes-Chan\n"
          ]
        },
        {
          "output_type": "stream",
          "name": "stderr",
          "text": [
            "--- Logging error ---\n",
            "Traceback (most recent call last):\n",
            "  File \"/usr/local/lib/python3.10/dist-packages/urllib3/connectionpool.py\", line 791, in urlopen\n",
            "    response = self._make_request(\n",
            "  File \"/usr/local/lib/python3.10/dist-packages/urllib3/connectionpool.py\", line 537, in _make_request\n",
            "    response = conn.getresponse()\n",
            "  File \"/usr/local/lib/python3.10/dist-packages/urllib3/connection.py\", line 461, in getresponse\n",
            "    httplib_response = super().getresponse()\n",
            "  File \"/usr/lib/python3.10/http/client.py\", line 1375, in getresponse\n",
            "    response.begin()\n",
            "  File \"/usr/lib/python3.10/http/client.py\", line 318, in begin\n",
            "    version, status, reason = self._read_status()\n",
            "  File \"/usr/lib/python3.10/http/client.py\", line 287, in _read_status\n",
            "    raise RemoteDisconnected(\"Remote end closed connection without\"\n",
            "http.client.RemoteDisconnected: Remote end closed connection without response\n",
            "\n",
            "During handling of the above exception, another exception occurred:\n",
            "\n",
            "Traceback (most recent call last):\n",
            "  File \"/usr/local/lib/python3.10/dist-packages/requests/adapters.py\", line 486, in send\n",
            "    resp = conn.urlopen(\n",
            "  File \"/usr/local/lib/python3.10/dist-packages/urllib3/connectionpool.py\", line 845, in urlopen\n",
            "    retries = retries.increment(\n",
            "  File \"/usr/local/lib/python3.10/dist-packages/urllib3/util/retry.py\", line 470, in increment\n",
            "    raise reraise(type(error), error, _stacktrace)\n",
            "  File \"/usr/local/lib/python3.10/dist-packages/urllib3/util/util.py\", line 38, in reraise\n",
            "    raise value.with_traceback(tb)\n",
            "  File \"/usr/local/lib/python3.10/dist-packages/urllib3/connectionpool.py\", line 791, in urlopen\n",
            "    response = self._make_request(\n",
            "  File \"/usr/local/lib/python3.10/dist-packages/urllib3/connectionpool.py\", line 537, in _make_request\n",
            "    response = conn.getresponse()\n",
            "  File \"/usr/local/lib/python3.10/dist-packages/urllib3/connection.py\", line 461, in getresponse\n",
            "    httplib_response = super().getresponse()\n",
            "  File \"/usr/lib/python3.10/http/client.py\", line 1375, in getresponse\n",
            "    response.begin()\n",
            "  File \"/usr/lib/python3.10/http/client.py\", line 318, in begin\n",
            "    version, status, reason = self._read_status()\n",
            "  File \"/usr/lib/python3.10/http/client.py\", line 287, in _read_status\n",
            "    raise RemoteDisconnected(\"Remote end closed connection without\"\n",
            "urllib3.exceptions.ProtocolError: ('Connection aborted.', RemoteDisconnected('Remote end closed connection without response'))\n",
            "\n",
            "During handling of the above exception, another exception occurred:\n",
            "\n",
            "Traceback (most recent call last):\n",
            "  File \"/usr/local/lib/python3.10/dist-packages/zhipuai/utils/http_client.py\", line 16, in post\n",
            "    resp = requests.post(\n",
            "  File \"/usr/local/lib/python3.10/dist-packages/requests/api.py\", line 115, in post\n",
            "    return request(\"post\", url, data=data, json=json, **kwargs)\n",
            "  File \"/usr/local/lib/python3.10/dist-packages/requests/api.py\", line 59, in request\n",
            "    return session.request(method=method, url=url, **kwargs)\n",
            "  File \"/usr/local/lib/python3.10/dist-packages/requests/sessions.py\", line 589, in request\n",
            "    resp = self.send(prep, **send_kwargs)\n",
            "  File \"/usr/local/lib/python3.10/dist-packages/requests/sessions.py\", line 703, in send\n",
            "    r = adapter.send(request, **kwargs)\n",
            "  File \"/usr/local/lib/python3.10/dist-packages/requests/adapters.py\", line 501, in send\n",
            "    raise ConnectionError(err, request=request)\n",
            "requests.exceptions.ConnectionError: ('Connection aborted.', RemoteDisconnected('Remote end closed connection without response'))\n",
            "\n",
            "During handling of the above exception, another exception occurred:\n",
            "\n",
            "Traceback (most recent call last):\n",
            "  File \"/usr/lib/python3.10/logging/__init__.py\", line 1100, in emit\n",
            "    msg = self.format(record)\n",
            "  File \"/usr/lib/python3.10/logging/__init__.py\", line 943, in format\n",
            "    return fmt.format(record)\n",
            "  File \"/usr/lib/python3.10/logging/__init__.py\", line 678, in format\n",
            "    record.message = record.getMessage()\n",
            "  File \"/usr/lib/python3.10/logging/__init__.py\", line 368, in getMessage\n",
            "    msg = msg % self.args\n",
            "TypeError: not all arguments converted during string formatting\n",
            "Call stack:\n",
            "  File \"/usr/lib/python3.10/threading.py\", line 973, in _bootstrap\n",
            "    self._bootstrap_inner()\n",
            "  File \"/usr/lib/python3.10/threading.py\", line 1016, in _bootstrap_inner\n",
            "    self.run()\n",
            "  File \"/usr/lib/python3.10/threading.py\", line 953, in run\n",
            "    self._target(*self._args, **self._kwargs)\n",
            "  File \"/usr/lib/python3.10/concurrent/futures/thread.py\", line 83, in _worker\n",
            "    work_item.run()\n",
            "  File \"/usr/lib/python3.10/concurrent/futures/thread.py\", line 58, in run\n",
            "    result = self.fn(*self.args, **self.kwargs)\n",
            "  File \"/usr/local/lib/python3.10/dist-packages/zhipuai/model_api/api.py\", line 25, in async_invoke\n",
            "    return post(url, cls._generate_token(), kwargs, zhipuai.api_timeout_seconds)\n",
            "  File \"/usr/local/lib/python3.10/dist-packages/zhipuai/utils/http_client.py\", line 23, in post\n",
            "    logging.exception(\"请求异常\", e)\n",
            "Message: '请求异常'\n",
            "Arguments: (ConnectionError(ProtocolError('Connection aborted.', RemoteDisconnected('Remote end closed connection without response'))),)\n"
          ]
        },
        {
          "output_type": "stream",
          "name": "stdout",
          "text": [
            "failed to send request,  斯卡特   Hitori Gotoh\n"
          ]
        },
        {
          "output_type": "stream",
          "name": "stderr",
          "text": [
            "--- Logging error ---\n",
            "Traceback (most recent call last):\n",
            "  File \"/usr/local/lib/python3.10/dist-packages/urllib3/connectionpool.py\", line 468, in _make_request\n",
            "    self._validate_conn(conn)\n",
            "  File \"/usr/local/lib/python3.10/dist-packages/urllib3/connectionpool.py\", line 1097, in _validate_conn\n",
            "    conn.connect()\n",
            "  File \"/usr/local/lib/python3.10/dist-packages/urllib3/connection.py\", line 642, in connect\n",
            "    sock_and_verified = _ssl_wrap_socket_and_match_hostname(\n",
            "  File \"/usr/local/lib/python3.10/dist-packages/urllib3/connection.py\", line 783, in _ssl_wrap_socket_and_match_hostname\n",
            "    ssl_sock = ssl_wrap_socket(\n",
            "  File \"/usr/local/lib/python3.10/dist-packages/urllib3/util/ssl_.py\", line 471, in ssl_wrap_socket\n",
            "    ssl_sock = _ssl_wrap_socket_impl(sock, context, tls_in_tls, server_hostname)\n",
            "  File \"/usr/local/lib/python3.10/dist-packages/urllib3/util/ssl_.py\", line 515, in _ssl_wrap_socket_impl\n",
            "    return ssl_context.wrap_socket(sock, server_hostname=server_hostname)\n",
            "  File \"/usr/lib/python3.10/ssl.py\", line 513, in wrap_socket\n",
            "    return self.sslsocket_class._create(\n",
            "  File \"/usr/lib/python3.10/ssl.py\", line 1100, in _create\n",
            "    self.do_handshake()\n",
            "  File \"/usr/lib/python3.10/ssl.py\", line 1371, in do_handshake\n",
            "    self._sslobj.do_handshake()\n",
            "ssl.SSLEOFError: [SSL: UNEXPECTED_EOF_WHILE_READING] EOF occurred in violation of protocol (_ssl.c:1007)\n",
            "\n",
            "During handling of the above exception, another exception occurred:\n",
            "\n",
            "Traceback (most recent call last):\n",
            "  File \"/usr/local/lib/python3.10/dist-packages/urllib3/connectionpool.py\", line 791, in urlopen\n",
            "    response = self._make_request(\n",
            "  File \"/usr/local/lib/python3.10/dist-packages/urllib3/connectionpool.py\", line 492, in _make_request\n",
            "    raise new_e\n",
            "urllib3.exceptions.SSLError: [SSL: UNEXPECTED_EOF_WHILE_READING] EOF occurred in violation of protocol (_ssl.c:1007)\n",
            "\n",
            "The above exception was the direct cause of the following exception:\n",
            "\n",
            "Traceback (most recent call last):\n",
            "  File \"/usr/local/lib/python3.10/dist-packages/requests/adapters.py\", line 486, in send\n",
            "    resp = conn.urlopen(\n",
            "  File \"/usr/local/lib/python3.10/dist-packages/urllib3/connectionpool.py\", line 845, in urlopen\n",
            "    retries = retries.increment(\n",
            "  File \"/usr/local/lib/python3.10/dist-packages/urllib3/util/retry.py\", line 515, in increment\n",
            "    raise MaxRetryError(_pool, url, reason) from reason  # type: ignore[arg-type]\n",
            "urllib3.exceptions.MaxRetryError: HTTPSConnectionPool(host='open.bigmodel.cn', port=443): Max retries exceeded with url: /api/paas/v3/model-api/characterglm/async-invoke (Caused by SSLError(SSLEOFError(8, '[SSL: UNEXPECTED_EOF_WHILE_READING] EOF occurred in violation of protocol (_ssl.c:1007)')))\n",
            "\n",
            "During handling of the above exception, another exception occurred:\n",
            "\n",
            "Traceback (most recent call last):\n",
            "  File \"/usr/local/lib/python3.10/dist-packages/zhipuai/utils/http_client.py\", line 16, in post\n",
            "    resp = requests.post(\n",
            "  File \"/usr/local/lib/python3.10/dist-packages/requests/api.py\", line 115, in post\n",
            "    return request(\"post\", url, data=data, json=json, **kwargs)\n",
            "  File \"/usr/local/lib/python3.10/dist-packages/requests/api.py\", line 59, in request\n",
            "    return session.request(method=method, url=url, **kwargs)\n",
            "  File \"/usr/local/lib/python3.10/dist-packages/requests/sessions.py\", line 589, in request\n",
            "    resp = self.send(prep, **send_kwargs)\n",
            "  File \"/usr/local/lib/python3.10/dist-packages/requests/sessions.py\", line 703, in send\n",
            "    r = adapter.send(request, **kwargs)\n",
            "  File \"/usr/local/lib/python3.10/dist-packages/requests/adapters.py\", line 517, in send\n",
            "    raise SSLError(e, request=request)\n",
            "requests.exceptions.SSLError: HTTPSConnectionPool(host='open.bigmodel.cn', port=443): Max retries exceeded with url: /api/paas/v3/model-api/characterglm/async-invoke (Caused by SSLError(SSLEOFError(8, '[SSL: UNEXPECTED_EOF_WHILE_READING] EOF occurred in violation of protocol (_ssl.c:1007)')))\n",
            "\n",
            "During handling of the above exception, another exception occurred:\n",
            "\n",
            "Traceback (most recent call last):\n",
            "  File \"/usr/lib/python3.10/logging/__init__.py\", line 1100, in emit\n",
            "    msg = self.format(record)\n",
            "  File \"/usr/lib/python3.10/logging/__init__.py\", line 943, in format\n",
            "    return fmt.format(record)\n",
            "  File \"/usr/lib/python3.10/logging/__init__.py\", line 678, in format\n",
            "    record.message = record.getMessage()\n",
            "  File \"/usr/lib/python3.10/logging/__init__.py\", line 368, in getMessage\n",
            "    msg = msg % self.args\n",
            "TypeError: not all arguments converted during string formatting\n",
            "Call stack:\n",
            "  File \"/usr/lib/python3.10/threading.py\", line 973, in _bootstrap\n",
            "    self._bootstrap_inner()\n",
            "  File \"/usr/lib/python3.10/threading.py\", line 1016, in _bootstrap_inner\n",
            "    self.run()\n",
            "  File \"/usr/lib/python3.10/threading.py\", line 953, in run\n",
            "    self._target(*self._args, **self._kwargs)\n",
            "  File \"/usr/lib/python3.10/concurrent/futures/thread.py\", line 83, in _worker\n",
            "    work_item.run()\n",
            "  File \"/usr/lib/python3.10/concurrent/futures/thread.py\", line 58, in run\n",
            "    result = self.fn(*self.args, **self.kwargs)\n",
            "  File \"/usr/local/lib/python3.10/dist-packages/zhipuai/model_api/api.py\", line 25, in async_invoke\n",
            "    return post(url, cls._generate_token(), kwargs, zhipuai.api_timeout_seconds)\n",
            "  File \"/usr/local/lib/python3.10/dist-packages/zhipuai/utils/http_client.py\", line 23, in post\n",
            "    logging.exception(\"请求异常\", e)\n",
            "Message: '请求异常'\n",
            "Arguments: (SSLError(MaxRetryError(\"HTTPSConnectionPool(host='open.bigmodel.cn', port=443): Max retries exceeded with url: /api/paas/v3/model-api/characterglm/async-invoke (Caused by SSLError(SSLEOFError(8, '[SSL: UNEXPECTED_EOF_WHILE_READING] EOF occurred in violation of protocol (_ssl.c:1007)')))\")),)\n"
          ]
        },
        {
          "output_type": "stream",
          "name": "stdout",
          "text": [
            "failed to send request,  尼爾·卡夫瑞   Chirico Cuvie\n"
          ]
        },
        {
          "output_type": "stream",
          "name": "stderr",
          "text": [
            "--- Logging error ---\n",
            "Traceback (most recent call last):\n",
            "  File \"/usr/local/lib/python3.10/dist-packages/urllib3/connectionpool.py\", line 791, in urlopen\n",
            "    response = self._make_request(\n",
            "  File \"/usr/local/lib/python3.10/dist-packages/urllib3/connectionpool.py\", line 537, in _make_request\n",
            "    response = conn.getresponse()\n",
            "  File \"/usr/local/lib/python3.10/dist-packages/urllib3/connection.py\", line 461, in getresponse\n",
            "    httplib_response = super().getresponse()\n",
            "  File \"/usr/lib/python3.10/http/client.py\", line 1375, in getresponse\n",
            "    response.begin()\n",
            "  File \"/usr/lib/python3.10/http/client.py\", line 318, in begin\n",
            "    version, status, reason = self._read_status()\n",
            "  File \"/usr/lib/python3.10/http/client.py\", line 287, in _read_status\n",
            "    raise RemoteDisconnected(\"Remote end closed connection without\"\n",
            "http.client.RemoteDisconnected: Remote end closed connection without response\n",
            "\n",
            "During handling of the above exception, another exception occurred:\n",
            "\n",
            "Traceback (most recent call last):\n",
            "  File \"/usr/local/lib/python3.10/dist-packages/requests/adapters.py\", line 486, in send\n",
            "    resp = conn.urlopen(\n",
            "  File \"/usr/local/lib/python3.10/dist-packages/urllib3/connectionpool.py\", line 845, in urlopen\n",
            "    retries = retries.increment(\n",
            "  File \"/usr/local/lib/python3.10/dist-packages/urllib3/util/retry.py\", line 470, in increment\n",
            "    raise reraise(type(error), error, _stacktrace)\n",
            "  File \"/usr/local/lib/python3.10/dist-packages/urllib3/util/util.py\", line 38, in reraise\n",
            "    raise value.with_traceback(tb)\n",
            "  File \"/usr/local/lib/python3.10/dist-packages/urllib3/connectionpool.py\", line 791, in urlopen\n",
            "    response = self._make_request(\n",
            "  File \"/usr/local/lib/python3.10/dist-packages/urllib3/connectionpool.py\", line 537, in _make_request\n",
            "    response = conn.getresponse()\n",
            "  File \"/usr/local/lib/python3.10/dist-packages/urllib3/connection.py\", line 461, in getresponse\n",
            "    httplib_response = super().getresponse()\n",
            "  File \"/usr/lib/python3.10/http/client.py\", line 1375, in getresponse\n",
            "    response.begin()\n",
            "  File \"/usr/lib/python3.10/http/client.py\", line 318, in begin\n",
            "    version, status, reason = self._read_status()\n",
            "  File \"/usr/lib/python3.10/http/client.py\", line 287, in _read_status\n",
            "    raise RemoteDisconnected(\"Remote end closed connection without\"\n",
            "urllib3.exceptions.ProtocolError: ('Connection aborted.', RemoteDisconnected('Remote end closed connection without response'))\n",
            "\n",
            "During handling of the above exception, another exception occurred:\n",
            "\n",
            "Traceback (most recent call last):\n",
            "  File \"/usr/local/lib/python3.10/dist-packages/zhipuai/utils/http_client.py\", line 45, in get\n",
            "    resp = requests.get(api_url, headers=headers, timeout=timeout)\n",
            "  File \"/usr/local/lib/python3.10/dist-packages/requests/api.py\", line 73, in get\n",
            "    return request(\"get\", url, params=params, **kwargs)\n",
            "  File \"/usr/local/lib/python3.10/dist-packages/requests/api.py\", line 59, in request\n",
            "    return session.request(method=method, url=url, **kwargs)\n",
            "  File \"/usr/local/lib/python3.10/dist-packages/requests/sessions.py\", line 589, in request\n",
            "    resp = self.send(prep, **send_kwargs)\n",
            "  File \"/usr/local/lib/python3.10/dist-packages/requests/sessions.py\", line 703, in send\n",
            "    r = adapter.send(request, **kwargs)\n",
            "  File \"/usr/local/lib/python3.10/dist-packages/requests/adapters.py\", line 501, in send\n",
            "    raise ConnectionError(err, request=request)\n",
            "requests.exceptions.ConnectionError: ('Connection aborted.', RemoteDisconnected('Remote end closed connection without response'))\n",
            "\n",
            "During handling of the above exception, another exception occurred:\n",
            "\n",
            "Traceback (most recent call last):\n",
            "  File \"/usr/lib/python3.10/logging/__init__.py\", line 1100, in emit\n",
            "    msg = self.format(record)\n",
            "  File \"/usr/lib/python3.10/logging/__init__.py\", line 943, in format\n",
            "    return fmt.format(record)\n",
            "  File \"/usr/lib/python3.10/logging/__init__.py\", line 678, in format\n",
            "    record.message = record.getMessage()\n",
            "  File \"/usr/lib/python3.10/logging/__init__.py\", line 368, in getMessage\n",
            "    msg = msg % self.args\n",
            "TypeError: not all arguments converted during string formatting\n",
            "Call stack:\n",
            "  File \"/usr/lib/python3.10/threading.py\", line 973, in _bootstrap\n",
            "    self._bootstrap_inner()\n",
            "  File \"/usr/lib/python3.10/threading.py\", line 1016, in _bootstrap_inner\n",
            "    self.run()\n",
            "  File \"/usr/lib/python3.10/threading.py\", line 953, in run\n",
            "    self._target(*self._args, **self._kwargs)\n",
            "  File \"/usr/lib/python3.10/concurrent/futures/thread.py\", line 83, in _worker\n",
            "    work_item.run()\n",
            "  File \"/usr/lib/python3.10/concurrent/futures/thread.py\", line 58, in run\n",
            "    result = self.fn(*self.args, **self.kwargs)\n",
            "  File \"/usr/local/lib/python3.10/dist-packages/zhipuai/model_api/api.py\", line 30, in query_async_invoke_result\n",
            "    return get(url, cls._generate_token(), zhipuai.api_timeout_seconds)\n",
            "  File \"/usr/local/lib/python3.10/dist-packages/zhipuai/utils/http_client.py\", line 50, in get\n",
            "    logging.exception(\"请求异常\", e)\n",
            "Message: '请求异常'\n",
            "Arguments: (ConnectionError(ProtocolError('Connection aborted.', RemoteDisconnected('Remote end closed connection without response'))),)\n"
          ]
        },
        {
          "output_type": "stream",
          "name": "stdout",
          "text": [
            "Error processing entry: argument of type 'NoneType' is not iterable\n"
          ]
        },
        {
          "output_type": "stream",
          "name": "stderr",
          "text": [
            "Processing items:  26%|██▋       | 159/600 [13:31<07:23,  1.01s/it]"
          ]
        },
        {
          "output_type": "stream",
          "name": "stdout",
          "text": [
            "failed to send request,  格雷戈   M4A1\n"
          ]
        },
        {
          "output_type": "stream",
          "name": "stderr",
          "text": [
            "--- Logging error ---\n",
            "Traceback (most recent call last):\n",
            "  File \"/usr/local/lib/python3.10/dist-packages/urllib3/connectionpool.py\", line 468, in _make_request\n",
            "    self._validate_conn(conn)\n",
            "  File \"/usr/local/lib/python3.10/dist-packages/urllib3/connectionpool.py\", line 1097, in _validate_conn\n",
            "    conn.connect()\n",
            "  File \"/usr/local/lib/python3.10/dist-packages/urllib3/connection.py\", line 642, in connect\n",
            "    sock_and_verified = _ssl_wrap_socket_and_match_hostname(\n",
            "  File \"/usr/local/lib/python3.10/dist-packages/urllib3/connection.py\", line 783, in _ssl_wrap_socket_and_match_hostname\n",
            "    ssl_sock = ssl_wrap_socket(\n",
            "  File \"/usr/local/lib/python3.10/dist-packages/urllib3/util/ssl_.py\", line 471, in ssl_wrap_socket\n",
            "    ssl_sock = _ssl_wrap_socket_impl(sock, context, tls_in_tls, server_hostname)\n",
            "  File \"/usr/local/lib/python3.10/dist-packages/urllib3/util/ssl_.py\", line 515, in _ssl_wrap_socket_impl\n",
            "    return ssl_context.wrap_socket(sock, server_hostname=server_hostname)\n",
            "  File \"/usr/lib/python3.10/ssl.py\", line 513, in wrap_socket\n",
            "    return self.sslsocket_class._create(\n",
            "  File \"/usr/lib/python3.10/ssl.py\", line 1100, in _create\n",
            "    self.do_handshake()\n",
            "  File \"/usr/lib/python3.10/ssl.py\", line 1371, in do_handshake\n",
            "    self._sslobj.do_handshake()\n",
            "ssl.SSLEOFError: [SSL: UNEXPECTED_EOF_WHILE_READING] EOF occurred in violation of protocol (_ssl.c:1007)\n",
            "\n",
            "During handling of the above exception, another exception occurred:\n",
            "\n",
            "Traceback (most recent call last):\n",
            "  File \"/usr/local/lib/python3.10/dist-packages/urllib3/connectionpool.py\", line 791, in urlopen\n",
            "    response = self._make_request(\n",
            "  File \"/usr/local/lib/python3.10/dist-packages/urllib3/connectionpool.py\", line 492, in _make_request\n",
            "    raise new_e\n",
            "urllib3.exceptions.SSLError: [SSL: UNEXPECTED_EOF_WHILE_READING] EOF occurred in violation of protocol (_ssl.c:1007)\n",
            "\n",
            "The above exception was the direct cause of the following exception:\n",
            "\n",
            "Traceback (most recent call last):\n",
            "  File \"/usr/local/lib/python3.10/dist-packages/requests/adapters.py\", line 486, in send\n",
            "    resp = conn.urlopen(\n",
            "  File \"/usr/local/lib/python3.10/dist-packages/urllib3/connectionpool.py\", line 845, in urlopen\n",
            "    retries = retries.increment(\n",
            "  File \"/usr/local/lib/python3.10/dist-packages/urllib3/util/retry.py\", line 515, in increment\n",
            "    raise MaxRetryError(_pool, url, reason) from reason  # type: ignore[arg-type]\n",
            "urllib3.exceptions.MaxRetryError: HTTPSConnectionPool(host='open.bigmodel.cn', port=443): Max retries exceeded with url: /api/paas/v3/model-api/characterglm/async-invoke (Caused by SSLError(SSLEOFError(8, '[SSL: UNEXPECTED_EOF_WHILE_READING] EOF occurred in violation of protocol (_ssl.c:1007)')))\n",
            "\n",
            "During handling of the above exception, another exception occurred:\n",
            "\n",
            "Traceback (most recent call last):\n",
            "  File \"/usr/local/lib/python3.10/dist-packages/zhipuai/utils/http_client.py\", line 16, in post\n",
            "    resp = requests.post(\n",
            "  File \"/usr/local/lib/python3.10/dist-packages/requests/api.py\", line 115, in post\n",
            "    return request(\"post\", url, data=data, json=json, **kwargs)\n",
            "  File \"/usr/local/lib/python3.10/dist-packages/requests/api.py\", line 59, in request\n",
            "    return session.request(method=method, url=url, **kwargs)\n",
            "  File \"/usr/local/lib/python3.10/dist-packages/requests/sessions.py\", line 589, in request\n",
            "    resp = self.send(prep, **send_kwargs)\n",
            "  File \"/usr/local/lib/python3.10/dist-packages/requests/sessions.py\", line 703, in send\n",
            "    r = adapter.send(request, **kwargs)\n",
            "  File \"/usr/local/lib/python3.10/dist-packages/requests/adapters.py\", line 517, in send\n",
            "    raise SSLError(e, request=request)\n",
            "requests.exceptions.SSLError: HTTPSConnectionPool(host='open.bigmodel.cn', port=443): Max retries exceeded with url: /api/paas/v3/model-api/characterglm/async-invoke (Caused by SSLError(SSLEOFError(8, '[SSL: UNEXPECTED_EOF_WHILE_READING] EOF occurred in violation of protocol (_ssl.c:1007)')))\n",
            "\n",
            "During handling of the above exception, another exception occurred:\n",
            "\n",
            "Traceback (most recent call last):\n",
            "  File \"/usr/lib/python3.10/logging/__init__.py\", line 1100, in emit\n",
            "    msg = self.format(record)\n",
            "  File \"/usr/lib/python3.10/logging/__init__.py\", line 943, in format\n",
            "    return fmt.format(record)\n",
            "  File \"/usr/lib/python3.10/logging/__init__.py\", line 678, in format\n",
            "    record.message = record.getMessage()\n",
            "  File \"/usr/lib/python3.10/logging/__init__.py\", line 368, in getMessage\n",
            "    msg = msg % self.args\n",
            "TypeError: not all arguments converted during string formatting\n",
            "Call stack:\n",
            "  File \"/usr/lib/python3.10/threading.py\", line 973, in _bootstrap\n",
            "    self._bootstrap_inner()\n",
            "  File \"/usr/lib/python3.10/threading.py\", line 1016, in _bootstrap_inner\n",
            "    self.run()\n",
            "  File \"/usr/lib/python3.10/threading.py\", line 953, in run\n",
            "    self._target(*self._args, **self._kwargs)\n",
            "  File \"/usr/lib/python3.10/concurrent/futures/thread.py\", line 83, in _worker\n",
            "    work_item.run()\n",
            "  File \"/usr/lib/python3.10/concurrent/futures/thread.py\", line 58, in run\n",
            "    result = self.fn(*self.args, **self.kwargs)\n",
            "  File \"/usr/local/lib/python3.10/dist-packages/zhipuai/model_api/api.py\", line 25, in async_invoke\n",
            "    return post(url, cls._generate_token(), kwargs, zhipuai.api_timeout_seconds)\n",
            "  File \"/usr/local/lib/python3.10/dist-packages/zhipuai/utils/http_client.py\", line 23, in post\n",
            "    logging.exception(\"请求异常\", e)\n",
            "Message: '请求异常'\n",
            "Arguments: (SSLError(MaxRetryError(\"HTTPSConnectionPool(host='open.bigmodel.cn', port=443): Max retries exceeded with url: /api/paas/v3/model-api/characterglm/async-invoke (Caused by SSLError(SSLEOFError(8, '[SSL: UNEXPECTED_EOF_WHILE_READING] EOF occurred in violation of protocol (_ssl.c:1007)')))\")),)\n"
          ]
        },
        {
          "output_type": "stream",
          "name": "stdout",
          "text": [
            "failed to send request,  大卫   尤尼\n",
            "failed to send request,  卢埃林   真嗣君\n"
          ]
        },
        {
          "output_type": "stream",
          "name": "stderr",
          "text": [
            "--- Logging error ---\n",
            "Traceback (most recent call last):\n",
            "  File \"/usr/local/lib/python3.10/dist-packages/urllib3/connectionpool.py\", line 791, in urlopen\n",
            "    response = self._make_request(\n",
            "  File \"/usr/local/lib/python3.10/dist-packages/urllib3/connectionpool.py\", line 537, in _make_request\n",
            "    response = conn.getresponse()\n",
            "  File \"/usr/local/lib/python3.10/dist-packages/urllib3/connection.py\", line 461, in getresponse\n",
            "    httplib_response = super().getresponse()\n",
            "  File \"/usr/lib/python3.10/http/client.py\", line 1375, in getresponse\n",
            "    response.begin()\n",
            "  File \"/usr/lib/python3.10/http/client.py\", line 318, in begin\n",
            "    version, status, reason = self._read_status()\n",
            "  File \"/usr/lib/python3.10/http/client.py\", line 287, in _read_status\n",
            "    raise RemoteDisconnected(\"Remote end closed connection without\"\n",
            "http.client.RemoteDisconnected: Remote end closed connection without response\n",
            "\n",
            "During handling of the above exception, another exception occurred:\n",
            "\n",
            "Traceback (most recent call last):\n",
            "  File \"/usr/local/lib/python3.10/dist-packages/requests/adapters.py\", line 486, in send\n",
            "    resp = conn.urlopen(\n",
            "  File \"/usr/local/lib/python3.10/dist-packages/urllib3/connectionpool.py\", line 845, in urlopen\n",
            "    retries = retries.increment(\n",
            "  File \"/usr/local/lib/python3.10/dist-packages/urllib3/util/retry.py\", line 470, in increment\n",
            "    raise reraise(type(error), error, _stacktrace)\n",
            "  File \"/usr/local/lib/python3.10/dist-packages/urllib3/util/util.py\", line 38, in reraise\n",
            "    raise value.with_traceback(tb)\n",
            "  File \"/usr/local/lib/python3.10/dist-packages/urllib3/connectionpool.py\", line 791, in urlopen\n",
            "    response = self._make_request(\n",
            "  File \"/usr/local/lib/python3.10/dist-packages/urllib3/connectionpool.py\", line 537, in _make_request\n",
            "    response = conn.getresponse()\n",
            "  File \"/usr/local/lib/python3.10/dist-packages/urllib3/connection.py\", line 461, in getresponse\n",
            "    httplib_response = super().getresponse()\n",
            "  File \"/usr/lib/python3.10/http/client.py\", line 1375, in getresponse\n",
            "    response.begin()\n",
            "  File \"/usr/lib/python3.10/http/client.py\", line 318, in begin\n",
            "    version, status, reason = self._read_status()\n",
            "  File \"/usr/lib/python3.10/http/client.py\", line 287, in _read_status\n",
            "    raise RemoteDisconnected(\"Remote end closed connection without\"\n",
            "urllib3.exceptions.ProtocolError: ('Connection aborted.', RemoteDisconnected('Remote end closed connection without response'))\n",
            "\n",
            "During handling of the above exception, another exception occurred:\n",
            "\n",
            "Traceback (most recent call last):\n",
            "  File \"/usr/local/lib/python3.10/dist-packages/zhipuai/utils/http_client.py\", line 45, in get\n",
            "    resp = requests.get(api_url, headers=headers, timeout=timeout)\n",
            "  File \"/usr/local/lib/python3.10/dist-packages/requests/api.py\", line 73, in get\n",
            "    return request(\"get\", url, params=params, **kwargs)\n",
            "  File \"/usr/local/lib/python3.10/dist-packages/requests/api.py\", line 59, in request\n",
            "    return session.request(method=method, url=url, **kwargs)\n",
            "  File \"/usr/local/lib/python3.10/dist-packages/requests/sessions.py\", line 589, in request\n",
            "    resp = self.send(prep, **send_kwargs)\n",
            "  File \"/usr/local/lib/python3.10/dist-packages/requests/sessions.py\", line 703, in send\n",
            "    r = adapter.send(request, **kwargs)\n",
            "  File \"/usr/local/lib/python3.10/dist-packages/requests/adapters.py\", line 501, in send\n",
            "    raise ConnectionError(err, request=request)\n",
            "requests.exceptions.ConnectionError: ('Connection aborted.', RemoteDisconnected('Remote end closed connection without response'))\n",
            "\n",
            "During handling of the above exception, another exception occurred:\n",
            "\n",
            "Traceback (most recent call last):\n",
            "  File \"/usr/lib/python3.10/logging/__init__.py\", line 1100, in emit\n",
            "    msg = self.format(record)\n",
            "  File \"/usr/lib/python3.10/logging/__init__.py\", line 943, in format\n",
            "    return fmt.format(record)\n",
            "  File \"/usr/lib/python3.10/logging/__init__.py\", line 678, in format\n",
            "    record.message = record.getMessage()\n",
            "  File \"/usr/lib/python3.10/logging/__init__.py\", line 368, in getMessage\n",
            "    msg = msg % self.args\n",
            "TypeError: not all arguments converted during string formatting\n",
            "Call stack:\n",
            "  File \"/usr/lib/python3.10/threading.py\", line 973, in _bootstrap\n",
            "    self._bootstrap_inner()\n",
            "  File \"/usr/lib/python3.10/threading.py\", line 1016, in _bootstrap_inner\n",
            "    self.run()\n",
            "  File \"/usr/lib/python3.10/threading.py\", line 953, in run\n",
            "    self._target(*self._args, **self._kwargs)\n",
            "  File \"/usr/lib/python3.10/concurrent/futures/thread.py\", line 83, in _worker\n",
            "    work_item.run()\n",
            "  File \"/usr/lib/python3.10/concurrent/futures/thread.py\", line 58, in run\n",
            "    result = self.fn(*self.args, **self.kwargs)\n",
            "  File \"/usr/local/lib/python3.10/dist-packages/zhipuai/model_api/api.py\", line 30, in query_async_invoke_result\n",
            "    return get(url, cls._generate_token(), zhipuai.api_timeout_seconds)\n",
            "  File \"/usr/local/lib/python3.10/dist-packages/zhipuai/utils/http_client.py\", line 50, in get\n",
            "    logging.exception(\"请求异常\", e)\n",
            "Message: '请求异常'\n",
            "Arguments: (ConnectionError(ProtocolError('Connection aborted.', RemoteDisconnected('Remote end closed connection without response'))),)\n"
          ]
        },
        {
          "output_type": "stream",
          "name": "stdout",
          "text": [
            "Error processing entry: argument of type 'NoneType' is not iterable\n"
          ]
        },
        {
          "output_type": "stream",
          "name": "stderr",
          "text": [
            "--- Logging error ---\n",
            "Traceback (most recent call last):\n",
            "  File \"/usr/local/lib/python3.10/dist-packages/urllib3/connectionpool.py\", line 537, in _make_request\n",
            "    response = conn.getresponse()\n",
            "  File \"/usr/local/lib/python3.10/dist-packages/urllib3/connection.py\", line 461, in getresponse\n",
            "    httplib_response = super().getresponse()\n",
            "  File \"/usr/lib/python3.10/http/client.py\", line 1375, in getresponse\n",
            "    response.begin()\n",
            "  File \"/usr/lib/python3.10/http/client.py\", line 318, in begin\n",
            "    version, status, reason = self._read_status()\n",
            "  File \"/usr/lib/python3.10/http/client.py\", line 279, in _read_status\n",
            "    line = str(self.fp.readline(_MAXLINE + 1), \"iso-8859-1\")\n",
            "  File \"/usr/lib/python3.10/socket.py\", line 705, in readinto\n",
            "    return self._sock.recv_into(b)\n",
            "  File \"/usr/lib/python3.10/ssl.py\", line 1303, in recv_into\n",
            "    return self.read(nbytes, buffer)\n",
            "  File \"/usr/lib/python3.10/ssl.py\", line 1159, in read\n",
            "    return self._sslobj.read(len, buffer)\n",
            "TimeoutError: The read operation timed out\n",
            "\n",
            "The above exception was the direct cause of the following exception:\n",
            "\n",
            "Traceback (most recent call last):\n",
            "  File \"/usr/local/lib/python3.10/dist-packages/requests/adapters.py\", line 486, in send\n",
            "    resp = conn.urlopen(\n",
            "  File \"/usr/local/lib/python3.10/dist-packages/urllib3/connectionpool.py\", line 845, in urlopen\n",
            "    retries = retries.increment(\n",
            "  File \"/usr/local/lib/python3.10/dist-packages/urllib3/util/retry.py\", line 470, in increment\n",
            "    raise reraise(type(error), error, _stacktrace)\n",
            "  File \"/usr/local/lib/python3.10/dist-packages/urllib3/util/util.py\", line 39, in reraise\n",
            "    raise value\n",
            "  File \"/usr/local/lib/python3.10/dist-packages/urllib3/connectionpool.py\", line 791, in urlopen\n",
            "    response = self._make_request(\n",
            "  File \"/usr/local/lib/python3.10/dist-packages/urllib3/connectionpool.py\", line 539, in _make_request\n",
            "    self._raise_timeout(err=e, url=url, timeout_value=read_timeout)\n",
            "  File \"/usr/local/lib/python3.10/dist-packages/urllib3/connectionpool.py\", line 371, in _raise_timeout\n",
            "    raise ReadTimeoutError(\n",
            "urllib3.exceptions.ReadTimeoutError: HTTPSConnectionPool(host='open.bigmodel.cn', port=443): Read timed out. (read timeout=300)\n",
            "\n",
            "During handling of the above exception, another exception occurred:\n",
            "\n",
            "Traceback (most recent call last):\n",
            "  File \"/usr/local/lib/python3.10/dist-packages/zhipuai/utils/http_client.py\", line 16, in post\n",
            "    resp = requests.post(\n",
            "  File \"/usr/local/lib/python3.10/dist-packages/requests/api.py\", line 115, in post\n",
            "    return request(\"post\", url, data=data, json=json, **kwargs)\n",
            "  File \"/usr/local/lib/python3.10/dist-packages/requests/api.py\", line 59, in request\n",
            "    return session.request(method=method, url=url, **kwargs)\n",
            "  File \"/usr/local/lib/python3.10/dist-packages/requests/sessions.py\", line 589, in request\n",
            "    resp = self.send(prep, **send_kwargs)\n",
            "  File \"/usr/local/lib/python3.10/dist-packages/requests/sessions.py\", line 703, in send\n",
            "    r = adapter.send(request, **kwargs)\n",
            "  File \"/usr/local/lib/python3.10/dist-packages/requests/adapters.py\", line 532, in send\n",
            "    raise ReadTimeout(e, request=request)\n",
            "requests.exceptions.ReadTimeout: HTTPSConnectionPool(host='open.bigmodel.cn', port=443): Read timed out. (read timeout=300)\n",
            "\n",
            "During handling of the above exception, another exception occurred:\n",
            "\n",
            "Traceback (most recent call last):\n",
            "  File \"/usr/lib/python3.10/logging/__init__.py\", line 1100, in emit\n",
            "    msg = self.format(record)\n",
            "  File \"/usr/lib/python3.10/logging/__init__.py\", line 943, in format\n",
            "    return fmt.format(record)\n",
            "  File \"/usr/lib/python3.10/logging/__init__.py\", line 678, in format\n",
            "    record.message = record.getMessage()\n",
            "  File \"/usr/lib/python3.10/logging/__init__.py\", line 368, in getMessage\n",
            "    msg = msg % self.args\n",
            "TypeError: not all arguments converted during string formatting\n",
            "Call stack:\n",
            "  File \"/usr/lib/python3.10/threading.py\", line 973, in _bootstrap\n",
            "    self._bootstrap_inner()\n",
            "  File \"/usr/lib/python3.10/threading.py\", line 1016, in _bootstrap_inner\n",
            "    self.run()\n",
            "  File \"/usr/lib/python3.10/threading.py\", line 953, in run\n",
            "    self._target(*self._args, **self._kwargs)\n",
            "  File \"/usr/lib/python3.10/concurrent/futures/thread.py\", line 83, in _worker\n",
            "    work_item.run()\n",
            "  File \"/usr/lib/python3.10/concurrent/futures/thread.py\", line 58, in run\n",
            "    result = self.fn(*self.args, **self.kwargs)\n",
            "  File \"/usr/local/lib/python3.10/dist-packages/zhipuai/model_api/api.py\", line 25, in async_invoke\n",
            "    return post(url, cls._generate_token(), kwargs, zhipuai.api_timeout_seconds)\n",
            "  File \"/usr/local/lib/python3.10/dist-packages/zhipuai/utils/http_client.py\", line 23, in post\n",
            "    logging.exception(\"请求异常\", e)\n",
            "Message: '请求异常'\n",
            "Arguments: (ReadTimeout(ReadTimeoutError(\"HTTPSConnectionPool(host='open.bigmodel.cn', port=443): Read timed out. (read timeout=300)\")),)\n"
          ]
        },
        {
          "output_type": "stream",
          "name": "stdout",
          "text": [
            "failed to send request,  关宁   Mutane Pokemon RP\n"
          ]
        },
        {
          "output_type": "stream",
          "name": "stderr",
          "text": [
            "--- Logging error ---\n",
            "Traceback (most recent call last):\n",
            "  File \"/usr/local/lib/python3.10/dist-packages/urllib3/connectionpool.py\", line 791, in urlopen\n",
            "    response = self._make_request(\n",
            "  File \"/usr/local/lib/python3.10/dist-packages/urllib3/connectionpool.py\", line 537, in _make_request\n",
            "    response = conn.getresponse()\n",
            "  File \"/usr/local/lib/python3.10/dist-packages/urllib3/connection.py\", line 461, in getresponse\n",
            "    httplib_response = super().getresponse()\n",
            "  File \"/usr/lib/python3.10/http/client.py\", line 1375, in getresponse\n",
            "    response.begin()\n",
            "  File \"/usr/lib/python3.10/http/client.py\", line 318, in begin\n",
            "    version, status, reason = self._read_status()\n",
            "  File \"/usr/lib/python3.10/http/client.py\", line 287, in _read_status\n",
            "    raise RemoteDisconnected(\"Remote end closed connection without\"\n",
            "http.client.RemoteDisconnected: Remote end closed connection without response\n",
            "\n",
            "During handling of the above exception, another exception occurred:\n",
            "\n",
            "Traceback (most recent call last):\n",
            "  File \"/usr/local/lib/python3.10/dist-packages/requests/adapters.py\", line 486, in send\n",
            "    resp = conn.urlopen(\n",
            "  File \"/usr/local/lib/python3.10/dist-packages/urllib3/connectionpool.py\", line 845, in urlopen\n",
            "    retries = retries.increment(\n",
            "  File \"/usr/local/lib/python3.10/dist-packages/urllib3/util/retry.py\", line 470, in increment\n",
            "    raise reraise(type(error), error, _stacktrace)\n",
            "  File \"/usr/local/lib/python3.10/dist-packages/urllib3/util/util.py\", line 38, in reraise\n",
            "    raise value.with_traceback(tb)\n",
            "  File \"/usr/local/lib/python3.10/dist-packages/urllib3/connectionpool.py\", line 791, in urlopen\n",
            "    response = self._make_request(\n",
            "  File \"/usr/local/lib/python3.10/dist-packages/urllib3/connectionpool.py\", line 537, in _make_request\n",
            "    response = conn.getresponse()\n",
            "  File \"/usr/local/lib/python3.10/dist-packages/urllib3/connection.py\", line 461, in getresponse\n",
            "    httplib_response = super().getresponse()\n",
            "  File \"/usr/lib/python3.10/http/client.py\", line 1375, in getresponse\n",
            "    response.begin()\n",
            "  File \"/usr/lib/python3.10/http/client.py\", line 318, in begin\n",
            "    version, status, reason = self._read_status()\n",
            "  File \"/usr/lib/python3.10/http/client.py\", line 287, in _read_status\n",
            "    raise RemoteDisconnected(\"Remote end closed connection without\"\n",
            "urllib3.exceptions.ProtocolError: ('Connection aborted.', RemoteDisconnected('Remote end closed connection without response'))\n",
            "\n",
            "During handling of the above exception, another exception occurred:\n",
            "\n",
            "Traceback (most recent call last):\n",
            "  File \"/usr/local/lib/python3.10/dist-packages/zhipuai/utils/http_client.py\", line 45, in get\n",
            "    resp = requests.get(api_url, headers=headers, timeout=timeout)\n",
            "  File \"/usr/local/lib/python3.10/dist-packages/requests/api.py\", line 73, in get\n",
            "    return request(\"get\", url, params=params, **kwargs)\n",
            "  File \"/usr/local/lib/python3.10/dist-packages/requests/api.py\", line 59, in request\n",
            "    return session.request(method=method, url=url, **kwargs)\n",
            "  File \"/usr/local/lib/python3.10/dist-packages/requests/sessions.py\", line 589, in request\n",
            "    resp = self.send(prep, **send_kwargs)\n",
            "  File \"/usr/local/lib/python3.10/dist-packages/requests/sessions.py\", line 703, in send\n",
            "    r = adapter.send(request, **kwargs)\n",
            "  File \"/usr/local/lib/python3.10/dist-packages/requests/adapters.py\", line 501, in send\n",
            "    raise ConnectionError(err, request=request)\n",
            "requests.exceptions.ConnectionError: ('Connection aborted.', RemoteDisconnected('Remote end closed connection without response'))\n",
            "\n",
            "During handling of the above exception, another exception occurred:\n",
            "\n",
            "Traceback (most recent call last):\n",
            "  File \"/usr/lib/python3.10/logging/__init__.py\", line 1100, in emit\n",
            "    msg = self.format(record)\n",
            "  File \"/usr/lib/python3.10/logging/__init__.py\", line 943, in format\n",
            "    return fmt.format(record)\n",
            "  File \"/usr/lib/python3.10/logging/__init__.py\", line 678, in format\n",
            "    record.message = record.getMessage()\n",
            "  File \"/usr/lib/python3.10/logging/__init__.py\", line 368, in getMessage\n",
            "    msg = msg % self.args\n",
            "TypeError: not all arguments converted during string formatting\n",
            "Call stack:\n",
            "  File \"/usr/lib/python3.10/threading.py\", line 973, in _bootstrap\n",
            "    self._bootstrap_inner()\n",
            "  File \"/usr/lib/python3.10/threading.py\", line 1016, in _bootstrap_inner\n",
            "    self.run()\n",
            "  File \"/usr/lib/python3.10/threading.py\", line 953, in run\n",
            "    self._target(*self._args, **self._kwargs)\n",
            "  File \"/usr/lib/python3.10/concurrent/futures/thread.py\", line 83, in _worker\n",
            "    work_item.run()\n",
            "  File \"/usr/lib/python3.10/concurrent/futures/thread.py\", line 58, in run\n",
            "    result = self.fn(*self.args, **self.kwargs)\n",
            "  File \"/usr/local/lib/python3.10/dist-packages/zhipuai/model_api/api.py\", line 30, in query_async_invoke_result\n",
            "    return get(url, cls._generate_token(), zhipuai.api_timeout_seconds)\n",
            "  File \"/usr/local/lib/python3.10/dist-packages/zhipuai/utils/http_client.py\", line 50, in get\n",
            "    logging.exception(\"请求异常\", e)\n",
            "Message: '请求异常'\n",
            "Arguments: (ConnectionError(ProtocolError('Connection aborted.', RemoteDisconnected('Remote end closed connection without response'))),)\n"
          ]
        },
        {
          "output_type": "stream",
          "name": "stdout",
          "text": [
            "Error processing entry: argument of type 'NoneType' is not iterable\n"
          ]
        },
        {
          "output_type": "stream",
          "name": "stderr",
          "text": [
            "--- Logging error ---\n",
            "Traceback (most recent call last):\n",
            "  File \"/usr/local/lib/python3.10/dist-packages/urllib3/connectionpool.py\", line 468, in _make_request\n",
            "    self._validate_conn(conn)\n",
            "  File \"/usr/local/lib/python3.10/dist-packages/urllib3/connectionpool.py\", line 1097, in _validate_conn\n",
            "    conn.connect()\n",
            "  File \"/usr/local/lib/python3.10/dist-packages/urllib3/connection.py\", line 642, in connect\n",
            "    sock_and_verified = _ssl_wrap_socket_and_match_hostname(\n",
            "  File \"/usr/local/lib/python3.10/dist-packages/urllib3/connection.py\", line 783, in _ssl_wrap_socket_and_match_hostname\n",
            "    ssl_sock = ssl_wrap_socket(\n",
            "  File \"/usr/local/lib/python3.10/dist-packages/urllib3/util/ssl_.py\", line 471, in ssl_wrap_socket\n",
            "    ssl_sock = _ssl_wrap_socket_impl(sock, context, tls_in_tls, server_hostname)\n",
            "  File \"/usr/local/lib/python3.10/dist-packages/urllib3/util/ssl_.py\", line 515, in _ssl_wrap_socket_impl\n",
            "    return ssl_context.wrap_socket(sock, server_hostname=server_hostname)\n",
            "  File \"/usr/lib/python3.10/ssl.py\", line 513, in wrap_socket\n",
            "    return self.sslsocket_class._create(\n",
            "  File \"/usr/lib/python3.10/ssl.py\", line 1100, in _create\n",
            "    self.do_handshake()\n",
            "  File \"/usr/lib/python3.10/ssl.py\", line 1371, in do_handshake\n",
            "    self._sslobj.do_handshake()\n",
            "ssl.SSLEOFError: [SSL: UNEXPECTED_EOF_WHILE_READING] EOF occurred in violation of protocol (_ssl.c:1007)\n",
            "\n",
            "During handling of the above exception, another exception occurred:\n",
            "\n",
            "Traceback (most recent call last):\n",
            "  File \"/usr/local/lib/python3.10/dist-packages/urllib3/connectionpool.py\", line 791, in urlopen\n",
            "    response = self._make_request(\n",
            "  File \"/usr/local/lib/python3.10/dist-packages/urllib3/connectionpool.py\", line 492, in _make_request\n",
            "    raise new_e\n",
            "urllib3.exceptions.SSLError: [SSL: UNEXPECTED_EOF_WHILE_READING] EOF occurred in violation of protocol (_ssl.c:1007)\n",
            "\n",
            "The above exception was the direct cause of the following exception:\n",
            "\n",
            "Traceback (most recent call last):\n",
            "  File \"/usr/local/lib/python3.10/dist-packages/requests/adapters.py\", line 486, in send\n",
            "    resp = conn.urlopen(\n",
            "  File \"/usr/local/lib/python3.10/dist-packages/urllib3/connectionpool.py\", line 845, in urlopen\n",
            "    retries = retries.increment(\n",
            "  File \"/usr/local/lib/python3.10/dist-packages/urllib3/util/retry.py\", line 515, in increment\n",
            "    raise MaxRetryError(_pool, url, reason) from reason  # type: ignore[arg-type]\n",
            "urllib3.exceptions.MaxRetryError: HTTPSConnectionPool(host='open.bigmodel.cn', port=443): Max retries exceeded with url: /api/paas/v3/model-api/-/async-invoke/10616905317062558284003590523224433 (Caused by SSLError(SSLEOFError(8, '[SSL: UNEXPECTED_EOF_WHILE_READING] EOF occurred in violation of protocol (_ssl.c:1007)')))\n",
            "\n",
            "During handling of the above exception, another exception occurred:\n",
            "\n",
            "Traceback (most recent call last):\n",
            "  File \"/usr/local/lib/python3.10/dist-packages/zhipuai/utils/http_client.py\", line 45, in get\n",
            "    resp = requests.get(api_url, headers=headers, timeout=timeout)\n",
            "  File \"/usr/local/lib/python3.10/dist-packages/requests/api.py\", line 73, in get\n",
            "    return request(\"get\", url, params=params, **kwargs)\n",
            "  File \"/usr/local/lib/python3.10/dist-packages/requests/api.py\", line 59, in request\n",
            "    return session.request(method=method, url=url, **kwargs)\n",
            "  File \"/usr/local/lib/python3.10/dist-packages/requests/sessions.py\", line 589, in request\n",
            "    resp = self.send(prep, **send_kwargs)\n",
            "  File \"/usr/local/lib/python3.10/dist-packages/requests/sessions.py\", line 703, in send\n",
            "    r = adapter.send(request, **kwargs)\n",
            "  File \"/usr/local/lib/python3.10/dist-packages/requests/adapters.py\", line 517, in send\n",
            "    raise SSLError(e, request=request)\n",
            "requests.exceptions.SSLError: HTTPSConnectionPool(host='open.bigmodel.cn', port=443): Max retries exceeded with url: /api/paas/v3/model-api/-/async-invoke/10616905317062558284003590523224433 (Caused by SSLError(SSLEOFError(8, '[SSL: UNEXPECTED_EOF_WHILE_READING] EOF occurred in violation of protocol (_ssl.c:1007)')))\n",
            "\n",
            "During handling of the above exception, another exception occurred:\n",
            "\n",
            "Traceback (most recent call last):\n",
            "  File \"/usr/lib/python3.10/logging/__init__.py\", line 1100, in emit\n",
            "    msg = self.format(record)\n",
            "  File \"/usr/lib/python3.10/logging/__init__.py\", line 943, in format\n",
            "    return fmt.format(record)\n",
            "  File \"/usr/lib/python3.10/logging/__init__.py\", line 678, in format\n",
            "    record.message = record.getMessage()\n",
            "  File \"/usr/lib/python3.10/logging/__init__.py\", line 368, in getMessage\n",
            "    msg = msg % self.args\n",
            "TypeError: not all arguments converted during string formatting\n",
            "Call stack:\n",
            "  File \"/usr/lib/python3.10/threading.py\", line 973, in _bootstrap\n",
            "    self._bootstrap_inner()\n",
            "  File \"/usr/lib/python3.10/threading.py\", line 1016, in _bootstrap_inner\n",
            "    self.run()\n",
            "  File \"/usr/lib/python3.10/threading.py\", line 953, in run\n",
            "    self._target(*self._args, **self._kwargs)\n",
            "  File \"/usr/lib/python3.10/concurrent/futures/thread.py\", line 83, in _worker\n",
            "    work_item.run()\n",
            "  File \"/usr/lib/python3.10/concurrent/futures/thread.py\", line 58, in run\n",
            "    result = self.fn(*self.args, **self.kwargs)\n",
            "  File \"/usr/local/lib/python3.10/dist-packages/zhipuai/model_api/api.py\", line 30, in query_async_invoke_result\n",
            "    return get(url, cls._generate_token(), zhipuai.api_timeout_seconds)\n",
            "  File \"/usr/local/lib/python3.10/dist-packages/zhipuai/utils/http_client.py\", line 50, in get\n",
            "    logging.exception(\"请求异常\", e)\n",
            "Message: '请求异常'\n",
            "Arguments: (SSLError(MaxRetryError(\"HTTPSConnectionPool(host='open.bigmodel.cn', port=443): Max retries exceeded with url: /api/paas/v3/model-api/-/async-invoke/10616905317062558284003590523224433 (Caused by SSLError(SSLEOFError(8, '[SSL: UNEXPECTED_EOF_WHILE_READING] EOF occurred in violation of protocol (_ssl.c:1007)')))\")),)\n"
          ]
        },
        {
          "output_type": "stream",
          "name": "stdout",
          "text": [
            "Error processing entry: argument of type 'NoneType' is not iterable\n"
          ]
        },
        {
          "output_type": "stream",
          "name": "stderr",
          "text": [
            "--- Logging error ---\n",
            "Traceback (most recent call last):\n",
            "  File \"/usr/local/lib/python3.10/dist-packages/urllib3/connectionpool.py\", line 791, in urlopen\n",
            "    response = self._make_request(\n",
            "  File \"/usr/local/lib/python3.10/dist-packages/urllib3/connectionpool.py\", line 537, in _make_request\n",
            "    response = conn.getresponse()\n",
            "  File \"/usr/local/lib/python3.10/dist-packages/urllib3/connection.py\", line 461, in getresponse\n",
            "    httplib_response = super().getresponse()\n",
            "  File \"/usr/lib/python3.10/http/client.py\", line 1375, in getresponse\n",
            "    response.begin()\n",
            "  File \"/usr/lib/python3.10/http/client.py\", line 318, in begin\n",
            "    version, status, reason = self._read_status()\n",
            "  File \"/usr/lib/python3.10/http/client.py\", line 287, in _read_status\n",
            "    raise RemoteDisconnected(\"Remote end closed connection without\"\n",
            "http.client.RemoteDisconnected: Remote end closed connection without response\n",
            "\n",
            "During handling of the above exception, another exception occurred:\n",
            "\n",
            "Traceback (most recent call last):\n",
            "  File \"/usr/local/lib/python3.10/dist-packages/requests/adapters.py\", line 486, in send\n",
            "    resp = conn.urlopen(\n",
            "  File \"/usr/local/lib/python3.10/dist-packages/urllib3/connectionpool.py\", line 845, in urlopen\n",
            "    retries = retries.increment(\n",
            "  File \"/usr/local/lib/python3.10/dist-packages/urllib3/util/retry.py\", line 470, in increment\n",
            "    raise reraise(type(error), error, _stacktrace)\n",
            "  File \"/usr/local/lib/python3.10/dist-packages/urllib3/util/util.py\", line 38, in reraise\n",
            "    raise value.with_traceback(tb)\n",
            "  File \"/usr/local/lib/python3.10/dist-packages/urllib3/connectionpool.py\", line 791, in urlopen\n",
            "    response = self._make_request(\n",
            "  File \"/usr/local/lib/python3.10/dist-packages/urllib3/connectionpool.py\", line 537, in _make_request\n",
            "    response = conn.getresponse()\n",
            "  File \"/usr/local/lib/python3.10/dist-packages/urllib3/connection.py\", line 461, in getresponse\n",
            "    httplib_response = super().getresponse()\n",
            "  File \"/usr/lib/python3.10/http/client.py\", line 1375, in getresponse\n",
            "    response.begin()\n",
            "  File \"/usr/lib/python3.10/http/client.py\", line 318, in begin\n",
            "    version, status, reason = self._read_status()\n",
            "  File \"/usr/lib/python3.10/http/client.py\", line 287, in _read_status\n",
            "    raise RemoteDisconnected(\"Remote end closed connection without\"\n",
            "urllib3.exceptions.ProtocolError: ('Connection aborted.', RemoteDisconnected('Remote end closed connection without response'))\n",
            "\n",
            "During handling of the above exception, another exception occurred:\n",
            "\n",
            "Traceback (most recent call last):\n",
            "  File \"/usr/local/lib/python3.10/dist-packages/zhipuai/utils/http_client.py\", line 45, in get\n",
            "    resp = requests.get(api_url, headers=headers, timeout=timeout)\n",
            "  File \"/usr/local/lib/python3.10/dist-packages/requests/api.py\", line 73, in get\n",
            "    return request(\"get\", url, params=params, **kwargs)\n",
            "  File \"/usr/local/lib/python3.10/dist-packages/requests/api.py\", line 59, in request\n",
            "    return session.request(method=method, url=url, **kwargs)\n",
            "  File \"/usr/local/lib/python3.10/dist-packages/requests/sessions.py\", line 589, in request\n",
            "    resp = self.send(prep, **send_kwargs)\n",
            "  File \"/usr/local/lib/python3.10/dist-packages/requests/sessions.py\", line 703, in send\n",
            "    r = adapter.send(request, **kwargs)\n",
            "  File \"/usr/local/lib/python3.10/dist-packages/requests/adapters.py\", line 501, in send\n",
            "    raise ConnectionError(err, request=request)\n",
            "requests.exceptions.ConnectionError: ('Connection aborted.', RemoteDisconnected('Remote end closed connection without response'))\n",
            "\n",
            "During handling of the above exception, another exception occurred:\n",
            "\n",
            "Traceback (most recent call last):\n",
            "  File \"/usr/lib/python3.10/logging/__init__.py\", line 1100, in emit\n",
            "    msg = self.format(record)\n",
            "  File \"/usr/lib/python3.10/logging/__init__.py\", line 943, in format\n",
            "    return fmt.format(record)\n",
            "  File \"/usr/lib/python3.10/logging/__init__.py\", line 678, in format\n",
            "    record.message = record.getMessage()\n",
            "  File \"/usr/lib/python3.10/logging/__init__.py\", line 368, in getMessage\n",
            "    msg = msg % self.args\n",
            "TypeError: not all arguments converted during string formatting\n",
            "Call stack:\n",
            "  File \"/usr/lib/python3.10/threading.py\", line 973, in _bootstrap\n",
            "    self._bootstrap_inner()\n",
            "  File \"/usr/lib/python3.10/threading.py\", line 1016, in _bootstrap_inner\n",
            "    self.run()\n",
            "  File \"/usr/lib/python3.10/threading.py\", line 953, in run\n",
            "    self._target(*self._args, **self._kwargs)\n",
            "  File \"/usr/lib/python3.10/concurrent/futures/thread.py\", line 83, in _worker\n",
            "    work_item.run()\n",
            "  File \"/usr/lib/python3.10/concurrent/futures/thread.py\", line 58, in run\n",
            "    result = self.fn(*self.args, **self.kwargs)\n",
            "  File \"/usr/local/lib/python3.10/dist-packages/zhipuai/model_api/api.py\", line 30, in query_async_invoke_result\n",
            "    return get(url, cls._generate_token(), zhipuai.api_timeout_seconds)\n",
            "  File \"/usr/local/lib/python3.10/dist-packages/zhipuai/utils/http_client.py\", line 50, in get\n",
            "    logging.exception(\"请求异常\", e)\n",
            "Message: '请求异常'\n",
            "Arguments: (ConnectionError(ProtocolError('Connection aborted.', RemoteDisconnected('Remote end closed connection without response'))),)\n"
          ]
        },
        {
          "output_type": "stream",
          "name": "stdout",
          "text": [
            "Error processing entry: argument of type 'NoneType' is not iterable\n"
          ]
        },
        {
          "output_type": "stream",
          "name": "stderr",
          "text": [
            "--- Logging error ---\n",
            "Traceback (most recent call last):\n",
            "  File \"/usr/local/lib/python3.10/dist-packages/urllib3/connectionpool.py\", line 468, in _make_request\n",
            "    self._validate_conn(conn)\n",
            "  File \"/usr/local/lib/python3.10/dist-packages/urllib3/connectionpool.py\", line 1097, in _validate_conn\n",
            "    conn.connect()\n",
            "  File \"/usr/local/lib/python3.10/dist-packages/urllib3/connection.py\", line 642, in connect\n",
            "    sock_and_verified = _ssl_wrap_socket_and_match_hostname(\n",
            "  File \"/usr/local/lib/python3.10/dist-packages/urllib3/connection.py\", line 783, in _ssl_wrap_socket_and_match_hostname\n",
            "    ssl_sock = ssl_wrap_socket(\n",
            "  File \"/usr/local/lib/python3.10/dist-packages/urllib3/util/ssl_.py\", line 471, in ssl_wrap_socket\n",
            "    ssl_sock = _ssl_wrap_socket_impl(sock, context, tls_in_tls, server_hostname)\n",
            "  File \"/usr/local/lib/python3.10/dist-packages/urllib3/util/ssl_.py\", line 515, in _ssl_wrap_socket_impl\n",
            "    return ssl_context.wrap_socket(sock, server_hostname=server_hostname)\n",
            "  File \"/usr/lib/python3.10/ssl.py\", line 513, in wrap_socket\n",
            "    return self.sslsocket_class._create(\n",
            "  File \"/usr/lib/python3.10/ssl.py\", line 1100, in _create\n",
            "    self.do_handshake()\n",
            "  File \"/usr/lib/python3.10/ssl.py\", line 1371, in do_handshake\n",
            "    self._sslobj.do_handshake()\n",
            "ssl.SSLEOFError: [SSL: UNEXPECTED_EOF_WHILE_READING] EOF occurred in violation of protocol (_ssl.c:1007)\n",
            "\n",
            "During handling of the above exception, another exception occurred:\n",
            "\n",
            "Traceback (most recent call last):\n",
            "  File \"/usr/local/lib/python3.10/dist-packages/urllib3/connectionpool.py\", line 791, in urlopen\n",
            "    response = self._make_request(\n",
            "  File \"/usr/local/lib/python3.10/dist-packages/urllib3/connectionpool.py\", line 492, in _make_request\n",
            "    raise new_e\n",
            "urllib3.exceptions.SSLError: [SSL: UNEXPECTED_EOF_WHILE_READING] EOF occurred in violation of protocol (_ssl.c:1007)\n",
            "\n",
            "The above exception was the direct cause of the following exception:\n",
            "\n",
            "Traceback (most recent call last):\n",
            "  File \"/usr/local/lib/python3.10/dist-packages/requests/adapters.py\", line 486, in send\n",
            "    resp = conn.urlopen(\n",
            "  File \"/usr/local/lib/python3.10/dist-packages/urllib3/connectionpool.py\", line 845, in urlopen\n",
            "    retries = retries.increment(\n",
            "  File \"/usr/local/lib/python3.10/dist-packages/urllib3/util/retry.py\", line 515, in increment\n",
            "    raise MaxRetryError(_pool, url, reason) from reason  # type: ignore[arg-type]\n",
            "urllib3.exceptions.MaxRetryError: HTTPSConnectionPool(host='open.bigmodel.cn', port=443): Max retries exceeded with url: /api/paas/v3/model-api/characterglm/async-invoke (Caused by SSLError(SSLEOFError(8, '[SSL: UNEXPECTED_EOF_WHILE_READING] EOF occurred in violation of protocol (_ssl.c:1007)')))\n",
            "\n",
            "During handling of the above exception, another exception occurred:\n",
            "\n",
            "Traceback (most recent call last):\n",
            "  File \"/usr/local/lib/python3.10/dist-packages/zhipuai/utils/http_client.py\", line 16, in post\n",
            "    resp = requests.post(\n",
            "  File \"/usr/local/lib/python3.10/dist-packages/requests/api.py\", line 115, in post\n",
            "    return request(\"post\", url, data=data, json=json, **kwargs)\n",
            "  File \"/usr/local/lib/python3.10/dist-packages/requests/api.py\", line 59, in request\n",
            "    return session.request(method=method, url=url, **kwargs)\n",
            "  File \"/usr/local/lib/python3.10/dist-packages/requests/sessions.py\", line 589, in request\n",
            "    resp = self.send(prep, **send_kwargs)\n",
            "  File \"/usr/local/lib/python3.10/dist-packages/requests/sessions.py\", line 703, in send\n",
            "    r = adapter.send(request, **kwargs)\n",
            "  File \"/usr/local/lib/python3.10/dist-packages/requests/adapters.py\", line 517, in send\n",
            "    raise SSLError(e, request=request)\n",
            "requests.exceptions.SSLError: HTTPSConnectionPool(host='open.bigmodel.cn', port=443): Max retries exceeded with url: /api/paas/v3/model-api/characterglm/async-invoke (Caused by SSLError(SSLEOFError(8, '[SSL: UNEXPECTED_EOF_WHILE_READING] EOF occurred in violation of protocol (_ssl.c:1007)')))\n",
            "\n",
            "During handling of the above exception, another exception occurred:\n",
            "\n",
            "Traceback (most recent call last):\n",
            "  File \"/usr/lib/python3.10/logging/__init__.py\", line 1100, in emit\n",
            "    msg = self.format(record)\n",
            "  File \"/usr/lib/python3.10/logging/__init__.py\", line 943, in format\n",
            "    return fmt.format(record)\n",
            "  File \"/usr/lib/python3.10/logging/__init__.py\", line 678, in format\n",
            "    record.message = record.getMessage()\n",
            "  File \"/usr/lib/python3.10/logging/__init__.py\", line 368, in getMessage\n",
            "    msg = msg % self.args\n",
            "TypeError: not all arguments converted during string formatting\n",
            "Call stack:\n",
            "  File \"/usr/lib/python3.10/threading.py\", line 973, in _bootstrap\n",
            "    self._bootstrap_inner()\n",
            "  File \"/usr/lib/python3.10/threading.py\", line 1016, in _bootstrap_inner\n",
            "    self.run()\n",
            "  File \"/usr/lib/python3.10/threading.py\", line 953, in run\n",
            "    self._target(*self._args, **self._kwargs)\n",
            "  File \"/usr/lib/python3.10/concurrent/futures/thread.py\", line 83, in _worker\n",
            "    work_item.run()\n",
            "  File \"/usr/lib/python3.10/concurrent/futures/thread.py\", line 58, in run\n",
            "    result = self.fn(*self.args, **self.kwargs)\n",
            "  File \"/usr/local/lib/python3.10/dist-packages/zhipuai/model_api/api.py\", line 25, in async_invoke\n",
            "    return post(url, cls._generate_token(), kwargs, zhipuai.api_timeout_seconds)\n",
            "  File \"/usr/local/lib/python3.10/dist-packages/zhipuai/utils/http_client.py\", line 23, in post\n",
            "    logging.exception(\"请求异常\", e)\n",
            "Message: '请求异常'\n",
            "Arguments: (SSLError(MaxRetryError(\"HTTPSConnectionPool(host='open.bigmodel.cn', port=443): Max retries exceeded with url: /api/paas/v3/model-api/characterglm/async-invoke (Caused by SSLError(SSLEOFError(8, '[SSL: UNEXPECTED_EOF_WHILE_READING] EOF occurred in violation of protocol (_ssl.c:1007)')))\")),)\n"
          ]
        },
        {
          "output_type": "stream",
          "name": "stdout",
          "text": [
            "failed to send request,  吉米   戈薇\n",
            "failed to send request,  尼尔·卡夫瑞   Director Berger\n",
            "failed to send request,  格雷戈   M4A1\n"
          ]
        },
        {
          "output_type": "stream",
          "name": "stderr",
          "text": [
            "\rProcessing items:  27%|██▋       | 160/600 [18:05<10:08:30, 82.98s/it]--- Logging error ---\n",
            "Traceback (most recent call last):\n",
            "  File \"/usr/local/lib/python3.10/dist-packages/urllib3/connectionpool.py\", line 791, in urlopen\n",
            "    response = self._make_request(\n",
            "  File \"/usr/local/lib/python3.10/dist-packages/urllib3/connectionpool.py\", line 537, in _make_request\n",
            "    response = conn.getresponse()\n",
            "  File \"/usr/local/lib/python3.10/dist-packages/urllib3/connection.py\", line 461, in getresponse\n",
            "    httplib_response = super().getresponse()\n",
            "  File \"/usr/lib/python3.10/http/client.py\", line 1375, in getresponse\n",
            "    response.begin()\n",
            "  File \"/usr/lib/python3.10/http/client.py\", line 318, in begin\n",
            "    version, status, reason = self._read_status()\n",
            "  File \"/usr/lib/python3.10/http/client.py\", line 287, in _read_status\n",
            "    raise RemoteDisconnected(\"Remote end closed connection without\"\n",
            "http.client.RemoteDisconnected: Remote end closed connection without response\n",
            "\n",
            "During handling of the above exception, another exception occurred:\n",
            "\n",
            "Traceback (most recent call last):\n",
            "  File \"/usr/local/lib/python3.10/dist-packages/requests/adapters.py\", line 486, in send\n",
            "    resp = conn.urlopen(\n",
            "  File \"/usr/local/lib/python3.10/dist-packages/urllib3/connectionpool.py\", line 845, in urlopen\n",
            "    retries = retries.increment(\n",
            "  File \"/usr/local/lib/python3.10/dist-packages/urllib3/util/retry.py\", line 470, in increment\n",
            "    raise reraise(type(error), error, _stacktrace)\n",
            "  File \"/usr/local/lib/python3.10/dist-packages/urllib3/util/util.py\", line 38, in reraise\n",
            "    raise value.with_traceback(tb)\n",
            "  File \"/usr/local/lib/python3.10/dist-packages/urllib3/connectionpool.py\", line 791, in urlopen\n",
            "    response = self._make_request(\n",
            "  File \"/usr/local/lib/python3.10/dist-packages/urllib3/connectionpool.py\", line 537, in _make_request\n",
            "    response = conn.getresponse()\n",
            "  File \"/usr/local/lib/python3.10/dist-packages/urllib3/connection.py\", line 461, in getresponse\n",
            "    httplib_response = super().getresponse()\n",
            "  File \"/usr/lib/python3.10/http/client.py\", line 1375, in getresponse\n",
            "    response.begin()\n",
            "  File \"/usr/lib/python3.10/http/client.py\", line 318, in begin\n",
            "    version, status, reason = self._read_status()\n",
            "  File \"/usr/lib/python3.10/http/client.py\", line 287, in _read_status\n",
            "    raise RemoteDisconnected(\"Remote end closed connection without\"\n",
            "urllib3.exceptions.ProtocolError: ('Connection aborted.', RemoteDisconnected('Remote end closed connection without response'))\n",
            "\n",
            "During handling of the above exception, another exception occurred:\n",
            "\n",
            "Traceback (most recent call last):\n",
            "  File \"/usr/local/lib/python3.10/dist-packages/zhipuai/utils/http_client.py\", line 16, in post\n",
            "    resp = requests.post(\n",
            "  File \"/usr/local/lib/python3.10/dist-packages/requests/api.py\", line 115, in post\n",
            "    return request(\"post\", url, data=data, json=json, **kwargs)\n",
            "  File \"/usr/local/lib/python3.10/dist-packages/requests/api.py\", line 59, in request\n",
            "    return session.request(method=method, url=url, **kwargs)\n",
            "  File \"/usr/local/lib/python3.10/dist-packages/requests/sessions.py\", line 589, in request\n",
            "    resp = self.send(prep, **send_kwargs)\n",
            "  File \"/usr/local/lib/python3.10/dist-packages/requests/sessions.py\", line 703, in send\n",
            "    r = adapter.send(request, **kwargs)\n",
            "  File \"/usr/local/lib/python3.10/dist-packages/requests/adapters.py\", line 501, in send\n",
            "    raise ConnectionError(err, request=request)\n",
            "requests.exceptions.ConnectionError: ('Connection aborted.', RemoteDisconnected('Remote end closed connection without response'))\n",
            "\n",
            "During handling of the above exception, another exception occurred:\n",
            "\n",
            "Traceback (most recent call last):\n",
            "  File \"/usr/lib/python3.10/logging/__init__.py\", line 1100, in emit\n",
            "    msg = self.format(record)\n",
            "  File \"/usr/lib/python3.10/logging/__init__.py\", line 943, in format\n",
            "    return fmt.format(record)\n",
            "  File \"/usr/lib/python3.10/logging/__init__.py\", line 678, in format\n",
            "    record.message = record.getMessage()\n",
            "  File \"/usr/lib/python3.10/logging/__init__.py\", line 368, in getMessage\n",
            "    msg = msg % self.args\n",
            "TypeError: not all arguments converted during string formatting\n",
            "Call stack:\n",
            "  File \"/usr/lib/python3.10/threading.py\", line 973, in _bootstrap\n",
            "    self._bootstrap_inner()\n",
            "  File \"/usr/lib/python3.10/threading.py\", line 1016, in _bootstrap_inner\n",
            "    self.run()\n",
            "  File \"/usr/lib/python3.10/threading.py\", line 953, in run\n",
            "    self._target(*self._args, **self._kwargs)\n",
            "  File \"/usr/lib/python3.10/concurrent/futures/thread.py\", line 83, in _worker\n",
            "    work_item.run()\n",
            "  File \"/usr/lib/python3.10/concurrent/futures/thread.py\", line 58, in run\n",
            "    result = self.fn(*self.args, **self.kwargs)\n",
            "  File \"/usr/local/lib/python3.10/dist-packages/zhipuai/model_api/api.py\", line 25, in async_invoke\n",
            "    return post(url, cls._generate_token(), kwargs, zhipuai.api_timeout_seconds)\n",
            "  File \"/usr/local/lib/python3.10/dist-packages/zhipuai/utils/http_client.py\", line 23, in post\n",
            "    logging.exception(\"请求异常\", e)\n",
            "Message: '请求异常'\n",
            "Arguments: (ConnectionError(ProtocolError('Connection aborted.', RemoteDisconnected('Remote end closed connection without response'))),)\n",
            "Processing items:  28%|██▊       | 170/600 [18:15<23:46,  3.32s/it]"
          ]
        },
        {
          "output_type": "stream",
          "name": "stdout",
          "text": [
            "failed to send request,  麦克   Sumireko Usami\n"
          ]
        },
        {
          "output_type": "stream",
          "name": "stderr",
          "text": [
            "--- Logging error ---\n",
            "Traceback (most recent call last):\n",
            "  File \"/usr/local/lib/python3.10/dist-packages/urllib3/connectionpool.py\", line 468, in _make_request\n",
            "    self._validate_conn(conn)\n",
            "  File \"/usr/local/lib/python3.10/dist-packages/urllib3/connectionpool.py\", line 1097, in _validate_conn\n",
            "    conn.connect()\n",
            "  File \"/usr/local/lib/python3.10/dist-packages/urllib3/connection.py\", line 642, in connect\n",
            "    sock_and_verified = _ssl_wrap_socket_and_match_hostname(\n",
            "  File \"/usr/local/lib/python3.10/dist-packages/urllib3/connection.py\", line 783, in _ssl_wrap_socket_and_match_hostname\n",
            "    ssl_sock = ssl_wrap_socket(\n",
            "  File \"/usr/local/lib/python3.10/dist-packages/urllib3/util/ssl_.py\", line 471, in ssl_wrap_socket\n",
            "    ssl_sock = _ssl_wrap_socket_impl(sock, context, tls_in_tls, server_hostname)\n",
            "  File \"/usr/local/lib/python3.10/dist-packages/urllib3/util/ssl_.py\", line 515, in _ssl_wrap_socket_impl\n",
            "    return ssl_context.wrap_socket(sock, server_hostname=server_hostname)\n",
            "  File \"/usr/lib/python3.10/ssl.py\", line 513, in wrap_socket\n",
            "    return self.sslsocket_class._create(\n",
            "  File \"/usr/lib/python3.10/ssl.py\", line 1100, in _create\n",
            "    self.do_handshake()\n",
            "  File \"/usr/lib/python3.10/ssl.py\", line 1371, in do_handshake\n",
            "    self._sslobj.do_handshake()\n",
            "ssl.SSLEOFError: [SSL: UNEXPECTED_EOF_WHILE_READING] EOF occurred in violation of protocol (_ssl.c:1007)\n",
            "\n",
            "During handling of the above exception, another exception occurred:\n",
            "\n",
            "Traceback (most recent call last):\n",
            "  File \"/usr/local/lib/python3.10/dist-packages/urllib3/connectionpool.py\", line 791, in urlopen\n",
            "    response = self._make_request(\n",
            "  File \"/usr/local/lib/python3.10/dist-packages/urllib3/connectionpool.py\", line 492, in _make_request\n",
            "    raise new_e\n",
            "urllib3.exceptions.SSLError: [SSL: UNEXPECTED_EOF_WHILE_READING] EOF occurred in violation of protocol (_ssl.c:1007)\n",
            "\n",
            "The above exception was the direct cause of the following exception:\n",
            "\n",
            "Traceback (most recent call last):\n",
            "  File \"/usr/local/lib/python3.10/dist-packages/requests/adapters.py\", line 486, in send\n",
            "    resp = conn.urlopen(\n",
            "  File \"/usr/local/lib/python3.10/dist-packages/urllib3/connectionpool.py\", line 845, in urlopen\n",
            "    retries = retries.increment(\n",
            "  File \"/usr/local/lib/python3.10/dist-packages/urllib3/util/retry.py\", line 515, in increment\n",
            "    raise MaxRetryError(_pool, url, reason) from reason  # type: ignore[arg-type]\n",
            "urllib3.exceptions.MaxRetryError: HTTPSConnectionPool(host='open.bigmodel.cn', port=443): Max retries exceeded with url: /api/paas/v3/model-api/characterglm/async-invoke (Caused by SSLError(SSLEOFError(8, '[SSL: UNEXPECTED_EOF_WHILE_READING] EOF occurred in violation of protocol (_ssl.c:1007)')))\n",
            "\n",
            "During handling of the above exception, another exception occurred:\n",
            "\n",
            "Traceback (most recent call last):\n",
            "  File \"/usr/local/lib/python3.10/dist-packages/zhipuai/utils/http_client.py\", line 16, in post\n",
            "    resp = requests.post(\n",
            "  File \"/usr/local/lib/python3.10/dist-packages/requests/api.py\", line 115, in post\n",
            "    return request(\"post\", url, data=data, json=json, **kwargs)\n",
            "  File \"/usr/local/lib/python3.10/dist-packages/requests/api.py\", line 59, in request\n",
            "    return session.request(method=method, url=url, **kwargs)\n",
            "  File \"/usr/local/lib/python3.10/dist-packages/requests/sessions.py\", line 589, in request\n",
            "    resp = self.send(prep, **send_kwargs)\n",
            "  File \"/usr/local/lib/python3.10/dist-packages/requests/sessions.py\", line 703, in send\n",
            "    r = adapter.send(request, **kwargs)\n",
            "  File \"/usr/local/lib/python3.10/dist-packages/requests/adapters.py\", line 517, in send\n",
            "    raise SSLError(e, request=request)\n",
            "requests.exceptions.SSLError: HTTPSConnectionPool(host='open.bigmodel.cn', port=443): Max retries exceeded with url: /api/paas/v3/model-api/characterglm/async-invoke (Caused by SSLError(SSLEOFError(8, '[SSL: UNEXPECTED_EOF_WHILE_READING] EOF occurred in violation of protocol (_ssl.c:1007)')))\n",
            "\n",
            "During handling of the above exception, another exception occurred:\n",
            "\n",
            "Traceback (most recent call last):\n",
            "  File \"/usr/lib/python3.10/logging/__init__.py\", line 1100, in emit\n",
            "    msg = self.format(record)\n",
            "  File \"/usr/lib/python3.10/logging/__init__.py\", line 943, in format\n",
            "    return fmt.format(record)\n",
            "  File \"/usr/lib/python3.10/logging/__init__.py\", line 678, in format\n",
            "    record.message = record.getMessage()\n",
            "  File \"/usr/lib/python3.10/logging/__init__.py\", line 368, in getMessage\n",
            "    msg = msg % self.args\n",
            "TypeError: not all arguments converted during string formatting\n",
            "Call stack:\n",
            "  File \"/usr/lib/python3.10/threading.py\", line 973, in _bootstrap\n",
            "    self._bootstrap_inner()\n",
            "  File \"/usr/lib/python3.10/threading.py\", line 1016, in _bootstrap_inner\n",
            "    self.run()\n",
            "  File \"/usr/lib/python3.10/threading.py\", line 953, in run\n",
            "    self._target(*self._args, **self._kwargs)\n",
            "  File \"/usr/lib/python3.10/concurrent/futures/thread.py\", line 83, in _worker\n",
            "    work_item.run()\n",
            "  File \"/usr/lib/python3.10/concurrent/futures/thread.py\", line 58, in run\n",
            "    result = self.fn(*self.args, **self.kwargs)\n",
            "  File \"/usr/local/lib/python3.10/dist-packages/zhipuai/model_api/api.py\", line 25, in async_invoke\n",
            "    return post(url, cls._generate_token(), kwargs, zhipuai.api_timeout_seconds)\n",
            "  File \"/usr/local/lib/python3.10/dist-packages/zhipuai/utils/http_client.py\", line 23, in post\n",
            "    logging.exception(\"请求异常\", e)\n",
            "Message: '请求异常'\n",
            "Arguments: (SSLError(MaxRetryError(\"HTTPSConnectionPool(host='open.bigmodel.cn', port=443): Max retries exceeded with url: /api/paas/v3/model-api/characterglm/async-invoke (Caused by SSLError(SSLEOFError(8, '[SSL: UNEXPECTED_EOF_WHILE_READING] EOF occurred in violation of protocol (_ssl.c:1007)')))\")),)\n"
          ]
        },
        {
          "output_type": "stream",
          "name": "stdout",
          "text": [
            "failed to send request,  大雄   Madame Verre\n"
          ]
        },
        {
          "output_type": "stream",
          "name": "stderr",
          "text": [
            "--- Logging error ---\n",
            "Traceback (most recent call last):\n",
            "  File \"/usr/local/lib/python3.10/dist-packages/urllib3/connectionpool.py\", line 468, in _make_request\n",
            "    self._validate_conn(conn)\n",
            "  File \"/usr/local/lib/python3.10/dist-packages/urllib3/connectionpool.py\", line 1097, in _validate_conn\n",
            "    conn.connect()\n",
            "  File \"/usr/local/lib/python3.10/dist-packages/urllib3/connection.py\", line 642, in connect\n",
            "    sock_and_verified = _ssl_wrap_socket_and_match_hostname(\n",
            "  File \"/usr/local/lib/python3.10/dist-packages/urllib3/connection.py\", line 783, in _ssl_wrap_socket_and_match_hostname\n",
            "    ssl_sock = ssl_wrap_socket(\n",
            "  File \"/usr/local/lib/python3.10/dist-packages/urllib3/util/ssl_.py\", line 471, in ssl_wrap_socket\n",
            "    ssl_sock = _ssl_wrap_socket_impl(sock, context, tls_in_tls, server_hostname)\n",
            "  File \"/usr/local/lib/python3.10/dist-packages/urllib3/util/ssl_.py\", line 515, in _ssl_wrap_socket_impl\n",
            "    return ssl_context.wrap_socket(sock, server_hostname=server_hostname)\n",
            "  File \"/usr/lib/python3.10/ssl.py\", line 513, in wrap_socket\n",
            "    return self.sslsocket_class._create(\n",
            "  File \"/usr/lib/python3.10/ssl.py\", line 1100, in _create\n",
            "    self.do_handshake()\n",
            "  File \"/usr/lib/python3.10/ssl.py\", line 1371, in do_handshake\n",
            "    self._sslobj.do_handshake()\n",
            "ssl.SSLEOFError: [SSL: UNEXPECTED_EOF_WHILE_READING] EOF occurred in violation of protocol (_ssl.c:1007)\n",
            "\n",
            "During handling of the above exception, another exception occurred:\n",
            "\n",
            "Traceback (most recent call last):\n",
            "  File \"/usr/local/lib/python3.10/dist-packages/urllib3/connectionpool.py\", line 791, in urlopen\n",
            "    response = self._make_request(\n",
            "  File \"/usr/local/lib/python3.10/dist-packages/urllib3/connectionpool.py\", line 492, in _make_request\n",
            "    raise new_e\n",
            "urllib3.exceptions.SSLError: [SSL: UNEXPECTED_EOF_WHILE_READING] EOF occurred in violation of protocol (_ssl.c:1007)\n",
            "\n",
            "The above exception was the direct cause of the following exception:\n",
            "\n",
            "Traceback (most recent call last):\n",
            "  File \"/usr/local/lib/python3.10/dist-packages/requests/adapters.py\", line 486, in send\n",
            "    resp = conn.urlopen(\n",
            "  File \"/usr/local/lib/python3.10/dist-packages/urllib3/connectionpool.py\", line 845, in urlopen\n",
            "    retries = retries.increment(\n",
            "  File \"/usr/local/lib/python3.10/dist-packages/urllib3/util/retry.py\", line 515, in increment\n",
            "    raise MaxRetryError(_pool, url, reason) from reason  # type: ignore[arg-type]\n",
            "urllib3.exceptions.MaxRetryError: HTTPSConnectionPool(host='open.bigmodel.cn', port=443): Max retries exceeded with url: /api/paas/v3/model-api/characterglm/async-invoke (Caused by SSLError(SSLEOFError(8, '[SSL: UNEXPECTED_EOF_WHILE_READING] EOF occurred in violation of protocol (_ssl.c:1007)')))\n",
            "\n",
            "During handling of the above exception, another exception occurred:\n",
            "\n",
            "Traceback (most recent call last):\n",
            "  File \"/usr/local/lib/python3.10/dist-packages/zhipuai/utils/http_client.py\", line 16, in post\n",
            "    resp = requests.post(\n",
            "  File \"/usr/local/lib/python3.10/dist-packages/requests/api.py\", line 115, in post\n",
            "    return request(\"post\", url, data=data, json=json, **kwargs)\n",
            "  File \"/usr/local/lib/python3.10/dist-packages/requests/api.py\", line 59, in request\n",
            "    return session.request(method=method, url=url, **kwargs)\n",
            "  File \"/usr/local/lib/python3.10/dist-packages/requests/sessions.py\", line 589, in request\n",
            "    resp = self.send(prep, **send_kwargs)\n",
            "  File \"/usr/local/lib/python3.10/dist-packages/requests/sessions.py\", line 703, in send\n",
            "    r = adapter.send(request, **kwargs)\n",
            "  File \"/usr/local/lib/python3.10/dist-packages/requests/adapters.py\", line 517, in send\n",
            "    raise SSLError(e, request=request)\n",
            "requests.exceptions.SSLError: HTTPSConnectionPool(host='open.bigmodel.cn', port=443): Max retries exceeded with url: /api/paas/v3/model-api/characterglm/async-invoke (Caused by SSLError(SSLEOFError(8, '[SSL: UNEXPECTED_EOF_WHILE_READING] EOF occurred in violation of protocol (_ssl.c:1007)')))\n",
            "\n",
            "During handling of the above exception, another exception occurred:\n",
            "\n",
            "Traceback (most recent call last):\n",
            "  File \"/usr/lib/python3.10/logging/__init__.py\", line 1100, in emit\n",
            "    msg = self.format(record)\n",
            "  File \"/usr/lib/python3.10/logging/__init__.py\", line 943, in format\n",
            "    return fmt.format(record)\n",
            "  File \"/usr/lib/python3.10/logging/__init__.py\", line 678, in format\n",
            "    record.message = record.getMessage()\n",
            "  File \"/usr/lib/python3.10/logging/__init__.py\", line 368, in getMessage\n",
            "    msg = msg % self.args\n",
            "TypeError: not all arguments converted during string formatting\n",
            "Call stack:\n",
            "  File \"/usr/lib/python3.10/threading.py\", line 973, in _bootstrap\n",
            "    self._bootstrap_inner()\n",
            "  File \"/usr/lib/python3.10/threading.py\", line 1016, in _bootstrap_inner\n",
            "    self.run()\n",
            "  File \"/usr/lib/python3.10/threading.py\", line 953, in run\n",
            "    self._target(*self._args, **self._kwargs)\n",
            "  File \"/usr/lib/python3.10/concurrent/futures/thread.py\", line 83, in _worker\n",
            "    work_item.run()\n",
            "  File \"/usr/lib/python3.10/concurrent/futures/thread.py\", line 58, in run\n",
            "    result = self.fn(*self.args, **self.kwargs)\n",
            "  File \"/usr/local/lib/python3.10/dist-packages/zhipuai/model_api/api.py\", line 25, in async_invoke\n",
            "    return post(url, cls._generate_token(), kwargs, zhipuai.api_timeout_seconds)\n",
            "  File \"/usr/local/lib/python3.10/dist-packages/zhipuai/utils/http_client.py\", line 23, in post\n",
            "    logging.exception(\"请求异常\", e)\n",
            "Message: '请求异常'\n",
            "Arguments: (SSLError(MaxRetryError(\"HTTPSConnectionPool(host='open.bigmodel.cn', port=443): Max retries exceeded with url: /api/paas/v3/model-api/characterglm/async-invoke (Caused by SSLError(SSLEOFError(8, '[SSL: UNEXPECTED_EOF_WHILE_READING] EOF occurred in violation of protocol (_ssl.c:1007)')))\")),)\n"
          ]
        },
        {
          "output_type": "stream",
          "name": "stdout",
          "text": [
            "failed to send request,  犬夜叉   PA-15\n"
          ]
        },
        {
          "output_type": "stream",
          "name": "stderr",
          "text": [
            "--- Logging error ---\n",
            "Traceback (most recent call last):\n",
            "  File \"/usr/local/lib/python3.10/dist-packages/urllib3/connectionpool.py\", line 791, in urlopen\n",
            "    response = self._make_request(\n",
            "  File \"/usr/local/lib/python3.10/dist-packages/urllib3/connectionpool.py\", line 537, in _make_request\n",
            "    response = conn.getresponse()\n",
            "  File \"/usr/local/lib/python3.10/dist-packages/urllib3/connection.py\", line 461, in getresponse\n",
            "    httplib_response = super().getresponse()\n",
            "  File \"/usr/lib/python3.10/http/client.py\", line 1375, in getresponse\n",
            "    response.begin()\n",
            "  File \"/usr/lib/python3.10/http/client.py\", line 318, in begin\n",
            "    version, status, reason = self._read_status()\n",
            "  File \"/usr/lib/python3.10/http/client.py\", line 287, in _read_status\n",
            "    raise RemoteDisconnected(\"Remote end closed connection without\"\n",
            "http.client.RemoteDisconnected: Remote end closed connection without response\n",
            "\n",
            "During handling of the above exception, another exception occurred:\n",
            "\n",
            "Traceback (most recent call last):\n",
            "  File \"/usr/local/lib/python3.10/dist-packages/requests/adapters.py\", line 486, in send\n",
            "    resp = conn.urlopen(\n",
            "  File \"/usr/local/lib/python3.10/dist-packages/urllib3/connectionpool.py\", line 845, in urlopen\n",
            "    retries = retries.increment(\n",
            "  File \"/usr/local/lib/python3.10/dist-packages/urllib3/util/retry.py\", line 470, in increment\n",
            "    raise reraise(type(error), error, _stacktrace)\n",
            "  File \"/usr/local/lib/python3.10/dist-packages/urllib3/util/util.py\", line 38, in reraise\n",
            "    raise value.with_traceback(tb)\n",
            "  File \"/usr/local/lib/python3.10/dist-packages/urllib3/connectionpool.py\", line 791, in urlopen\n",
            "    response = self._make_request(\n",
            "  File \"/usr/local/lib/python3.10/dist-packages/urllib3/connectionpool.py\", line 537, in _make_request\n",
            "    response = conn.getresponse()\n",
            "  File \"/usr/local/lib/python3.10/dist-packages/urllib3/connection.py\", line 461, in getresponse\n",
            "    httplib_response = super().getresponse()\n",
            "  File \"/usr/lib/python3.10/http/client.py\", line 1375, in getresponse\n",
            "    response.begin()\n",
            "  File \"/usr/lib/python3.10/http/client.py\", line 318, in begin\n",
            "    version, status, reason = self._read_status()\n",
            "  File \"/usr/lib/python3.10/http/client.py\", line 287, in _read_status\n",
            "    raise RemoteDisconnected(\"Remote end closed connection without\"\n",
            "urllib3.exceptions.ProtocolError: ('Connection aborted.', RemoteDisconnected('Remote end closed connection without response'))\n",
            "\n",
            "During handling of the above exception, another exception occurred:\n",
            "\n",
            "Traceback (most recent call last):\n",
            "  File \"/usr/local/lib/python3.10/dist-packages/zhipuai/utils/http_client.py\", line 16, in post\n",
            "    resp = requests.post(\n",
            "  File \"/usr/local/lib/python3.10/dist-packages/requests/api.py\", line 115, in post\n",
            "    return request(\"post\", url, data=data, json=json, **kwargs)\n",
            "  File \"/usr/local/lib/python3.10/dist-packages/requests/api.py\", line 59, in request\n",
            "    return session.request(method=method, url=url, **kwargs)\n",
            "  File \"/usr/local/lib/python3.10/dist-packages/requests/sessions.py\", line 589, in request\n",
            "    resp = self.send(prep, **send_kwargs)\n",
            "  File \"/usr/local/lib/python3.10/dist-packages/requests/sessions.py\", line 703, in send\n",
            "    r = adapter.send(request, **kwargs)\n",
            "  File \"/usr/local/lib/python3.10/dist-packages/requests/adapters.py\", line 501, in send\n",
            "    raise ConnectionError(err, request=request)\n",
            "requests.exceptions.ConnectionError: ('Connection aborted.', RemoteDisconnected('Remote end closed connection without response'))\n",
            "\n",
            "During handling of the above exception, another exception occurred:\n",
            "\n",
            "Traceback (most recent call last):\n",
            "  File \"/usr/lib/python3.10/logging/__init__.py\", line 1100, in emit\n",
            "    msg = self.format(record)\n",
            "  File \"/usr/lib/python3.10/logging/__init__.py\", line 943, in format\n",
            "    return fmt.format(record)\n",
            "  File \"/usr/lib/python3.10/logging/__init__.py\", line 678, in format\n",
            "    record.message = record.getMessage()\n",
            "  File \"/usr/lib/python3.10/logging/__init__.py\", line 368, in getMessage\n",
            "    msg = msg % self.args\n",
            "TypeError: not all arguments converted during string formatting\n",
            "Call stack:\n",
            "  File \"/usr/lib/python3.10/threading.py\", line 973, in _bootstrap\n",
            "    self._bootstrap_inner()\n",
            "  File \"/usr/lib/python3.10/threading.py\", line 1016, in _bootstrap_inner\n",
            "    self.run()\n",
            "  File \"/usr/lib/python3.10/threading.py\", line 953, in run\n",
            "    self._target(*self._args, **self._kwargs)\n",
            "  File \"/usr/lib/python3.10/concurrent/futures/thread.py\", line 83, in _worker\n",
            "    work_item.run()\n",
            "  File \"/usr/lib/python3.10/concurrent/futures/thread.py\", line 58, in run\n",
            "    result = self.fn(*self.args, **self.kwargs)\n",
            "  File \"/usr/local/lib/python3.10/dist-packages/zhipuai/model_api/api.py\", line 25, in async_invoke\n",
            "    return post(url, cls._generate_token(), kwargs, zhipuai.api_timeout_seconds)\n",
            "  File \"/usr/local/lib/python3.10/dist-packages/zhipuai/utils/http_client.py\", line 23, in post\n",
            "    logging.exception(\"请求异常\", e)\n",
            "Message: '请求异常'\n",
            "Arguments: (ConnectionError(ProtocolError('Connection aborted.', RemoteDisconnected('Remote end closed connection without response'))),)\n"
          ]
        },
        {
          "output_type": "stream",
          "name": "stdout",
          "text": [
            "failed to send request,  伯恩   Wanderer\n"
          ]
        },
        {
          "output_type": "stream",
          "name": "stderr",
          "text": [
            "Processing items:  31%|███▏      | 188/600 [19:42<07:14,  1.05s/it]"
          ]
        },
        {
          "output_type": "stream",
          "name": "stdout",
          "text": [
            "failed to send request,  文森特   简·爱\n"
          ]
        },
        {
          "output_type": "stream",
          "name": "stderr",
          "text": [
            "Processing items:  35%|███▌      | 211/600 [20:51<06:32,  1.01s/it]--- Logging error ---\n",
            "Traceback (most recent call last):\n",
            "  File \"/usr/local/lib/python3.10/dist-packages/urllib3/connectionpool.py\", line 468, in _make_request\n",
            "    self._validate_conn(conn)\n",
            "  File \"/usr/local/lib/python3.10/dist-packages/urllib3/connectionpool.py\", line 1097, in _validate_conn\n",
            "    conn.connect()\n",
            "  File \"/usr/local/lib/python3.10/dist-packages/urllib3/connection.py\", line 642, in connect\n",
            "    sock_and_verified = _ssl_wrap_socket_and_match_hostname(\n",
            "  File \"/usr/local/lib/python3.10/dist-packages/urllib3/connection.py\", line 783, in _ssl_wrap_socket_and_match_hostname\n",
            "    ssl_sock = ssl_wrap_socket(\n",
            "  File \"/usr/local/lib/python3.10/dist-packages/urllib3/util/ssl_.py\", line 471, in ssl_wrap_socket\n",
            "    ssl_sock = _ssl_wrap_socket_impl(sock, context, tls_in_tls, server_hostname)\n",
            "  File \"/usr/local/lib/python3.10/dist-packages/urllib3/util/ssl_.py\", line 515, in _ssl_wrap_socket_impl\n",
            "    return ssl_context.wrap_socket(sock, server_hostname=server_hostname)\n",
            "  File \"/usr/lib/python3.10/ssl.py\", line 513, in wrap_socket\n",
            "    return self.sslsocket_class._create(\n",
            "  File \"/usr/lib/python3.10/ssl.py\", line 1100, in _create\n",
            "    self.do_handshake()\n",
            "  File \"/usr/lib/python3.10/ssl.py\", line 1371, in do_handshake\n",
            "    self._sslobj.do_handshake()\n",
            "ssl.SSLEOFError: [SSL: UNEXPECTED_EOF_WHILE_READING] EOF occurred in violation of protocol (_ssl.c:1007)\n",
            "\n",
            "During handling of the above exception, another exception occurred:\n",
            "\n",
            "Traceback (most recent call last):\n",
            "  File \"/usr/local/lib/python3.10/dist-packages/urllib3/connectionpool.py\", line 791, in urlopen\n",
            "    response = self._make_request(\n",
            "  File \"/usr/local/lib/python3.10/dist-packages/urllib3/connectionpool.py\", line 492, in _make_request\n",
            "    raise new_e\n",
            "urllib3.exceptions.SSLError: [SSL: UNEXPECTED_EOF_WHILE_READING] EOF occurred in violation of protocol (_ssl.c:1007)\n",
            "\n",
            "The above exception was the direct cause of the following exception:\n",
            "\n",
            "Traceback (most recent call last):\n",
            "  File \"/usr/local/lib/python3.10/dist-packages/requests/adapters.py\", line 486, in send\n",
            "    resp = conn.urlopen(\n",
            "  File \"/usr/local/lib/python3.10/dist-packages/urllib3/connectionpool.py\", line 845, in urlopen\n",
            "    retries = retries.increment(\n",
            "  File \"/usr/local/lib/python3.10/dist-packages/urllib3/util/retry.py\", line 515, in increment\n",
            "    raise MaxRetryError(_pool, url, reason) from reason  # type: ignore[arg-type]\n",
            "urllib3.exceptions.MaxRetryError: HTTPSConnectionPool(host='open.bigmodel.cn', port=443): Max retries exceeded with url: /api/paas/v3/model-api/-/async-invoke/10616905317062558284004105919376420 (Caused by SSLError(SSLEOFError(8, '[SSL: UNEXPECTED_EOF_WHILE_READING] EOF occurred in violation of protocol (_ssl.c:1007)')))\n",
            "\n",
            "During handling of the above exception, another exception occurred:\n",
            "\n",
            "Traceback (most recent call last):\n",
            "  File \"/usr/local/lib/python3.10/dist-packages/zhipuai/utils/http_client.py\", line 45, in get\n",
            "    resp = requests.get(api_url, headers=headers, timeout=timeout)\n",
            "  File \"/usr/local/lib/python3.10/dist-packages/requests/api.py\", line 73, in get\n",
            "    return request(\"get\", url, params=params, **kwargs)\n",
            "  File \"/usr/local/lib/python3.10/dist-packages/requests/api.py\", line 59, in request\n",
            "    return session.request(method=method, url=url, **kwargs)\n",
            "  File \"/usr/local/lib/python3.10/dist-packages/requests/sessions.py\", line 589, in request\n",
            "    resp = self.send(prep, **send_kwargs)\n",
            "  File \"/usr/local/lib/python3.10/dist-packages/requests/sessions.py\", line 703, in send\n",
            "    r = adapter.send(request, **kwargs)\n",
            "  File \"/usr/local/lib/python3.10/dist-packages/requests/adapters.py\", line 517, in send\n",
            "    raise SSLError(e, request=request)\n",
            "requests.exceptions.SSLError: HTTPSConnectionPool(host='open.bigmodel.cn', port=443): Max retries exceeded with url: /api/paas/v3/model-api/-/async-invoke/10616905317062558284004105919376420 (Caused by SSLError(SSLEOFError(8, '[SSL: UNEXPECTED_EOF_WHILE_READING] EOF occurred in violation of protocol (_ssl.c:1007)')))\n",
            "\n",
            "During handling of the above exception, another exception occurred:\n",
            "\n",
            "Traceback (most recent call last):\n",
            "  File \"/usr/lib/python3.10/logging/__init__.py\", line 1100, in emit\n",
            "    msg = self.format(record)\n",
            "  File \"/usr/lib/python3.10/logging/__init__.py\", line 943, in format\n",
            "    return fmt.format(record)\n",
            "  File \"/usr/lib/python3.10/logging/__init__.py\", line 678, in format\n",
            "    record.message = record.getMessage()\n",
            "  File \"/usr/lib/python3.10/logging/__init__.py\", line 368, in getMessage\n",
            "    msg = msg % self.args\n",
            "TypeError: not all arguments converted during string formatting\n",
            "Call stack:\n",
            "  File \"/usr/lib/python3.10/threading.py\", line 973, in _bootstrap\n",
            "    self._bootstrap_inner()\n",
            "  File \"/usr/lib/python3.10/threading.py\", line 1016, in _bootstrap_inner\n",
            "    self.run()\n",
            "  File \"/usr/lib/python3.10/threading.py\", line 953, in run\n",
            "    self._target(*self._args, **self._kwargs)\n",
            "  File \"/usr/lib/python3.10/concurrent/futures/thread.py\", line 83, in _worker\n",
            "    work_item.run()\n",
            "  File \"/usr/lib/python3.10/concurrent/futures/thread.py\", line 58, in run\n",
            "    result = self.fn(*self.args, **self.kwargs)\n",
            "  File \"/usr/local/lib/python3.10/dist-packages/zhipuai/model_api/api.py\", line 30, in query_async_invoke_result\n",
            "    return get(url, cls._generate_token(), zhipuai.api_timeout_seconds)\n",
            "  File \"/usr/local/lib/python3.10/dist-packages/zhipuai/utils/http_client.py\", line 50, in get\n",
            "    logging.exception(\"请求异常\", e)\n",
            "Message: '请求异常'\n",
            "Arguments: (SSLError(MaxRetryError(\"HTTPSConnectionPool(host='open.bigmodel.cn', port=443): Max retries exceeded with url: /api/paas/v3/model-api/-/async-invoke/10616905317062558284004105919376420 (Caused by SSLError(SSLEOFError(8, '[SSL: UNEXPECTED_EOF_WHILE_READING] EOF occurred in violation of protocol (_ssl.c:1007)')))\")),)\n"
          ]
        },
        {
          "output_type": "stream",
          "name": "stdout",
          "text": [
            "Error processing entry: argument of type 'NoneType' is not iterable\n"
          ]
        }
      ]
    },
    {
      "cell_type": "code",
      "source": [],
      "metadata": {
        "id": "-3Tu2UzzcTO9"
      },
      "execution_count": null,
      "outputs": []
    }
  ]
}